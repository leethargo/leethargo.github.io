{
 "cells": [
  {
   "cell_type": "code",
   "execution_count": null,
   "metadata": {},
   "outputs": [],
   "source": [
    "# Activate custom environment\n",
    "using Pkg\n",
    "Pkg.activate(\"../../environments/food-triangle/\");"
   ]
  },
  {
   "cell_type": "code",
   "execution_count": null,
   "metadata": {},
   "outputs": [],
   "source": [
    "using CSV\n",
    "using DataFrames\n",
    "using VegaLite"
   ]
  },
  {
   "cell_type": "code",
   "execution_count": null,
   "metadata": {},
   "outputs": [],
   "source": [
    "foods = DataFrame(CSV.File(\"../files/foods.csv\"))\n",
    "first(foods, 3)"
   ]
  },
  {
   "cell_type": "markdown",
   "metadata": {},
   "source": [
    "## Food Triangle"
   ]
  },
  {
   "cell_type": "code",
   "execution_count": null,
   "metadata": {},
   "outputs": [],
   "source": [
    "FAT_CHO = ((16.0 .* foods.Carbohydrates - 37.0 .* foods.Fat)\n",
    "            ./ (37.0 .* foods.Fat .+ 16.0 .* foods.Carbohydrates))\n",
    "foods.FAT_CHO = FAT_CHO .* foods.Energy\n",
    "first(foods, 3)"
   ]
  },
  {
   "cell_type": "code",
   "execution_count": null,
   "metadata": {
    "scrolled": false
   },
   "outputs": [],
   "source": [
    "foods |> @vlplot(height=400, width=600, :point,\n",
    "                 x=:FAT_CHO, y={:Energy, sort=\"descending\"}, color=:Source)"
   ]
  },
  {
   "cell_type": "markdown",
   "metadata": {},
   "source": [
    "## Plant-based Food"
   ]
  },
  {
   "cell_type": "code",
   "execution_count": null,
   "metadata": {},
   "outputs": [],
   "source": [
    "filter(row -> row.Source == \"Plant\", foods) |>\n",
    "    @vlplot(height=400, width=600, :point,\n",
    "            x=:FAT_CHO, y={:Energy, sort=\"descending\"}, color=:Category)"
   ]
  },
  {
   "cell_type": "code",
   "execution_count": null,
   "metadata": {},
   "outputs": [],
   "source": [
    "filter(row -> row.Category in (\"Nut\", \"Seed\"), foods) |>\n",
    "    @vlplot(height=400, width=600, :text, text=:Food,\n",
    "            x=:FAT_CHO, y={:Energy, sort=\"descending\", scale={zero=false}}, color=:Category)"
   ]
  },
  {
   "cell_type": "code",
   "execution_count": null,
   "metadata": {},
   "outputs": [],
   "source": []
  },
  {
   "cell_type": "code",
   "execution_count": null,
   "metadata": {},
   "outputs": [],
   "source": [
    "filter(row -> row.Source == \"Plant\" && !(row.Category in (\"Nut\", \"Seed\")), foods) |>\n",
    " @vlplot(height=400, width=600, :point,\n",
    "         x=:FAT_CHO, y={:Energy, sort=\"descending\"}, color=:Category)"
   ]
  },
  {
   "cell_type": "code",
   "execution_count": null,
   "metadata": {},
   "outputs": [],
   "source": [
    "filter(row -> row.Source == \"Plant\" && !(row.Category in (\"Nut\", \"Seed\"))\n",
    "              && row.Energy > 400.0, foods) |>\n",
    " @vlplot(height=400, width=600, :text, text=:Food,\n",
    "         x=:FAT_CHO, y={:Energy, sort=\"descending\",scale={zero=false}}, color=:Category)"
   ]
  },
  {
   "cell_type": "code",
   "execution_count": null,
   "metadata": {},
   "outputs": [],
   "source": [
    "filter(row -> row.Source == \"Plant\" && !(row.Category in (\"Nut\", \"Seed\"))\n",
    "              && row.Energy < 120.0, foods) |>\n",
    " @vlplot(height=400, width=600, :text, text=:Food,\n",
    "         x=:FAT_CHO, y={:Energy, sort=\"descending\",scale={zero=false}}, color=:Category)"
   ]
  },
  {
   "cell_type": "code",
   "execution_count": null,
   "metadata": {},
   "outputs": [],
   "source": [
    "filter(row -> row.Category == \"Vegetable\" &&  row.Fat < 20, foods) |>\n",
    "    @vlplot(height=400, width=600, :text, text=:Food,\n",
    "            x=:FAT_CHO, y={:Energy, sort=\"descending\", scale={zero=false}}, color=:Category)"
   ]
  },
  {
   "cell_type": "code",
   "execution_count": null,
   "metadata": {},
   "outputs": [],
   "source": [
    "filter(row -> row.Category in (\"Grain\", \"Legume\"), foods) |>\n",
    "    @vlplot(height=400, width=600, :text, text=:Food,\n",
    "            x=:FAT_CHO, y={:Energy, sort=\"descending\", scale={zero=false}}, color=:Category)"
   ]
  },
  {
   "cell_type": "markdown",
   "metadata": {},
   "source": [
    "## Animal-based Foods"
   ]
  },
  {
   "cell_type": "code",
   "execution_count": null,
   "metadata": {},
   "outputs": [],
   "source": [
    "filter(row -> row.Source == \"Animal\", foods) |>\n",
    " @vlplot(height=400, width=600, :point,\n",
    "         x=:FAT_CHO, y={:Energy, sort=\"descending\",scale={zero=false}}, color=:Category)"
   ]
  },
  {
   "cell_type": "code",
   "execution_count": null,
   "metadata": {},
   "outputs": [],
   "source": [
    "first(sort(foods, :Energy, rev=true), 3)"
   ]
  },
  {
   "cell_type": "code",
   "execution_count": null,
   "metadata": {},
   "outputs": [],
   "source": [
    "filter(row -> row.Source == \"Animal\" && row.Energy < 500.0, foods) |>\n",
    " @vlplot(height=400, width=600, :text, text=:Food,\n",
    "         x=:FAT_CHO, y={:Energy, sort=\"descending\",scale={zero=false}}, color=:Category)"
   ]
  },
  {
   "cell_type": "code",
   "execution_count": null,
   "metadata": {},
   "outputs": [],
   "source": [
    "filter(row -> row.Source == \"Animal\" && 900.0 < row.Energy < 2000.0, foods) |>\n",
    " @vlplot(height=400, width=600, :text, text=:Food,\n",
    "         x=:FAT_CHO, y={:Energy, sort=\"descending\",scale={zero=false}}, color=:Category)"
   ]
  },
  {
   "cell_type": "markdown",
   "metadata": {},
   "source": [
    "## Energy Density"
   ]
  },
  {
   "cell_type": "code",
   "execution_count": null,
   "metadata": {},
   "outputs": [],
   "source": [
    "foods |> @vlplot(height=400, width=600, :line,\n",
    "    transform=[{density=\"Energy\", bandwidth=200, groupby=[\"Source\"]}],\n",
    "    x={\"value:q\", title=\"Energy\"}, y=\"density:q\", color=:Source)"
   ]
  },
  {
   "cell_type": "code",
   "execution_count": null,
   "metadata": {},
   "outputs": [],
   "source": [
    "filter(row -> row.Source==\"Plant\" ,foods) |>\n",
    "    @vlplot(height=400, width=600, :line,\n",
    "    transform=[{density=\"Energy\", bandwidth=200, groupby=[\"Category\"]}],\n",
    "    x={\"value:q\", title=\"Energy\"}, y=\"density:q\", color=:Category)"
   ]
  },
  {
   "cell_type": "code",
   "execution_count": null,
   "metadata": {},
   "outputs": [],
   "source": [
    "filter(row -> row.Source==\"Animal\" ,foods) |>\n",
    "    @vlplot(height=400, width=600, :line,\n",
    "    transform=[{density=\"Energy\", bandwidth=200, groupby=[\"Category\"]}],\n",
    "    x={\"value:q\", title=\"Energy\"}, y=\"density:q\", color=:Category)"
   ]
  },
  {
   "cell_type": "markdown",
   "metadata": {},
   "source": [
    "## Protein"
   ]
  },
  {
   "cell_type": "code",
   "execution_count": null,
   "metadata": {},
   "outputs": [],
   "source": [
    "foods.Protein_Density = 17.0 .* foods.Protein ./ foods.Energy\n",
    "foods |> @vlplot(height=400, width=600, :line,\n",
    "    transform=[{density=\"Protein_Density\", bandwidth=0.1, groupby=[\"Source\"]}],\n",
    "    x={\"value:q\", title=\"Energy from Protein\"}, y=\"density:q\", color=:Source)"
   ]
  },
  {
   "cell_type": "code",
   "execution_count": null,
   "metadata": {},
   "outputs": [],
   "source": [
    "foods |> @vlplot(height=400, width=600, :point,\n",
    "    x=:Protein, y={:Energy, sort=\"descending\", scale={zero=false}}, color=:Source)"
   ]
  },
  {
   "cell_type": "code",
   "execution_count": null,
   "metadata": {},
   "outputs": [],
   "source": [
    "foods |> @vlplot(height=400, width=600, :point,\n",
    "    x=:Protein, y={:Fat, sort=\"descending\"}, color=:Source)"
   ]
  },
  {
   "cell_type": "code",
   "execution_count": null,
   "metadata": {},
   "outputs": [],
   "source": [
    "filter(row -> row.Fat < 20 && row.Protein > 20, foods) |> \n",
    "    @vlplot(height=400, width=600, :text, text=\"Food\",\n",
    "    x={:Protein, scale={zero=false}}, y={:Fat, sort=\"descending\"}, color=:Category)"
   ]
  },
  {
   "cell_type": "code",
   "execution_count": null,
   "metadata": {},
   "outputs": [],
   "source": []
  }
 ],
 "metadata": {
  "kernelspec": {
   "display_name": "Julia 1.4.1",
   "language": "julia",
   "name": "julia-1.4"
  },
  "language_info": {
   "file_extension": ".jl",
   "mimetype": "application/julia",
   "name": "julia",
   "version": "1.4.1"
  },
  "nikola": {
   "category": "",
   "date": "2020-07-05 15:00:11 UTC+02:00",
   "description": "",
   "link": "",
   "slug": "the-food-triangle-quantified",
   "tags": "",
   "title": "The Food Triangle Quantified",
   "type": "text"
  }
 },
 "nbformat": 4,
 "nbformat_minor": 2
}

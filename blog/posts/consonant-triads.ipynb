{
 "cells": [
  {
   "cell_type": "markdown",
   "metadata": {},
   "source": [
    "Write your post here."
   ]
  }
 ],
 "metadata": {
  "kernelspec": {
   "display_name": "Julia 0.6.2",
   "env": {},
   "interrupt_mode": "signal",
   "language": "julia",
   "metadata": {},
   "name": "julia-0.6"
  },
  "nikola": {
   "category": "",
   "date": "2018-04-18 17:25:16 UTC+02:00",
   "description": "",
   "link": "",
   "slug": "consonant-triads",
   "tags": "",
   "title": "Consonant Triads",
   "type": "text"
  }
 },
 "nbformat": 4,
 "nbformat_minor": 2
}

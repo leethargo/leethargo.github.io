{
 "cells": [
  {
   "cell_type": "markdown",
   "metadata": {},
   "source": [
    "We compare the macronutrional content of baby formula with that of cow's milk and then try to recreate the formula by blending milk with water and adding supplements as needed.\n",
    "\n",
    "Human milk has a vastly different macronutrient composition compared to that of other mammals, in particular cows. While the energy content is about the same, it is much richer in carbs and a lot lower in protein. The reasoning is that human babies already have a large and active brain for learning and need the sugar to fuel it. At the same time, their body does not need to grow as rapidly as that of other mammals who are already much more mature when born.\n",
    "\n",
    "For parents who do not (or no longer) breastfeed their baby, a substitute can be used made from a powder, which mimics the nutritional content of human milk. As the baby turns older, and its digestive system is already used to different kinds of foods, cow milk (and other dairy products) may be introduced in the diet.\n",
    "\n",
    "From other parents, I have heard that they will not feed cow's milk as is, but dilute it with water during the night. I wondered whether this approach is justified with respect to the macronutrients which led to the following analysis.\n",
    "\n",
    "**This analysis is done purely out of curiosity. Please consult a health care professional prior to changing your infant's diet!**"
   ]
  },
  {
   "cell_type": "markdown",
   "metadata": {},
   "source": [
    "# Data\n",
    "\n",
    "As a reference for baby formula, we will use [Hipp PRE BIO COMBIOTIK](https://www.hipp.de/milchnahrung/produkte/hipp-combiotikR/hipp-bio-combiotikR-anfangsmilch/hipp-pre-bio-combiotikR/). They provide the following data on macronutrients:\n",
    "\n",
    "    (Energy: 66 kcal / 100 ml)\n",
    "    Fat: 3.5 g / 100 ml\n",
    "    Carbs: 7.3 g / 100 ml\n",
    "    Protein: 1.25 g / 100 ml\n",
    "\n",
    "For cow's milk, we will use both whole milk as well as reduced-fat milk. The macronutrients as given for milk at LIDL are, for whole milk:\n",
    "\n",
    "    (Energy: 68 kcal / 100 ml)\n",
    "    Fat: 3.9 g / 100 ml\n",
    "    Carbs: 4.9 g / 100 ml\n",
    "    Protein: 3.4 g / 100 ml\n",
    "\n",
    "And for reduced-fat milk:\n",
    "\n",
    "    (Energy: 48 kcal / 100 ml)\n",
    "    Fat: 1.6 g / 100 ml\n",
    "    Carbs: 4.9 g / 100 ml\n",
    "    Protein: 3.5 g / 100 ml\n"
   ]
  },
  {
   "cell_type": "markdown",
   "metadata": {},
   "source": [
    "# Model\n",
    "\n",
    "We setup an optimization model inspired by the classical [diet problem](https://en.wikipedia.org/wiki/Stigler_diet), where we want to use four ingredients (water, whole milk, reduced-fat milk, lactose) to match the nutrional profile of baby formula.\n",
    "\n",
    "My thinking was that a blend of whole milk and reduced-fat milk should get the amount of fat right, while a dilution with water will get the protein level down to the target. Finally, we can add sugar in the form of lactose powder. This is widely available in drug stores, since it is also used as a mild laxative for infants."
   ]
  },
  {
   "cell_type": "code",
   "execution_count": 1,
   "metadata": {},
   "outputs": [],
   "source": [
    "using JuMP\n",
    "using GLPKMathProgInterface"
   ]
  },
  {
   "cell_type": "code",
   "execution_count": 2,
   "metadata": {},
   "outputs": [
    {
     "data": {
      "text/plain": [
       ":Optimal"
      ]
     },
     "execution_count": 2,
     "metadata": {},
     "output_type": "execute_result"
    }
   ],
   "source": [
    "m = Model(solver=GLPKSolverLP())\n",
    "\n",
    "# our ingredients (without the implicit water)\n",
    "@variable(m, whole_milk ≥ 0)   # in 100 ml\n",
    "@variable(m, lowfat_milk ≥ 0)  # in 100 ml\n",
    "@variable(m, lactose ≥ 0)      # in g\n",
    "\n",
    "# slack in our macro targets \n",
    "@variable(m, slack_fat ≥ 0)\n",
    "@variable(m, slack_carb ≥ 0)\n",
    "@variable(m, slack_protein ≥ 0)\n",
    "\n",
    "# fit liquid volume (100 ml)\n",
    "@constraint(m, whole_milk + lowfat_milk ≤ 1)\n",
    "\n",
    "# match fat content (g)\n",
    "@constraint(m, 3.9 * whole_milk + 1.6 * lowfat_milk == 3.5 + slack_fat)\n",
    "\n",
    "# match carb content (g)\n",
    "@constraint(m, 4.9 * whole_milk + 4.9 * lowfat_milk + lactose == 7.3  + slack_carb )\n",
    "\n",
    "# match protein content (g)\n",
    "@constraint(m, 3.4 * whole_milk + 3.5 * lowfat_milk == 1.25  + slack_protein)\n",
    "\n",
    "# minimize the mismatch of target\n",
    "@objective(m, :Min, slack_carb + slack_fat + slack_protein);\n",
    "\n",
    "status = solve(m)"
   ]
  },
  {
   "cell_type": "code",
   "execution_count": 3,
   "metadata": {},
   "outputs": [
    {
     "name": "stdout",
     "output_type": "stream",
     "text": [
      "getvalue(whole_milk) = 0.8974358974358976\n",
      "getvalue(lowfat_milk) = 0.0\n",
      "getvalue(lactose) = 2.902564102564101\n",
      "getvalue(slack_fat) = 0.0\n",
      "getvalue(slack_carb) = 0.0\n",
      "getvalue(slack_protein) = 1.8012820512820515\n"
     ]
    }
   ],
   "source": [
    "@show getvalue(whole_milk) getvalue(lowfat_milk) getvalue(lactose)\n",
    "@show getvalue(slack_fat) getvalue(slack_carb) getvalue(slack_protein);"
   ]
  },
  {
   "cell_type": "markdown",
   "metadata": {},
   "source": [
    "It seems that we can not get a perfect match since the slack variables are not zero.\n",
    "\n",
    "In particular, we will overshoot the protein content, or else not meet the fat content. So, with these ingredients, we will not be able to reproduce the baby formula as planned."
   ]
  },
  {
   "cell_type": "markdown",
   "metadata": {},
   "source": [
    "## Adding Canola Oil\n",
    "\n",
    "In order to reduce the protein content, we need another non-dairy fat source. Let us use rapeseed oil which is often recommended for preparation of (non-dairy) infant meals because of its neutral taste and rich content of essential fatty acids (omega-3)."
   ]
  },
  {
   "cell_type": "code",
   "execution_count": 4,
   "metadata": {},
   "outputs": [
    {
     "data": {
      "text/plain": [
       ":Optimal"
      ]
     },
     "execution_count": 4,
     "metadata": {},
     "output_type": "execute_result"
    }
   ],
   "source": [
    "m = Model(solver=GLPKSolverLP())\n",
    "\n",
    "# our ingredients\n",
    "@variable(m, whole_milk ≥ 0)   # in 100 ml\n",
    "@variable(m, lowfat_milk ≥ 0)  # in 100 ml\n",
    "@variable(m, lactose ≥ 0)      # in g\n",
    "@variable(m, oil ≥ 0)  # in g\n",
    "\n",
    "# no slack variables this time, we are confident in feasibility!\n",
    "\n",
    "# fit liquid volume (100ml)\n",
    "@constraint(m, whole_milk + lowfat_milk ≤ 1)\n",
    "\n",
    "# match fat content (g)\n",
    "@constraint(m, 3.9 * whole_milk + 1.6 * lowfat_milk + oil == 3.5)\n",
    "\n",
    "# match carb content (g)\n",
    "@constraint(m, 4.9 * whole_milk + 4.9 * lowfat_milk + lactose == 7.3)\n",
    "\n",
    "# match protein content (g)\n",
    "@constraint(m, 3.4 * whole_milk + 3.5 * lowfat_milk == 1.25)\n",
    "\n",
    "# minimize supplements\n",
    "@objective(m, :Min, lactose + oil);\n",
    "\n",
    "status = solve(m)"
   ]
  },
  {
   "cell_type": "code",
   "execution_count": 5,
   "metadata": {},
   "outputs": [
    {
     "name": "stdout",
     "output_type": "stream",
     "text": [
      "getvalue(whole_milk) = 0.36764705882352944\n",
      "getvalue(lowfat_milk) = 0.0\n",
      "getvalue(lactose) = 5.498529411764705\n",
      "getvalue(oil) = 2.0661764705882355\n"
     ]
    }
   ],
   "source": [
    "@show getvalue(whole_milk) getvalue(lowfat_milk) getvalue(lactose) getvalue(oil);"
   ]
  },
  {
   "cell_type": "markdown",
   "metadata": {},
   "source": [
    "The interpretation of this solution is as follows: To reproduce 100 ml of baby formula, we should mix 37 ml of whole milk with 5.5 g of lactose, 2 ml of oil and about 60 ml of water. Reduced-fat milk is not useful but both lactose and oil supplements are necessary.\n",
    "\n",
    "**Of course, this only takes the macronutrients into account, while the sophisticated baby formulas also strive to meet the micronutrient needs of the baby**."
   ]
  },
  {
   "cell_type": "markdown",
   "metadata": {},
   "source": [
    "## Diluting the Drink\n",
    "\n",
    "Once the infant has reached a certain age, it is not necessary to supply its body with food every 3-4 hours anymore. In particular, they do not really need to drink milk during the night and might only do so out of habit. In fact, it seems that at one year old, the infant does not need even need to get any liquid and will be fine anyways.\n",
    "\n",
    "At the same time, frequent food intake (in particular drinking) will increase the risk of tooth decay. So it makes sense to avoid night-time feeding.\n",
    "\n",
    "In order to ensure some peaceful sleep nonetheless, I would like to scale down the energy content of our night-time drink over time. We will end up with just water, but go there in small steps. We will use our ingredients (with supplements) from above but change the targets: Rather then fixing the macronutrient levels, we will only ask for a specific energy content and put a limit on the protein level, since the infant's kidney might not be ready to handle larger amounts yet."
   ]
  },
  {
   "cell_type": "code",
   "execution_count": 6,
   "metadata": {},
   "outputs": [
    {
     "data": {
      "text/plain": [
       "dilution (generic function with 2 methods)"
      ]
     },
     "execution_count": 6,
     "metadata": {},
     "output_type": "execute_result"
    }
   ],
   "source": [
    "function dilution(rel_energy=1.0)\n",
    "    m = Model(solver=GLPKSolverLP())\n",
    "\n",
    "    # our ingredients\n",
    "    @variable(m, whole_milk ≥ 0)   # in 100 ml\n",
    "    @variable(m, lowfat_milk ≥ 0)  # in 100 ml\n",
    "    @variable(m, lactose ≥ 0)      # in g\n",
    "    @variable(m, oil ≥ 0)  # in g\n",
    "\n",
    "    # fit liquid volume (100ml)\n",
    "    @constraint(m, whole_milk + lowfat_milk ≤ 1)\n",
    "\n",
    "    # match energy content (kcal)\n",
    "    @constraint(m, 68 * whole_milk + 48 * lowfat_milk + 4 * lactose + 9 * oil == rel_energy * 66)\n",
    "    \n",
    "    # limit protein content (g)\n",
    "    @constraint(m, 3.4 * whole_milk + 3.5 * lowfat_milk <= 1.25)\n",
    "\n",
    "    # minimize supplements\n",
    "    @objective(m, :Min, lactose + oil);\n",
    "\n",
    "    status = solve(m)\n",
    "    sol = getvalue(whole_milk), getvalue(lowfat_milk), getvalue(lactose), getvalue(oil)\n",
    "    \n",
    "    return status, sol\n",
    "end"
   ]
  },
  {
   "cell_type": "code",
   "execution_count": 7,
   "metadata": {},
   "outputs": [
    {
     "data": {
      "text/plain": [
       "(:Optimal, (0.36764705882352944, 0.0, 0.0, 4.555555555555555))"
      ]
     },
     "execution_count": 7,
     "metadata": {},
     "output_type": "execute_result"
    }
   ],
   "source": [
    "status, sol = dilution(1)"
   ]
  },
  {
   "cell_type": "markdown",
   "metadata": {},
   "source": [
    "By using a parameter value of 1, we will get a drink with the same energy content as our baby formula, but with a more relaxed relation of macronutrients.\n",
    "\n",
    "Again, reduced-fat milk is not used and we find that only an oil supplement is needed but no sugar supplement. This makes sense, since the energy content of fat is higher than that of sugar and our objective here was to minimize the total mass of supplements.\n",
    "\n",
    "Let us now compute a sequence of solutions with increasingly low energy content, over the course of two weeks."
   ]
  },
  {
   "cell_type": "code",
   "execution_count": 8,
   "metadata": {},
   "outputs": [
    {
     "data": {
      "text/plain": [
       "14×4 Array{Float64,2}:\n",
       " 0.367647    0.0  0.0  4.55556  \n",
       " 0.367647    0.0  0.0  3.99145  \n",
       " 0.367647    0.0  0.0  3.42735  \n",
       " 0.367647    0.0  0.0  2.86325  \n",
       " 0.367647    0.0  0.0  2.29915  \n",
       " 0.367647    0.0  0.0  1.73505  \n",
       " 0.367647    0.0  0.0  1.17094  \n",
       " 0.367647    0.0  0.0  0.606842 \n",
       " 0.367647    0.0  0.0  0.0427396\n",
       " 0.298643    0.0  0.0  0.0      \n",
       " 0.223983    0.0  0.0  0.0      \n",
       " 0.149322    0.0  0.0  0.0      \n",
       " 0.0746615   0.0  0.0  0.0      \n",
       " 9.70588e-7  0.0  0.0  0.0      "
      ]
     },
     "execution_count": 8,
     "metadata": {},
     "output_type": "execute_result"
    }
   ],
   "source": [
    "# iterate over parameter range and collect solutions\n",
    "r = linspace(1.0, 1e-6, 14)\n",
    "sols = []\n",
    "for rel_nrg in r\n",
    "    status, sol = dilution(rel_nrg)\n",
    "    sol = collect(sol)' # tuple to row vector\n",
    "    push!(sols, sol)\n",
    "end\n",
    "\n",
    "# collect all solutions values into one 2d-array\n",
    "sols = vcat(sols...)"
   ]
  },
  {
   "cell_type": "markdown",
   "metadata": {},
   "source": [
    "We can see that we should never use more than 37 ml of whole milk per 100 ml of our drink.\n",
    "In the beginning, this amount of milk stays the same and the oil supplementation will go down to account for the reduced energy content. Only when there is no more oil to be added, does the amount of milk go down. At this point, we will only mix whole milk and water.\n",
    "\n",
    "Let us also analyze the macronutrient composition of our dilutions:"
   ]
  },
  {
   "cell_type": "code",
   "execution_count": 9,
   "metadata": {},
   "outputs": [
    {
     "data": {
      "text/plain": [
       "14×4 Array{Float64,2}:\n",
       " 5.98938     1.80147     1.25      66.1103    \n",
       " 5.42528     1.80147     1.25      61.0334    \n",
       " 4.86118     1.80147     1.25      55.9565    \n",
       " 4.29707     1.80147     1.25      50.8795    \n",
       " 3.73297     1.80147     1.25      45.8026    \n",
       " 3.16887     1.80147     1.25      40.7257    \n",
       " 2.60477     1.80147     1.25      35.6488    \n",
       " 2.04067     1.80147     1.25      30.5719    \n",
       " 1.47656     1.80147     1.25      25.495     \n",
       " 1.16471     1.46335     1.01539   20.3973    \n",
       " 0.873532    1.09751     0.761541  15.298     \n",
       " 0.582356    0.731678    0.507695  10.1987    \n",
       " 0.29118     0.365841    0.253849   5.09938   \n",
       " 3.78529e-6  4.75588e-6  3.3e-6     6.62912e-5"
      ]
     },
     "execution_count": 9,
     "metadata": {},
     "output_type": "execute_result"
    }
   ],
   "source": [
    "whole_milk, oil = sols[:, 1], sols[:, 4]\n",
    "\n",
    "fat = 3.9 * whole_milk + oil\n",
    "carbs = 4.9 * whole_milk\n",
    "protein = 3.4 * whole_milk\n",
    "\n",
    "energy = 9 * fat + 4 * carbs + 4 * protein\n",
    "\n",
    "macros = hcat(fat, carbs, protein, energy)"
   ]
  },
  {
   "cell_type": "markdown",
   "metadata": {},
   "source": [
    "Not surprisingly, our drink is relatively high in fat, more so than either whole milk or baby formula.\n",
    "\n",
    "Similarly, we can compute the relative energy from macros in the above sequence:"
   ]
  },
  {
   "cell_type": "code",
   "execution_count": 10,
   "metadata": {},
   "outputs": [
    {
     "data": {
      "text/plain": [
       "14×3 Array{Float64,2}:\n",
       " 0.815371  0.108998  0.0756312\n",
       " 0.800013  0.118065  0.0819224\n",
       " 0.781868  0.128777  0.0893552\n",
       " 0.760102  0.141626  0.0982713\n",
       " 0.733511  0.157325  0.109164 \n",
       " 0.70029   0.176937  0.122773 \n",
       " 0.657607  0.202135  0.140257 \n",
       " 0.600748  0.235703  0.163549 \n",
       " 0.521243  0.28264   0.196117 \n",
       " 0.513909  0.286969  0.199122 \n",
       " 0.513909  0.286969  0.199122 \n",
       " 0.513909  0.286969  0.199122 \n",
       " 0.513909  0.286969  0.199122 \n",
       " 0.513909  0.286969  0.199122 "
      ]
     },
     "execution_count": 10,
     "metadata": {},
     "output_type": "execute_result"
    }
   ],
   "source": [
    "macro_nrg = hcat(9 * fat, 4 * carbs, 4 * protein) ./ energy"
   ]
  },
  {
   "cell_type": "markdown",
   "metadata": {},
   "source": [
    "Energy from fat gos down, while the contribution from carbs and protein goes up at the same rate:"
   ]
  },
  {
   "cell_type": "code",
   "execution_count": 11,
   "metadata": {},
   "outputs": [
    {
     "data": {
      "text/plain": [
       "14-element Array{Float64,1}:\n",
       " 1.44118\n",
       " 1.44118\n",
       " 1.44118\n",
       " 1.44118\n",
       " 1.44118\n",
       " 1.44118\n",
       " 1.44118\n",
       " 1.44118\n",
       " 1.44118\n",
       " 1.44118\n",
       " 1.44118\n",
       " 1.44118\n",
       " 1.44118\n",
       " 1.44118"
      ]
     },
     "execution_count": 11,
     "metadata": {},
     "output_type": "execute_result"
    }
   ],
   "source": [
    "macro_nrg[:, 2] ./ macro_nrg[:, 3]"
   ]
  },
  {
   "cell_type": "markdown",
   "metadata": {},
   "source": [
    "That's it for this analysis. I'm sorry for the lack of visualization!"
   ]
  }
 ],
 "metadata": {
  "kernelspec": {
   "display_name": "Julia 0.6.3",
   "language": "julia",
   "name": "julia-0.6"
  },
  "language_info": {
   "file_extension": ".jl",
   "mimetype": "application/julia",
   "name": "julia",
   "version": "0.6.3"
  },
  "nikola": {
   "category": "",
   "date": "2018-10-04 16:03:56 UTC+02:00",
   "description": "",
   "link": "",
   "slug": "infant-formula-cows-milk-and-nutrional-blending",
   "tags": "julialang,nutrition,parenting,optimization,modeling",
   "title": "Infant Formula, Cow's Milk and Nutrional Blending",
   "type": "text"
  }
 },
 "nbformat": 4,
 "nbformat_minor": 2
}

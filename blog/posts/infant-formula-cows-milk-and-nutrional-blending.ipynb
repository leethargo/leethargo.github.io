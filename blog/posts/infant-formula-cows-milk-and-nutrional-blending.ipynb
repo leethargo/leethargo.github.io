{
 "cells": [
  {
   "cell_type": "markdown",
   "metadata": {},
   "source": [
    "We compare the macronutrional content of baby formula with that of cow's milk and then try to recreate the formula by blending milk with water and adding lactose."
   ]
  },
  {
   "cell_type": "markdown",
   "metadata": {},
   "source": [
    "TODO: background"
   ]
  },
  {
   "cell_type": "markdown",
   "metadata": {},
   "source": [
    "# Data\n",
    "\n",
    "As a reference for baby formula, we will use [Hipp PRE BIO COMBIOTIK](https://www.hipp.de/milchnahrung/produkte/hipp-combiotikR/hipp-bio-combiotikR-anfangsmilch/hipp-pre-bio-combiotikR/). They provide the following data on macronutrients:\n",
    "\n",
    "    (Energy: 66 kcal / 100 ml)\n",
    "    Fat: 3.5 g / 100 ml\n",
    "    Carbs: 7.3 g / 100 ml\n",
    "    Protein: 1.25 g / 100 ml\n",
    "\n",
    "For cow's milk, we will use both whole milk as well as reduced-fat milk. The macronutrients as given for milk at LIDL are, for whole milk:\n",
    "\n",
    "    (Energy: 68 kcal / 100 ml)\n",
    "    Fat: 3.9 g / 100 ml\n",
    "    Carbs: 4.9 g / 100 ml\n",
    "    Protein: 3.4 g / 100 ml\n",
    "\n",
    "And for reduced-fat milk:\n",
    "\n",
    "    (Energy: 48 kcal / 100 ml)\n",
    "    Fat: 1.6 g / 100 ml\n",
    "    Carbs: 4.9 g / 100 ml\n",
    "    Protein: 3.5 g / 100 ml\n"
   ]
  },
  {
   "cell_type": "markdown",
   "metadata": {},
   "source": [
    "# Model\n",
    "\n",
    "We setup an optimization model inspired by the classical [diet problem](https://en.wikipedia.org/wiki/Stigler_diet), where we want to use four ingredients (water, whole milk, reduced-fat milk, lactose) to match the nutrional profile of baby formula."
   ]
  },
  {
   "cell_type": "code",
   "execution_count": 1,
   "metadata": {},
   "outputs": [],
   "source": [
    "using JuMP\n",
    "using GLPKMathProgInterface"
   ]
  },
  {
   "cell_type": "code",
   "execution_count": 2,
   "metadata": {},
   "outputs": [],
   "source": [
    "m = Model(solver=GLPKSolverLP())\n",
    "\n",
    "@variable(m, whole_milk ≥ 0)   # in 100 ml\n",
    "@variable(m, lowfat_milk ≥ 0)  # in 100 ml\n",
    "@variable(m, lactose ≥ 0)      # in g\n",
    "\n",
    "@variable(m, slack_fat ≥ 0)\n",
    "@variable(m, slack_carb ≥ 0)\n",
    "@variable(m, slack_protein ≥ 0)\n",
    "\n",
    "# fit liquid volume\n",
    "@constraint(m, whole_milk + lowfat_milk ≤ 1)\n",
    "\n",
    "# match fat content\n",
    "@constraint(m, 3.9 * whole_milk + 1.6 * lowfat_milk == 3.5 + slack_fat)\n",
    "\n",
    "# match carb content\n",
    "@constraint(m, 4.9 * whole_milk + 4.9 * lowfat_milk + lactose == 7.3  + slack_carb )\n",
    "\n",
    "# match protein content\n",
    "@constraint(m, 3.4 * whole_milk + 3.5 * lowfat_milk == 1.25  + slack_protein)\n",
    "\n",
    "# dummy objective\n",
    "@objective(m, :Min, slack_carb + slack_fat + slack_protein);"
   ]
  },
  {
   "cell_type": "code",
   "execution_count": 3,
   "metadata": {},
   "outputs": [
    {
     "data": {
      "text/plain": [
       ":Optimal"
      ]
     },
     "execution_count": 3,
     "metadata": {},
     "output_type": "execute_result"
    }
   ],
   "source": [
    "status = solve(m)"
   ]
  },
  {
   "cell_type": "code",
   "execution_count": 4,
   "metadata": {},
   "outputs": [
    {
     "name": "stdout",
     "output_type": "stream",
     "text": [
      "(getvalue(whole_milk), getvalue(lowfat_milk), getvalue(lactose)) = (0.8974358974358976, 0.0, 2.902564102564101)\n",
      "(getvalue(slack_fat), getvalue(slack_carb), getvalue(slack_protein)) = (0.0, 0.0, 1.8012820512820515)\n"
     ]
    },
    {
     "data": {
      "text/plain": [
       "(0.0, 0.0, 1.8012820512820515)"
      ]
     },
     "execution_count": 4,
     "metadata": {},
     "output_type": "execute_result"
    }
   ],
   "source": [
    "@show getvalue(whole_milk), getvalue(lowfat_milk), getvalue(lactose)\n",
    "@show getvalue(slack_fat), getvalue(slack_carb), getvalue(slack_protein)"
   ]
  },
  {
   "cell_type": "markdown",
   "metadata": {},
   "source": [
    "It seems that we can not get a perfect match. In particular, we will overshoot the protein content, or else not meet the fat content."
   ]
  },
  {
   "cell_type": "markdown",
   "metadata": {},
   "source": [
    "## Adding Canola Oil\n",
    "\n",
    "In order to reduce the protein content, we need another non-dairy fat source. Let us use rapeseed oil which is often recommended for preparation of infant meals."
   ]
  },
  {
   "cell_type": "code",
   "execution_count": 12,
   "metadata": {},
   "outputs": [],
   "source": [
    "m = Model(solver=GLPKSolverLP())\n",
    "\n",
    "@variable(m, whole_milk ≥ 0)   # in 100 ml\n",
    "@variable(m, lowfat_milk ≥ 0)  # in 100 ml\n",
    "@variable(m, lactose ≥ 0)      # in g\n",
    "@variable(m, oil ≥ 0)  # in g\n",
    "\n",
    "# fit liquid volume\n",
    "@constraint(m, whole_milk + lowfat_milk ≤ 1)\n",
    "\n",
    "# match fat content\n",
    "@constraint(m, 3.9 * whole_milk + 1.6 * lowfat_milk + oil == 3.5)\n",
    "\n",
    "# match carb content\n",
    "@constraint(m, 4.9 * whole_milk + 4.9 * lowfat_milk + lactose == 7.3)\n",
    "\n",
    "# match protein content\n",
    "@constraint(m, 3.4 * whole_milk + 3.5 * lowfat_milk == 1.25)\n",
    "\n",
    "# dummy objective\n",
    "@objective(m, :Min, lactose + oil);"
   ]
  },
  {
   "cell_type": "code",
   "execution_count": 13,
   "metadata": {},
   "outputs": [
    {
     "data": {
      "text/plain": [
       ":Optimal"
      ]
     },
     "execution_count": 13,
     "metadata": {},
     "output_type": "execute_result"
    }
   ],
   "source": [
    "status = solve(m)"
   ]
  },
  {
   "cell_type": "code",
   "execution_count": 14,
   "metadata": {},
   "outputs": [
    {
     "name": "stdout",
     "output_type": "stream",
     "text": [
      "(getvalue(whole_milk), getvalue(lowfat_milk), getvalue(lactose), getvalue(oil)) = (0.36764705882352944, 0.0, 5.498529411764705, 2.0661764705882355)\n"
     ]
    },
    {
     "data": {
      "text/plain": [
       "(0.36764705882352944, 0.0, 5.498529411764705, 2.0661764705882355)"
      ]
     },
     "execution_count": 14,
     "metadata": {},
     "output_type": "execute_result"
    }
   ],
   "source": [
    "@show getvalue(whole_milk), getvalue(lowfat_milk), getvalue(lactose), getvalue(oil)"
   ]
  },
  {
   "cell_type": "markdown",
   "metadata": {},
   "source": [
    "The interpretation of this solution is as follows: To reproduce 100 ml of baby formula, we should mix 37 ml of whole milk with 5.5 g of lactose, 2 ml of oil and about 60 ml of water.\n",
    "\n",
    "Of course, this only takes"
   ]
  }
 ],
 "metadata": {
  "kernelspec": {
   "display_name": "Julia 0.6.3",
   "language": "julia",
   "name": "julia-0.6"
  },
  "language_info": {
   "file_extension": ".jl",
   "mimetype": "application/julia",
   "name": "julia",
   "version": "0.6.3"
  },
  "nikola": {
   "category": "",
   "date": "2018-09-08 16:03:56 UTC+02:00",
   "description": "",
   "link": "",
   "slug": "infant-formula-cows-milk-and-nutrional-blending",
   "tags": "",
   "title": "Infant Formula, Cow's Milk and Nutrional Blending",
   "type": "text"
  }
 },
 "nbformat": 4,
 "nbformat_minor": 2
}

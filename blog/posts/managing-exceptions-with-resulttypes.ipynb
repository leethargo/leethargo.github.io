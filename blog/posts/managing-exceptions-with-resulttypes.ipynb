{
 "cells": [
  {
   "cell_type": "markdown",
   "metadata": {},
   "source": [
    "# Managing Exceptions with ResultTypes\n",
    "\n",
    "In this post, we want to briefly review some examples of exception handling, present the [ResultTypes](https://github.com/iamed2/ResultTypes.jl) package as an alternative and finally, show how these mechanisms can cooperate nicely."
   ]
  },
  {
   "cell_type": "markdown",
   "metadata": {},
   "source": [
    "## Exceptions in Julia\n",
    "\n",
    "Julia supports [Exceptions](https://docs.julialang.org/en/v1/manual/control-flow/#Exception-Handling-1) with mechanisms well-known from other languages:\n",
    "\n",
    "A function can `throw` an exception when facing invalid input or a situation that is in some otherwise unexpected.\n",
    "The caller can then _handle_ the exception by wrapping the function call in a `try`/`catch` block.\n",
    "If not handled, the exception will travel upwards on the call stack all the way to the REPL (or even stop the process) and print a stack trace. Julia offers several built-in exception types, one can also define custom `Exception` types, or simply call the `error` function as a shortcut to throw an `ErrorException` with a given message."
   ]
  },
  {
   "cell_type": "markdown",
   "metadata": {},
   "source": [
    "## HTTP example: GET\n",
    "\n",
    "Let's use a simple example function that wraps `HTTP.get` and checks the URL for the transport protocol to demonstrate usage of exceptions."
   ]
  },
  {
   "cell_type": "code",
   "execution_count": 1,
   "metadata": {},
   "outputs": [],
   "source": [
    "using HTTP"
   ]
  },
  {
   "cell_type": "code",
   "execution_count": 2,
   "metadata": {},
   "outputs": [
    {
     "data": {
      "text/plain": [
       "https_get1"
      ]
     },
     "execution_count": 2,
     "metadata": {},
     "output_type": "execute_result"
    }
   ],
   "source": [
    "\"GET given URL, if using HTTPS, else throw exception.\"\n",
    "function https_get1(url)\n",
    "    if !startswith(url, \"https://\")\n",
    "        throw(DomainError(\"$url: only HTTPS requests allowed!\"))\n",
    "    end\n",
    "    return HTTP.get(url)\n",
    "end"
   ]
  },
  {
   "cell_type": "code",
   "execution_count": 3,
   "metadata": {},
   "outputs": [
    {
     "data": {
      "text/plain": [
       "HTTP.Messages.Response:\n",
       "\"\"\"\n",
       "HTTP/1.1 200 OK\r\n",
       "Connection: keep-alive\r\n",
       "Server: gunicorn/19.9.0\r\n",
       "Date: Sat, 26 Jan 2019 13:04:22 GMT\r\n",
       "Content-Type: text/html; charset=utf-8\r\n",
       "Access-Control-Allow-Origin: *\r\n",
       "Access-Control-Allow-Credentials: true\r\n",
       "Content-Length: 0\r\n",
       "Via: 1.1 vegur\r\n",
       "\r\n",
       "\"\"\""
      ]
     },
     "execution_count": 3,
     "metadata": {},
     "output_type": "execute_result"
    }
   ],
   "source": [
    "# Test it with a happy case, printing the result.\n",
    "https_get1(\"https://httpbin.org/status/200\")"
   ]
  },
  {
   "cell_type": "code",
   "execution_count": 4,
   "metadata": {},
   "outputs": [
    {
     "ename": "DomainError",
     "evalue": "DomainError with http://httpbin.org/status/200: only HTTPS requests allowed!:\n",
     "output_type": "error",
     "traceback": [
      "DomainError with http://httpbin.org/status/200: only HTTPS requests allowed!:\n",
      "",
      "Stacktrace:",
      " [1] https_get1(::String) at ./In[2]:4",
      " [2] top-level scope at In[4]:1"
     ]
    }
   ],
   "source": [
    "# Test it with an error case, showing the stack trace and exception. \n",
    "https_get1(\"http://httpbin.org/status/200\")"
   ]
  },
  {
   "cell_type": "markdown",
   "metadata": {},
   "source": [
    "In our case, we have an idea of how to fix the error causing issue, by changing the URL.\n",
    "Let's reiterate on our `https_get` function by _handling_ the exception:"
   ]
  },
  {
   "cell_type": "code",
   "execution_count": 5,
   "metadata": {},
   "outputs": [
    {
     "data": {
      "text/plain": [
       "https_get2"
      ]
     },
     "execution_count": 5,
     "metadata": {},
     "output_type": "execute_result"
    }
   ],
   "source": [
    "\"GET with URL, enforce HTTPS via exception handling.\"\n",
    "function https_get2(url)\n",
    "    try\n",
    "        return https_get1(url)\n",
    "    catch e\n",
    "        if isa(e, DomainError)\n",
    "            return https_get1(replace(url, \"http\" => \"https\", count=1))\n",
    "        else\n",
    "            rethrow(e)\n",
    "        end\n",
    "    end\n",
    "end"
   ]
  },
  {
   "cell_type": "code",
   "execution_count": 6,
   "metadata": {},
   "outputs": [
    {
     "data": {
      "text/plain": [
       "HTTP.Messages.Response:\n",
       "\"\"\"\n",
       "HTTP/1.1 200 OK\r\n",
       "Connection: keep-alive\r\n",
       "Server: gunicorn/19.9.0\r\n",
       "Date: Sat, 26 Jan 2019 13:04:24 GMT\r\n",
       "Content-Type: text/html; charset=utf-8\r\n",
       "Access-Control-Allow-Origin: *\r\n",
       "Access-Control-Allow-Credentials: true\r\n",
       "Content-Length: 0\r\n",
       "Via: 1.1 vegur\r\n",
       "\r\n",
       "\"\"\""
      ]
     },
     "execution_count": 6,
     "metadata": {},
     "output_type": "execute_result"
    }
   ],
   "source": [
    "# Try previous error case again, which is now fixed:\n",
    "https_get2(\"http://httpbin.org/status/200\")"
   ]
  },
  {
   "cell_type": "code",
   "execution_count": 7,
   "metadata": {},
   "outputs": [
    {
     "ename": "HTTP.ExceptionRequest.StatusError",
     "evalue": "HTTP.ExceptionRequest.StatusError(404, HTTP.Messages.Response:\n\"\"\"\nHTTP/1.1 404 Not Found\r\nConnection: keep-alive\r\nServer: gunicorn/19.9.0\r\nDate: Sat, 26 Jan 2019 13:04:25 GMT\r\nContent-Type: text/html; charset=utf-8\r\nAccess-Control-Allow-Origin: *\r\nAccess-Control-Allow-Credentials: true\r\nContent-Length: 0\r\nVia: 1.1 vegur\r\n\r\n\"\"\")",
     "output_type": "error",
     "traceback": [
      "HTTP.ExceptionRequest.StatusError(404, HTTP.Messages.Response:\n\"\"\"\nHTTP/1.1 404 Not Found\r\nConnection: keep-alive\r\nServer: gunicorn/19.9.0\r\nDate: Sat, 26 Jan 2019 13:04:25 GMT\r\nContent-Type: text/html; charset=utf-8\r\nAccess-Control-Allow-Origin: *\r\nAccess-Control-Allow-Credentials: true\r\nContent-Length: 0\r\nVia: 1.1 vegur\r\n\r\n\"\"\")",
      "",
      "Stacktrace:",
      " [1] #request#1 at /home/rs/.julia/packages/HTTP/GN0Te/src/ExceptionRequest.jl:22 [inlined]",
      " [2] (::getfield(HTTP, Symbol(\"#kw##request\")))(::NamedTuple{(:iofunction,),Tuple{Nothing}}, ::typeof(HTTP.request), ::Type{HTTP.ExceptionRequest.ExceptionLayer{HTTP.ConnectionRequest.ConnectionPoolLayer{HTTP.StreamRequest.StreamLayer}}}, ::HTTP.URIs.URI, ::HTTP.Messages.Request, ::Array{UInt8,1}) at ./none:0",
      " [3] (::getfield(Base, Symbol(\"###48#49#50\")){ExponentialBackOff,getfield(HTTP.RetryRequest, Symbol(\"##2#3\")){Bool,HTTP.Messages.Request},typeof(HTTP.request)})(::Base.Iterators.Pairs{Symbol,Nothing,Tuple{Symbol},NamedTuple{(:iofunction,),Tuple{Nothing}}}, ::Function, ::Type, ::Vararg{Any,N} where N) at ./error.jl:231",
      " [4] ##48#51 at ./none:0 [inlined]",
      " [5] #request#1 at /home/rs/.julia/packages/HTTP/GN0Te/src/RetryRequest.jl:44 [inlined]",
      " [6] #request at ./none:0 [inlined]",
      " [7] #request#1(::VersionNumber, ::String, ::Nothing, ::Nothing, ::Base.Iterators.Pairs{Union{},Union{},Tuple{},NamedTuple{(),Tuple{}}}, ::Function, ::Type{HTTP.MessageRequest.MessageLayer{HTTP.RetryRequest.RetryLayer{HTTP.ExceptionRequest.ExceptionLayer{HTTP.ConnectionRequest.ConnectionPoolLayer{HTTP.StreamRequest.StreamLayer}}}}}, ::String, ::HTTP.URIs.URI, ::Array{Pair{SubString{String},SubString{String}},1}, ::Array{UInt8,1}) at /home/rs/.julia/packages/HTTP/GN0Te/src/MessageRequest.jl:47",
      " [8] request at /home/rs/.julia/packages/HTTP/GN0Te/src/MessageRequest.jl:28 [inlined]",
      " [9] #request#1(::Int64, ::Bool, ::Base.Iterators.Pairs{Union{},Union{},Tuple{},NamedTuple{(),Tuple{}}}, ::Function, ::Type{HTTP.RedirectRequest.RedirectLayer{HTTP.MessageRequest.MessageLayer{HTTP.RetryRequest.RetryLayer{HTTP.ExceptionRequest.ExceptionLayer{HTTP.ConnectionRequest.ConnectionPoolLayer{HTTP.StreamRequest.StreamLayer}}}}}}, ::String, ::HTTP.URIs.URI, ::Array{Pair{SubString{String},SubString{String}},1}, ::Array{UInt8,1}) at /home/rs/.julia/packages/HTTP/GN0Te/src/RedirectRequest.jl:24",
      " [10] request(::Type{HTTP.RedirectRequest.RedirectLayer{HTTP.MessageRequest.MessageLayer{HTTP.RetryRequest.RetryLayer{HTTP.ExceptionRequest.ExceptionLayer{HTTP.ConnectionRequest.ConnectionPoolLayer{HTTP.StreamRequest.StreamLayer}}}}}}, ::String, ::HTTP.URIs.URI, ::Array{Pair{SubString{String},SubString{String}},1}, ::Array{UInt8,1}) at /home/rs/.julia/packages/HTTP/GN0Te/src/RedirectRequest.jl:21",
      " [11] #request#5(::Base.Iterators.Pairs{Union{},Union{},Tuple{},NamedTuple{(),Tuple{}}}, ::Function, ::String, ::HTTP.URIs.URI, ::Array{Pair{SubString{String},SubString{String}},1}, ::Array{UInt8,1}) at /home/rs/.julia/packages/HTTP/GN0Te/src/HTTP.jl:300",
      " [12] #request#6 at /home/rs/.julia/packages/HTTP/GN0Te/src/HTTP.jl:300 [inlined]",
      " [13] request at /home/rs/.julia/packages/HTTP/GN0Te/src/HTTP.jl:310 [inlined] (repeats 2 times)",
      " [14] #get#13 at /home/rs/.julia/packages/HTTP/GN0Te/src/HTTP.jl:382 [inlined]",
      " [15] get at /home/rs/.julia/packages/HTTP/GN0Te/src/HTTP.jl:382 [inlined]",
      " [16] https_get1(::String) at ./In[2]:6",
      " [17] https_get2(::String) at ./In[5]:4",
      " [18] top-level scope at In[7]:1"
     ]
    }
   ],
   "source": [
    "# Try another error case, where an exception is thrown by the `HTTP` package,\n",
    "# which we don't handle. Here, we are again shown the complete (because of rethrow)\n",
    "# and long stack trace, full of HTTP.jl internals.\n",
    "https_get2(\"https://httpbin.org/status/404\")"
   ]
  },
  {
   "cell_type": "markdown",
   "metadata": {},
   "source": [
    "## ResultTypes\n",
    "\n",
    "There is an alternative pattern of error handling that does not use exceptions, but communicates about success or failures with structural return values from functions. Rather than simply returning the actual result of the function, that value is wrapped in a parameterized type that could also contain an error description, for example in the form of an exception value.\n",
    "\n",
    "The package [ResultTypes](https://github.com/iamed2/ResultTypes.jl) provides a Julia implementation of this pattern and the README shows a usage example and benchmarks with performance benefits.\n",
    "\n",
    "Another possible advantage is that it nudges developers to be more explicit about errors that could happen with function calls and might lead to dealing with the errors in a more local context. Further, the results (including errors) are just values (nothing special/magical) and can be dealt with programmatically. These points are also discussed in a [blog post](https://blog.golang.org/errors-are-values) about error handling in Golang."
   ]
  },
  {
   "cell_type": "markdown",
   "metadata": {},
   "source": [
    "## GET example with ResultTypes\n",
    "\n",
    "Let's try to see what our example `GET` wrapper would look like if we used `ResultTypes` rather than throwing an exception."
   ]
  },
  {
   "cell_type": "code",
   "execution_count": 8,
   "metadata": {},
   "outputs": [],
   "source": [
    "using ResultTypes"
   ]
  },
  {
   "cell_type": "code",
   "execution_count": 9,
   "metadata": {},
   "outputs": [
    {
     "data": {
      "text/plain": [
       "https_get3"
      ]
     },
     "execution_count": 9,
     "metadata": {},
     "output_type": "execute_result"
    }
   ],
   "source": [
    "\"GET given URL, if using HTTPS, else return error value.\"\n",
    "function https_get3(url)::Result{HTTP.Messages.Response, DomainError}\n",
    "    if !startswith(url, \"https://\")\n",
    "        return DomainError(url, \"Insecure protocol!\")\n",
    "    end\n",
    "    return HTTP.get(url)\n",
    "end"
   ]
  },
  {
   "cell_type": "code",
   "execution_count": 10,
   "metadata": {},
   "outputs": [
    {
     "data": {
      "text/plain": [
       "Result(HTTP.Messages.Response:\n",
       "\"\"\"\n",
       "HTTP/1.1 200 OK\r\n",
       "Connection: keep-alive\r\n",
       "Server: gunicorn/19.9.0\r\n",
       "Date: Sat, 26 Jan 2019 13:04:25 GMT\r\n",
       "Content-Type: text/html; charset=utf-8\r\n",
       "Access-Control-Allow-Origin: *\r\n",
       "Access-Control-Allow-Credentials: true\r\n",
       "Content-Length: 0\r\n",
       "Via: 1.1 vegur\r\n",
       "\r\n",
       "\"\"\")"
      ]
     },
     "execution_count": 10,
     "metadata": {},
     "output_type": "execute_result"
    }
   ],
   "source": [
    "# Try happy case again, this time with wrapped result:\n",
    "https_get3(\"https://httpbin.org/status/200\")"
   ]
  },
  {
   "cell_type": "code",
   "execution_count": 11,
   "metadata": {},
   "outputs": [
    {
     "data": {
      "text/plain": [
       "ErrorResult(HTTP.Messages.Response, DomainError(\"http://httpbin.org/status/200\", \"Insecure protocol!\"))"
      ]
     },
     "execution_count": 11,
     "metadata": {},
     "output_type": "execute_result"
    }
   ],
   "source": [
    "# Try bad case again, resulting in error value.\n",
    "https_get3(\"http://httpbin.org/status/200\")"
   ]
  },
  {
   "cell_type": "code",
   "execution_count": 12,
   "metadata": {},
   "outputs": [
    {
     "ename": "HTTP.ExceptionRequest.StatusError",
     "evalue": "HTTP.ExceptionRequest.StatusError(404, HTTP.Messages.Response:\n\"\"\"\nHTTP/1.1 404 Not Found\r\nConnection: keep-alive\r\nServer: gunicorn/19.9.0\r\nDate: Sat, 26 Jan 2019 13:04:26 GMT\r\nContent-Type: text/html; charset=utf-8\r\nAccess-Control-Allow-Origin: *\r\nAccess-Control-Allow-Credentials: true\r\nContent-Length: 0\r\nVia: 1.1 vegur\r\n\r\n\"\"\")",
     "output_type": "error",
     "traceback": [
      "HTTP.ExceptionRequest.StatusError(404, HTTP.Messages.Response:\n\"\"\"\nHTTP/1.1 404 Not Found\r\nConnection: keep-alive\r\nServer: gunicorn/19.9.0\r\nDate: Sat, 26 Jan 2019 13:04:26 GMT\r\nContent-Type: text/html; charset=utf-8\r\nAccess-Control-Allow-Origin: *\r\nAccess-Control-Allow-Credentials: true\r\nContent-Length: 0\r\nVia: 1.1 vegur\r\n\r\n\"\"\")",
      "",
      "Stacktrace:",
      " [1] #request#1 at /home/rs/.julia/packages/HTTP/GN0Te/src/ExceptionRequest.jl:22 [inlined]",
      " [2] (::getfield(HTTP, Symbol(\"#kw##request\")))(::NamedTuple{(:iofunction,),Tuple{Nothing}}, ::typeof(HTTP.request), ::Type{HTTP.ExceptionRequest.ExceptionLayer{HTTP.ConnectionRequest.ConnectionPoolLayer{HTTP.StreamRequest.StreamLayer}}}, ::HTTP.URIs.URI, ::HTTP.Messages.Request, ::Array{UInt8,1}) at ./none:0",
      " [3] (::getfield(Base, Symbol(\"###48#49#50\")){ExponentialBackOff,getfield(HTTP.RetryRequest, Symbol(\"##2#3\")){Bool,HTTP.Messages.Request},typeof(HTTP.request)})(::Base.Iterators.Pairs{Symbol,Nothing,Tuple{Symbol},NamedTuple{(:iofunction,),Tuple{Nothing}}}, ::Function, ::Type, ::Vararg{Any,N} where N) at ./error.jl:231",
      " [4] ##48#51 at ./none:0 [inlined]",
      " [5] #request#1 at /home/rs/.julia/packages/HTTP/GN0Te/src/RetryRequest.jl:44 [inlined]",
      " [6] #request at ./none:0 [inlined]",
      " [7] #request#1(::VersionNumber, ::String, ::Nothing, ::Nothing, ::Base.Iterators.Pairs{Union{},Union{},Tuple{},NamedTuple{(),Tuple{}}}, ::Function, ::Type{HTTP.MessageRequest.MessageLayer{HTTP.RetryRequest.RetryLayer{HTTP.ExceptionRequest.ExceptionLayer{HTTP.ConnectionRequest.ConnectionPoolLayer{HTTP.StreamRequest.StreamLayer}}}}}, ::String, ::HTTP.URIs.URI, ::Array{Pair{SubString{String},SubString{String}},1}, ::Array{UInt8,1}) at /home/rs/.julia/packages/HTTP/GN0Te/src/MessageRequest.jl:47",
      " [8] request at /home/rs/.julia/packages/HTTP/GN0Te/src/MessageRequest.jl:28 [inlined]",
      " [9] #request#1(::Int64, ::Bool, ::Base.Iterators.Pairs{Union{},Union{},Tuple{},NamedTuple{(),Tuple{}}}, ::Function, ::Type{HTTP.RedirectRequest.RedirectLayer{HTTP.MessageRequest.MessageLayer{HTTP.RetryRequest.RetryLayer{HTTP.ExceptionRequest.ExceptionLayer{HTTP.ConnectionRequest.ConnectionPoolLayer{HTTP.StreamRequest.StreamLayer}}}}}}, ::String, ::HTTP.URIs.URI, ::Array{Pair{SubString{String},SubString{String}},1}, ::Array{UInt8,1}) at /home/rs/.julia/packages/HTTP/GN0Te/src/RedirectRequest.jl:24",
      " [10] request(::Type{HTTP.RedirectRequest.RedirectLayer{HTTP.MessageRequest.MessageLayer{HTTP.RetryRequest.RetryLayer{HTTP.ExceptionRequest.ExceptionLayer{HTTP.ConnectionRequest.ConnectionPoolLayer{HTTP.StreamRequest.StreamLayer}}}}}}, ::String, ::HTTP.URIs.URI, ::Array{Pair{SubString{String},SubString{String}},1}, ::Array{UInt8,1}) at /home/rs/.julia/packages/HTTP/GN0Te/src/RedirectRequest.jl:21",
      " [11] #request#5(::Base.Iterators.Pairs{Union{},Union{},Tuple{},NamedTuple{(),Tuple{}}}, ::Function, ::String, ::HTTP.URIs.URI, ::Array{Pair{SubString{String},SubString{String}},1}, ::Array{UInt8,1}) at /home/rs/.julia/packages/HTTP/GN0Te/src/HTTP.jl:300",
      " [12] request at /home/rs/.julia/packages/HTTP/GN0Te/src/HTTP.jl:300 [inlined]",
      " [13] #request#6 at /home/rs/.julia/packages/HTTP/GN0Te/src/HTTP.jl:314 [inlined]",
      " [14] request at /home/rs/.julia/packages/HTTP/GN0Te/src/HTTP.jl:310 [inlined] (repeats 2 times)",
      " [15] #get#13 at /home/rs/.julia/packages/HTTP/GN0Te/src/HTTP.jl:382 [inlined]",
      " [16] get at /home/rs/.julia/packages/HTTP/GN0Te/src/HTTP.jl:382 [inlined]",
      " [17] https_get3(::String) at ./In[9]:6",
      " [18] top-level scope at In[12]:1"
     ]
    }
   ],
   "source": [
    "# Try third-party exception, which is still thrown :-\\\n",
    "https_get3(\"https://httpbin.org/status/404\")"
   ]
  },
  {
   "cell_type": "markdown",
   "metadata": {},
   "source": [
    "As we have seen in the last example, even if we decide to use `ResultTypes` in our code, we are not safe from exceptions being thrown in the calls below.\n",
    "\n",
    "Does that limit the scope of the pattern and its implementation with `ResultTypes`? Can we only use it _internally_ within our libraries, but still deal with exceptions bubbling up from other code?\n",
    "\n",
    "What should we do about return values in user-facing functions in our library API? We can not expect everybody to learn\n",
    "about and deal with two different patterns of error handling just to use our library."
   ]
  },
  {
   "cell_type": "markdown",
   "metadata": {},
   "source": [
    "## Systematic Error-Handling in C++\n",
    "\n",
    "I was reminded of `ResultTypes` recently, when I researched error handling patterns in C++, and stumbled upon a talk titled \"Systematic Error-Handling in C++\" by Andrei Alexandrescu ([video](https://channel9.msdn.com/Shows/Going+Deep/C-and-Beyond-2012-Andrei-Alexandrescu-Systematic-Error-Handling-in-C), [slides](https://onedrive.live.com/?cid=F1B8FF18A2AEC5C5&id=F1B8FF18A2AEC5C5%211158&parId=root&o=OneUp)).\n",
    "\n",
    "In the first half of the presentation, he motivates and sketches the implementation of an `Expected<T>` type which is equivalent to what is done in `ResultTypes`. In addition to the advantages shown above, he also mentions dealing with errors across threads (multiple simultaneous exceptions being thrown), but I'm not sure how this applies to Julia.\n",
    "\n",
    "Most interesting to me was slide 27 (_Icing_) with this definition of `fromCode`:\n",
    "\n",
    "```\n",
    "template <class F>\n",
    "static Expected fromCode(F fun) {\n",
    "    try {\n",
    "        returnExpected(fun());\n",
    "    } catch(...) {\n",
    "        return fromException();\n",
    "    }\n",
    "}\n",
    "\n",
    "auto r = Expected<string>::fromCode([] {...});\n",
    "```\n",
    "\n",
    "This provides a bridge between the worlds of exception-throwing and result-returning. Thrown exceptions are captured and instead returned as error values. This applies in particular to the case where we call functions from third-party libraries."
   ]
  },
  {
   "cell_type": "markdown",
   "metadata": {},
   "source": [
    "## Wrapping Callees\n",
    "\n",
    "We repeat our example function, but attempt to capture all exceptions (including those from `HTTP`) and work with result values exclusively."
   ]
  },
  {
   "cell_type": "code",
   "execution_count": 13,
   "metadata": {},
   "outputs": [
    {
     "data": {
      "text/plain": [
       "https_get4"
      ]
     },
     "execution_count": 13,
     "metadata": {},
     "output_type": "execute_result"
    }
   ],
   "source": [
    "\"GET given URL using HTTPS or return error value.\"\n",
    "function https_get4(url)\n",
    "    if !startswith(url, \"https://\")\n",
    "        return ErrorResult(DomainError(url, \"Insecure protocol!\"))\n",
    "    end\n",
    "    try\n",
    "        # Happy path: wrap result value.\n",
    "        return Result(HTTP.get(url))\n",
    "    catch e\n",
    "        # Turn all exceptions into error values.\n",
    "        return ErrorResult(e)\n",
    "    end\n",
    "end "
   ]
  },
  {
   "cell_type": "code",
   "execution_count": 14,
   "metadata": {},
   "outputs": [
    {
     "data": {
      "text/plain": [
       "ErrorResult(Any, DomainError(\"http://httpbin.org/status/200\", \"Insecure protocol!\"))"
      ]
     },
     "execution_count": 14,
     "metadata": {},
     "output_type": "execute_result"
    }
   ],
   "source": [
    "# Test our own error case.\n",
    "https_get4(\"http://httpbin.org/status/200\")"
   ]
  },
  {
   "cell_type": "code",
   "execution_count": 15,
   "metadata": {},
   "outputs": [
    {
     "data": {
      "text/plain": [
       "ErrorResult(Any, HTTP.ExceptionRequest.StatusError(400, HTTP.Messages.Response:\n",
       "\"\"\"\n",
       "HTTP/1.1 400 Bad Request\r\n",
       "Connection: keep-alive\r\n",
       "Server: gunicorn/19.9.0\r\n",
       "Date: Sat, 26 Jan 2019 13:04:27 GMT\r\n",
       "Content-Type: text/html; charset=utf-8\r\n",
       "Access-Control-Allow-Origin: *\r\n",
       "Access-Control-Allow-Credentials: true\r\n",
       "Content-Length: 0\r\n",
       "Via: 1.1 vegur\r\n",
       "\r\n",
       "\"\"\"))"
      ]
     },
     "execution_count": 15,
     "metadata": {},
     "output_type": "execute_result"
    }
   ],
   "source": [
    "# Test error case in called function, also resulting in error value,\n",
    "# no longer an exception with stack trace etc.\n",
    "https_get4(\"https://httpbin.org/status/400\")"
   ]
  },
  {
   "cell_type": "markdown",
   "metadata": {},
   "source": [
    "# Wrapping for Callers\n",
    "\n",
    "Let us assume that `https_get4` was our library-internal utility function, but we would like to expose a version to our library users. They are expecting exceptions, so we throw them in case of error values: "
   ]
  },
  {
   "cell_type": "code",
   "execution_count": 16,
   "metadata": {},
   "outputs": [
    {
     "data": {
      "text/plain": [
       "https_get5"
      ]
     },
     "execution_count": 16,
     "metadata": {},
     "output_type": "execute_result"
    }
   ],
   "source": [
    "\"GET from URL with HTTPS or throw exception.\"\n",
    "function https_get5(url)\n",
    "    result = https_get4(url)\n",
    "    if ResultTypes.iserror(result)\n",
    "        # Error case, get exception and throw it.\n",
    "        throw(unwrap_error(result))\n",
    "    end\n",
    "    # Happy case, return the raw result.\n",
    "    return unwrap(result)\n",
    "end"
   ]
  },
  {
   "cell_type": "code",
   "execution_count": 17,
   "metadata": {},
   "outputs": [
    {
     "data": {
      "text/plain": [
       "HTTP.Messages.Response:\n",
       "\"\"\"\n",
       "HTTP/1.1 200 OK\r\n",
       "Connection: keep-alive\r\n",
       "Server: gunicorn/19.9.0\r\n",
       "Date: Sat, 26 Jan 2019 13:04:28 GMT\r\n",
       "Content-Type: text/html; charset=utf-8\r\n",
       "Access-Control-Allow-Origin: *\r\n",
       "Access-Control-Allow-Credentials: true\r\n",
       "Content-Length: 0\r\n",
       "Via: 1.1 vegur\r\n",
       "\r\n",
       "\"\"\""
      ]
     },
     "execution_count": 17,
     "metadata": {},
     "output_type": "execute_result"
    }
   ],
   "source": [
    "# Test working case, returning raw result.\n",
    "https_get5(\"https://httpbin.org/status/200\")"
   ]
  },
  {
   "cell_type": "code",
   "execution_count": 18,
   "metadata": {},
   "outputs": [
    {
     "ename": "DomainError",
     "evalue": "DomainError with http://httpbin.org/status/200:\nInsecure protocol!",
     "output_type": "error",
     "traceback": [
      "DomainError with http://httpbin.org/status/200:\nInsecure protocol!",
      "",
      "Stacktrace:",
      " [1] https_get5(::String) at ./In[16]:6",
      " [2] top-level scope at In[18]:1"
     ]
    }
   ],
   "source": [
    "# Test with our error (using HTTP), now thrown as exception.\n",
    "https_get5(\"http://httpbin.org/status/200\")"
   ]
  },
  {
   "cell_type": "code",
   "execution_count": 19,
   "metadata": {},
   "outputs": [
    {
     "ename": "HTTP.ExceptionRequest.StatusError",
     "evalue": "HTTP.ExceptionRequest.StatusError(500, HTTP.Messages.Response:\n\"\"\"\nHTTP/1.1 500 Internal Server Error\r\nConnection: keep-alive\r\nServer: gunicorn/19.9.0\r\nDate: Sat, 26 Jan 2019 13:04:39 GMT\r\nContent-Type: text/html; charset=utf-8\r\nAccess-Control-Allow-Origin: *\r\nAccess-Control-Allow-Credentials: true\r\nContent-Length: 0\r\nVia: 1.1 vegur\r\n\r\n\"\"\")",
     "output_type": "error",
     "traceback": [
      "HTTP.ExceptionRequest.StatusError(500, HTTP.Messages.Response:\n\"\"\"\nHTTP/1.1 500 Internal Server Error\r\nConnection: keep-alive\r\nServer: gunicorn/19.9.0\r\nDate: Sat, 26 Jan 2019 13:04:39 GMT\r\nContent-Type: text/html; charset=utf-8\r\nAccess-Control-Allow-Origin: *\r\nAccess-Control-Allow-Credentials: true\r\nContent-Length: 0\r\nVia: 1.1 vegur\r\n\r\n\"\"\")",
      "",
      "Stacktrace:",
      " [1] https_get5(::String) at ./In[16]:6",
      " [2] top-level scope at In[19]:1"
     ]
    }
   ],
   "source": [
    "# Test with third-party error, also thrown as exception.\n",
    "https_get5(\"https://httpbin.org/status/500\")"
   ]
  },
  {
   "cell_type": "markdown",
   "metadata": {},
   "source": [
    "Notice that the stack trace in the last example is shallow. That is, it starts from the `throw` statement in our own functions and does no longer contain the levels below from where the exception originates.\n",
    "\n",
    "This can be seen as positive or negative, but in any case, I don't know how it could be changed. Use of `rethrow` is not allowed here, because there is no `try`/`catch` block."
   ]
  },
  {
   "cell_type": "markdown",
   "metadata": {},
   "source": [
    "## Conclusion\n",
    "\n",
    "We have seen how we can bridge between the patterns of throwing exceptions and return error values, easily and in both directions. Maybe this will convince some developers to use `ResultValues` in their own packages?\n",
    "\n",
    "So far, I have only detected its use in [Dispatcher.jl](https://github.com/invenia/Dispatcher.jl). Please share your experiences with error handling in Julia!"
   ]
  }
 ],
 "metadata": {
  "kernelspec": {
   "display_name": "Julia 1.1.0",
   "language": "julia",
   "name": "julia-1.1"
  },
  "language_info": {
   "file_extension": ".jl",
   "mimetype": "application/julia",
   "name": "julia",
   "version": "1.1.0"
  },
  "nikola": {
   "category": "",
   "date": "2019-01-24 20:21:55 UTC+01:00",
   "description": "",
   "link": "",
   "slug": "managing-exceptions-with-resulttypes",
   "tags": "",
   "title": "Managing Exceptions with ResultTypes",
   "type": "text"
  }
 },
 "nbformat": 4,
 "nbformat_minor": 2
}

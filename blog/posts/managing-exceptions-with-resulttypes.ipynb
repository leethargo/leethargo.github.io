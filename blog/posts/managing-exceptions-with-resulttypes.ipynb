{
 "cells": [
  {
   "cell_type": "markdown",
   "metadata": {},
   "source": [
    "# Managing Exceptions with ResultTypes\n",
    "\n",
    "In this post, we want to briefly review some examples of exception handling, present the [ResultTypes](https://github.com/iamed2/ResultTypes.jl) package as an alternative and finally, show how these mechanisms can cooperate nicely."
   ]
  },
  {
   "cell_type": "markdown",
   "metadata": {},
   "source": [
    "## Exceptions in Julia\n",
    "\n",
    "Julia supports [Exceptions](https://docs.julialang.org/en/v1/manual/control-flow/#Exception-Handling-1) with mechanisms well-known from other languages:\n",
    "\n",
    "A function can `throw` an exception when facing invalid input or a situation that is in some otherwise unexpected.\n",
    "The caller can then _handle_ the exception by wrapping the function call in a `try`/`catch` block.\n",
    "If not handled, the exception will travel upwards on the call stack all the way to the REPL (or even stop the process) and print a stack trace.\n",
    "\n",
    "Julia offers several built-in exception types, but one can also define custom `Exception` types and implement `Base.showerror` for them to control the printing of error messages.\n",
    "\n",
    "Finally, there is the `error` function as a shortcut to throw an `ErrorException` with a given message."
   ]
  },
  {
   "cell_type": "code",
   "execution_count": null,
   "metadata": {},
   "outputs": [],
   "source": [
    "# Example: function uses `error`"
   ]
  },
  {
   "cell_type": "code",
   "execution_count": null,
   "metadata": {},
   "outputs": [],
   "source": [
    "# Example: function throws Exception explicitly"
   ]
  },
  {
   "cell_type": "code",
   "execution_count": null,
   "metadata": {},
   "outputs": [],
   "source": [
    "# Example: function from Base throws Exception"
   ]
  },
  {
   "cell_type": "code",
   "execution_count": null,
   "metadata": {},
   "outputs": [],
   "source": [
    "# Example: custom exception type with custom printing"
   ]
  },
  {
   "cell_type": "markdown",
   "metadata": {},
   "source": [
    "## ResultTypes\n",
    "\n",
    "TODO: summarize [ResultTypes](https://github.com/iamed2/ResultTypes.jl), talk about performance benefits, but also hint at others (local error handling, explicit about possible problems)."
   ]
  },
  {
   "cell_type": "code",
   "execution_count": 1,
   "metadata": {},
   "outputs": [
    {
     "name": "stderr",
     "output_type": "stream",
     "text": [
      "┌ Info: Precompiling ResultTypes [08a2b407-ddc3-586a-afd6-c784ad1fffe2]\n",
      "└ @ Base loading.jl:1186\n"
     ]
    }
   ],
   "source": [
    "using ResultTypes"
   ]
  },
  {
   "cell_type": "code",
   "execution_count": null,
   "metadata": {},
   "outputs": [],
   "source": [
    "# Example: repeat custom example above"
   ]
  },
  {
   "cell_type": "markdown",
   "metadata": {},
   "source": [
    "TODO: Discuss scope of `Result`: Can we only apply it _internally_ to our own packages? How to work together with other packages that don't use `Result`?\n",
    "- Can not avoid that functions we call will throw exceptions (even in Base).\n",
    "- Can not expect that code that uses our library will deal with `Result`"
   ]
  },
  {
   "cell_type": "markdown",
   "metadata": {},
   "source": [
    "## Systematic Error-Handling in C++\n",
    "\n",
    "TODO: Summarize (first part) of Andrei Alexandrescu's talk, with `Expected<T>` type; Compare to `Result`.\n",
    "[video](https://channel9.msdn.com/Shows/Going+Deep/C-and-Beyond-2012-Andrei-Alexandrescu-Systematic-Error-Handling-in-C)\n",
    "[slides](https://onedrive.live.com/?cid=F1B8FF18A2AEC5C5&id=F1B8FF18A2AEC5C5%211158&parId=root&o=OneUp)\n",
    "\n",
    "Focus on slide 27 (_Icing_) with `fromCode`:\n",
    "\n",
    "```\n",
    "template <class F>\n",
    "static Expected fromCode(F fun) {\n",
    "    try {\n",
    "        returnExpected(fun());\n",
    "    } catch(...) {\n",
    "        return fromException();\n",
    "    }\n",
    "}\n",
    "\n",
    "auto r = Expected<string>::fromCode([] {...});\n",
    "```\n",
    "\n",
    "This allows converting capturing exception-throwing code and turn it into `Result` return code!\n",
    "Even applies to third-party code, can connect the two worlds in both ways!"
   ]
  },
  {
   "cell_type": "markdown",
   "metadata": {},
   "source": [
    "## Wrapping Callees"
   ]
  },
  {
   "cell_type": "code",
   "execution_count": null,
   "metadata": {},
   "outputs": [],
   "source": [
    "# Example for wrapping called code"
   ]
  },
  {
   "cell_type": "markdown",
   "metadata": {},
   "source": [
    "# Wrapping for Callers"
   ]
  },
  {
   "cell_type": "code",
   "execution_count": 2,
   "metadata": {},
   "outputs": [],
   "source": [
    "# Example for throwing from `Result` results"
   ]
  }
 ],
 "metadata": {
  "kernelspec": {
   "display_name": "Julia 1.1.0",
   "language": "julia",
   "name": "julia-1.1"
  },
  "language_info": {
   "file_extension": ".jl",
   "mimetype": "application/julia",
   "name": "julia",
   "version": "1.1.0"
  },
  "nikola": {
   "category": "",
   "date": "2019-01-24 20:21:55 UTC+01:00",
   "description": "",
   "link": "",
   "slug": "managing-exceptions-with-resulttypes",
   "tags": "",
   "title": "Managing Exceptions with ResultTypes",
   "type": "text"
  }
 },
 "nbformat": 4,
 "nbformat_minor": 2
}

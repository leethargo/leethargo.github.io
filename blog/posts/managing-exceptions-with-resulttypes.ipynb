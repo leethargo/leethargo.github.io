{
 "cells": [
  {
   "cell_type": "markdown",
   "metadata": {},
   "source": [
    "# Managing Exceptions with ResultTypes\n",
    "\n",
    "In this post, we want to briefly review some examples of exception handling, present the [ResultTypes](https://github.com/iamed2/ResultTypes.jl) package as an alternative and finally, show how these mechanisms can cooperate nicely."
   ]
  },
  {
   "cell_type": "markdown",
   "metadata": {},
   "source": [
    "## Exceptions in Julia\n",
    "\n",
    "Julia supports [Exceptions](https://docs.julialang.org/en/v1/manual/control-flow/#Exception-Handling-1) with mechanisms well-known from other languages:\n",
    "\n",
    "A function can `throw` an exception when facing invalid input or a situation that is in some otherwise unexpected.\n",
    "The caller can then _handle_ the exception by wrapping the function call in a `try`/`catch` block.\n",
    "If not handled, the exception will travel upwards on the call stack all the way to the REPL (or even stop the process) and print a stack trace. Julia offers several built-in exception types, one can also define custom `Exception` types, or simply call the `error` function as a shortcut to throw an `ErrorException` with a given message."
   ]
  },
  {
   "cell_type": "code",
   "execution_count": 1,
   "metadata": {},
   "outputs": [],
   "source": [
    "using HTTP"
   ]
  },
  {
   "cell_type": "code",
   "execution_count": 2,
   "metadata": {},
   "outputs": [
    {
     "data": {
      "text/plain": [
       "my_get (generic function with 1 method)"
      ]
     },
     "execution_count": 2,
     "metadata": {},
     "output_type": "execute_result"
    }
   ],
   "source": [
    "function my_get(url)\n",
    "    if !startswith(url, \"https://\")\n",
    "        throw(DomainError(\"$url: only HTTPS requests allowed!\"))\n",
    "    end\n",
    "    return HTTP.get(url)\n",
    "end"
   ]
  },
  {
   "cell_type": "code",
   "execution_count": 3,
   "metadata": {},
   "outputs": [
    {
     "ename": "DomainError",
     "evalue": "DomainError with http://httpbin.org: only HTTPS requests allowed!:\n",
     "output_type": "error",
     "traceback": [
      "DomainError with http://httpbin.org: only HTTPS requests allowed!:\n",
      "",
      "Stacktrace:",
      " [1] my_get(::String) at ./In[2]:3",
      " [2] top-level scope at In[3]:1"
     ]
    }
   ],
   "source": [
    "my_get(\"http://httpbin.org\")"
   ]
  },
  {
   "cell_type": "code",
   "execution_count": 4,
   "metadata": {},
   "outputs": [
    {
     "ename": "HTTP.ExceptionRequest.StatusError",
     "evalue": "HTTP.ExceptionRequest.StatusError(404, HTTP.Messages.Response:\n\"\"\"\nHTTP/1.1 404 Not Found\r\nConnection: keep-alive\r\nServer: gunicorn/19.9.0\r\nDate: Fri, 25 Jan 2019 21:10:53 GMT\r\nContent-Type: text/html; charset=utf-8\r\nAccess-Control-Allow-Origin: *\r\nAccess-Control-Allow-Credentials: true\r\nContent-Length: 0\r\nVia: 1.1 vegur\r\n\r\n\"\"\")",
     "output_type": "error",
     "traceback": [
      "HTTP.ExceptionRequest.StatusError(404, HTTP.Messages.Response:\n\"\"\"\nHTTP/1.1 404 Not Found\r\nConnection: keep-alive\r\nServer: gunicorn/19.9.0\r\nDate: Fri, 25 Jan 2019 21:10:53 GMT\r\nContent-Type: text/html; charset=utf-8\r\nAccess-Control-Allow-Origin: *\r\nAccess-Control-Allow-Credentials: true\r\nContent-Length: 0\r\nVia: 1.1 vegur\r\n\r\n\"\"\")",
      "",
      "Stacktrace:",
      " [1] #request#1 at /home/rs/.julia/packages/HTTP/GN0Te/src/ExceptionRequest.jl:22 [inlined]",
      " [2] (::getfield(HTTP, Symbol(\"#kw##request\")))(::NamedTuple{(:iofunction,),Tuple{Nothing}}, ::typeof(HTTP.request), ::Type{HTTP.ExceptionRequest.ExceptionLayer{HTTP.ConnectionRequest.ConnectionPoolLayer{HTTP.StreamRequest.StreamLayer}}}, ::HTTP.URIs.URI, ::HTTP.Messages.Request, ::Array{UInt8,1}) at ./none:0",
      " [3] (::getfield(Base, Symbol(\"###48#49#50\")){ExponentialBackOff,getfield(HTTP.RetryRequest, Symbol(\"##2#3\")){Bool,HTTP.Messages.Request},typeof(HTTP.request)})(::Base.Iterators.Pairs{Symbol,Nothing,Tuple{Symbol},NamedTuple{(:iofunction,),Tuple{Nothing}}}, ::Function, ::Type, ::Vararg{Any,N} where N) at ./error.jl:231",
      " [4] ##48#51 at ./none:0 [inlined]",
      " [5] #request#1 at /home/rs/.julia/packages/HTTP/GN0Te/src/RetryRequest.jl:44 [inlined]",
      " [6] #request at ./none:0 [inlined]",
      " [7] #request#1(::VersionNumber, ::String, ::Nothing, ::Nothing, ::Base.Iterators.Pairs{Union{},Union{},Tuple{},NamedTuple{(),Tuple{}}}, ::Function, ::Type{HTTP.MessageRequest.MessageLayer{HTTP.RetryRequest.RetryLayer{HTTP.ExceptionRequest.ExceptionLayer{HTTP.ConnectionRequest.ConnectionPoolLayer{HTTP.StreamRequest.StreamLayer}}}}}, ::String, ::HTTP.URIs.URI, ::Array{Pair{SubString{String},SubString{String}},1}, ::Array{UInt8,1}) at /home/rs/.julia/packages/HTTP/GN0Te/src/MessageRequest.jl:47",
      " [8] request at /home/rs/.julia/packages/HTTP/GN0Te/src/MessageRequest.jl:28 [inlined]",
      " [9] #request#1(::Int64, ::Bool, ::Base.Iterators.Pairs{Union{},Union{},Tuple{},NamedTuple{(),Tuple{}}}, ::Function, ::Type{HTTP.RedirectRequest.RedirectLayer{HTTP.MessageRequest.MessageLayer{HTTP.RetryRequest.RetryLayer{HTTP.ExceptionRequest.ExceptionLayer{HTTP.ConnectionRequest.ConnectionPoolLayer{HTTP.StreamRequest.StreamLayer}}}}}}, ::String, ::HTTP.URIs.URI, ::Array{Pair{SubString{String},SubString{String}},1}, ::Array{UInt8,1}) at /home/rs/.julia/packages/HTTP/GN0Te/src/RedirectRequest.jl:24",
      " [10] request(::Type{HTTP.RedirectRequest.RedirectLayer{HTTP.MessageRequest.MessageLayer{HTTP.RetryRequest.RetryLayer{HTTP.ExceptionRequest.ExceptionLayer{HTTP.ConnectionRequest.ConnectionPoolLayer{HTTP.StreamRequest.StreamLayer}}}}}}, ::String, ::HTTP.URIs.URI, ::Array{Pair{SubString{String},SubString{String}},1}, ::Array{UInt8,1}) at /home/rs/.julia/packages/HTTP/GN0Te/src/RedirectRequest.jl:21",
      " [11] #request#5(::Base.Iterators.Pairs{Union{},Union{},Tuple{},NamedTuple{(),Tuple{}}}, ::Function, ::String, ::HTTP.URIs.URI, ::Array{Pair{SubString{String},SubString{String}},1}, ::Array{UInt8,1}) at /home/rs/.julia/packages/HTTP/GN0Te/src/HTTP.jl:300",
      " [12] request at /home/rs/.julia/packages/HTTP/GN0Te/src/HTTP.jl:300 [inlined]",
      " [13] #request#6 at /home/rs/.julia/packages/HTTP/GN0Te/src/HTTP.jl:314 [inlined]",
      " [14] request at /home/rs/.julia/packages/HTTP/GN0Te/src/HTTP.jl:310 [inlined] (repeats 2 times)",
      " [15] #get#13 at /home/rs/.julia/packages/HTTP/GN0Te/src/HTTP.jl:382 [inlined]",
      " [16] get(::String) at /home/rs/.julia/packages/HTTP/GN0Te/src/HTTP.jl:382",
      " [17] top-level scope at In[4]:1"
     ]
    }
   ],
   "source": [
    "# Example: third-party function throws Exception\n",
    "HTTP.get(\"http://httpbin.org/status/404\")"
   ]
  },
  {
   "cell_type": "code",
   "execution_count": 5,
   "metadata": {},
   "outputs": [
    {
     "data": {
      "text/plain": [
       "handled_get (generic function with 1 method)"
      ]
     },
     "execution_count": 5,
     "metadata": {},
     "output_type": "execute_result"
    }
   ],
   "source": [
    "function handled_get(url)\n",
    "    try\n",
    "        return my_get(url)\n",
    "    catch e\n",
    "        if isa(e, DomainError)\n",
    "            return my_get(replace(url, \"http\" => \"https\", count=1))\n",
    "        else\n",
    "            rethrow(e)\n",
    "        end\n",
    "    end\n",
    "end"
   ]
  },
  {
   "cell_type": "code",
   "execution_count": 6,
   "metadata": {},
   "outputs": [
    {
     "data": {
      "text/plain": [
       "HTTP.Messages.Response:\n",
       "\"\"\"\n",
       "HTTP/1.1 200 OK\r\n",
       "Connection: keep-alive\r\n",
       "Server: gunicorn/19.9.0\r\n",
       "Date: Fri, 25 Jan 2019 21:10:57 GMT\r\n",
       "Content-Type: text/html; charset=utf-8\r\n",
       "Access-Control-Allow-Origin: *\r\n",
       "Access-Control-Allow-Credentials: true\r\n",
       "Content-Length: 0\r\n",
       "Via: 1.1 vegur\r\n",
       "\r\n",
       "\"\"\""
      ]
     },
     "execution_count": 6,
     "metadata": {},
     "output_type": "execute_result"
    }
   ],
   "source": [
    "handled_get(\"http://httpbin.org/status/200\")"
   ]
  },
  {
   "cell_type": "code",
   "execution_count": 7,
   "metadata": {},
   "outputs": [
    {
     "ename": "HTTP.ExceptionRequest.StatusError",
     "evalue": "HTTP.ExceptionRequest.StatusError(404, HTTP.Messages.Response:\n\"\"\"\nHTTP/1.1 404 Not Found\r\nConnection: keep-alive\r\nServer: gunicorn/19.9.0\r\nDate: Fri, 25 Jan 2019 21:10:58 GMT\r\nContent-Type: text/html; charset=utf-8\r\nAccess-Control-Allow-Origin: *\r\nAccess-Control-Allow-Credentials: true\r\nContent-Length: 0\r\nVia: 1.1 vegur\r\n\r\n\"\"\")",
     "output_type": "error",
     "traceback": [
      "HTTP.ExceptionRequest.StatusError(404, HTTP.Messages.Response:\n\"\"\"\nHTTP/1.1 404 Not Found\r\nConnection: keep-alive\r\nServer: gunicorn/19.9.0\r\nDate: Fri, 25 Jan 2019 21:10:58 GMT\r\nContent-Type: text/html; charset=utf-8\r\nAccess-Control-Allow-Origin: *\r\nAccess-Control-Allow-Credentials: true\r\nContent-Length: 0\r\nVia: 1.1 vegur\r\n\r\n\"\"\")",
      "",
      "Stacktrace:",
      " [1] #request#1 at /home/rs/.julia/packages/HTTP/GN0Te/src/ExceptionRequest.jl:22 [inlined]",
      " [2] (::getfield(HTTP, Symbol(\"#kw##request\")))(::NamedTuple{(:iofunction,),Tuple{Nothing}}, ::typeof(HTTP.request), ::Type{HTTP.ExceptionRequest.ExceptionLayer{HTTP.ConnectionRequest.ConnectionPoolLayer{HTTP.StreamRequest.StreamLayer}}}, ::HTTP.URIs.URI, ::HTTP.Messages.Request, ::Array{UInt8,1}) at ./none:0",
      " [3] (::getfield(Base, Symbol(\"###48#49#50\")){ExponentialBackOff,getfield(HTTP.RetryRequest, Symbol(\"##2#3\")){Bool,HTTP.Messages.Request},typeof(HTTP.request)})(::Base.Iterators.Pairs{Symbol,Nothing,Tuple{Symbol},NamedTuple{(:iofunction,),Tuple{Nothing}}}, ::Function, ::Type, ::Vararg{Any,N} where N) at ./error.jl:231",
      " [4] ##48#51 at ./none:0 [inlined]",
      " [5] #request#1 at /home/rs/.julia/packages/HTTP/GN0Te/src/RetryRequest.jl:44 [inlined]",
      " [6] #request at ./none:0 [inlined]",
      " [7] #request#1(::VersionNumber, ::String, ::Nothing, ::Nothing, ::Base.Iterators.Pairs{Union{},Union{},Tuple{},NamedTuple{(),Tuple{}}}, ::Function, ::Type{HTTP.MessageRequest.MessageLayer{HTTP.RetryRequest.RetryLayer{HTTP.ExceptionRequest.ExceptionLayer{HTTP.ConnectionRequest.ConnectionPoolLayer{HTTP.StreamRequest.StreamLayer}}}}}, ::String, ::HTTP.URIs.URI, ::Array{Pair{SubString{String},SubString{String}},1}, ::Array{UInt8,1}) at /home/rs/.julia/packages/HTTP/GN0Te/src/MessageRequest.jl:47",
      " [8] request at /home/rs/.julia/packages/HTTP/GN0Te/src/MessageRequest.jl:28 [inlined]",
      " [9] #request#1(::Int64, ::Bool, ::Base.Iterators.Pairs{Union{},Union{},Tuple{},NamedTuple{(),Tuple{}}}, ::Function, ::Type{HTTP.RedirectRequest.RedirectLayer{HTTP.MessageRequest.MessageLayer{HTTP.RetryRequest.RetryLayer{HTTP.ExceptionRequest.ExceptionLayer{HTTP.ConnectionRequest.ConnectionPoolLayer{HTTP.StreamRequest.StreamLayer}}}}}}, ::String, ::HTTP.URIs.URI, ::Array{Pair{SubString{String},SubString{String}},1}, ::Array{UInt8,1}) at /home/rs/.julia/packages/HTTP/GN0Te/src/RedirectRequest.jl:24",
      " [10] request(::Type{HTTP.RedirectRequest.RedirectLayer{HTTP.MessageRequest.MessageLayer{HTTP.RetryRequest.RetryLayer{HTTP.ExceptionRequest.ExceptionLayer{HTTP.ConnectionRequest.ConnectionPoolLayer{HTTP.StreamRequest.StreamLayer}}}}}}, ::String, ::HTTP.URIs.URI, ::Array{Pair{SubString{String},SubString{String}},1}, ::Array{UInt8,1}) at /home/rs/.julia/packages/HTTP/GN0Te/src/RedirectRequest.jl:21",
      " [11] #request#5(::Base.Iterators.Pairs{Union{},Union{},Tuple{},NamedTuple{(),Tuple{}}}, ::Function, ::String, ::HTTP.URIs.URI, ::Array{Pair{SubString{String},SubString{String}},1}, ::Array{UInt8,1}) at /home/rs/.julia/packages/HTTP/GN0Te/src/HTTP.jl:300",
      " [12] #request#6 at /home/rs/.julia/packages/HTTP/GN0Te/src/HTTP.jl:300 [inlined]",
      " [13] request at /home/rs/.julia/packages/HTTP/GN0Te/src/HTTP.jl:310 [inlined] (repeats 2 times)",
      " [14] #get#13 at /home/rs/.julia/packages/HTTP/GN0Te/src/HTTP.jl:382 [inlined]",
      " [15] get at /home/rs/.julia/packages/HTTP/GN0Te/src/HTTP.jl:382 [inlined]",
      " [16] my_get(::String) at ./In[2]:5",
      " [17] handled_get(::String) at ./In[5]:3",
      " [18] top-level scope at In[7]:1"
     ]
    }
   ],
   "source": [
    "handled_get(\"https://httpbin.org/status/404\")"
   ]
  },
  {
   "cell_type": "markdown",
   "metadata": {},
   "source": [
    "## ResultTypes\n",
    "\n",
    "TODO: summarize [ResultTypes](https://github.com/iamed2/ResultTypes.jl), talk about performance benefits, but also hint at others (local error handling, explicit about possible problems)."
   ]
  },
  {
   "cell_type": "code",
   "execution_count": 8,
   "metadata": {},
   "outputs": [],
   "source": [
    "using ResultTypes"
   ]
  },
  {
   "cell_type": "code",
   "execution_count": 9,
   "metadata": {},
   "outputs": [
    {
     "data": {
      "text/plain": [
       "my_get2 (generic function with 1 method)"
      ]
     },
     "execution_count": 9,
     "metadata": {},
     "output_type": "execute_result"
    }
   ],
   "source": [
    "# Example: repeat custom example above\n",
    "function my_get2(url)::Result{HTTP.Messages.Response, DomainError}\n",
    "    if !startswith(url, \"https://\")\n",
    "        return DomainError(url, \"Insecure protocol!\")\n",
    "    end\n",
    "    return HTTP.get(url)\n",
    "end"
   ]
  },
  {
   "cell_type": "code",
   "execution_count": 10,
   "metadata": {},
   "outputs": [
    {
     "data": {
      "text/plain": [
       "Result(HTTP.Messages.Response:\n",
       "\"\"\"\n",
       "HTTP/1.1 200 OK\r\n",
       "Connection: keep-alive\r\n",
       "Server: gunicorn/19.9.0\r\n",
       "Date: Fri, 25 Jan 2019 21:10:59 GMT\r\n",
       "Content-Type: text/html; charset=utf-8\r\n",
       "Access-Control-Allow-Origin: *\r\n",
       "Access-Control-Allow-Credentials: true\r\n",
       "Content-Length: 0\r\n",
       "Via: 1.1 vegur\r\n",
       "\r\n",
       "\"\"\")"
      ]
     },
     "execution_count": 10,
     "metadata": {},
     "output_type": "execute_result"
    }
   ],
   "source": [
    "my_get2(\"https://httpbin.org/status/200\")"
   ]
  },
  {
   "cell_type": "code",
   "execution_count": 11,
   "metadata": {},
   "outputs": [
    {
     "data": {
      "text/plain": [
       "ErrorResult(HTTP.Messages.Response, DomainError(\"http://httpbin.org/status/200\", \"Insecure protocol!\"))"
      ]
     },
     "execution_count": 11,
     "metadata": {},
     "output_type": "execute_result"
    }
   ],
   "source": [
    "my_get2(\"http://httpbin.org/status/200\")"
   ]
  },
  {
   "cell_type": "code",
   "execution_count": 12,
   "metadata": {},
   "outputs": [
    {
     "ename": "HTTP.ExceptionRequest.StatusError",
     "evalue": "HTTP.ExceptionRequest.StatusError(404, HTTP.Messages.Response:\n\"\"\"\nHTTP/1.1 404 Not Found\r\nConnection: keep-alive\r\nServer: gunicorn/19.9.0\r\nDate: Fri, 25 Jan 2019 21:11:00 GMT\r\nContent-Type: text/html; charset=utf-8\r\nAccess-Control-Allow-Origin: *\r\nAccess-Control-Allow-Credentials: true\r\nContent-Length: 0\r\nVia: 1.1 vegur\r\n\r\n\"\"\")",
     "output_type": "error",
     "traceback": [
      "HTTP.ExceptionRequest.StatusError(404, HTTP.Messages.Response:\n\"\"\"\nHTTP/1.1 404 Not Found\r\nConnection: keep-alive\r\nServer: gunicorn/19.9.0\r\nDate: Fri, 25 Jan 2019 21:11:00 GMT\r\nContent-Type: text/html; charset=utf-8\r\nAccess-Control-Allow-Origin: *\r\nAccess-Control-Allow-Credentials: true\r\nContent-Length: 0\r\nVia: 1.1 vegur\r\n\r\n\"\"\")",
      "",
      "Stacktrace:",
      " [1] #request#1 at /home/rs/.julia/packages/HTTP/GN0Te/src/ExceptionRequest.jl:22 [inlined]",
      " [2] (::getfield(HTTP, Symbol(\"#kw##request\")))(::NamedTuple{(:iofunction,),Tuple{Nothing}}, ::typeof(HTTP.request), ::Type{HTTP.ExceptionRequest.ExceptionLayer{HTTP.ConnectionRequest.ConnectionPoolLayer{HTTP.StreamRequest.StreamLayer}}}, ::HTTP.URIs.URI, ::HTTP.Messages.Request, ::Array{UInt8,1}) at ./none:0",
      " [3] (::getfield(Base, Symbol(\"###48#49#50\")){ExponentialBackOff,getfield(HTTP.RetryRequest, Symbol(\"##2#3\")){Bool,HTTP.Messages.Request},typeof(HTTP.request)})(::Base.Iterators.Pairs{Symbol,Nothing,Tuple{Symbol},NamedTuple{(:iofunction,),Tuple{Nothing}}}, ::Function, ::Type, ::Vararg{Any,N} where N) at ./error.jl:231",
      " [4] ##48#51 at ./none:0 [inlined]",
      " [5] #request#1 at /home/rs/.julia/packages/HTTP/GN0Te/src/RetryRequest.jl:44 [inlined]",
      " [6] #request at ./none:0 [inlined]",
      " [7] #request#1(::VersionNumber, ::String, ::Nothing, ::Nothing, ::Base.Iterators.Pairs{Union{},Union{},Tuple{},NamedTuple{(),Tuple{}}}, ::Function, ::Type{HTTP.MessageRequest.MessageLayer{HTTP.RetryRequest.RetryLayer{HTTP.ExceptionRequest.ExceptionLayer{HTTP.ConnectionRequest.ConnectionPoolLayer{HTTP.StreamRequest.StreamLayer}}}}}, ::String, ::HTTP.URIs.URI, ::Array{Pair{SubString{String},SubString{String}},1}, ::Array{UInt8,1}) at /home/rs/.julia/packages/HTTP/GN0Te/src/MessageRequest.jl:47",
      " [8] request at /home/rs/.julia/packages/HTTP/GN0Te/src/MessageRequest.jl:28 [inlined]",
      " [9] #request#1(::Int64, ::Bool, ::Base.Iterators.Pairs{Union{},Union{},Tuple{},NamedTuple{(),Tuple{}}}, ::Function, ::Type{HTTP.RedirectRequest.RedirectLayer{HTTP.MessageRequest.MessageLayer{HTTP.RetryRequest.RetryLayer{HTTP.ExceptionRequest.ExceptionLayer{HTTP.ConnectionRequest.ConnectionPoolLayer{HTTP.StreamRequest.StreamLayer}}}}}}, ::String, ::HTTP.URIs.URI, ::Array{Pair{SubString{String},SubString{String}},1}, ::Array{UInt8,1}) at /home/rs/.julia/packages/HTTP/GN0Te/src/RedirectRequest.jl:24",
      " [10] request(::Type{HTTP.RedirectRequest.RedirectLayer{HTTP.MessageRequest.MessageLayer{HTTP.RetryRequest.RetryLayer{HTTP.ExceptionRequest.ExceptionLayer{HTTP.ConnectionRequest.ConnectionPoolLayer{HTTP.StreamRequest.StreamLayer}}}}}}, ::String, ::HTTP.URIs.URI, ::Array{Pair{SubString{String},SubString{String}},1}, ::Array{UInt8,1}) at /home/rs/.julia/packages/HTTP/GN0Te/src/RedirectRequest.jl:21",
      " [11] #request#5(::Base.Iterators.Pairs{Union{},Union{},Tuple{},NamedTuple{(),Tuple{}}}, ::Function, ::String, ::HTTP.URIs.URI, ::Array{Pair{SubString{String},SubString{String}},1}, ::Array{UInt8,1}) at /home/rs/.julia/packages/HTTP/GN0Te/src/HTTP.jl:300",
      " [12] request at /home/rs/.julia/packages/HTTP/GN0Te/src/HTTP.jl:300 [inlined]",
      " [13] #request#6 at /home/rs/.julia/packages/HTTP/GN0Te/src/HTTP.jl:314 [inlined]",
      " [14] request at /home/rs/.julia/packages/HTTP/GN0Te/src/HTTP.jl:310 [inlined] (repeats 2 times)",
      " [15] #get#13 at /home/rs/.julia/packages/HTTP/GN0Te/src/HTTP.jl:382 [inlined]",
      " [16] get at /home/rs/.julia/packages/HTTP/GN0Te/src/HTTP.jl:382 [inlined]",
      " [17] my_get2(::String) at ./In[9]:6",
      " [18] top-level scope at In[12]:1"
     ]
    }
   ],
   "source": [
    "my_get2(\"https://httpbin.org/status/404\")"
   ]
  },
  {
   "cell_type": "markdown",
   "metadata": {},
   "source": [
    "TODO: Discuss scope of `Result`: Can we only apply it _internally_ to our own packages? How to work together with other packages that don't use `Result`?\n",
    "- Can not avoid that functions we call will throw exceptions (even in Base).\n",
    "- Can not expect that code that uses our library will deal with `Result`"
   ]
  },
  {
   "cell_type": "markdown",
   "metadata": {},
   "source": [
    "## Systematic Error-Handling in C++\n",
    "\n",
    "TODO: Summarize (first part) of Andrei Alexandrescu's talk, with `Expected<T>` type; Compare to `Result`.\n",
    "[video](https://channel9.msdn.com/Shows/Going+Deep/C-and-Beyond-2012-Andrei-Alexandrescu-Systematic-Error-Handling-in-C)\n",
    "[slides](https://onedrive.live.com/?cid=F1B8FF18A2AEC5C5&id=F1B8FF18A2AEC5C5%211158&parId=root&o=OneUp)\n",
    "\n",
    "Focus on slide 27 (_Icing_) with `fromCode`:\n",
    "\n",
    "```\n",
    "template <class F>\n",
    "static Expected fromCode(F fun) {\n",
    "    try {\n",
    "        returnExpected(fun());\n",
    "    } catch(...) {\n",
    "        return fromException();\n",
    "    }\n",
    "}\n",
    "\n",
    "auto r = Expected<string>::fromCode([] {...});\n",
    "```\n",
    "\n",
    "This allows converting capturing exception-throwing code and turn it into `Result` return code!\n",
    "Even applies to third-party code, can connect the two worlds in both ways!"
   ]
  },
  {
   "cell_type": "markdown",
   "metadata": {},
   "source": [
    "## Wrapping Callees"
   ]
  },
  {
   "cell_type": "code",
   "execution_count": 13,
   "metadata": {},
   "outputs": [
    {
     "data": {
      "text/plain": [
       "my_get3 (generic function with 1 method)"
      ]
     },
     "execution_count": 13,
     "metadata": {},
     "output_type": "execute_result"
    }
   ],
   "source": [
    "# Example for wrapping called code\n",
    "function my_get3(url)\n",
    "    if !startswith(url, \"https://\")\n",
    "        return ErrorResult(DomainError(url, \"Insecure protocol!\"))\n",
    "    end\n",
    "    try\n",
    "        return Result(HTTP.get(url))\n",
    "    catch e\n",
    "        return ErrorResult(e)\n",
    "    end\n",
    "end "
   ]
  },
  {
   "cell_type": "code",
   "execution_count": 14,
   "metadata": {},
   "outputs": [
    {
     "data": {
      "text/plain": [
       "Result(HTTP.Messages.Response:\n",
       "\"\"\"\n",
       "HTTP/1.1 200 OK\r\n",
       "Connection: keep-alive\r\n",
       "Server: gunicorn/19.9.0\r\n",
       "Date: Fri, 25 Jan 2019 21:11:00 GMT\r\n",
       "Content-Type: text/html; charset=utf-8\r\n",
       "Access-Control-Allow-Origin: *\r\n",
       "Access-Control-Allow-Credentials: true\r\n",
       "Content-Length: 0\r\n",
       "Via: 1.1 vegur\r\n",
       "\r\n",
       "\"\"\")"
      ]
     },
     "execution_count": 14,
     "metadata": {},
     "output_type": "execute_result"
    }
   ],
   "source": [
    "my_get3(\"https://httpbin.org/status/200\")"
   ]
  },
  {
   "cell_type": "code",
   "execution_count": 15,
   "metadata": {},
   "outputs": [
    {
     "data": {
      "text/plain": [
       "ErrorResult(Any, DomainError(\"http://httpbin.org/status/200\", \"Insecure protocol!\"))"
      ]
     },
     "execution_count": 15,
     "metadata": {},
     "output_type": "execute_result"
    }
   ],
   "source": [
    "my_get3(\"http://httpbin.org/status/200\")"
   ]
  },
  {
   "cell_type": "code",
   "execution_count": 16,
   "metadata": {},
   "outputs": [
    {
     "data": {
      "text/plain": [
       "ErrorResult(Any, HTTP.ExceptionRequest.StatusError(400, HTTP.Messages.Response:\n",
       "\"\"\"\n",
       "HTTP/1.1 400 Bad Request\r\n",
       "Connection: keep-alive\r\n",
       "Server: gunicorn/19.9.0\r\n",
       "Date: Fri, 25 Jan 2019 21:11:01 GMT\r\n",
       "Content-Type: text/html; charset=utf-8\r\n",
       "Access-Control-Allow-Origin: *\r\n",
       "Access-Control-Allow-Credentials: true\r\n",
       "Content-Length: 0\r\n",
       "Via: 1.1 vegur\r\n",
       "\r\n",
       "\"\"\"))"
      ]
     },
     "execution_count": 16,
     "metadata": {},
     "output_type": "execute_result"
    }
   ],
   "source": [
    "my_get3(\"https://httpbin.org/status/400\")"
   ]
  },
  {
   "cell_type": "code",
   "execution_count": 17,
   "metadata": {},
   "outputs": [
    {
     "data": {
      "text/latex": [
       "\\begin{verbatim}\n",
       "ResultTypes.iserror(x) -> Bool\n",
       "\\end{verbatim}\n",
       "If \\texttt{x} is an \\texttt{Exception}, return \\texttt{true}. If \\texttt{x} is an \\texttt{ErrorResult} (a \\texttt{Result} containing an \\texttt{Exception}), return \\texttt{true}. Return \\texttt{false} in all other cases.\n",
       "\n"
      ],
      "text/markdown": [
       "```\n",
       "ResultTypes.iserror(x) -> Bool\n",
       "```\n",
       "\n",
       "If `x` is an `Exception`, return `true`. If `x` is an `ErrorResult` (a `Result` containing an `Exception`), return `true`. Return `false` in all other cases.\n"
      ],
      "text/plain": [
       "\u001b[36m  ResultTypes.iserror(x) -> Bool\u001b[39m\n",
       "\n",
       "  If \u001b[36mx\u001b[39m is an \u001b[36mException\u001b[39m, return \u001b[36mtrue\u001b[39m. If \u001b[36mx\u001b[39m is an \u001b[36mErrorResult\u001b[39m (a \u001b[36mResult\u001b[39m\n",
       "  containing an \u001b[36mException\u001b[39m), return \u001b[36mtrue\u001b[39m. Return \u001b[36mfalse\u001b[39m in all other cases."
      ]
     },
     "execution_count": 17,
     "metadata": {},
     "output_type": "execute_result"
    }
   ],
   "source": [
    "?ResultTypes.iserror"
   ]
  },
  {
   "cell_type": "markdown",
   "metadata": {},
   "source": [
    "# Wrapping for Callers"
   ]
  },
  {
   "cell_type": "code",
   "execution_count": 18,
   "metadata": {},
   "outputs": [
    {
     "data": {
      "text/plain": [
       "my_get4 (generic function with 1 method)"
      ]
     },
     "execution_count": 18,
     "metadata": {},
     "output_type": "execute_result"
    }
   ],
   "source": [
    "# Example for throwing from `Result` results\n",
    "function my_get4(url)\n",
    "    result = my_get3(url)\n",
    "    if ResultTypes.iserror(result)\n",
    "        throw(unwrap_error(result))\n",
    "    end\n",
    "    return unwrap(result)\n",
    "end"
   ]
  },
  {
   "cell_type": "code",
   "execution_count": 19,
   "metadata": {},
   "outputs": [
    {
     "data": {
      "text/plain": [
       "HTTP.Messages.Response:\n",
       "\"\"\"\n",
       "HTTP/1.1 200 OK\r\n",
       "Connection: keep-alive\r\n",
       "Server: gunicorn/19.9.0\r\n",
       "Date: Fri, 25 Jan 2019 21:11:03 GMT\r\n",
       "Content-Type: text/html; charset=utf-8\r\n",
       "Access-Control-Allow-Origin: *\r\n",
       "Access-Control-Allow-Credentials: true\r\n",
       "Content-Length: 0\r\n",
       "Via: 1.1 vegur\r\n",
       "\r\n",
       "\"\"\""
      ]
     },
     "execution_count": 19,
     "metadata": {},
     "output_type": "execute_result"
    }
   ],
   "source": [
    "my_get4(\"https://httpbin.org/status/200\")"
   ]
  },
  {
   "cell_type": "code",
   "execution_count": 20,
   "metadata": {},
   "outputs": [
    {
     "ename": "DomainError",
     "evalue": "DomainError with http://httpbin.org/status/200:\nInsecure protocol!",
     "output_type": "error",
     "traceback": [
      "DomainError with http://httpbin.org/status/200:\nInsecure protocol!",
      "",
      "Stacktrace:",
      " [1] my_get4(::String) at ./In[18]:5",
      " [2] top-level scope at In[20]:1"
     ]
    }
   ],
   "source": [
    "my_get4(\"http://httpbin.org/status/200\")"
   ]
  },
  {
   "cell_type": "code",
   "execution_count": 21,
   "metadata": {},
   "outputs": [
    {
     "ename": "HTTP.ExceptionRequest.StatusError",
     "evalue": "HTTP.ExceptionRequest.StatusError(500, HTTP.Messages.Response:\n\"\"\"\nHTTP/1.1 500 Internal Server Error\r\nConnection: keep-alive\r\nServer: gunicorn/19.9.0\r\nDate: Fri, 25 Jan 2019 21:11:15 GMT\r\nContent-Type: text/html; charset=utf-8\r\nAccess-Control-Allow-Origin: *\r\nAccess-Control-Allow-Credentials: true\r\nContent-Length: 0\r\nVia: 1.1 vegur\r\n\r\n\"\"\")",
     "output_type": "error",
     "traceback": [
      "HTTP.ExceptionRequest.StatusError(500, HTTP.Messages.Response:\n\"\"\"\nHTTP/1.1 500 Internal Server Error\r\nConnection: keep-alive\r\nServer: gunicorn/19.9.0\r\nDate: Fri, 25 Jan 2019 21:11:15 GMT\r\nContent-Type: text/html; charset=utf-8\r\nAccess-Control-Allow-Origin: *\r\nAccess-Control-Allow-Credentials: true\r\nContent-Length: 0\r\nVia: 1.1 vegur\r\n\r\n\"\"\")",
      "",
      "Stacktrace:",
      " [1] my_get4(::String) at ./In[18]:5",
      " [2] top-level scope at In[21]:1"
     ]
    }
   ],
   "source": [
    "my_get4(\"https://httpbin.org/status/500\")"
   ]
  },
  {
   "cell_type": "markdown",
   "metadata": {},
   "source": [
    "Can we get the complete stack trace in the last case, just like with `rethrow` before?"
   ]
  },
  {
   "cell_type": "code",
   "execution_count": null,
   "metadata": {},
   "outputs": [],
   "source": []
  }
 ],
 "metadata": {
  "kernelspec": {
   "display_name": "Julia 1.1.0",
   "language": "julia",
   "name": "julia-1.1"
  },
  "language_info": {
   "file_extension": ".jl",
   "mimetype": "application/julia",
   "name": "julia",
   "version": "1.1.0"
  },
  "nikola": {
   "category": "",
   "date": "2019-01-24 20:21:55 UTC+01:00",
   "description": "",
   "link": "",
   "slug": "managing-exceptions-with-resulttypes",
   "tags": "",
   "title": "Managing Exceptions with ResultTypes",
   "type": "text"
  }
 },
 "nbformat": 4,
 "nbformat_minor": 2
}

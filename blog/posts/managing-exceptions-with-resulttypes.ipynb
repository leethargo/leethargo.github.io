{
 "cells": [
  {
   "cell_type": "markdown",
   "metadata": {},
   "source": [
    "Write your post here."
   ]
  }
 ],
 "metadata": {
  "kernelspec": {
   "display_name": "Julia 1.1.0",
   "env": {},
   "interrupt_mode": "signal",
   "language": "julia",
   "metadata": {},
   "name": "julia-1.1"
  },
  "nikola": {
   "category": "",
   "date": "2019-01-24 20:21:55 UTC+01:00",
   "description": "",
   "link": "",
   "slug": "managing-exceptions-with-resulttypes",
   "tags": "",
   "title": "Managing Exceptions with ResultTypes",
   "type": "text"
  }
 },
 "nbformat": 4,
 "nbformat_minor": 2
}

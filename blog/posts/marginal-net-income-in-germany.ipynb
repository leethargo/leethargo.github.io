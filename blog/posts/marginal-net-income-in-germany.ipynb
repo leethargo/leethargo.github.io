{
 "cells": [
  {
   "cell_type": "markdown",
   "metadata": {},
   "source": [
    "Write your post here."
   ]
  }
 ],
 "metadata": {
  "kernelspec": {
   "display_name": "Julia 0.6.2",
   "env": {},
   "interrupt_mode": "signal",
   "language": "julia",
   "metadata": {},
   "name": "julia-0.6"
  },
  "nikola": {
   "category": "",
   "date": "2018-03-24 22:10:46 UTC+01:00",
   "description": "",
   "link": "",
   "slug": "marginal-net-income-in-germany",
   "tags": "",
   "title": "Marginal Net Income in Germany",
   "type": "text"
  }
 },
 "nbformat": 4,
 "nbformat_minor": 2
}

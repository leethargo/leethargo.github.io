{
 "cells": [
  {
   "cell_type": "code",
   "execution_count": null,
   "metadata": {},
   "outputs": [],
   "source": [
    "using Pkg\n",
    "Pkg.activate(\"../../environments/refined-delaunay-for-flow-problems/\");"
   ]
  },
  {
   "cell_type": "code",
   "execution_count": null,
   "metadata": {},
   "outputs": [],
   "source": [
    "using LinearAlgebra\n",
    "using Random\n",
    "using SparseArrays\n",
    "using Statistics\n",
    "\n",
    "using AbstractPlotting\n",
    "using CairoMakie\n",
    "using Distances\n",
    "using JuMP\n",
    "using LightGraphs\n",
    "using Parameters\n",
    "using SCIP\n",
    "using TriangleMesh"
   ]
  },
  {
   "cell_type": "markdown",
   "metadata": {},
   "source": [
    "# Random Instance Data"
   ]
  },
  {
   "cell_type": "code",
   "execution_count": null,
   "metadata": {},
   "outputs": [],
   "source": [
    "# create instance data\n",
    "Random.seed!(0);\n",
    "\n",
    "const N = 7\n",
    "const WIDTH = 500\n",
    "const HEIGHT = 300\n",
    "\n",
    "x = round.(0.95 * WIDTH * rand(N))\n",
    "y = round.(0.95 * HEIGHT * rand(N))\n",
    "points = [x y]"
   ]
  },
  {
   "cell_type": "markdown",
   "metadata": {},
   "source": [
    "# Triangulation with TriangleMesh"
   ]
  },
  {
   "cell_type": "code",
   "execution_count": null,
   "metadata": {},
   "outputs": [],
   "source": [
    "\"Create polygon from points and edges (used as segments).\"\n",
    "function Polygon(points, edges)\n",
    "    n_point = size(points, 1)\n",
    "    n_point_marker = 0\n",
    "    n_point_attribute = 0\n",
    "    n_segment = size(edges, 1)\n",
    "    n_hole = 0\n",
    "    poly = Polygon_pslg(n_point, n_point_marker, n_point_attribute, n_segment, n_hole)\n",
    "    set_polygon_point!(poly, points)\n",
    "    set_polygon_segment!(poly, edges)\n",
    "    return poly\n",
    "end"
   ]
  },
  {
   "cell_type": "code",
   "execution_count": null,
   "metadata": {},
   "outputs": [],
   "source": [
    "struct TriangleSwitches\n",
    "end\n",
    "\n",
    "TriangleSwitches"
   ]
  },
  {
   "cell_type": "markdown",
   "metadata": {},
   "source": [
    "# Drawing with Makie"
   ]
  },
  {
   "cell_type": "code",
   "execution_count": null,
   "metadata": {},
   "outputs": [],
   "source": [
    "function make_scene(width=WIDTH, height=HEIGHT)\n",
    "    return Scene(resolution=(width, height), show_axis=false, scale_plot=false)\n",
    "end"
   ]
  },
  {
   "cell_type": "code",
   "execution_count": null,
   "metadata": {},
   "outputs": [],
   "source": [
    "function draw_points!(points; markersize=4, color=:black)\n",
    "    scatter!(points[:, 1], points[:, 2], markersize=markersize, color=color)\n",
    "end"
   ]
  },
  {
   "cell_type": "code",
   "execution_count": null,
   "metadata": {},
   "outputs": [],
   "source": [
    "make_scene()\n",
    "draw_points!(points)"
   ]
  },
  {
   "cell_type": "code",
   "execution_count": null,
   "metadata": {},
   "outputs": [],
   "source": [
    "function draw_edges!(points, edges; color=:gray)\n",
    "    linesegments!(points[edges'[:], :], color=color)\n",
    "end"
   ]
  },
  {
   "cell_type": "code",
   "execution_count": null,
   "metadata": {},
   "outputs": [],
   "source": [
    "function draw_triangulation(points, edges)\n",
    "    make_scene()\n",
    "    draw_edges!(points, edges)\n",
    "    draw_points!(points)   \n",
    "end"
   ]
  },
  {
   "cell_type": "code",
   "execution_count": null,
   "metadata": {},
   "outputs": [],
   "source": [
    "draw_triangulation(points, [1 2; 2 3; 3 4; 4 5; 5 6; 6 7; 7 1])"
   ]
  },
  {
   "cell_type": "markdown",
   "metadata": {},
   "source": [
    "# Triangle Centers"
   ]
  },
  {
   "cell_type": "code",
   "execution_count": null,
   "metadata": {},
   "outputs": [],
   "source": [
    "pointset_mean(array) = dropdims(mean(array, dims=2), dims=2)"
   ]
  },
  {
   "cell_type": "code",
   "execution_count": null,
   "metadata": {},
   "outputs": [],
   "source": [
    "abstract type TriangleCenter end\n",
    "\n",
    "struct TriangleCentroid <: TriangleCenter end\n",
    "struct TriangleIncenter <: TriangleCenter end\n",
    "struct TriangleCircumcenter <: TriangleCenter end # yield Voronoi points!"
   ]
  },
  {
   "cell_type": "code",
   "execution_count": null,
   "metadata": {},
   "outputs": [],
   "source": [
    "function triangle_centers(triangulation, ::TriangleCentroid)\n",
    "    @unpack points, triangles = triangulation\n",
    "    return pointset_mean(points[triangles, :])\n",
    "end\n",
    "\n",
    "triangle_centers(t) = triangle_centers(t, TriangleCentroid())"
   ]
  },
  {
   "cell_type": "code",
   "execution_count": null,
   "metadata": {},
   "outputs": [],
   "source": [
    "function triangle_centers(triangulation, ::TriangleIncenter)\n",
    "    @unpack points, triangles = triangulation\n",
    "    centers = []\n",
    "    for t in eachrow(triangles)\n",
    "        corners = points[t, :]\n",
    "\n",
    "        a = norm(corners[2, :] - corners[3, :])\n",
    "        b = norm(corners[1, :] - corners[3, :])\n",
    "        c = norm(corners[1, :] - corners[2, :])\n",
    "        # based on barycentric coordinates a:b:c        \n",
    "        incenter = [a b c] * corners ./ (a + b + c)\n",
    "        push!(centers, incenter)\n",
    "    end\n",
    "    \n",
    "    return vcat(centers...)\n",
    "end"
   ]
  },
  {
   "cell_type": "code",
   "execution_count": null,
   "metadata": {},
   "outputs": [],
   "source": [
    "function triangle_centers(triangulation, ::TriangleCircumcenter)\n",
    "    @unpack points, triangles = triangulation\n",
    "    centers = []\n",
    "    for t in eachrow(triangles)\n",
    "        corners = points[t, :]\n",
    "        Ax, Ay = corners[1, :]\n",
    "        Bx, By = corners[2, :]\n",
    "        Cx, Cy = corners[3, :]\n",
    "        D = 2 * ( Ax * (By - Cy) + Bx * (Cy - Ay) + Cx * (Ay - By) )\n",
    "        Ux = ((Ax^2 + Ay^2)*(By - Cy)) + ((Bx^2 + By^2)*(Cy - Ay)) + ((Cx^2 + Cy^2)*(Ay - By))\n",
    "        Uy = ((Ax^2 + Ay^2)*(Cx - Bx)) + ((Bx^2 + By^2)*(Ax - Cx)) + ((Cx^2 + Cy^2)*(Bx - Ax))\n",
    "        circumcenter = [Ux Uy] ./ D\n",
    "        push!(centers, circumcenter)\n",
    "    end\n",
    "    \n",
    "    return vcat(centers...)\n",
    "end"
   ]
  },
  {
   "cell_type": "code",
   "execution_count": null,
   "metadata": {},
   "outputs": [],
   "source": [
    "draw_triangulation(del)\n",
    "draw_points!(triangle_centers(del, TriangleCentroid()), color=:limegreen)\n",
    "draw_points!(triangle_centers(del, TriangleIncenter()), color=:magenta)\n",
    "draw_points!(triangle_centers(del, TriangleCircumcenter()), color=:lightblue)"
   ]
  },
  {
   "cell_type": "markdown",
   "metadata": {},
   "source": [
    "# Edge Subdivision"
   ]
  },
  {
   "cell_type": "code",
   "execution_count": null,
   "metadata": {},
   "outputs": [],
   "source": [
    "function edge_midpoints(triangulation)\n",
    "    @unpack points, edges = triangulation\n",
    "    return pointset_mean(points[edges, :])\n",
    "end"
   ]
  },
  {
   "cell_type": "code",
   "execution_count": null,
   "metadata": {},
   "outputs": [],
   "source": [
    "function subdivided_edges(edges, offset)\n",
    "    set = Vector()\n",
    "    for e in 1:size(edges, 1)\n",
    "        edge = edges[e, :]\n",
    "        push!(set, [edge[1] e + offset])\n",
    "        push!(set, [e + offset edge[2]])\n",
    "    end\n",
    "    return vcat(set...)\n",
    "end"
   ]
  },
  {
   "cell_type": "markdown",
   "metadata": {},
   "source": [
    "# Steiner Tree Model"
   ]
  },
  {
   "cell_type": "code",
   "execution_count": null,
   "metadata": {},
   "outputs": [],
   "source": [
    "function antiparallel_digraph(triangulation)\n",
    "    @unpack points, edges = triangulation\n",
    "    graph = SimpleDiGraph(size(points, 1))\n",
    "    for e in 1:size(edges, 1)\n",
    "        s, t = edges[e, :]\n",
    "        add_edge!(graph, s, t)\n",
    "        add_edge!(graph, t, s)\n",
    "    end\n",
    "    return graph\n",
    "end"
   ]
  },
  {
   "cell_type": "code",
   "execution_count": null,
   "metadata": {},
   "outputs": [],
   "source": [
    "function edge_lengths(points, edges)\n",
    "    diff = points[edges[:, 1], :] - points[edges[:, 2], :]\n",
    "    return dropdims(mapslices(norm, diff, dims=2), dims=2)\n",
    "end\n",
    "\n",
    "edge_lengths(triangulation) = edge_lengths(triangulation.points, triangulation.edges)"
   ]
  },
  {
   "cell_type": "code",
   "execution_count": null,
   "metadata": {},
   "outputs": [],
   "source": [
    "function edge_length_map(triangulation)\n",
    "    @unpack edges = triangulation\n",
    "    lengths = edge_lengths(triangulation)\n",
    "    \n",
    "    length_map = Dict{Tuple{Int64, Int64}, Float64}()\n",
    "    for e = 1:size(edges, 1)\n",
    "        s, t = edges[e, :]\n",
    "        length_map[s, t] = lengths[e]\n",
    "        length_map[t, s] = lengths[e]\n",
    "    end\n",
    "    return length_map\n",
    "end"
   ]
  },
  {
   "cell_type": "code",
   "execution_count": null,
   "metadata": {},
   "outputs": [],
   "source": [
    "function steiner_tree(triangulation, terminals)\n",
    "    # Compute length by Euclidean distance of nodes.\n",
    "    lengths = edge_length_map(triangulation)\n",
    "    \n",
    "    # Build digraph with all antiparallel arcs, for nonnegative flow.\n",
    "    graph = antiparallel_digraph(triangulation)\n",
    "    nodes = collect(1:nv(graph))\n",
    "    arcs = collect(keys(lengths))\n",
    "    \n",
    "    length(terminals) >= 2 || error(\"Need at least 2 terminals.\")\n",
    "    all(terminals .<= nv(graph)) || error(\"Terminals out of range.\")\n",
    "    root = terminals[1]\n",
    "    sinks = terminals[2:end]\n",
    "   \n",
    "    demand(v, s) = 1.0*(v == s) - 1.0*(v == root)\n",
    "    \n",
    "    # Using arc length for fixed capacity cost and multi-commodity flow.\n",
    "    model = JuMP.direct_model(SCIP.Optimizer(display_verblevel=0))\n",
    "    @variable(model, select[a in arcs], Bin, container=SparseAxisArray)\n",
    "    @variable(model, flow[a in arcs,s in sinks] ≥ 0, container=SparseAxisArray)\n",
    "    @constraint(model, balance[v in nodes, s in sinks],\n",
    "        sum(flow[(n, v), s] - flow[(v, n), s] for n in neighbors(graph, v))\n",
    "        == demand(v, s))\n",
    "    @constraint(model, capacity[a in arcs, s in sinks], flow[a, s] <= select[a])\n",
    "    @objective(model, Min, sum(lengths[a] * select[a] for a in arcs))\n",
    "    \n",
    "    optimize!(model)\n",
    "    \n",
    "    return objective_value(model), value.(select)\n",
    "\n",
    "end"
   ]
  },
  {
   "cell_type": "code",
   "execution_count": null,
   "metadata": {},
   "outputs": [],
   "source": [
    "function draw_tree(triangulation, terminals)\n",
    "    @unpack points, edges = triangulation\n",
    "\n",
    "    obj, select = steiner_tree(triangulation, terminals)\n",
    "    @show obj\n",
    "    selected = [select[(s,t)] + select[(t,s)] for (s,t) in eachrow(edges)]\n",
    "    active_edges = edges[selected .> 0.0, :]\n",
    "    \n",
    "    draw_triangulation(triangulation)\n",
    "    linesegments!(points[active_edges'[:], :], color=:plum, linewidth=3)\n",
    "    draw_points!(points[terminals, :], markersize=5, color=:teal)\n",
    "end"
   ]
  },
  {
   "cell_type": "code",
   "execution_count": null,
   "metadata": {},
   "outputs": [],
   "source": [
    "terminals = collect(1:7);"
   ]
  },
  {
   "cell_type": "markdown",
   "metadata": {},
   "source": [
    "# Distances and Shortest Paths"
   ]
  },
  {
   "cell_type": "code",
   "execution_count": null,
   "metadata": {},
   "outputs": [],
   "source": [
    "function graph(triangulation)\n",
    "    @unpack points, edges = triangulation\n",
    "    graph = SimpleGraph(size(points, 1))\n",
    "    for e in 1:size(edges, 1)\n",
    "        s, t = edges[e, :]\n",
    "        add_edge!(graph, s, t)\n",
    "    end\n",
    "    return graph\n",
    "end"
   ]
  },
  {
   "cell_type": "code",
   "execution_count": null,
   "metadata": {},
   "outputs": [],
   "source": [
    "function distance_matrix(triangulation)\n",
    "    @unpack points = triangulation\n",
    "    return pairwise(Euclidean(), points, points, dims=1)\n",
    "end"
   ]
  },
  {
   "cell_type": "code",
   "execution_count": null,
   "metadata": {},
   "outputs": [],
   "source": [
    "\"Shortest path distance between two opposing vertices of adjacent triangles.\"\n",
    "function shortest_path(graph, s, t, distances)\n",
    "    heur(n) = distances[n, t]\n",
    "    path = a_star(graph, s, t, distances, heur)\n",
    "    return sum(distances[src(edge), dst(edge)] for edge in path)\n",
    "end"
   ]
  },
  {
   "cell_type": "markdown",
   "metadata": {},
   "source": [
    "# TODO: clean-up the stuff below"
   ]
  },
  {
   "cell_type": "code",
   "execution_count": null,
   "metadata": {},
   "outputs": [],
   "source": [
    "# can do simple Delaunay triangulation\n",
    "mesh = create_mesh(points, prevent_steiner_points=true, delaunay=true);\n",
    "draw_triangulation(Triangulation(mesh))"
   ]
  },
  {
   "cell_type": "code",
   "execution_count": null,
   "metadata": {},
   "outputs": [],
   "source": [
    "# refine the delaunay triangulation with defaults\n",
    "mesh2 = create_mesh(polygon)\n",
    "draw_tree(Triangulation(mesh2), 1:7)"
   ]
  },
  {
   "cell_type": "code",
   "execution_count": null,
   "metadata": {},
   "outputs": [],
   "source": [
    "# limit number of Steiner points\n",
    "mesh2 = create_mesh(polygon, \"pQeDS1\")\n",
    "draw_tree(Triangulation(mesh2), 1:7)"
   ]
  },
  {
   "cell_type": "code",
   "execution_count": null,
   "metadata": {},
   "outputs": [],
   "source": [
    "mesh2 = create_mesh(polygon, \"pQea1000qS50\")\n",
    "draw_tree(Triangulation(mesh2), 1:7)"
   ]
  },
  {
   "cell_type": "code",
   "execution_count": null,
   "metadata": {},
   "outputs": [],
   "source": [
    "# not keeping Delaunay edges (unconstrained)\n",
    "mesh2 = create_mesh(points, \"cQea1000qS50D\")\n",
    "draw_tree(Triangulation(mesh2), 1:7)"
   ]
  },
  {
   "cell_type": "code",
   "execution_count": null,
   "metadata": {},
   "outputs": [],
   "source": [
    "# combine it with shortcut subdivision\n",
    "polygon = Polygon(constrained_longest_subdivision2(del2))\n",
    "mesh = create_mesh(polygon, \"pQea2000S30\")\n",
    "draw_tree(Triangulation(mesh), 1:7)"
   ]
  },
  {
   "cell_type": "markdown",
   "metadata": {},
   "source": [
    "Not bad (above), inserting some trianger centers, but also subdividing edges."
   ]
  },
  {
   "cell_type": "code",
   "execution_count": null,
   "metadata": {},
   "outputs": [],
   "source": [
    "# combine it with shortcut subdivision (make it conformant)\n",
    "polygon = Polygon(constrained_longest_subdivision2(del2))\n",
    "mesh = create_mesh(polygon, \"pQea2000S30D\")\n",
    "draw_tree(Triangulation(mesh), 1:7)"
   ]
  },
  {
   "cell_type": "markdown",
   "metadata": {},
   "source": [
    "Making it conformant (Delaunay) actually makes it worse.\n",
    "\n",
    "Is it because for many \"line-of-sight\" directions, there are too many \"crossing edges\"?"
   ]
  },
  {
   "cell_type": "code",
   "execution_count": null,
   "metadata": {},
   "outputs": [],
   "source": [
    "# combine it with shortcut subdivision (quality triangles with large angles)\n",
    "polygon = Polygon(constrained_longest_subdivision2(del2))\n",
    "mesh = create_mesh(polygon, \"pQea2000S30q\")\n",
    "draw_tree(Triangulation(mesh), 1:7)"
   ]
  },
  {
   "cell_type": "markdown",
   "metadata": {},
   "source": [
    "Imposing \"quality triangles\" is similarly bad."
   ]
  },
  {
   "cell_type": "code",
   "execution_count": null,
   "metadata": {},
   "outputs": [],
   "source": [
    "# combine it with shortcut subdivision (disable quality triangles with large angles)\n",
    "polygon = Polygon(constrained_longest_subdivision2(del2))\n",
    "mesh = create_mesh(polygon, \"pQea2000S30q0\")\n",
    "draw_tree(Triangulation(mesh), 1:7)"
   ]
  },
  {
   "cell_type": "code",
   "execution_count": null,
   "metadata": {},
   "outputs": [],
   "source": [
    "# try same setting without added edge subdivision as segment\n",
    "polygon = Polygon(del2)\n",
    "mesh = create_mesh(polygon, \"pQea2000S30q0\")\n",
    "draw_tree(Triangulation(mesh), 1:7)"
   ]
  },
  {
   "cell_type": "markdown",
   "metadata": {},
   "source": [
    "Maybe was just lucky with insertion of extra segment?"
   ]
  },
  {
   "cell_type": "code",
   "execution_count": null,
   "metadata": {},
   "outputs": [],
   "source": [
    "# combine it with shortcut subdivision (quality triangles with large angles)\n",
    "mesh = create_mesh(points, \"cQea2000S30q0\")\n",
    "draw_tree(Triangulation(mesh), 1:7)"
   ]
  },
  {
   "cell_type": "code",
   "execution_count": null,
   "metadata": {},
   "outputs": [],
   "source": []
  }
 ],
 "metadata": {
  "@webio": {
   "lastCommId": null,
   "lastKernelId": null
  },
  "kernelspec": {
   "display_name": "Julia 1.1.1",
   "language": "julia",
   "name": "julia-1.1"
  },
  "language_info": {
   "file_extension": ".jl",
   "mimetype": "application/julia",
   "name": "julia",
   "version": "1.1.1"
  },
  "nikola": {
   "category": "",
   "date": "2019-03-15 16:47:50 UTC+01:00",
   "description": "",
   "link": "",
   "slug": "refined-delaunay-for-flow-problems",
   "tags": "julialang,delaunay,triangulation,mesh,optimization,network,flow",
   "title": "Refined Delaunay for Flow Problems",
   "type": "text"
  }
 },
 "nbformat": 4,
 "nbformat_minor": 2
}

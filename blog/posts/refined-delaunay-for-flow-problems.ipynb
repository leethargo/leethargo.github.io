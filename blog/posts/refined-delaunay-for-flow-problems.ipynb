{
 "cells": [
  {
   "cell_type": "code",
   "execution_count": null,
   "metadata": {},
   "outputs": [],
   "source": [
    "using Pkg\n",
    "Pkg.activate(\"../../environments/refined-delaunay-for-flow-problems/\");"
   ]
  },
  {
   "cell_type": "code",
   "execution_count": null,
   "metadata": {},
   "outputs": [],
   "source": [
    "using LinearAlgebra\n",
    "using Random\n",
    "using Statistics\n",
    "\n",
    "using AbstractPlotting\n",
    "using CairoMakie\n",
    "using LightGraphs\n",
    "using JuMP\n",
    "using Parameters\n",
    "using SCIP\n",
    "using Triangle"
   ]
  },
  {
   "cell_type": "code",
   "execution_count": null,
   "metadata": {},
   "outputs": [],
   "source": [
    "# create instance data\n",
    "Random.seed!(0);\n",
    "\n",
    "const N = 7\n",
    "const WIDTH = 500\n",
    "const HEIGHT = 300\n",
    "\n",
    "x = 0.95 * WIDTH * rand(N)\n",
    "y = 0.95 * HEIGHT * rand(N)\n",
    "points = [x y];"
   ]
  },
  {
   "cell_type": "code",
   "execution_count": null,
   "metadata": {},
   "outputs": [],
   "source": [
    "function make_scene(width=WIDTH, height=HEIGHT)\n",
    "    return Scene(resolution=(width, height), show_axis=false, scale_plot=false)\n",
    "end"
   ]
  },
  {
   "cell_type": "code",
   "execution_count": null,
   "metadata": {},
   "outputs": [],
   "source": [
    "function draw_points!(points; markersize=4, color=:black)\n",
    "    scatter!(points[:, 1], points[:, 2], markersize=markersize, color=color)\n",
    "end"
   ]
  },
  {
   "cell_type": "code",
   "execution_count": null,
   "metadata": {},
   "outputs": [],
   "source": [
    "make_scene()\n",
    "draw_points!(points)"
   ]
  },
  {
   "cell_type": "code",
   "execution_count": null,
   "metadata": {},
   "outputs": [],
   "source": [
    "struct Triangulation\n",
    "    points::Matrix{Float64}   # n x 2\n",
    "    edges::Matrix{Int64}      # m x 2\n",
    "    triangles::Matrix{Int64}  # t x 3\n",
    "end"
   ]
  },
  {
   "cell_type": "code",
   "execution_count": null,
   "metadata": {},
   "outputs": [],
   "source": [
    "function unique_edges(triangles)\n",
    "    set = Set()\n",
    "    for t in 1:size(triangles, 1)\n",
    "        triangle = triangles[t, :]\n",
    "        push!(set, min(triangle[[1, 2]], triangle[[2, 1]]))\n",
    "        push!(set, min(triangle[[2, 3]], triangle[[3, 2]]))\n",
    "        push!(set, min(triangle[[1, 3]], triangle[[3, 1]]))\n",
    "    end\n",
    "    return hcat(sort(collect(set))...)'\n",
    "end"
   ]
  },
  {
   "cell_type": "code",
   "execution_count": null,
   "metadata": {},
   "outputs": [],
   "source": [
    "function delaunay_triangulation(points)::Triangulation\n",
    "    points_map = collect(1:size(points, 1))\n",
    "    triangle_array = Triangle.basic_triangulation(points, points_map)\n",
    "    triangles = hcat(triangle_array...)'\n",
    "    edges = unique_edges(triangles)\n",
    "    return Triangulation(points, edges, triangles)\n",
    "end"
   ]
  },
  {
   "cell_type": "code",
   "execution_count": null,
   "metadata": {},
   "outputs": [],
   "source": [
    "function draw_edges!(triangulation; color=:gray)\n",
    "    @unpack points, edges = triangulation\n",
    "    linesegments!(points[edges'[:], :], color=color)\n",
    "end"
   ]
  },
  {
   "cell_type": "code",
   "execution_count": null,
   "metadata": {},
   "outputs": [],
   "source": [
    "function draw_triangulation(triangulation)\n",
    "    make_scene()\n",
    "    draw_edges!(triangulation)\n",
    "    draw_points!(triangulation.points)   \n",
    "end"
   ]
  },
  {
   "cell_type": "code",
   "execution_count": null,
   "metadata": {},
   "outputs": [],
   "source": [
    "del = delaunay_triangulation(points)\n",
    "draw_triangulation(del)"
   ]
  },
  {
   "cell_type": "code",
   "execution_count": null,
   "metadata": {},
   "outputs": [],
   "source": [
    "pointset_mean(array) = dropdims(mean(array, dims=2), dims=2)"
   ]
  },
  {
   "cell_type": "code",
   "execution_count": null,
   "metadata": {},
   "outputs": [],
   "source": [
    "abstract type TriangleCenter end\n",
    "\n",
    "struct TriangleCentroid <: TriangleCenter end\n",
    "struct TriangleIncenter <: TriangleCenter end\n",
    "struct TriangleFermatPoint <: TriangleCenter end"
   ]
  },
  {
   "cell_type": "code",
   "execution_count": null,
   "metadata": {},
   "outputs": [],
   "source": [
    "function triangle_centers(triangulation, ::TriangleCentroid)\n",
    "    @unpack points, triangles = triangulation\n",
    "    return pointset_mean(points[triangles, :])\n",
    "end\n",
    "\n",
    "triangle_centers(t) = triangle_centers(t, TriangleCentroid())"
   ]
  },
  {
   "cell_type": "code",
   "execution_count": null,
   "metadata": {},
   "outputs": [],
   "source": [
    "function triangle_centers(triangulation, ::TriangleIncenter)\n",
    "    @unpack points, triangles = triangulation\n",
    "    centers = []\n",
    "    for t in eachrow(triangles)\n",
    "        corners = points[t, :]\n",
    "        a = norm(corners[2, :] - corners[3, :])\n",
    "        b = norm(corners[1, :] - corners[3, :])\n",
    "        c = norm(corners[1, :] - corners[2, :])\n",
    "        \n",
    "        incenter = [a b c] * corners ./ (a + b + c)\n",
    "        push!(centers, incenter)\n",
    "    end\n",
    "    \n",
    "    return vcat(centers...)\n",
    "end"
   ]
  },
  {
   "cell_type": "code",
   "execution_count": null,
   "metadata": {},
   "outputs": [],
   "source": [
    "function fermat_point(corners::Matrix{Float64})\n",
    "    @assert size(corners) == (3, 2)\n",
    "    l, u = extrema(corners)\n",
    "    \n",
    "    model = direct_model(SCIP.Optimizer(display_verblevel=4))\n",
    "    @variable(model, l ≤ x ≤ u)\n",
    "    @variable(model, l ≤ y ≤ u)\n",
    "    @variable(model, len[1:3] ≥ 0.0)\n",
    "    @variable(model, dx[1:3])\n",
    "    @variable(model, dy[1:3])\n",
    "    @constraint(model, ddx[i in 1:3], dx[i] == x - corners[i, 1])\n",
    "    @constraint(model, ddy[i in 1:3], dy[i] == y - corners[i, 2])\n",
    "    @constraint(model, soc[i in 1:3], [len[i], dx[i], dy[i]] in SecondOrderCone())\n",
    "    @objective(model, Min, sum(len[i] for i in 1:3))\n",
    "    \n",
    "    optimize!(model)\n",
    "    return value.([x y])\n",
    "end\n",
    "\n",
    "function triangle_centers(triangulation, ::TriangleFermatPoint)\n",
    "    @unpack points, triangles = triangulation\n",
    "    centers = []\n",
    "    for t in eachrow(triangles)\n",
    "        push!(centers, fermat_point(points[t, :]))\n",
    "    end\n",
    "    return vcat(centers...)\n",
    "end"
   ]
  },
  {
   "cell_type": "code",
   "execution_count": null,
   "metadata": {},
   "outputs": [],
   "source": [
    "fermat_point(Float64[0 0; 0 1; 1 0])"
   ]
  },
  {
   "cell_type": "code",
   "execution_count": null,
   "metadata": {},
   "outputs": [],
   "source": [
    "draw_triangulation(del)\n",
    "draw_points!(triangle_centers(del), color=:limegreen)\n",
    "draw_points!(triangle_centers(del, TriangleIncenter()), color=:magenta)\n",
    "# draw_points!(triangle_centers(del, TriangleFermatPoint()), color=:navy)"
   ]
  },
  {
   "cell_type": "code",
   "execution_count": null,
   "metadata": {},
   "outputs": [],
   "source": [
    "function delaunay_with_centers(triangulation, method=TriangleCentroid())\n",
    "    centers = triangle_centers(triangulation, method)\n",
    "    all_points = vcat(triangulation.points, centers)\n",
    "    return delaunay_triangulation(all_points)\n",
    "end"
   ]
  },
  {
   "cell_type": "code",
   "execution_count": null,
   "metadata": {},
   "outputs": [],
   "source": [
    "draw_triangulation(delaunay_with_centers(del))"
   ]
  },
  {
   "cell_type": "code",
   "execution_count": null,
   "metadata": {},
   "outputs": [],
   "source": [
    "draw_triangulation(delaunay_with_centers(del, TriangleIncenter()))"
   ]
  },
  {
   "cell_type": "code",
   "execution_count": null,
   "metadata": {},
   "outputs": [],
   "source": [
    "draw_triangulation(delaunay_with_centers(delaunay_with_centers(del)))"
   ]
  },
  {
   "cell_type": "code",
   "execution_count": null,
   "metadata": {},
   "outputs": [],
   "source": [
    "function constrained_with_centers(triangulation, method=TriangleCentroid())\n",
    "    @unpack points, edges = triangulation\n",
    "    centers = triangle_centers(triangulation, method)\n",
    "    all_points = vcat(points, centers)\n",
    "    point_map = collect(1:size(all_points, 1))\n",
    "    \n",
    "    triangle_array = Triangle.constrained_triangulation(all_points, point_map, edges)\n",
    "    \n",
    "    triangles = hcat(triangle_array...)'\n",
    "    edges = unique_edges(triangles)\n",
    "    return Triangulation(all_points, edges, triangles)\n",
    "end"
   ]
  },
  {
   "cell_type": "code",
   "execution_count": null,
   "metadata": {},
   "outputs": [],
   "source": [
    "draw_triangulation(constrained_with_centers(del))"
   ]
  },
  {
   "cell_type": "code",
   "execution_count": null,
   "metadata": {},
   "outputs": [],
   "source": [
    "draw_triangulation(constrained_with_centers(constrained_with_centers(del)))"
   ]
  },
  {
   "cell_type": "code",
   "execution_count": null,
   "metadata": {},
   "outputs": [],
   "source": [
    "function edge_midpoints(triangulation)\n",
    "    @unpack points, edges = triangulation\n",
    "    return pointset_mean(points[edges, :])\n",
    "end"
   ]
  },
  {
   "cell_type": "code",
   "execution_count": null,
   "metadata": {},
   "outputs": [],
   "source": [
    "draw_triangulation(del)\n",
    "draw_points!(edge_midpoints(del), color=:red)"
   ]
  },
  {
   "cell_type": "code",
   "execution_count": null,
   "metadata": {},
   "outputs": [],
   "source": [
    "# triangulate with edge subdivision, again\n",
    "del_ = delaunay_triangulation(vcat(del.points, edge_midpoints(del)))\n",
    "draw_triangulation(delaunay_triangulation(vcat(del_.points, edge_midpoints(del_))))"
   ]
  },
  {
   "cell_type": "code",
   "execution_count": null,
   "metadata": {},
   "outputs": [],
   "source": [
    "function subdivided_edges(edges, offset)\n",
    "    set = Vector()\n",
    "    for e in 1:size(edges, 1)\n",
    "        edge = edges[e, :]\n",
    "        push!(set, [edge[1] e + offset])\n",
    "        push!(set, [e + offset edge[2]])\n",
    "    end\n",
    "    return vcat(set...)\n",
    "end"
   ]
  },
  {
   "cell_type": "code",
   "execution_count": null,
   "metadata": {},
   "outputs": [],
   "source": [
    "function constrained_subdivision(triangulation)\n",
    "    @unpack points, edges = triangulation\n",
    "    new_points = vcat(points, edge_midpoints(triangulation))\n",
    "    point_map = collect(1:size(new_points, 1))\n",
    "    keep_edges = subdivided_edges(edges, size(points, 1))\n",
    "\n",
    "    triangle_array = Triangle.constrained_triangulation(new_points, point_map, keep_edges)\n",
    "    \n",
    "    triangles = hcat(triangle_array...)'\n",
    "    edges = unique_edges(triangles)\n",
    "    return Triangulation(new_points, edges, triangles)\n",
    "end"
   ]
  },
  {
   "cell_type": "code",
   "execution_count": null,
   "metadata": {},
   "outputs": [],
   "source": [
    "draw_triangulation(constrained_subdivision(del))"
   ]
  },
  {
   "cell_type": "code",
   "execution_count": null,
   "metadata": {},
   "outputs": [],
   "source": [
    "draw_triangulation(constrained_subdivision(constrained_subdivision(del)))"
   ]
  },
  {
   "cell_type": "code",
   "execution_count": null,
   "metadata": {},
   "outputs": [],
   "source": [
    "# alternate: first add triangle centers, then subdivide edges\n",
    "draw_triangulation(constrained_subdivision(constrained_with_centers(del)))"
   ]
  },
  {
   "cell_type": "code",
   "execution_count": null,
   "metadata": {},
   "outputs": [],
   "source": [
    "# alternate 2: first subdivide edges, the add triangle centers\n",
    "draw_triangulation(constrained_with_centers(constrained_subdivision(del)))"
   ]
  },
  {
   "cell_type": "code",
   "execution_count": null,
   "metadata": {},
   "outputs": [],
   "source": [
    "# alternate 2.5: first subdivide edges, the add triangle centers (unconstrained)\n",
    "draw_triangulation(delaunay_with_centers(constrained_subdivision(del)))"
   ]
  },
  {
   "cell_type": "code",
   "execution_count": null,
   "metadata": {},
   "outputs": [],
   "source": [
    "function constrained_combined_refinement(triangulation, method=TriangleCentroid())\n",
    "    @unpack points, edges = triangulation\n",
    "    centers = triangle_centers(triangulation, method)\n",
    "    new_points = vcat(points, edge_midpoints(triangulation), centers)\n",
    "    point_map = collect(1:size(new_points, 1))\n",
    "    keep_edges = subdivided_edges(edges, size(points, 1))\n",
    "\n",
    "    triangle_array = Triangle.constrained_triangulation(new_points, point_map, keep_edges)\n",
    "    \n",
    "    triangles = hcat(triangle_array...)'\n",
    "    edges = unique_edges(triangles)\n",
    "    return Triangulation(new_points, edges, triangles)\n",
    "end"
   ]
  },
  {
   "cell_type": "code",
   "execution_count": null,
   "metadata": {},
   "outputs": [],
   "source": [
    "draw_triangulation(constrained_combined_refinement(del))"
   ]
  },
  {
   "cell_type": "code",
   "execution_count": null,
   "metadata": {},
   "outputs": [],
   "source": [
    "draw_triangulation(constrained_combined_refinement(constrained_combined_refinement(del)))"
   ]
  },
  {
   "cell_type": "markdown",
   "metadata": {},
   "source": [
    "# Steiner Tree Model"
   ]
  },
  {
   "cell_type": "code",
   "execution_count": null,
   "metadata": {},
   "outputs": [],
   "source": [
    "function antiparallel_digraph(triangulation)\n",
    "    @unpack points, edges = triangulation\n",
    "    graph = SimpleDiGraph(size(points, 1))\n",
    "    for e in 1:size(edges, 1)\n",
    "        s, t = edges[e, :]\n",
    "        add_edge!(graph, s, t)\n",
    "        add_edge!(graph, t, s)\n",
    "    end\n",
    "    return graph\n",
    "end"
   ]
  },
  {
   "cell_type": "code",
   "execution_count": null,
   "metadata": {},
   "outputs": [],
   "source": [
    "function edge_lengths(points, edges)\n",
    "    diff = points[edges[:, 1], :] - points[edges[:, 2], :]\n",
    "    return dropdims(mapslices(norm, diff, dims=2), dims=2)\n",
    "end\n",
    "\n",
    "edge_lengths(triangulation) = edge_lengths(triangulation.points, triangulation.edges)"
   ]
  },
  {
   "cell_type": "code",
   "execution_count": null,
   "metadata": {},
   "outputs": [],
   "source": [
    "function edge_length_map(triangulation)\n",
    "    @unpack edges = triangulation\n",
    "    lengths = edge_lengths(triangulation)\n",
    "    \n",
    "    length_map = Dict{Tuple{Int64, Int64}, Float64}()\n",
    "    for e = 1:size(edges, 1)\n",
    "        s, t = edges[e, :]\n",
    "        length_map[s, t] = lengths[e]\n",
    "        length_map[t, s] = lengths[e]\n",
    "    end\n",
    "    return length_map\n",
    "end"
   ]
  },
  {
   "cell_type": "code",
   "execution_count": null,
   "metadata": {},
   "outputs": [],
   "source": [
    "function steiner_tree(triangulation, terminals)\n",
    "    # Compute length by Euclidean distance of nodes.\n",
    "    lengths = edge_length_map(triangulation)\n",
    "    \n",
    "    # Build digraph with all antiparallel arcs, for nonnegative flow.\n",
    "    graph = antiparallel_digraph(triangulation)\n",
    "    nodes = collect(1:nv(graph))\n",
    "    arcs = collect(keys(lengths))\n",
    "    \n",
    "    length(terminals) >= 2 || error(\"Need at least 2 terminals.\")\n",
    "    all(terminals .<= nv(graph)) || error(\"Terminals out of range.\")\n",
    "    root = terminals[1]\n",
    "    sinks = terminals[2:end]\n",
    "   \n",
    "    demand(v, s) = 1.0*(v == s) - 1.0*(v == root)\n",
    "    \n",
    "    # Using arc length for fixed capacity cost and multi-commodity flow.\n",
    "    model = JuMP.direct_model(SCIP.Optimizer(display_verblevel=0))\n",
    "    @variable(model, select[a in arcs], Bin, container=SparseAxisArray)\n",
    "    @variable(model, flow[a in arcs,s in sinks] ≥ 0, container=SparseAxisArray)\n",
    "    @constraint(model, balance[v in nodes, s in sinks],\n",
    "        sum(flow[(n, v), s] - flow[(v, n), s] for n in neighbors(graph, v))\n",
    "        == demand(v, s))\n",
    "    @constraint(model, capacity[a in arcs, s in sinks], flow[a, s] <= select[a])\n",
    "    @objective(model, Min, sum(lengths[a] * select[a] for a in arcs))\n",
    "    \n",
    "    optimize!(model)\n",
    "    \n",
    "    return objective_value(model), value.(select)\n",
    "\n",
    "end"
   ]
  },
  {
   "cell_type": "code",
   "execution_count": null,
   "metadata": {},
   "outputs": [],
   "source": [
    "function draw_tree(triangulation, terminals)\n",
    "    @unpack points, edges = triangulation\n",
    "\n",
    "    \n",
    "    obj, select = steiner_tree(triangulation, terminals)\n",
    "    @show obj\n",
    "    selected = [select[(s,t)] + select[(t,s)] for (s,t) in eachrow(edges)]\n",
    "    active_edges = edges[selected .> 0.0, :]\n",
    "    \n",
    "    draw_triangulation(triangulation)\n",
    "    linesegments!(points[active_edges'[:], :], color=:plum, linewidth=3)\n",
    "end"
   ]
  },
  {
   "cell_type": "code",
   "execution_count": null,
   "metadata": {},
   "outputs": [],
   "source": [
    "terminals = collect(1:7);"
   ]
  },
  {
   "cell_type": "code",
   "execution_count": null,
   "metadata": {},
   "outputs": [],
   "source": [
    "draw_tree(del, terminals)"
   ]
  },
  {
   "cell_type": "code",
   "execution_count": null,
   "metadata": {},
   "outputs": [],
   "source": [
    "draw_tree(constrained_subdivision(del), terminals)"
   ]
  },
  {
   "cell_type": "code",
   "execution_count": null,
   "metadata": {},
   "outputs": [],
   "source": [
    "draw_tree(delaunay_with_centers(del), terminals)"
   ]
  },
  {
   "cell_type": "code",
   "execution_count": null,
   "metadata": {},
   "outputs": [],
   "source": [
    "draw_tree(constrained_with_centers(del, TriangleIncenter()), terminals)"
   ]
  },
  {
   "cell_type": "code",
   "execution_count": null,
   "metadata": {},
   "outputs": [],
   "source": [
    "draw_tree(constrained_combined_refinement(del, TriangleIncenter()), terminals)"
   ]
  },
  {
   "cell_type": "markdown",
   "metadata": {},
   "source": [
    "# Nearest Neighbors"
   ]
  },
  {
   "cell_type": "code",
   "execution_count": null,
   "metadata": {},
   "outputs": [],
   "source": [
    "dump(Triangulation)"
   ]
  },
  {
   "cell_type": "code",
   "execution_count": null,
   "metadata": {},
   "outputs": [],
   "source": [
    "#  1 2\n",
    "#      5\n",
    "#  4 3\n",
    "cross = Triangulation(\n",
    "    [0.0 200.0; 200.0 200.0; 200.0 0.0; 0.0 0.0; 400.0 100.0],\n",
    "    [1 3; 2 4; 2 3; 2 5; 3 5],\n",
    "    [2 3 5; ],\n",
    ")"
   ]
  },
  {
   "cell_type": "code",
   "execution_count": null,
   "metadata": {},
   "outputs": [],
   "source": [
    "draw_triangulation(cross)"
   ]
  },
  {
   "cell_type": "code",
   "execution_count": null,
   "metadata": {},
   "outputs": [],
   "source": [
    "draw_triangulation(constrained_subdivision(cross))"
   ]
  },
  {
   "cell_type": "code",
   "execution_count": null,
   "metadata": {},
   "outputs": [],
   "source": [
    "# Does not really keep all edges.\n",
    "# For crossing edges, we should compute intersection point and add it manually?"
   ]
  },
  {
   "cell_type": "code",
   "execution_count": null,
   "metadata": {},
   "outputs": [],
   "source": [
    "points"
   ]
  },
  {
   "cell_type": "code",
   "execution_count": null,
   "metadata": {},
   "outputs": [],
   "source": [
    "graph, dists = euclidean_graph(points'[:,:], cutoff=200.0)\n",
    "@show graph dists;"
   ]
  },
  {
   "cell_type": "code",
   "execution_count": null,
   "metadata": {},
   "outputs": [],
   "source": [
    "function edges_from_graph(graph)\n",
    "    rows = []\n",
    "    for edge in edges(graph)\n",
    "        push!(rows, [src(edge) dst(edge)])\n",
    "    end\n",
    "    return vcat(rows...)\n",
    "end"
   ]
  },
  {
   "cell_type": "code",
   "execution_count": null,
   "metadata": {},
   "outputs": [],
   "source": [
    "nn = Triangulation(points, edges_from_graph(graph))"
   ]
  }
 ],
 "metadata": {
  "@webio": {
   "lastCommId": null,
   "lastKernelId": null
  },
  "kernelspec": {
   "display_name": "Julia 1.1.1",
   "language": "julia",
   "name": "julia-1.1"
  },
  "language_info": {
   "file_extension": ".jl",
   "mimetype": "application/julia",
   "name": "julia",
   "version": "1.1.1"
  },
  "nikola": {
   "category": "",
   "date": "2019-03-15 16:47:50 UTC+01:00",
   "description": "",
   "link": "",
   "slug": "refined-delaunay-for-flow-problems",
   "tags": "julialang,delaunay,triangulation,mesh,optimization,network,flow",
   "title": "Refined Delaunay for Flow Problems",
   "type": "text"
  }
 },
 "nbformat": 4,
 "nbformat_minor": 2
}

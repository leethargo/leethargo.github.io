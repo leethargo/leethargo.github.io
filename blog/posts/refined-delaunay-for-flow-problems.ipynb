{
 "cells": [
  {
   "cell_type": "code",
   "execution_count": null,
   "metadata": {},
   "outputs": [],
   "source": [
    "using Random\n",
    "using Statistics\n",
    "\n",
    "using AbstractPlotting\n",
    "using CairoMakie\n",
    "using LightGraphs\n",
    "using JuMP\n",
    "using Parameters\n",
    "using SCIP\n",
    "using Triangle"
   ]
  },
  {
   "cell_type": "code",
   "execution_count": null,
   "metadata": {},
   "outputs": [],
   "source": [
    "# create instance data\n",
    "Random.seed!(0);\n",
    "\n",
    "const N = 7\n",
    "const WIDTH = 500\n",
    "const HEIGHT = 300\n",
    "\n",
    "x = 0.95 * WIDTH * rand(N)\n",
    "y = 0.95 * HEIGHT * rand(N)\n",
    "\n",
    "points = [x y]"
   ]
  },
  {
   "cell_type": "code",
   "execution_count": null,
   "metadata": {},
   "outputs": [],
   "source": [
    "function make_scene(width=WIDTH, height=HEIGHT)\n",
    "    return Scene(resolution=(width, height), show_axis=false, scale_plot=false)\n",
    "end"
   ]
  },
  {
   "cell_type": "code",
   "execution_count": null,
   "metadata": {},
   "outputs": [],
   "source": [
    "function draw_points!(points; markersize=4, color=:black)\n",
    "    scatter!(points, markersize=markersize, color=color)\n",
    "end"
   ]
  },
  {
   "cell_type": "code",
   "execution_count": null,
   "metadata": {},
   "outputs": [],
   "source": [
    "make_scene()\n",
    "draw_points!(points)"
   ]
  },
  {
   "cell_type": "code",
   "execution_count": null,
   "metadata": {},
   "outputs": [],
   "source": [
    "struct Triangulation\n",
    "    points::Matrix{Float64}   # n x 2\n",
    "    edges::Matrix{Int64}      # m x 2\n",
    "    triangles::Matrix{Int64}  # t x 3\n",
    "end"
   ]
  },
  {
   "cell_type": "code",
   "execution_count": null,
   "metadata": {},
   "outputs": [],
   "source": [
    "function unique_edges(triangles)\n",
    "    set = Set()\n",
    "    for t in 1:size(triangles, 1)\n",
    "        triangle = triangles[t, :]\n",
    "        push!(set, min(triangle[[1, 2]], triangle[[2, 1]]))\n",
    "        push!(set, min(triangle[[2, 3]], triangle[[3, 2]]))\n",
    "        push!(set, min(triangle[[1, 3]], triangle[[3, 1]]))\n",
    "    end\n",
    "    return hcat(sort(collect(set))...)'\n",
    "end"
   ]
  },
  {
   "cell_type": "code",
   "execution_count": null,
   "metadata": {},
   "outputs": [],
   "source": [
    "function delaunay_triangulation(points)::Triangulation\n",
    "    points_map = collect(1:size(points, 1))\n",
    "    triangle_array = Triangle.basic_triangulation(points, points_map)\n",
    "    triangles = hcat(triangle_array...)'\n",
    "    edges = unique_edges(triangles)\n",
    "    return Triangulation(points, edges, triangles)\n",
    "end"
   ]
  },
  {
   "cell_type": "code",
   "execution_count": null,
   "metadata": {},
   "outputs": [],
   "source": [
    "function draw_edges!(triangulation; color=:gray)\n",
    "    @unpack points, edges = triangulation\n",
    "    linesegments!(points[edges'[:], :], color=color)\n",
    "end"
   ]
  },
  {
   "cell_type": "code",
   "execution_count": null,
   "metadata": {},
   "outputs": [],
   "source": [
    "function draw_triangulation(triangulation)\n",
    "    make_scene()\n",
    "    draw_edges!(triangulation)\n",
    "    draw_points!(triangulation.points)   \n",
    "end"
   ]
  },
  {
   "cell_type": "code",
   "execution_count": null,
   "metadata": {},
   "outputs": [],
   "source": [
    "del = delaunay_triangulation(points)\n",
    "draw_triangulation(del)"
   ]
  },
  {
   "cell_type": "code",
   "execution_count": null,
   "metadata": {},
   "outputs": [],
   "source": [
    "pointset_mean(array) = dropdims(mean(array, dims=2), dims=2)"
   ]
  },
  {
   "cell_type": "code",
   "execution_count": null,
   "metadata": {},
   "outputs": [],
   "source": [
    "function triangle_centers(triangulation)\n",
    "    @unpack points, triangles = triangulation\n",
    "    return pointset_mean(points[triangles, :])\n",
    "end"
   ]
  },
  {
   "cell_type": "code",
   "execution_count": null,
   "metadata": {},
   "outputs": [],
   "source": [
    "centers = triangle_centers(del)\n",
    "draw_points!(centers, color=:limegreen)"
   ]
  },
  {
   "cell_type": "code",
   "execution_count": null,
   "metadata": {},
   "outputs": [],
   "source": [
    "function delaunay_with_centers(triangulation)\n",
    "    centers = triangle_centers(triangulation)\n",
    "    all_points = vcat(triangulation.points, centers)\n",
    "    return delaunay_triangulation(all_points)\n",
    "end"
   ]
  },
  {
   "cell_type": "code",
   "execution_count": null,
   "metadata": {},
   "outputs": [],
   "source": [
    "draw_triangulation(delaunay_with_centers(del))"
   ]
  },
  {
   "cell_type": "code",
   "execution_count": null,
   "metadata": {},
   "outputs": [],
   "source": [
    "draw_triangulation(delaunay_with_centers(delaunay_with_centers(del)))"
   ]
  },
  {
   "cell_type": "code",
   "execution_count": null,
   "metadata": {},
   "outputs": [],
   "source": [
    "function constrained_with_centers(triangulation)\n",
    "    @unpack points, edges = triangulation\n",
    "    centers = triangle_centers(triangulation)\n",
    "    all_points = vcat(points, centers)\n",
    "    point_map = collect(1:size(all_points, 1))\n",
    "    \n",
    "    triangle_array = Triangle.constrained_triangulation(all_points, point_map, edges)\n",
    "    \n",
    "    triangles = hcat(triangle_array...)'\n",
    "    edges = unique_edges(triangles)\n",
    "    return Triangulation(all_points, edges, triangles)\n",
    "end"
   ]
  },
  {
   "cell_type": "code",
   "execution_count": null,
   "metadata": {},
   "outputs": [],
   "source": [
    "draw_triangulation(constrained_with_centers(del))"
   ]
  },
  {
   "cell_type": "code",
   "execution_count": null,
   "metadata": {},
   "outputs": [],
   "source": [
    "draw_triangulation(constrained_with_centers(constrained_with_centers(del)))"
   ]
  },
  {
   "cell_type": "code",
   "execution_count": null,
   "metadata": {},
   "outputs": [],
   "source": [
    "function edge_midpoints(triangulation)\n",
    "    @unpack points, edges = triangulation\n",
    "    return pointset_mean(points[edges, :])\n",
    "end"
   ]
  },
  {
   "cell_type": "code",
   "execution_count": null,
   "metadata": {},
   "outputs": [],
   "source": [
    "draw_triangulation(del)\n",
    "draw_points!(edge_midpoints(del), color=:red)"
   ]
  },
  {
   "cell_type": "code",
   "execution_count": null,
   "metadata": {},
   "outputs": [],
   "source": [
    "# triangulate with edge subdivision, again\n",
    "del_ = delaunay_triangulation(vcat(del.points, edge_midpoints(del)))\n",
    "draw_triangulation(delaunay_triangulation(vcat(del_.points, edge_midpoints(del_))))"
   ]
  },
  {
   "cell_type": "code",
   "execution_count": null,
   "metadata": {},
   "outputs": [],
   "source": [
    "function subdivided_edges(edges, offset)\n",
    "    set = Vector()\n",
    "    for e in 1:size(edges, 1)\n",
    "        edge = edges[e, :]\n",
    "        push!(set, [edge[1] e + offset])\n",
    "        push!(set, [e + offset edge[2]])\n",
    "    end\n",
    "    return vcat(set...)\n",
    "end"
   ]
  },
  {
   "cell_type": "code",
   "execution_count": null,
   "metadata": {},
   "outputs": [],
   "source": [
    "function constrained_subdivision(triangulation)\n",
    "    @unpack points, edges = triangulation\n",
    "    new_points = vcat(points, edge_midpoints(triangulation))\n",
    "    point_map = collect(1:size(new_points, 1))\n",
    "    keep_edges = subdivided_edges(edges, size(points, 1))\n",
    "\n",
    "    triangle_array = Triangle.constrained_triangulation(new_points, point_map, keep_edges)\n",
    "    \n",
    "    triangles = hcat(triangle_array...)'\n",
    "    edges = unique_edges(triangles)\n",
    "    return Triangulation(new_points, edges, triangles)\n",
    "end"
   ]
  },
  {
   "cell_type": "code",
   "execution_count": null,
   "metadata": {},
   "outputs": [],
   "source": [
    "draw_triangulation(constrained_subdivision(del))"
   ]
  },
  {
   "cell_type": "code",
   "execution_count": null,
   "metadata": {},
   "outputs": [],
   "source": [
    "draw_triangulation(constrained_subdivision(constrained_subdivision(del)))"
   ]
  },
  {
   "cell_type": "code",
   "execution_count": null,
   "metadata": {},
   "outputs": [],
   "source": [
    "# alternate: first add triangle centers, then subdivide edges\n",
    "draw_triangulation(constrained_subdivision(constrained_with_centers(del)))"
   ]
  },
  {
   "cell_type": "code",
   "execution_count": null,
   "metadata": {},
   "outputs": [],
   "source": [
    "# alternate 2: first subdivide edges, the add triangle centers\n",
    "draw_triangulation(constrained_with_centers(constrained_subdivision(del)))"
   ]
  },
  {
   "cell_type": "code",
   "execution_count": null,
   "metadata": {},
   "outputs": [],
   "source": [
    "# alternate 2.5: first subdivide edges, the add triangle centers (unconstrained)\n",
    "draw_triangulation(delaunay_with_centers(constrained_subdivision(del)))"
   ]
  },
  {
   "cell_type": "code",
   "execution_count": null,
   "metadata": {},
   "outputs": [],
   "source": [
    "function constrained_combined_refinement(triangulation)\n",
    "    @unpack points, edges = triangulation\n",
    "    new_points = vcat(points, edge_midpoints(triangulation), triangle_centers(triangulation))\n",
    "    point_map = collect(1:size(new_points, 1))\n",
    "    keep_edges = subdivided_edges(edges, size(points, 1))\n",
    "\n",
    "    triangle_array = Triangle.constrained_triangulation(new_points, point_map, keep_edges)\n",
    "    \n",
    "    triangles = hcat(triangle_array...)'\n",
    "    edges = unique_edges(triangles)\n",
    "    return Triangulation(new_points, edges, triangles)\n",
    "end"
   ]
  },
  {
   "cell_type": "code",
   "execution_count": null,
   "metadata": {},
   "outputs": [],
   "source": [
    "draw_triangulation(constrained_combined_refinement(del))"
   ]
  },
  {
   "cell_type": "code",
   "execution_count": null,
   "metadata": {},
   "outputs": [],
   "source": [
    "draw_triangulation(constrained_combined_refinement(constrained_combined_refinement(del)))"
   ]
  },
  {
   "cell_type": "code",
   "execution_count": null,
   "metadata": {},
   "outputs": [],
   "source": []
  }
 ],
 "metadata": {
  "kernelspec": {
   "display_name": "Julia 1.1.1",
   "language": "julia",
   "name": "julia-1.1"
  },
  "language_info": {
   "file_extension": ".jl",
   "mimetype": "application/julia",
   "name": "julia",
   "version": "1.1.1"
  },
  "nikola": {
   "category": "",
   "date": "2019-03-15 16:47:50 UTC+01:00",
   "description": "",
   "link": "",
   "slug": "refined-delaunay-for-flow-problems",
   "tags": "julialang,delaunay,triangulation,mesh,optimization,network,flow",
   "title": "Refined Delaunay for Flow Problems",
   "type": "text"
  }
 },
 "nbformat": 4,
 "nbformat_minor": 2
}

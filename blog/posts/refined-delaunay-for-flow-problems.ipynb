{
 "cells": [
  {
   "cell_type": "code",
   "execution_count": null,
   "metadata": {},
   "outputs": [],
   "source": [
    "using Random\n",
    "using Statistics\n",
    "\n",
    "using AbstractPlotting\n",
    "using CairoMakie\n",
    "using LightGraphs\n",
    "using JuMP\n",
    "using SCIP\n",
    "using Triangle"
   ]
  },
  {
   "cell_type": "code",
   "execution_count": null,
   "metadata": {},
   "outputs": [],
   "source": [
    "# create instance data\n",
    "Random.seed!(0);\n",
    "\n",
    "const N = 7\n",
    "const WIDTH = 500\n",
    "const HEIGHT = 300\n",
    "\n",
    "x = 0.95 * WIDTH * rand(N)\n",
    "y = 0.95 * HEIGHT * rand(N)\n",
    "\n",
    "points = [x y]"
   ]
  },
  {
   "cell_type": "code",
   "execution_count": null,
   "metadata": {},
   "outputs": [],
   "source": [
    "function make_scene(width=WIDTH, height=HEIGHT)\n",
    "    return Scene(resolution=(width, height), show_axis=false, scale_plot=false)\n",
    "end"
   ]
  },
  {
   "cell_type": "code",
   "execution_count": null,
   "metadata": {},
   "outputs": [],
   "source": [
    "function draw_points!(points; markersize=4, color=:black)\n",
    "    scatter!(points, markersize=markersize, color=color)\n",
    "end"
   ]
  },
  {
   "cell_type": "code",
   "execution_count": null,
   "metadata": {},
   "outputs": [],
   "source": [
    "make_scene()\n",
    "draw_points!(points)"
   ]
  },
  {
   "cell_type": "code",
   "execution_count": null,
   "metadata": {},
   "outputs": [],
   "source": [
    "struct Triangulation\n",
    "    points::Matrix{Float64}   # n x 2\n",
    "    edges::Matrix{Int64}      # m x 2\n",
    "    triangles::Matrix{Int64}  # t x 3\n",
    "end"
   ]
  },
  {
   "cell_type": "code",
   "execution_count": null,
   "metadata": {},
   "outputs": [],
   "source": [
    "function unique_edges(triangles)\n",
    "    set = Set()\n",
    "    for t in 1:size(triangles, 1)\n",
    "        triangle = triangles[t, :]\n",
    "        push!(set, min(triangle[[1, 2]], triangle[[2, 1]]))\n",
    "        push!(set, min(triangle[[2, 3]], triangle[[3, 2]]))\n",
    "        push!(set, min(triangle[[1, 3]], triangle[[3, 1]]))\n",
    "    end\n",
    "    return hcat(sort(collect(set))...)'\n",
    "end"
   ]
  },
  {
   "cell_type": "code",
   "execution_count": null,
   "metadata": {},
   "outputs": [],
   "source": [
    "unique_edges(tt)"
   ]
  },
  {
   "cell_type": "code",
   "execution_count": null,
   "metadata": {},
   "outputs": [],
   "source": [
    "function delaunay_triangulation(points)::Triangulation\n",
    "    points_map = collect(1:size(points, 1))\n",
    "    triangle_array = Triangle.basic_triangulation(points, points_map)\n",
    "    triangles = hcat(triangle_array...)'\n",
    "    edges = unique_edges(triangles)\n",
    "    return Triangulation(points, edges, triangles)\n",
    "end"
   ]
  },
  {
   "cell_type": "code",
   "execution_count": null,
   "metadata": {},
   "outputs": [],
   "source": [
    "function draw_edges!(triangulation; color=:gray)\n",
    "    linesegments!(triangulation.points[triangulation.edges'[:], :], color=color)\n",
    "end"
   ]
  },
  {
   "cell_type": "code",
   "execution_count": null,
   "metadata": {},
   "outputs": [],
   "source": [
    "function draw_triangulation(triangulation)\n",
    "    make_scene()\n",
    "    draw_edges!(triangulation)\n",
    "    draw_points!(triangulation.points)   \n",
    "end"
   ]
  },
  {
   "cell_type": "code",
   "execution_count": null,
   "metadata": {},
   "outputs": [],
   "source": [
    "del = delaunay_triangulation(points)\n",
    "draw_triangulation(del)"
   ]
  },
  {
   "cell_type": "code",
   "execution_count": null,
   "metadata": {},
   "outputs": [],
   "source": [
    "function triangle_centers(triangulation)\n",
    "    points = triangulation.points\n",
    "    triangles = triangulation.triangles\n",
    "    return dropdims(mean(points[triangles, :], dims=2), dims=2)\n",
    "end"
   ]
  },
  {
   "cell_type": "code",
   "execution_count": null,
   "metadata": {},
   "outputs": [],
   "source": [
    "centers = triangle_centers(del)\n",
    "draw_points!(centers, color=:limegreen)"
   ]
  },
  {
   "cell_type": "code",
   "execution_count": null,
   "metadata": {},
   "outputs": [],
   "source": [
    "function delaunay_with_centers(triangulation)\n",
    "    centers = triangle_centers(triangulation)\n",
    "    all_points = vcat(triangulation.points, centers)\n",
    "    return delaunay_triangulation(all_points)\n",
    "end"
   ]
  },
  {
   "cell_type": "code",
   "execution_count": null,
   "metadata": {},
   "outputs": [],
   "source": [
    "draw_triangulation(delaunay_with_centers(del))"
   ]
  },
  {
   "cell_type": "code",
   "execution_count": null,
   "metadata": {},
   "outputs": [],
   "source": [
    "draw_triangulation(delaunay_with_centers(delaunay_with_centers(del)))"
   ]
  },
  {
   "cell_type": "code",
   "execution_count": null,
   "metadata": {},
   "outputs": [],
   "source": [
    "# find edge centers for subdivision\n",
    "edge_centers = mean(points[edges, :], dims=1)[1, :, :]\n",
    "\n",
    "# triangulate with added center points and edge subdivision, keeping old edges\n",
    "points4 = vcat(points, centers_array, edge_centers)\n",
    "points_map4 = collect(1:size(points4, 1))\n",
    "triangles4 = constrained_triangulation(points4, points_map4, edges'[:,:])\n",
    "edges4 = unique_edges(triangles4)\n",
    "\n",
    "make_scene()\n",
    "linesegments!(points4[vec(edges4), :], color=:orange)\n",
    "linesegments!(points[vec(edges), :])\n",
    "scatter!(edge_centers, markersize=4, color=:green)\n",
    "scatter!(centers_array, markersize=4, color=:cyan)\n",
    "scatter!(x, y, markersize=5, color=:red)"
   ]
  },
  {
   "cell_type": "code",
   "execution_count": null,
   "metadata": {},
   "outputs": [],
   "source": [
    "function subdivided_edges(edges, offset)\n",
    "    set = Vector()\n",
    "    for e in 1:size(edges, 2)\n",
    "        edge = edges[:, e]\n",
    "        push!(set, [edge[1], e + offset])\n",
    "        push!(set, [e + offset, edge[2]])\n",
    "    end\n",
    "    return hcat(set...)\n",
    "end"
   ]
  },
  {
   "cell_type": "code",
   "execution_count": null,
   "metadata": {},
   "outputs": [],
   "source": [
    "# triangulate with added center points and edge subdivision, keeping subdivided edges\n",
    "points5 = vcat(points, centers_array, edge_centers)\n",
    "points_map5 = collect(1:size(points5, 1))\n",
    "\n",
    "offset = size(points, 1) + size(centers_array, 1)\n",
    "sub_edges = subdivided_edges(edges, offset)\n",
    "\n",
    "triangles5 = constrained_triangulation(points5, points_map5, sub_edges'[:,:])\n",
    "edges5 = unique_edges(triangles5)\n",
    "\n",
    "make_scene()\n",
    "linesegments!(points4[vec(edges5), :], color=:orange)\n",
    "linesegments!(points[vec(edges), :])\n",
    "scatter!(edge_centers, markersize=4, color=:green)\n",
    "scatter!(centers_array, markersize=4, color=:cyan)\n",
    "scatter!(x, y, markersize=5, color=:red)"
   ]
  }
 ],
 "metadata": {
  "kernelspec": {
   "display_name": "Julia 1.1.1",
   "language": "julia",
   "name": "julia-1.1"
  },
  "language_info": {
   "file_extension": ".jl",
   "mimetype": "application/julia",
   "name": "julia",
   "version": "1.1.1"
  },
  "nikola": {
   "category": "",
   "date": "2019-03-15 16:47:50 UTC+01:00",
   "description": "",
   "link": "",
   "slug": "refined-delaunay-for-flow-problems",
   "tags": "julialang,delaunay,triangulation,mesh,optimization,network,flow",
   "title": "Refined Delaunay for Flow Problems",
   "type": "text"
  }
 },
 "nbformat": 4,
 "nbformat_minor": 2
}

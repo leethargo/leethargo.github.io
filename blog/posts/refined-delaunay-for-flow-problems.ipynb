{
 "cells": [
  {
   "cell_type": "markdown",
   "metadata": {},
   "source": [
    "I am trying to solve a network design problem for gas pipeline networks (see [PipeLayout](https://github.com/rschwarz/PipeLayout.jl)). In the original problem statement, only the coordinates of the source and sink nodes are given. Pipes can be connected in any way, also using Steiner nodes at any location.\n",
    "\n",
    "But I also consider a discretized variation of the problem, where the pipes are selected from a given ground structure. Initially, I thought of using a regular (square) grid as a ground structure, but this brings problems related to solution symmetry (among other things).\n",
    "\n",
    "So, instead I will now try to find a (not so regular) triangulation of the area that starts with the given source & sink nodes, but may add additional points for refinement.\n",
    "\n",
    "Mesh generation with triangles is a well-studied problems, with mature implementations (see [Triangle](https://www.cs.cmu.edu/~quake/triangle.html)), but is usually done in order to solve PDE systems or similar. So these tools define a _good quality triangulation_ in terms of triangles with large angles or small areas.\n",
    "\n",
    "For our application, the triangle cells themselves are not relevant, but rather the edges around them. These are used to connect the nodes, so they should provide good candidates for shortest paths and spanning trees. Therefore, we will evaluate several triangulations based on the minimum tree that spans all terminal nodes."
   ]
  },
  {
   "cell_type": "markdown",
   "metadata": {},
   "source": [
    "# Implementation notes.\n",
    "\n",
    "As usual, we will experiment with Julia code. The triangulation code is part of the `PipeLayout` package, and based on `TriangleMesh`. Visualizations are made with `Makie` and `Cairo`. Optimization models are formulated with `JuMP` and solved with `SCIP`."
   ]
  },
  {
   "cell_type": "code",
   "execution_count": null,
   "metadata": {},
   "outputs": [],
   "source": [
    "# Activate custom environment\n",
    "using Pkg\n",
    "Pkg.activate(\"../../environments/refined-delaunay-for-flow-problems/\");\n",
    "\n",
    "# Julia standard library\n",
    "using LinearAlgebra\n",
    "using Random\n",
    "using SparseArrays\n",
    "using Statistics\n",
    "\n",
    "# Third-party packages\n",
    "using AbstractPlotting\n",
    "using CairoMakie\n",
    "using JuMP\n",
    "using LightGraphs\n",
    "using SCIP\n",
    "\n",
    "# My own code (not registered)\n",
    "using PipeLayout\n",
    "using PipeLayout: delaunay_triangulation, make_pslg, TriangleSwitches, triangulate\n",
    "using PipeLayout: antiparallel_digraph, euclidean_steiner_tree"
   ]
  },
  {
   "cell_type": "markdown",
   "metadata": {},
   "source": [
    "# Random Instance Data\n",
    "\n",
    "We generate a single set of 7 nodes that is used throughout the experiment."
   ]
  },
  {
   "cell_type": "code",
   "execution_count": null,
   "metadata": {},
   "outputs": [],
   "source": [
    "Random.seed!(0);\n",
    "const N = 7\n",
    "const WIDTH = 500\n",
    "const HEIGHT = 300\n",
    "\n",
    "x = round.(0.95 * WIDTH * rand(N))\n",
    "y = round.(0.95 * HEIGHT * rand(N))\n",
    "points = [x y];"
   ]
  },
  {
   "cell_type": "markdown",
   "metadata": {},
   "source": [
    "# Drawing with Makie\n",
    "\n",
    "We define some drawing utitities to be used below."
   ]
  },
  {
   "cell_type": "code",
   "execution_count": null,
   "metadata": {},
   "outputs": [],
   "source": [
    "function make_scene(width=WIDTH, height=HEIGHT)\n",
    "    return Scene(resolution=(width, height), show_axis=false, scale_plot=false)\n",
    "end\n",
    "\n",
    "function draw_points!(points; markersize=4, color=:black)\n",
    "    scatter!(points[:, 1], points[:, 2], markersize=markersize, color=color)\n",
    "end\n",
    "\n",
    "function draw_edges!(points, edges; color=:gray)\n",
    "    linesegments!(points[edges'[:], :], color=color)\n",
    "end\n",
    "\n",
    "function draw_triangulation(points, edges)\n",
    "    make_scene()\n",
    "    draw_edges!(points, edges)\n",
    "    draw_points!(points)   \n",
    "end\n",
    "\n",
    "draw_triangulation(trimesh) = draw_triangulation(trimesh.point', trimesh.edge');"
   ]
  },
  {
   "cell_type": "markdown",
   "metadata": {},
   "source": [
    "# Triangulation with TriangleMesh\n",
    "\n",
    "`TriangleMesh` wraps the `Triangle` C library for Julia. They provide, in particular, an algorithm for Constrained Delaunay Triangulation. This takes as input a planar polygon and outputs a triangulation of the nodes, while ensuring that the existing edges are part of the triangulation (but may be subdivided)."
   ]
  },
  {
   "cell_type": "code",
   "execution_count": null,
   "metadata": {},
   "outputs": [],
   "source": [
    "# Create Delaunay Triangulation from points\n",
    "deltri = delaunay_triangulation(points)\n",
    "\n",
    "# Create Polygon from triangulation (as input for further refinements)\n",
    "delpoly = make_pslg(deltri)\n",
    "\n",
    "draw_triangulation(deltri)"
   ]
  },
  {
   "cell_type": "code",
   "execution_count": null,
   "metadata": {},
   "outputs": [],
   "source": [
    "# Create triangulation of the raw points, specifying a minimum angle constraint\n",
    "draw_triangulation(triangulate(points,\n",
    "        TriangleSwitches(minimum_angle=20, conforming_delaunay=true)))"
   ]
  },
  {
   "cell_type": "code",
   "execution_count": null,
   "metadata": {},
   "outputs": [],
   "source": [
    "# Create a CDT, keeping the edges of the original triangulation \n",
    "draw_triangulation(triangulate(delpoly,\n",
    "        TriangleSwitches(minimum_angle=20, conforming_delaunay=true)))"
   ]
  },
  {
   "cell_type": "markdown",
   "metadata": {},
   "source": [
    "The simple Delaunay Triangulation makes sense visually and even has nice [theoretical properties](https://doi.org/10.1007/3-540-51542-9_6) about approximating Euclidean distances with shortest paths!\n",
    "\n",
    "The second triangle mesh introduces few additional nodes in order to get more regular triangles. But in turn, it also loses some of the \"direct\" connections between the terminal nodes.\n",
    "\n",
    "Finally, the CDT keeps the direct edges of the Delaunay Triangulation, but refines the triangles, using many more additional nodes and edges."
   ]
  },
  {
   "cell_type": "markdown",
   "metadata": {},
   "source": [
    "# Steiner Tree Model\n",
    "\n",
    "We will now define an optimization model to determine the shortest subgraph that spans the given terminal nodes (Steiner tree in graphs). The model uses a multi-commodity flow formulation.\n",
    "\n",
    "With the help of this model, we can see which edges of the triangulation are actually useful for our application, as well as quantitatively compare the triangulations."
   ]
  },
  {
   "cell_type": "code",
   "execution_count": null,
   "metadata": {},
   "outputs": [],
   "source": [
    "function edge_lengths(points, edges)\n",
    "    diff = points[edges[:, 1], :] - points[edges[:, 2], :]\n",
    "    return dropdims(mapslices(norm, diff, dims=2), dims=2)\n",
    "end\n",
    "\n",
    "edge_lengths(trimesh) = edge_lengths(trimesh.point', trimesh.edge')\n",
    "\n",
    "function edge_length_map(trimesh)\n",
    "    edges = trimesh.edge'\n",
    "    lengths = edge_lengths(trimesh)\n",
    "\n",
    "    length_map = Dict{Tuple{Int64, Int64}, Float64}()\n",
    "    for e = 1:size(edges, 1)\n",
    "        s, t = edges[e, :]\n",
    "        length_map[s, t] = lengths[e]\n",
    "        length_map[t, s] = lengths[e]\n",
    "    end\n",
    "    return length_map\n",
    "end\n",
    "\n",
    "function steiner_tree(trimesh, terminals)\n",
    "    # Compute length by Euclidean distance of nodes.\n",
    "    lengths = edge_length_map(trimesh)\n",
    "    \n",
    "    # Build digraph with all antiparallel arcs, for nonnegative flow.\n",
    "    graph = antiparallel_digraph(trimesh)\n",
    "    nodes = collect(1:nv(graph))\n",
    "    arcs = collect(keys(lengths))\n",
    "    \n",
    "    length(terminals) >= 2 || error(\"Need at least 2 terminals.\")\n",
    "    all(terminals .<= nv(graph)) || error(\"Terminals out of range.\")\n",
    "    root = terminals[1]\n",
    "    sinks = terminals[2:end]\n",
    "   \n",
    "    demand(v, s) = 1.0*(v == s) - 1.0*(v == root)\n",
    "    \n",
    "    # Using arc length for fixed capacity cost and multi-commodity flow.\n",
    "    model = JuMP.direct_model(SCIP.Optimizer(display_verblevel=0))\n",
    "    @variable(model, select[a in arcs], Bin, container=SparseAxisArray)\n",
    "    @variable(model, flow[a in arcs,s in sinks] ≥ 0, container=SparseAxisArray)\n",
    "    @constraint(model, balance[v in nodes, s in sinks],\n",
    "        sum(flow[(n, v), s] - flow[(v, n), s] for n in neighbors(graph, v))\n",
    "        == demand(v, s))\n",
    "    @constraint(model, capacity[a in arcs, s in sinks], flow[a, s] <= select[a])\n",
    "    @objective(model, Min, sum(lengths[a] * select[a] for a in arcs))\n",
    "    \n",
    "    optimize!(model)\n",
    "    \n",
    "    # Return objective, as well as selected edges.\n",
    "    return objective_value(model), value.(select)\n",
    "end"
   ]
  },
  {
   "cell_type": "markdown",
   "metadata": {},
   "source": [
    "Another utility will take a triangulation as input, compute the optimal subtree and visualize both."
   ]
  },
  {
   "cell_type": "code",
   "execution_count": null,
   "metadata": {},
   "outputs": [],
   "source": [
    "function draw_tree(trimesh, terminals=1:N)\n",
    "    points, edges = trimesh.point', trimesh.edge'\n",
    "    obj, select = steiner_tree(trimesh, terminals)\n",
    "    @show obj\n",
    "    selected = [select[(s,t)] + select[(t,s)] for (s,t) in eachrow(edges)]\n",
    "    active_edges = edges[selected .> 0.0, :]\n",
    "    \n",
    "    draw_triangulation(trimesh)\n",
    "    linesegments!(points[active_edges'[:], :], color=:plum, linewidth=3)\n",
    "    draw_points!(points[terminals, :], markersize=5, color=:teal)\n",
    "end"
   ]
  },
  {
   "cell_type": "code",
   "execution_count": null,
   "metadata": {},
   "outputs": [],
   "source": [
    "draw_tree(deltri)"
   ]
  },
  {
   "cell_type": "code",
   "execution_count": null,
   "metadata": {},
   "outputs": [],
   "source": [
    "tri = triangulate(points, TriangleSwitches(minimum_angle=20, conforming_delaunay=true))\n",
    "draw_tree(tri)"
   ]
  },
  {
   "cell_type": "code",
   "execution_count": null,
   "metadata": {},
   "outputs": [],
   "source": [
    "tri = triangulate(points, TriangleSwitches(maximum_area=sqrt(WIDTH*HEIGHT), conforming_delaunay=true))\n",
    "draw_tree(tri)"
   ]
  },
  {
   "cell_type": "code",
   "execution_count": null,
   "metadata": {},
   "outputs": [],
   "source": [
    "tri = triangulate(delpoly, TriangleSwitches(maximum_area=sqrt(WIDTH*HEIGHT), conforming_delaunay=true))\n",
    "draw_tree(tri)"
   ]
  },
  {
   "cell_type": "markdown",
   "metadata": {},
   "source": [
    "The Delaunay Triangulation allows for a solution of length 693.5. Other point cloud triangulations based on minimum angle or maximum area constraints yield poorer solutions, of length 700.5 and 687.5, while using a larger graph.\n",
    "\n",
    "The CDT recovers the solution of the Delaunay Triangulation, but does not use any of the additional nodes or edges introduced in the subdivision."
   ]
  },
  {
   "cell_type": "markdown",
   "metadata": {},
   "source": [
    "# Euclidean Steiner Tree\n",
    "\n",
    "We can \"cheat\" and solve the EST problem directly (based on [GeoSteiner](http://geosteiner.com/)).\n",
    "This will gives a lower bound on the length (what we can hope to achieve), and maybe a polygon to be triangulated."
   ]
  },
  {
   "cell_type": "code",
   "execution_count": null,
   "metadata": {},
   "outputs": [],
   "source": [
    "est = euclidean_steiner_tree(points)\n",
    "\n",
    "make_scene()\n",
    "draw_edges!(est...)\n",
    "draw_points!(est[1][1:N, :])"
   ]
  },
  {
   "cell_type": "markdown",
   "metadata": {},
   "source": [
    "We can see that 3 additional Steiner nodes are inserted.\n",
    "\n",
    "Let's now build a triangulation of this tree and compute the length.\n",
    "\n",
    "Then, we show a point cloud triangulation, based on the terminals and the Steiner nodes of the EST."
   ]
  },
  {
   "cell_type": "code",
   "execution_count": null,
   "metadata": {},
   "outputs": [],
   "source": [
    "estpoly = make_pslg(est...)\n",
    "draw_tree(triangulate(estpoly, TriangleSwitches(\n",
    "            minimum_angle=20, maximum_area=sqrt(WIDTH*HEIGHT), convex_hull=true)))"
   ]
  },
  {
   "cell_type": "code",
   "execution_count": null,
   "metadata": {},
   "outputs": [],
   "source": [
    "draw_tree(triangulate(est[1], TriangleSwitches(minimum_angle=20, maximum_area=sqrt(WIDTH*HEIGHT))))"
   ]
  },
  {
   "cell_type": "markdown",
   "metadata": {},
   "source": [
    "The EST has a length of 664, which is significantly shorter than the 693.5 of the Delaunay Triangulation, so there is still some room for improvement.\n",
    "\n",
    "Using only the additional Steiner nodes does not give a convincing solution."
   ]
  },
  {
   "cell_type": "markdown",
   "metadata": {},
   "source": [
    "# Conclusion\n",
    "\n",
    "Overall, the experiment is a little disappointing. Using any point cloud triangulation does not result in short trees, even if the triangulation becomes finer.\n",
    "\n",
    "The Delaunay Triangulation is a strong candidate, given that it does not introduce any new nodes.\n",
    "\n",
    "Improving on the Delaunay Triangulation with refinement based on CDT has not been fruitful on this example data, as the additional edges are never used for the tree.\n",
    "\n",
    "Intuitively, to find short trees, one would like to connect the terminal nodes with direct, line-of-sight edges. But the irregular triangulation often runs orthogonal to that desired line, which would require frequent _detours_.\n",
    "\n",
    "Finally, the actual solution of the EST can be used as the basis of a triangulation, which then contains the relevant edges and also looks regular and \"natural\". But from a methodology point of view, this means using the final result as input of the solution process."
   ]
  },
  {
   "cell_type": "markdown",
   "metadata": {},
   "source": [
    "# Outlook\n",
    "\n",
    "Luckily, the actual application has additional features, beyond the minimum length spanning tree. So the EST could still be used effectively in a preprocessing step. Maybe some pertubation of the node positions can be applied to yield triangles of more equal size, as in [force-directed_graph_drawing](https://en.wikipedia.org/wiki/Force-directed_graph_drawing)."
   ]
  }
 ],
 "metadata": {
  "@webio": {
   "lastCommId": null,
   "lastKernelId": null
  },
  "kernelspec": {
   "display_name": "Julia 1.1.1",
   "language": "julia",
   "name": "julia-1.1"
  },
  "language_info": {
   "file_extension": ".jl",
   "mimetype": "application/julia",
   "name": "julia",
   "version": "1.1.1"
  },
  "nikola": {
   "category": "",
   "date": "2019-11-14 13:00:00 UTC+01:00",
   "description": "",
   "link": "",
   "slug": "refined-delaunay-for-flow-problems",
   "tags": "julialang,delaunay,triangulation,mesh,optimization,network,flow,Steiner,tree",
   "title": "Refined Delaunay Triangulations for Flow Problems",
   "type": "text"
  }
 },
 "nbformat": 4,
 "nbformat_minor": 2
}

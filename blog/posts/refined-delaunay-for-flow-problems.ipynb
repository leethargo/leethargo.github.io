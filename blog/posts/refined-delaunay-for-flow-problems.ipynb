{
 "cells": [
  {
   "cell_type": "code",
   "execution_count": null,
   "metadata": {},
   "outputs": [],
   "source": [
    "using Pkg\n",
    "\n",
    "Pkg.activate(\"/home/rs/.julia/environments/triangulations/\")"
   ]
  },
  {
   "cell_type": "code",
   "execution_count": null,
   "metadata": {},
   "outputs": [],
   "source": [
    "using Random\n",
    "Random.seed!(1);"
   ]
  },
  {
   "cell_type": "markdown",
   "metadata": {},
   "source": [
    "# CairoMakie plotting basics"
   ]
  },
  {
   "cell_type": "code",
   "execution_count": null,
   "metadata": {},
   "outputs": [],
   "source": [
    "using AbstractPlotting\n",
    "using CairoMakie"
   ]
  },
  {
   "cell_type": "code",
   "execution_count": null,
   "metadata": {},
   "outputs": [],
   "source": [
    "n = 7\n",
    "\n",
    "x = 400 * rand(n)\n",
    "y = 200 * rand(n)\n",
    "[x y]'"
   ]
  },
  {
   "cell_type": "code",
   "execution_count": null,
   "metadata": {},
   "outputs": [],
   "source": [
    "scene = Scene(resolution=(400,200), show_axis=false, scale_plot=false)\n",
    "scatter!(x, y, markersize=5)\n",
    "linesegments!(x, y)"
   ]
  },
  {
   "cell_type": "code",
   "execution_count": null,
   "metadata": {},
   "outputs": [],
   "source": [
    "make_scene() = Scene(resolution=(400,200), show_axis=false, scale_plot=false)"
   ]
  },
  {
   "cell_type": "markdown",
   "metadata": {},
   "source": [
    "# TriangleMesh.jl"
   ]
  },
  {
   "cell_type": "code",
   "execution_count": null,
   "metadata": {},
   "outputs": [],
   "source": [
    "using Statistics"
   ]
  },
  {
   "cell_type": "code",
   "execution_count": null,
   "metadata": {},
   "outputs": [],
   "source": [
    "using TriangleMesh"
   ]
  },
  {
   "cell_type": "code",
   "execution_count": null,
   "metadata": {},
   "outputs": [],
   "source": [
    "# simple point cloud meshing\n",
    "p = [x y]\n",
    "mesh = create_mesh(p);"
   ]
  },
  {
   "cell_type": "code",
   "execution_count": null,
   "metadata": {},
   "outputs": [],
   "source": [
    "mesh.point"
   ]
  },
  {
   "cell_type": "code",
   "execution_count": null,
   "metadata": {},
   "outputs": [],
   "source": [
    "mesh.edge"
   ]
  },
  {
   "cell_type": "code",
   "execution_count": null,
   "metadata": {},
   "outputs": [],
   "source": [
    "mesh.segment"
   ]
  },
  {
   "cell_type": "code",
   "execution_count": null,
   "metadata": {},
   "outputs": [],
   "source": [
    "edge_array = mesh.point[:, vec(mesh.edge)]"
   ]
  },
  {
   "cell_type": "code",
   "execution_count": null,
   "metadata": {},
   "outputs": [],
   "source": [
    "\"Draw mesh based on initial points.\"\n",
    "function draw_mesh(mesh, points)\n",
    "    scene = make_scene()\n",
    "    linesegments!(mesh.point[:, vec(mesh.edge)]', color=:gray, linestyle=:dot)\n",
    "    linesegments!(mesh.point[:, vec(mesh.segment)]')\n",
    "    scatter!(points, markersize=8, color=:red)\n",
    "    scatter!(mesh.point', markersize=4)\n",
    "end"
   ]
  },
  {
   "cell_type": "code",
   "execution_count": null,
   "metadata": {},
   "outputs": [],
   "source": [
    "draw_mesh(mesh, p)"
   ]
  },
  {
   "cell_type": "code",
   "execution_count": null,
   "metadata": {},
   "outputs": [],
   "source": [
    "# again, but no Steiner points\n",
    "mesh = create_mesh(p, prevent_steiner_points=true, delaunay=true)\n",
    "draw_mesh(mesh, p)"
   ]
  },
  {
   "cell_type": "code",
   "execution_count": null,
   "metadata": {},
   "outputs": [],
   "source": [
    "mesh1 = mesh;"
   ]
  },
  {
   "cell_type": "code",
   "execution_count": null,
   "metadata": {},
   "outputs": [],
   "source": [
    "mesh1.segment"
   ]
  },
  {
   "cell_type": "code",
   "execution_count": null,
   "metadata": {},
   "outputs": [],
   "source": [
    "mesh1.edge"
   ]
  },
  {
   "cell_type": "code",
   "execution_count": null,
   "metadata": {},
   "outputs": [],
   "source": [
    "# refine this mesh\n",
    "mesh = refine(mesh1, keep_edges=true)\n",
    "draw_mesh(mesh, p)"
   ]
  },
  {
   "cell_type": "code",
   "execution_count": null,
   "metadata": {},
   "outputs": [],
   "source": [
    "# refine this mesh\n",
    "mesh = refine(mesh1)\n",
    "draw_mesh(mesh, p)"
   ]
  },
  {
   "cell_type": "code",
   "execution_count": null,
   "metadata": {},
   "outputs": [],
   "source": [
    "# refine this mesh\n",
    "mesh = refine_rg(mesh1)\n",
    "draw_mesh(mesh, p)"
   ]
  },
  {
   "cell_type": "code",
   "execution_count": null,
   "metadata": {},
   "outputs": [],
   "source": [
    "# easy to understand and repeatable, but still awkward Steiner points?\n",
    "mesh2 = mesh;"
   ]
  },
  {
   "cell_type": "code",
   "execution_count": null,
   "metadata": {},
   "outputs": [],
   "source": [
    "# refine this mesh, again\n",
    "mesh = refine_rg(mesh2)\n",
    "draw_mesh(mesh, p)"
   ]
  },
  {
   "cell_type": "code",
   "execution_count": null,
   "metadata": {},
   "outputs": [],
   "source": [
    "# looks too regular :-\\ try again"
   ]
  },
  {
   "cell_type": "code",
   "execution_count": null,
   "metadata": {},
   "outputs": [],
   "source": [
    "# refine this mesh, again\n",
    "mesh = refine(mesh2, divide_cell_into=1, keep_segments=true)\n",
    "draw_mesh(mesh, p)"
   ]
  },
  {
   "cell_type": "code",
   "execution_count": null,
   "metadata": {},
   "outputs": [],
   "source": [
    "# just using pre-existing meshing methods and refinements is not good enough :-("
   ]
  },
  {
   "cell_type": "code",
   "execution_count": null,
   "metadata": {},
   "outputs": [],
   "source": [
    "mesh1.edge"
   ]
  },
  {
   "cell_type": "code",
   "execution_count": null,
   "metadata": {},
   "outputs": [],
   "source": [
    "function polygon_from_mesh(mesh)\n",
    "    points = mesh1.point\n",
    "    segments = mesh1.edge\n",
    "\n",
    "    poly = Polygon_pslg(size(points, 2), 0, 0, size(segments, 2), 0)\n",
    "    set_polygon_point!(poly, points')\n",
    "    set_polygon_segment!(poly, segments')\n",
    "\n",
    "    return poly\n",
    "end"
   ]
  },
  {
   "cell_type": "code",
   "execution_count": null,
   "metadata": {},
   "outputs": [],
   "source": [
    "poly1 = polygon_from_mesh(mesh1)"
   ]
  },
  {
   "cell_type": "code",
   "execution_count": null,
   "metadata": {},
   "outputs": [],
   "source": [
    "mesh1 = create_mesh(poly1, add_switches=\"S0\")\n",
    "draw_mesh(mesh1, p)"
   ]
  },
  {
   "cell_type": "code",
   "execution_count": null,
   "metadata": {},
   "outputs": [],
   "source": [
    "function add_points(mesh, points)\n",
    "    points = hcat(mesh.point, points)\n",
    "    segments = mesh.segment\n",
    "\n",
    "    poly = Polygon_pslg(size(points, 2), 0, 0, size(segments, 2), 0)\n",
    "    set_polygon_point!(poly, points')\n",
    "    set_polygon_segment!(poly, segments')\n",
    "\n",
    "    # no extra Steiner points\n",
    "    return create_mesh(poly, add_switches=\"S0\")\n",
    "end"
   ]
  },
  {
   "cell_type": "code",
   "execution_count": null,
   "metadata": {},
   "outputs": [],
   "source": [
    "mesh1.point"
   ]
  },
  {
   "cell_type": "code",
   "execution_count": null,
   "metadata": {},
   "outputs": [],
   "source": [
    "mesh1.cell"
   ]
  },
  {
   "cell_type": "code",
   "execution_count": null,
   "metadata": {},
   "outputs": [],
   "source": [
    "triangle_centers(mesh) = mean(mesh.point[:, mesh.cell], dims=2)[:,1,:]"
   ]
  },
  {
   "cell_type": "code",
   "execution_count": null,
   "metadata": {},
   "outputs": [],
   "source": [
    "mesh2 = add_points(mesh1, triangle_centers(mesh1))\n",
    "draw_mesh(mesh2, p)"
   ]
  },
  {
   "cell_type": "code",
   "execution_count": null,
   "metadata": {},
   "outputs": [],
   "source": [
    "mesh3 = add_points(mesh2, triangle_centers(mesh2))\n",
    "draw_mesh(mesh3, p)"
   ]
  },
  {
   "cell_type": "markdown",
   "metadata": {},
   "source": [
    "# Triangle.jl"
   ]
  },
  {
   "cell_type": "code",
   "execution_count": null,
   "metadata": {},
   "outputs": [],
   "source": [
    "using Triangle"
   ]
  },
  {
   "cell_type": "code",
   "execution_count": null,
   "metadata": {},
   "outputs": [],
   "source": [
    "# Start with straight-forward Delaunay triangulation, again.\n",
    "points = [x y]\n",
    "points_map = collect(1:n)\n",
    "\n",
    "triangles = basic_triangulation(points, points_map)\n",
    "@show triangles\n",
    "\n",
    "edges = reshape(vcat([t[[1, 2, 2, 3, 3, 1]] for t in triangles]...), 2, :)\n",
    "@show edges\n",
    "\n",
    "scene = Scene(resolution=(600,300))\n",
    "scatter!(x, y, markersize=8, color=:red)\n",
    "linesegments!(points[vec(edges), :], linewidth=2)"
   ]
  },
  {
   "cell_type": "code",
   "execution_count": null,
   "metadata": {},
   "outputs": [],
   "source": [
    "# for each triangle, add a point in the center (mean)\n",
    "centers = [mean(points[t, :], dims=1) for t in triangles]"
   ]
  },
  {
   "cell_type": "code",
   "execution_count": null,
   "metadata": {},
   "outputs": [],
   "source": [
    "centers_array = reshape(hcat(centers...), 2, :)'\n",
    "@show centers_array\n",
    "scatter!(centers_array, markersize=5)"
   ]
  },
  {
   "cell_type": "code",
   "execution_count": null,
   "metadata": {},
   "outputs": [],
   "source": [
    "edges'[:,:]"
   ]
  },
  {
   "cell_type": "code",
   "execution_count": null,
   "metadata": {},
   "outputs": [],
   "source": [
    "points2 = vcat(points, centers_array)\n",
    "points_map2 = collect(1:size(points2, 1))\n",
    "triangles2 = constrained_triangulation(points2, points_map2, edges'[:,:])\n",
    "\n",
    "edges2 = reshape(vcat([t[[1, 2, 2, 3, 3, 1]] for t in triangles2]...), 2, :)\n",
    "linesegments!(points2[vec(edges2), :], color=:green)"
   ]
  },
  {
   "cell_type": "code",
   "execution_count": null,
   "metadata": {},
   "outputs": [],
   "source": [
    "# need also subdivide the edges that we want to keep?\n",
    "# TODO..."
   ]
  }
 ],
 "metadata": {
  "kernelspec": {
   "display_name": "Julia 1.1.1",
   "language": "julia",
   "name": "julia-1.1"
  },
  "language_info": {
   "file_extension": ".jl",
   "mimetype": "application/julia",
   "name": "julia",
   "version": "1.1.1"
  },
  "nikola": {
   "category": "",
   "date": "2019-03-15 16:47:50 UTC+01:00",
   "description": "",
   "link": "",
   "slug": "refined-delaunay-for-flow-problems",
   "tags": "julialang,delaunay,triangulation,mesh,optimization,network,flow",
   "title": "Refined Delaunay for Flow Problems",
   "type": "text"
  }
 },
 "nbformat": 4,
 "nbformat_minor": 2
}

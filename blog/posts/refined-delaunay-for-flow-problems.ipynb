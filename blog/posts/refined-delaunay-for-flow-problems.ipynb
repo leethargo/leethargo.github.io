{
 "cells": [
  {
   "cell_type": "code",
   "execution_count": null,
   "metadata": {},
   "outputs": [],
   "source": [
    "using Random\n",
    "using Statistics\n",
    "\n",
    "using AbstractPlotting\n",
    "using CairoMakie\n",
    "using JuMP\n",
    "using SCIP\n",
    "using Triangle"
   ]
  },
  {
   "cell_type": "code",
   "execution_count": null,
   "metadata": {},
   "outputs": [],
   "source": [
    "Random.seed!(1);"
   ]
  },
  {
   "cell_type": "code",
   "execution_count": null,
   "metadata": {},
   "outputs": [],
   "source": [
    "n = 8\n",
    "\n",
    "x = 400 * rand(n)\n",
    "y = 200 * rand(n)\n",
    "[x y]'"
   ]
  },
  {
   "cell_type": "code",
   "execution_count": null,
   "metadata": {},
   "outputs": [],
   "source": [
    "make_scene(width=400, height=200) = Scene(resolution=(width, height), show_axis=false, scale_plot=false)"
   ]
  },
  {
   "cell_type": "code",
   "execution_count": null,
   "metadata": {},
   "outputs": [],
   "source": [
    "function unique_edges(triangles)\n",
    "    set = Set()\n",
    "    for t in triangles\n",
    "        push!(set, min(t[[1, 2]], t[[2, 1]]))\n",
    "        push!(set, min(t[[2, 3]], t[[3, 2]]))\n",
    "        push!(set, min(t[[1, 3]], t[[3, 1]]))\n",
    "    end\n",
    "    return hcat(sort(collect(set))...)\n",
    "end"
   ]
  },
  {
   "cell_type": "code",
   "execution_count": null,
   "metadata": {},
   "outputs": [],
   "source": [
    "# Start with straight-forward Delaunay triangulation.\n",
    "points = [x y]\n",
    "points_map = collect(1:n)\n",
    "\n",
    "triangles = basic_triangulation(points, points_map)\n",
    "@show triangles\n",
    "\n",
    "edges = unique_edges(triangles)\n",
    "@show edges\n",
    "\n",
    "make_scene()\n",
    "scatter!(x, y, markersize=8, color=:red)\n",
    "linesegments!(points[vec(edges), :])"
   ]
  },
  {
   "cell_type": "code",
   "execution_count": null,
   "metadata": {},
   "outputs": [],
   "source": [
    "# for each triangle, add a point in the center (mean)\n",
    "centers = [mean(points[t, :], dims=1) for t in triangles]\n",
    "centers_array = reshape(hcat(centers...), 2, :)'"
   ]
  },
  {
   "cell_type": "code",
   "execution_count": null,
   "metadata": {},
   "outputs": [],
   "source": [
    "# triangulate with added center points, keeping existing edges\n",
    "points2 = vcat(points, centers_array)\n",
    "points_map2 = collect(1:size(points2, 1))\n",
    "triangles2 = constrained_triangulation(points2, points_map2, edges'[:,:])\n",
    "\n",
    "edges2 = unique_edges(triangles2)\n",
    "make_scene()\n",
    "linesegments!(points[vec(edges), :])\n",
    "linesegments!(points2[vec(edges2), :], color=:green)\n",
    "scatter!(centers_array, markersize=4)\n",
    "scatter!(x, y, markersize=5, color=:red)"
   ]
  },
  {
   "cell_type": "code",
   "execution_count": null,
   "metadata": {},
   "outputs": [],
   "source": [
    "# compare triangulation without keeping edges\n",
    "points3 = vcat(points, centers_array)\n",
    "points_map3 = collect(1:size(points3, 1))\n",
    "triangles3 = basic_triangulation(points3, points_map3)\n",
    "@show triangles3\n",
    "\n",
    "edges3 = unique_edges(triangles3)\n",
    "@show edges3\n",
    "\n",
    "make_scene()\n",
    "linesegments!(points3[vec(edges3), :], color=:green)\n",
    "scatter!(x, y, markersize=5, color=:red)\n",
    "scatter!(centers_array)"
   ]
  },
  {
   "cell_type": "code",
   "execution_count": null,
   "metadata": {},
   "outputs": [],
   "source": [
    "# find edge centers for subdivision\n",
    "edge_centers = mean(points[edges, :], dims=1)[1, :, :]\n",
    "\n",
    "# triangulate with added center points and edge subdivision, keeping old edges\n",
    "points4 = vcat(points, centers_array, edge_centers)\n",
    "points_map4 = collect(1:size(points4, 1))\n",
    "triangles4 = constrained_triangulation(points4, points_map4, edges'[:,:])\n",
    "edges4 = unique_edges(triangles4)\n",
    "\n",
    "make_scene()\n",
    "linesegments!(points4[vec(edges4), :], color=:orange)\n",
    "linesegments!(points[vec(edges), :])\n",
    "scatter!(edge_centers, markersize=4, color=:green)\n",
    "scatter!(centers_array, markersize=4, color=:cyan)\n",
    "scatter!(x, y, markersize=5, color=:red)"
   ]
  },
  {
   "cell_type": "code",
   "execution_count": null,
   "metadata": {},
   "outputs": [],
   "source": [
    "function subdivided_edges(edges, offset)\n",
    "    set = Vector()\n",
    "    for e in 1:size(edges, 2)\n",
    "        edge = edges[:, e]\n",
    "        push!(set, [edge[1], e + offset])\n",
    "        push!(set, [e + offset, edge[2]])\n",
    "    end\n",
    "    return hcat(set...)\n",
    "end"
   ]
  },
  {
   "cell_type": "code",
   "execution_count": null,
   "metadata": {},
   "outputs": [],
   "source": [
    "# triangulate with added center points and edge subdivision, keeping subdivided edges\n",
    "points5 = vcat(points, centers_array, edge_centers)\n",
    "points_map5 = collect(1:size(points5, 1))\n",
    "\n",
    "offset = size(points, 1) + size(centers_array, 1)\n",
    "sub_edges = subdivided_edges(edges, offset)\n",
    "\n",
    "triangles5 = constrained_triangulation(points5, points_map5, sub_edges'[:,:])\n",
    "edges5 = unique_edges(triangles5)\n",
    "\n",
    "make_scene()\n",
    "linesegments!(points4[vec(edges5), :], color=:orange)\n",
    "linesegments!(points[vec(edges), :])\n",
    "scatter!(edge_centers, markersize=4, color=:green)\n",
    "scatter!(centers_array, markersize=4, color=:cyan)\n",
    "scatter!(x, y, markersize=5, color=:red)"
   ]
  }
 ],
 "metadata": {
  "kernelspec": {
   "display_name": "Julia 1.1.1",
   "language": "julia",
   "name": "julia-1.1"
  },
  "language_info": {
   "file_extension": ".jl",
   "mimetype": "application/julia",
   "name": "julia",
   "version": "1.1.1"
  },
  "nikola": {
   "category": "",
   "date": "2019-03-15 16:47:50 UTC+01:00",
   "description": "",
   "link": "",
   "slug": "refined-delaunay-for-flow-problems",
   "tags": "julialang,delaunay,triangulation,mesh,optimization,network,flow",
   "title": "Refined Delaunay for Flow Problems",
   "type": "text"
  }
 },
 "nbformat": 4,
 "nbformat_minor": 2
}

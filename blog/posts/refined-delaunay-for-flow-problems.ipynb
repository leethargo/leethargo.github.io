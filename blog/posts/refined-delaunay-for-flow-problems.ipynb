{
 "cells": [
  {
   "cell_type": "code",
   "execution_count": null,
   "metadata": {},
   "outputs": [],
   "source": [
    "using Pkg\n",
    "Pkg.activate(\"../../environments/refined-delaunay-for-flow-problems/\");"
   ]
  },
  {
   "cell_type": "code",
   "execution_count": null,
   "metadata": {},
   "outputs": [],
   "source": [
    "using LinearAlgebra\n",
    "using Random\n",
    "using SparseArrays\n",
    "using Statistics\n",
    "\n",
    "using AbstractPlotting\n",
    "using CairoMakie\n",
    "using Distances\n",
    "using JuMP\n",
    "using LightGraphs\n",
    "using Parameters\n",
    "using SCIP\n",
    "using Triangle"
   ]
  },
  {
   "cell_type": "code",
   "execution_count": null,
   "metadata": {},
   "outputs": [],
   "source": [
    "# create instance data\n",
    "Random.seed!(0);\n",
    "\n",
    "const N = 7\n",
    "const WIDTH = 500\n",
    "const HEIGHT = 300\n",
    "\n",
    "x = 0.95 * WIDTH * rand(N)\n",
    "y = 0.95 * HEIGHT * rand(N)\n",
    "points = [x y];"
   ]
  },
  {
   "cell_type": "code",
   "execution_count": null,
   "metadata": {},
   "outputs": [],
   "source": [
    "function make_scene(width=WIDTH, height=HEIGHT)\n",
    "    return Scene(resolution=(width, height), show_axis=false, scale_plot=false)\n",
    "end"
   ]
  },
  {
   "cell_type": "code",
   "execution_count": null,
   "metadata": {},
   "outputs": [],
   "source": [
    "function draw_points!(points; markersize=4, color=:black)\n",
    "    scatter!(points[:, 1], points[:, 2], markersize=markersize, color=color)\n",
    "end"
   ]
  },
  {
   "cell_type": "code",
   "execution_count": null,
   "metadata": {},
   "outputs": [],
   "source": [
    "make_scene()\n",
    "draw_points!(points)"
   ]
  },
  {
   "cell_type": "code",
   "execution_count": null,
   "metadata": {},
   "outputs": [],
   "source": [
    "struct Triangulation\n",
    "    points::Matrix{Float64}   # n x 2\n",
    "    edges::Matrix{Int64}      # m x 2\n",
    "    triangles::Matrix{Int64}  # t x 3\n",
    "    keep_edges::Vector{Int64} # k\n",
    "end\n",
    "\n",
    "Triangulation(p, e, t) = Triangulation(p, e, t, [])"
   ]
  },
  {
   "cell_type": "code",
   "execution_count": null,
   "metadata": {},
   "outputs": [],
   "source": [
    "function unique_edges(triangles)\n",
    "    set = Set()\n",
    "    for t in 1:size(triangles, 1)\n",
    "        triangle = triangles[t, :]\n",
    "        push!(set, min(triangle[[1, 2]], triangle[[2, 1]]))\n",
    "        push!(set, min(triangle[[2, 3]], triangle[[3, 2]]))\n",
    "        push!(set, min(triangle[[1, 3]], triangle[[3, 1]]))\n",
    "    end\n",
    "    return hcat(sort(collect(set))...)'\n",
    "end"
   ]
  },
  {
   "cell_type": "code",
   "execution_count": null,
   "metadata": {},
   "outputs": [],
   "source": [
    "function delaunay_triangulation(points)::Triangulation\n",
    "    points_map = collect(1:size(points, 1))\n",
    "    triangle_array = Triangle.basic_triangulation(points, points_map)\n",
    "    triangles = hcat(triangle_array...)'\n",
    "    edges = unique_edges(triangles)\n",
    "    return Triangulation(points, edges, triangles)\n",
    "end"
   ]
  },
  {
   "cell_type": "code",
   "execution_count": null,
   "metadata": {},
   "outputs": [],
   "source": [
    "function draw_edges!(triangulation; color=:gray)\n",
    "    @unpack points, edges = triangulation\n",
    "    linesegments!(points[edges'[:], :], color=color)\n",
    "end"
   ]
  },
  {
   "cell_type": "code",
   "execution_count": null,
   "metadata": {},
   "outputs": [],
   "source": [
    "function draw_triangulation(triangulation)\n",
    "    make_scene()\n",
    "    draw_edges!(triangulation)\n",
    "    draw_points!(triangulation.points)   \n",
    "end"
   ]
  },
  {
   "cell_type": "code",
   "execution_count": null,
   "metadata": {},
   "outputs": [],
   "source": [
    "del = delaunay_triangulation(points)\n",
    "draw_triangulation(del)"
   ]
  },
  {
   "cell_type": "code",
   "execution_count": null,
   "metadata": {},
   "outputs": [],
   "source": [
    "pointset_mean(array) = dropdims(mean(array, dims=2), dims=2)"
   ]
  },
  {
   "cell_type": "code",
   "execution_count": null,
   "metadata": {},
   "outputs": [],
   "source": [
    "abstract type TriangleCenter end\n",
    "\n",
    "struct TriangleCentroid <: TriangleCenter end\n",
    "struct TriangleIncenter <: TriangleCenter end\n",
    "struct TriangleCircumcenter <: TriangleCenter end # yield Voronoi points!"
   ]
  },
  {
   "cell_type": "code",
   "execution_count": null,
   "metadata": {},
   "outputs": [],
   "source": [
    "function triangle_centers(triangulation, ::TriangleCentroid)\n",
    "    @unpack points, triangles = triangulation\n",
    "    return pointset_mean(points[triangles, :])\n",
    "end\n",
    "\n",
    "triangle_centers(t) = triangle_centers(t, TriangleCentroid())"
   ]
  },
  {
   "cell_type": "code",
   "execution_count": null,
   "metadata": {},
   "outputs": [],
   "source": [
    "function triangle_centers(triangulation, ::TriangleIncenter)\n",
    "    @unpack points, triangles = triangulation\n",
    "    centers = []\n",
    "    for t in eachrow(triangles)\n",
    "        corners = points[t, :]\n",
    "\n",
    "        a = norm(corners[2, :] - corners[3, :])\n",
    "        b = norm(corners[1, :] - corners[3, :])\n",
    "        c = norm(corners[1, :] - corners[2, :])\n",
    "        # based on barycentric coordinates a:b:c        \n",
    "        incenter = [a b c] * corners ./ (a + b + c)\n",
    "        push!(centers, incenter)\n",
    "    end\n",
    "    \n",
    "    return vcat(centers...)\n",
    "end"
   ]
  },
  {
   "cell_type": "code",
   "execution_count": null,
   "metadata": {},
   "outputs": [],
   "source": [
    "function triangle_centers(triangulation, ::TriangleCircumcenter)\n",
    "    @unpack points, triangles = triangulation\n",
    "    centers = []\n",
    "    for t in eachrow(triangles)\n",
    "        corners = points[t, :]\n",
    "        Ax, Ay = corners[1, :]\n",
    "        Bx, By = corners[2, :]\n",
    "        Cx, Cy = corners[3, :]\n",
    "        D = 2 * ( Ax * (By - Cy) + Bx * (Cy - Ay) + Cx * (Ay - By) )\n",
    "        Ux = ((Ax^2 + Ay^2)*(By - Cy)) + ((Bx^2 + By^2)*(Cy - Ay)) + ((Cx^2 + Cy^2)*(Ay - By))\n",
    "        Uy = ((Ax^2 + Ay^2)*(Cx - Bx)) + ((Bx^2 + By^2)*(Ax - Cx)) + ((Cx^2 + Cy^2)*(Bx - Ax))\n",
    "        circumcenter = [Ux Uy] ./ D\n",
    "        push!(centers, circumcenter)\n",
    "    end\n",
    "    \n",
    "    return vcat(centers...)\n",
    "end"
   ]
  },
  {
   "cell_type": "code",
   "execution_count": null,
   "metadata": {},
   "outputs": [],
   "source": [
    "draw_triangulation(del)\n",
    "draw_points!(triangle_centers(del, TriangleCentroid()), color=:limegreen)\n",
    "draw_points!(triangle_centers(del, TriangleIncenter()), color=:magenta)\n",
    "draw_points!(triangle_centers(del, TriangleCircumcenter()), color=:lightblue)"
   ]
  },
  {
   "cell_type": "code",
   "execution_count": null,
   "metadata": {},
   "outputs": [],
   "source": [
    "function delaunay_with_centers(triangulation, method=TriangleCentroid())\n",
    "    centers = triangle_centers(triangulation, method)\n",
    "    all_points = vcat(triangulation.points, centers)\n",
    "    return delaunay_triangulation(all_points)\n",
    "end"
   ]
  },
  {
   "cell_type": "code",
   "execution_count": null,
   "metadata": {},
   "outputs": [],
   "source": [
    "draw_triangulation(delaunay_with_centers(del))"
   ]
  },
  {
   "cell_type": "code",
   "execution_count": null,
   "metadata": {},
   "outputs": [],
   "source": [
    "draw_triangulation(delaunay_with_centers(del, TriangleIncenter()))"
   ]
  },
  {
   "cell_type": "code",
   "execution_count": null,
   "metadata": {},
   "outputs": [],
   "source": [
    "draw_triangulation(delaunay_with_centers(del, TriangleCircumcenter()))"
   ]
  },
  {
   "cell_type": "code",
   "execution_count": null,
   "metadata": {},
   "outputs": [],
   "source": [
    "draw_triangulation(delaunay_with_centers(delaunay_with_centers(del)))"
   ]
  },
  {
   "cell_type": "code",
   "execution_count": null,
   "metadata": {},
   "outputs": [],
   "source": [
    "function constrained_with_centers(triangulation, method=TriangleCentroid())\n",
    "    @unpack points, edges = triangulation\n",
    "    centers = triangle_centers(triangulation, method)\n",
    "    all_points = vcat(points, centers)\n",
    "    point_map = collect(1:size(all_points, 1))\n",
    "    \n",
    "    triangle_array = Triangle.constrained_triangulation(all_points, point_map, edges)\n",
    "    \n",
    "    triangles = hcat(triangle_array...)'\n",
    "    edges = unique_edges(triangles)\n",
    "    return Triangulation(all_points, edges, triangles)\n",
    "end"
   ]
  },
  {
   "cell_type": "code",
   "execution_count": null,
   "metadata": {},
   "outputs": [],
   "source": [
    "draw_triangulation(constrained_with_centers(del))"
   ]
  },
  {
   "cell_type": "code",
   "execution_count": null,
   "metadata": {},
   "outputs": [],
   "source": [
    "draw_triangulation(constrained_with_centers(constrained_with_centers(del)))"
   ]
  },
  {
   "cell_type": "code",
   "execution_count": null,
   "metadata": {},
   "outputs": [],
   "source": [
    "function edge_midpoints(triangulation)\n",
    "    @unpack points, edges = triangulation\n",
    "    return pointset_mean(points[edges, :])\n",
    "end"
   ]
  },
  {
   "cell_type": "code",
   "execution_count": null,
   "metadata": {},
   "outputs": [],
   "source": [
    "draw_triangulation(del)\n",
    "draw_points!(edge_midpoints(del), color=:red)"
   ]
  },
  {
   "cell_type": "code",
   "execution_count": null,
   "metadata": {},
   "outputs": [],
   "source": [
    "# triangulate with edge subdivision, again\n",
    "del_ = delaunay_triangulation(vcat(del.points, edge_midpoints(del)))\n",
    "draw_triangulation(delaunay_triangulation(vcat(del_.points, edge_midpoints(del_))))"
   ]
  },
  {
   "cell_type": "code",
   "execution_count": null,
   "metadata": {},
   "outputs": [],
   "source": [
    "function subdivided_edges(edges, offset)\n",
    "    set = Vector()\n",
    "    for e in 1:size(edges, 1)\n",
    "        edge = edges[e, :]\n",
    "        push!(set, [edge[1] e + offset])\n",
    "        push!(set, [e + offset edge[2]])\n",
    "    end\n",
    "    return vcat(set...)\n",
    "end"
   ]
  },
  {
   "cell_type": "code",
   "execution_count": null,
   "metadata": {},
   "outputs": [],
   "source": [
    "function constrained_subdivision(triangulation)\n",
    "    @unpack points, edges = triangulation\n",
    "    new_points = vcat(points, edge_midpoints(triangulation))\n",
    "    point_map = collect(1:size(new_points, 1))\n",
    "    keep_edges = subdivided_edges(edges, size(points, 1))\n",
    "\n",
    "    triangle_array = Triangle.constrained_triangulation(new_points, point_map, keep_edges)\n",
    "    \n",
    "    triangles = hcat(triangle_array...)'\n",
    "    edges = unique_edges(triangles)\n",
    "    return Triangulation(new_points, edges, triangles)\n",
    "end"
   ]
  },
  {
   "cell_type": "code",
   "execution_count": null,
   "metadata": {},
   "outputs": [],
   "source": [
    "draw_triangulation(constrained_subdivision(del))"
   ]
  },
  {
   "cell_type": "code",
   "execution_count": null,
   "metadata": {},
   "outputs": [],
   "source": [
    "draw_triangulation(constrained_subdivision(constrained_subdivision(del)))"
   ]
  },
  {
   "cell_type": "code",
   "execution_count": null,
   "metadata": {},
   "outputs": [],
   "source": [
    "# alternate: first add triangle centers, then subdivide edges\n",
    "draw_triangulation(constrained_subdivision(constrained_with_centers(del)))"
   ]
  },
  {
   "cell_type": "code",
   "execution_count": null,
   "metadata": {},
   "outputs": [],
   "source": [
    "# alternate 2: first subdivide edges, the add triangle centers\n",
    "draw_triangulation(constrained_with_centers(constrained_subdivision(del)))"
   ]
  },
  {
   "cell_type": "code",
   "execution_count": null,
   "metadata": {},
   "outputs": [],
   "source": [
    "# alternate 2.5: first subdivide edges, the add triangle centers (unconstrained)\n",
    "draw_triangulation(delaunay_with_centers(constrained_subdivision(del)))"
   ]
  },
  {
   "cell_type": "code",
   "execution_count": null,
   "metadata": {},
   "outputs": [],
   "source": [
    "function constrained_combined_refinement(triangulation, method=TriangleCentroid())\n",
    "    @unpack points, edges = triangulation\n",
    "    centers = triangle_centers(triangulation, method)\n",
    "    new_points = vcat(points, edge_midpoints(triangulation), centers)\n",
    "    point_map = collect(1:size(new_points, 1))\n",
    "    keep_edges = subdivided_edges(edges, size(points, 1))\n",
    "\n",
    "    triangle_array = Triangle.constrained_triangulation(new_points, point_map, keep_edges)\n",
    "    \n",
    "    triangles = hcat(triangle_array...)'\n",
    "    edges = unique_edges(triangles)\n",
    "    return Triangulation(new_points, edges, triangles)\n",
    "end"
   ]
  },
  {
   "cell_type": "code",
   "execution_count": null,
   "metadata": {},
   "outputs": [],
   "source": [
    "draw_triangulation(constrained_combined_refinement(del))"
   ]
  },
  {
   "cell_type": "code",
   "execution_count": null,
   "metadata": {},
   "outputs": [],
   "source": [
    "draw_triangulation(constrained_combined_refinement(constrained_combined_refinement(del)))"
   ]
  },
  {
   "cell_type": "code",
   "execution_count": null,
   "metadata": {},
   "outputs": [],
   "source": [
    "function combined_refinement(triangulation, method=TriangleCentroid())\n",
    "    @unpack points, edges = triangulation\n",
    "    centers = triangle_centers(triangulation, method)\n",
    "    new_points = vcat(points, edge_midpoints(triangulation), centers)\n",
    "\n",
    "    return delaunay_triangulation(new_points)\n",
    "end"
   ]
  },
  {
   "cell_type": "code",
   "execution_count": null,
   "metadata": {},
   "outputs": [],
   "source": [
    "draw_triangulation(combined_refinement(del))"
   ]
  },
  {
   "cell_type": "code",
   "execution_count": null,
   "metadata": {},
   "outputs": [],
   "source": [
    "draw_triangulation(combined_refinement(combined_refinement(del)))"
   ]
  },
  {
   "cell_type": "markdown",
   "metadata": {},
   "source": [
    "# Steiner Tree Model"
   ]
  },
  {
   "cell_type": "code",
   "execution_count": null,
   "metadata": {},
   "outputs": [],
   "source": [
    "function antiparallel_digraph(triangulation)\n",
    "    @unpack points, edges = triangulation\n",
    "    graph = SimpleDiGraph(size(points, 1))\n",
    "    for e in 1:size(edges, 1)\n",
    "        s, t = edges[e, :]\n",
    "        add_edge!(graph, s, t)\n",
    "        add_edge!(graph, t, s)\n",
    "    end\n",
    "    return graph\n",
    "end"
   ]
  },
  {
   "cell_type": "code",
   "execution_count": null,
   "metadata": {},
   "outputs": [],
   "source": [
    "function edge_lengths(points, edges)\n",
    "    diff = points[edges[:, 1], :] - points[edges[:, 2], :]\n",
    "    return dropdims(mapslices(norm, diff, dims=2), dims=2)\n",
    "end\n",
    "\n",
    "edge_lengths(triangulation) = edge_lengths(triangulation.points, triangulation.edges)"
   ]
  },
  {
   "cell_type": "code",
   "execution_count": null,
   "metadata": {},
   "outputs": [],
   "source": [
    "function edge_length_map(triangulation)\n",
    "    @unpack edges = triangulation\n",
    "    lengths = edge_lengths(triangulation)\n",
    "    \n",
    "    length_map = Dict{Tuple{Int64, Int64}, Float64}()\n",
    "    for e = 1:size(edges, 1)\n",
    "        s, t = edges[e, :]\n",
    "        length_map[s, t] = lengths[e]\n",
    "        length_map[t, s] = lengths[e]\n",
    "    end\n",
    "    return length_map\n",
    "end"
   ]
  },
  {
   "cell_type": "code",
   "execution_count": null,
   "metadata": {},
   "outputs": [],
   "source": [
    "function steiner_tree(triangulation, terminals)\n",
    "    # Compute length by Euclidean distance of nodes.\n",
    "    lengths = edge_length_map(triangulation)\n",
    "    \n",
    "    # Build digraph with all antiparallel arcs, for nonnegative flow.\n",
    "    graph = antiparallel_digraph(triangulation)\n",
    "    nodes = collect(1:nv(graph))\n",
    "    arcs = collect(keys(lengths))\n",
    "    \n",
    "    length(terminals) >= 2 || error(\"Need at least 2 terminals.\")\n",
    "    all(terminals .<= nv(graph)) || error(\"Terminals out of range.\")\n",
    "    root = terminals[1]\n",
    "    sinks = terminals[2:end]\n",
    "   \n",
    "    demand(v, s) = 1.0*(v == s) - 1.0*(v == root)\n",
    "    \n",
    "    # Using arc length for fixed capacity cost and multi-commodity flow.\n",
    "    model = JuMP.direct_model(SCIP.Optimizer(display_verblevel=0))\n",
    "    @variable(model, select[a in arcs], Bin, container=SparseAxisArray)\n",
    "    @variable(model, flow[a in arcs,s in sinks] ≥ 0, container=SparseAxisArray)\n",
    "    @constraint(model, balance[v in nodes, s in sinks],\n",
    "        sum(flow[(n, v), s] - flow[(v, n), s] for n in neighbors(graph, v))\n",
    "        == demand(v, s))\n",
    "    @constraint(model, capacity[a in arcs, s in sinks], flow[a, s] <= select[a])\n",
    "    @objective(model, Min, sum(lengths[a] * select[a] for a in arcs))\n",
    "    \n",
    "    optimize!(model)\n",
    "    \n",
    "    return objective_value(model), value.(select)\n",
    "\n",
    "end"
   ]
  },
  {
   "cell_type": "code",
   "execution_count": null,
   "metadata": {},
   "outputs": [],
   "source": [
    "function draw_tree(triangulation, terminals)\n",
    "    @unpack points, edges = triangulation\n",
    "\n",
    "    obj, select = steiner_tree(triangulation, terminals)\n",
    "    @show obj\n",
    "    selected = [select[(s,t)] + select[(t,s)] for (s,t) in eachrow(edges)]\n",
    "    active_edges = edges[selected .> 0.0, :]\n",
    "    \n",
    "    draw_triangulation(triangulation)\n",
    "    linesegments!(points[active_edges'[:], :], color=:plum, linewidth=3)\n",
    "    draw_points!(points[terminals, :], markersize=5, color=:teal)\n",
    "end"
   ]
  },
  {
   "cell_type": "code",
   "execution_count": null,
   "metadata": {},
   "outputs": [],
   "source": [
    "terminals = collect(1:7);"
   ]
  },
  {
   "cell_type": "code",
   "execution_count": null,
   "metadata": {},
   "outputs": [],
   "source": [
    "draw_tree(del, terminals)"
   ]
  },
  {
   "cell_type": "code",
   "execution_count": null,
   "metadata": {},
   "outputs": [],
   "source": [
    "draw_tree(constrained_subdivision(del), terminals)"
   ]
  },
  {
   "cell_type": "code",
   "execution_count": null,
   "metadata": {},
   "outputs": [],
   "source": [
    "draw_tree(delaunay_with_centers(del), terminals)"
   ]
  },
  {
   "cell_type": "code",
   "execution_count": null,
   "metadata": {},
   "outputs": [],
   "source": [
    "draw_tree(constrained_with_centers(del, TriangleIncenter()), terminals)"
   ]
  },
  {
   "cell_type": "code",
   "execution_count": null,
   "metadata": {},
   "outputs": [],
   "source": [
    "draw_tree(constrained_combined_refinement(del, TriangleIncenter()), terminals)"
   ]
  },
  {
   "cell_type": "code",
   "execution_count": null,
   "metadata": {},
   "outputs": [],
   "source": [
    "draw_tree(constrained_combined_refinement(del, TriangleCircumcenter()), terminals)"
   ]
  },
  {
   "cell_type": "code",
   "execution_count": null,
   "metadata": {},
   "outputs": [],
   "source": [
    "draw_tree(constrained_with_centers(del, TriangleCircumcenter()), terminals)"
   ]
  },
  {
   "cell_type": "code",
   "execution_count": null,
   "metadata": {},
   "outputs": [],
   "source": [
    "draw_tree(combined_refinement(del, TriangleIncenter()), terminals)"
   ]
  },
  {
   "cell_type": "code",
   "execution_count": null,
   "metadata": {},
   "outputs": [],
   "source": [
    "draw_tree(combined_refinement(del, TriangleCircumcenter()), terminals)"
   ]
  },
  {
   "cell_type": "code",
   "execution_count": null,
   "metadata": {},
   "outputs": [],
   "source": [
    "draw_tree(\n",
    "    combined_refinement(\n",
    "        combined_refinement(del, TriangleIncenter()),\n",
    "        TriangleIncenter()),\n",
    "    terminals)"
   ]
  },
  {
   "cell_type": "markdown",
   "metadata": {},
   "source": [
    "# Edge Triangle Incidence\n",
    "\n",
    "We want to store the edge-triangle incidence explicitly, so that we can analyze neighboring triangles easily."
   ]
  },
  {
   "cell_type": "code",
   "execution_count": null,
   "metadata": {},
   "outputs": [],
   "source": [
    "function edge_triangle_incidence(triangulation::Triangulation)\n",
    "    @unpack edges, triangles = triangulation\n",
    "    incidence = spzeros(Bool, size(edges, 1), size(triangles, 1))\n",
    "    edges_nested = collect(eachrow(edges))\n",
    "    for (ti, t) in enumerate(eachrow(triangles))\n",
    "        for edge in (min(t[[1, 2]], t[[2, 1]]),\n",
    "                     min(t[[1, 3]], t[[3, 1]]),\n",
    "                     min(t[[2, 3]], t[[3, 2]]))\n",
    "            ei = findfirst(isequal(edge), edges_nested)\n",
    "            incidence[ei, ti] = true\n",
    "        end\n",
    "    end\n",
    "    return incidence\n",
    "end"
   ]
  },
  {
   "cell_type": "code",
   "execution_count": null,
   "metadata": {},
   "outputs": [],
   "source": [
    "# compute for delaunay triangulation\n",
    "del_e2t = edge_triangle_incidence(del)\n",
    "Array(del_e2t)"
   ]
  },
  {
   "cell_type": "code",
   "execution_count": null,
   "metadata": {},
   "outputs": [],
   "source": [
    "# find edges that are incident to two triangles (not on boundary)\n",
    "function inner_edges(incidence)\n",
    "    range = 1:size(incidence, 1)\n",
    "    cond = sum(incidence, dims=2) .== 2\n",
    "    return range[cond[:]]\n",
    "end\n",
    "inner_edges(del_e2t)"
   ]
  },
  {
   "cell_type": "code",
   "execution_count": null,
   "metadata": {},
   "outputs": [],
   "source": [
    "# find \"opposing\" points for each inner edge\n",
    "function opposing_points(triangulation, incidence)\n",
    "    @unpack edges, triangles = triangulation\n",
    "    find_other_point(e, tri) = filter(p -> !(p in edges[e, :]), triangles[tri, :])[1]\n",
    "    list = NTuple{3, Int}[]\n",
    "    for e in inner_edges(incidence)\n",
    "        (tri1, tri2), _ = findnz(incidence[e, :])\n",
    "        point1 = find_other_point(e, tri1)\n",
    "        point2 = find_other_point(e, tri2)\n",
    "        push!(list, (e, point1, point2))\n",
    "    end\n",
    "    return list\n",
    "end"
   ]
  },
  {
   "cell_type": "code",
   "execution_count": null,
   "metadata": {},
   "outputs": [],
   "source": [
    "opposing_points(del, del_e2t)"
   ]
  },
  {
   "cell_type": "code",
   "execution_count": null,
   "metadata": {},
   "outputs": [],
   "source": [
    "function graph(triangulation)\n",
    "    @unpack points, edges = triangulation\n",
    "    graph = SimpleGraph(size(points, 1))\n",
    "    for e in 1:size(edges, 1)\n",
    "        s, t = edges[e, :]\n",
    "        add_edge!(graph, s, t)\n",
    "    end\n",
    "    return graph\n",
    "end"
   ]
  },
  {
   "cell_type": "code",
   "execution_count": null,
   "metadata": {},
   "outputs": [],
   "source": [
    "delg = graph(del)"
   ]
  },
  {
   "cell_type": "code",
   "execution_count": null,
   "metadata": {},
   "outputs": [],
   "source": [
    "function distance_matrix(triangulation)\n",
    "    @unpack points = triangulation\n",
    "    return pairwise(Euclidean(), points, points, dims=1)\n",
    "end"
   ]
  },
  {
   "cell_type": "code",
   "execution_count": null,
   "metadata": {},
   "outputs": [],
   "source": [
    "deld = distance_matrix(del)"
   ]
  },
  {
   "cell_type": "code",
   "execution_count": null,
   "metadata": {},
   "outputs": [],
   "source": [
    "\"Shortest path distance between two opposing vertices of adjacent triangles.\"\n",
    "function shortest_path(graph, s, t, distances)\n",
    "    heur(n) = distances[n, t]\n",
    "    path = a_star(graph, s, t, distances, heur)\n",
    "    return sum(distances[src(edge), dst(edge)] for edge in path)\n",
    "end"
   ]
  },
  {
   "cell_type": "code",
   "execution_count": null,
   "metadata": {},
   "outputs": [],
   "source": [
    "shortest_path(delg, 1, 3, deld)"
   ]
  },
  {
   "cell_type": "code",
   "execution_count": null,
   "metadata": {},
   "outputs": [],
   "source": [
    "for t in opposing_points(del, del_e2t)\n",
    "    los = deld[t[2], t[3]]\n",
    "    spd = shortest_path(delg, t[2], t[3], deld)\n",
    "    @show t los spd spd-los\n",
    "end"
   ]
  },
  {
   "cell_type": "code",
   "execution_count": null,
   "metadata": {},
   "outputs": [],
   "source": [
    "draw_triangulation(del)\n",
    "draw_points!(del.points[[2, 6], :], markersize=6, color=:orange)"
   ]
  },
  {
   "cell_type": "code",
   "execution_count": null,
   "metadata": {},
   "outputs": [],
   "source": [
    "# fresh Delaunay with single edge midpoint added\n",
    "draw_tree(delaunay_triangulation(vcat(del.points, edge_midpoints(del)[2:2, :])), 1:7)"
   ]
  },
  {
   "cell_type": "code",
   "execution_count": null,
   "metadata": {},
   "outputs": [],
   "source": [
    "# better use constrained Delaunay with new point, or else we will lose good Delaunay edge, as above!"
   ]
  },
  {
   "cell_type": "code",
   "execution_count": null,
   "metadata": {},
   "outputs": [],
   "source": [
    "\"Constrained Delaunay Triangulation, keeping all edges, with one edge midpoint added.\"\n",
    "function constrained_subdivision(triangulation, edge)\n",
    "    @unpack points, edges = triangulation\n",
    "    new_points = vcat(points, edge_midpoints(triangulation)[edge:edge, :])\n",
    "    n = size(new_points, 1)\n",
    "    point_map = collect(1:n)\n",
    "    keep_edges = vcat(edges[1:edge-1, :], edges[edge+1:end, :],\n",
    "                      [edges[edge, 1]  n], [edges[edge, 2] n])\n",
    "\n",
    "    triangle_array = Triangle.constrained_triangulation(new_points, point_map, keep_edges)\n",
    "    \n",
    "    triangles = hcat(triangle_array...)'\n",
    "    edges = unique_edges(triangles)\n",
    "    return Triangulation(new_points, edges, triangles)\n",
    "end"
   ]
  },
  {
   "cell_type": "code",
   "execution_count": null,
   "metadata": {},
   "outputs": [],
   "source": [
    "\"CDT, keeping all edges, finding the best inner edge to subdivide.\"\n",
    "function constrained_longest_subdivision(triangulation)\n",
    "    incidence = edge_triangle_incidence(triangulation)\n",
    "    g = graph(triangulation)\n",
    "    dist = distance_matrix(triangulation)\n",
    "    \n",
    "    longest_edge, longest_shortcut = -1, -1.0\n",
    "    for (e, p1, p2) in opposing_points(triangulation, incidence)\n",
    "        shortcut = shortest_path(g, p1, p2, dist) - dist[p1, p2]\n",
    "        if shortcut > longest_shortcut\n",
    "            longest_edge = e\n",
    "            longest_shortcut = shortcut\n",
    "        end\n",
    "    end\n",
    "    \n",
    "    return constrained_subdivision(triangulation, longest_edge)\n",
    "end"
   ]
  },
  {
   "cell_type": "code",
   "execution_count": null,
   "metadata": {},
   "outputs": [],
   "source": [
    "draw_tree(constrained_longest_subdivision(del), 1:7)"
   ]
  },
  {
   "cell_type": "code",
   "execution_count": null,
   "metadata": {},
   "outputs": [],
   "source": [
    "# repeat!\n",
    "draw_tree(constrained_longest_subdivision(\n",
    "            constrained_longest_subdivision(\n",
    "                del)), 1:7)"
   ]
  },
  {
   "cell_type": "code",
   "execution_count": null,
   "metadata": {},
   "outputs": [],
   "source": [
    "# not bad, but midpoint subdivision:\n",
    "# - does not improve shortest-path distance optimally?\n",
    "# - looks too regular?\n",
    "#\n",
    "# other options:\n",
    "# - intersect the subdivided edge with line-of-sight\n",
    "# - some convex combination of intersection with midpoint!"
   ]
  },
  {
   "cell_type": "code",
   "execution_count": null,
   "metadata": {},
   "outputs": [],
   "source": [
    "# iterations\n",
    "draw_tree(constrained_longest_subdivision(\n",
    "          constrained_longest_subdivision(\n",
    "          constrained_longest_subdivision(\n",
    "          constrained_longest_subdivision(\n",
    "          constrained_longest_subdivision(\n",
    "          constrained_longest_subdivision(\n",
    "                del)))))), 1:7)"
   ]
  },
  {
   "cell_type": "code",
   "execution_count": null,
   "metadata": {},
   "outputs": [],
   "source": [
    "# works OK, but keeping all edges is too strict:\n",
    "# should only keep original (Delaunay) edges and their subdivision,\n",
    "# not any new edges"
   ]
  },
  {
   "cell_type": "code",
   "execution_count": null,
   "metadata": {},
   "outputs": [],
   "source": [
    "# for reference: original Delaunay Triangulation:\n",
    "draw_tree(del, 1:7)"
   ]
  },
  {
   "cell_type": "markdown",
   "metadata": {},
   "source": [
    "# Store edges to keep explicitly."
   ]
  },
  {
   "cell_type": "code",
   "execution_count": null,
   "metadata": {},
   "outputs": [],
   "source": [
    "function initial_delaunay(points)\n",
    "    @unpack points, edges, triangles = delaunay_triangulation(points) \n",
    "    keep_all = collect(1:size(edges, 1))\n",
    "    return Triangulation(points, edges, triangles, keep_all)\n",
    "end"
   ]
  },
  {
   "cell_type": "code",
   "execution_count": null,
   "metadata": {},
   "outputs": [],
   "source": [
    "\"Constrained Delaunay Triangulation, keeping some edges, with one edge midpoint added.\"\n",
    "function partially_constrained_subdivision(triangulation, edge, keep_new_edge=false)\n",
    "    @unpack points, edges, keep_edges = triangulation\n",
    "    new_points = vcat(points, edge_midpoints(triangulation)[edge:edge, :])\n",
    "    n = size(new_points, 1)\n",
    "    point_map = collect(1:n)\n",
    "    \n",
    "    # are we subdividing a protected edge?\n",
    "    protected = if (edge in keep_edges) || keep_new_edge\n",
    "        keep_edges2 = filter(!isequal(edge), keep_edges)\n",
    "        vcat(edges[keep_edges2, :], [edges[edge, 1]  n], [edges[edge, 2] n])\n",
    "    else\n",
    "        edges[keep_edges, :]\n",
    "    end\n",
    "\n",
    "    triangle_array = Triangle.constrained_triangulation(new_points, point_map, protected)\n",
    "    \n",
    "    triangles = hcat(triangle_array...)'\n",
    "    edges = unique_edges(triangles)\n",
    "    \n",
    "    # HACK: should store differently\n",
    "    rows = collect(eachrow(protected))\n",
    "    keep_edges2 = [e for e in 1:size(edges, 1) if edges[e, :] in rows]\n",
    "    \n",
    "    return Triangulation(new_points, edges, triangles, keep_edges2)\n",
    "end"
   ]
  },
  {
   "cell_type": "code",
   "execution_count": null,
   "metadata": {},
   "outputs": [],
   "source": [
    "\"CDT, keeping all edges, finding the best inner edge to subdivide.\"\n",
    "function constrained_longest_subdivision2(triangulation, keep_new_edge=false)\n",
    "    incidence = edge_triangle_incidence(triangulation)\n",
    "    g = graph(triangulation)\n",
    "    dist = distance_matrix(triangulation)\n",
    "    \n",
    "    longest_edge, longest_shortcut = -1, -1.0\n",
    "    for (e, p1, p2) in opposing_points(triangulation, incidence)\n",
    "        shortcut = shortest_path(g, p1, p2, dist) - dist[p1, p2]\n",
    "        if shortcut > longest_shortcut\n",
    "            longest_edge = e\n",
    "            longest_shortcut = shortcut\n",
    "        end\n",
    "    end\n",
    "    \n",
    "    return partially_constrained_subdivision(triangulation, longest_edge, keep_new_edge)\n",
    "end"
   ]
  },
  {
   "cell_type": "code",
   "execution_count": null,
   "metadata": {},
   "outputs": [],
   "source": [
    "del2 = initial_delaunay(points)"
   ]
  },
  {
   "cell_type": "code",
   "execution_count": null,
   "metadata": {},
   "outputs": [],
   "source": [
    "draw_tree(constrained_longest_subdivision2(del2), 1:7)"
   ]
  },
  {
   "cell_type": "code",
   "execution_count": null,
   "metadata": {},
   "outputs": [],
   "source": [
    "function repeatedly(refinement, times, input)\n",
    "    for i in 1:times\n",
    "        input = refinement(input)\n",
    "    end\n",
    "    return input\n",
    "end"
   ]
  },
  {
   "cell_type": "code",
   "execution_count": null,
   "metadata": {},
   "outputs": [],
   "source": [
    "draw_tree(repeatedly(constrained_longest_subdivision2, 2, del2), 1:7)"
   ]
  },
  {
   "cell_type": "code",
   "execution_count": null,
   "metadata": {},
   "outputs": [],
   "source": [
    "draw_tree(repeatedly(constrained_longest_subdivision2, 4, del2), 1:7)"
   ]
  },
  {
   "cell_type": "code",
   "execution_count": null,
   "metadata": {},
   "outputs": [],
   "source": [
    "draw_tree(repeatedly(constrained_longest_subdivision2, 8, del2), 1:7)"
   ]
  },
  {
   "cell_type": "code",
   "execution_count": null,
   "metadata": {},
   "outputs": [],
   "source": [
    "draw_tree(repeatedly(constrained_longest_subdivision2, 16, del2), 1:7)"
   ]
  },
  {
   "cell_type": "code",
   "execution_count": null,
   "metadata": {},
   "outputs": [],
   "source": [
    "draw_tree(repeatedly(constrained_longest_subdivision2, 32, del2), 1:7)"
   ]
  },
  {
   "cell_type": "code",
   "execution_count": null,
   "metadata": {},
   "outputs": [],
   "source": [
    "\"CDT, keeping all edges, finding the best inner edge to subdivide.\"\n",
    "function constrained_longest_edge_subdivision(triangulation)\n",
    "    longest_edge = argmax(edge_lengths(triangulation))\n",
    "    return partially_constrained_subdivision(triangulation, longest_edge)\n",
    "end"
   ]
  },
  {
   "cell_type": "code",
   "execution_count": null,
   "metadata": {},
   "outputs": [],
   "source": [
    "draw_tree(repeatedly(constrained_longest_edge_subdivision, 1, del2), 1:7)"
   ]
  },
  {
   "cell_type": "code",
   "execution_count": null,
   "metadata": {},
   "outputs": [],
   "source": [
    "draw_tree(repeatedly(constrained_longest_edge_subdivision, 16, del2), 1:7)"
   ]
  },
  {
   "cell_type": "code",
   "execution_count": null,
   "metadata": {},
   "outputs": [],
   "source": [
    "draw_tree(del2, 1:7)"
   ]
  },
  {
   "cell_type": "code",
   "execution_count": null,
   "metadata": {},
   "outputs": [],
   "source": [
    "# combine the two methods (shortcut, longest edge) in alternating manner\n",
    "alternate(t) = constrained_longest_edge_subdivision(constrained_longest_subdivision2(t))\n",
    "alternate2(t) = constrained_longest_edge_subdivision(constrained_longest_subdivision2(t, true))"
   ]
  },
  {
   "cell_type": "code",
   "execution_count": null,
   "metadata": {},
   "outputs": [],
   "source": [
    "draw_tree(repeatedly(alternate, 1, del2), 1:7)"
   ]
  },
  {
   "cell_type": "code",
   "execution_count": null,
   "metadata": {},
   "outputs": [],
   "source": [
    "draw_tree(repeatedly(alternate, 5, del2), 1:7)"
   ]
  },
  {
   "cell_type": "code",
   "execution_count": null,
   "metadata": {},
   "outputs": [],
   "source": [
    "draw_tree(repeatedly(alternate2, 2, del2), 1:7)"
   ]
  },
  {
   "cell_type": "code",
   "execution_count": null,
   "metadata": {},
   "outputs": [],
   "source": [
    "draw_tree(repeatedly(alternate2, 5, del2), 1:7)"
   ]
  },
  {
   "cell_type": "code",
   "execution_count": null,
   "metadata": {},
   "outputs": [],
   "source": []
  }
 ],
 "metadata": {
  "@webio": {
   "lastCommId": null,
   "lastKernelId": null
  },
  "kernelspec": {
   "display_name": "Julia 1.1.0",
   "language": "julia",
   "name": "julia-1.1"
  },
  "language_info": {
   "file_extension": ".jl",
   "mimetype": "application/julia",
   "name": "julia",
   "version": "1.1.0"
  },
  "nikola": {
   "category": "",
   "date": "2019-03-15 16:47:50 UTC+01:00",
   "description": "",
   "link": "",
   "slug": "refined-delaunay-for-flow-problems",
   "tags": "julialang,delaunay,triangulation,mesh,optimization,network,flow",
   "title": "Refined Delaunay for Flow Problems",
   "type": "text"
  }
 },
 "nbformat": 4,
 "nbformat_minor": 2
}

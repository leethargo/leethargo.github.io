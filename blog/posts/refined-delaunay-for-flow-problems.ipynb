{
 "cells": [
  {
   "cell_type": "code",
   "execution_count": null,
   "metadata": {},
   "outputs": [],
   "source": [
    "using Pkg\n",
    "\n",
    "Pkg.activate(\"/home/rs/.julia/environments/triangulations/\")"
   ]
  },
  {
   "cell_type": "code",
   "execution_count": null,
   "metadata": {},
   "outputs": [],
   "source": [
    "using Random\n",
    "Random.seed!(1);"
   ]
  },
  {
   "cell_type": "markdown",
   "metadata": {},
   "source": [
    "# CairoMakie plotting basics"
   ]
  },
  {
   "cell_type": "code",
   "execution_count": null,
   "metadata": {},
   "outputs": [],
   "source": [
    "using AbstractPlotting\n",
    "using CairoMakie"
   ]
  },
  {
   "cell_type": "code",
   "execution_count": null,
   "metadata": {},
   "outputs": [],
   "source": [
    "n = 7\n",
    "\n",
    "x = 400 * rand(n)\n",
    "y = 200 * rand(n)\n",
    "[x y]'"
   ]
  },
  {
   "cell_type": "code",
   "execution_count": null,
   "metadata": {},
   "outputs": [],
   "source": [
    "scene = Scene(resolution=(400,200), show_axis=false, scale_plot=false)\n",
    "scatter!(x, y, markersize=5)\n",
    "linesegments!(x, y)"
   ]
  },
  {
   "cell_type": "code",
   "execution_count": null,
   "metadata": {},
   "outputs": [],
   "source": [
    "make_scene() = Scene(resolution=(400,200), show_axis=false, scale_plot=false)"
   ]
  },
  {
   "cell_type": "markdown",
   "metadata": {},
   "source": [
    "# Triangle.jl"
   ]
  },
  {
   "cell_type": "code",
   "execution_count": null,
   "metadata": {},
   "outputs": [],
   "source": [
    "using Triangle"
   ]
  },
  {
   "cell_type": "code",
   "execution_count": null,
   "metadata": {},
   "outputs": [],
   "source": [
    "# Start with straight-forward Delaunay triangulation, again.\n",
    "points = [x y]\n",
    "points_map = collect(1:n)\n",
    "\n",
    "triangles = basic_triangulation(points, points_map)\n",
    "@show triangles\n",
    "\n",
    "edges = reshape(vcat([t[[1, 2, 2, 3, 3, 1]] for t in triangles]...), 2, :)\n",
    "@show edges\n",
    "\n",
    "scene = Scene(resolution=(600,300))\n",
    "scatter!(x, y, markersize=8, color=:red)\n",
    "linesegments!(points[vec(edges), :], linewidth=2)"
   ]
  },
  {
   "cell_type": "code",
   "execution_count": null,
   "metadata": {},
   "outputs": [],
   "source": [
    "using Statistics"
   ]
  },
  {
   "cell_type": "code",
   "execution_count": null,
   "metadata": {},
   "outputs": [],
   "source": [
    "# for each triangle, add a point in the center (mean)\n",
    "centers = [mean(points[t, :], dims=1) for t in triangles]"
   ]
  },
  {
   "cell_type": "code",
   "execution_count": null,
   "metadata": {},
   "outputs": [],
   "source": [
    "centers_array = reshape(hcat(centers...), 2, :)'\n",
    "@show centers_array\n",
    "scatter!(centers_array, markersize=5)"
   ]
  },
  {
   "cell_type": "code",
   "execution_count": null,
   "metadata": {},
   "outputs": [],
   "source": [
    "edges'[:,:]"
   ]
  },
  {
   "cell_type": "code",
   "execution_count": null,
   "metadata": {},
   "outputs": [],
   "source": [
    "points2 = vcat(points, centers_array)\n",
    "points_map2 = collect(1:size(points2, 1))\n",
    "triangles2 = constrained_triangulation(points2, points_map2, edges'[:,:])\n",
    "\n",
    "edges2 = reshape(vcat([t[[1, 2, 2, 3, 3, 1]] for t in triangles2]...), 2, :)\n",
    "linesegments!(points2[vec(edges2), :], color=:green)"
   ]
  },
  {
   "cell_type": "code",
   "execution_count": null,
   "metadata": {},
   "outputs": [],
   "source": [
    "# need also subdivide the edges that we want to keep?\n",
    "# TODO..."
   ]
  }
 ],
 "metadata": {
  "kernelspec": {
   "display_name": "Julia 1.1.1",
   "language": "julia",
   "name": "julia-1.1"
  },
  "language_info": {
   "file_extension": ".jl",
   "mimetype": "application/julia",
   "name": "julia",
   "version": "1.1.1"
  },
  "nikola": {
   "category": "",
   "date": "2019-03-15 16:47:50 UTC+01:00",
   "description": "",
   "link": "",
   "slug": "refined-delaunay-for-flow-problems",
   "tags": "julialang,delaunay,triangulation,mesh,optimization,network,flow",
   "title": "Refined Delaunay for Flow Problems",
   "type": "text"
  }
 },
 "nbformat": 4,
 "nbformat_minor": 2
}

{
 "cells": [
  {
   "cell_type": "code",
   "execution_count": null,
   "metadata": {},
   "outputs": [],
   "source": [
    "using Pkg\n",
    "Pkg.activate(\"../../environments/refined-delaunay-for-flow-problems/\");"
   ]
  },
  {
   "cell_type": "code",
   "execution_count": null,
   "metadata": {},
   "outputs": [],
   "source": [
    "using LinearAlgebra\n",
    "using Random\n",
    "using SparseArrays\n",
    "using Statistics\n",
    "\n",
    "using AbstractPlotting\n",
    "using CairoMakie\n",
    "using Distances\n",
    "using JuMP\n",
    "using LightGraphs\n",
    "using Parameters\n",
    "using SCIP\n",
    "using TriangleMesh"
   ]
  },
  {
   "cell_type": "markdown",
   "metadata": {},
   "source": [
    "# Random Instance Data"
   ]
  },
  {
   "cell_type": "code",
   "execution_count": null,
   "metadata": {},
   "outputs": [],
   "source": [
    "# create instance data\n",
    "Random.seed!(0);\n",
    "\n",
    "const N = 7\n",
    "const WIDTH = 500\n",
    "const HEIGHT = 300\n",
    "\n",
    "x = round.(0.95 * WIDTH * rand(N))\n",
    "y = round.(0.95 * HEIGHT * rand(N))\n",
    "points = [x y]"
   ]
  },
  {
   "cell_type": "markdown",
   "metadata": {},
   "source": [
    "# Triangulation with TriangleMesh"
   ]
  },
  {
   "cell_type": "code",
   "execution_count": null,
   "metadata": {},
   "outputs": [],
   "source": [
    "@with_kw struct TriangleSwitches\n",
    "    minimum_angle = nothing           # numeric\n",
    "    maximum_area = nothing            # numeric\n",
    "    conforming_delaunay = false\n",
    "    maximum_steiner_points = nothing  # numeric\n",
    "    no_boundary_steiner_points = false\n",
    "    check_consistency = true\n",
    "    quiet = true\n",
    "end\n",
    "\n",
    "function Base.convert(String, x::TriangleSwitches)\n",
    "    s = \"\"\n",
    "    s *= \"e\" # always output edges\n",
    "    if x.minimum_angle !== nothing\n",
    "        s *= \"q$(x.minimum_angle)\"\n",
    "    end\n",
    "    if x.maximum_area !== nothing\n",
    "        s *= \"a$(x.maximum_area)\"\n",
    "    end\n",
    "    if x.conforming_delaunay\n",
    "        s *= \"D\"\n",
    "    end\n",
    "    if x.maximum_steiner_points !== nothing\n",
    "        s *= \"S$(x.maximum_steiner_points)\"\n",
    "    end\n",
    "    if x.no_boundary_steiner_points\n",
    "        s *= \"Y\"\n",
    "    end\n",
    "    if x.check_consistency\n",
    "        s *= \"C\"\n",
    "    end\n",
    "    if x.quiet\n",
    "        s *= \"Q\"\n",
    "    end\n",
    "    return s\n",
    "end"
   ]
  },
  {
   "cell_type": "code",
   "execution_count": null,
   "metadata": {},
   "outputs": [],
   "source": [
    "\"Create polygon from points and edges (used as segments).\"\n",
    "function Polygon(points, edges)\n",
    "    n_point = size(points, 1)\n",
    "    n_point_marker = 0\n",
    "    n_point_attribute = 0\n",
    "    n_segment = size(edges, 1)\n",
    "    n_hole = 0\n",
    "    poly = Polygon_pslg(n_point, n_point_marker, n_point_attribute, n_segment, n_hole)\n",
    "    set_polygon_point!(poly, points)\n",
    "    set_polygon_segment!(poly, edges)\n",
    "    return poly\n",
    "end\n",
    "\n",
    "Polygon(trimesh::TriMesh) = Polygon(trimesh.point', trimesh.edge')"
   ]
  },
  {
   "cell_type": "code",
   "execution_count": null,
   "metadata": {},
   "outputs": [],
   "source": [
    "function triangulate(points::Matrix{Float64}, switches::TriangleSwitches)::TriMesh\n",
    "    s = \"c\" # create mesh from point Cloud\n",
    "    s *= convert(String, switches)\n",
    "    return create_mesh(points, s)\n",
    "end\n",
    "\n",
    "function triangulate(poly::Polygon_pslg, switches::TriangleSwitches)::TriMesh\n",
    "    s = \"p\" # create mesh from Polygon\n",
    "    s *= convert(String, switches)\n",
    "    return create_mesh(poly, s)\n",
    "end"
   ]
  },
  {
   "cell_type": "code",
   "execution_count": null,
   "metadata": {},
   "outputs": [],
   "source": [
    "function delaunay_triangulation(points::Matrix{Float64})::TriMesh\n",
    "    switches = TriangleSwitches(conforming_delaunay=true, maximum_steiner_points=0)\n",
    "    return triangulate(points, switches)\n",
    "end"
   ]
  },
  {
   "cell_type": "code",
   "execution_count": null,
   "metadata": {},
   "outputs": [],
   "source": [
    "deltri = delaunay_triangulation(points);"
   ]
  },
  {
   "cell_type": "code",
   "execution_count": null,
   "metadata": {},
   "outputs": [],
   "source": [
    "delpoly = Polygon(deltri);"
   ]
  },
  {
   "cell_type": "markdown",
   "metadata": {},
   "source": [
    "# Drawing with Makie"
   ]
  },
  {
   "cell_type": "code",
   "execution_count": null,
   "metadata": {},
   "outputs": [],
   "source": [
    "function make_scene(width=WIDTH, height=HEIGHT)\n",
    "    return Scene(resolution=(width, height), show_axis=false, scale_plot=false)\n",
    "end\n",
    "\n",
    "function draw_points!(points; markersize=4, color=:black)\n",
    "    scatter!(points[:, 1], points[:, 2], markersize=markersize, color=color)\n",
    "end\n",
    "\n",
    "function draw_edges!(points, edges; color=:gray)\n",
    "    linesegments!(points[edges'[:], :], color=color)\n",
    "end\n",
    "\n",
    "function draw_triangulation(points, edges)\n",
    "    make_scene()\n",
    "    draw_edges!(points, edges)\n",
    "    draw_points!(points)   \n",
    "end\n",
    "\n",
    "draw_triangulation(trimesh::TriMesh) = draw_triangulation(trimesh.point', trimesh.edge')"
   ]
  },
  {
   "cell_type": "code",
   "execution_count": null,
   "metadata": {},
   "outputs": [],
   "source": [
    "draw_triangulation(deltri)"
   ]
  },
  {
   "cell_type": "code",
   "execution_count": null,
   "metadata": {},
   "outputs": [],
   "source": [
    "draw_triangulation(triangulate(points,\n",
    "        TriangleSwitches(minimum_angle=20, conforming_delaunay=true)))"
   ]
  },
  {
   "cell_type": "code",
   "execution_count": null,
   "metadata": {},
   "outputs": [],
   "source": [
    "draw_triangulation(triangulate(delpoly,\n",
    "        TriangleSwitches(minimum_angle=20, conforming_delaunay=true)))"
   ]
  },
  {
   "cell_type": "markdown",
   "metadata": {},
   "source": [
    "# Triangle Centers"
   ]
  },
  {
   "cell_type": "code",
   "execution_count": null,
   "metadata": {},
   "outputs": [],
   "source": [
    "pointset_mean(array) = dropdims(mean(array, dims=2), dims=2)"
   ]
  },
  {
   "cell_type": "code",
   "execution_count": null,
   "metadata": {},
   "outputs": [],
   "source": [
    "abstract type TriangleCenter end\n",
    "struct TriangleCentroid <: TriangleCenter end\n",
    "struct TriangleIncenter <: TriangleCenter end\n",
    "struct TriangleCircumcenter <: TriangleCenter end # yield Voronoi points!\n",
    "\n",
    "function triangle_centers(trimesh, ::TriangleCentroid)\n",
    "    @unpack point, cell = trimesh\n",
    "    return pointset_mean(point'[cell', :])\n",
    "end\n",
    "\n",
    "function triangle_centers(trimesh, ::TriangleIncenter)\n",
    "    @unpack point, cell = trimesh\n",
    "    centers = []\n",
    "    for t in eachrow(cell')\n",
    "        corners = point'[t, :]\n",
    "\n",
    "        a = norm(corners[2, :] - corners[3, :])\n",
    "        b = norm(corners[1, :] - corners[3, :])\n",
    "        c = norm(corners[1, :] - corners[2, :])\n",
    "        # based on barycentric coordinates a:b:c        \n",
    "        incenter = [a b c] * corners ./ (a + b + c)\n",
    "        push!(centers, incenter)\n",
    "    end\n",
    "    \n",
    "    return vcat(centers...)\n",
    "end\n",
    "\n",
    "function triangle_centers(trimesh, ::TriangleCircumcenter)\n",
    "    @unpack point, cell = trimesh\n",
    "    centers = []\n",
    "    for t in eachrow(cell')\n",
    "        corners = point'[t, :]\n",
    "        Ax, Ay = corners[1, :]\n",
    "        Bx, By = corners[2, :]\n",
    "        Cx, Cy = corners[3, :]\n",
    "        D = 2 * ( Ax * (By - Cy) + Bx * (Cy - Ay) + Cx * (Ay - By) )\n",
    "        Ux = ((Ax^2 + Ay^2)*(By - Cy)) + ((Bx^2 + By^2)*(Cy - Ay)) + ((Cx^2 + Cy^2)*(Ay - By))\n",
    "        Uy = ((Ax^2 + Ay^2)*(Cx - Bx)) + ((Bx^2 + By^2)*(Ax - Cx)) + ((Cx^2 + Cy^2)*(Bx - Ax))\n",
    "        circumcenter = [Ux Uy] ./ D\n",
    "        push!(centers, circumcenter)\n",
    "    end\n",
    "    \n",
    "    return vcat(centers...)\n",
    "end"
   ]
  },
  {
   "cell_type": "code",
   "execution_count": null,
   "metadata": {},
   "outputs": [],
   "source": [
    "draw_triangulation(deltri)\n",
    "draw_points!(triangle_centers(deltri, TriangleCentroid()), color=:orange)\n",
    "draw_points!(triangle_centers(deltri, TriangleIncenter()), color=:red)\n",
    "draw_points!(triangle_centers(deltri, TriangleCircumcenter()), color=:blue)"
   ]
  },
  {
   "cell_type": "markdown",
   "metadata": {},
   "source": [
    "# Steiner Tree Model"
   ]
  },
  {
   "cell_type": "code",
   "execution_count": null,
   "metadata": {},
   "outputs": [],
   "source": [
    "function antiparallel_digraph(trimesh)\n",
    "    points, edges = trimesh.point', trimesh.edge'\n",
    "    graph = SimpleDiGraph(size(points, 1))\n",
    "    for e in 1:size(edges, 1)\n",
    "        s, t = edges[e, :]\n",
    "        add_edge!(graph, s, t)\n",
    "        add_edge!(graph, t, s)\n",
    "    end\n",
    "    return graph\n",
    "end\n",
    "\n",
    "function edge_lengths(points, edges)\n",
    "    diff = points[edges[:, 1], :] - points[edges[:, 2], :]\n",
    "    return dropdims(mapslices(norm, diff, dims=2), dims=2)\n",
    "end\n",
    "\n",
    "edge_lengths(trimesh) = edge_lengths(trimesh.point', trimesh.edge')\n",
    "\n",
    "function edge_length_map(trimesh)\n",
    "    edges = trimesh.edge'\n",
    "    lengths = edge_lengths(trimesh)\n",
    "\n",
    "    length_map = Dict{Tuple{Int64, Int64}, Float64}()\n",
    "    for e = 1:size(edges, 1)\n",
    "        s, t = edges[e, :]\n",
    "        length_map[s, t] = lengths[e]\n",
    "        length_map[t, s] = lengths[e]\n",
    "    end\n",
    "    return length_map\n",
    "end\n",
    "\n",
    "function steiner_tree(trimesh, terminals)\n",
    "    # Compute length by Euclidean distance of nodes.\n",
    "    lengths = edge_length_map(trimesh)\n",
    "    \n",
    "    # Build digraph with all antiparallel arcs, for nonnegative flow.\n",
    "    graph = antiparallel_digraph(trimesh)\n",
    "    nodes = collect(1:nv(graph))\n",
    "    arcs = collect(keys(lengths))\n",
    "    \n",
    "    length(terminals) >= 2 || error(\"Need at least 2 terminals.\")\n",
    "    all(terminals .<= nv(graph)) || error(\"Terminals out of range.\")\n",
    "    root = terminals[1]\n",
    "    sinks = terminals[2:end]\n",
    "   \n",
    "    demand(v, s) = 1.0*(v == s) - 1.0*(v == root)\n",
    "    \n",
    "    # Using arc length for fixed capacity cost and multi-commodity flow.\n",
    "    model = JuMP.direct_model(SCIP.Optimizer(display_verblevel=0))\n",
    "    @variable(model, select[a in arcs], Bin, container=SparseAxisArray)\n",
    "    @variable(model, flow[a in arcs,s in sinks] ≥ 0, container=SparseAxisArray)\n",
    "    @constraint(model, balance[v in nodes, s in sinks],\n",
    "        sum(flow[(n, v), s] - flow[(v, n), s] for n in neighbors(graph, v))\n",
    "        == demand(v, s))\n",
    "    @constraint(model, capacity[a in arcs, s in sinks], flow[a, s] <= select[a])\n",
    "    @objective(model, Min, sum(lengths[a] * select[a] for a in arcs))\n",
    "    \n",
    "    optimize!(model)\n",
    "    \n",
    "    return objective_value(model), value.(select)\n",
    "end"
   ]
  },
  {
   "cell_type": "code",
   "execution_count": null,
   "metadata": {},
   "outputs": [],
   "source": [
    "function draw_tree(trimesh, terminals=1:N)\n",
    "    points, edges = trimesh.point', trimesh.edge'\n",
    "    obj, select = steiner_tree(trimesh, terminals)\n",
    "    @show obj\n",
    "    selected = [select[(s,t)] + select[(t,s)] for (s,t) in eachrow(edges)]\n",
    "    active_edges = edges[selected .> 0.0, :]\n",
    "    \n",
    "    draw_triangulation(trimesh)\n",
    "    linesegments!(points[active_edges'[:], :], color=:plum, linewidth=3)\n",
    "    draw_points!(points[terminals, :], markersize=5, color=:teal)\n",
    "end"
   ]
  },
  {
   "cell_type": "code",
   "execution_count": null,
   "metadata": {},
   "outputs": [],
   "source": [
    "draw_tree(deltri)"
   ]
  },
  {
   "cell_type": "code",
   "execution_count": null,
   "metadata": {},
   "outputs": [],
   "source": [
    "tri = triangulate(points, TriangleSwitches(minimum_angle=30, conforming_delaunay=true))\n",
    "draw_tree(tri)"
   ]
  },
  {
   "cell_type": "code",
   "execution_count": null,
   "metadata": {},
   "outputs": [],
   "source": [
    "tri = triangulate(points, TriangleSwitches(maximum_area=sqrt(WIDTH*HEIGHT), conforming_delaunay=true))\n",
    "draw_tree(tri)"
   ]
  },
  {
   "cell_type": "code",
   "execution_count": null,
   "metadata": {},
   "outputs": [],
   "source": [
    "tri = triangulate(delpoly, TriangleSwitches(maximum_area=sqrt(WIDTH*HEIGHT), conforming_delaunay=true))\n",
    "draw_tree(tri)"
   ]
  },
  {
   "cell_type": "code",
   "execution_count": null,
   "metadata": {},
   "outputs": [],
   "source": [
    "tri = triangulate(points, TriangleSwitches(maximum_area=sqrt(WIDTH*HEIGHT), conforming_delaunay=true,\n",
    "                                           no_boundary_steiner_points=true))\n",
    "draw_tree(tri)"
   ]
  },
  {
   "cell_type": "markdown",
   "metadata": {},
   "source": [
    "# Distances and Shortest Paths"
   ]
  },
  {
   "cell_type": "code",
   "execution_count": null,
   "metadata": {},
   "outputs": [],
   "source": [
    "function graph(trimesh)\n",
    "    points, edges = trimesh.point', trimesh.edge'\n",
    "    graph = SimpleGraph(size(points, 1))\n",
    "    for e in 1:size(edges, 1)\n",
    "        s, t = edges[e, :]\n",
    "        add_edge!(graph, s, t)\n",
    "    end\n",
    "    return graph\n",
    "end\n",
    "\n",
    "function distance_matrix(trimesh)\n",
    "    points = trimesh.point'\n",
    "    return pairwise(Euclidean(), points, points, dims=1)\n",
    "end\n",
    "\n",
    "\"Shortest path distance between two opposing vertices of adjacent triangles.\"\n",
    "function shortest_path(graph, s, t, distances)\n",
    "    heur(n) = distances[n, t]\n",
    "    path = a_star(graph, s, t, distances, heur)\n",
    "    return sum(distances[src(edge), dst(edge)] for edge in path)\n",
    "end"
   ]
  }
 ],
 "metadata": {
  "@webio": {
   "lastCommId": null,
   "lastKernelId": null
  },
  "kernelspec": {
   "display_name": "Julia 1.1.1",
   "language": "julia",
   "name": "julia-1.1"
  },
  "language_info": {
   "file_extension": ".jl",
   "mimetype": "application/julia",
   "name": "julia",
   "version": "1.1.1"
  },
  "nikola": {
   "category": "",
   "date": "2019-03-15 16:47:50 UTC+01:00",
   "description": "",
   "link": "",
   "slug": "refined-delaunay-for-flow-problems",
   "tags": "julialang,delaunay,triangulation,mesh,optimization,network,flow",
   "title": "Refined Delaunay for Flow Problems",
   "type": "text"
  }
 },
 "nbformat": 4,
 "nbformat_minor": 2
}

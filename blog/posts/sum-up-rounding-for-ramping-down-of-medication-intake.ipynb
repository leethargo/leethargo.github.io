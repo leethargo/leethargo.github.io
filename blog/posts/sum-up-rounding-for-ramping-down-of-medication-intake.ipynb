{
 "cells": [
  {
   "cell_type": "markdown",
   "metadata": {},
   "source": [
    "Write your post here."
   ]
  }
 ],
 "metadata": {
  "kernelspec": {
   "display_name": "Python 3",
   "env": {},
   "interrupt_mode": "signal",
   "language": "python",
   "metadata": {},
   "name": "python3"
  },
  "nikola": {
   "category": "",
   "date": "2019-06-29 14:11:31 UTC+02:00",
   "description": "",
   "link": "",
   "slug": "sum-up-rounding-for-ramping-down-of-medication-intake",
   "tags": "",
   "title": "Sum-up Rounding for Ramping Down of Medication Intake",
   "type": "text"
  }
 },
 "nbformat": 4,
 "nbformat_minor": 2
}

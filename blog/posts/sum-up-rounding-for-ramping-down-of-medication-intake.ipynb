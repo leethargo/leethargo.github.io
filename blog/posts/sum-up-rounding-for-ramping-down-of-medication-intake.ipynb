{
 "cells": [
  {
   "cell_type": "markdown",
   "metadata": {},
   "source": [
    "The paper [Solving Mixed-integer Control Problems by Sum Up Rounding With Guaranteed Integer Gap](http://archiv.ub.uni-heidelberg.de/volltextserver/8384/) by Sager et al introduces a rounding strategy for control functions over time with respect to accumulated rounding error.\n",
    "\n",
    "In this post, we want to apply Sum Up Rounding to the timing of medicine intake, in particular to the case where we would like to ramp down the dose, but it is not practical to take fractional amounts. So, rather than taking half a pill daily, we would take a whole pill every other day.\n",
    "\n",
    "The central question is: \n",
    "> On which days should we take our medicine if we wanted to ramp down the dose linearly over a given period, say, 4 weeks?"
   ]
  },
  {
   "cell_type": "code",
   "execution_count": 1,
   "metadata": {},
   "outputs": [],
   "source": [
    "using Random\n",
    "\n",
    "using DataFrames\n",
    "using VegaLite"
   ]
  },
  {
   "cell_type": "code",
   "execution_count": 2,
   "metadata": {},
   "outputs": [
    {
     "data": {
      "text/plain": [
       "sum_up_round"
      ]
     },
     "execution_count": 2,
     "metadata": {},
     "output_type": "execute_result"
    }
   ],
   "source": [
    "\"Sum Up Rounding of a sequence of continuous values between 0 and 1.\"\n",
    "function sum_up_round(x)\n",
    "    all(0.0 .<= x .<= 1.0) || error(\"Input must lie in [0, 1]!\")\n",
    "    \n",
    "    result = zeros(size(x))\n",
    "    sum = 0.0\n",
    "    for (index, value) in enumerate(x)\n",
    "        sum += value\n",
    "        rounded = round(sum)\n",
    "        result[index] = rounded\n",
    "        sum -= rounded\n",
    "    end\n",
    "\n",
    "    @assert -1.0 <= sum <= 1.0\n",
    "    @assert all(0.0 .<= result .<= 1.0)\n",
    "    \n",
    "    return result\n",
    "end"
   ]
  },
  {
   "cell_type": "markdown",
   "metadata": {},
   "source": [
    "The implementation is straight-forward: We iterate over the sequence of continuous control values, round at each time step, and add the remainder (rounding error) to the running sum.\n",
    "\n",
    "Let's apply it to some sequences to see it in effect! First, random numbers:"
   ]
  },
  {
   "cell_type": "code",
   "execution_count": 3,
   "metadata": {},
   "outputs": [
    {
     "name": "stdout",
     "output_type": "stream",
     "text": [
      "random = [0.236033, 0.346517, 0.312707, 0.00790928, 0.488613, 0.210968, 0.951916, 0.999905, 0.251662, 0.986666]\n",
      "rounded = [0.0, 1.0, -0.0, -0.0, 0.0, 1.0, 1.0, 1.0, -0.0, 1.0]\n"
     ]
    },
    {
     "data": {
      "application/vnd.vegalite.v3+json": {
       "data": {
        "values": [
         {
          "day": 1,
          "dose": 0.23603334566204692,
          "mode": "continuous"
         },
         {
          "day": 2,
          "dose": 0.34651701419196046,
          "mode": "continuous"
         },
         {
          "day": 3,
          "dose": 0.3127069683360675,
          "mode": "continuous"
         },
         {
          "day": 4,
          "dose": 0.00790928339056074,
          "mode": "continuous"
         },
         {
          "day": 5,
          "dose": 0.4886128300795012,
          "mode": "continuous"
         },
         {
          "day": 6,
          "dose": 0.21096820215853596,
          "mode": "continuous"
         },
         {
          "day": 7,
          "dose": 0.951916339835734,
          "mode": "continuous"
         },
         {
          "day": 8,
          "dose": 0.9999046588986136,
          "mode": "continuous"
         },
         {
          "day": 9,
          "dose": 0.25166218303197185,
          "mode": "continuous"
         },
         {
          "day": 10,
          "dose": 0.9866663668987996,
          "mode": "continuous"
         },
         {
          "day": 1,
          "dose": 0,
          "mode": "discrete"
         },
         {
          "day": 2,
          "dose": 1,
          "mode": "discrete"
         },
         {
          "day": 3,
          "dose": 0,
          "mode": "discrete"
         },
         {
          "day": 4,
          "dose": 0,
          "mode": "discrete"
         },
         {
          "day": 5,
          "dose": 0,
          "mode": "discrete"
         },
         {
          "day": 6,
          "dose": 1,
          "mode": "discrete"
         },
         {
          "day": 7,
          "dose": 1,
          "mode": "discrete"
         },
         {
          "day": 8,
          "dose": 1,
          "mode": "discrete"
         },
         {
          "day": 9,
          "dose": 0,
          "mode": "discrete"
         },
         {
          "day": 10,
          "dose": 1,
          "mode": "discrete"
         }
        ]
       },
       "encoding": {
        "row": {
         "field": "mode",
         "type": "nominal"
        },
        "x": {
         "field": "day",
         "type": "ordinal"
        },
        "y": {
         "field": "dose",
         "stack": null,
         "type": "quantitative"
        }
       },
       "height": 80,
       "mark": {
        "opacity": 0.7,
        "type": "bar"
       },
       "width": 500
      },
      "image/png": "[encoded data removed]",
      "image/svg+xml": [
       "<svg class=\"marks\" width=\"600\" height=\"232\" viewBox=\"0 0 600 232\" version=\"1.1\" xmlns=\"http://www.w3.org/2000/svg\" xmlns:xlink=\"http://www.w3.org/1999/xlink\"><g transform=\"translate(94,10)\"><g class=\"mark-group role-frame root\"><g transform=\"translate(0,0)\"><path class=\"background\" d=\"M0,0h0v0h0Z\" style=\"fill: none;\"></path><g><g class=\"mark-group role-row-title row-title\"><g transform=\"translate(-68,91)\"><path class=\"background\" d=\"M0,0h0v0h0Z\" style=\"fill: none;\"></path><g><g class=\"mark-text role-title\" style=\"pointer-events: none;\"><text text-anchor=\"middle\" transform=\"translate(-10,0) rotate(-90) translate(0,-2)\" style=\"font-family: sans-serif; font-size: 11px; font-weight: bold; fill: #000; opacity: 1;\">mode</text></g></g></g></g><g class=\"mark-group role-row-header row_header\"><g transform=\"translate(-1,0)\"><path class=\"background\" d=\"M0,0h0v80h0Z\" style=\"fill: none;\"></path><g><g class=\"mark-text role-title\" style=\"pointer-events: none;\"><text text-anchor=\"middle\" transform=\"translate(-47,40) rotate(-90) translate(0,-2)\" style=\"font-family: sans-serif; font-size: 10px; fill: #000; opacity: 1;\">continuous</text></g><g class=\"mark-group role-axis\"><g transform=\"translate(0.5,0.5)\"><path class=\"background\" d=\"M0,0h0v0h0Z\" style=\"pointer-events: none; fill: none;\"></path><g><g class=\"mark-rule role-axis-tick\" style=\"pointer-events: none;\"><line transform=\"translate(0,80)\" x2=\"-5\" y2=\"0\" style=\"fill: none; stroke: #888; stroke-width: 1; opacity: 1;\"></line><line transform=\"translate(0,40)\" x2=\"-5\" y2=\"0\" style=\"fill: none; stroke: #888; stroke-width: 1; opacity: 1;\"></line><line transform=\"translate(0,0)\" x2=\"-5\" y2=\"0\" style=\"fill: none; stroke: #888; stroke-width: 1; opacity: 1;\"></line></g><g class=\"mark-text role-axis-label\" style=\"pointer-events: none;\"><text text-anchor=\"end\" transform=\"translate(-7,83)\" style=\"font-family: sans-serif; font-size: 10px; fill: #000; opacity: 1;\">0.0</text><text text-anchor=\"end\" transform=\"translate(-7,43)\" style=\"font-family: sans-serif; font-size: 10px; fill: #000; opacity: 1;\">0.5</text><text text-anchor=\"end\" transform=\"translate(-7,3)\" style=\"font-family: sans-serif; font-size: 10px; fill: #000; opacity: 1;\">1.0</text></g><g class=\"mark-rule role-axis-domain\" style=\"pointer-events: none;\"><line transform=\"translate(0,80)\" x2=\"0\" y2=\"-80\" style=\"fill: none; stroke: #888; stroke-width: 1; opacity: 1;\"></line></g><g class=\"mark-text role-axis-title\" style=\"pointer-events: none;\"><text text-anchor=\"middle\" transform=\"translate(-26,40) rotate(-90) translate(0,-2)\" style=\"font-family: sans-serif; font-size: 11px; font-weight: bold; fill: #000; opacity: 1;\">dose</text></g></g></g></g></g></g><g transform=\"translate(-1,102)\"><path class=\"background\" d=\"M0,0h0v80h0Z\" style=\"fill: none;\"></path><g><g class=\"mark-text role-title\" style=\"pointer-events: none;\"><text text-anchor=\"middle\" transform=\"translate(-47,40) rotate(-90) translate(0,-2)\" style=\"font-family: sans-serif; font-size: 10px; fill: #000; opacity: 1;\">discrete</text></g><g class=\"mark-group role-axis\"><g transform=\"translate(0.5,0.5)\"><path class=\"background\" d=\"M0,0h0v0h0Z\" style=\"pointer-events: none; fill: none;\"></path><g><g class=\"mark-rule role-axis-tick\" style=\"pointer-events: none;\"><line transform=\"translate(0,80)\" x2=\"-5\" y2=\"0\" style=\"fill: none; stroke: #888; stroke-width: 1; opacity: 1;\"></line><line transform=\"translate(0,40)\" x2=\"-5\" y2=\"0\" style=\"fill: none; stroke: #888; stroke-width: 1; opacity: 1;\"></line><line transform=\"translate(0,0)\" x2=\"-5\" y2=\"0\" style=\"fill: none; stroke: #888; stroke-width: 1; opacity: 1;\"></line></g><g class=\"mark-text role-axis-label\" style=\"pointer-events: none;\"><text text-anchor=\"end\" transform=\"translate(-7,83)\" style=\"font-family: sans-serif; font-size: 10px; fill: #000; opacity: 1;\">0.0</text><text text-anchor=\"end\" transform=\"translate(-7,43)\" style=\"font-family: sans-serif; font-size: 10px; fill: #000; opacity: 1;\">0.5</text><text text-anchor=\"end\" transform=\"translate(-7,3)\" style=\"font-family: sans-serif; font-size: 10px; fill: #000; opacity: 1;\">1.0</text></g><g class=\"mark-rule role-axis-domain\" style=\"pointer-events: none;\"><line transform=\"translate(0,80)\" x2=\"0\" y2=\"-80\" style=\"fill: none; stroke: #888; stroke-width: 1; opacity: 1;\"></line></g><g class=\"mark-text role-axis-title\" style=\"pointer-events: none;\"><text text-anchor=\"middle\" transform=\"translate(-26,40) rotate(-90) translate(0,-2)\" style=\"font-family: sans-serif; font-size: 11px; font-weight: bold; fill: #000; opacity: 1;\">dose</text></g></g></g></g></g></g></g><g class=\"mark-group role-column-footer column_footer\"><g transform=\"translate(0,183)\"><path class=\"background\" d=\"M0,0h500v0h-500Z\" style=\"fill: none;\"></path><g><g class=\"mark-group role-axis\"><g transform=\"translate(0.5,0.5)\"><path class=\"background\" d=\"M0,0h0v0h0Z\" style=\"pointer-events: none; fill: none;\"></path><g><g class=\"mark-rule role-axis-tick\" style=\"pointer-events: none;\"><line transform=\"translate(24,0)\" x2=\"0\" y2=\"5\" style=\"fill: none; stroke: #888; stroke-width: 1; opacity: 1;\"></line><line transform=\"translate(74,0)\" x2=\"0\" y2=\"5\" style=\"fill: none; stroke: #888; stroke-width: 1; opacity: 1;\"></line><line transform=\"translate(124,0)\" x2=\"0\" y2=\"5\" style=\"fill: none; stroke: #888; stroke-width: 1; opacity: 1;\"></line><line transform=\"translate(174,0)\" x2=\"0\" y2=\"5\" style=\"fill: none; stroke: #888; stroke-width: 1; opacity: 1;\"></line><line transform=\"translate(224,0)\" x2=\"0\" y2=\"5\" style=\"fill: none; stroke: #888; stroke-width: 1; opacity: 1;\"></line><line transform=\"translate(274,0)\" x2=\"0\" y2=\"5\" style=\"fill: none; stroke: #888; stroke-width: 1; opacity: 1;\"></line><line transform=\"translate(324,0)\" x2=\"0\" y2=\"5\" style=\"fill: none; stroke: #888; stroke-width: 1; opacity: 1;\"></line><line transform=\"translate(374,0)\" x2=\"0\" y2=\"5\" style=\"fill: none; stroke: #888; stroke-width: 1; opacity: 1;\"></line><line transform=\"translate(424,0)\" x2=\"0\" y2=\"5\" style=\"fill: none; stroke: #888; stroke-width: 1; opacity: 1;\"></line><line transform=\"translate(474,0)\" x2=\"0\" y2=\"5\" style=\"fill: none; stroke: #888; stroke-width: 1; opacity: 1;\"></line></g><g class=\"mark-text role-axis-label\" style=\"pointer-events: none;\"><text text-anchor=\"end\" transform=\"translate(24,7) rotate(270) translate(0,3)\" style=\"font-family: sans-serif; font-size: 10px; fill: #000; opacity: 1;\">1</text><text text-anchor=\"end\" transform=\"translate(74,7) rotate(270) translate(0,3)\" style=\"font-family: sans-serif; font-size: 10px; fill: #000; opacity: 1;\">2</text><text text-anchor=\"end\" transform=\"translate(124,7) rotate(270) translate(0,3)\" style=\"font-family: sans-serif; font-size: 10px; fill: #000; opacity: 1;\">3</text><text text-anchor=\"end\" transform=\"translate(174,7) rotate(270) translate(0,3)\" style=\"font-family: sans-serif; font-size: 10px; fill: #000; opacity: 1;\">4</text><text text-anchor=\"end\" transform=\"translate(224,7) rotate(270) translate(0,3)\" style=\"font-family: sans-serif; font-size: 10px; fill: #000; opacity: 1;\">5</text><text text-anchor=\"end\" transform=\"translate(274,7) rotate(270) translate(0,3)\" style=\"font-family: sans-serif; font-size: 10px; fill: #000; opacity: 1;\">6</text><text text-anchor=\"end\" transform=\"translate(324,7) rotate(270) translate(0,3)\" style=\"font-family: sans-serif; font-size: 10px; fill: #000; opacity: 1;\">7</text><text text-anchor=\"end\" transform=\"translate(374,7) rotate(270) translate(0,3)\" style=\"font-family: sans-serif; font-size: 10px; fill: #000; opacity: 1;\">8</text><text text-anchor=\"end\" transform=\"translate(424,7) rotate(270) translate(0,3)\" style=\"font-family: sans-serif; font-size: 10px; fill: #000; opacity: 1;\">9</text><text text-anchor=\"end\" transform=\"translate(474,7) rotate(270) translate(0,3)\" style=\"font-family: sans-serif; font-size: 10px; fill: #000; opacity: 1;\">10</text></g><g class=\"mark-rule role-axis-domain\" style=\"pointer-events: none;\"><line transform=\"translate(0,0)\" x2=\"500\" y2=\"0\" style=\"fill: none; stroke: #888; stroke-width: 1; opacity: 1;\"></line></g><g class=\"mark-text role-axis-title\" style=\"pointer-events: none;\"><text text-anchor=\"middle\" transform=\"translate(250,32)\" style=\"font-family: sans-serif; font-size: 11px; font-weight: bold; fill: #000; opacity: 1;\">day</text></g></g></g></g></g></g></g><g class=\"mark-group role-scope cell\"><g transform=\"translate(0,0)\"><path class=\"background\" d=\"M0.5,0.5h500v80h-500Z\" style=\"fill: none; stroke: #ddd;\"></path><g><g class=\"mark-group role-axis\"><g transform=\"translate(0.5,0.5)\"><path class=\"background\" d=\"M0,0h0v0h0Z\" style=\"pointer-events: none; fill: none;\"></path><g><g class=\"mark-rule role-axis-grid\" style=\"pointer-events: none;\"><line transform=\"translate(0,80)\" x2=\"500\" y2=\"0\" style=\"fill: none; stroke: #ddd; stroke-width: 1; opacity: 1;\"></line><line transform=\"translate(0,40)\" x2=\"500\" y2=\"0\" style=\"fill: none; stroke: #ddd; stroke-width: 1; opacity: 1;\"></line><line transform=\"translate(0,0)\" x2=\"500\" y2=\"0\" style=\"fill: none; stroke: #ddd; stroke-width: 1; opacity: 1;\"></line></g></g></g></g><g class=\"mark-rect role-mark child_marks\"><path d=\"M2.5,61.117332347036246h45v18.882667652963754h-45Z\" style=\"fill: #4c78a8; opacity: 0.7;\"></path><path d=\"M52.5,52.27863886464316h45v27.721361135356837h-45Z\" style=\"fill: #4c78a8; opacity: 0.7;\"></path><path d=\"M102.5,54.9834425331146h45v25.016557466885402h-45Z\" style=\"fill: #4c78a8; opacity: 0.7;\"></path><path d=\"M152.5,79.36725732875514h45v0.6327426712448556h-45Z\" style=\"fill: #4c78a8; opacity: 0.7;\"></path><path d=\"M202.5,40.91097359363991h45v39.08902640636009h-45Z\" style=\"fill: #4c78a8; opacity: 0.7;\"></path><path d=\"M252.5,63.12254382731712h45v16.877456172682876h-45Z\" style=\"fill: #4c78a8; opacity: 0.7;\"></path><path d=\"M302.5,3.8466928131412885h45v76.15330718685871h-45Z\" style=\"fill: #4c78a8; opacity: 0.7;\"></path><path d=\"M352.5,0.007627288110910513h45v79.99237271188909h-45Z\" style=\"fill: #4c78a8; opacity: 0.7;\"></path><path d=\"M402.5,59.86702535744225h45v20.13297464255775h-45Z\" style=\"fill: #4c78a8; opacity: 0.7;\"></path><path d=\"M452.5,1.0666906480960279h45v78.93330935190397h-45Z\" style=\"fill: #4c78a8; opacity: 0.7;\"></path></g></g></g><g transform=\"translate(0,102)\"><path class=\"background\" d=\"M0.5,0.5h500v80h-500Z\" style=\"fill: none; stroke: #ddd;\"></path><g><g class=\"mark-group role-axis\"><g transform=\"translate(0.5,0.5)\"><path class=\"background\" d=\"M0,0h0v0h0Z\" style=\"pointer-events: none; fill: none;\"></path><g><g class=\"mark-rule role-axis-grid\" style=\"pointer-events: none;\"><line transform=\"translate(0,80)\" x2=\"500\" y2=\"0\" style=\"fill: none; stroke: #ddd; stroke-width: 1; opacity: 1;\"></line><line transform=\"translate(0,40)\" x2=\"500\" y2=\"0\" style=\"fill: none; stroke: #ddd; stroke-width: 1; opacity: 1;\"></line><line transform=\"translate(0,0)\" x2=\"500\" y2=\"0\" style=\"fill: none; stroke: #ddd; stroke-width: 1; opacity: 1;\"></line></g></g></g></g><g class=\"mark-rect role-mark child_marks\"><path d=\"M2.5,80h45v0h-45Z\" style=\"fill: #4c78a8; opacity: 0.7;\"></path><path d=\"M52.5,0h45v80h-45Z\" style=\"fill: #4c78a8; opacity: 0.7;\"></path><path d=\"M102.5,80h45v0h-45Z\" style=\"fill: #4c78a8; opacity: 0.7;\"></path><path d=\"M152.5,80h45v0h-45Z\" style=\"fill: #4c78a8; opacity: 0.7;\"></path><path d=\"M202.5,80h45v0h-45Z\" style=\"fill: #4c78a8; opacity: 0.7;\"></path><path d=\"M252.5,0h45v80h-45Z\" style=\"fill: #4c78a8; opacity: 0.7;\"></path><path d=\"M302.5,0h45v80h-45Z\" style=\"fill: #4c78a8; opacity: 0.7;\"></path><path d=\"M352.5,0h45v80h-45Z\" style=\"fill: #4c78a8; opacity: 0.7;\"></path><path d=\"M402.5,80h45v0h-45Z\" style=\"fill: #4c78a8; opacity: 0.7;\"></path><path d=\"M452.5,0h45v80h-45Z\" style=\"fill: #4c78a8; opacity: 0.7;\"></path></g></g></g></g></g></g></g></g></svg>"
      ],
      "text/plain": [
       "VegaLite.VLSpec{:plot}"
      ]
     },
     "execution_count": 3,
     "metadata": {},
     "output_type": "execute_result"
    }
   ],
   "source": [
    "Random.seed!(1)\n",
    "\n",
    "random = rand(10)\n",
    "rounded = sum_up_round(random)\n",
    "@show random rounded\n",
    "\n",
    "data = vcat(DataFrame(day=1:10, dose=random, mode=\"continuous\"),\n",
    "            DataFrame(day=1:10, dose=rounded, mode=\"discrete\"))\n",
    "@vlplot(\n",
    "    mark={:bar, opacity=0.7},\n",
    "    height=80, width=500, data=data,\n",
    "    x=\"day:o\", y={:dose, stack=nothing}, row=:mode\n",
    ")"
   ]
  },
  {
   "cell_type": "markdown",
   "metadata": {},
   "source": [
    "As we can see in the above plot, we have a value of 1 on day 2 in the result, even though the original control has a value below 0.5, because the method takes into account also the values from previous results (that were rounded down).\n",
    "\n",
    "Let's consider a wave pattern:"
   ]
  },
  {
   "cell_type": "code",
   "execution_count": 4,
   "metadata": {},
   "outputs": [
    {
     "data": {
      "application/vnd.vegalite.v3+json": {
       "data": {
        "values": [
         {
          "day": 1,
          "dose": 0.998458666866564,
          "mode": "continuous"
         },
         {
          "day": 2,
          "dose": 0.9938441702975689,
          "mode": "continuous"
         },
         {
          "day": 3,
          "dose": 0.9861849601988383,
          "mode": "continuous"
         },
         {
          "day": 4,
          "dose": 0.9755282581475768,
          "mode": "continuous"
         },
         {
          "day": 5,
          "dose": 0.9619397662556434,
          "mode": "continuous"
         },
         {
          "day": 6,
          "dose": 0.9455032620941839,
          "mode": "continuous"
         },
         {
          "day": 7,
          "dose": 0.9263200821770461,
          "mode": "continuous"
         },
         {
          "day": 8,
          "dose": 0.9045084971874737,
          "mode": "continuous"
         },
         {
          "day": 9,
          "dose": 0.8802029828000155,
          "mode": "continuous"
         },
         {
          "day": 10,
          "dose": 0.8535533905932737,
          "mode": "continuous"
         },
         {
          "day": 11,
          "dose": 0.8247240241650918,
          "mode": "continuous"
         },
         {
          "day": 12,
          "dose": 0.7938926261462366,
          "mode": "continuous"
         },
         {
          "day": 13,
          "dose": 0.7612492823579744,
          "mode": "continuous"
         },
         {
          "day": 14,
          "dose": 0.7269952498697734,
          "mode": "continuous"
         },
         {
          "day": 15,
          "dose": 0.6913417161825449,
          "mode": "continuous"
         },
         {
          "day": 16,
          "dose": 0.6545084971874737,
          "mode": "continuous"
         },
         {
          "day": 17,
          "dose": 0.6167226819279528,
          "mode": "continuous"
         },
         {
          "day": 18,
          "dose": 0.5782172325201155,
          "mode": "continuous"
         },
         {
          "day": 19,
          "dose": 0.5392295478639225,
          "mode": "continuous"
         },
         {
          "day": 20,
          "dose": 0.5,
          "mode": "continuous"
         },
         {
          "day": 21,
          "dose": 0.4607704521360776,
          "mode": "continuous"
         },
         {
          "day": 22,
          "dose": 0.4217827674798846,
          "mode": "continuous"
         },
         {
          "day": 23,
          "dose": 0.38327731807204735,
          "mode": "continuous"
         },
         {
          "day": 24,
          "dose": 0.34549150281252633,
          "mode": "continuous"
         },
         {
          "day": 25,
          "dose": 0.30865828381745514,
          "mode": "continuous"
         },
         {
          "day": 26,
          "dose": 0.2730047501302266,
          "mode": "continuous"
         },
         {
          "day": 27,
          "dose": 0.2387507176420256,
          "mode": "continuous"
         },
         {
          "day": 28,
          "dose": 0.2061073738537635,
          "mode": "continuous"
         },
         {
          "day": 29,
          "dose": 0.17527597583490823,
          "mode": "continuous"
         },
         {
          "day": 30,
          "dose": 0.14644660940672627,
          "mode": "continuous"
         },
         {
          "day": 31,
          "dose": 0.11979701719998453,
          "mode": "continuous"
         },
         {
          "day": 32,
          "dose": 0.09549150281252633,
          "mode": "continuous"
         },
         {
          "day": 33,
          "dose": 0.07367991782295391,
          "mode": "continuous"
         },
         {
          "day": 34,
          "dose": 0.054496737905816106,
          "mode": "continuous"
         },
         {
          "day": 35,
          "dose": 0.03806023374435663,
          "mode": "continuous"
         },
         {
          "day": 36,
          "dose": 0.024471741852423234,
          "mode": "continuous"
         },
         {
          "day": 37,
          "dose": 0.013815039801161721,
          "mode": "continuous"
         },
         {
          "day": 38,
          "dose": 0.00615582970243117,
          "mode": "continuous"
         },
         {
          "day": 39,
          "dose": 0.001541333133436018,
          "mode": "continuous"
         },
         {
          "day": 40,
          "dose": 0,
          "mode": "continuous"
         },
         {
          "day": 41,
          "dose": 0.001541333133436018,
          "mode": "continuous"
         },
         {
          "day": 42,
          "dose": 0.006155829702431115,
          "mode": "continuous"
         },
         {
          "day": 43,
          "dose": 0.013815039801161666,
          "mode": "continuous"
         },
         {
          "day": 44,
          "dose": 0.02447174185242318,
          "mode": "continuous"
         },
         {
          "day": 45,
          "dose": 0.038060233744356575,
          "mode": "continuous"
         },
         {
          "day": 46,
          "dose": 0.05449673790581605,
          "mode": "continuous"
         },
         {
          "day": 47,
          "dose": 0.07367991782295386,
          "mode": "continuous"
         },
         {
          "day": 48,
          "dose": 0.09549150281252627,
          "mode": "continuous"
         },
         {
          "day": 49,
          "dose": 0.11979701719998448,
          "mode": "continuous"
         },
         {
          "day": 50,
          "dose": 0.14644660940672616,
          "mode": "continuous"
         },
         {
          "day": 51,
          "dose": 0.17527597583490795,
          "mode": "continuous"
         },
         {
          "day": 52,
          "dose": 0.20610737385376338,
          "mode": "continuous"
         },
         {
          "day": 53,
          "dose": 0.2387507176420257,
          "mode": "continuous"
         },
         {
          "day": 54,
          "dose": 0.27300475013022696,
          "mode": "continuous"
         },
         {
          "day": 55,
          "dose": 0.30865828381745486,
          "mode": "continuous"
         },
         {
          "day": 56,
          "dose": 0.3454915028125262,
          "mode": "continuous"
         },
         {
          "day": 57,
          "dose": 0.38327731807204746,
          "mode": "continuous"
         },
         {
          "day": 58,
          "dose": 0.4217827674798849,
          "mode": "continuous"
         },
         {
          "day": 59,
          "dose": 0.4607704521360772,
          "mode": "continuous"
         },
         {
          "day": 60,
          "dose": 0.4999999999999999,
          "mode": "continuous"
         },
         {
          "day": 61,
          "dose": 0.5392295478639226,
          "mode": "continuous"
         },
         {
          "day": 62,
          "dose": 0.5782172325201158,
          "mode": "continuous"
         },
         {
          "day": 63,
          "dose": 0.6167226819279524,
          "mode": "continuous"
         },
         {
          "day": 64,
          "dose": 0.6545084971874736,
          "mode": "continuous"
         },
         {
          "day": 65,
          "dose": 0.691341716182545,
          "mode": "continuous"
         },
         {
          "day": 66,
          "dose": 0.7269952498697737,
          "mode": "continuous"
         },
         {
          "day": 67,
          "dose": 0.7612492823579742,
          "mode": "continuous"
         },
         {
          "day": 68,
          "dose": 0.7938926261462365,
          "mode": "continuous"
         },
         {
          "day": 69,
          "dose": 0.8247240241650919,
          "mode": "continuous"
         },
         {
          "day": 70,
          "dose": 0.853553390593274,
          "mode": "continuous"
         },
         {
          "day": 71,
          "dose": 0.8802029828000153,
          "mode": "continuous"
         },
         {
          "day": 72,
          "dose": 0.9045084971874737,
          "mode": "continuous"
         },
         {
          "day": 73,
          "dose": 0.9263200821770461,
          "mode": "continuous"
         },
         {
          "day": 74,
          "dose": 0.9455032620941841,
          "mode": "continuous"
         },
         {
          "day": 75,
          "dose": 0.9619397662556433,
          "mode": "continuous"
         },
         {
          "day": 76,
          "dose": 0.9755282581475768,
          "mode": "continuous"
         },
         {
          "day": 77,
          "dose": 0.9861849601988384,
          "mode": "continuous"
         },
         {
          "day": 78,
          "dose": 0.9938441702975689,
          "mode": "continuous"
         },
         {
          "day": 79,
          "dose": 0.998458666866564,
          "mode": "continuous"
         },
         {
          "day": 80,
          "dose": 1,
          "mode": "continuous"
         },
         {
          "day": 1,
          "dose": 1,
          "mode": "discrete"
         },
         {
          "day": 2,
          "dose": 1,
          "mode": "discrete"
         },
         {
          "day": 3,
          "dose": 1,
          "mode": "discrete"
         },
         {
          "day": 4,
          "dose": 1,
          "mode": "discrete"
         },
         {
          "day": 5,
          "dose": 1,
          "mode": "discrete"
         },
         {
          "day": 6,
          "dose": 1,
          "mode": "discrete"
         },
         {
          "day": 7,
          "dose": 1,
          "mode": "discrete"
         },
         {
          "day": 8,
          "dose": 1,
          "mode": "discrete"
         },
         {
          "day": 9,
          "dose": 1,
          "mode": "discrete"
         },
         {
          "day": 10,
          "dose": 0,
          "mode": "discrete"
         },
         {
          "day": 11,
          "dose": 1,
          "mode": "discrete"
         },
         {
          "day": 12,
          "dose": 1,
          "mode": "discrete"
         },
         {
          "day": 13,
          "dose": 1,
          "mode": "discrete"
         },
         {
          "day": 14,
          "dose": 1,
          "mode": "discrete"
         },
         {
          "day": 15,
          "dose": 0,
          "mode": "discrete"
         },
         {
          "day": 16,
          "dose": 1,
          "mode": "discrete"
         },
         {
          "day": 17,
          "dose": 0,
          "mode": "discrete"
         },
         {
          "day": 18,
          "dose": 1,
          "mode": "discrete"
         },
         {
          "day": 19,
          "dose": 1,
          "mode": "discrete"
         },
         {
          "day": 20,
          "dose": 0,
          "mode": "discrete"
         },
         {
          "day": 21,
          "dose": 1,
          "mode": "discrete"
         },
         {
          "day": 22,
          "dose": 0,
          "mode": "discrete"
         },
         {
          "day": 23,
          "dose": 0,
          "mode": "discrete"
         },
         {
          "day": 24,
          "dose": 1,
          "mode": "discrete"
         },
         {
          "day": 25,
          "dose": 0,
          "mode": "discrete"
         },
         {
          "day": 26,
          "dose": 0,
          "mode": "discrete"
         },
         {
          "day": 27,
          "dose": 1,
          "mode": "discrete"
         },
         {
          "day": 28,
          "dose": 0,
          "mode": "discrete"
         },
         {
          "day": 29,
          "dose": 0,
          "mode": "discrete"
         },
         {
          "day": 30,
          "dose": 0,
          "mode": "discrete"
         },
         {
          "day": 31,
          "dose": 0,
          "mode": "discrete"
         },
         {
          "day": 32,
          "dose": 0,
          "mode": "discrete"
         },
         {
          "day": 33,
          "dose": 0,
          "mode": "discrete"
         },
         {
          "day": 34,
          "dose": 0,
          "mode": "discrete"
         },
         {
          "day": 35,
          "dose": 0,
          "mode": "discrete"
         },
         {
          "day": 36,
          "dose": 0,
          "mode": "discrete"
         },
         {
          "day": 37,
          "dose": 0,
          "mode": "discrete"
         },
         {
          "day": 38,
          "dose": 0,
          "mode": "discrete"
         },
         {
          "day": 39,
          "dose": 1,
          "mode": "discrete"
         },
         {
          "day": 40,
          "dose": 0,
          "mode": "discrete"
         },
         {
          "day": 41,
          "dose": 0,
          "mode": "discrete"
         },
         {
          "day": 42,
          "dose": 0,
          "mode": "discrete"
         },
         {
          "day": 43,
          "dose": 0,
          "mode": "discrete"
         },
         {
          "day": 44,
          "dose": 0,
          "mode": "discrete"
         },
         {
          "day": 45,
          "dose": 0,
          "mode": "discrete"
         },
         {
          "day": 46,
          "dose": 0,
          "mode": "discrete"
         },
         {
          "day": 47,
          "dose": 0,
          "mode": "discrete"
         },
         {
          "day": 48,
          "dose": 0,
          "mode": "discrete"
         },
         {
          "day": 49,
          "dose": 0,
          "mode": "discrete"
         },
         {
          "day": 50,
          "dose": 0,
          "mode": "discrete"
         },
         {
          "day": 51,
          "dose": 0,
          "mode": "discrete"
         },
         {
          "day": 52,
          "dose": 0,
          "mode": "discrete"
         },
         {
          "day": 53,
          "dose": 1,
          "mode": "discrete"
         },
         {
          "day": 54,
          "dose": 0,
          "mode": "discrete"
         },
         {
          "day": 55,
          "dose": 0,
          "mode": "discrete"
         },
         {
          "day": 56,
          "dose": 1,
          "mode": "discrete"
         },
         {
          "day": 57,
          "dose": 0,
          "mode": "discrete"
         },
         {
          "day": 58,
          "dose": 0,
          "mode": "discrete"
         },
         {
          "day": 59,
          "dose": 1,
          "mode": "discrete"
         },
         {
          "day": 60,
          "dose": 0,
          "mode": "discrete"
         },
         {
          "day": 61,
          "dose": 1,
          "mode": "discrete"
         },
         {
          "day": 62,
          "dose": 1,
          "mode": "discrete"
         },
         {
          "day": 63,
          "dose": 0,
          "mode": "discrete"
         },
         {
          "day": 64,
          "dose": 1,
          "mode": "discrete"
         },
         {
          "day": 65,
          "dose": 0,
          "mode": "discrete"
         },
         {
          "day": 66,
          "dose": 1,
          "mode": "discrete"
         },
         {
          "day": 67,
          "dose": 1,
          "mode": "discrete"
         },
         {
          "day": 68,
          "dose": 1,
          "mode": "discrete"
         },
         {
          "day": 69,
          "dose": 1,
          "mode": "discrete"
         },
         {
          "day": 70,
          "dose": 0,
          "mode": "discrete"
         },
         {
          "day": 71,
          "dose": 1,
          "mode": "discrete"
         },
         {
          "day": 72,
          "dose": 1,
          "mode": "discrete"
         },
         {
          "day": 73,
          "dose": 1,
          "mode": "discrete"
         },
         {
          "day": 74,
          "dose": 1,
          "mode": "discrete"
         },
         {
          "day": 75,
          "dose": 1,
          "mode": "discrete"
         },
         {
          "day": 76,
          "dose": 1,
          "mode": "discrete"
         },
         {
          "day": 77,
          "dose": 1,
          "mode": "discrete"
         },
         {
          "day": 78,
          "dose": 1,
          "mode": "discrete"
         },
         {
          "day": 79,
          "dose": 1,
          "mode": "discrete"
         },
         {
          "day": 80,
          "dose": 1,
          "mode": "discrete"
         }
        ]
       },
       "encoding": {
        "row": {
         "field": "mode",
         "type": "nominal"
        },
        "x": {
         "field": "day",
         "type": "ordinal"
        },
        "y": {
         "field": "dose",
         "stack": null,
         "type": "quantitative"
        }
       },
       "height": 80,
       "mark": {
        "opacity": 0.7,
        "type": "bar"
       },
       "width": 500
      },
      "image/png": "[encoded data removed]",
      "image/svg+xml": [
       "<svg class=\"marks\" width=\"600\" height=\"233\" viewBox=\"0 0 600 233\" version=\"1.1\" xmlns=\"http://www.w3.org/2000/svg\" xmlns:xlink=\"http://www.w3.org/1999/xlink\"><g transform=\"translate(94,10)\"><g class=\"mark-group role-frame root\"><g transform=\"translate(0,0)\"><path class=\"background\" d=\"M0,0h0v0h0Z\" style=\"fill: none;\"></path><g><g class=\"mark-group role-row-title row-title\"><g transform=\"translate(-68,91)\"><path class=\"background\" d=\"M0,0h0v0h0Z\" style=\"fill: none;\"></path><g><g class=\"mark-text role-title\" style=\"pointer-events: none;\"><text text-anchor=\"middle\" transform=\"translate(-10,0) rotate(-90) translate(0,-2)\" style=\"font-family: sans-serif; font-size: 11px; font-weight: bold; fill: #000; opacity: 1;\">mode</text></g></g></g></g><g class=\"mark-group role-row-header row_header\"><g transform=\"translate(-1,0)\"><path class=\"background\" d=\"M0,0h0v80h0Z\" style=\"fill: none;\"></path><g><g class=\"mark-text role-title\" style=\"pointer-events: none;\"><text text-anchor=\"middle\" transform=\"translate(-47,40) rotate(-90) translate(0,-2)\" style=\"font-family: sans-serif; font-size: 10px; fill: #000; opacity: 1;\">continuous</text></g><g class=\"mark-group role-axis\"><g transform=\"translate(0.5,0.5)\"><path class=\"background\" d=\"M0,0h0v0h0Z\" style=\"pointer-events: none; fill: none;\"></path><g><g class=\"mark-rule role-axis-tick\" style=\"pointer-events: none;\"><line transform=\"translate(0,80)\" x2=\"-5\" y2=\"0\" style=\"fill: none; stroke: #888; stroke-width: 1; opacity: 1;\"></line><line transform=\"translate(0,40)\" x2=\"-5\" y2=\"0\" style=\"fill: none; stroke: #888; stroke-width: 1; opacity: 1;\"></line><line transform=\"translate(0,0)\" x2=\"-5\" y2=\"0\" style=\"fill: none; stroke: #888; stroke-width: 1; opacity: 1;\"></line></g><g class=\"mark-text role-axis-label\" style=\"pointer-events: none;\"><text text-anchor=\"end\" transform=\"translate(-7,83)\" style=\"font-family: sans-serif; font-size: 10px; fill: #000; opacity: 1;\">0.0</text><text text-anchor=\"end\" transform=\"translate(-7,43)\" style=\"font-family: sans-serif; font-size: 10px; fill: #000; opacity: 1;\">0.5</text><text text-anchor=\"end\" transform=\"translate(-7,3)\" style=\"font-family: sans-serif; font-size: 10px; fill: #000; opacity: 1;\">1.0</text></g><g class=\"mark-rule role-axis-domain\" style=\"pointer-events: none;\"><line transform=\"translate(0,80)\" x2=\"0\" y2=\"-80\" style=\"fill: none; stroke: #888; stroke-width: 1; opacity: 1;\"></line></g><g class=\"mark-text role-axis-title\" style=\"pointer-events: none;\"><text text-anchor=\"middle\" transform=\"translate(-26,40) rotate(-90) translate(0,-2)\" style=\"font-family: sans-serif; font-size: 11px; font-weight: bold; fill: #000; opacity: 1;\">dose</text></g></g></g></g></g></g><g transform=\"translate(-1,102)\"><path class=\"background\" d=\"M0,0h0v80h0Z\" style=\"fill: none;\"></path><g><g class=\"mark-text role-title\" style=\"pointer-events: none;\"><text text-anchor=\"middle\" transform=\"translate(-47,40) rotate(-90) translate(0,-2)\" style=\"font-family: sans-serif; font-size: 10px; fill: #000; opacity: 1;\">discrete</text></g><g class=\"mark-group role-axis\"><g transform=\"translate(0.5,0.5)\"><path class=\"background\" d=\"M0,0h0v0h0Z\" style=\"pointer-events: none; fill: none;\"></path><g><g class=\"mark-rule role-axis-tick\" style=\"pointer-events: none;\"><line transform=\"translate(0,80)\" x2=\"-5\" y2=\"0\" style=\"fill: none; stroke: #888; stroke-width: 1; opacity: 1;\"></line><line transform=\"translate(0,40)\" x2=\"-5\" y2=\"0\" style=\"fill: none; stroke: #888; stroke-width: 1; opacity: 1;\"></line><line transform=\"translate(0,0)\" x2=\"-5\" y2=\"0\" style=\"fill: none; stroke: #888; stroke-width: 1; opacity: 1;\"></line></g><g class=\"mark-text role-axis-label\" style=\"pointer-events: none;\"><text text-anchor=\"end\" transform=\"translate(-7,83)\" style=\"font-family: sans-serif; font-size: 10px; fill: #000; opacity: 1;\">0.0</text><text text-anchor=\"end\" transform=\"translate(-7,43)\" style=\"font-family: sans-serif; font-size: 10px; fill: #000; opacity: 1;\">0.5</text><text text-anchor=\"end\" transform=\"translate(-7,3)\" style=\"font-family: sans-serif; font-size: 10px; fill: #000; opacity: 1;\">1.0</text></g><g class=\"mark-rule role-axis-domain\" style=\"pointer-events: none;\"><line transform=\"translate(0,80)\" x2=\"0\" y2=\"-80\" style=\"fill: none; stroke: #888; stroke-width: 1; opacity: 1;\"></line></g><g class=\"mark-text role-axis-title\" style=\"pointer-events: none;\"><text text-anchor=\"middle\" transform=\"translate(-26,40) rotate(-90) translate(0,-2)\" style=\"font-family: sans-serif; font-size: 11px; font-weight: bold; fill: #000; opacity: 1;\">dose</text></g></g></g></g></g></g></g><g class=\"mark-group role-column-footer column_footer\"><g transform=\"translate(0,183)\"><path class=\"background\" d=\"M0,0h500v0h-500Z\" style=\"fill: none;\"></path><g><g class=\"mark-group role-axis\"><g transform=\"translate(0.5,0.5)\"><path class=\"background\" d=\"M0,0h0v0h0Z\" style=\"pointer-events: none; fill: none;\"></path><g><g class=\"mark-rule role-axis-tick\" style=\"pointer-events: none;\"><line transform=\"translate(2,0)\" x2=\"0\" y2=\"5\" style=\"fill: none; stroke: #888; stroke-width: 1; opacity: 1;\"></line><line transform=\"translate(8,0)\" x2=\"0\" y2=\"5\" style=\"fill: none; stroke: #888; stroke-width: 1; opacity: 1;\"></line><line transform=\"translate(15,0)\" x2=\"0\" y2=\"5\" style=\"fill: none; stroke: #888; stroke-width: 1; opacity: 1;\"></line><line transform=\"translate(21,0)\" x2=\"0\" y2=\"5\" style=\"fill: none; stroke: #888; stroke-width: 1; opacity: 1;\"></line><line transform=\"translate(27,0)\" x2=\"0\" y2=\"5\" style=\"fill: none; stroke: #888; stroke-width: 1; opacity: 1;\"></line><line transform=\"translate(33,0)\" x2=\"0\" y2=\"5\" style=\"fill: none; stroke: #888; stroke-width: 1; opacity: 1;\"></line><line transform=\"translate(40,0)\" x2=\"0\" y2=\"5\" style=\"fill: none; stroke: #888; stroke-width: 1; opacity: 1;\"></line><line transform=\"translate(46,0)\" x2=\"0\" y2=\"5\" style=\"fill: none; stroke: #888; stroke-width: 1; opacity: 1;\"></line><line transform=\"translate(52,0)\" x2=\"0\" y2=\"5\" style=\"fill: none; stroke: #888; stroke-width: 1; opacity: 1;\"></line><line transform=\"translate(58,0)\" x2=\"0\" y2=\"5\" style=\"fill: none; stroke: #888; stroke-width: 1; opacity: 1;\"></line><line transform=\"translate(65,0)\" x2=\"0\" y2=\"5\" style=\"fill: none; stroke: #888; stroke-width: 1; opacity: 1;\"></line><line transform=\"translate(71,0)\" x2=\"0\" y2=\"5\" style=\"fill: none; stroke: #888; stroke-width: 1; opacity: 1;\"></line><line transform=\"translate(77,0)\" x2=\"0\" y2=\"5\" style=\"fill: none; stroke: #888; stroke-width: 1; opacity: 1;\"></line><line transform=\"translate(83,0)\" x2=\"0\" y2=\"5\" style=\"fill: none; stroke: #888; stroke-width: 1; opacity: 1;\"></line><line transform=\"translate(90,0)\" x2=\"0\" y2=\"5\" style=\"fill: none; stroke: #888; stroke-width: 1; opacity: 1;\"></line><line transform=\"translate(96,0)\" x2=\"0\" y2=\"5\" style=\"fill: none; stroke: #888; stroke-width: 1; opacity: 1;\"></line><line transform=\"translate(102,0)\" x2=\"0\" y2=\"5\" style=\"fill: none; stroke: #888; stroke-width: 1; opacity: 1;\"></line><line transform=\"translate(108,0)\" x2=\"0\" y2=\"5\" style=\"fill: none; stroke: #888; stroke-width: 1; opacity: 1;\"></line><line transform=\"translate(115,0)\" x2=\"0\" y2=\"5\" style=\"fill: none; stroke: #888; stroke-width: 1; opacity: 1;\"></line><line transform=\"translate(121,0)\" x2=\"0\" y2=\"5\" style=\"fill: none; stroke: #888; stroke-width: 1; opacity: 1;\"></line><line transform=\"translate(127,0)\" x2=\"0\" y2=\"5\" style=\"fill: none; stroke: #888; stroke-width: 1; opacity: 1;\"></line><line transform=\"translate(133,0)\" x2=\"0\" y2=\"5\" style=\"fill: none; stroke: #888; stroke-width: 1; opacity: 1;\"></line><line transform=\"translate(140,0)\" x2=\"0\" y2=\"5\" style=\"fill: none; stroke: #888; stroke-width: 1; opacity: 1;\"></line><line transform=\"translate(146,0)\" x2=\"0\" y2=\"5\" style=\"fill: none; stroke: #888; stroke-width: 1; opacity: 1;\"></line><line transform=\"translate(152,0)\" x2=\"0\" y2=\"5\" style=\"fill: none; stroke: #888; stroke-width: 1; opacity: 1;\"></line><line transform=\"translate(158,0)\" x2=\"0\" y2=\"5\" style=\"fill: none; stroke: #888; stroke-width: 1; opacity: 1;\"></line><line transform=\"translate(165,0)\" x2=\"0\" y2=\"5\" style=\"fill: none; stroke: #888; stroke-width: 1; opacity: 1;\"></line><line transform=\"translate(171,0)\" x2=\"0\" y2=\"5\" style=\"fill: none; stroke: #888; stroke-width: 1; opacity: 1;\"></line><line transform=\"translate(177,0)\" x2=\"0\" y2=\"5\" style=\"fill: none; stroke: #888; stroke-width: 1; opacity: 1;\"></line><line transform=\"translate(183,0)\" x2=\"0\" y2=\"5\" style=\"fill: none; stroke: #888; stroke-width: 1; opacity: 1;\"></line><line transform=\"translate(190,0)\" x2=\"0\" y2=\"5\" style=\"fill: none; stroke: #888; stroke-width: 1; opacity: 1;\"></line><line transform=\"translate(196,0)\" x2=\"0\" y2=\"5\" style=\"fill: none; stroke: #888; stroke-width: 1; opacity: 1;\"></line><line transform=\"translate(202,0)\" x2=\"0\" y2=\"5\" style=\"fill: none; stroke: #888; stroke-width: 1; opacity: 1;\"></line><line transform=\"translate(208,0)\" x2=\"0\" y2=\"5\" style=\"fill: none; stroke: #888; stroke-width: 1; opacity: 1;\"></line><line transform=\"translate(215,0)\" x2=\"0\" y2=\"5\" style=\"fill: none; stroke: #888; stroke-width: 1; opacity: 1;\"></line><line transform=\"translate(221,0)\" x2=\"0\" y2=\"5\" style=\"fill: none; stroke: #888; stroke-width: 1; opacity: 1;\"></line><line transform=\"translate(227,0)\" x2=\"0\" y2=\"5\" style=\"fill: none; stroke: #888; stroke-width: 1; opacity: 1;\"></line><line transform=\"translate(233,0)\" x2=\"0\" y2=\"5\" style=\"fill: none; stroke: #888; stroke-width: 1; opacity: 1;\"></line><line transform=\"translate(240,0)\" x2=\"0\" y2=\"5\" style=\"fill: none; stroke: #888; stroke-width: 1; opacity: 1;\"></line><line transform=\"translate(246,0)\" x2=\"0\" y2=\"5\" style=\"fill: none; stroke: #888; stroke-width: 1; opacity: 1;\"></line><line transform=\"translate(252,0)\" x2=\"0\" y2=\"5\" style=\"fill: none; stroke: #888; stroke-width: 1; opacity: 1;\"></line><line transform=\"translate(258,0)\" x2=\"0\" y2=\"5\" style=\"fill: none; stroke: #888; stroke-width: 1; opacity: 1;\"></line><line transform=\"translate(265,0)\" x2=\"0\" y2=\"5\" style=\"fill: none; stroke: #888; stroke-width: 1; opacity: 1;\"></line><line transform=\"translate(271,0)\" x2=\"0\" y2=\"5\" style=\"fill: none; stroke: #888; stroke-width: 1; opacity: 1;\"></line><line transform=\"translate(277,0)\" x2=\"0\" y2=\"5\" style=\"fill: none; stroke: #888; stroke-width: 1; opacity: 1;\"></line><line transform=\"translate(283,0)\" x2=\"0\" y2=\"5\" style=\"fill: none; stroke: #888; stroke-width: 1; opacity: 1;\"></line><line transform=\"translate(290,0)\" x2=\"0\" y2=\"5\" style=\"fill: none; stroke: #888; stroke-width: 1; opacity: 1;\"></line><line transform=\"translate(296,0)\" x2=\"0\" y2=\"5\" style=\"fill: none; stroke: #888; stroke-width: 1; opacity: 1;\"></line><line transform=\"translate(302,0)\" x2=\"0\" y2=\"5\" style=\"fill: none; stroke: #888; stroke-width: 1; opacity: 1;\"></line><line transform=\"translate(308,0)\" x2=\"0\" y2=\"5\" style=\"fill: none; stroke: #888; stroke-width: 1; opacity: 1;\"></line><line transform=\"translate(315,0)\" x2=\"0\" y2=\"5\" style=\"fill: none; stroke: #888; stroke-width: 1; opacity: 1;\"></line><line transform=\"translate(321,0)\" x2=\"0\" y2=\"5\" style=\"fill: none; stroke: #888; stroke-width: 1; opacity: 1;\"></line><line transform=\"translate(327,0)\" x2=\"0\" y2=\"5\" style=\"fill: none; stroke: #888; stroke-width: 1; opacity: 1;\"></line><line transform=\"translate(333,0)\" x2=\"0\" y2=\"5\" style=\"fill: none; stroke: #888; stroke-width: 1; opacity: 1;\"></line><line transform=\"translate(340,0)\" x2=\"0\" y2=\"5\" style=\"fill: none; stroke: #888; stroke-width: 1; opacity: 1;\"></line><line transform=\"translate(346,0)\" x2=\"0\" y2=\"5\" style=\"fill: none; stroke: #888; stroke-width: 1; opacity: 1;\"></line><line transform=\"translate(352,0)\" x2=\"0\" y2=\"5\" style=\"fill: none; stroke: #888; stroke-width: 1; opacity: 1;\"></line><line transform=\"translate(358,0)\" x2=\"0\" y2=\"5\" style=\"fill: none; stroke: #888; stroke-width: 1; opacity: 1;\"></line><line transform=\"translate(365,0)\" x2=\"0\" y2=\"5\" style=\"fill: none; stroke: #888; stroke-width: 1; opacity: 1;\"></line><line transform=\"translate(371,0)\" x2=\"0\" y2=\"5\" style=\"fill: none; stroke: #888; stroke-width: 1; opacity: 1;\"></line><line transform=\"translate(377,0)\" x2=\"0\" y2=\"5\" style=\"fill: none; stroke: #888; stroke-width: 1; opacity: 1;\"></line><line transform=\"translate(383,0)\" x2=\"0\" y2=\"5\" style=\"fill: none; stroke: #888; stroke-width: 1; opacity: 1;\"></line><line transform=\"translate(390,0)\" x2=\"0\" y2=\"5\" style=\"fill: none; stroke: #888; stroke-width: 1; opacity: 1;\"></line><line transform=\"translate(396,0)\" x2=\"0\" y2=\"5\" style=\"fill: none; stroke: #888; stroke-width: 1; opacity: 1;\"></line><line transform=\"translate(402,0)\" x2=\"0\" y2=\"5\" style=\"fill: none; stroke: #888; stroke-width: 1; opacity: 1;\"></line><line transform=\"translate(408,0)\" x2=\"0\" y2=\"5\" style=\"fill: none; stroke: #888; stroke-width: 1; opacity: 1;\"></line><line transform=\"translate(415,0)\" x2=\"0\" y2=\"5\" style=\"fill: none; stroke: #888; stroke-width: 1; opacity: 1;\"></line><line transform=\"translate(421,0)\" x2=\"0\" y2=\"5\" style=\"fill: none; stroke: #888; stroke-width: 1; opacity: 1;\"></line><line transform=\"translate(427,0)\" x2=\"0\" y2=\"5\" style=\"fill: none; stroke: #888; stroke-width: 1; opacity: 1;\"></line><line transform=\"translate(433,0)\" x2=\"0\" y2=\"5\" style=\"fill: none; stroke: #888; stroke-width: 1; opacity: 1;\"></line><line transform=\"translate(440,0)\" x2=\"0\" y2=\"5\" style=\"fill: none; stroke: #888; stroke-width: 1; opacity: 1;\"></line><line transform=\"translate(446,0)\" x2=\"0\" y2=\"5\" style=\"fill: none; stroke: #888; stroke-width: 1; opacity: 1;\"></line><line transform=\"translate(452,0)\" x2=\"0\" y2=\"5\" style=\"fill: none; stroke: #888; stroke-width: 1; opacity: 1;\"></line><line transform=\"translate(458,0)\" x2=\"0\" y2=\"5\" style=\"fill: none; stroke: #888; stroke-width: 1; opacity: 1;\"></line><line transform=\"translate(465,0)\" x2=\"0\" y2=\"5\" style=\"fill: none; stroke: #888; stroke-width: 1; opacity: 1;\"></line><line transform=\"translate(471,0)\" x2=\"0\" y2=\"5\" style=\"fill: none; stroke: #888; stroke-width: 1; opacity: 1;\"></line><line transform=\"translate(477,0)\" x2=\"0\" y2=\"5\" style=\"fill: none; stroke: #888; stroke-width: 1; opacity: 1;\"></line><line transform=\"translate(483,0)\" x2=\"0\" y2=\"5\" style=\"fill: none; stroke: #888; stroke-width: 1; opacity: 1;\"></line><line transform=\"translate(490,0)\" x2=\"0\" y2=\"5\" style=\"fill: none; stroke: #888; stroke-width: 1; opacity: 1;\"></line><line transform=\"translate(496,0)\" x2=\"0\" y2=\"5\" style=\"fill: none; stroke: #888; stroke-width: 1; opacity: 1;\"></line></g><g class=\"mark-text role-axis-label\" style=\"pointer-events: none;\"><text text-anchor=\"end\" transform=\"translate(2.1249999999999716,7) rotate(270) translate(0,3)\" style=\"font-family: sans-serif; font-size: 10px; fill: #000; opacity: 1;\">1</text><text text-anchor=\"end\" transform=\"translate(8.374999999999972,7) rotate(270) translate(0,3)\" style=\"font-family: sans-serif; font-size: 10px; fill: #000; opacity: 0;\">2</text><text text-anchor=\"end\" transform=\"translate(14.624999999999972,7) rotate(270) translate(0,3)\" style=\"font-family: sans-serif; font-size: 10px; fill: #000; opacity: 1;\">3</text><text text-anchor=\"end\" transform=\"translate(20.87499999999997,7) rotate(270) translate(0,3)\" style=\"font-family: sans-serif; font-size: 10px; fill: #000; opacity: 0;\">4</text><text text-anchor=\"end\" transform=\"translate(27.12499999999997,7) rotate(270) translate(0,3)\" style=\"font-family: sans-serif; font-size: 10px; fill: #000; opacity: 1;\">5</text><text text-anchor=\"end\" transform=\"translate(33.37499999999997,7) rotate(270) translate(0,3)\" style=\"font-family: sans-serif; font-size: 10px; fill: #000; opacity: 0;\">6</text><text text-anchor=\"end\" transform=\"translate(39.62499999999997,7) rotate(270) translate(0,3)\" style=\"font-family: sans-serif; font-size: 10px; fill: #000; opacity: 1;\">7</text><text text-anchor=\"end\" transform=\"translate(45.87499999999997,7) rotate(270) translate(0,3)\" style=\"font-family: sans-serif; font-size: 10px; fill: #000; opacity: 0;\">8</text><text text-anchor=\"end\" transform=\"translate(52.12499999999997,7) rotate(270) translate(0,3)\" style=\"font-family: sans-serif; font-size: 10px; fill: #000; opacity: 1;\">9</text><text text-anchor=\"end\" transform=\"translate(58.37499999999997,7) rotate(270) translate(0,3)\" style=\"font-family: sans-serif; font-size: 10px; fill: #000; opacity: 0;\">10</text><text text-anchor=\"end\" transform=\"translate(64.62499999999997,7) rotate(270) translate(0,3)\" style=\"font-family: sans-serif; font-size: 10px; fill: #000; opacity: 1;\">11</text><text text-anchor=\"end\" transform=\"translate(70.87499999999997,7) rotate(270) translate(0,3)\" style=\"font-family: sans-serif; font-size: 10px; fill: #000; opacity: 0;\">12</text><text text-anchor=\"end\" transform=\"translate(77.12499999999997,7) rotate(270) translate(0,3)\" style=\"font-family: sans-serif; font-size: 10px; fill: #000; opacity: 1;\">13</text><text text-anchor=\"end\" transform=\"translate(83.37499999999997,7) rotate(270) translate(0,3)\" style=\"font-family: sans-serif; font-size: 10px; fill: #000; opacity: 0;\">14</text><text text-anchor=\"end\" transform=\"translate(89.62499999999997,7) rotate(270) translate(0,3)\" style=\"font-family: sans-serif; font-size: 10px; fill: #000; opacity: 1;\">15</text><text text-anchor=\"end\" transform=\"translate(95.87499999999997,7) rotate(270) translate(0,3)\" style=\"font-family: sans-serif; font-size: 10px; fill: #000; opacity: 0;\">16</text><text text-anchor=\"end\" transform=\"translate(102.12499999999997,7) rotate(270) translate(0,3)\" style=\"font-family: sans-serif; font-size: 10px; fill: #000; opacity: 1;\">17</text><text text-anchor=\"end\" transform=\"translate(108.37499999999997,7) rotate(270) translate(0,3)\" style=\"font-family: sans-serif; font-size: 10px; fill: #000; opacity: 0;\">18</text><text text-anchor=\"end\" transform=\"translate(114.62499999999997,7) rotate(270) translate(0,3)\" style=\"font-family: sans-serif; font-size: 10px; fill: #000; opacity: 1;\">19</text><text text-anchor=\"end\" transform=\"translate(120.87499999999997,7) rotate(270) translate(0,3)\" style=\"font-family: sans-serif; font-size: 10px; fill: #000; opacity: 0;\">20</text><text text-anchor=\"end\" transform=\"translate(127.12499999999997,7) rotate(270) translate(0,3)\" style=\"font-family: sans-serif; font-size: 10px; fill: #000; opacity: 1;\">21</text><text text-anchor=\"end\" transform=\"translate(133.37499999999997,7) rotate(270) translate(0,3)\" style=\"font-family: sans-serif; font-size: 10px; fill: #000; opacity: 0;\">22</text><text text-anchor=\"end\" transform=\"translate(139.62499999999997,7) rotate(270) translate(0,3)\" style=\"font-family: sans-serif; font-size: 10px; fill: #000; opacity: 1;\">23</text><text text-anchor=\"end\" transform=\"translate(145.87499999999997,7) rotate(270) translate(0,3)\" style=\"font-family: sans-serif; font-size: 10px; fill: #000; opacity: 0;\">24</text><text text-anchor=\"end\" transform=\"translate(152.12499999999997,7) rotate(270) translate(0,3)\" style=\"font-family: sans-serif; font-size: 10px; fill: #000; opacity: 1;\">25</text><text text-anchor=\"end\" transform=\"translate(158.37499999999997,7) rotate(270) translate(0,3)\" style=\"font-family: sans-serif; font-size: 10px; fill: #000; opacity: 0;\">26</text><text text-anchor=\"end\" transform=\"translate(164.62499999999997,7) rotate(270) translate(0,3)\" style=\"font-family: sans-serif; font-size: 10px; fill: #000; opacity: 1;\">27</text><text text-anchor=\"end\" transform=\"translate(170.87499999999997,7) rotate(270) translate(0,3)\" style=\"font-family: sans-serif; font-size: 10px; fill: #000; opacity: 0;\">28</text><text text-anchor=\"end\" transform=\"translate(177.12499999999997,7) rotate(270) translate(0,3)\" style=\"font-family: sans-serif; font-size: 10px; fill: #000; opacity: 1;\">29</text><text text-anchor=\"end\" transform=\"translate(183.37499999999997,7) rotate(270) translate(0,3)\" style=\"font-family: sans-serif; font-size: 10px; fill: #000; opacity: 0;\">30</text><text text-anchor=\"end\" transform=\"translate(189.62499999999997,7) rotate(270) translate(0,3)\" style=\"font-family: sans-serif; font-size: 10px; fill: #000; opacity: 1;\">31</text><text text-anchor=\"end\" transform=\"translate(195.87499999999997,7) rotate(270) translate(0,3)\" style=\"font-family: sans-serif; font-size: 10px; fill: #000; opacity: 0;\">32</text><text text-anchor=\"end\" transform=\"translate(202.12499999999997,7) rotate(270) translate(0,3)\" style=\"font-family: sans-serif; font-size: 10px; fill: #000; opacity: 1;\">33</text><text text-anchor=\"end\" transform=\"translate(208.37499999999997,7) rotate(270) translate(0,3)\" style=\"font-family: sans-serif; font-size: 10px; fill: #000; opacity: 0;\">34</text><text text-anchor=\"end\" transform=\"translate(214.62499999999997,7) rotate(270) translate(0,3)\" style=\"font-family: sans-serif; font-size: 10px; fill: #000; opacity: 1;\">35</text><text text-anchor=\"end\" transform=\"translate(220.87499999999997,7) rotate(270) translate(0,3)\" style=\"font-family: sans-serif; font-size: 10px; fill: #000; opacity: 0;\">36</text><text text-anchor=\"end\" transform=\"translate(227.12499999999997,7) rotate(270) translate(0,3)\" style=\"font-family: sans-serif; font-size: 10px; fill: #000; opacity: 1;\">37</text><text text-anchor=\"end\" transform=\"translate(233.37499999999997,7) rotate(270) translate(0,3)\" style=\"font-family: sans-serif; font-size: 10px; fill: #000; opacity: 0;\">38</text><text text-anchor=\"end\" transform=\"translate(239.62499999999997,7) rotate(270) translate(0,3)\" style=\"font-family: sans-serif; font-size: 10px; fill: #000; opacity: 1;\">39</text><text text-anchor=\"end\" transform=\"translate(245.87499999999997,7) rotate(270) translate(0,3)\" style=\"font-family: sans-serif; font-size: 10px; fill: #000; opacity: 0;\">40</text><text text-anchor=\"end\" transform=\"translate(252.12499999999997,7) rotate(270) translate(0,3)\" style=\"font-family: sans-serif; font-size: 10px; fill: #000; opacity: 1;\">41</text><text text-anchor=\"end\" transform=\"translate(258.375,7) rotate(270) translate(0,3)\" style=\"font-family: sans-serif; font-size: 10px; fill: #000; opacity: 0;\">42</text><text text-anchor=\"end\" transform=\"translate(264.625,7) rotate(270) translate(0,3)\" style=\"font-family: sans-serif; font-size: 10px; fill: #000; opacity: 1;\">43</text><text text-anchor=\"end\" transform=\"translate(270.875,7) rotate(270) translate(0,3)\" style=\"font-family: sans-serif; font-size: 10px; fill: #000; opacity: 0;\">44</text><text text-anchor=\"end\" transform=\"translate(277.125,7) rotate(270) translate(0,3)\" style=\"font-family: sans-serif; font-size: 10px; fill: #000; opacity: 1;\">45</text><text text-anchor=\"end\" transform=\"translate(283.375,7) rotate(270) translate(0,3)\" style=\"font-family: sans-serif; font-size: 10px; fill: #000; opacity: 0;\">46</text><text text-anchor=\"end\" transform=\"translate(289.625,7) rotate(270) translate(0,3)\" style=\"font-family: sans-serif; font-size: 10px; fill: #000; opacity: 1;\">47</text><text text-anchor=\"end\" transform=\"translate(295.875,7) rotate(270) translate(0,3)\" style=\"font-family: sans-serif; font-size: 10px; fill: #000; opacity: 0;\">48</text><text text-anchor=\"end\" transform=\"translate(302.125,7) rotate(270) translate(0,3)\" style=\"font-family: sans-serif; font-size: 10px; fill: #000; opacity: 1;\">49</text><text text-anchor=\"end\" transform=\"translate(308.375,7) rotate(270) translate(0,3)\" style=\"font-family: sans-serif; font-size: 10px; fill: #000; opacity: 0;\">50</text><text text-anchor=\"end\" transform=\"translate(314.625,7) rotate(270) translate(0,3)\" style=\"font-family: sans-serif; font-size: 10px; fill: #000; opacity: 1;\">51</text><text text-anchor=\"end\" transform=\"translate(320.875,7) rotate(270) translate(0,3)\" style=\"font-family: sans-serif; font-size: 10px; fill: #000; opacity: 0;\">52</text><text text-anchor=\"end\" transform=\"translate(327.125,7) rotate(270) translate(0,3)\" style=\"font-family: sans-serif; font-size: 10px; fill: #000; opacity: 1;\">53</text><text text-anchor=\"end\" transform=\"translate(333.375,7) rotate(270) translate(0,3)\" style=\"font-family: sans-serif; font-size: 10px; fill: #000; opacity: 0;\">54</text><text text-anchor=\"end\" transform=\"translate(339.625,7) rotate(270) translate(0,3)\" style=\"font-family: sans-serif; font-size: 10px; fill: #000; opacity: 1;\">55</text><text text-anchor=\"end\" transform=\"translate(345.875,7) rotate(270) translate(0,3)\" style=\"font-family: sans-serif; font-size: 10px; fill: #000; opacity: 0;\">56</text><text text-anchor=\"end\" transform=\"translate(352.125,7) rotate(270) translate(0,3)\" style=\"font-family: sans-serif; font-size: 10px; fill: #000; opacity: 1;\">57</text><text text-anchor=\"end\" transform=\"translate(358.375,7) rotate(270) translate(0,3)\" style=\"font-family: sans-serif; font-size: 10px; fill: #000; opacity: 0;\">58</text><text text-anchor=\"end\" transform=\"translate(364.625,7) rotate(270) translate(0,3)\" style=\"font-family: sans-serif; font-size: 10px; fill: #000; opacity: 1;\">59</text><text text-anchor=\"end\" transform=\"translate(370.875,7) rotate(270) translate(0,3)\" style=\"font-family: sans-serif; font-size: 10px; fill: #000; opacity: 0;\">60</text><text text-anchor=\"end\" transform=\"translate(377.125,7) rotate(270) translate(0,3)\" style=\"font-family: sans-serif; font-size: 10px; fill: #000; opacity: 1;\">61</text><text text-anchor=\"end\" transform=\"translate(383.375,7) rotate(270) translate(0,3)\" style=\"font-family: sans-serif; font-size: 10px; fill: #000; opacity: 0;\">62</text><text text-anchor=\"end\" transform=\"translate(389.625,7) rotate(270) translate(0,3)\" style=\"font-family: sans-serif; font-size: 10px; fill: #000; opacity: 1;\">63</text><text text-anchor=\"end\" transform=\"translate(395.875,7) rotate(270) translate(0,3)\" style=\"font-family: sans-serif; font-size: 10px; fill: #000; opacity: 0;\">64</text><text text-anchor=\"end\" transform=\"translate(402.125,7) rotate(270) translate(0,3)\" style=\"font-family: sans-serif; font-size: 10px; fill: #000; opacity: 1;\">65</text><text text-anchor=\"end\" transform=\"translate(408.375,7) rotate(270) translate(0,3)\" style=\"font-family: sans-serif; font-size: 10px; fill: #000; opacity: 0;\">66</text><text text-anchor=\"end\" transform=\"translate(414.625,7) rotate(270) translate(0,3)\" style=\"font-family: sans-serif; font-size: 10px; fill: #000; opacity: 1;\">67</text><text text-anchor=\"end\" transform=\"translate(420.875,7) rotate(270) translate(0,3)\" style=\"font-family: sans-serif; font-size: 10px; fill: #000; opacity: 0;\">68</text><text text-anchor=\"end\" transform=\"translate(427.125,7) rotate(270) translate(0,3)\" style=\"font-family: sans-serif; font-size: 10px; fill: #000; opacity: 1;\">69</text><text text-anchor=\"end\" transform=\"translate(433.375,7) rotate(270) translate(0,3)\" style=\"font-family: sans-serif; font-size: 10px; fill: #000; opacity: 0;\">70</text><text text-anchor=\"end\" transform=\"translate(439.625,7) rotate(270) translate(0,3)\" style=\"font-family: sans-serif; font-size: 10px; fill: #000; opacity: 1;\">71</text><text text-anchor=\"end\" transform=\"translate(445.875,7) rotate(270) translate(0,3)\" style=\"font-family: sans-serif; font-size: 10px; fill: #000; opacity: 0;\">72</text><text text-anchor=\"end\" transform=\"translate(452.125,7) rotate(270) translate(0,3)\" style=\"font-family: sans-serif; font-size: 10px; fill: #000; opacity: 1;\">73</text><text text-anchor=\"end\" transform=\"translate(458.375,7) rotate(270) translate(0,3)\" style=\"font-family: sans-serif; font-size: 10px; fill: #000; opacity: 0;\">74</text><text text-anchor=\"end\" transform=\"translate(464.625,7) rotate(270) translate(0,3)\" style=\"font-family: sans-serif; font-size: 10px; fill: #000; opacity: 1;\">75</text><text text-anchor=\"end\" transform=\"translate(470.875,7) rotate(270) translate(0,3)\" style=\"font-family: sans-serif; font-size: 10px; fill: #000; opacity: 0;\">76</text><text text-anchor=\"end\" transform=\"translate(477.125,7) rotate(270) translate(0,3)\" style=\"font-family: sans-serif; font-size: 10px; fill: #000; opacity: 1;\">77</text><text text-anchor=\"end\" transform=\"translate(483.375,7) rotate(270) translate(0,3)\" style=\"font-family: sans-serif; font-size: 10px; fill: #000; opacity: 0;\">78</text><text text-anchor=\"end\" transform=\"translate(489.625,7) rotate(270) translate(0,3)\" style=\"font-family: sans-serif; font-size: 10px; fill: #000; opacity: 1;\">79</text><text text-anchor=\"end\" transform=\"translate(495.875,7) rotate(270) translate(0,3)\" style=\"font-family: sans-serif; font-size: 10px; fill: #000; opacity: 0;\">80</text></g><g class=\"mark-rule role-axis-domain\" style=\"pointer-events: none;\"><line transform=\"translate(0,0)\" x2=\"500\" y2=\"0\" style=\"fill: none; stroke: #888; stroke-width: 1; opacity: 1;\"></line></g><g class=\"mark-text role-axis-title\" style=\"pointer-events: none;\"><text text-anchor=\"middle\" transform=\"translate(250,32.00000000000003)\" style=\"font-family: sans-serif; font-size: 11px; font-weight: bold; fill: #000; opacity: 1;\">day</text></g></g></g></g></g></g></g><g class=\"mark-group role-scope cell\"><g transform=\"translate(0,0)\"><path class=\"background\" d=\"M0.5,0.5h500v80h-500Z\" style=\"fill: none; stroke: #ddd;\"></path><g><g class=\"mark-group role-axis\"><g transform=\"translate(0.5,0.5)\"><path class=\"background\" d=\"M0,0h0v0h0Z\" style=\"pointer-events: none; fill: none;\"></path><g><g class=\"mark-rule role-axis-grid\" style=\"pointer-events: none;\"><line transform=\"translate(0,80)\" x2=\"500\" y2=\"0\" style=\"fill: none; stroke: #ddd; stroke-width: 1; opacity: 1;\"></line><line transform=\"translate(0,40)\" x2=\"500\" y2=\"0\" style=\"fill: none; stroke: #ddd; stroke-width: 1; opacity: 1;\"></line><line transform=\"translate(0,0)\" x2=\"500\" y2=\"0\" style=\"fill: none; stroke: #ddd; stroke-width: 1; opacity: 1;\"></line></g></g></g></g><g class=\"mark-rect role-mark child_marks\"><path d=\"M0.3124999999999716,0.123306650674877h5.625v79.87669334932512h-5.625Z\" style=\"fill: #4c78a8; opacity: 0.7;\"></path><path d=\"M6.562499999999972,0.49246637619448563h5.625v79.50753362380551h-5.625Z\" style=\"fill: #4c78a8; opacity: 0.7;\"></path><path d=\"M12.812499999999972,1.105203184092943h5.625v78.89479681590706h-5.625Z\" style=\"fill: #4c78a8; opacity: 0.7;\"></path><path d=\"M19.06249999999997,1.9577393481938543h5.625v78.04226065180615h-5.625Z\" style=\"fill: #4c78a8; opacity: 0.7;\"></path><path d=\"M25.31249999999997,3.0448186995485287h5.625v76.95518130045147h-5.625Z\" style=\"fill: #4c78a8; opacity: 0.7;\"></path><path d=\"M31.56249999999997,4.359739032465285h5.625v75.64026096753472h-5.625Z\" style=\"fill: #4c78a8; opacity: 0.7;\"></path><path d=\"M37.81249999999997,5.894393425836313h5.625v74.10560657416369h-5.625Z\" style=\"fill: #4c78a8; opacity: 0.7;\"></path><path d=\"M44.06249999999997,7.639320225002109h5.625v72.36067977499789h-5.625Z\" style=\"fill: #4c78a8; opacity: 0.7;\"></path><path d=\"M50.31249999999997,9.583761375998762h5.625v70.41623862400124h-5.625Z\" style=\"fill: #4c78a8; opacity: 0.7;\"></path><path d=\"M56.56249999999997,11.715728752538098h5.625v68.2842712474619h-5.625Z\" style=\"fill: #4c78a8; opacity: 0.7;\"></path><path d=\"M62.81249999999997,14.022078066792659h5.625v65.97792193320734h-5.625Z\" style=\"fill: #4c78a8; opacity: 0.7;\"></path><path d=\"M69.06249999999997,16.488589908301073h5.625v63.51141009169893h-5.625Z\" style=\"fill: #4c78a8; opacity: 0.7;\"></path><path d=\"M75.31249999999997,19.100057411362044h5.625v60.899942588637956h-5.625Z\" style=\"fill: #4c78a8; opacity: 0.7;\"></path><path d=\"M81.56249999999997,21.84038001041813h5.625v58.15961998958187h-5.625Z\" style=\"fill: #4c78a8; opacity: 0.7;\"></path><path d=\"M87.81249999999997,24.69266270539641h5.625v55.30733729460359h-5.625Z\" style=\"fill: #4c78a8; opacity: 0.7;\"></path><path d=\"M94.06249999999997,27.639320225002102h5.625v52.3606797749979h-5.625Z\" style=\"fill: #4c78a8; opacity: 0.7;\"></path><path d=\"M100.31249999999997,30.662185445763782h5.625v49.33781455423622h-5.625Z\" style=\"fill: #4c78a8; opacity: 0.7;\"></path><path d=\"M106.56249999999997,33.74262139839076h5.625v46.25737860160924h-5.625Z\" style=\"fill: #4c78a8; opacity: 0.7;\"></path><path d=\"M112.81249999999997,36.8616361708862h5.625v43.1383638291138h-5.625Z\" style=\"fill: #4c78a8; opacity: 0.7;\"></path><path d=\"M119.06249999999997,40h5.625v40h-5.625Z\" style=\"fill: #4c78a8; opacity: 0.7;\"></path><path d=\"M125.31249999999997,43.13836382911379h5.625v36.86163617088621h-5.625Z\" style=\"fill: #4c78a8; opacity: 0.7;\"></path><path d=\"M131.56249999999997,46.25737860160923h5.625v33.74262139839077h-5.625Z\" style=\"fill: #4c78a8; opacity: 0.7;\"></path><path d=\"M137.81249999999997,49.33781455423621h5.625v30.66218544576379h-5.625Z\" style=\"fill: #4c78a8; opacity: 0.7;\"></path><path d=\"M144.06249999999997,52.36067977499789h5.625v27.63932022500211h-5.625Z\" style=\"fill: #4c78a8; opacity: 0.7;\"></path><path d=\"M150.31249999999997,55.307337294603585h5.625v24.692662705396415h-5.625Z\" style=\"fill: #4c78a8; opacity: 0.7;\"></path><path d=\"M156.56249999999997,58.15961998958187h5.625v21.84038001041813h-5.625Z\" style=\"fill: #4c78a8; opacity: 0.7;\"></path><path d=\"M162.81249999999997,60.899942588637956h5.625v19.100057411362044h-5.625Z\" style=\"fill: #4c78a8; opacity: 0.7;\"></path><path d=\"M169.06249999999997,63.51141009169892h5.625v16.48858990830108h-5.625Z\" style=\"fill: #4c78a8; opacity: 0.7;\"></path><path d=\"M175.31249999999997,65.97792193320734h5.625v14.022078066792659h-5.625Z\" style=\"fill: #4c78a8; opacity: 0.7;\"></path><path d=\"M181.56249999999997,68.2842712474619h5.625v11.715728752538098h-5.625Z\" style=\"fill: #4c78a8; opacity: 0.7;\"></path><path d=\"M187.81249999999997,70.41623862400124h5.625v9.583761375998762h-5.625Z\" style=\"fill: #4c78a8; opacity: 0.7;\"></path><path d=\"M194.06249999999997,72.36067977499789h5.625v7.639320225002109h-5.625Z\" style=\"fill: #4c78a8; opacity: 0.7;\"></path><path d=\"M200.31249999999997,74.10560657416369h5.625v5.894393425836313h-5.625Z\" style=\"fill: #4c78a8; opacity: 0.7;\"></path><path d=\"M206.56249999999997,75.64026096753472h5.625v4.359739032465285h-5.625Z\" style=\"fill: #4c78a8; opacity: 0.7;\"></path><path d=\"M212.81249999999997,76.95518130045147h5.625v3.0448186995485287h-5.625Z\" style=\"fill: #4c78a8; opacity: 0.7;\"></path><path d=\"M219.06249999999997,78.04226065180615h5.625v1.9577393481938543h-5.625Z\" style=\"fill: #4c78a8; opacity: 0.7;\"></path><path d=\"M225.31249999999997,78.89479681590706h5.625v1.105203184092943h-5.625Z\" style=\"fill: #4c78a8; opacity: 0.7;\"></path><path d=\"M231.56249999999997,79.5075336238055h5.625v0.49246637619449984h-5.625Z\" style=\"fill: #4c78a8; opacity: 0.7;\"></path><path d=\"M237.81249999999997,79.87669334932512h5.625v0.123306650674877h-5.625Z\" style=\"fill: #4c78a8; opacity: 0.7;\"></path><path d=\"M244.06249999999997,80h5.625v0h-5.625Z\" style=\"fill: #4c78a8; opacity: 0.7;\"></path><path d=\"M250.31249999999997,79.87669334932512h5.625v0.123306650674877h-5.625Z\" style=\"fill: #4c78a8; opacity: 0.7;\"></path><path d=\"M256.5625,79.50753362380551h5.625v0.49246637619448563h-5.625Z\" style=\"fill: #4c78a8; opacity: 0.7;\"></path><path d=\"M262.8125,78.89479681590707h5.625v1.1052031840929288h-5.625Z\" style=\"fill: #4c78a8; opacity: 0.7;\"></path><path d=\"M269.0625,78.04226065180615h5.625v1.9577393481938543h-5.625Z\" style=\"fill: #4c78a8; opacity: 0.7;\"></path><path d=\"M275.3125,76.95518130045147h5.625v3.0448186995485287h-5.625Z\" style=\"fill: #4c78a8; opacity: 0.7;\"></path><path d=\"M281.5625,75.64026096753472h5.625v4.359739032465285h-5.625Z\" style=\"fill: #4c78a8; opacity: 0.7;\"></path><path d=\"M287.8125,74.10560657416369h5.625v5.894393425836313h-5.625Z\" style=\"fill: #4c78a8; opacity: 0.7;\"></path><path d=\"M294.0625,72.36067977499789h5.625v7.639320225002109h-5.625Z\" style=\"fill: #4c78a8; opacity: 0.7;\"></path><path d=\"M300.3125,70.41623862400124h5.625v9.583761375998762h-5.625Z\" style=\"fill: #4c78a8; opacity: 0.7;\"></path><path d=\"M306.5625,68.2842712474619h5.625v11.715728752538098h-5.625Z\" style=\"fill: #4c78a8; opacity: 0.7;\"></path><path d=\"M312.8125,65.97792193320737h5.625v14.02207806679263h-5.625Z\" style=\"fill: #4c78a8; opacity: 0.7;\"></path><path d=\"M319.0625,63.511410091698934h5.625v16.488589908301066h-5.625Z\" style=\"fill: #4c78a8; opacity: 0.7;\"></path><path d=\"M325.3125,60.89994258863794h5.625v19.10005741136206h-5.625Z\" style=\"fill: #4c78a8; opacity: 0.7;\"></path><path d=\"M331.5625,58.15961998958184h5.625v21.84038001041816h-5.625Z\" style=\"fill: #4c78a8; opacity: 0.7;\"></path><path d=\"M337.8125,55.30733729460361h5.625v24.692662705396387h-5.625Z\" style=\"fill: #4c78a8; opacity: 0.7;\"></path><path d=\"M344.0625,52.360679774997905h5.625v27.639320225002095h-5.625Z\" style=\"fill: #4c78a8; opacity: 0.7;\"></path><path d=\"M350.3125,49.3378145542362h5.625v30.662185445763797h-5.625Z\" style=\"fill: #4c78a8; opacity: 0.7;\"></path><path d=\"M356.5625,46.257378601609204h5.625v33.742621398390796h-5.625Z\" style=\"fill: #4c78a8; opacity: 0.7;\"></path><path d=\"M362.8125,43.13836382911382h5.625v36.86163617088618h-5.625Z\" style=\"fill: #4c78a8; opacity: 0.7;\"></path><path d=\"M369.0625,40.00000000000001h5.625v39.99999999999999h-5.625Z\" style=\"fill: #4c78a8; opacity: 0.7;\"></path><path d=\"M375.3125,36.861636170886186h5.625v43.138363829113814h-5.625Z\" style=\"fill: #4c78a8; opacity: 0.7;\"></path><path d=\"M381.5625,33.74262139839074h5.625v46.25737860160926h-5.625Z\" style=\"fill: #4c78a8; opacity: 0.7;\"></path><path d=\"M387.8125,30.662185445763804h5.625v49.337814554236196h-5.625Z\" style=\"fill: #4c78a8; opacity: 0.7;\"></path><path d=\"M394.0625,27.63932022500211h5.625v52.36067977499789h-5.625Z\" style=\"fill: #4c78a8; opacity: 0.7;\"></path><path d=\"M400.3125,24.6926627053964h5.625v55.3073372946036h-5.625Z\" style=\"fill: #4c78a8; opacity: 0.7;\"></path><path d=\"M406.5625,21.8403800104181h5.625v58.1596199895819h-5.625Z\" style=\"fill: #4c78a8; opacity: 0.7;\"></path><path d=\"M412.8125,19.100057411362066h5.625v60.899942588637934h-5.625Z\" style=\"fill: #4c78a8; opacity: 0.7;\"></path><path d=\"M419.0625,16.48858990830108h5.625v63.51141009169892h-5.625Z\" style=\"fill: #4c78a8; opacity: 0.7;\"></path><path d=\"M425.3125,14.022078066792645h5.625v65.97792193320736h-5.625Z\" style=\"fill: #4c78a8; opacity: 0.7;\"></path><path d=\"M431.5625,11.715728752538084h5.625v68.28427124746192h-5.625Z\" style=\"fill: #4c78a8; opacity: 0.7;\"></path><path d=\"M437.8125,9.583761375998776h5.625v70.41623862400122h-5.625Z\" style=\"fill: #4c78a8; opacity: 0.7;\"></path><path d=\"M444.0625,7.639320225002109h5.625v72.36067977499789h-5.625Z\" style=\"fill: #4c78a8; opacity: 0.7;\"></path><path d=\"M450.3125,5.894393425836313h5.625v74.10560657416369h-5.625Z\" style=\"fill: #4c78a8; opacity: 0.7;\"></path><path d=\"M456.5625,4.359739032465271h5.625v75.64026096753473h-5.625Z\" style=\"fill: #4c78a8; opacity: 0.7;\"></path><path d=\"M462.8125,3.044818699548543h5.625v76.95518130045146h-5.625Z\" style=\"fill: #4c78a8; opacity: 0.7;\"></path><path d=\"M469.0625,1.9577393481938543h5.625v78.04226065180615h-5.625Z\" style=\"fill: #4c78a8; opacity: 0.7;\"></path><path d=\"M475.3125,1.1052031840929288h5.625v78.89479681590707h-5.625Z\" style=\"fill: #4c78a8; opacity: 0.7;\"></path><path d=\"M481.5625,0.49246637619448563h5.625v79.50753362380551h-5.625Z\" style=\"fill: #4c78a8; opacity: 0.7;\"></path><path d=\"M487.8125,0.123306650674877h5.625v79.87669334932512h-5.625Z\" style=\"fill: #4c78a8; opacity: 0.7;\"></path><path d=\"M494.0625,0h5.625v80h-5.625Z\" style=\"fill: #4c78a8; opacity: 0.7;\"></path></g></g></g><g transform=\"translate(0,102)\"><path class=\"background\" d=\"M0.5,0.5h500v80h-500Z\" style=\"fill: none; stroke: #ddd;\"></path><g><g class=\"mark-group role-axis\"><g transform=\"translate(0.5,0.5)\"><path class=\"background\" d=\"M0,0h0v0h0Z\" style=\"pointer-events: none; fill: none;\"></path><g><g class=\"mark-rule role-axis-grid\" style=\"pointer-events: none;\"><line transform=\"translate(0,80)\" x2=\"500\" y2=\"0\" style=\"fill: none; stroke: #ddd; stroke-width: 1; opacity: 1;\"></line><line transform=\"translate(0,40)\" x2=\"500\" y2=\"0\" style=\"fill: none; stroke: #ddd; stroke-width: 1; opacity: 1;\"></line><line transform=\"translate(0,0)\" x2=\"500\" y2=\"0\" style=\"fill: none; stroke: #ddd; stroke-width: 1; opacity: 1;\"></line></g></g></g></g><g class=\"mark-rect role-mark child_marks\"><path d=\"M0.3124999999999716,0h5.625v80h-5.625Z\" style=\"fill: #4c78a8; opacity: 0.7;\"></path><path d=\"M6.562499999999972,0h5.625v80h-5.625Z\" style=\"fill: #4c78a8; opacity: 0.7;\"></path><path d=\"M12.812499999999972,0h5.625v80h-5.625Z\" style=\"fill: #4c78a8; opacity: 0.7;\"></path><path d=\"M19.06249999999997,0h5.625v80h-5.625Z\" style=\"fill: #4c78a8; opacity: 0.7;\"></path><path d=\"M25.31249999999997,0h5.625v80h-5.625Z\" style=\"fill: #4c78a8; opacity: 0.7;\"></path><path d=\"M31.56249999999997,0h5.625v80h-5.625Z\" style=\"fill: #4c78a8; opacity: 0.7;\"></path><path d=\"M37.81249999999997,0h5.625v80h-5.625Z\" style=\"fill: #4c78a8; opacity: 0.7;\"></path><path d=\"M44.06249999999997,0h5.625v80h-5.625Z\" style=\"fill: #4c78a8; opacity: 0.7;\"></path><path d=\"M50.31249999999997,0h5.625v80h-5.625Z\" style=\"fill: #4c78a8; opacity: 0.7;\"></path><path d=\"M56.56249999999997,80h5.625v0h-5.625Z\" style=\"fill: #4c78a8; opacity: 0.7;\"></path><path d=\"M62.81249999999997,0h5.625v80h-5.625Z\" style=\"fill: #4c78a8; opacity: 0.7;\"></path><path d=\"M69.06249999999997,0h5.625v80h-5.625Z\" style=\"fill: #4c78a8; opacity: 0.7;\"></path><path d=\"M75.31249999999997,0h5.625v80h-5.625Z\" style=\"fill: #4c78a8; opacity: 0.7;\"></path><path d=\"M81.56249999999997,0h5.625v80h-5.625Z\" style=\"fill: #4c78a8; opacity: 0.7;\"></path><path d=\"M87.81249999999997,80h5.625v0h-5.625Z\" style=\"fill: #4c78a8; opacity: 0.7;\"></path><path d=\"M94.06249999999997,0h5.625v80h-5.625Z\" style=\"fill: #4c78a8; opacity: 0.7;\"></path><path d=\"M100.31249999999997,80h5.625v0h-5.625Z\" style=\"fill: #4c78a8; opacity: 0.7;\"></path><path d=\"M106.56249999999997,0h5.625v80h-5.625Z\" style=\"fill: #4c78a8; opacity: 0.7;\"></path><path d=\"M112.81249999999997,0h5.625v80h-5.625Z\" style=\"fill: #4c78a8; opacity: 0.7;\"></path><path d=\"M119.06249999999997,80h5.625v0h-5.625Z\" style=\"fill: #4c78a8; opacity: 0.7;\"></path><path d=\"M125.31249999999997,0h5.625v80h-5.625Z\" style=\"fill: #4c78a8; opacity: 0.7;\"></path><path d=\"M131.56249999999997,80h5.625v0h-5.625Z\" style=\"fill: #4c78a8; opacity: 0.7;\"></path><path d=\"M137.81249999999997,80h5.625v0h-5.625Z\" style=\"fill: #4c78a8; opacity: 0.7;\"></path><path d=\"M144.06249999999997,0h5.625v80h-5.625Z\" style=\"fill: #4c78a8; opacity: 0.7;\"></path><path d=\"M150.31249999999997,80h5.625v0h-5.625Z\" style=\"fill: #4c78a8; opacity: 0.7;\"></path><path d=\"M156.56249999999997,80h5.625v0h-5.625Z\" style=\"fill: #4c78a8; opacity: 0.7;\"></path><path d=\"M162.81249999999997,0h5.625v80h-5.625Z\" style=\"fill: #4c78a8; opacity: 0.7;\"></path><path d=\"M169.06249999999997,80h5.625v0h-5.625Z\" style=\"fill: #4c78a8; opacity: 0.7;\"></path><path d=\"M175.31249999999997,80h5.625v0h-5.625Z\" style=\"fill: #4c78a8; opacity: 0.7;\"></path><path d=\"M181.56249999999997,80h5.625v0h-5.625Z\" style=\"fill: #4c78a8; opacity: 0.7;\"></path><path d=\"M187.81249999999997,80h5.625v0h-5.625Z\" style=\"fill: #4c78a8; opacity: 0.7;\"></path><path d=\"M194.06249999999997,80h5.625v0h-5.625Z\" style=\"fill: #4c78a8; opacity: 0.7;\"></path><path d=\"M200.31249999999997,80h5.625v0h-5.625Z\" style=\"fill: #4c78a8; opacity: 0.7;\"></path><path d=\"M206.56249999999997,80h5.625v0h-5.625Z\" style=\"fill: #4c78a8; opacity: 0.7;\"></path><path d=\"M212.81249999999997,80h5.625v0h-5.625Z\" style=\"fill: #4c78a8; opacity: 0.7;\"></path><path d=\"M219.06249999999997,80h5.625v0h-5.625Z\" style=\"fill: #4c78a8; opacity: 0.7;\"></path><path d=\"M225.31249999999997,80h5.625v0h-5.625Z\" style=\"fill: #4c78a8; opacity: 0.7;\"></path><path d=\"M231.56249999999997,80h5.625v0h-5.625Z\" style=\"fill: #4c78a8; opacity: 0.7;\"></path><path d=\"M237.81249999999997,0h5.625v80h-5.625Z\" style=\"fill: #4c78a8; opacity: 0.7;\"></path><path d=\"M244.06249999999997,80h5.625v0h-5.625Z\" style=\"fill: #4c78a8; opacity: 0.7;\"></path><path d=\"M250.31249999999997,80h5.625v0h-5.625Z\" style=\"fill: #4c78a8; opacity: 0.7;\"></path><path d=\"M256.5625,80h5.625v0h-5.625Z\" style=\"fill: #4c78a8; opacity: 0.7;\"></path><path d=\"M262.8125,80h5.625v0h-5.625Z\" style=\"fill: #4c78a8; opacity: 0.7;\"></path><path d=\"M269.0625,80h5.625v0h-5.625Z\" style=\"fill: #4c78a8; opacity: 0.7;\"></path><path d=\"M275.3125,80h5.625v0h-5.625Z\" style=\"fill: #4c78a8; opacity: 0.7;\"></path><path d=\"M281.5625,80h5.625v0h-5.625Z\" style=\"fill: #4c78a8; opacity: 0.7;\"></path><path d=\"M287.8125,80h5.625v0h-5.625Z\" style=\"fill: #4c78a8; opacity: 0.7;\"></path><path d=\"M294.0625,80h5.625v0h-5.625Z\" style=\"fill: #4c78a8; opacity: 0.7;\"></path><path d=\"M300.3125,80h5.625v0h-5.625Z\" style=\"fill: #4c78a8; opacity: 0.7;\"></path><path d=\"M306.5625,80h5.625v0h-5.625Z\" style=\"fill: #4c78a8; opacity: 0.7;\"></path><path d=\"M312.8125,80h5.625v0h-5.625Z\" style=\"fill: #4c78a8; opacity: 0.7;\"></path><path d=\"M319.0625,80h5.625v0h-5.625Z\" style=\"fill: #4c78a8; opacity: 0.7;\"></path><path d=\"M325.3125,0h5.625v80h-5.625Z\" style=\"fill: #4c78a8; opacity: 0.7;\"></path><path d=\"M331.5625,80h5.625v0h-5.625Z\" style=\"fill: #4c78a8; opacity: 0.7;\"></path><path d=\"M337.8125,80h5.625v0h-5.625Z\" style=\"fill: #4c78a8; opacity: 0.7;\"></path><path d=\"M344.0625,0h5.625v80h-5.625Z\" style=\"fill: #4c78a8; opacity: 0.7;\"></path><path d=\"M350.3125,80h5.625v0h-5.625Z\" style=\"fill: #4c78a8; opacity: 0.7;\"></path><path d=\"M356.5625,80h5.625v0h-5.625Z\" style=\"fill: #4c78a8; opacity: 0.7;\"></path><path d=\"M362.8125,0h5.625v80h-5.625Z\" style=\"fill: #4c78a8; opacity: 0.7;\"></path><path d=\"M369.0625,80h5.625v0h-5.625Z\" style=\"fill: #4c78a8; opacity: 0.7;\"></path><path d=\"M375.3125,0h5.625v80h-5.625Z\" style=\"fill: #4c78a8; opacity: 0.7;\"></path><path d=\"M381.5625,0h5.625v80h-5.625Z\" style=\"fill: #4c78a8; opacity: 0.7;\"></path><path d=\"M387.8125,80h5.625v0h-5.625Z\" style=\"fill: #4c78a8; opacity: 0.7;\"></path><path d=\"M394.0625,0h5.625v80h-5.625Z\" style=\"fill: #4c78a8; opacity: 0.7;\"></path><path d=\"M400.3125,80h5.625v0h-5.625Z\" style=\"fill: #4c78a8; opacity: 0.7;\"></path><path d=\"M406.5625,0h5.625v80h-5.625Z\" style=\"fill: #4c78a8; opacity: 0.7;\"></path><path d=\"M412.8125,0h5.625v80h-5.625Z\" style=\"fill: #4c78a8; opacity: 0.7;\"></path><path d=\"M419.0625,0h5.625v80h-5.625Z\" style=\"fill: #4c78a8; opacity: 0.7;\"></path><path d=\"M425.3125,0h5.625v80h-5.625Z\" style=\"fill: #4c78a8; opacity: 0.7;\"></path><path d=\"M431.5625,80h5.625v0h-5.625Z\" style=\"fill: #4c78a8; opacity: 0.7;\"></path><path d=\"M437.8125,0h5.625v80h-5.625Z\" style=\"fill: #4c78a8; opacity: 0.7;\"></path><path d=\"M444.0625,0h5.625v80h-5.625Z\" style=\"fill: #4c78a8; opacity: 0.7;\"></path><path d=\"M450.3125,0h5.625v80h-5.625Z\" style=\"fill: #4c78a8; opacity: 0.7;\"></path><path d=\"M456.5625,0h5.625v80h-5.625Z\" style=\"fill: #4c78a8; opacity: 0.7;\"></path><path d=\"M462.8125,0h5.625v80h-5.625Z\" style=\"fill: #4c78a8; opacity: 0.7;\"></path><path d=\"M469.0625,0h5.625v80h-5.625Z\" style=\"fill: #4c78a8; opacity: 0.7;\"></path><path d=\"M475.3125,0h5.625v80h-5.625Z\" style=\"fill: #4c78a8; opacity: 0.7;\"></path><path d=\"M481.5625,0h5.625v80h-5.625Z\" style=\"fill: #4c78a8; opacity: 0.7;\"></path><path d=\"M487.8125,0h5.625v80h-5.625Z\" style=\"fill: #4c78a8; opacity: 0.7;\"></path><path d=\"M494.0625,0h5.625v80h-5.625Z\" style=\"fill: #4c78a8; opacity: 0.7;\"></path></g></g></g></g></g></g></g></g></svg>"
      ],
      "text/plain": [
       "VegaLite.VLSpec{:plot}"
      ]
     },
     "execution_count": 4,
     "metadata": {},
     "output_type": "execute_result"
    }
   ],
   "source": [
    "days = 1:80\n",
    "wave = (cos.(2π/length(days) .* days) .+ 1) ./ 2\n",
    "rounded = sum_up_round(wave)\n",
    "\n",
    "data = vcat(DataFrame(day=days, dose=wave, mode=\"continuous\"),\n",
    "            DataFrame(day=days, dose=rounded, mode=\"discrete\"))\n",
    "@vlplot(\n",
    "    mark={:bar, opacity=0.7},\n",
    "    height=80, width=500, data=data,\n",
    "    x=\"day:o\", y={:dose, stack=nothing}, row=:mode\n",
    ")"
   ]
  },
  {
   "cell_type": "markdown",
   "metadata": {},
   "source": [
    "The result is not fully symmetric, but we can see a higher frequencies of 1s where the original control is relative large. Not also the value at day 39, where the original control is almost 0, but we have to correct for the rounded down values for the preceding 12 days!\n",
    "\n",
    "Let's now answer our actual question, about the Sum Up Rounding of a ramped down medicine intake:"
   ]
  },
  {
   "cell_type": "code",
   "execution_count": 5,
   "metadata": {},
   "outputs": [
    {
     "data": {
      "text/plain": [
       "ramp_down"
      ]
     },
     "execution_count": 5,
     "metadata": {},
     "output_type": "execute_result"
    }
   ],
   "source": [
    "\"Linear ramp down covering a given number of days.\"\n",
    "ramp_down(length) = range(1.0, 0.0, length=length)"
   ]
  },
  {
   "cell_type": "code",
   "execution_count": 6,
   "metadata": {},
   "outputs": [
    {
     "data": {
      "application/vnd.vegalite.v3+json": {
       "data": {
        "values": [
         {
          "day": 1,
          "dose": 1,
          "mode": "continuous"
         },
         {
          "day": 2,
          "dose": 0.9873417721518988,
          "mode": "continuous"
         },
         {
          "day": 3,
          "dose": 0.9746835443037974,
          "mode": "continuous"
         },
         {
          "day": 4,
          "dose": 0.9620253164556962,
          "mode": "continuous"
         },
         {
          "day": 5,
          "dose": 0.9493670886075949,
          "mode": "continuous"
         },
         {
          "day": 6,
          "dose": 0.9367088607594937,
          "mode": "continuous"
         },
         {
          "day": 7,
          "dose": 0.9240506329113924,
          "mode": "continuous"
         },
         {
          "day": 8,
          "dose": 0.9113924050632911,
          "mode": "continuous"
         },
         {
          "day": 9,
          "dose": 0.8987341772151899,
          "mode": "continuous"
         },
         {
          "day": 10,
          "dose": 0.8860759493670886,
          "mode": "continuous"
         },
         {
          "day": 11,
          "dose": 0.8734177215189873,
          "mode": "continuous"
         },
         {
          "day": 12,
          "dose": 0.8607594936708861,
          "mode": "continuous"
         },
         {
          "day": 13,
          "dose": 0.8481012658227848,
          "mode": "continuous"
         },
         {
          "day": 14,
          "dose": 0.8354430379746836,
          "mode": "continuous"
         },
         {
          "day": 15,
          "dose": 0.8227848101265823,
          "mode": "continuous"
         },
         {
          "day": 16,
          "dose": 0.810126582278481,
          "mode": "continuous"
         },
         {
          "day": 17,
          "dose": 0.7974683544303798,
          "mode": "continuous"
         },
         {
          "day": 18,
          "dose": 0.7848101265822784,
          "mode": "continuous"
         },
         {
          "day": 19,
          "dose": 0.7721518987341772,
          "mode": "continuous"
         },
         {
          "day": 20,
          "dose": 0.759493670886076,
          "mode": "continuous"
         },
         {
          "day": 21,
          "dose": 0.7468354430379747,
          "mode": "continuous"
         },
         {
          "day": 22,
          "dose": 0.7341772151898734,
          "mode": "continuous"
         },
         {
          "day": 23,
          "dose": 0.7215189873417721,
          "mode": "continuous"
         },
         {
          "day": 24,
          "dose": 0.7088607594936709,
          "mode": "continuous"
         },
         {
          "day": 25,
          "dose": 0.6962025316455697,
          "mode": "continuous"
         },
         {
          "day": 26,
          "dose": 0.6835443037974683,
          "mode": "continuous"
         },
         {
          "day": 27,
          "dose": 0.6708860759493671,
          "mode": "continuous"
         },
         {
          "day": 28,
          "dose": 0.6582278481012658,
          "mode": "continuous"
         },
         {
          "day": 29,
          "dose": 0.6455696202531646,
          "mode": "continuous"
         },
         {
          "day": 30,
          "dose": 0.6329113924050633,
          "mode": "continuous"
         },
         {
          "day": 31,
          "dose": 0.620253164556962,
          "mode": "continuous"
         },
         {
          "day": 32,
          "dose": 0.6075949367088608,
          "mode": "continuous"
         },
         {
          "day": 33,
          "dose": 0.5949367088607594,
          "mode": "continuous"
         },
         {
          "day": 34,
          "dose": 0.5822784810126582,
          "mode": "continuous"
         },
         {
          "day": 35,
          "dose": 0.569620253164557,
          "mode": "continuous"
         },
         {
          "day": 36,
          "dose": 0.5569620253164557,
          "mode": "continuous"
         },
         {
          "day": 37,
          "dose": 0.5443037974683544,
          "mode": "continuous"
         },
         {
          "day": 38,
          "dose": 0.5316455696202531,
          "mode": "continuous"
         },
         {
          "day": 39,
          "dose": 0.5189873417721519,
          "mode": "continuous"
         },
         {
          "day": 40,
          "dose": 0.5063291139240507,
          "mode": "continuous"
         },
         {
          "day": 41,
          "dose": 0.4936708860759494,
          "mode": "continuous"
         },
         {
          "day": 42,
          "dose": 0.4810126582278481,
          "mode": "continuous"
         },
         {
          "day": 43,
          "dose": 0.46835443037974683,
          "mode": "continuous"
         },
         {
          "day": 44,
          "dose": 0.45569620253164556,
          "mode": "continuous"
         },
         {
          "day": 45,
          "dose": 0.4430379746835443,
          "mode": "continuous"
         },
         {
          "day": 46,
          "dose": 0.43037974683544306,
          "mode": "continuous"
         },
         {
          "day": 47,
          "dose": 0.4177215189873418,
          "mode": "continuous"
         },
         {
          "day": 48,
          "dose": 0.4050632911392405,
          "mode": "continuous"
         },
         {
          "day": 49,
          "dose": 0.3924050632911392,
          "mode": "continuous"
         },
         {
          "day": 50,
          "dose": 0.379746835443038,
          "mode": "continuous"
         },
         {
          "day": 51,
          "dose": 0.3670886075949367,
          "mode": "continuous"
         },
         {
          "day": 52,
          "dose": 0.35443037974683544,
          "mode": "continuous"
         },
         {
          "day": 53,
          "dose": 0.34177215189873417,
          "mode": "continuous"
         },
         {
          "day": 54,
          "dose": 0.3291139240506329,
          "mode": "continuous"
         },
         {
          "day": 55,
          "dose": 0.31645569620253167,
          "mode": "continuous"
         },
         {
          "day": 56,
          "dose": 0.3037974683544304,
          "mode": "continuous"
         },
         {
          "day": 57,
          "dose": 0.2911392405063291,
          "mode": "continuous"
         },
         {
          "day": 58,
          "dose": 0.27848101265822783,
          "mode": "continuous"
         },
         {
          "day": 59,
          "dose": 0.26582278481012656,
          "mode": "continuous"
         },
         {
          "day": 60,
          "dose": 0.25316455696202533,
          "mode": "continuous"
         },
         {
          "day": 61,
          "dose": 0.24050632911392406,
          "mode": "continuous"
         },
         {
          "day": 62,
          "dose": 0.22784810126582278,
          "mode": "continuous"
         },
         {
          "day": 63,
          "dose": 0.21518987341772153,
          "mode": "continuous"
         },
         {
          "day": 64,
          "dose": 0.20253164556962025,
          "mode": "continuous"
         },
         {
          "day": 65,
          "dose": 0.189873417721519,
          "mode": "continuous"
         },
         {
          "day": 66,
          "dose": 0.17721518987341772,
          "mode": "continuous"
         },
         {
          "day": 67,
          "dose": 0.16455696202531644,
          "mode": "continuous"
         },
         {
          "day": 68,
          "dose": 0.1518987341772152,
          "mode": "continuous"
         },
         {
          "day": 69,
          "dose": 0.13924050632911392,
          "mode": "continuous"
         },
         {
          "day": 70,
          "dose": 0.12658227848101267,
          "mode": "continuous"
         },
         {
          "day": 71,
          "dose": 0.11392405063291139,
          "mode": "continuous"
         },
         {
          "day": 72,
          "dose": 0.10126582278481013,
          "mode": "continuous"
         },
         {
          "day": 73,
          "dose": 0.08860759493670886,
          "mode": "continuous"
         },
         {
          "day": 74,
          "dose": 0.0759493670886076,
          "mode": "continuous"
         },
         {
          "day": 75,
          "dose": 0.06329113924050633,
          "mode": "continuous"
         },
         {
          "day": 76,
          "dose": 0.05063291139240506,
          "mode": "continuous"
         },
         {
          "day": 77,
          "dose": 0.0379746835443038,
          "mode": "continuous"
         },
         {
          "day": 78,
          "dose": 0.02531645569620253,
          "mode": "continuous"
         },
         {
          "day": 79,
          "dose": 0.012658227848101266,
          "mode": "continuous"
         },
         {
          "day": 80,
          "dose": 0,
          "mode": "continuous"
         },
         {
          "day": 1,
          "dose": 1,
          "mode": "discrete"
         },
         {
          "day": 2,
          "dose": 1,
          "mode": "discrete"
         },
         {
          "day": 3,
          "dose": 1,
          "mode": "discrete"
         },
         {
          "day": 4,
          "dose": 1,
          "mode": "discrete"
         },
         {
          "day": 5,
          "dose": 1,
          "mode": "discrete"
         },
         {
          "day": 6,
          "dose": 1,
          "mode": "discrete"
         },
         {
          "day": 7,
          "dose": 1,
          "mode": "discrete"
         },
         {
          "day": 8,
          "dose": 1,
          "mode": "discrete"
         },
         {
          "day": 9,
          "dose": 1,
          "mode": "discrete"
         },
         {
          "day": 10,
          "dose": 0,
          "mode": "discrete"
         },
         {
          "day": 11,
          "dose": 1,
          "mode": "discrete"
         },
         {
          "day": 12,
          "dose": 1,
          "mode": "discrete"
         },
         {
          "day": 13,
          "dose": 1,
          "mode": "discrete"
         },
         {
          "day": 14,
          "dose": 1,
          "mode": "discrete"
         },
         {
          "day": 15,
          "dose": 1,
          "mode": "discrete"
         },
         {
          "day": 16,
          "dose": 0,
          "mode": "discrete"
         },
         {
          "day": 17,
          "dose": 1,
          "mode": "discrete"
         },
         {
          "day": 18,
          "dose": 1,
          "mode": "discrete"
         },
         {
          "day": 19,
          "dose": 1,
          "mode": "discrete"
         },
         {
          "day": 20,
          "dose": 1,
          "mode": "discrete"
         },
         {
          "day": 21,
          "dose": 0,
          "mode": "discrete"
         },
         {
          "day": 22,
          "dose": 1,
          "mode": "discrete"
         },
         {
          "day": 23,
          "dose": 1,
          "mode": "discrete"
         },
         {
          "day": 24,
          "dose": 1,
          "mode": "discrete"
         },
         {
          "day": 25,
          "dose": 0,
          "mode": "discrete"
         },
         {
          "day": 26,
          "dose": 1,
          "mode": "discrete"
         },
         {
          "day": 27,
          "dose": 1,
          "mode": "discrete"
         },
         {
          "day": 28,
          "dose": 0,
          "mode": "discrete"
         },
         {
          "day": 29,
          "dose": 1,
          "mode": "discrete"
         },
         {
          "day": 30,
          "dose": 0,
          "mode": "discrete"
         },
         {
          "day": 31,
          "dose": 1,
          "mode": "discrete"
         },
         {
          "day": 32,
          "dose": 1,
          "mode": "discrete"
         },
         {
          "day": 33,
          "dose": 0,
          "mode": "discrete"
         },
         {
          "day": 34,
          "dose": 1,
          "mode": "discrete"
         },
         {
          "day": 35,
          "dose": 0,
          "mode": "discrete"
         },
         {
          "day": 36,
          "dose": 1,
          "mode": "discrete"
         },
         {
          "day": 37,
          "dose": 1,
          "mode": "discrete"
         },
         {
          "day": 38,
          "dose": 0,
          "mode": "discrete"
         },
         {
          "day": 39,
          "dose": 1,
          "mode": "discrete"
         },
         {
          "day": 40,
          "dose": 0,
          "mode": "discrete"
         },
         {
          "day": 41,
          "dose": 1,
          "mode": "discrete"
         },
         {
          "day": 42,
          "dose": 0,
          "mode": "discrete"
         },
         {
          "day": 43,
          "dose": 1,
          "mode": "discrete"
         },
         {
          "day": 44,
          "dose": 0,
          "mode": "discrete"
         },
         {
          "day": 45,
          "dose": 0,
          "mode": "discrete"
         },
         {
          "day": 46,
          "dose": 1,
          "mode": "discrete"
         },
         {
          "day": 47,
          "dose": 0,
          "mode": "discrete"
         },
         {
          "day": 48,
          "dose": 1,
          "mode": "discrete"
         },
         {
          "day": 49,
          "dose": 0,
          "mode": "discrete"
         },
         {
          "day": 50,
          "dose": 0,
          "mode": "discrete"
         },
         {
          "day": 51,
          "dose": 1,
          "mode": "discrete"
         },
         {
          "day": 52,
          "dose": 0,
          "mode": "discrete"
         },
         {
          "day": 53,
          "dose": 1,
          "mode": "discrete"
         },
         {
          "day": 54,
          "dose": 0,
          "mode": "discrete"
         },
         {
          "day": 55,
          "dose": 0,
          "mode": "discrete"
         },
         {
          "day": 56,
          "dose": 1,
          "mode": "discrete"
         },
         {
          "day": 57,
          "dose": 0,
          "mode": "discrete"
         },
         {
          "day": 58,
          "dose": 0,
          "mode": "discrete"
         },
         {
          "day": 59,
          "dose": 0,
          "mode": "discrete"
         },
         {
          "day": 60,
          "dose": 1,
          "mode": "discrete"
         },
         {
          "day": 61,
          "dose": 0,
          "mode": "discrete"
         },
         {
          "day": 62,
          "dose": 0,
          "mode": "discrete"
         },
         {
          "day": 63,
          "dose": 0,
          "mode": "discrete"
         },
         {
          "day": 64,
          "dose": 0,
          "mode": "discrete"
         },
         {
          "day": 65,
          "dose": 1,
          "mode": "discrete"
         },
         {
          "day": 66,
          "dose": 0,
          "mode": "discrete"
         },
         {
          "day": 67,
          "dose": 0,
          "mode": "discrete"
         },
         {
          "day": 68,
          "dose": 0,
          "mode": "discrete"
         },
         {
          "day": 69,
          "dose": 0,
          "mode": "discrete"
         },
         {
          "day": 70,
          "dose": 0,
          "mode": "discrete"
         },
         {
          "day": 71,
          "dose": 1,
          "mode": "discrete"
         },
         {
          "day": 72,
          "dose": 0,
          "mode": "discrete"
         },
         {
          "day": 73,
          "dose": 0,
          "mode": "discrete"
         },
         {
          "day": 74,
          "dose": 0,
          "mode": "discrete"
         },
         {
          "day": 75,
          "dose": 0,
          "mode": "discrete"
         },
         {
          "day": 76,
          "dose": 0,
          "mode": "discrete"
         },
         {
          "day": 77,
          "dose": 0,
          "mode": "discrete"
         },
         {
          "day": 78,
          "dose": 0,
          "mode": "discrete"
         },
         {
          "day": 79,
          "dose": 0,
          "mode": "discrete"
         },
         {
          "day": 80,
          "dose": 0,
          "mode": "discrete"
         }
        ]
       },
       "encoding": {
        "row": {
         "field": "mode",
         "type": "nominal"
        },
        "x": {
         "field": "day",
         "type": "ordinal"
        },
        "y": {
         "field": "dose",
         "stack": null,
         "type": "quantitative"
        }
       },
       "height": 80,
       "mark": {
        "opacity": 0.7,
        "type": "bar"
       },
       "width": 500
      },
      "image/png": "[encoded data removed]",
      "image/svg+xml": [
       "<svg class=\"marks\" width=\"600\" height=\"233\" viewBox=\"0 0 600 233\" version=\"1.1\" xmlns=\"http://www.w3.org/2000/svg\" xmlns:xlink=\"http://www.w3.org/1999/xlink\"><g transform=\"translate(94,10)\"><g class=\"mark-group role-frame root\"><g transform=\"translate(0,0)\"><path class=\"background\" d=\"M0,0h0v0h0Z\" style=\"fill: none;\"></path><g><g class=\"mark-group role-row-title row-title\"><g transform=\"translate(-68,91)\"><path class=\"background\" d=\"M0,0h0v0h0Z\" style=\"fill: none;\"></path><g><g class=\"mark-text role-title\" style=\"pointer-events: none;\"><text text-anchor=\"middle\" transform=\"translate(-10,0) rotate(-90) translate(0,-2)\" style=\"font-family: sans-serif; font-size: 11px; font-weight: bold; fill: #000; opacity: 1;\">mode</text></g></g></g></g><g class=\"mark-group role-row-header row_header\"><g transform=\"translate(-1,0)\"><path class=\"background\" d=\"M0,0h0v80h0Z\" style=\"fill: none;\"></path><g><g class=\"mark-text role-title\" style=\"pointer-events: none;\"><text text-anchor=\"middle\" transform=\"translate(-47,40) rotate(-90) translate(0,-2)\" style=\"font-family: sans-serif; font-size: 10px; fill: #000; opacity: 1;\">continuous</text></g><g class=\"mark-group role-axis\"><g transform=\"translate(0.5,0.5)\"><path class=\"background\" d=\"M0,0h0v0h0Z\" style=\"pointer-events: none; fill: none;\"></path><g><g class=\"mark-rule role-axis-tick\" style=\"pointer-events: none;\"><line transform=\"translate(0,80)\" x2=\"-5\" y2=\"0\" style=\"fill: none; stroke: #888; stroke-width: 1; opacity: 1;\"></line><line transform=\"translate(0,40)\" x2=\"-5\" y2=\"0\" style=\"fill: none; stroke: #888; stroke-width: 1; opacity: 1;\"></line><line transform=\"translate(0,0)\" x2=\"-5\" y2=\"0\" style=\"fill: none; stroke: #888; stroke-width: 1; opacity: 1;\"></line></g><g class=\"mark-text role-axis-label\" style=\"pointer-events: none;\"><text text-anchor=\"end\" transform=\"translate(-7,83)\" style=\"font-family: sans-serif; font-size: 10px; fill: #000; opacity: 1;\">0.0</text><text text-anchor=\"end\" transform=\"translate(-7,43)\" style=\"font-family: sans-serif; font-size: 10px; fill: #000; opacity: 1;\">0.5</text><text text-anchor=\"end\" transform=\"translate(-7,3)\" style=\"font-family: sans-serif; font-size: 10px; fill: #000; opacity: 1;\">1.0</text></g><g class=\"mark-rule role-axis-domain\" style=\"pointer-events: none;\"><line transform=\"translate(0,80)\" x2=\"0\" y2=\"-80\" style=\"fill: none; stroke: #888; stroke-width: 1; opacity: 1;\"></line></g><g class=\"mark-text role-axis-title\" style=\"pointer-events: none;\"><text text-anchor=\"middle\" transform=\"translate(-26,40) rotate(-90) translate(0,-2)\" style=\"font-family: sans-serif; font-size: 11px; font-weight: bold; fill: #000; opacity: 1;\">dose</text></g></g></g></g></g></g><g transform=\"translate(-1,102)\"><path class=\"background\" d=\"M0,0h0v80h0Z\" style=\"fill: none;\"></path><g><g class=\"mark-text role-title\" style=\"pointer-events: none;\"><text text-anchor=\"middle\" transform=\"translate(-47,40) rotate(-90) translate(0,-2)\" style=\"font-family: sans-serif; font-size: 10px; fill: #000; opacity: 1;\">discrete</text></g><g class=\"mark-group role-axis\"><g transform=\"translate(0.5,0.5)\"><path class=\"background\" d=\"M0,0h0v0h0Z\" style=\"pointer-events: none; fill: none;\"></path><g><g class=\"mark-rule role-axis-tick\" style=\"pointer-events: none;\"><line transform=\"translate(0,80)\" x2=\"-5\" y2=\"0\" style=\"fill: none; stroke: #888; stroke-width: 1; opacity: 1;\"></line><line transform=\"translate(0,40)\" x2=\"-5\" y2=\"0\" style=\"fill: none; stroke: #888; stroke-width: 1; opacity: 1;\"></line><line transform=\"translate(0,0)\" x2=\"-5\" y2=\"0\" style=\"fill: none; stroke: #888; stroke-width: 1; opacity: 1;\"></line></g><g class=\"mark-text role-axis-label\" style=\"pointer-events: none;\"><text text-anchor=\"end\" transform=\"translate(-7,83)\" style=\"font-family: sans-serif; font-size: 10px; fill: #000; opacity: 1;\">0.0</text><text text-anchor=\"end\" transform=\"translate(-7,43)\" style=\"font-family: sans-serif; font-size: 10px; fill: #000; opacity: 1;\">0.5</text><text text-anchor=\"end\" transform=\"translate(-7,3)\" style=\"font-family: sans-serif; font-size: 10px; fill: #000; opacity: 1;\">1.0</text></g><g class=\"mark-rule role-axis-domain\" style=\"pointer-events: none;\"><line transform=\"translate(0,80)\" x2=\"0\" y2=\"-80\" style=\"fill: none; stroke: #888; stroke-width: 1; opacity: 1;\"></line></g><g class=\"mark-text role-axis-title\" style=\"pointer-events: none;\"><text text-anchor=\"middle\" transform=\"translate(-26,40) rotate(-90) translate(0,-2)\" style=\"font-family: sans-serif; font-size: 11px; font-weight: bold; fill: #000; opacity: 1;\">dose</text></g></g></g></g></g></g></g><g class=\"mark-group role-column-footer column_footer\"><g transform=\"translate(0,183)\"><path class=\"background\" d=\"M0,0h500v0h-500Z\" style=\"fill: none;\"></path><g><g class=\"mark-group role-axis\"><g transform=\"translate(0.5,0.5)\"><path class=\"background\" d=\"M0,0h0v0h0Z\" style=\"pointer-events: none; fill: none;\"></path><g><g class=\"mark-rule role-axis-tick\" style=\"pointer-events: none;\"><line transform=\"translate(2,0)\" x2=\"0\" y2=\"5\" style=\"fill: none; stroke: #888; stroke-width: 1; opacity: 1;\"></line><line transform=\"translate(8,0)\" x2=\"0\" y2=\"5\" style=\"fill: none; stroke: #888; stroke-width: 1; opacity: 1;\"></line><line transform=\"translate(15,0)\" x2=\"0\" y2=\"5\" style=\"fill: none; stroke: #888; stroke-width: 1; opacity: 1;\"></line><line transform=\"translate(21,0)\" x2=\"0\" y2=\"5\" style=\"fill: none; stroke: #888; stroke-width: 1; opacity: 1;\"></line><line transform=\"translate(27,0)\" x2=\"0\" y2=\"5\" style=\"fill: none; stroke: #888; stroke-width: 1; opacity: 1;\"></line><line transform=\"translate(33,0)\" x2=\"0\" y2=\"5\" style=\"fill: none; stroke: #888; stroke-width: 1; opacity: 1;\"></line><line transform=\"translate(40,0)\" x2=\"0\" y2=\"5\" style=\"fill: none; stroke: #888; stroke-width: 1; opacity: 1;\"></line><line transform=\"translate(46,0)\" x2=\"0\" y2=\"5\" style=\"fill: none; stroke: #888; stroke-width: 1; opacity: 1;\"></line><line transform=\"translate(52,0)\" x2=\"0\" y2=\"5\" style=\"fill: none; stroke: #888; stroke-width: 1; opacity: 1;\"></line><line transform=\"translate(58,0)\" x2=\"0\" y2=\"5\" style=\"fill: none; stroke: #888; stroke-width: 1; opacity: 1;\"></line><line transform=\"translate(65,0)\" x2=\"0\" y2=\"5\" style=\"fill: none; stroke: #888; stroke-width: 1; opacity: 1;\"></line><line transform=\"translate(71,0)\" x2=\"0\" y2=\"5\" style=\"fill: none; stroke: #888; stroke-width: 1; opacity: 1;\"></line><line transform=\"translate(77,0)\" x2=\"0\" y2=\"5\" style=\"fill: none; stroke: #888; stroke-width: 1; opacity: 1;\"></line><line transform=\"translate(83,0)\" x2=\"0\" y2=\"5\" style=\"fill: none; stroke: #888; stroke-width: 1; opacity: 1;\"></line><line transform=\"translate(90,0)\" x2=\"0\" y2=\"5\" style=\"fill: none; stroke: #888; stroke-width: 1; opacity: 1;\"></line><line transform=\"translate(96,0)\" x2=\"0\" y2=\"5\" style=\"fill: none; stroke: #888; stroke-width: 1; opacity: 1;\"></line><line transform=\"translate(102,0)\" x2=\"0\" y2=\"5\" style=\"fill: none; stroke: #888; stroke-width: 1; opacity: 1;\"></line><line transform=\"translate(108,0)\" x2=\"0\" y2=\"5\" style=\"fill: none; stroke: #888; stroke-width: 1; opacity: 1;\"></line><line transform=\"translate(115,0)\" x2=\"0\" y2=\"5\" style=\"fill: none; stroke: #888; stroke-width: 1; opacity: 1;\"></line><line transform=\"translate(121,0)\" x2=\"0\" y2=\"5\" style=\"fill: none; stroke: #888; stroke-width: 1; opacity: 1;\"></line><line transform=\"translate(127,0)\" x2=\"0\" y2=\"5\" style=\"fill: none; stroke: #888; stroke-width: 1; opacity: 1;\"></line><line transform=\"translate(133,0)\" x2=\"0\" y2=\"5\" style=\"fill: none; stroke: #888; stroke-width: 1; opacity: 1;\"></line><line transform=\"translate(140,0)\" x2=\"0\" y2=\"5\" style=\"fill: none; stroke: #888; stroke-width: 1; opacity: 1;\"></line><line transform=\"translate(146,0)\" x2=\"0\" y2=\"5\" style=\"fill: none; stroke: #888; stroke-width: 1; opacity: 1;\"></line><line transform=\"translate(152,0)\" x2=\"0\" y2=\"5\" style=\"fill: none; stroke: #888; stroke-width: 1; opacity: 1;\"></line><line transform=\"translate(158,0)\" x2=\"0\" y2=\"5\" style=\"fill: none; stroke: #888; stroke-width: 1; opacity: 1;\"></line><line transform=\"translate(165,0)\" x2=\"0\" y2=\"5\" style=\"fill: none; stroke: #888; stroke-width: 1; opacity: 1;\"></line><line transform=\"translate(171,0)\" x2=\"0\" y2=\"5\" style=\"fill: none; stroke: #888; stroke-width: 1; opacity: 1;\"></line><line transform=\"translate(177,0)\" x2=\"0\" y2=\"5\" style=\"fill: none; stroke: #888; stroke-width: 1; opacity: 1;\"></line><line transform=\"translate(183,0)\" x2=\"0\" y2=\"5\" style=\"fill: none; stroke: #888; stroke-width: 1; opacity: 1;\"></line><line transform=\"translate(190,0)\" x2=\"0\" y2=\"5\" style=\"fill: none; stroke: #888; stroke-width: 1; opacity: 1;\"></line><line transform=\"translate(196,0)\" x2=\"0\" y2=\"5\" style=\"fill: none; stroke: #888; stroke-width: 1; opacity: 1;\"></line><line transform=\"translate(202,0)\" x2=\"0\" y2=\"5\" style=\"fill: none; stroke: #888; stroke-width: 1; opacity: 1;\"></line><line transform=\"translate(208,0)\" x2=\"0\" y2=\"5\" style=\"fill: none; stroke: #888; stroke-width: 1; opacity: 1;\"></line><line transform=\"translate(215,0)\" x2=\"0\" y2=\"5\" style=\"fill: none; stroke: #888; stroke-width: 1; opacity: 1;\"></line><line transform=\"translate(221,0)\" x2=\"0\" y2=\"5\" style=\"fill: none; stroke: #888; stroke-width: 1; opacity: 1;\"></line><line transform=\"translate(227,0)\" x2=\"0\" y2=\"5\" style=\"fill: none; stroke: #888; stroke-width: 1; opacity: 1;\"></line><line transform=\"translate(233,0)\" x2=\"0\" y2=\"5\" style=\"fill: none; stroke: #888; stroke-width: 1; opacity: 1;\"></line><line transform=\"translate(240,0)\" x2=\"0\" y2=\"5\" style=\"fill: none; stroke: #888; stroke-width: 1; opacity: 1;\"></line><line transform=\"translate(246,0)\" x2=\"0\" y2=\"5\" style=\"fill: none; stroke: #888; stroke-width: 1; opacity: 1;\"></line><line transform=\"translate(252,0)\" x2=\"0\" y2=\"5\" style=\"fill: none; stroke: #888; stroke-width: 1; opacity: 1;\"></line><line transform=\"translate(258,0)\" x2=\"0\" y2=\"5\" style=\"fill: none; stroke: #888; stroke-width: 1; opacity: 1;\"></line><line transform=\"translate(265,0)\" x2=\"0\" y2=\"5\" style=\"fill: none; stroke: #888; stroke-width: 1; opacity: 1;\"></line><line transform=\"translate(271,0)\" x2=\"0\" y2=\"5\" style=\"fill: none; stroke: #888; stroke-width: 1; opacity: 1;\"></line><line transform=\"translate(277,0)\" x2=\"0\" y2=\"5\" style=\"fill: none; stroke: #888; stroke-width: 1; opacity: 1;\"></line><line transform=\"translate(283,0)\" x2=\"0\" y2=\"5\" style=\"fill: none; stroke: #888; stroke-width: 1; opacity: 1;\"></line><line transform=\"translate(290,0)\" x2=\"0\" y2=\"5\" style=\"fill: none; stroke: #888; stroke-width: 1; opacity: 1;\"></line><line transform=\"translate(296,0)\" x2=\"0\" y2=\"5\" style=\"fill: none; stroke: #888; stroke-width: 1; opacity: 1;\"></line><line transform=\"translate(302,0)\" x2=\"0\" y2=\"5\" style=\"fill: none; stroke: #888; stroke-width: 1; opacity: 1;\"></line><line transform=\"translate(308,0)\" x2=\"0\" y2=\"5\" style=\"fill: none; stroke: #888; stroke-width: 1; opacity: 1;\"></line><line transform=\"translate(315,0)\" x2=\"0\" y2=\"5\" style=\"fill: none; stroke: #888; stroke-width: 1; opacity: 1;\"></line><line transform=\"translate(321,0)\" x2=\"0\" y2=\"5\" style=\"fill: none; stroke: #888; stroke-width: 1; opacity: 1;\"></line><line transform=\"translate(327,0)\" x2=\"0\" y2=\"5\" style=\"fill: none; stroke: #888; stroke-width: 1; opacity: 1;\"></line><line transform=\"translate(333,0)\" x2=\"0\" y2=\"5\" style=\"fill: none; stroke: #888; stroke-width: 1; opacity: 1;\"></line><line transform=\"translate(340,0)\" x2=\"0\" y2=\"5\" style=\"fill: none; stroke: #888; stroke-width: 1; opacity: 1;\"></line><line transform=\"translate(346,0)\" x2=\"0\" y2=\"5\" style=\"fill: none; stroke: #888; stroke-width: 1; opacity: 1;\"></line><line transform=\"translate(352,0)\" x2=\"0\" y2=\"5\" style=\"fill: none; stroke: #888; stroke-width: 1; opacity: 1;\"></line><line transform=\"translate(358,0)\" x2=\"0\" y2=\"5\" style=\"fill: none; stroke: #888; stroke-width: 1; opacity: 1;\"></line><line transform=\"translate(365,0)\" x2=\"0\" y2=\"5\" style=\"fill: none; stroke: #888; stroke-width: 1; opacity: 1;\"></line><line transform=\"translate(371,0)\" x2=\"0\" y2=\"5\" style=\"fill: none; stroke: #888; stroke-width: 1; opacity: 1;\"></line><line transform=\"translate(377,0)\" x2=\"0\" y2=\"5\" style=\"fill: none; stroke: #888; stroke-width: 1; opacity: 1;\"></line><line transform=\"translate(383,0)\" x2=\"0\" y2=\"5\" style=\"fill: none; stroke: #888; stroke-width: 1; opacity: 1;\"></line><line transform=\"translate(390,0)\" x2=\"0\" y2=\"5\" style=\"fill: none; stroke: #888; stroke-width: 1; opacity: 1;\"></line><line transform=\"translate(396,0)\" x2=\"0\" y2=\"5\" style=\"fill: none; stroke: #888; stroke-width: 1; opacity: 1;\"></line><line transform=\"translate(402,0)\" x2=\"0\" y2=\"5\" style=\"fill: none; stroke: #888; stroke-width: 1; opacity: 1;\"></line><line transform=\"translate(408,0)\" x2=\"0\" y2=\"5\" style=\"fill: none; stroke: #888; stroke-width: 1; opacity: 1;\"></line><line transform=\"translate(415,0)\" x2=\"0\" y2=\"5\" style=\"fill: none; stroke: #888; stroke-width: 1; opacity: 1;\"></line><line transform=\"translate(421,0)\" x2=\"0\" y2=\"5\" style=\"fill: none; stroke: #888; stroke-width: 1; opacity: 1;\"></line><line transform=\"translate(427,0)\" x2=\"0\" y2=\"5\" style=\"fill: none; stroke: #888; stroke-width: 1; opacity: 1;\"></line><line transform=\"translate(433,0)\" x2=\"0\" y2=\"5\" style=\"fill: none; stroke: #888; stroke-width: 1; opacity: 1;\"></line><line transform=\"translate(440,0)\" x2=\"0\" y2=\"5\" style=\"fill: none; stroke: #888; stroke-width: 1; opacity: 1;\"></line><line transform=\"translate(446,0)\" x2=\"0\" y2=\"5\" style=\"fill: none; stroke: #888; stroke-width: 1; opacity: 1;\"></line><line transform=\"translate(452,0)\" x2=\"0\" y2=\"5\" style=\"fill: none; stroke: #888; stroke-width: 1; opacity: 1;\"></line><line transform=\"translate(458,0)\" x2=\"0\" y2=\"5\" style=\"fill: none; stroke: #888; stroke-width: 1; opacity: 1;\"></line><line transform=\"translate(465,0)\" x2=\"0\" y2=\"5\" style=\"fill: none; stroke: #888; stroke-width: 1; opacity: 1;\"></line><line transform=\"translate(471,0)\" x2=\"0\" y2=\"5\" style=\"fill: none; stroke: #888; stroke-width: 1; opacity: 1;\"></line><line transform=\"translate(477,0)\" x2=\"0\" y2=\"5\" style=\"fill: none; stroke: #888; stroke-width: 1; opacity: 1;\"></line><line transform=\"translate(483,0)\" x2=\"0\" y2=\"5\" style=\"fill: none; stroke: #888; stroke-width: 1; opacity: 1;\"></line><line transform=\"translate(490,0)\" x2=\"0\" y2=\"5\" style=\"fill: none; stroke: #888; stroke-width: 1; opacity: 1;\"></line><line transform=\"translate(496,0)\" x2=\"0\" y2=\"5\" style=\"fill: none; stroke: #888; stroke-width: 1; opacity: 1;\"></line></g><g class=\"mark-text role-axis-label\" style=\"pointer-events: none;\"><text text-anchor=\"end\" transform=\"translate(2.1249999999999716,7) rotate(270) translate(0,3)\" style=\"font-family: sans-serif; font-size: 10px; fill: #000; opacity: 1;\">1</text><text text-anchor=\"end\" transform=\"translate(8.374999999999972,7) rotate(270) translate(0,3)\" style=\"font-family: sans-serif; font-size: 10px; fill: #000; opacity: 0;\">2</text><text text-anchor=\"end\" transform=\"translate(14.624999999999972,7) rotate(270) translate(0,3)\" style=\"font-family: sans-serif; font-size: 10px; fill: #000; opacity: 1;\">3</text><text text-anchor=\"end\" transform=\"translate(20.87499999999997,7) rotate(270) translate(0,3)\" style=\"font-family: sans-serif; font-size: 10px; fill: #000; opacity: 0;\">4</text><text text-anchor=\"end\" transform=\"translate(27.12499999999997,7) rotate(270) translate(0,3)\" style=\"font-family: sans-serif; font-size: 10px; fill: #000; opacity: 1;\">5</text><text text-anchor=\"end\" transform=\"translate(33.37499999999997,7) rotate(270) translate(0,3)\" style=\"font-family: sans-serif; font-size: 10px; fill: #000; opacity: 0;\">6</text><text text-anchor=\"end\" transform=\"translate(39.62499999999997,7) rotate(270) translate(0,3)\" style=\"font-family: sans-serif; font-size: 10px; fill: #000; opacity: 1;\">7</text><text text-anchor=\"end\" transform=\"translate(45.87499999999997,7) rotate(270) translate(0,3)\" style=\"font-family: sans-serif; font-size: 10px; fill: #000; opacity: 0;\">8</text><text text-anchor=\"end\" transform=\"translate(52.12499999999997,7) rotate(270) translate(0,3)\" style=\"font-family: sans-serif; font-size: 10px; fill: #000; opacity: 1;\">9</text><text text-anchor=\"end\" transform=\"translate(58.37499999999997,7) rotate(270) translate(0,3)\" style=\"font-family: sans-serif; font-size: 10px; fill: #000; opacity: 0;\">10</text><text text-anchor=\"end\" transform=\"translate(64.62499999999997,7) rotate(270) translate(0,3)\" style=\"font-family: sans-serif; font-size: 10px; fill: #000; opacity: 1;\">11</text><text text-anchor=\"end\" transform=\"translate(70.87499999999997,7) rotate(270) translate(0,3)\" style=\"font-family: sans-serif; font-size: 10px; fill: #000; opacity: 0;\">12</text><text text-anchor=\"end\" transform=\"translate(77.12499999999997,7) rotate(270) translate(0,3)\" style=\"font-family: sans-serif; font-size: 10px; fill: #000; opacity: 1;\">13</text><text text-anchor=\"end\" transform=\"translate(83.37499999999997,7) rotate(270) translate(0,3)\" style=\"font-family: sans-serif; font-size: 10px; fill: #000; opacity: 0;\">14</text><text text-anchor=\"end\" transform=\"translate(89.62499999999997,7) rotate(270) translate(0,3)\" style=\"font-family: sans-serif; font-size: 10px; fill: #000; opacity: 1;\">15</text><text text-anchor=\"end\" transform=\"translate(95.87499999999997,7) rotate(270) translate(0,3)\" style=\"font-family: sans-serif; font-size: 10px; fill: #000; opacity: 0;\">16</text><text text-anchor=\"end\" transform=\"translate(102.12499999999997,7) rotate(270) translate(0,3)\" style=\"font-family: sans-serif; font-size: 10px; fill: #000; opacity: 1;\">17</text><text text-anchor=\"end\" transform=\"translate(108.37499999999997,7) rotate(270) translate(0,3)\" style=\"font-family: sans-serif; font-size: 10px; fill: #000; opacity: 0;\">18</text><text text-anchor=\"end\" transform=\"translate(114.62499999999997,7) rotate(270) translate(0,3)\" style=\"font-family: sans-serif; font-size: 10px; fill: #000; opacity: 1;\">19</text><text text-anchor=\"end\" transform=\"translate(120.87499999999997,7) rotate(270) translate(0,3)\" style=\"font-family: sans-serif; font-size: 10px; fill: #000; opacity: 0;\">20</text><text text-anchor=\"end\" transform=\"translate(127.12499999999997,7) rotate(270) translate(0,3)\" style=\"font-family: sans-serif; font-size: 10px; fill: #000; opacity: 1;\">21</text><text text-anchor=\"end\" transform=\"translate(133.37499999999997,7) rotate(270) translate(0,3)\" style=\"font-family: sans-serif; font-size: 10px; fill: #000; opacity: 0;\">22</text><text text-anchor=\"end\" transform=\"translate(139.62499999999997,7) rotate(270) translate(0,3)\" style=\"font-family: sans-serif; font-size: 10px; fill: #000; opacity: 1;\">23</text><text text-anchor=\"end\" transform=\"translate(145.87499999999997,7) rotate(270) translate(0,3)\" style=\"font-family: sans-serif; font-size: 10px; fill: #000; opacity: 0;\">24</text><text text-anchor=\"end\" transform=\"translate(152.12499999999997,7) rotate(270) translate(0,3)\" style=\"font-family: sans-serif; font-size: 10px; fill: #000; opacity: 1;\">25</text><text text-anchor=\"end\" transform=\"translate(158.37499999999997,7) rotate(270) translate(0,3)\" style=\"font-family: sans-serif; font-size: 10px; fill: #000; opacity: 0;\">26</text><text text-anchor=\"end\" transform=\"translate(164.62499999999997,7) rotate(270) translate(0,3)\" style=\"font-family: sans-serif; font-size: 10px; fill: #000; opacity: 1;\">27</text><text text-anchor=\"end\" transform=\"translate(170.87499999999997,7) rotate(270) translate(0,3)\" style=\"font-family: sans-serif; font-size: 10px; fill: #000; opacity: 0;\">28</text><text text-anchor=\"end\" transform=\"translate(177.12499999999997,7) rotate(270) translate(0,3)\" style=\"font-family: sans-serif; font-size: 10px; fill: #000; opacity: 1;\">29</text><text text-anchor=\"end\" transform=\"translate(183.37499999999997,7) rotate(270) translate(0,3)\" style=\"font-family: sans-serif; font-size: 10px; fill: #000; opacity: 0;\">30</text><text text-anchor=\"end\" transform=\"translate(189.62499999999997,7) rotate(270) translate(0,3)\" style=\"font-family: sans-serif; font-size: 10px; fill: #000; opacity: 1;\">31</text><text text-anchor=\"end\" transform=\"translate(195.87499999999997,7) rotate(270) translate(0,3)\" style=\"font-family: sans-serif; font-size: 10px; fill: #000; opacity: 0;\">32</text><text text-anchor=\"end\" transform=\"translate(202.12499999999997,7) rotate(270) translate(0,3)\" style=\"font-family: sans-serif; font-size: 10px; fill: #000; opacity: 1;\">33</text><text text-anchor=\"end\" transform=\"translate(208.37499999999997,7) rotate(270) translate(0,3)\" style=\"font-family: sans-serif; font-size: 10px; fill: #000; opacity: 0;\">34</text><text text-anchor=\"end\" transform=\"translate(214.62499999999997,7) rotate(270) translate(0,3)\" style=\"font-family: sans-serif; font-size: 10px; fill: #000; opacity: 1;\">35</text><text text-anchor=\"end\" transform=\"translate(220.87499999999997,7) rotate(270) translate(0,3)\" style=\"font-family: sans-serif; font-size: 10px; fill: #000; opacity: 0;\">36</text><text text-anchor=\"end\" transform=\"translate(227.12499999999997,7) rotate(270) translate(0,3)\" style=\"font-family: sans-serif; font-size: 10px; fill: #000; opacity: 1;\">37</text><text text-anchor=\"end\" transform=\"translate(233.37499999999997,7) rotate(270) translate(0,3)\" style=\"font-family: sans-serif; font-size: 10px; fill: #000; opacity: 0;\">38</text><text text-anchor=\"end\" transform=\"translate(239.62499999999997,7) rotate(270) translate(0,3)\" style=\"font-family: sans-serif; font-size: 10px; fill: #000; opacity: 1;\">39</text><text text-anchor=\"end\" transform=\"translate(245.87499999999997,7) rotate(270) translate(0,3)\" style=\"font-family: sans-serif; font-size: 10px; fill: #000; opacity: 0;\">40</text><text text-anchor=\"end\" transform=\"translate(252.12499999999997,7) rotate(270) translate(0,3)\" style=\"font-family: sans-serif; font-size: 10px; fill: #000; opacity: 1;\">41</text><text text-anchor=\"end\" transform=\"translate(258.375,7) rotate(270) translate(0,3)\" style=\"font-family: sans-serif; font-size: 10px; fill: #000; opacity: 0;\">42</text><text text-anchor=\"end\" transform=\"translate(264.625,7) rotate(270) translate(0,3)\" style=\"font-family: sans-serif; font-size: 10px; fill: #000; opacity: 1;\">43</text><text text-anchor=\"end\" transform=\"translate(270.875,7) rotate(270) translate(0,3)\" style=\"font-family: sans-serif; font-size: 10px; fill: #000; opacity: 0;\">44</text><text text-anchor=\"end\" transform=\"translate(277.125,7) rotate(270) translate(0,3)\" style=\"font-family: sans-serif; font-size: 10px; fill: #000; opacity: 1;\">45</text><text text-anchor=\"end\" transform=\"translate(283.375,7) rotate(270) translate(0,3)\" style=\"font-family: sans-serif; font-size: 10px; fill: #000; opacity: 0;\">46</text><text text-anchor=\"end\" transform=\"translate(289.625,7) rotate(270) translate(0,3)\" style=\"font-family: sans-serif; font-size: 10px; fill: #000; opacity: 1;\">47</text><text text-anchor=\"end\" transform=\"translate(295.875,7) rotate(270) translate(0,3)\" style=\"font-family: sans-serif; font-size: 10px; fill: #000; opacity: 0;\">48</text><text text-anchor=\"end\" transform=\"translate(302.125,7) rotate(270) translate(0,3)\" style=\"font-family: sans-serif; font-size: 10px; fill: #000; opacity: 1;\">49</text><text text-anchor=\"end\" transform=\"translate(308.375,7) rotate(270) translate(0,3)\" style=\"font-family: sans-serif; font-size: 10px; fill: #000; opacity: 0;\">50</text><text text-anchor=\"end\" transform=\"translate(314.625,7) rotate(270) translate(0,3)\" style=\"font-family: sans-serif; font-size: 10px; fill: #000; opacity: 1;\">51</text><text text-anchor=\"end\" transform=\"translate(320.875,7) rotate(270) translate(0,3)\" style=\"font-family: sans-serif; font-size: 10px; fill: #000; opacity: 0;\">52</text><text text-anchor=\"end\" transform=\"translate(327.125,7) rotate(270) translate(0,3)\" style=\"font-family: sans-serif; font-size: 10px; fill: #000; opacity: 1;\">53</text><text text-anchor=\"end\" transform=\"translate(333.375,7) rotate(270) translate(0,3)\" style=\"font-family: sans-serif; font-size: 10px; fill: #000; opacity: 0;\">54</text><text text-anchor=\"end\" transform=\"translate(339.625,7) rotate(270) translate(0,3)\" style=\"font-family: sans-serif; font-size: 10px; fill: #000; opacity: 1;\">55</text><text text-anchor=\"end\" transform=\"translate(345.875,7) rotate(270) translate(0,3)\" style=\"font-family: sans-serif; font-size: 10px; fill: #000; opacity: 0;\">56</text><text text-anchor=\"end\" transform=\"translate(352.125,7) rotate(270) translate(0,3)\" style=\"font-family: sans-serif; font-size: 10px; fill: #000; opacity: 1;\">57</text><text text-anchor=\"end\" transform=\"translate(358.375,7) rotate(270) translate(0,3)\" style=\"font-family: sans-serif; font-size: 10px; fill: #000; opacity: 0;\">58</text><text text-anchor=\"end\" transform=\"translate(364.625,7) rotate(270) translate(0,3)\" style=\"font-family: sans-serif; font-size: 10px; fill: #000; opacity: 1;\">59</text><text text-anchor=\"end\" transform=\"translate(370.875,7) rotate(270) translate(0,3)\" style=\"font-family: sans-serif; font-size: 10px; fill: #000; opacity: 0;\">60</text><text text-anchor=\"end\" transform=\"translate(377.125,7) rotate(270) translate(0,3)\" style=\"font-family: sans-serif; font-size: 10px; fill: #000; opacity: 1;\">61</text><text text-anchor=\"end\" transform=\"translate(383.375,7) rotate(270) translate(0,3)\" style=\"font-family: sans-serif; font-size: 10px; fill: #000; opacity: 0;\">62</text><text text-anchor=\"end\" transform=\"translate(389.625,7) rotate(270) translate(0,3)\" style=\"font-family: sans-serif; font-size: 10px; fill: #000; opacity: 1;\">63</text><text text-anchor=\"end\" transform=\"translate(395.875,7) rotate(270) translate(0,3)\" style=\"font-family: sans-serif; font-size: 10px; fill: #000; opacity: 0;\">64</text><text text-anchor=\"end\" transform=\"translate(402.125,7) rotate(270) translate(0,3)\" style=\"font-family: sans-serif; font-size: 10px; fill: #000; opacity: 1;\">65</text><text text-anchor=\"end\" transform=\"translate(408.375,7) rotate(270) translate(0,3)\" style=\"font-family: sans-serif; font-size: 10px; fill: #000; opacity: 0;\">66</text><text text-anchor=\"end\" transform=\"translate(414.625,7) rotate(270) translate(0,3)\" style=\"font-family: sans-serif; font-size: 10px; fill: #000; opacity: 1;\">67</text><text text-anchor=\"end\" transform=\"translate(420.875,7) rotate(270) translate(0,3)\" style=\"font-family: sans-serif; font-size: 10px; fill: #000; opacity: 0;\">68</text><text text-anchor=\"end\" transform=\"translate(427.125,7) rotate(270) translate(0,3)\" style=\"font-family: sans-serif; font-size: 10px; fill: #000; opacity: 1;\">69</text><text text-anchor=\"end\" transform=\"translate(433.375,7) rotate(270) translate(0,3)\" style=\"font-family: sans-serif; font-size: 10px; fill: #000; opacity: 0;\">70</text><text text-anchor=\"end\" transform=\"translate(439.625,7) rotate(270) translate(0,3)\" style=\"font-family: sans-serif; font-size: 10px; fill: #000; opacity: 1;\">71</text><text text-anchor=\"end\" transform=\"translate(445.875,7) rotate(270) translate(0,3)\" style=\"font-family: sans-serif; font-size: 10px; fill: #000; opacity: 0;\">72</text><text text-anchor=\"end\" transform=\"translate(452.125,7) rotate(270) translate(0,3)\" style=\"font-family: sans-serif; font-size: 10px; fill: #000; opacity: 1;\">73</text><text text-anchor=\"end\" transform=\"translate(458.375,7) rotate(270) translate(0,3)\" style=\"font-family: sans-serif; font-size: 10px; fill: #000; opacity: 0;\">74</text><text text-anchor=\"end\" transform=\"translate(464.625,7) rotate(270) translate(0,3)\" style=\"font-family: sans-serif; font-size: 10px; fill: #000; opacity: 1;\">75</text><text text-anchor=\"end\" transform=\"translate(470.875,7) rotate(270) translate(0,3)\" style=\"font-family: sans-serif; font-size: 10px; fill: #000; opacity: 0;\">76</text><text text-anchor=\"end\" transform=\"translate(477.125,7) rotate(270) translate(0,3)\" style=\"font-family: sans-serif; font-size: 10px; fill: #000; opacity: 1;\">77</text><text text-anchor=\"end\" transform=\"translate(483.375,7) rotate(270) translate(0,3)\" style=\"font-family: sans-serif; font-size: 10px; fill: #000; opacity: 0;\">78</text><text text-anchor=\"end\" transform=\"translate(489.625,7) rotate(270) translate(0,3)\" style=\"font-family: sans-serif; font-size: 10px; fill: #000; opacity: 1;\">79</text><text text-anchor=\"end\" transform=\"translate(495.875,7) rotate(270) translate(0,3)\" style=\"font-family: sans-serif; font-size: 10px; fill: #000; opacity: 0;\">80</text></g><g class=\"mark-rule role-axis-domain\" style=\"pointer-events: none;\"><line transform=\"translate(0,0)\" x2=\"500\" y2=\"0\" style=\"fill: none; stroke: #888; stroke-width: 1; opacity: 1;\"></line></g><g class=\"mark-text role-axis-title\" style=\"pointer-events: none;\"><text text-anchor=\"middle\" transform=\"translate(250,32.00000000000003)\" style=\"font-family: sans-serif; font-size: 11px; font-weight: bold; fill: #000; opacity: 1;\">day</text></g></g></g></g></g></g></g><g class=\"mark-group role-scope cell\"><g transform=\"translate(0,0)\"><path class=\"background\" d=\"M0.5,0.5h500v80h-500Z\" style=\"fill: none; stroke: #ddd;\"></path><g><g class=\"mark-group role-axis\"><g transform=\"translate(0.5,0.5)\"><path class=\"background\" d=\"M0,0h0v0h0Z\" style=\"pointer-events: none; fill: none;\"></path><g><g class=\"mark-rule role-axis-grid\" style=\"pointer-events: none;\"><line transform=\"translate(0,80)\" x2=\"500\" y2=\"0\" style=\"fill: none; stroke: #ddd; stroke-width: 1; opacity: 1;\"></line><line transform=\"translate(0,40)\" x2=\"500\" y2=\"0\" style=\"fill: none; stroke: #ddd; stroke-width: 1; opacity: 1;\"></line><line transform=\"translate(0,0)\" x2=\"500\" y2=\"0\" style=\"fill: none; stroke: #ddd; stroke-width: 1; opacity: 1;\"></line></g></g></g></g><g class=\"mark-rect role-mark child_marks\"><path d=\"M0.3124999999999716,0h5.625v80h-5.625Z\" style=\"fill: #4c78a8; opacity: 0.7;\"></path><path d=\"M6.562499999999972,1.0126582278480925h5.625v78.98734177215191h-5.625Z\" style=\"fill: #4c78a8; opacity: 0.7;\"></path><path d=\"M12.812499999999972,2.025316455696199h5.625v77.9746835443038h-5.625Z\" style=\"fill: #4c78a8; opacity: 0.7;\"></path><path d=\"M19.06249999999997,3.0379746835443058h5.625v76.9620253164557h-5.625Z\" style=\"fill: #4c78a8; opacity: 0.7;\"></path><path d=\"M25.31249999999997,4.050632911392412h5.625v75.94936708860759h-5.625Z\" style=\"fill: #4c78a8; opacity: 0.7;\"></path><path d=\"M31.56249999999997,5.063291139240505h5.625v74.9367088607595h-5.625Z\" style=\"fill: #4c78a8; opacity: 0.7;\"></path><path d=\"M37.81249999999997,6.0759493670886116h5.625v73.92405063291139h-5.625Z\" style=\"fill: #4c78a8; opacity: 0.7;\"></path><path d=\"M44.06249999999997,7.088607594936718h5.625v72.91139240506328h-5.625Z\" style=\"fill: #4c78a8; opacity: 0.7;\"></path><path d=\"M50.31249999999997,8.10126582278481h5.625v71.89873417721519h-5.625Z\" style=\"fill: #4c78a8; opacity: 0.7;\"></path><path d=\"M56.56249999999997,9.113924050632917h5.625v70.88607594936708h-5.625Z\" style=\"fill: #4c78a8; opacity: 0.7;\"></path><path d=\"M62.81249999999997,10.12658227848101h5.625v69.87341772151899h-5.625Z\" style=\"fill: #4c78a8; opacity: 0.7;\"></path><path d=\"M69.06249999999997,11.139240506329116h5.625v68.86075949367088h-5.625Z\" style=\"fill: #4c78a8; opacity: 0.7;\"></path><path d=\"M75.31249999999997,12.151898734177223h5.625v67.84810126582278h-5.625Z\" style=\"fill: #4c78a8; opacity: 0.7;\"></path><path d=\"M81.56249999999997,13.164556962025316h5.625v66.83544303797468h-5.625Z\" style=\"fill: #4c78a8; opacity: 0.7;\"></path><path d=\"M87.81249999999997,14.177215189873408h5.625v65.82278481012659h-5.625Z\" style=\"fill: #4c78a8; opacity: 0.7;\"></path><path d=\"M94.06249999999997,15.189873417721515h5.625v64.81012658227849h-5.625Z\" style=\"fill: #4c78a8; opacity: 0.7;\"></path><path d=\"M100.31249999999997,16.20253164556962h5.625v63.79746835443038h-5.625Z\" style=\"fill: #4c78a8; opacity: 0.7;\"></path><path d=\"M106.56249999999997,17.215189873417728h5.625v62.78481012658227h-5.625Z\" style=\"fill: #4c78a8; opacity: 0.7;\"></path><path d=\"M112.81249999999997,18.22784810126582h5.625v61.77215189873418h-5.625Z\" style=\"fill: #4c78a8; opacity: 0.7;\"></path><path d=\"M119.06249999999997,19.24050632911392h5.625v60.75949367088608h-5.625Z\" style=\"fill: #4c78a8; opacity: 0.7;\"></path><path d=\"M125.31249999999997,20.253164556962027h5.625v59.74683544303797h-5.625Z\" style=\"fill: #4c78a8; opacity: 0.7;\"></path><path d=\"M131.56249999999997,21.265822784810126h5.625v58.734177215189874h-5.625Z\" style=\"fill: #4c78a8; opacity: 0.7;\"></path><path d=\"M137.81249999999997,22.278481012658233h5.625v57.72151898734177h-5.625Z\" style=\"fill: #4c78a8; opacity: 0.7;\"></path><path d=\"M144.06249999999997,23.291139240506325h5.625v56.708860759493675h-5.625Z\" style=\"fill: #4c78a8; opacity: 0.7;\"></path><path d=\"M150.31249999999997,24.303797468354425h5.625v55.696202531645575h-5.625Z\" style=\"fill: #4c78a8; opacity: 0.7;\"></path><path d=\"M156.56249999999997,25.31645569620253h5.625v54.68354430379747h-5.625Z\" style=\"fill: #4c78a8; opacity: 0.7;\"></path><path d=\"M162.81249999999997,26.32911392405063h5.625v53.67088607594937h-5.625Z\" style=\"fill: #4c78a8; opacity: 0.7;\"></path><path d=\"M169.06249999999997,27.341772151898738h5.625v52.65822784810126h-5.625Z\" style=\"fill: #4c78a8; opacity: 0.7;\"></path><path d=\"M175.31249999999997,28.354430379746837h5.625v51.64556962025316h-5.625Z\" style=\"fill: #4c78a8; opacity: 0.7;\"></path><path d=\"M181.56249999999997,29.367088607594937h5.625v50.63291139240506h-5.625Z\" style=\"fill: #4c78a8; opacity: 0.7;\"></path><path d=\"M187.81249999999997,30.379746835443044h5.625v49.62025316455696h-5.625Z\" style=\"fill: #4c78a8; opacity: 0.7;\"></path><path d=\"M194.06249999999997,31.392405063291136h5.625v48.607594936708864h-5.625Z\" style=\"fill: #4c78a8; opacity: 0.7;\"></path><path d=\"M200.31249999999997,32.40506329113924h5.625v47.59493670886076h-5.625Z\" style=\"fill: #4c78a8; opacity: 0.7;\"></path><path d=\"M206.56249999999997,33.41772151898734h5.625v46.58227848101266h-5.625Z\" style=\"fill: #4c78a8; opacity: 0.7;\"></path><path d=\"M212.81249999999997,34.43037974683544h5.625v45.56962025316456h-5.625Z\" style=\"fill: #4c78a8; opacity: 0.7;\"></path><path d=\"M219.06249999999997,35.44303797468355h5.625v44.55696202531645h-5.625Z\" style=\"fill: #4c78a8; opacity: 0.7;\"></path><path d=\"M225.31249999999997,36.45569620253164h5.625v43.54430379746836h-5.625Z\" style=\"fill: #4c78a8; opacity: 0.7;\"></path><path d=\"M231.56249999999997,37.46835443037975h5.625v42.53164556962025h-5.625Z\" style=\"fill: #4c78a8; opacity: 0.7;\"></path><path d=\"M237.81249999999997,38.48101265822785h5.625v41.51898734177215h-5.625Z\" style=\"fill: #4c78a8; opacity: 0.7;\"></path><path d=\"M244.06249999999997,39.49367088607595h5.625v40.50632911392405h-5.625Z\" style=\"fill: #4c78a8; opacity: 0.7;\"></path><path d=\"M250.31249999999997,40.506329113924046h5.625v39.493670886075954h-5.625Z\" style=\"fill: #4c78a8; opacity: 0.7;\"></path><path d=\"M256.5625,41.51898734177215h5.625v38.48101265822785h-5.625Z\" style=\"fill: #4c78a8; opacity: 0.7;\"></path><path d=\"M262.8125,42.53164556962025h5.625v37.46835443037975h-5.625Z\" style=\"fill: #4c78a8; opacity: 0.7;\"></path><path d=\"M269.0625,43.54430379746836h5.625v36.45569620253164h-5.625Z\" style=\"fill: #4c78a8; opacity: 0.7;\"></path><path d=\"M275.3125,44.55696202531646h5.625v35.44303797468354h-5.625Z\" style=\"fill: #4c78a8; opacity: 0.7;\"></path><path d=\"M281.5625,45.56962025316456h5.625v34.43037974683544h-5.625Z\" style=\"fill: #4c78a8; opacity: 0.7;\"></path><path d=\"M287.8125,46.58227848101266h5.625v33.41772151898734h-5.625Z\" style=\"fill: #4c78a8; opacity: 0.7;\"></path><path d=\"M294.0625,47.59493670886076h5.625v32.40506329113924h-5.625Z\" style=\"fill: #4c78a8; opacity: 0.7;\"></path><path d=\"M300.3125,48.607594936708864h5.625v31.392405063291136h-5.625Z\" style=\"fill: #4c78a8; opacity: 0.7;\"></path><path d=\"M306.5625,49.62025316455696h5.625v30.379746835443044h-5.625Z\" style=\"fill: #4c78a8; opacity: 0.7;\"></path><path d=\"M312.8125,50.63291139240506h5.625v29.367088607594937h-5.625Z\" style=\"fill: #4c78a8; opacity: 0.7;\"></path><path d=\"M319.0625,51.64556962025316h5.625v28.354430379746837h-5.625Z\" style=\"fill: #4c78a8; opacity: 0.7;\"></path><path d=\"M325.3125,52.65822784810126h5.625v27.341772151898738h-5.625Z\" style=\"fill: #4c78a8; opacity: 0.7;\"></path><path d=\"M331.5625,53.67088607594937h5.625v26.32911392405063h-5.625Z\" style=\"fill: #4c78a8; opacity: 0.7;\"></path><path d=\"M337.8125,54.68354430379747h5.625v25.31645569620253h-5.625Z\" style=\"fill: #4c78a8; opacity: 0.7;\"></path><path d=\"M344.0625,55.69620253164557h5.625v24.303797468354432h-5.625Z\" style=\"fill: #4c78a8; opacity: 0.7;\"></path><path d=\"M350.3125,56.708860759493675h5.625v23.291139240506325h-5.625Z\" style=\"fill: #4c78a8; opacity: 0.7;\"></path><path d=\"M356.5625,57.721518987341774h5.625v22.278481012658226h-5.625Z\" style=\"fill: #4c78a8; opacity: 0.7;\"></path><path d=\"M362.8125,58.734177215189874h5.625v21.265822784810126h-5.625Z\" style=\"fill: #4c78a8; opacity: 0.7;\"></path><path d=\"M369.0625,59.74683544303797h5.625v20.253164556962027h-5.625Z\" style=\"fill: #4c78a8; opacity: 0.7;\"></path><path d=\"M375.3125,60.75949367088607h5.625v19.240506329113927h-5.625Z\" style=\"fill: #4c78a8; opacity: 0.7;\"></path><path d=\"M381.5625,61.77215189873418h5.625v18.22784810126582h-5.625Z\" style=\"fill: #4c78a8; opacity: 0.7;\"></path><path d=\"M387.8125,62.78481012658228h5.625v17.21518987341772h-5.625Z\" style=\"fill: #4c78a8; opacity: 0.7;\"></path><path d=\"M394.0625,63.79746835443038h5.625v16.20253164556962h-5.625Z\" style=\"fill: #4c78a8; opacity: 0.7;\"></path><path d=\"M400.3125,64.81012658227849h5.625v15.189873417721515h-5.625Z\" style=\"fill: #4c78a8; opacity: 0.7;\"></path><path d=\"M406.5625,65.82278481012658h5.625v14.177215189873422h-5.625Z\" style=\"fill: #4c78a8; opacity: 0.7;\"></path><path d=\"M412.8125,66.83544303797468h5.625v13.164556962025316h-5.625Z\" style=\"fill: #4c78a8; opacity: 0.7;\"></path><path d=\"M419.0625,67.84810126582278h5.625v12.151898734177223h-5.625Z\" style=\"fill: #4c78a8; opacity: 0.7;\"></path><path d=\"M425.3125,68.86075949367088h5.625v11.139240506329116h-5.625Z\" style=\"fill: #4c78a8; opacity: 0.7;\"></path><path d=\"M431.5625,69.87341772151899h5.625v10.12658227848101h-5.625Z\" style=\"fill: #4c78a8; opacity: 0.7;\"></path><path d=\"M437.8125,70.8860759493671h5.625v9.113924050632903h-5.625Z\" style=\"fill: #4c78a8; opacity: 0.7;\"></path><path d=\"M444.0625,71.89873417721519h5.625v8.10126582278481h-5.625Z\" style=\"fill: #4c78a8; opacity: 0.7;\"></path><path d=\"M450.3125,72.9113924050633h5.625v7.088607594936704h-5.625Z\" style=\"fill: #4c78a8; opacity: 0.7;\"></path><path d=\"M456.5625,73.92405063291139h5.625v6.0759493670886116h-5.625Z\" style=\"fill: #4c78a8; opacity: 0.7;\"></path><path d=\"M462.8125,74.9367088607595h5.625v5.063291139240505h-5.625Z\" style=\"fill: #4c78a8; opacity: 0.7;\"></path><path d=\"M469.0625,75.9493670886076h5.625v4.050632911392398h-5.625Z\" style=\"fill: #4c78a8; opacity: 0.7;\"></path><path d=\"M475.3125,76.9620253164557h5.625v3.0379746835443058h-5.625Z\" style=\"fill: #4c78a8; opacity: 0.7;\"></path><path d=\"M481.5625,77.9746835443038h5.625v2.025316455696199h-5.625Z\" style=\"fill: #4c78a8; opacity: 0.7;\"></path><path d=\"M487.8125,78.9873417721519h5.625v1.0126582278481067h-5.625Z\" style=\"fill: #4c78a8; opacity: 0.7;\"></path><path d=\"M494.0625,80h5.625v0h-5.625Z\" style=\"fill: #4c78a8; opacity: 0.7;\"></path></g></g></g><g transform=\"translate(0,102)\"><path class=\"background\" d=\"M0.5,0.5h500v80h-500Z\" style=\"fill: none; stroke: #ddd;\"></path><g><g class=\"mark-group role-axis\"><g transform=\"translate(0.5,0.5)\"><path class=\"background\" d=\"M0,0h0v0h0Z\" style=\"pointer-events: none; fill: none;\"></path><g><g class=\"mark-rule role-axis-grid\" style=\"pointer-events: none;\"><line transform=\"translate(0,80)\" x2=\"500\" y2=\"0\" style=\"fill: none; stroke: #ddd; stroke-width: 1; opacity: 1;\"></line><line transform=\"translate(0,40)\" x2=\"500\" y2=\"0\" style=\"fill: none; stroke: #ddd; stroke-width: 1; opacity: 1;\"></line><line transform=\"translate(0,0)\" x2=\"500\" y2=\"0\" style=\"fill: none; stroke: #ddd; stroke-width: 1; opacity: 1;\"></line></g></g></g></g><g class=\"mark-rect role-mark child_marks\"><path d=\"M0.3124999999999716,0h5.625v80h-5.625Z\" style=\"fill: #4c78a8; opacity: 0.7;\"></path><path d=\"M6.562499999999972,0h5.625v80h-5.625Z\" style=\"fill: #4c78a8; opacity: 0.7;\"></path><path d=\"M12.812499999999972,0h5.625v80h-5.625Z\" style=\"fill: #4c78a8; opacity: 0.7;\"></path><path d=\"M19.06249999999997,0h5.625v80h-5.625Z\" style=\"fill: #4c78a8; opacity: 0.7;\"></path><path d=\"M25.31249999999997,0h5.625v80h-5.625Z\" style=\"fill: #4c78a8; opacity: 0.7;\"></path><path d=\"M31.56249999999997,0h5.625v80h-5.625Z\" style=\"fill: #4c78a8; opacity: 0.7;\"></path><path d=\"M37.81249999999997,0h5.625v80h-5.625Z\" style=\"fill: #4c78a8; opacity: 0.7;\"></path><path d=\"M44.06249999999997,0h5.625v80h-5.625Z\" style=\"fill: #4c78a8; opacity: 0.7;\"></path><path d=\"M50.31249999999997,0h5.625v80h-5.625Z\" style=\"fill: #4c78a8; opacity: 0.7;\"></path><path d=\"M56.56249999999997,80h5.625v0h-5.625Z\" style=\"fill: #4c78a8; opacity: 0.7;\"></path><path d=\"M62.81249999999997,0h5.625v80h-5.625Z\" style=\"fill: #4c78a8; opacity: 0.7;\"></path><path d=\"M69.06249999999997,0h5.625v80h-5.625Z\" style=\"fill: #4c78a8; opacity: 0.7;\"></path><path d=\"M75.31249999999997,0h5.625v80h-5.625Z\" style=\"fill: #4c78a8; opacity: 0.7;\"></path><path d=\"M81.56249999999997,0h5.625v80h-5.625Z\" style=\"fill: #4c78a8; opacity: 0.7;\"></path><path d=\"M87.81249999999997,0h5.625v80h-5.625Z\" style=\"fill: #4c78a8; opacity: 0.7;\"></path><path d=\"M94.06249999999997,80h5.625v0h-5.625Z\" style=\"fill: #4c78a8; opacity: 0.7;\"></path><path d=\"M100.31249999999997,0h5.625v80h-5.625Z\" style=\"fill: #4c78a8; opacity: 0.7;\"></path><path d=\"M106.56249999999997,0h5.625v80h-5.625Z\" style=\"fill: #4c78a8; opacity: 0.7;\"></path><path d=\"M112.81249999999997,0h5.625v80h-5.625Z\" style=\"fill: #4c78a8; opacity: 0.7;\"></path><path d=\"M119.06249999999997,0h5.625v80h-5.625Z\" style=\"fill: #4c78a8; opacity: 0.7;\"></path><path d=\"M125.31249999999997,80h5.625v0h-5.625Z\" style=\"fill: #4c78a8; opacity: 0.7;\"></path><path d=\"M131.56249999999997,0h5.625v80h-5.625Z\" style=\"fill: #4c78a8; opacity: 0.7;\"></path><path d=\"M137.81249999999997,0h5.625v80h-5.625Z\" style=\"fill: #4c78a8; opacity: 0.7;\"></path><path d=\"M144.06249999999997,0h5.625v80h-5.625Z\" style=\"fill: #4c78a8; opacity: 0.7;\"></path><path d=\"M150.31249999999997,80h5.625v0h-5.625Z\" style=\"fill: #4c78a8; opacity: 0.7;\"></path><path d=\"M156.56249999999997,0h5.625v80h-5.625Z\" style=\"fill: #4c78a8; opacity: 0.7;\"></path><path d=\"M162.81249999999997,0h5.625v80h-5.625Z\" style=\"fill: #4c78a8; opacity: 0.7;\"></path><path d=\"M169.06249999999997,80h5.625v0h-5.625Z\" style=\"fill: #4c78a8; opacity: 0.7;\"></path><path d=\"M175.31249999999997,0h5.625v80h-5.625Z\" style=\"fill: #4c78a8; opacity: 0.7;\"></path><path d=\"M181.56249999999997,80h5.625v0h-5.625Z\" style=\"fill: #4c78a8; opacity: 0.7;\"></path><path d=\"M187.81249999999997,0h5.625v80h-5.625Z\" style=\"fill: #4c78a8; opacity: 0.7;\"></path><path d=\"M194.06249999999997,0h5.625v80h-5.625Z\" style=\"fill: #4c78a8; opacity: 0.7;\"></path><path d=\"M200.31249999999997,80h5.625v0h-5.625Z\" style=\"fill: #4c78a8; opacity: 0.7;\"></path><path d=\"M206.56249999999997,0h5.625v80h-5.625Z\" style=\"fill: #4c78a8; opacity: 0.7;\"></path><path d=\"M212.81249999999997,80h5.625v0h-5.625Z\" style=\"fill: #4c78a8; opacity: 0.7;\"></path><path d=\"M219.06249999999997,0h5.625v80h-5.625Z\" style=\"fill: #4c78a8; opacity: 0.7;\"></path><path d=\"M225.31249999999997,0h5.625v80h-5.625Z\" style=\"fill: #4c78a8; opacity: 0.7;\"></path><path d=\"M231.56249999999997,80h5.625v0h-5.625Z\" style=\"fill: #4c78a8; opacity: 0.7;\"></path><path d=\"M237.81249999999997,0h5.625v80h-5.625Z\" style=\"fill: #4c78a8; opacity: 0.7;\"></path><path d=\"M244.06249999999997,80h5.625v0h-5.625Z\" style=\"fill: #4c78a8; opacity: 0.7;\"></path><path d=\"M250.31249999999997,0h5.625v80h-5.625Z\" style=\"fill: #4c78a8; opacity: 0.7;\"></path><path d=\"M256.5625,80h5.625v0h-5.625Z\" style=\"fill: #4c78a8; opacity: 0.7;\"></path><path d=\"M262.8125,0h5.625v80h-5.625Z\" style=\"fill: #4c78a8; opacity: 0.7;\"></path><path d=\"M269.0625,80h5.625v0h-5.625Z\" style=\"fill: #4c78a8; opacity: 0.7;\"></path><path d=\"M275.3125,80h5.625v0h-5.625Z\" style=\"fill: #4c78a8; opacity: 0.7;\"></path><path d=\"M281.5625,0h5.625v80h-5.625Z\" style=\"fill: #4c78a8; opacity: 0.7;\"></path><path d=\"M287.8125,80h5.625v0h-5.625Z\" style=\"fill: #4c78a8; opacity: 0.7;\"></path><path d=\"M294.0625,0h5.625v80h-5.625Z\" style=\"fill: #4c78a8; opacity: 0.7;\"></path><path d=\"M300.3125,80h5.625v0h-5.625Z\" style=\"fill: #4c78a8; opacity: 0.7;\"></path><path d=\"M306.5625,80h5.625v0h-5.625Z\" style=\"fill: #4c78a8; opacity: 0.7;\"></path><path d=\"M312.8125,0h5.625v80h-5.625Z\" style=\"fill: #4c78a8; opacity: 0.7;\"></path><path d=\"M319.0625,80h5.625v0h-5.625Z\" style=\"fill: #4c78a8; opacity: 0.7;\"></path><path d=\"M325.3125,0h5.625v80h-5.625Z\" style=\"fill: #4c78a8; opacity: 0.7;\"></path><path d=\"M331.5625,80h5.625v0h-5.625Z\" style=\"fill: #4c78a8; opacity: 0.7;\"></path><path d=\"M337.8125,80h5.625v0h-5.625Z\" style=\"fill: #4c78a8; opacity: 0.7;\"></path><path d=\"M344.0625,0h5.625v80h-5.625Z\" style=\"fill: #4c78a8; opacity: 0.7;\"></path><path d=\"M350.3125,80h5.625v0h-5.625Z\" style=\"fill: #4c78a8; opacity: 0.7;\"></path><path d=\"M356.5625,80h5.625v0h-5.625Z\" style=\"fill: #4c78a8; opacity: 0.7;\"></path><path d=\"M362.8125,80h5.625v0h-5.625Z\" style=\"fill: #4c78a8; opacity: 0.7;\"></path><path d=\"M369.0625,0h5.625v80h-5.625Z\" style=\"fill: #4c78a8; opacity: 0.7;\"></path><path d=\"M375.3125,80h5.625v0h-5.625Z\" style=\"fill: #4c78a8; opacity: 0.7;\"></path><path d=\"M381.5625,80h5.625v0h-5.625Z\" style=\"fill: #4c78a8; opacity: 0.7;\"></path><path d=\"M387.8125,80h5.625v0h-5.625Z\" style=\"fill: #4c78a8; opacity: 0.7;\"></path><path d=\"M394.0625,80h5.625v0h-5.625Z\" style=\"fill: #4c78a8; opacity: 0.7;\"></path><path d=\"M400.3125,0h5.625v80h-5.625Z\" style=\"fill: #4c78a8; opacity: 0.7;\"></path><path d=\"M406.5625,80h5.625v0h-5.625Z\" style=\"fill: #4c78a8; opacity: 0.7;\"></path><path d=\"M412.8125,80h5.625v0h-5.625Z\" style=\"fill: #4c78a8; opacity: 0.7;\"></path><path d=\"M419.0625,80h5.625v0h-5.625Z\" style=\"fill: #4c78a8; opacity: 0.7;\"></path><path d=\"M425.3125,80h5.625v0h-5.625Z\" style=\"fill: #4c78a8; opacity: 0.7;\"></path><path d=\"M431.5625,80h5.625v0h-5.625Z\" style=\"fill: #4c78a8; opacity: 0.7;\"></path><path d=\"M437.8125,0h5.625v80h-5.625Z\" style=\"fill: #4c78a8; opacity: 0.7;\"></path><path d=\"M444.0625,80h5.625v0h-5.625Z\" style=\"fill: #4c78a8; opacity: 0.7;\"></path><path d=\"M450.3125,80h5.625v0h-5.625Z\" style=\"fill: #4c78a8; opacity: 0.7;\"></path><path d=\"M456.5625,80h5.625v0h-5.625Z\" style=\"fill: #4c78a8; opacity: 0.7;\"></path><path d=\"M462.8125,80h5.625v0h-5.625Z\" style=\"fill: #4c78a8; opacity: 0.7;\"></path><path d=\"M469.0625,80h5.625v0h-5.625Z\" style=\"fill: #4c78a8; opacity: 0.7;\"></path><path d=\"M475.3125,80h5.625v0h-5.625Z\" style=\"fill: #4c78a8; opacity: 0.7;\"></path><path d=\"M481.5625,80h5.625v0h-5.625Z\" style=\"fill: #4c78a8; opacity: 0.7;\"></path><path d=\"M487.8125,80h5.625v0h-5.625Z\" style=\"fill: #4c78a8; opacity: 0.7;\"></path><path d=\"M494.0625,80h5.625v0h-5.625Z\" style=\"fill: #4c78a8; opacity: 0.7;\"></path></g></g></g></g></g></g></g></g></svg>"
      ],
      "text/plain": [
       "VegaLite.VLSpec{:plot}"
      ]
     },
     "execution_count": 6,
     "metadata": {},
     "output_type": "execute_result"
    }
   ],
   "source": [
    "days = 1:80\n",
    "ramp = ramp_down(length(days))\n",
    "rounded = sum_up_round(ramp)\n",
    "\n",
    "data = vcat(DataFrame(day=days, dose=ramp, mode=\"continuous\"),\n",
    "            DataFrame(day=days, dose=rounded, mode=\"discrete\"))\n",
    "@vlplot(\n",
    "    mark={:bar, opacity=0.7},\n",
    "    height=80, width=500, data=data,\n",
    "    x=\"day:o\", y={:dose, stack=nothing}, row=:mode\n",
    ")"
   ]
  },
  {
   "cell_type": "markdown",
   "metadata": {},
   "source": [
    "As expected, the frequency of 1 outputs is decreasing, but not monotonically!\n",
    "\n",
    "Let's explore some more time windows:"
   ]
  },
  {
   "cell_type": "code",
   "execution_count": 7,
   "metadata": {},
   "outputs": [
    {
     "data": {
      "application/vnd.vegalite.v3+json": {
       "data": {
        "values": [
         {
          "day": 1,
          "dose": 1,
          "mode": "continuous",
          "weeks": 1
         },
         {
          "day": 2,
          "dose": 0.8333333333333334,
          "mode": "continuous",
          "weeks": 1
         },
         {
          "day": 3,
          "dose": 0.6666666666666666,
          "mode": "continuous",
          "weeks": 1
         },
         {
          "day": 4,
          "dose": 0.5,
          "mode": "continuous",
          "weeks": 1
         },
         {
          "day": 5,
          "dose": 0.3333333333333333,
          "mode": "continuous",
          "weeks": 1
         },
         {
          "day": 6,
          "dose": 0.16666666666666666,
          "mode": "continuous",
          "weeks": 1
         },
         {
          "day": 7,
          "dose": 0,
          "mode": "continuous",
          "weeks": 1
         },
         {
          "day": 1,
          "dose": 1,
          "mode": "binary",
          "weeks": 1
         },
         {
          "day": 2,
          "dose": 1,
          "mode": "binary",
          "weeks": 1
         },
         {
          "day": 3,
          "dose": 0,
          "mode": "binary",
          "weeks": 1
         },
         {
          "day": 4,
          "dose": 1,
          "mode": "binary",
          "weeks": 1
         },
         {
          "day": 5,
          "dose": 0,
          "mode": "binary",
          "weeks": 1
         },
         {
          "day": 6,
          "dose": 0,
          "mode": "binary",
          "weeks": 1
         },
         {
          "day": 7,
          "dose": 0,
          "mode": "binary",
          "weeks": 1
         },
         {
          "day": 1,
          "dose": 1,
          "mode": "continuous",
          "weeks": 2
         },
         {
          "day": 2,
          "dose": 0.9230769230769231,
          "mode": "continuous",
          "weeks": 2
         },
         {
          "day": 3,
          "dose": 0.8461538461538461,
          "mode": "continuous",
          "weeks": 2
         },
         {
          "day": 4,
          "dose": 0.7692307692307693,
          "mode": "continuous",
          "weeks": 2
         },
         {
          "day": 5,
          "dose": 0.6923076923076923,
          "mode": "continuous",
          "weeks": 2
         },
         {
          "day": 6,
          "dose": 0.6153846153846154,
          "mode": "continuous",
          "weeks": 2
         },
         {
          "day": 7,
          "dose": 0.5384615384615384,
          "mode": "continuous",
          "weeks": 2
         },
         {
          "day": 8,
          "dose": 0.46153846153846156,
          "mode": "continuous",
          "weeks": 2
         },
         {
          "day": 9,
          "dose": 0.38461538461538464,
          "mode": "continuous",
          "weeks": 2
         },
         {
          "day": 10,
          "dose": 0.3076923076923077,
          "mode": "continuous",
          "weeks": 2
         },
         {
          "day": 11,
          "dose": 0.23076923076923078,
          "mode": "continuous",
          "weeks": 2
         },
         {
          "day": 12,
          "dose": 0.15384615384615385,
          "mode": "continuous",
          "weeks": 2
         },
         {
          "day": 13,
          "dose": 0.07692307692307693,
          "mode": "continuous",
          "weeks": 2
         },
         {
          "day": 14,
          "dose": 0,
          "mode": "continuous",
          "weeks": 2
         },
         {
          "day": 1,
          "dose": 1,
          "mode": "binary",
          "weeks": 2
         },
         {
          "day": 2,
          "dose": 1,
          "mode": "binary",
          "weeks": 2
         },
         {
          "day": 3,
          "dose": 1,
          "mode": "binary",
          "weeks": 2
         },
         {
          "day": 4,
          "dose": 1,
          "mode": "binary",
          "weeks": 2
         },
         {
          "day": 5,
          "dose": 0,
          "mode": "binary",
          "weeks": 2
         },
         {
          "day": 6,
          "dose": 1,
          "mode": "binary",
          "weeks": 2
         },
         {
          "day": 7,
          "dose": 0,
          "mode": "binary",
          "weeks": 2
         },
         {
          "day": 8,
          "dose": 1,
          "mode": "binary",
          "weeks": 2
         },
         {
          "day": 9,
          "dose": 0,
          "mode": "binary",
          "weeks": 2
         },
         {
          "day": 10,
          "dose": 1,
          "mode": "binary",
          "weeks": 2
         },
         {
          "day": 11,
          "dose": 0,
          "mode": "binary",
          "weeks": 2
         },
         {
          "day": 12,
          "dose": 0,
          "mode": "binary",
          "weeks": 2
         },
         {
          "day": 13,
          "dose": 0,
          "mode": "binary",
          "weeks": 2
         },
         {
          "day": 14,
          "dose": 0,
          "mode": "binary",
          "weeks": 2
         },
         {
          "day": 1,
          "dose": 1,
          "mode": "continuous",
          "weeks": 3
         },
         {
          "day": 2,
          "dose": 0.95,
          "mode": "continuous",
          "weeks": 3
         },
         {
          "day": 3,
          "dose": 0.9,
          "mode": "continuous",
          "weeks": 3
         },
         {
          "day": 4,
          "dose": 0.85,
          "mode": "continuous",
          "weeks": 3
         },
         {
          "day": 5,
          "dose": 0.8,
          "mode": "continuous",
          "weeks": 3
         },
         {
          "day": 6,
          "dose": 0.75,
          "mode": "continuous",
          "weeks": 3
         },
         {
          "day": 7,
          "dose": 0.7,
          "mode": "continuous",
          "weeks": 3
         },
         {
          "day": 8,
          "dose": 0.65,
          "mode": "continuous",
          "weeks": 3
         },
         {
          "day": 9,
          "dose": 0.6,
          "mode": "continuous",
          "weeks": 3
         },
         {
          "day": 10,
          "dose": 0.55,
          "mode": "continuous",
          "weeks": 3
         },
         {
          "day": 11,
          "dose": 0.5,
          "mode": "continuous",
          "weeks": 3
         },
         {
          "day": 12,
          "dose": 0.45,
          "mode": "continuous",
          "weeks": 3
         },
         {
          "day": 13,
          "dose": 0.4,
          "mode": "continuous",
          "weeks": 3
         },
         {
          "day": 14,
          "dose": 0.35,
          "mode": "continuous",
          "weeks": 3
         },
         {
          "day": 15,
          "dose": 0.3,
          "mode": "continuous",
          "weeks": 3
         },
         {
          "day": 16,
          "dose": 0.25,
          "mode": "continuous",
          "weeks": 3
         },
         {
          "day": 17,
          "dose": 0.2,
          "mode": "continuous",
          "weeks": 3
         },
         {
          "day": 18,
          "dose": 0.15,
          "mode": "continuous",
          "weeks": 3
         },
         {
          "day": 19,
          "dose": 0.1,
          "mode": "continuous",
          "weeks": 3
         },
         {
          "day": 20,
          "dose": 0.05,
          "mode": "continuous",
          "weeks": 3
         },
         {
          "day": 21,
          "dose": 0,
          "mode": "continuous",
          "weeks": 3
         },
         {
          "day": 1,
          "dose": 1,
          "mode": "binary",
          "weeks": 3
         },
         {
          "day": 2,
          "dose": 1,
          "mode": "binary",
          "weeks": 3
         },
         {
          "day": 3,
          "dose": 1,
          "mode": "binary",
          "weeks": 3
         },
         {
          "day": 4,
          "dose": 1,
          "mode": "binary",
          "weeks": 3
         },
         {
          "day": 5,
          "dose": 0,
          "mode": "binary",
          "weeks": 3
         },
         {
          "day": 6,
          "dose": 1,
          "mode": "binary",
          "weeks": 3
         },
         {
          "day": 7,
          "dose": 1,
          "mode": "binary",
          "weeks": 3
         },
         {
          "day": 8,
          "dose": 1,
          "mode": "binary",
          "weeks": 3
         },
         {
          "day": 9,
          "dose": 0,
          "mode": "binary",
          "weeks": 3
         },
         {
          "day": 10,
          "dose": 1,
          "mode": "binary",
          "weeks": 3
         },
         {
          "day": 11,
          "dose": 0,
          "mode": "binary",
          "weeks": 3
         },
         {
          "day": 12,
          "dose": 1,
          "mode": "binary",
          "weeks": 3
         },
         {
          "day": 13,
          "dose": 0,
          "mode": "binary",
          "weeks": 3
         },
         {
          "day": 14,
          "dose": 0,
          "mode": "binary",
          "weeks": 3
         },
         {
          "day": 15,
          "dose": 1,
          "mode": "binary",
          "weeks": 3
         },
         {
          "day": 16,
          "dose": 0,
          "mode": "binary",
          "weeks": 3
         },
         {
          "day": 17,
          "dose": 0,
          "mode": "binary",
          "weeks": 3
         },
         {
          "day": 18,
          "dose": 0,
          "mode": "binary",
          "weeks": 3
         },
         {
          "day": 19,
          "dose": 0,
          "mode": "binary",
          "weeks": 3
         },
         {
          "day": 20,
          "dose": 0,
          "mode": "binary",
          "weeks": 3
         },
         {
          "day": 21,
          "dose": 0,
          "mode": "binary",
          "weeks": 3
         },
         {
          "day": 1,
          "dose": 1,
          "mode": "continuous",
          "weeks": 4
         },
         {
          "day": 2,
          "dose": 0.9629629629629629,
          "mode": "continuous",
          "weeks": 4
         },
         {
          "day": 3,
          "dose": 0.9259259259259259,
          "mode": "continuous",
          "weeks": 4
         },
         {
          "day": 4,
          "dose": 0.8888888888888888,
          "mode": "continuous",
          "weeks": 4
         },
         {
          "day": 5,
          "dose": 0.8518518518518519,
          "mode": "continuous",
          "weeks": 4
         },
         {
          "day": 6,
          "dose": 0.8148148148148148,
          "mode": "continuous",
          "weeks": 4
         },
         {
          "day": 7,
          "dose": 0.7777777777777778,
          "mode": "continuous",
          "weeks": 4
         },
         {
          "day": 8,
          "dose": 0.7407407407407407,
          "mode": "continuous",
          "weeks": 4
         },
         {
          "day": 9,
          "dose": 0.7037037037037037,
          "mode": "continuous",
          "weeks": 4
         },
         {
          "day": 10,
          "dose": 0.6666666666666666,
          "mode": "continuous",
          "weeks": 4
         },
         {
          "day": 11,
          "dose": 0.6296296296296297,
          "mode": "continuous",
          "weeks": 4
         },
         {
          "day": 12,
          "dose": 0.5925925925925926,
          "mode": "continuous",
          "weeks": 4
         },
         {
          "day": 13,
          "dose": 0.5555555555555556,
          "mode": "continuous",
          "weeks": 4
         },
         {
          "day": 14,
          "dose": 0.5185185185185185,
          "mode": "continuous",
          "weeks": 4
         },
         {
          "day": 15,
          "dose": 0.48148148148148145,
          "mode": "continuous",
          "weeks": 4
         },
         {
          "day": 16,
          "dose": 0.4444444444444444,
          "mode": "continuous",
          "weeks": 4
         },
         {
          "day": 17,
          "dose": 0.4074074074074074,
          "mode": "continuous",
          "weeks": 4
         },
         {
          "day": 18,
          "dose": 0.37037037037037035,
          "mode": "continuous",
          "weeks": 4
         },
         {
          "day": 19,
          "dose": 0.3333333333333333,
          "mode": "continuous",
          "weeks": 4
         },
         {
          "day": 20,
          "dose": 0.2962962962962963,
          "mode": "continuous",
          "weeks": 4
         },
         {
          "day": 21,
          "dose": 0.25925925925925924,
          "mode": "continuous",
          "weeks": 4
         },
         {
          "day": 22,
          "dose": 0.2222222222222222,
          "mode": "continuous",
          "weeks": 4
         },
         {
          "day": 23,
          "dose": 0.18518518518518517,
          "mode": "continuous",
          "weeks": 4
         },
         {
          "day": 24,
          "dose": 0.14814814814814814,
          "mode": "continuous",
          "weeks": 4
         },
         {
          "day": 25,
          "dose": 0.1111111111111111,
          "mode": "continuous",
          "weeks": 4
         },
         {
          "day": 26,
          "dose": 0.07407407407407407,
          "mode": "continuous",
          "weeks": 4
         },
         {
          "day": 27,
          "dose": 0.037037037037037035,
          "mode": "continuous",
          "weeks": 4
         },
         {
          "day": 28,
          "dose": 0,
          "mode": "continuous",
          "weeks": 4
         },
         {
          "day": 1,
          "dose": 1,
          "mode": "binary",
          "weeks": 4
         },
         {
          "day": 2,
          "dose": 1,
          "mode": "binary",
          "weeks": 4
         },
         {
          "day": 3,
          "dose": 1,
          "mode": "binary",
          "weeks": 4
         },
         {
          "day": 4,
          "dose": 1,
          "mode": "binary",
          "weeks": 4
         },
         {
          "day": 5,
          "dose": 1,
          "mode": "binary",
          "weeks": 4
         },
         {
          "day": 6,
          "dose": 0,
          "mode": "binary",
          "weeks": 4
         },
         {
          "day": 7,
          "dose": 1,
          "mode": "binary",
          "weeks": 4
         },
         {
          "day": 8,
          "dose": 1,
          "mode": "binary",
          "weeks": 4
         },
         {
          "day": 9,
          "dose": 1,
          "mode": "binary",
          "weeks": 4
         },
         {
          "day": 10,
          "dose": 0,
          "mode": "binary",
          "weeks": 4
         },
         {
          "day": 11,
          "dose": 1,
          "mode": "binary",
          "weeks": 4
         },
         {
          "day": 12,
          "dose": 1,
          "mode": "binary",
          "weeks": 4
         },
         {
          "day": 13,
          "dose": 0,
          "mode": "binary",
          "weeks": 4
         },
         {
          "day": 14,
          "dose": 1,
          "mode": "binary",
          "weeks": 4
         },
         {
          "day": 15,
          "dose": 0,
          "mode": "binary",
          "weeks": 4
         },
         {
          "day": 16,
          "dose": 1,
          "mode": "binary",
          "weeks": 4
         },
         {
          "day": 17,
          "dose": 0,
          "mode": "binary",
          "weeks": 4
         },
         {
          "day": 18,
          "dose": 0,
          "mode": "binary",
          "weeks": 4
         },
         {
          "day": 19,
          "dose": 1,
          "mode": "binary",
          "weeks": 4
         },
         {
          "day": 20,
          "dose": 0,
          "mode": "binary",
          "weeks": 4
         },
         {
          "day": 21,
          "dose": 0,
          "mode": "binary",
          "weeks": 4
         },
         {
          "day": 22,
          "dose": 0,
          "mode": "binary",
          "weeks": 4
         },
         {
          "day": 23,
          "dose": 1,
          "mode": "binary",
          "weeks": 4
         },
         {
          "day": 24,
          "dose": 0,
          "mode": "binary",
          "weeks": 4
         },
         {
          "day": 25,
          "dose": 0,
          "mode": "binary",
          "weeks": 4
         },
         {
          "day": 26,
          "dose": 0,
          "mode": "binary",
          "weeks": 4
         },
         {
          "day": 27,
          "dose": 0,
          "mode": "binary",
          "weeks": 4
         },
         {
          "day": 28,
          "dose": 0,
          "mode": "binary",
          "weeks": 4
         },
         {
          "day": 1,
          "dose": 1,
          "mode": "continuous",
          "weeks": 5
         },
         {
          "day": 2,
          "dose": 0.9705882352941176,
          "mode": "continuous",
          "weeks": 5
         },
         {
          "day": 3,
          "dose": 0.9411764705882353,
          "mode": "continuous",
          "weeks": 5
         },
         {
          "day": 4,
          "dose": 0.9117647058823529,
          "mode": "continuous",
          "weeks": 5
         },
         {
          "day": 5,
          "dose": 0.8823529411764706,
          "mode": "continuous",
          "weeks": 5
         },
         {
          "day": 6,
          "dose": 0.8529411764705882,
          "mode": "continuous",
          "weeks": 5
         },
         {
          "day": 7,
          "dose": 0.8235294117647058,
          "mode": "continuous",
          "weeks": 5
         },
         {
          "day": 8,
          "dose": 0.7941176470588235,
          "mode": "continuous",
          "weeks": 5
         },
         {
          "day": 9,
          "dose": 0.7647058823529411,
          "mode": "continuous",
          "weeks": 5
         },
         {
          "day": 10,
          "dose": 0.7352941176470589,
          "mode": "continuous",
          "weeks": 5
         },
         {
          "day": 11,
          "dose": 0.7058823529411765,
          "mode": "continuous",
          "weeks": 5
         },
         {
          "day": 12,
          "dose": 0.6764705882352942,
          "mode": "continuous",
          "weeks": 5
         },
         {
          "day": 13,
          "dose": 0.6470588235294118,
          "mode": "continuous",
          "weeks": 5
         },
         {
          "day": 14,
          "dose": 0.6176470588235294,
          "mode": "continuous",
          "weeks": 5
         },
         {
          "day": 15,
          "dose": 0.5882352941176471,
          "mode": "continuous",
          "weeks": 5
         },
         {
          "day": 16,
          "dose": 0.5588235294117647,
          "mode": "continuous",
          "weeks": 5
         },
         {
          "day": 17,
          "dose": 0.5294117647058824,
          "mode": "continuous",
          "weeks": 5
         },
         {
          "day": 18,
          "dose": 0.5,
          "mode": "continuous",
          "weeks": 5
         },
         {
          "day": 19,
          "dose": 0.47058823529411764,
          "mode": "continuous",
          "weeks": 5
         },
         {
          "day": 20,
          "dose": 0.4411764705882353,
          "mode": "continuous",
          "weeks": 5
         },
         {
          "day": 21,
          "dose": 0.4117647058823529,
          "mode": "continuous",
          "weeks": 5
         },
         {
          "day": 22,
          "dose": 0.38235294117647056,
          "mode": "continuous",
          "weeks": 5
         },
         {
          "day": 23,
          "dose": 0.35294117647058826,
          "mode": "continuous",
          "weeks": 5
         },
         {
          "day": 24,
          "dose": 0.3235294117647059,
          "mode": "continuous",
          "weeks": 5
         },
         {
          "day": 25,
          "dose": 0.29411764705882354,
          "mode": "continuous",
          "weeks": 5
         },
         {
          "day": 26,
          "dose": 0.2647058823529412,
          "mode": "continuous",
          "weeks": 5
         },
         {
          "day": 27,
          "dose": 0.23529411764705882,
          "mode": "continuous",
          "weeks": 5
         },
         {
          "day": 28,
          "dose": 0.20588235294117646,
          "mode": "continuous",
          "weeks": 5
         },
         {
          "day": 29,
          "dose": 0.17647058823529413,
          "mode": "continuous",
          "weeks": 5
         },
         {
          "day": 30,
          "dose": 0.14705882352941177,
          "mode": "continuous",
          "weeks": 5
         },
         {
          "day": 31,
          "dose": 0.11764705882352941,
          "mode": "continuous",
          "weeks": 5
         },
         {
          "day": 32,
          "dose": 0.08823529411764706,
          "mode": "continuous",
          "weeks": 5
         },
         {
          "day": 33,
          "dose": 0.058823529411764705,
          "mode": "continuous",
          "weeks": 5
         },
         {
          "day": 34,
          "dose": 0.029411764705882353,
          "mode": "continuous",
          "weeks": 5
         },
         {
          "day": 35,
          "dose": 0,
          "mode": "continuous",
          "weeks": 5
         },
         {
          "day": 1,
          "dose": 1,
          "mode": "binary",
          "weeks": 5
         },
         {
          "day": 2,
          "dose": 1,
          "mode": "binary",
          "weeks": 5
         },
         {
          "day": 3,
          "dose": 1,
          "mode": "binary",
          "weeks": 5
         },
         {
          "day": 4,
          "dose": 1,
          "mode": "binary",
          "weeks": 5
         },
         {
          "day": 5,
          "dose": 1,
          "mode": "binary",
          "weeks": 5
         },
         {
          "day": 6,
          "dose": 1,
          "mode": "binary",
          "weeks": 5
         },
         {
          "day": 7,
          "dose": 0,
          "mode": "binary",
          "weeks": 5
         },
         {
          "day": 8,
          "dose": 1,
          "mode": "binary",
          "weeks": 5
         },
         {
          "day": 9,
          "dose": 1,
          "mode": "binary",
          "weeks": 5
         },
         {
          "day": 10,
          "dose": 1,
          "mode": "binary",
          "weeks": 5
         },
         {
          "day": 11,
          "dose": 0,
          "mode": "binary",
          "weeks": 5
         },
         {
          "day": 12,
          "dose": 1,
          "mode": "binary",
          "weeks": 5
         },
         {
          "day": 13,
          "dose": 1,
          "mode": "binary",
          "weeks": 5
         },
         {
          "day": 14,
          "dose": 0,
          "mode": "binary",
          "weeks": 5
         },
         {
          "day": 15,
          "dose": 1,
          "mode": "binary",
          "weeks": 5
         },
         {
          "day": 16,
          "dose": 0,
          "mode": "binary",
          "weeks": 5
         },
         {
          "day": 17,
          "dose": 1,
          "mode": "binary",
          "weeks": 5
         },
         {
          "day": 18,
          "dose": 0,
          "mode": "binary",
          "weeks": 5
         },
         {
          "day": 19,
          "dose": 1,
          "mode": "binary",
          "weeks": 5
         },
         {
          "day": 20,
          "dose": 0,
          "mode": "binary",
          "weeks": 5
         },
         {
          "day": 21,
          "dose": 1,
          "mode": "binary",
          "weeks": 5
         },
         {
          "day": 22,
          "dose": 0,
          "mode": "binary",
          "weeks": 5
         },
         {
          "day": 23,
          "dose": 1,
          "mode": "binary",
          "weeks": 5
         },
         {
          "day": 24,
          "dose": 0,
          "mode": "binary",
          "weeks": 5
         },
         {
          "day": 25,
          "dose": 0,
          "mode": "binary",
          "weeks": 5
         },
         {
          "day": 26,
          "dose": 0,
          "mode": "binary",
          "weeks": 5
         },
         {
          "day": 27,
          "dose": 1,
          "mode": "binary",
          "weeks": 5
         },
         {
          "day": 28,
          "dose": 0,
          "mode": "binary",
          "weeks": 5
         },
         {
          "day": 29,
          "dose": 0,
          "mode": "binary",
          "weeks": 5
         },
         {
          "day": 30,
          "dose": 0,
          "mode": "binary",
          "weeks": 5
         },
         {
          "day": 31,
          "dose": 0,
          "mode": "binary",
          "weeks": 5
         },
         {
          "day": 32,
          "dose": 0,
          "mode": "binary",
          "weeks": 5
         },
         {
          "day": 33,
          "dose": 0,
          "mode": "binary",
          "weeks": 5
         },
         {
          "day": 34,
          "dose": 0,
          "mode": "binary",
          "weeks": 5
         },
         {
          "day": 35,
          "dose": 0,
          "mode": "binary",
          "weeks": 5
         },
         {
          "day": 1,
          "dose": 1,
          "mode": "continuous",
          "weeks": 6
         },
         {
          "day": 2,
          "dose": 0.975609756097561,
          "mode": "continuous",
          "weeks": 6
         },
         {
          "day": 3,
          "dose": 0.9512195121951219,
          "mode": "continuous",
          "weeks": 6
         },
         {
          "day": 4,
          "dose": 0.926829268292683,
          "mode": "continuous",
          "weeks": 6
         },
         {
          "day": 5,
          "dose": 0.9024390243902439,
          "mode": "continuous",
          "weeks": 6
         },
         {
          "day": 6,
          "dose": 0.8780487804878049,
          "mode": "continuous",
          "weeks": 6
         },
         {
          "day": 7,
          "dose": 0.8536585365853658,
          "mode": "continuous",
          "weeks": 6
         },
         {
          "day": 8,
          "dose": 0.8292682926829268,
          "mode": "continuous",
          "weeks": 6
         },
         {
          "day": 9,
          "dose": 0.8048780487804879,
          "mode": "continuous",
          "weeks": 6
         },
         {
          "day": 10,
          "dose": 0.7804878048780488,
          "mode": "continuous",
          "weeks": 6
         },
         {
          "day": 11,
          "dose": 0.7560975609756098,
          "mode": "continuous",
          "weeks": 6
         },
         {
          "day": 12,
          "dose": 0.7317073170731707,
          "mode": "continuous",
          "weeks": 6
         },
         {
          "day": 13,
          "dose": 0.7073170731707317,
          "mode": "continuous",
          "weeks": 6
         },
         {
          "day": 14,
          "dose": 0.6829268292682927,
          "mode": "continuous",
          "weeks": 6
         },
         {
          "day": 15,
          "dose": 0.6585365853658537,
          "mode": "continuous",
          "weeks": 6
         },
         {
          "day": 16,
          "dose": 0.6341463414634146,
          "mode": "continuous",
          "weeks": 6
         },
         {
          "day": 17,
          "dose": 0.6097560975609756,
          "mode": "continuous",
          "weeks": 6
         },
         {
          "day": 18,
          "dose": 0.5853658536585366,
          "mode": "continuous",
          "weeks": 6
         },
         {
          "day": 19,
          "dose": 0.5609756097560976,
          "mode": "continuous",
          "weeks": 6
         },
         {
          "day": 20,
          "dose": 0.5365853658536586,
          "mode": "continuous",
          "weeks": 6
         },
         {
          "day": 21,
          "dose": 0.5121951219512195,
          "mode": "continuous",
          "weeks": 6
         },
         {
          "day": 22,
          "dose": 0.4878048780487805,
          "mode": "continuous",
          "weeks": 6
         },
         {
          "day": 23,
          "dose": 0.4634146341463415,
          "mode": "continuous",
          "weeks": 6
         },
         {
          "day": 24,
          "dose": 0.43902439024390244,
          "mode": "continuous",
          "weeks": 6
         },
         {
          "day": 25,
          "dose": 0.4146341463414634,
          "mode": "continuous",
          "weeks": 6
         },
         {
          "day": 26,
          "dose": 0.3902439024390244,
          "mode": "continuous",
          "weeks": 6
         },
         {
          "day": 27,
          "dose": 0.36585365853658536,
          "mode": "continuous",
          "weeks": 6
         },
         {
          "day": 28,
          "dose": 0.34146341463414637,
          "mode": "continuous",
          "weeks": 6
         },
         {
          "day": 29,
          "dose": 0.3170731707317073,
          "mode": "continuous",
          "weeks": 6
         },
         {
          "day": 30,
          "dose": 0.2926829268292683,
          "mode": "continuous",
          "weeks": 6
         },
         {
          "day": 31,
          "dose": 0.2682926829268293,
          "mode": "continuous",
          "weeks": 6
         },
         {
          "day": 32,
          "dose": 0.24390243902439024,
          "mode": "continuous",
          "weeks": 6
         },
         {
          "day": 33,
          "dose": 0.21951219512195122,
          "mode": "continuous",
          "weeks": 6
         },
         {
          "day": 34,
          "dose": 0.1951219512195122,
          "mode": "continuous",
          "weeks": 6
         },
         {
          "day": 35,
          "dose": 0.17073170731707318,
          "mode": "continuous",
          "weeks": 6
         },
         {
          "day": 36,
          "dose": 0.14634146341463414,
          "mode": "continuous",
          "weeks": 6
         },
         {
          "day": 37,
          "dose": 0.12195121951219512,
          "mode": "continuous",
          "weeks": 6
         },
         {
          "day": 38,
          "dose": 0.0975609756097561,
          "mode": "continuous",
          "weeks": 6
         },
         {
          "day": 39,
          "dose": 0.07317073170731707,
          "mode": "continuous",
          "weeks": 6
         },
         {
          "day": 40,
          "dose": 0.04878048780487805,
          "mode": "continuous",
          "weeks": 6
         },
         {
          "day": 41,
          "dose": 0.024390243902439025,
          "mode": "continuous",
          "weeks": 6
         },
         {
          "day": 42,
          "dose": 0,
          "mode": "continuous",
          "weeks": 6
         },
         {
          "day": 1,
          "dose": 1,
          "mode": "binary",
          "weeks": 6
         },
         {
          "day": 2,
          "dose": 1,
          "mode": "binary",
          "weeks": 6
         },
         {
          "day": 3,
          "dose": 1,
          "mode": "binary",
          "weeks": 6
         },
         {
          "day": 4,
          "dose": 1,
          "mode": "binary",
          "weeks": 6
         },
         {
          "day": 5,
          "dose": 1,
          "mode": "binary",
          "weeks": 6
         },
         {
          "day": 6,
          "dose": 1,
          "mode": "binary",
          "weeks": 6
         },
         {
          "day": 7,
          "dose": 0,
          "mode": "binary",
          "weeks": 6
         },
         {
          "day": 8,
          "dose": 1,
          "mode": "binary",
          "weeks": 6
         },
         {
          "day": 9,
          "dose": 1,
          "mode": "binary",
          "weeks": 6
         },
         {
          "day": 10,
          "dose": 1,
          "mode": "binary",
          "weeks": 6
         },
         {
          "day": 11,
          "dose": 1,
          "mode": "binary",
          "weeks": 6
         },
         {
          "day": 12,
          "dose": 0,
          "mode": "binary",
          "weeks": 6
         },
         {
          "day": 13,
          "dose": 1,
          "mode": "binary",
          "weeks": 6
         },
         {
          "day": 14,
          "dose": 1,
          "mode": "binary",
          "weeks": 6
         },
         {
          "day": 15,
          "dose": 0,
          "mode": "binary",
          "weeks": 6
         },
         {
          "day": 16,
          "dose": 1,
          "mode": "binary",
          "weeks": 6
         },
         {
          "day": 17,
          "dose": 1,
          "mode": "binary",
          "weeks": 6
         },
         {
          "day": 18,
          "dose": 0,
          "mode": "binary",
          "weeks": 6
         },
         {
          "day": 19,
          "dose": 1,
          "mode": "binary",
          "weeks": 6
         },
         {
          "day": 20,
          "dose": 0,
          "mode": "binary",
          "weeks": 6
         },
         {
          "day": 21,
          "dose": 1,
          "mode": "binary",
          "weeks": 6
         },
         {
          "day": 22,
          "dose": 0,
          "mode": "binary",
          "weeks": 6
         },
         {
          "day": 23,
          "dose": 1,
          "mode": "binary",
          "weeks": 6
         },
         {
          "day": 24,
          "dose": 0,
          "mode": "binary",
          "weeks": 6
         },
         {
          "day": 25,
          "dose": 1,
          "mode": "binary",
          "weeks": 6
         },
         {
          "day": 26,
          "dose": 0,
          "mode": "binary",
          "weeks": 6
         },
         {
          "day": 27,
          "dose": 0,
          "mode": "binary",
          "weeks": 6
         },
         {
          "day": 28,
          "dose": 1,
          "mode": "binary",
          "weeks": 6
         },
         {
          "day": 29,
          "dose": 0,
          "mode": "binary",
          "weeks": 6
         },
         {
          "day": 30,
          "dose": 0,
          "mode": "binary",
          "weeks": 6
         },
         {
          "day": 31,
          "dose": 1,
          "mode": "binary",
          "weeks": 6
         },
         {
          "day": 32,
          "dose": 0,
          "mode": "binary",
          "weeks": 6
         },
         {
          "day": 33,
          "dose": 0,
          "mode": "binary",
          "weeks": 6
         },
         {
          "day": 34,
          "dose": 0,
          "mode": "binary",
          "weeks": 6
         },
         {
          "day": 35,
          "dose": 0,
          "mode": "binary",
          "weeks": 6
         },
         {
          "day": 36,
          "dose": 1,
          "mode": "binary",
          "weeks": 6
         },
         {
          "day": 37,
          "dose": 0,
          "mode": "binary",
          "weeks": 6
         },
         {
          "day": 38,
          "dose": 0,
          "mode": "binary",
          "weeks": 6
         },
         {
          "day": 39,
          "dose": 0,
          "mode": "binary",
          "weeks": 6
         },
         {
          "day": 40,
          "dose": 0,
          "mode": "binary",
          "weeks": 6
         },
         {
          "day": 41,
          "dose": 0,
          "mode": "binary",
          "weeks": 6
         },
         {
          "day": 42,
          "dose": 0,
          "mode": "binary",
          "weeks": 6
         },
         {
          "day": 1,
          "dose": 1,
          "mode": "continuous",
          "weeks": 7
         },
         {
          "day": 2,
          "dose": 0.9791666666666666,
          "mode": "continuous",
          "weeks": 7
         },
         {
          "day": 3,
          "dose": 0.9583333333333334,
          "mode": "continuous",
          "weeks": 7
         },
         {
          "day": 4,
          "dose": 0.9375,
          "mode": "continuous",
          "weeks": 7
         },
         {
          "day": 5,
          "dose": 0.9166666666666666,
          "mode": "continuous",
          "weeks": 7
         },
         {
          "day": 6,
          "dose": 0.8958333333333334,
          "mode": "continuous",
          "weeks": 7
         },
         {
          "day": 7,
          "dose": 0.875,
          "mode": "continuous",
          "weeks": 7
         },
         {
          "day": 8,
          "dose": 0.8541666666666666,
          "mode": "continuous",
          "weeks": 7
         },
         {
          "day": 9,
          "dose": 0.8333333333333334,
          "mode": "continuous",
          "weeks": 7
         },
         {
          "day": 10,
          "dose": 0.8125,
          "mode": "continuous",
          "weeks": 7
         },
         {
          "day": 11,
          "dose": 0.7916666666666666,
          "mode": "continuous",
          "weeks": 7
         },
         {
          "day": 12,
          "dose": 0.7708333333333334,
          "mode": "continuous",
          "weeks": 7
         },
         {
          "day": 13,
          "dose": 0.75,
          "mode": "continuous",
          "weeks": 7
         },
         {
          "day": 14,
          "dose": 0.7291666666666666,
          "mode": "continuous",
          "weeks": 7
         },
         {
          "day": 15,
          "dose": 0.7083333333333334,
          "mode": "continuous",
          "weeks": 7
         },
         {
          "day": 16,
          "dose": 0.6875,
          "mode": "continuous",
          "weeks": 7
         },
         {
          "day": 17,
          "dose": 0.6666666666666666,
          "mode": "continuous",
          "weeks": 7
         },
         {
          "day": 18,
          "dose": 0.6458333333333334,
          "mode": "continuous",
          "weeks": 7
         },
         {
          "day": 19,
          "dose": 0.625,
          "mode": "continuous",
          "weeks": 7
         },
         {
          "day": 20,
          "dose": 0.6041666666666666,
          "mode": "continuous",
          "weeks": 7
         },
         {
          "day": 21,
          "dose": 0.5833333333333334,
          "mode": "continuous",
          "weeks": 7
         },
         {
          "day": 22,
          "dose": 0.5625,
          "mode": "continuous",
          "weeks": 7
         },
         {
          "day": 23,
          "dose": 0.5416666666666666,
          "mode": "continuous",
          "weeks": 7
         },
         {
          "day": 24,
          "dose": 0.5208333333333334,
          "mode": "continuous",
          "weeks": 7
         },
         {
          "day": 25,
          "dose": 0.5,
          "mode": "continuous",
          "weeks": 7
         },
         {
          "day": 26,
          "dose": 0.4791666666666667,
          "mode": "continuous",
          "weeks": 7
         },
         {
          "day": 27,
          "dose": 0.4583333333333333,
          "mode": "continuous",
          "weeks": 7
         },
         {
          "day": 28,
          "dose": 0.4375,
          "mode": "continuous",
          "weeks": 7
         },
         {
          "day": 29,
          "dose": 0.4166666666666667,
          "mode": "continuous",
          "weeks": 7
         },
         {
          "day": 30,
          "dose": 0.3958333333333333,
          "mode": "continuous",
          "weeks": 7
         },
         {
          "day": 31,
          "dose": 0.375,
          "mode": "continuous",
          "weeks": 7
         },
         {
          "day": 32,
          "dose": 0.3541666666666667,
          "mode": "continuous",
          "weeks": 7
         },
         {
          "day": 33,
          "dose": 0.3333333333333333,
          "mode": "continuous",
          "weeks": 7
         },
         {
          "day": 34,
          "dose": 0.3125,
          "mode": "continuous",
          "weeks": 7
         },
         {
          "day": 35,
          "dose": 0.2916666666666667,
          "mode": "continuous",
          "weeks": 7
         },
         {
          "day": 36,
          "dose": 0.2708333333333333,
          "mode": "continuous",
          "weeks": 7
         },
         {
          "day": 37,
          "dose": 0.25,
          "mode": "continuous",
          "weeks": 7
         },
         {
          "day": 38,
          "dose": 0.22916666666666666,
          "mode": "continuous",
          "weeks": 7
         },
         {
          "day": 39,
          "dose": 0.20833333333333334,
          "mode": "continuous",
          "weeks": 7
         },
         {
          "day": 40,
          "dose": 0.1875,
          "mode": "continuous",
          "weeks": 7
         },
         {
          "day": 41,
          "dose": 0.16666666666666666,
          "mode": "continuous",
          "weeks": 7
         },
         {
          "day": 42,
          "dose": 0.14583333333333334,
          "mode": "continuous",
          "weeks": 7
         },
         {
          "day": 43,
          "dose": 0.125,
          "mode": "continuous",
          "weeks": 7
         },
         {
          "day": 44,
          "dose": 0.10416666666666667,
          "mode": "continuous",
          "weeks": 7
         },
         {
          "day": 45,
          "dose": 0.08333333333333333,
          "mode": "continuous",
          "weeks": 7
         },
         {
          "day": 46,
          "dose": 0.0625,
          "mode": "continuous",
          "weeks": 7
         },
         {
          "day": 47,
          "dose": 0.041666666666666664,
          "mode": "continuous",
          "weeks": 7
         },
         {
          "day": 48,
          "dose": 0.020833333333333332,
          "mode": "continuous",
          "weeks": 7
         },
         {
          "day": 49,
          "dose": 0,
          "mode": "continuous",
          "weeks": 7
         },
         {
          "day": 1,
          "dose": 1,
          "mode": "binary",
          "weeks": 7
         },
         {
          "day": 2,
          "dose": 1,
          "mode": "binary",
          "weeks": 7
         },
         {
          "day": 3,
          "dose": 1,
          "mode": "binary",
          "weeks": 7
         },
         {
          "day": 4,
          "dose": 1,
          "mode": "binary",
          "weeks": 7
         },
         {
          "day": 5,
          "dose": 1,
          "mode": "binary",
          "weeks": 7
         },
         {
          "day": 6,
          "dose": 1,
          "mode": "binary",
          "weeks": 7
         },
         {
          "day": 7,
          "dose": 1,
          "mode": "binary",
          "weeks": 7
         },
         {
          "day": 8,
          "dose": 0,
          "mode": "binary",
          "weeks": 7
         },
         {
          "day": 9,
          "dose": 1,
          "mode": "binary",
          "weeks": 7
         },
         {
          "day": 10,
          "dose": 1,
          "mode": "binary",
          "weeks": 7
         },
         {
          "day": 11,
          "dose": 1,
          "mode": "binary",
          "weeks": 7
         },
         {
          "day": 12,
          "dose": 1,
          "mode": "binary",
          "weeks": 7
         },
         {
          "day": 13,
          "dose": 0,
          "mode": "binary",
          "weeks": 7
         },
         {
          "day": 14,
          "dose": 1,
          "mode": "binary",
          "weeks": 7
         },
         {
          "day": 15,
          "dose": 1,
          "mode": "binary",
          "weeks": 7
         },
         {
          "day": 16,
          "dose": 0,
          "mode": "binary",
          "weeks": 7
         },
         {
          "day": 17,
          "dose": 1,
          "mode": "binary",
          "weeks": 7
         },
         {
          "day": 18,
          "dose": 1,
          "mode": "binary",
          "weeks": 7
         },
         {
          "day": 19,
          "dose": 0,
          "mode": "binary",
          "weeks": 7
         },
         {
          "day": 20,
          "dose": 1,
          "mode": "binary",
          "weeks": 7
         },
         {
          "day": 21,
          "dose": 1,
          "mode": "binary",
          "weeks": 7
         },
         {
          "day": 22,
          "dose": 0,
          "mode": "binary",
          "weeks": 7
         },
         {
          "day": 23,
          "dose": 1,
          "mode": "binary",
          "weeks": 7
         },
         {
          "day": 24,
          "dose": 0,
          "mode": "binary",
          "weeks": 7
         },
         {
          "day": 25,
          "dose": 1,
          "mode": "binary",
          "weeks": 7
         },
         {
          "day": 26,
          "dose": 0,
          "mode": "binary",
          "weeks": 7
         },
         {
          "day": 27,
          "dose": 1,
          "mode": "binary",
          "weeks": 7
         },
         {
          "day": 28,
          "dose": 0,
          "mode": "binary",
          "weeks": 7
         },
         {
          "day": 29,
          "dose": 1,
          "mode": "binary",
          "weeks": 7
         },
         {
          "day": 30,
          "dose": 0,
          "mode": "binary",
          "weeks": 7
         },
         {
          "day": 31,
          "dose": 0,
          "mode": "binary",
          "weeks": 7
         },
         {
          "day": 32,
          "dose": 1,
          "mode": "binary",
          "weeks": 7
         },
         {
          "day": 33,
          "dose": 0,
          "mode": "binary",
          "weeks": 7
         },
         {
          "day": 34,
          "dose": 0,
          "mode": "binary",
          "weeks": 7
         },
         {
          "day": 35,
          "dose": 1,
          "mode": "binary",
          "weeks": 7
         },
         {
          "day": 36,
          "dose": 0,
          "mode": "binary",
          "weeks": 7
         },
         {
          "day": 37,
          "dose": 0,
          "mode": "binary",
          "weeks": 7
         },
         {
          "day": 38,
          "dose": 0,
          "mode": "binary",
          "weeks": 7
         },
         {
          "day": 39,
          "dose": 1,
          "mode": "binary",
          "weeks": 7
         },
         {
          "day": 40,
          "dose": 0,
          "mode": "binary",
          "weeks": 7
         },
         {
          "day": 41,
          "dose": 0,
          "mode": "binary",
          "weeks": 7
         },
         {
          "day": 42,
          "dose": 0,
          "mode": "binary",
          "weeks": 7
         },
         {
          "day": 43,
          "dose": 0,
          "mode": "binary",
          "weeks": 7
         },
         {
          "day": 44,
          "dose": 0,
          "mode": "binary",
          "weeks": 7
         },
         {
          "day": 45,
          "dose": 0,
          "mode": "binary",
          "weeks": 7
         },
         {
          "day": 46,
          "dose": 0,
          "mode": "binary",
          "weeks": 7
         },
         {
          "day": 47,
          "dose": 0,
          "mode": "binary",
          "weeks": 7
         },
         {
          "day": 48,
          "dose": 0,
          "mode": "binary",
          "weeks": 7
         },
         {
          "day": 49,
          "dose": 0,
          "mode": "binary",
          "weeks": 7
         },
         {
          "day": 1,
          "dose": 1,
          "mode": "continuous",
          "weeks": 8
         },
         {
          "day": 2,
          "dose": 0.9818181818181818,
          "mode": "continuous",
          "weeks": 8
         },
         {
          "day": 3,
          "dose": 0.9636363636363636,
          "mode": "continuous",
          "weeks": 8
         },
         {
          "day": 4,
          "dose": 0.9454545454545454,
          "mode": "continuous",
          "weeks": 8
         },
         {
          "day": 5,
          "dose": 0.9272727272727272,
          "mode": "continuous",
          "weeks": 8
         },
         {
          "day": 6,
          "dose": 0.9090909090909091,
          "mode": "continuous",
          "weeks": 8
         },
         {
          "day": 7,
          "dose": 0.8909090909090909,
          "mode": "continuous",
          "weeks": 8
         },
         {
          "day": 8,
          "dose": 0.8727272727272727,
          "mode": "continuous",
          "weeks": 8
         },
         {
          "day": 9,
          "dose": 0.8545454545454545,
          "mode": "continuous",
          "weeks": 8
         },
         {
          "day": 10,
          "dose": 0.8363636363636363,
          "mode": "continuous",
          "weeks": 8
         },
         {
          "day": 11,
          "dose": 0.8181818181818182,
          "mode": "continuous",
          "weeks": 8
         },
         {
          "day": 12,
          "dose": 0.8,
          "mode": "continuous",
          "weeks": 8
         },
         {
          "day": 13,
          "dose": 0.7818181818181819,
          "mode": "continuous",
          "weeks": 8
         },
         {
          "day": 14,
          "dose": 0.7636363636363637,
          "mode": "continuous",
          "weeks": 8
         },
         {
          "day": 15,
          "dose": 0.7454545454545455,
          "mode": "continuous",
          "weeks": 8
         },
         {
          "day": 16,
          "dose": 0.7272727272727273,
          "mode": "continuous",
          "weeks": 8
         },
         {
          "day": 17,
          "dose": 0.7090909090909091,
          "mode": "continuous",
          "weeks": 8
         },
         {
          "day": 18,
          "dose": 0.6909090909090909,
          "mode": "continuous",
          "weeks": 8
         },
         {
          "day": 19,
          "dose": 0.6727272727272727,
          "mode": "continuous",
          "weeks": 8
         },
         {
          "day": 20,
          "dose": 0.6545454545454545,
          "mode": "continuous",
          "weeks": 8
         },
         {
          "day": 21,
          "dose": 0.6363636363636364,
          "mode": "continuous",
          "weeks": 8
         },
         {
          "day": 22,
          "dose": 0.6181818181818182,
          "mode": "continuous",
          "weeks": 8
         },
         {
          "day": 23,
          "dose": 0.6,
          "mode": "continuous",
          "weeks": 8
         },
         {
          "day": 24,
          "dose": 0.5818181818181818,
          "mode": "continuous",
          "weeks": 8
         },
         {
          "day": 25,
          "dose": 0.5636363636363636,
          "mode": "continuous",
          "weeks": 8
         },
         {
          "day": 26,
          "dose": 0.5454545454545454,
          "mode": "continuous",
          "weeks": 8
         },
         {
          "day": 27,
          "dose": 0.5272727272727272,
          "mode": "continuous",
          "weeks": 8
         },
         {
          "day": 28,
          "dose": 0.509090909090909,
          "mode": "continuous",
          "weeks": 8
         },
         {
          "day": 29,
          "dose": 0.4909090909090909,
          "mode": "continuous",
          "weeks": 8
         },
         {
          "day": 30,
          "dose": 0.4727272727272727,
          "mode": "continuous",
          "weeks": 8
         },
         {
          "day": 31,
          "dose": 0.45454545454545453,
          "mode": "continuous",
          "weeks": 8
         },
         {
          "day": 32,
          "dose": 0.43636363636363634,
          "mode": "continuous",
          "weeks": 8
         },
         {
          "day": 33,
          "dose": 0.41818181818181815,
          "mode": "continuous",
          "weeks": 8
         },
         {
          "day": 34,
          "dose": 0.4,
          "mode": "continuous",
          "weeks": 8
         },
         {
          "day": 35,
          "dose": 0.38181818181818183,
          "mode": "continuous",
          "weeks": 8
         },
         {
          "day": 36,
          "dose": 0.36363636363636365,
          "mode": "continuous",
          "weeks": 8
         },
         {
          "day": 37,
          "dose": 0.34545454545454546,
          "mode": "continuous",
          "weeks": 8
         },
         {
          "day": 38,
          "dose": 0.32727272727272727,
          "mode": "continuous",
          "weeks": 8
         },
         {
          "day": 39,
          "dose": 0.3090909090909091,
          "mode": "continuous",
          "weeks": 8
         },
         {
          "day": 40,
          "dose": 0.2909090909090909,
          "mode": "continuous",
          "weeks": 8
         },
         {
          "day": 41,
          "dose": 0.2727272727272727,
          "mode": "continuous",
          "weeks": 8
         },
         {
          "day": 42,
          "dose": 0.2545454545454545,
          "mode": "continuous",
          "weeks": 8
         },
         {
          "day": 43,
          "dose": 0.23636363636363636,
          "mode": "continuous",
          "weeks": 8
         },
         {
          "day": 44,
          "dose": 0.21818181818181817,
          "mode": "continuous",
          "weeks": 8
         },
         {
          "day": 45,
          "dose": 0.2,
          "mode": "continuous",
          "weeks": 8
         },
         {
          "day": 46,
          "dose": 0.18181818181818182,
          "mode": "continuous",
          "weeks": 8
         },
         {
          "day": 47,
          "dose": 0.16363636363636364,
          "mode": "continuous",
          "weeks": 8
         },
         {
          "day": 48,
          "dose": 0.14545454545454545,
          "mode": "continuous",
          "weeks": 8
         },
         {
          "day": 49,
          "dose": 0.12727272727272726,
          "mode": "continuous",
          "weeks": 8
         },
         {
          "day": 50,
          "dose": 0.10909090909090909,
          "mode": "continuous",
          "weeks": 8
         },
         {
          "day": 51,
          "dose": 0.09090909090909091,
          "mode": "continuous",
          "weeks": 8
         },
         {
          "day": 52,
          "dose": 0.07272727272727272,
          "mode": "continuous",
          "weeks": 8
         },
         {
          "day": 53,
          "dose": 0.05454545454545454,
          "mode": "continuous",
          "weeks": 8
         },
         {
          "day": 54,
          "dose": 0.03636363636363636,
          "mode": "continuous",
          "weeks": 8
         },
         {
          "day": 55,
          "dose": 0.01818181818181818,
          "mode": "continuous",
          "weeks": 8
         },
         {
          "day": 56,
          "dose": 0,
          "mode": "continuous",
          "weeks": 8
         },
         {
          "day": 1,
          "dose": 1,
          "mode": "binary",
          "weeks": 8
         },
         {
          "day": 2,
          "dose": 1,
          "mode": "binary",
          "weeks": 8
         },
         {
          "day": 3,
          "dose": 1,
          "mode": "binary",
          "weeks": 8
         },
         {
          "day": 4,
          "dose": 1,
          "mode": "binary",
          "weeks": 8
         },
         {
          "day": 5,
          "dose": 1,
          "mode": "binary",
          "weeks": 8
         },
         {
          "day": 6,
          "dose": 1,
          "mode": "binary",
          "weeks": 8
         },
         {
          "day": 7,
          "dose": 1,
          "mode": "binary",
          "weeks": 8
         },
         {
          "day": 8,
          "dose": 0,
          "mode": "binary",
          "weeks": 8
         },
         {
          "day": 9,
          "dose": 1,
          "mode": "binary",
          "weeks": 8
         },
         {
          "day": 10,
          "dose": 1,
          "mode": "binary",
          "weeks": 8
         },
         {
          "day": 11,
          "dose": 1,
          "mode": "binary",
          "weeks": 8
         },
         {
          "day": 12,
          "dose": 1,
          "mode": "binary",
          "weeks": 8
         },
         {
          "day": 13,
          "dose": 1,
          "mode": "binary",
          "weeks": 8
         },
         {
          "day": 14,
          "dose": 0,
          "mode": "binary",
          "weeks": 8
         },
         {
          "day": 15,
          "dose": 1,
          "mode": "binary",
          "weeks": 8
         },
         {
          "day": 16,
          "dose": 1,
          "mode": "binary",
          "weeks": 8
         },
         {
          "day": 17,
          "dose": 1,
          "mode": "binary",
          "weeks": 8
         },
         {
          "day": 18,
          "dose": 0,
          "mode": "binary",
          "weeks": 8
         },
         {
          "day": 19,
          "dose": 1,
          "mode": "binary",
          "weeks": 8
         },
         {
          "day": 20,
          "dose": 1,
          "mode": "binary",
          "weeks": 8
         },
         {
          "day": 21,
          "dose": 0,
          "mode": "binary",
          "weeks": 8
         },
         {
          "day": 22,
          "dose": 1,
          "mode": "binary",
          "weeks": 8
         },
         {
          "day": 23,
          "dose": 0,
          "mode": "binary",
          "weeks": 8
         },
         {
          "day": 24,
          "dose": 1,
          "mode": "binary",
          "weeks": 8
         },
         {
          "day": 25,
          "dose": 1,
          "mode": "binary",
          "weeks": 8
         },
         {
          "day": 26,
          "dose": 0,
          "mode": "binary",
          "weeks": 8
         },
         {
          "day": 27,
          "dose": 1,
          "mode": "binary",
          "weeks": 8
         },
         {
          "day": 28,
          "dose": 0,
          "mode": "binary",
          "weeks": 8
         },
         {
          "day": 29,
          "dose": 1,
          "mode": "binary",
          "weeks": 8
         },
         {
          "day": 30,
          "dose": 0,
          "mode": "binary",
          "weeks": 8
         },
         {
          "day": 31,
          "dose": 1,
          "mode": "binary",
          "weeks": 8
         },
         {
          "day": 32,
          "dose": 0,
          "mode": "binary",
          "weeks": 8
         },
         {
          "day": 33,
          "dose": 0,
          "mode": "binary",
          "weeks": 8
         },
         {
          "day": 34,
          "dose": 1,
          "mode": "binary",
          "weeks": 8
         },
         {
          "day": 35,
          "dose": 0,
          "mode": "binary",
          "weeks": 8
         },
         {
          "day": 36,
          "dose": 1,
          "mode": "binary",
          "weeks": 8
         },
         {
          "day": 37,
          "dose": 0,
          "mode": "binary",
          "weeks": 8
         },
         {
          "day": 38,
          "dose": 0,
          "mode": "binary",
          "weeks": 8
         },
         {
          "day": 39,
          "dose": 1,
          "mode": "binary",
          "weeks": 8
         },
         {
          "day": 40,
          "dose": 0,
          "mode": "binary",
          "weeks": 8
         },
         {
          "day": 41,
          "dose": 0,
          "mode": "binary",
          "weeks": 8
         },
         {
          "day": 42,
          "dose": 0,
          "mode": "binary",
          "weeks": 8
         },
         {
          "day": 43,
          "dose": 1,
          "mode": "binary",
          "weeks": 8
         },
         {
          "day": 44,
          "dose": 0,
          "mode": "binary",
          "weeks": 8
         },
         {
          "day": 45,
          "dose": 0,
          "mode": "binary",
          "weeks": 8
         },
         {
          "day": 46,
          "dose": 0,
          "mode": "binary",
          "weeks": 8
         },
         {
          "day": 47,
          "dose": 0,
          "mode": "binary",
          "weeks": 8
         },
         {
          "day": 48,
          "dose": 0,
          "mode": "binary",
          "weeks": 8
         },
         {
          "day": 49,
          "dose": 1,
          "mode": "binary",
          "weeks": 8
         },
         {
          "day": 50,
          "dose": 0,
          "mode": "binary",
          "weeks": 8
         },
         {
          "day": 51,
          "dose": 0,
          "mode": "binary",
          "weeks": 8
         },
         {
          "day": 52,
          "dose": 0,
          "mode": "binary",
          "weeks": 8
         },
         {
          "day": 53,
          "dose": 0,
          "mode": "binary",
          "weeks": 8
         },
         {
          "day": 54,
          "dose": 0,
          "mode": "binary",
          "weeks": 8
         },
         {
          "day": 55,
          "dose": 0,
          "mode": "binary",
          "weeks": 8
         },
         {
          "day": 56,
          "dose": 0,
          "mode": "binary",
          "weeks": 8
         }
        ]
       },
       "encoding": {
        "color": {
         "field": "mode",
         "type": "nominal"
        },
        "row": {
         "field": "weeks",
         "type": "nominal"
        },
        "x": {
         "field": "day",
         "type": "ordinal"
        },
        "y": {
         "field": "dose",
         "stack": null,
         "type": "quantitative"
        }
       },
       "height": 40,
       "mark": {
        "opacity": 0.7,
        "type": "bar"
       },
       "width": 500
      },
      "image/png": "[encoded data removed]",
      "image/svg+xml": [
       "<svg class=\"marks\" width=\"679\" height=\"524\" viewBox=\"0 0 679 524\" version=\"1.1\" xmlns=\"http://www.w3.org/2000/svg\" xmlns:xlink=\"http://www.w3.org/1999/xlink\"><g transform=\"translate(85,10)\"><g class=\"mark-group role-frame root\"><g transform=\"translate(0,0)\"><path class=\"background\" d=\"M0,0h0v0h0Z\" style=\"fill: none;\"></path><g><g class=\"mark-group role-row-title row-title\"><g transform=\"translate(-59,237)\"><path class=\"background\" d=\"M0,0h0v0h0Z\" style=\"fill: none;\"></path><g><g class=\"mark-text role-title\" style=\"pointer-events: none;\"><text text-anchor=\"middle\" transform=\"translate(-10,0) rotate(-90) translate(0,-2)\" style=\"font-family: sans-serif; font-size: 11px; font-weight: bold; fill: #000; opacity: 1;\">weeks</text></g></g></g></g><g class=\"mark-group role-row-header row_header\"><g transform=\"translate(-1,0)\"><path class=\"background\" d=\"M0,0h0v40h0Z\" style=\"fill: none;\"></path><g><g class=\"mark-text role-title\" style=\"pointer-events: none;\"><text text-anchor=\"middle\" transform=\"translate(-38,20) rotate(-90) translate(0,-2)\" style=\"font-family: sans-serif; font-size: 10px; fill: #000; opacity: 1;\">1</text></g><g class=\"mark-group role-axis\"><g transform=\"translate(0.5,0.5)\"><path class=\"background\" d=\"M0,0h0v0h0Z\" style=\"pointer-events: none; fill: none;\"></path><g><g class=\"mark-rule role-axis-tick\" style=\"pointer-events: none;\"><line transform=\"translate(0,40)\" x2=\"-5\" y2=\"0\" style=\"fill: none; stroke: #888; stroke-width: 1; opacity: 1;\"></line><line transform=\"translate(0,0)\" x2=\"-5\" y2=\"0\" style=\"fill: none; stroke: #888; stroke-width: 1; opacity: 1;\"></line></g><g class=\"mark-text role-axis-label\" style=\"pointer-events: none;\"><text text-anchor=\"end\" transform=\"translate(-7,43)\" style=\"font-family: sans-serif; font-size: 10px; fill: #000; opacity: 1;\">0</text><text text-anchor=\"end\" transform=\"translate(-7,3)\" style=\"font-family: sans-serif; font-size: 10px; fill: #000; opacity: 1;\">1</text></g><g class=\"mark-rule role-axis-domain\" style=\"pointer-events: none;\"><line transform=\"translate(0,40)\" x2=\"0\" y2=\"-40\" style=\"fill: none; stroke: #888; stroke-width: 1; opacity: 1;\"></line></g><g class=\"mark-text role-axis-title\" style=\"pointer-events: none;\"><text text-anchor=\"middle\" transform=\"translate(-17,20) rotate(-90) translate(0,-2)\" style=\"font-family: sans-serif; font-size: 11px; font-weight: bold; fill: #000; opacity: 1;\">dose</text></g></g></g></g></g></g><g transform=\"translate(-1,62)\"><path class=\"background\" d=\"M0,0h0v40h0Z\" style=\"fill: none;\"></path><g><g class=\"mark-text role-title\" style=\"pointer-events: none;\"><text text-anchor=\"middle\" transform=\"translate(-38,20) rotate(-90) translate(0,-2)\" style=\"font-family: sans-serif; font-size: 10px; fill: #000; opacity: 1;\">2</text></g><g class=\"mark-group role-axis\"><g transform=\"translate(0.5,0.5)\"><path class=\"background\" d=\"M0,0h0v0h0Z\" style=\"pointer-events: none; fill: none;\"></path><g><g class=\"mark-rule role-axis-tick\" style=\"pointer-events: none;\"><line transform=\"translate(0,40)\" x2=\"-5\" y2=\"0\" style=\"fill: none; stroke: #888; stroke-width: 1; opacity: 1;\"></line><line transform=\"translate(0,0)\" x2=\"-5\" y2=\"0\" style=\"fill: none; stroke: #888; stroke-width: 1; opacity: 1;\"></line></g><g class=\"mark-text role-axis-label\" style=\"pointer-events: none;\"><text text-anchor=\"end\" transform=\"translate(-7,43)\" style=\"font-family: sans-serif; font-size: 10px; fill: #000; opacity: 1;\">0</text><text text-anchor=\"end\" transform=\"translate(-7,3)\" style=\"font-family: sans-serif; font-size: 10px; fill: #000; opacity: 1;\">1</text></g><g class=\"mark-rule role-axis-domain\" style=\"pointer-events: none;\"><line transform=\"translate(0,40)\" x2=\"0\" y2=\"-40\" style=\"fill: none; stroke: #888; stroke-width: 1; opacity: 1;\"></line></g><g class=\"mark-text role-axis-title\" style=\"pointer-events: none;\"><text text-anchor=\"middle\" transform=\"translate(-17,20) rotate(-90) translate(0,-2)\" style=\"font-family: sans-serif; font-size: 11px; font-weight: bold; fill: #000; opacity: 1;\">dose</text></g></g></g></g></g></g><g transform=\"translate(-1,124)\"><path class=\"background\" d=\"M0,0h0v40h0Z\" style=\"fill: none;\"></path><g><g class=\"mark-text role-title\" style=\"pointer-events: none;\"><text text-anchor=\"middle\" transform=\"translate(-38,20) rotate(-90) translate(0,-2)\" style=\"font-family: sans-serif; font-size: 10px; fill: #000; opacity: 1;\">3</text></g><g class=\"mark-group role-axis\"><g transform=\"translate(0.5,0.5)\"><path class=\"background\" d=\"M0,0h0v0h0Z\" style=\"pointer-events: none; fill: none;\"></path><g><g class=\"mark-rule role-axis-tick\" style=\"pointer-events: none;\"><line transform=\"translate(0,40)\" x2=\"-5\" y2=\"0\" style=\"fill: none; stroke: #888; stroke-width: 1; opacity: 1;\"></line><line transform=\"translate(0,0)\" x2=\"-5\" y2=\"0\" style=\"fill: none; stroke: #888; stroke-width: 1; opacity: 1;\"></line></g><g class=\"mark-text role-axis-label\" style=\"pointer-events: none;\"><text text-anchor=\"end\" transform=\"translate(-7,43)\" style=\"font-family: sans-serif; font-size: 10px; fill: #000; opacity: 1;\">0</text><text text-anchor=\"end\" transform=\"translate(-7,3)\" style=\"font-family: sans-serif; font-size: 10px; fill: #000; opacity: 1;\">1</text></g><g class=\"mark-rule role-axis-domain\" style=\"pointer-events: none;\"><line transform=\"translate(0,40)\" x2=\"0\" y2=\"-40\" style=\"fill: none; stroke: #888; stroke-width: 1; opacity: 1;\"></line></g><g class=\"mark-text role-axis-title\" style=\"pointer-events: none;\"><text text-anchor=\"middle\" transform=\"translate(-17,20) rotate(-90) translate(0,-2)\" style=\"font-family: sans-serif; font-size: 11px; font-weight: bold; fill: #000; opacity: 1;\">dose</text></g></g></g></g></g></g><g transform=\"translate(-1,186)\"><path class=\"background\" d=\"M0,0h0v40h0Z\" style=\"fill: none;\"></path><g><g class=\"mark-text role-title\" style=\"pointer-events: none;\"><text text-anchor=\"middle\" transform=\"translate(-38,20) rotate(-90) translate(0,-2)\" style=\"font-family: sans-serif; font-size: 10px; fill: #000; opacity: 1;\">4</text></g><g class=\"mark-group role-axis\"><g transform=\"translate(0.5,0.5)\"><path class=\"background\" d=\"M0,0h0v0h0Z\" style=\"pointer-events: none; fill: none;\"></path><g><g class=\"mark-rule role-axis-tick\" style=\"pointer-events: none;\"><line transform=\"translate(0,40)\" x2=\"-5\" y2=\"0\" style=\"fill: none; stroke: #888; stroke-width: 1; opacity: 1;\"></line><line transform=\"translate(0,0)\" x2=\"-5\" y2=\"0\" style=\"fill: none; stroke: #888; stroke-width: 1; opacity: 1;\"></line></g><g class=\"mark-text role-axis-label\" style=\"pointer-events: none;\"><text text-anchor=\"end\" transform=\"translate(-7,43)\" style=\"font-family: sans-serif; font-size: 10px; fill: #000; opacity: 1;\">0</text><text text-anchor=\"end\" transform=\"translate(-7,3)\" style=\"font-family: sans-serif; font-size: 10px; fill: #000; opacity: 1;\">1</text></g><g class=\"mark-rule role-axis-domain\" style=\"pointer-events: none;\"><line transform=\"translate(0,40)\" x2=\"0\" y2=\"-40\" style=\"fill: none; stroke: #888; stroke-width: 1; opacity: 1;\"></line></g><g class=\"mark-text role-axis-title\" style=\"pointer-events: none;\"><text text-anchor=\"middle\" transform=\"translate(-17,20) rotate(-90) translate(0,-2)\" style=\"font-family: sans-serif; font-size: 11px; font-weight: bold; fill: #000; opacity: 1;\">dose</text></g></g></g></g></g></g><g transform=\"translate(-1,248)\"><path class=\"background\" d=\"M0,0h0v40h0Z\" style=\"fill: none;\"></path><g><g class=\"mark-text role-title\" style=\"pointer-events: none;\"><text text-anchor=\"middle\" transform=\"translate(-38,20) rotate(-90) translate(0,-2)\" style=\"font-family: sans-serif; font-size: 10px; fill: #000; opacity: 1;\">5</text></g><g class=\"mark-group role-axis\"><g transform=\"translate(0.5,0.5)\"><path class=\"background\" d=\"M0,0h0v0h0Z\" style=\"pointer-events: none; fill: none;\"></path><g><g class=\"mark-rule role-axis-tick\" style=\"pointer-events: none;\"><line transform=\"translate(0,40)\" x2=\"-5\" y2=\"0\" style=\"fill: none; stroke: #888; stroke-width: 1; opacity: 1;\"></line><line transform=\"translate(0,0)\" x2=\"-5\" y2=\"0\" style=\"fill: none; stroke: #888; stroke-width: 1; opacity: 1;\"></line></g><g class=\"mark-text role-axis-label\" style=\"pointer-events: none;\"><text text-anchor=\"end\" transform=\"translate(-7,43)\" style=\"font-family: sans-serif; font-size: 10px; fill: #000; opacity: 1;\">0</text><text text-anchor=\"end\" transform=\"translate(-7,3)\" style=\"font-family: sans-serif; font-size: 10px; fill: #000; opacity: 1;\">1</text></g><g class=\"mark-rule role-axis-domain\" style=\"pointer-events: none;\"><line transform=\"translate(0,40)\" x2=\"0\" y2=\"-40\" style=\"fill: none; stroke: #888; stroke-width: 1; opacity: 1;\"></line></g><g class=\"mark-text role-axis-title\" style=\"pointer-events: none;\"><text text-anchor=\"middle\" transform=\"translate(-17,20) rotate(-90) translate(0,-2)\" style=\"font-family: sans-serif; font-size: 11px; font-weight: bold; fill: #000; opacity: 1;\">dose</text></g></g></g></g></g></g><g transform=\"translate(-1,310)\"><path class=\"background\" d=\"M0,0h0v40h0Z\" style=\"fill: none;\"></path><g><g class=\"mark-text role-title\" style=\"pointer-events: none;\"><text text-anchor=\"middle\" transform=\"translate(-38,20) rotate(-90) translate(0,-2)\" style=\"font-family: sans-serif; font-size: 10px; fill: #000; opacity: 1;\">6</text></g><g class=\"mark-group role-axis\"><g transform=\"translate(0.5,0.5)\"><path class=\"background\" d=\"M0,0h0v0h0Z\" style=\"pointer-events: none; fill: none;\"></path><g><g class=\"mark-rule role-axis-tick\" style=\"pointer-events: none;\"><line transform=\"translate(0,40)\" x2=\"-5\" y2=\"0\" style=\"fill: none; stroke: #888; stroke-width: 1; opacity: 1;\"></line><line transform=\"translate(0,0)\" x2=\"-5\" y2=\"0\" style=\"fill: none; stroke: #888; stroke-width: 1; opacity: 1;\"></line></g><g class=\"mark-text role-axis-label\" style=\"pointer-events: none;\"><text text-anchor=\"end\" transform=\"translate(-7,43)\" style=\"font-family: sans-serif; font-size: 10px; fill: #000; opacity: 1;\">0</text><text text-anchor=\"end\" transform=\"translate(-7,3)\" style=\"font-family: sans-serif; font-size: 10px; fill: #000; opacity: 1;\">1</text></g><g class=\"mark-rule role-axis-domain\" style=\"pointer-events: none;\"><line transform=\"translate(0,40)\" x2=\"0\" y2=\"-40\" style=\"fill: none; stroke: #888; stroke-width: 1; opacity: 1;\"></line></g><g class=\"mark-text role-axis-title\" style=\"pointer-events: none;\"><text text-anchor=\"middle\" transform=\"translate(-17,20) rotate(-90) translate(0,-2)\" style=\"font-family: sans-serif; font-size: 11px; font-weight: bold; fill: #000; opacity: 1;\">dose</text></g></g></g></g></g></g><g transform=\"translate(-1,372)\"><path class=\"background\" d=\"M0,0h0v40h0Z\" style=\"fill: none;\"></path><g><g class=\"mark-text role-title\" style=\"pointer-events: none;\"><text text-anchor=\"middle\" transform=\"translate(-38,20) rotate(-90) translate(0,-2)\" style=\"font-family: sans-serif; font-size: 10px; fill: #000; opacity: 1;\">7</text></g><g class=\"mark-group role-axis\"><g transform=\"translate(0.5,0.5)\"><path class=\"background\" d=\"M0,0h0v0h0Z\" style=\"pointer-events: none; fill: none;\"></path><g><g class=\"mark-rule role-axis-tick\" style=\"pointer-events: none;\"><line transform=\"translate(0,40)\" x2=\"-5\" y2=\"0\" style=\"fill: none; stroke: #888; stroke-width: 1; opacity: 1;\"></line><line transform=\"translate(0,0)\" x2=\"-5\" y2=\"0\" style=\"fill: none; stroke: #888; stroke-width: 1; opacity: 1;\"></line></g><g class=\"mark-text role-axis-label\" style=\"pointer-events: none;\"><text text-anchor=\"end\" transform=\"translate(-7,43)\" style=\"font-family: sans-serif; font-size: 10px; fill: #000; opacity: 1;\">0</text><text text-anchor=\"end\" transform=\"translate(-7,3)\" style=\"font-family: sans-serif; font-size: 10px; fill: #000; opacity: 1;\">1</text></g><g class=\"mark-rule role-axis-domain\" style=\"pointer-events: none;\"><line transform=\"translate(0,40)\" x2=\"0\" y2=\"-40\" style=\"fill: none; stroke: #888; stroke-width: 1; opacity: 1;\"></line></g><g class=\"mark-text role-axis-title\" style=\"pointer-events: none;\"><text text-anchor=\"middle\" transform=\"translate(-17,20) rotate(-90) translate(0,-2)\" style=\"font-family: sans-serif; font-size: 11px; font-weight: bold; fill: #000; opacity: 1;\">dose</text></g></g></g></g></g></g><g transform=\"translate(-1,434)\"><path class=\"background\" d=\"M0,0h0v40h0Z\" style=\"fill: none;\"></path><g><g class=\"mark-text role-title\" style=\"pointer-events: none;\"><text text-anchor=\"middle\" transform=\"translate(-38,20) rotate(-90) translate(0,-2)\" style=\"font-family: sans-serif; font-size: 10px; fill: #000; opacity: 1;\">8</text></g><g class=\"mark-group role-axis\"><g transform=\"translate(0.5,0.5)\"><path class=\"background\" d=\"M0,0h0v0h0Z\" style=\"pointer-events: none; fill: none;\"></path><g><g class=\"mark-rule role-axis-tick\" style=\"pointer-events: none;\"><line transform=\"translate(0,40)\" x2=\"-5\" y2=\"0\" style=\"fill: none; stroke: #888; stroke-width: 1; opacity: 1;\"></line><line transform=\"translate(0,0)\" x2=\"-5\" y2=\"0\" style=\"fill: none; stroke: #888; stroke-width: 1; opacity: 1;\"></line></g><g class=\"mark-text role-axis-label\" style=\"pointer-events: none;\"><text text-anchor=\"end\" transform=\"translate(-7,43)\" style=\"font-family: sans-serif; font-size: 10px; fill: #000; opacity: 1;\">0</text><text text-anchor=\"end\" transform=\"translate(-7,3)\" style=\"font-family: sans-serif; font-size: 10px; fill: #000; opacity: 1;\">1</text></g><g class=\"mark-rule role-axis-domain\" style=\"pointer-events: none;\"><line transform=\"translate(0,40)\" x2=\"0\" y2=\"-40\" style=\"fill: none; stroke: #888; stroke-width: 1; opacity: 1;\"></line></g><g class=\"mark-text role-axis-title\" style=\"pointer-events: none;\"><text text-anchor=\"middle\" transform=\"translate(-17,20) rotate(-90) translate(0,-2)\" style=\"font-family: sans-serif; font-size: 11px; font-weight: bold; fill: #000; opacity: 1;\">dose</text></g></g></g></g></g></g></g><g class=\"mark-group role-column-footer column_footer\"><g transform=\"translate(0,475)\"><path class=\"background\" d=\"M0,0h500v0h-500Z\" style=\"fill: none;\"></path><g><g class=\"mark-group role-axis\"><g transform=\"translate(0.5,0.5)\"><path class=\"background\" d=\"M0,0h0v0h0Z\" style=\"pointer-events: none; fill: none;\"></path><g><g class=\"mark-rule role-axis-tick\" style=\"pointer-events: none;\"><line transform=\"translate(3,0)\" x2=\"0\" y2=\"5\" style=\"fill: none; stroke: #888; stroke-width: 1; opacity: 1;\"></line><line transform=\"translate(12,0)\" x2=\"0\" y2=\"5\" style=\"fill: none; stroke: #888; stroke-width: 1; opacity: 1;\"></line><line transform=\"translate(21,0)\" x2=\"0\" y2=\"5\" style=\"fill: none; stroke: #888; stroke-width: 1; opacity: 1;\"></line><line transform=\"translate(30,0)\" x2=\"0\" y2=\"5\" style=\"fill: none; stroke: #888; stroke-width: 1; opacity: 1;\"></line><line transform=\"translate(39,0)\" x2=\"0\" y2=\"5\" style=\"fill: none; stroke: #888; stroke-width: 1; opacity: 1;\"></line><line transform=\"translate(48,0)\" x2=\"0\" y2=\"5\" style=\"fill: none; stroke: #888; stroke-width: 1; opacity: 1;\"></line><line transform=\"translate(57,0)\" x2=\"0\" y2=\"5\" style=\"fill: none; stroke: #888; stroke-width: 1; opacity: 1;\"></line><line transform=\"translate(66,0)\" x2=\"0\" y2=\"5\" style=\"fill: none; stroke: #888; stroke-width: 1; opacity: 1;\"></line><line transform=\"translate(75,0)\" x2=\"0\" y2=\"5\" style=\"fill: none; stroke: #888; stroke-width: 1; opacity: 1;\"></line><line transform=\"translate(84,0)\" x2=\"0\" y2=\"5\" style=\"fill: none; stroke: #888; stroke-width: 1; opacity: 1;\"></line><line transform=\"translate(93,0)\" x2=\"0\" y2=\"5\" style=\"fill: none; stroke: #888; stroke-width: 1; opacity: 1;\"></line><line transform=\"translate(102,0)\" x2=\"0\" y2=\"5\" style=\"fill: none; stroke: #888; stroke-width: 1; opacity: 1;\"></line><line transform=\"translate(111,0)\" x2=\"0\" y2=\"5\" style=\"fill: none; stroke: #888; stroke-width: 1; opacity: 1;\"></line><line transform=\"translate(120,0)\" x2=\"0\" y2=\"5\" style=\"fill: none; stroke: #888; stroke-width: 1; opacity: 1;\"></line><line transform=\"translate(128,0)\" x2=\"0\" y2=\"5\" style=\"fill: none; stroke: #888; stroke-width: 1; opacity: 1;\"></line><line transform=\"translate(137,0)\" x2=\"0\" y2=\"5\" style=\"fill: none; stroke: #888; stroke-width: 1; opacity: 1;\"></line><line transform=\"translate(146,0)\" x2=\"0\" y2=\"5\" style=\"fill: none; stroke: #888; stroke-width: 1; opacity: 1;\"></line><line transform=\"translate(155,0)\" x2=\"0\" y2=\"5\" style=\"fill: none; stroke: #888; stroke-width: 1; opacity: 1;\"></line><line transform=\"translate(164,0)\" x2=\"0\" y2=\"5\" style=\"fill: none; stroke: #888; stroke-width: 1; opacity: 1;\"></line><line transform=\"translate(173,0)\" x2=\"0\" y2=\"5\" style=\"fill: none; stroke: #888; stroke-width: 1; opacity: 1;\"></line><line transform=\"translate(182,0)\" x2=\"0\" y2=\"5\" style=\"fill: none; stroke: #888; stroke-width: 1; opacity: 1;\"></line><line transform=\"translate(191,0)\" x2=\"0\" y2=\"5\" style=\"fill: none; stroke: #888; stroke-width: 1; opacity: 1;\"></line><line transform=\"translate(200,0)\" x2=\"0\" y2=\"5\" style=\"fill: none; stroke: #888; stroke-width: 1; opacity: 1;\"></line><line transform=\"translate(209,0)\" x2=\"0\" y2=\"5\" style=\"fill: none; stroke: #888; stroke-width: 1; opacity: 1;\"></line><line transform=\"translate(218,0)\" x2=\"0\" y2=\"5\" style=\"fill: none; stroke: #888; stroke-width: 1; opacity: 1;\"></line><line transform=\"translate(227,0)\" x2=\"0\" y2=\"5\" style=\"fill: none; stroke: #888; stroke-width: 1; opacity: 1;\"></line><line transform=\"translate(236,0)\" x2=\"0\" y2=\"5\" style=\"fill: none; stroke: #888; stroke-width: 1; opacity: 1;\"></line><line transform=\"translate(245,0)\" x2=\"0\" y2=\"5\" style=\"fill: none; stroke: #888; stroke-width: 1; opacity: 1;\"></line><line transform=\"translate(253,0)\" x2=\"0\" y2=\"5\" style=\"fill: none; stroke: #888; stroke-width: 1; opacity: 1;\"></line><line transform=\"translate(262,0)\" x2=\"0\" y2=\"5\" style=\"fill: none; stroke: #888; stroke-width: 1; opacity: 1;\"></line><line transform=\"translate(271,0)\" x2=\"0\" y2=\"5\" style=\"fill: none; stroke: #888; stroke-width: 1; opacity: 1;\"></line><line transform=\"translate(280,0)\" x2=\"0\" y2=\"5\" style=\"fill: none; stroke: #888; stroke-width: 1; opacity: 1;\"></line><line transform=\"translate(289,0)\" x2=\"0\" y2=\"5\" style=\"fill: none; stroke: #888; stroke-width: 1; opacity: 1;\"></line><line transform=\"translate(298,0)\" x2=\"0\" y2=\"5\" style=\"fill: none; stroke: #888; stroke-width: 1; opacity: 1;\"></line><line transform=\"translate(307,0)\" x2=\"0\" y2=\"5\" style=\"fill: none; stroke: #888; stroke-width: 1; opacity: 1;\"></line><line transform=\"translate(316,0)\" x2=\"0\" y2=\"5\" style=\"fill: none; stroke: #888; stroke-width: 1; opacity: 1;\"></line><line transform=\"translate(325,0)\" x2=\"0\" y2=\"5\" style=\"fill: none; stroke: #888; stroke-width: 1; opacity: 1;\"></line><line transform=\"translate(334,0)\" x2=\"0\" y2=\"5\" style=\"fill: none; stroke: #888; stroke-width: 1; opacity: 1;\"></line><line transform=\"translate(343,0)\" x2=\"0\" y2=\"5\" style=\"fill: none; stroke: #888; stroke-width: 1; opacity: 1;\"></line><line transform=\"translate(352,0)\" x2=\"0\" y2=\"5\" style=\"fill: none; stroke: #888; stroke-width: 1; opacity: 1;\"></line><line transform=\"translate(361,0)\" x2=\"0\" y2=\"5\" style=\"fill: none; stroke: #888; stroke-width: 1; opacity: 1;\"></line><line transform=\"translate(370,0)\" x2=\"0\" y2=\"5\" style=\"fill: none; stroke: #888; stroke-width: 1; opacity: 1;\"></line><line transform=\"translate(378,0)\" x2=\"0\" y2=\"5\" style=\"fill: none; stroke: #888; stroke-width: 1; opacity: 1;\"></line><line transform=\"translate(387,0)\" x2=\"0\" y2=\"5\" style=\"fill: none; stroke: #888; stroke-width: 1; opacity: 1;\"></line><line transform=\"translate(396,0)\" x2=\"0\" y2=\"5\" style=\"fill: none; stroke: #888; stroke-width: 1; opacity: 1;\"></line><line transform=\"translate(405,0)\" x2=\"0\" y2=\"5\" style=\"fill: none; stroke: #888; stroke-width: 1; opacity: 1;\"></line><line transform=\"translate(414,0)\" x2=\"0\" y2=\"5\" style=\"fill: none; stroke: #888; stroke-width: 1; opacity: 1;\"></line><line transform=\"translate(423,0)\" x2=\"0\" y2=\"5\" style=\"fill: none; stroke: #888; stroke-width: 1; opacity: 1;\"></line><line transform=\"translate(432,0)\" x2=\"0\" y2=\"5\" style=\"fill: none; stroke: #888; stroke-width: 1; opacity: 1;\"></line><line transform=\"translate(441,0)\" x2=\"0\" y2=\"5\" style=\"fill: none; stroke: #888; stroke-width: 1; opacity: 1;\"></line><line transform=\"translate(450,0)\" x2=\"0\" y2=\"5\" style=\"fill: none; stroke: #888; stroke-width: 1; opacity: 1;\"></line><line transform=\"translate(459,0)\" x2=\"0\" y2=\"5\" style=\"fill: none; stroke: #888; stroke-width: 1; opacity: 1;\"></line><line transform=\"translate(468,0)\" x2=\"0\" y2=\"5\" style=\"fill: none; stroke: #888; stroke-width: 1; opacity: 1;\"></line><line transform=\"translate(477,0)\" x2=\"0\" y2=\"5\" style=\"fill: none; stroke: #888; stroke-width: 1; opacity: 1;\"></line><line transform=\"translate(486,0)\" x2=\"0\" y2=\"5\" style=\"fill: none; stroke: #888; stroke-width: 1; opacity: 1;\"></line><line transform=\"translate(495,0)\" x2=\"0\" y2=\"5\" style=\"fill: none; stroke: #888; stroke-width: 1; opacity: 1;\"></line></g><g class=\"mark-text role-axis-label\" style=\"pointer-events: none;\"><text text-anchor=\"end\" transform=\"translate(3.464285714285727,7) rotate(270) translate(0,3)\" style=\"font-family: sans-serif; font-size: 10px; fill: #000; opacity: 1;\">1</text><text text-anchor=\"end\" transform=\"translate(12.392857142857157,7) rotate(270) translate(0,3)\" style=\"font-family: sans-serif; font-size: 10px; fill: #000; opacity: 0;\">2</text><text text-anchor=\"end\" transform=\"translate(21.321428571428584,7) rotate(270) translate(0,3)\" style=\"font-family: sans-serif; font-size: 10px; fill: #000; opacity: 1;\">3</text><text text-anchor=\"end\" transform=\"translate(30.25000000000001,7) rotate(270) translate(0,3)\" style=\"font-family: sans-serif; font-size: 10px; fill: #000; opacity: 0;\">4</text><text text-anchor=\"end\" transform=\"translate(39.178571428571445,7) rotate(270) translate(0,3)\" style=\"font-family: sans-serif; font-size: 10px; fill: #000; opacity: 1;\">5</text><text text-anchor=\"end\" transform=\"translate(48.107142857142875,7) rotate(270) translate(0,3)\" style=\"font-family: sans-serif; font-size: 10px; fill: #000; opacity: 0;\">6</text><text text-anchor=\"end\" transform=\"translate(57.0357142857143,7) rotate(270) translate(0,3)\" style=\"font-family: sans-serif; font-size: 10px; fill: #000; opacity: 1;\">7</text><text text-anchor=\"end\" transform=\"translate(65.96428571428572,7) rotate(270) translate(0,3)\" style=\"font-family: sans-serif; font-size: 10px; fill: #000; opacity: 0;\">8</text><text text-anchor=\"end\" transform=\"translate(74.89285714285715,7) rotate(270) translate(0,3)\" style=\"font-family: sans-serif; font-size: 10px; fill: #000; opacity: 1;\">9</text><text text-anchor=\"end\" transform=\"translate(83.82142857142858,7) rotate(270) translate(0,3)\" style=\"font-family: sans-serif; font-size: 10px; fill: #000; opacity: 0;\">10</text><text text-anchor=\"end\" transform=\"translate(92.75000000000001,7) rotate(270) translate(0,3)\" style=\"font-family: sans-serif; font-size: 10px; fill: #000; opacity: 1;\">11</text><text text-anchor=\"end\" transform=\"translate(101.67857142857144,7) rotate(270) translate(0,3)\" style=\"font-family: sans-serif; font-size: 10px; fill: #000; opacity: 0;\">12</text><text text-anchor=\"end\" transform=\"translate(110.60714285714286,7) rotate(270) translate(0,3)\" style=\"font-family: sans-serif; font-size: 10px; fill: #000; opacity: 1;\">13</text><text text-anchor=\"end\" transform=\"translate(119.53571428571429,7) rotate(270) translate(0,3)\" style=\"font-family: sans-serif; font-size: 10px; fill: #000; opacity: 0;\">14</text><text text-anchor=\"end\" transform=\"translate(128.46428571428572,7) rotate(270) translate(0,3)\" style=\"font-family: sans-serif; font-size: 10px; fill: #000; opacity: 1;\">15</text><text text-anchor=\"end\" transform=\"translate(137.39285714285717,7) rotate(270) translate(0,3)\" style=\"font-family: sans-serif; font-size: 10px; fill: #000; opacity: 0;\">16</text><text text-anchor=\"end\" transform=\"translate(146.32142857142858,7) rotate(270) translate(0,3)\" style=\"font-family: sans-serif; font-size: 10px; fill: #000; opacity: 1;\">17</text><text text-anchor=\"end\" transform=\"translate(155.25,7) rotate(270) translate(0,3)\" style=\"font-family: sans-serif; font-size: 10px; fill: #000; opacity: 0;\">18</text><text text-anchor=\"end\" transform=\"translate(164.17857142857144,7) rotate(270) translate(0,3)\" style=\"font-family: sans-serif; font-size: 10px; fill: #000; opacity: 1;\">19</text><text text-anchor=\"end\" transform=\"translate(173.10714285714286,7) rotate(270) translate(0,3)\" style=\"font-family: sans-serif; font-size: 10px; fill: #000; opacity: 0;\">20</text><text text-anchor=\"end\" transform=\"translate(182.0357142857143,7) rotate(270) translate(0,3)\" style=\"font-family: sans-serif; font-size: 10px; fill: #000; opacity: 1;\">21</text><text text-anchor=\"end\" transform=\"translate(190.96428571428572,7) rotate(270) translate(0,3)\" style=\"font-family: sans-serif; font-size: 10px; fill: #000; opacity: 0;\">22</text><text text-anchor=\"end\" transform=\"translate(199.89285714285717,7) rotate(270) translate(0,3)\" style=\"font-family: sans-serif; font-size: 10px; fill: #000; opacity: 1;\">23</text><text text-anchor=\"end\" transform=\"translate(208.82142857142858,7) rotate(270) translate(0,3)\" style=\"font-family: sans-serif; font-size: 10px; fill: #000; opacity: 0;\">24</text><text text-anchor=\"end\" transform=\"translate(217.75,7) rotate(270) translate(0,3)\" style=\"font-family: sans-serif; font-size: 10px; fill: #000; opacity: 1;\">25</text><text text-anchor=\"end\" transform=\"translate(226.67857142857144,7) rotate(270) translate(0,3)\" style=\"font-family: sans-serif; font-size: 10px; fill: #000; opacity: 0;\">26</text><text text-anchor=\"end\" transform=\"translate(235.60714285714286,7) rotate(270) translate(0,3)\" style=\"font-family: sans-serif; font-size: 10px; fill: #000; opacity: 1;\">27</text><text text-anchor=\"end\" transform=\"translate(244.5357142857143,7) rotate(270) translate(0,3)\" style=\"font-family: sans-serif; font-size: 10px; fill: #000; opacity: 0;\">28</text><text text-anchor=\"end\" transform=\"translate(253.46428571428572,7) rotate(270) translate(0,3)\" style=\"font-family: sans-serif; font-size: 10px; fill: #000; opacity: 1;\">29</text><text text-anchor=\"end\" transform=\"translate(262.39285714285717,7) rotate(270) translate(0,3)\" style=\"font-family: sans-serif; font-size: 10px; fill: #000; opacity: 0;\">30</text><text text-anchor=\"end\" transform=\"translate(271.3214285714286,7) rotate(270) translate(0,3)\" style=\"font-family: sans-serif; font-size: 10px; fill: #000; opacity: 1;\">31</text><text text-anchor=\"end\" transform=\"translate(280.25000000000006,7) rotate(270) translate(0,3)\" style=\"font-family: sans-serif; font-size: 10px; fill: #000; opacity: 0;\">32</text><text text-anchor=\"end\" transform=\"translate(289.1785714285715,7) rotate(270) translate(0,3)\" style=\"font-family: sans-serif; font-size: 10px; fill: #000; opacity: 1;\">33</text><text text-anchor=\"end\" transform=\"translate(298.10714285714295,7) rotate(270) translate(0,3)\" style=\"font-family: sans-serif; font-size: 10px; fill: #000; opacity: 0;\">34</text><text text-anchor=\"end\" transform=\"translate(307.0357142857143,7) rotate(270) translate(0,3)\" style=\"font-family: sans-serif; font-size: 10px; fill: #000; opacity: 1;\">35</text><text text-anchor=\"end\" transform=\"translate(315.9642857142857,7) rotate(270) translate(0,3)\" style=\"font-family: sans-serif; font-size: 10px; fill: #000; opacity: 0;\">36</text><text text-anchor=\"end\" transform=\"translate(324.89285714285717,7) rotate(270) translate(0,3)\" style=\"font-family: sans-serif; font-size: 10px; fill: #000; opacity: 1;\">37</text><text text-anchor=\"end\" transform=\"translate(333.8214285714286,7) rotate(270) translate(0,3)\" style=\"font-family: sans-serif; font-size: 10px; fill: #000; opacity: 0;\">38</text><text text-anchor=\"end\" transform=\"translate(342.75000000000006,7) rotate(270) translate(0,3)\" style=\"font-family: sans-serif; font-size: 10px; fill: #000; opacity: 1;\">39</text><text text-anchor=\"end\" transform=\"translate(351.6785714285715,7) rotate(270) translate(0,3)\" style=\"font-family: sans-serif; font-size: 10px; fill: #000; opacity: 0;\">40</text><text text-anchor=\"end\" transform=\"translate(360.60714285714295,7) rotate(270) translate(0,3)\" style=\"font-family: sans-serif; font-size: 10px; fill: #000; opacity: 1;\">41</text><text text-anchor=\"end\" transform=\"translate(369.5357142857143,7) rotate(270) translate(0,3)\" style=\"font-family: sans-serif; font-size: 10px; fill: #000; opacity: 0;\">42</text><text text-anchor=\"end\" transform=\"translate(378.4642857142857,7) rotate(270) translate(0,3)\" style=\"font-family: sans-serif; font-size: 10px; fill: #000; opacity: 1;\">43</text><text text-anchor=\"end\" transform=\"translate(387.39285714285717,7) rotate(270) translate(0,3)\" style=\"font-family: sans-serif; font-size: 10px; fill: #000; opacity: 0;\">44</text><text text-anchor=\"end\" transform=\"translate(396.3214285714286,7) rotate(270) translate(0,3)\" style=\"font-family: sans-serif; font-size: 10px; fill: #000; opacity: 1;\">45</text><text text-anchor=\"end\" transform=\"translate(405.25000000000006,7) rotate(270) translate(0,3)\" style=\"font-family: sans-serif; font-size: 10px; fill: #000; opacity: 0;\">46</text><text text-anchor=\"end\" transform=\"translate(414.1785714285715,7) rotate(270) translate(0,3)\" style=\"font-family: sans-serif; font-size: 10px; fill: #000; opacity: 1;\">47</text><text text-anchor=\"end\" transform=\"translate(423.10714285714295,7) rotate(270) translate(0,3)\" style=\"font-family: sans-serif; font-size: 10px; fill: #000; opacity: 0;\">48</text><text text-anchor=\"end\" transform=\"translate(432.0357142857143,7) rotate(270) translate(0,3)\" style=\"font-family: sans-serif; font-size: 10px; fill: #000; opacity: 1;\">49</text><text text-anchor=\"end\" transform=\"translate(440.9642857142857,7) rotate(270) translate(0,3)\" style=\"font-family: sans-serif; font-size: 10px; fill: #000; opacity: 0;\">50</text><text text-anchor=\"end\" transform=\"translate(449.89285714285717,7) rotate(270) translate(0,3)\" style=\"font-family: sans-serif; font-size: 10px; fill: #000; opacity: 1;\">51</text><text text-anchor=\"end\" transform=\"translate(458.8214285714286,7) rotate(270) translate(0,3)\" style=\"font-family: sans-serif; font-size: 10px; fill: #000; opacity: 0;\">52</text><text text-anchor=\"end\" transform=\"translate(467.75000000000006,7) rotate(270) translate(0,3)\" style=\"font-family: sans-serif; font-size: 10px; fill: #000; opacity: 1;\">53</text><text text-anchor=\"end\" transform=\"translate(476.6785714285715,7) rotate(270) translate(0,3)\" style=\"font-family: sans-serif; font-size: 10px; fill: #000; opacity: 0;\">54</text><text text-anchor=\"end\" transform=\"translate(485.60714285714295,7) rotate(270) translate(0,3)\" style=\"font-family: sans-serif; font-size: 10px; fill: #000; opacity: 1;\">55</text><text text-anchor=\"end\" transform=\"translate(494.5357142857144,7) rotate(270) translate(0,3)\" style=\"font-family: sans-serif; font-size: 10px; fill: #000; opacity: 0;\">56</text></g><g class=\"mark-rule role-axis-domain\" style=\"pointer-events: none;\"><line transform=\"translate(0,0)\" x2=\"500\" y2=\"0\" style=\"fill: none; stroke: #888; stroke-width: 1; opacity: 1;\"></line></g><g class=\"mark-text role-axis-title\" style=\"pointer-events: none;\"><text text-anchor=\"middle\" transform=\"translate(250,32)\" style=\"font-family: sans-serif; font-size: 11px; font-weight: bold; fill: #000; opacity: 1;\">day</text></g></g></g></g></g></g></g><g class=\"mark-group role-scope cell\"><g transform=\"translate(0,0)\"><path class=\"background\" d=\"M0.5,0.5h500v40h-500Z\" style=\"fill: none; stroke: #ddd;\"></path><g><g class=\"mark-group role-axis\"><g transform=\"translate(0.5,0.5)\"><path class=\"background\" d=\"M0,0h0v0h0Z\" style=\"pointer-events: none; fill: none;\"></path><g><g class=\"mark-rule role-axis-grid\" style=\"pointer-events: none;\"><line transform=\"translate(0,40)\" x2=\"500\" y2=\"0\" style=\"fill: none; stroke: #ddd; stroke-width: 1; opacity: 1;\"></line><line transform=\"translate(0,0)\" x2=\"500\" y2=\"0\" style=\"fill: none; stroke: #ddd; stroke-width: 1; opacity: 1;\"></line></g></g></g></g><g class=\"mark-rect role-mark child_marks\"><path d=\"M0.4464285714285836,0h8.035714285714286v40h-8.035714285714286Z\" style=\"fill: #f58518; opacity: 0.7;\"></path><path d=\"M9.375000000000012,6.666666666666664h8.035714285714286v33.333333333333336h-8.035714285714286Z\" style=\"fill: #f58518; opacity: 0.7;\"></path><path d=\"M18.30357142857144,13.333333333333336h8.035714285714286v26.666666666666664h-8.035714285714286Z\" style=\"fill: #f58518; opacity: 0.7;\"></path><path d=\"M27.23214285714287,20h8.035714285714286v20h-8.035714285714286Z\" style=\"fill: #f58518; opacity: 0.7;\"></path><path d=\"M36.1607142857143,26.666666666666668h8.035714285714286v13.333333333333332h-8.035714285714286Z\" style=\"fill: #f58518; opacity: 0.7;\"></path><path d=\"M45.08928571428573,33.333333333333336h8.035714285714286v6.666666666666664h-8.035714285714286Z\" style=\"fill: #f58518; opacity: 0.7;\"></path><path d=\"M54.01785714285715,40h8.035714285714286v0h-8.035714285714286Z\" style=\"fill: #f58518; opacity: 0.7;\"></path><path d=\"M0.4464285714285836,0h8.035714285714286v40h-8.035714285714286Z\" style=\"fill: #4c78a8; opacity: 0.7;\"></path><path d=\"M9.375000000000012,0h8.035714285714286v40h-8.035714285714286Z\" style=\"fill: #4c78a8; opacity: 0.7;\"></path><path d=\"M18.30357142857144,40h8.035714285714286v0h-8.035714285714286Z\" style=\"fill: #4c78a8; opacity: 0.7;\"></path><path d=\"M27.23214285714287,0h8.035714285714286v40h-8.035714285714286Z\" style=\"fill: #4c78a8; opacity: 0.7;\"></path><path d=\"M36.1607142857143,40h8.035714285714286v0h-8.035714285714286Z\" style=\"fill: #4c78a8; opacity: 0.7;\"></path><path d=\"M45.08928571428573,40h8.035714285714286v0h-8.035714285714286Z\" style=\"fill: #4c78a8; opacity: 0.7;\"></path><path d=\"M54.01785714285715,40h8.035714285714286v0h-8.035714285714286Z\" style=\"fill: #4c78a8; opacity: 0.7;\"></path></g></g></g><g transform=\"translate(0,62)\"><path class=\"background\" d=\"M0.5,0.5h500v40h-500Z\" style=\"fill: none; stroke: #ddd;\"></path><g><g class=\"mark-group role-axis\"><g transform=\"translate(0.5,0.5)\"><path class=\"background\" d=\"M0,0h0v0h0Z\" style=\"pointer-events: none; fill: none;\"></path><g><g class=\"mark-rule role-axis-grid\" style=\"pointer-events: none;\"><line transform=\"translate(0,40)\" x2=\"500\" y2=\"0\" style=\"fill: none; stroke: #ddd; stroke-width: 1; opacity: 1;\"></line><line transform=\"translate(0,0)\" x2=\"500\" y2=\"0\" style=\"fill: none; stroke: #ddd; stroke-width: 1; opacity: 1;\"></line></g></g></g></g><g class=\"mark-rect role-mark child_marks\"><path d=\"M0.4464285714285836,0h8.035714285714286v40h-8.035714285714286Z\" style=\"fill: #f58518; opacity: 0.7;\"></path><path d=\"M9.375000000000012,3.076923076923073h8.035714285714286v36.92307692307693h-8.035714285714286Z\" style=\"fill: #f58518; opacity: 0.7;\"></path><path d=\"M18.30357142857144,6.153846153846153h8.035714285714286v33.84615384615385h-8.035714285714286Z\" style=\"fill: #f58518; opacity: 0.7;\"></path><path d=\"M27.23214285714287,9.23076923076923h8.035714285714286v30.76923076923077h-8.035714285714286Z\" style=\"fill: #f58518; opacity: 0.7;\"></path><path d=\"M36.1607142857143,12.307692307692307h8.035714285714286v27.692307692307693h-8.035714285714286Z\" style=\"fill: #f58518; opacity: 0.7;\"></path><path d=\"M45.08928571428573,15.384615384615383h8.035714285714286v24.615384615384617h-8.035714285714286Z\" style=\"fill: #f58518; opacity: 0.7;\"></path><path d=\"M54.01785714285715,18.461538461538463h8.035714285714286v21.538461538461537h-8.035714285714286Z\" style=\"fill: #f58518; opacity: 0.7;\"></path><path d=\"M62.946428571428584,21.538461538461537h8.035714285714286v18.461538461538463h-8.035714285714286Z\" style=\"fill: #f58518; opacity: 0.7;\"></path><path d=\"M71.87500000000001,24.615384615384613h8.035714285714286v15.384615384615387h-8.035714285714286Z\" style=\"fill: #f58518; opacity: 0.7;\"></path><path d=\"M80.80357142857144,27.692307692307693h8.035714285714286v12.307692307692307h-8.035714285714286Z\" style=\"fill: #f58518; opacity: 0.7;\"></path><path d=\"M89.73214285714288,30.769230769230766h8.035714285714286v9.230769230769234h-8.035714285714286Z\" style=\"fill: #f58518; opacity: 0.7;\"></path><path d=\"M98.6607142857143,33.84615384615385h8.035714285714286v6.153846153846153h-8.035714285714286Z\" style=\"fill: #f58518; opacity: 0.7;\"></path><path d=\"M107.58928571428572,36.92307692307692h8.035714285714286v3.07692307692308h-8.035714285714286Z\" style=\"fill: #f58518; opacity: 0.7;\"></path><path d=\"M116.51785714285715,40h8.035714285714286v0h-8.035714285714286Z\" style=\"fill: #f58518; opacity: 0.7;\"></path><path d=\"M0.4464285714285836,0h8.035714285714286v40h-8.035714285714286Z\" style=\"fill: #4c78a8; opacity: 0.7;\"></path><path d=\"M9.375000000000012,0h8.035714285714286v40h-8.035714285714286Z\" style=\"fill: #4c78a8; opacity: 0.7;\"></path><path d=\"M18.30357142857144,0h8.035714285714286v40h-8.035714285714286Z\" style=\"fill: #4c78a8; opacity: 0.7;\"></path><path d=\"M27.23214285714287,0h8.035714285714286v40h-8.035714285714286Z\" style=\"fill: #4c78a8; opacity: 0.7;\"></path><path d=\"M36.1607142857143,40h8.035714285714286v0h-8.035714285714286Z\" style=\"fill: #4c78a8; opacity: 0.7;\"></path><path d=\"M45.08928571428573,0h8.035714285714286v40h-8.035714285714286Z\" style=\"fill: #4c78a8; opacity: 0.7;\"></path><path d=\"M54.01785714285715,40h8.035714285714286v0h-8.035714285714286Z\" style=\"fill: #4c78a8; opacity: 0.7;\"></path><path d=\"M62.946428571428584,0h8.035714285714286v40h-8.035714285714286Z\" style=\"fill: #4c78a8; opacity: 0.7;\"></path><path d=\"M71.87500000000001,40h8.035714285714286v0h-8.035714285714286Z\" style=\"fill: #4c78a8; opacity: 0.7;\"></path><path d=\"M80.80357142857144,0h8.035714285714286v40h-8.035714285714286Z\" style=\"fill: #4c78a8; opacity: 0.7;\"></path><path d=\"M89.73214285714288,40h8.035714285714286v0h-8.035714285714286Z\" style=\"fill: #4c78a8; opacity: 0.7;\"></path><path d=\"M98.6607142857143,40h8.035714285714286v0h-8.035714285714286Z\" style=\"fill: #4c78a8; opacity: 0.7;\"></path><path d=\"M107.58928571428572,40h8.035714285714286v0h-8.035714285714286Z\" style=\"fill: #4c78a8; opacity: 0.7;\"></path><path d=\"M116.51785714285715,40h8.035714285714286v0h-8.035714285714286Z\" style=\"fill: #4c78a8; opacity: 0.7;\"></path></g></g></g><g transform=\"translate(0,124)\"><path class=\"background\" d=\"M0.5,0.5h500v40h-500Z\" style=\"fill: none; stroke: #ddd;\"></path><g><g class=\"mark-group role-axis\"><g transform=\"translate(0.5,0.5)\"><path class=\"background\" d=\"M0,0h0v0h0Z\" style=\"pointer-events: none; fill: none;\"></path><g><g class=\"mark-rule role-axis-grid\" style=\"pointer-events: none;\"><line transform=\"translate(0,40)\" x2=\"500\" y2=\"0\" style=\"fill: none; stroke: #ddd; stroke-width: 1; opacity: 1;\"></line><line transform=\"translate(0,0)\" x2=\"500\" y2=\"0\" style=\"fill: none; stroke: #ddd; stroke-width: 1; opacity: 1;\"></line></g></g></g></g><g class=\"mark-rect role-mark child_marks\"><path d=\"M0.4464285714285836,0h8.035714285714286v40h-8.035714285714286Z\" style=\"fill: #f58518; opacity: 0.7;\"></path><path d=\"M9.375000000000012,2h8.035714285714286v38h-8.035714285714286Z\" style=\"fill: #f58518; opacity: 0.7;\"></path><path d=\"M18.30357142857144,4h8.035714285714286v36h-8.035714285714286Z\" style=\"fill: #f58518; opacity: 0.7;\"></path><path d=\"M27.23214285714287,6h8.035714285714286v34h-8.035714285714286Z\" style=\"fill: #f58518; opacity: 0.7;\"></path><path d=\"M36.1607142857143,8h8.035714285714286v32h-8.035714285714286Z\" style=\"fill: #f58518; opacity: 0.7;\"></path><path d=\"M45.08928571428573,10h8.035714285714286v30h-8.035714285714286Z\" style=\"fill: #f58518; opacity: 0.7;\"></path><path d=\"M54.01785714285715,12h8.035714285714286v28h-8.035714285714286Z\" style=\"fill: #f58518; opacity: 0.7;\"></path><path d=\"M62.946428571428584,14h8.035714285714286v26h-8.035714285714286Z\" style=\"fill: #f58518; opacity: 0.7;\"></path><path d=\"M71.87500000000001,16h8.035714285714286v24h-8.035714285714286Z\" style=\"fill: #f58518; opacity: 0.7;\"></path><path d=\"M80.80357142857144,18h8.035714285714286v22h-8.035714285714286Z\" style=\"fill: #f58518; opacity: 0.7;\"></path><path d=\"M89.73214285714288,20h8.035714285714286v20h-8.035714285714286Z\" style=\"fill: #f58518; opacity: 0.7;\"></path><path d=\"M98.6607142857143,22h8.035714285714286v18h-8.035714285714286Z\" style=\"fill: #f58518; opacity: 0.7;\"></path><path d=\"M107.58928571428572,24h8.035714285714286v16h-8.035714285714286Z\" style=\"fill: #f58518; opacity: 0.7;\"></path><path d=\"M116.51785714285715,26h8.035714285714286v14h-8.035714285714286Z\" style=\"fill: #f58518; opacity: 0.7;\"></path><path d=\"M125.44642857142858,28h8.035714285714286v12h-8.035714285714286Z\" style=\"fill: #f58518; opacity: 0.7;\"></path><path d=\"M134.37500000000003,30h8.035714285714286v10h-8.035714285714286Z\" style=\"fill: #f58518; opacity: 0.7;\"></path><path d=\"M143.30357142857144,32h8.035714285714286v8h-8.035714285714286Z\" style=\"fill: #f58518; opacity: 0.7;\"></path><path d=\"M152.23214285714286,34h8.035714285714286v6h-8.035714285714286Z\" style=\"fill: #f58518; opacity: 0.7;\"></path><path d=\"M161.1607142857143,36h8.035714285714286v4h-8.035714285714286Z\" style=\"fill: #f58518; opacity: 0.7;\"></path><path d=\"M170.08928571428572,38h8.035714285714286v2h-8.035714285714286Z\" style=\"fill: #f58518; opacity: 0.7;\"></path><path d=\"M179.01785714285717,40h8.035714285714286v0h-8.035714285714286Z\" style=\"fill: #f58518; opacity: 0.7;\"></path><path d=\"M0.4464285714285836,0h8.035714285714286v40h-8.035714285714286Z\" style=\"fill: #4c78a8; opacity: 0.7;\"></path><path d=\"M9.375000000000012,0h8.035714285714286v40h-8.035714285714286Z\" style=\"fill: #4c78a8; opacity: 0.7;\"></path><path d=\"M18.30357142857144,0h8.035714285714286v40h-8.035714285714286Z\" style=\"fill: #4c78a8; opacity: 0.7;\"></path><path d=\"M27.23214285714287,0h8.035714285714286v40h-8.035714285714286Z\" style=\"fill: #4c78a8; opacity: 0.7;\"></path><path d=\"M36.1607142857143,40h8.035714285714286v0h-8.035714285714286Z\" style=\"fill: #4c78a8; opacity: 0.7;\"></path><path d=\"M45.08928571428573,0h8.035714285714286v40h-8.035714285714286Z\" style=\"fill: #4c78a8; opacity: 0.7;\"></path><path d=\"M54.01785714285715,0h8.035714285714286v40h-8.035714285714286Z\" style=\"fill: #4c78a8; opacity: 0.7;\"></path><path d=\"M62.946428571428584,0h8.035714285714286v40h-8.035714285714286Z\" style=\"fill: #4c78a8; opacity: 0.7;\"></path><path d=\"M71.87500000000001,40h8.035714285714286v0h-8.035714285714286Z\" style=\"fill: #4c78a8; opacity: 0.7;\"></path><path d=\"M80.80357142857144,0h8.035714285714286v40h-8.035714285714286Z\" style=\"fill: #4c78a8; opacity: 0.7;\"></path><path d=\"M89.73214285714288,40h8.035714285714286v0h-8.035714285714286Z\" style=\"fill: #4c78a8; opacity: 0.7;\"></path><path d=\"M98.6607142857143,0h8.035714285714286v40h-8.035714285714286Z\" style=\"fill: #4c78a8; opacity: 0.7;\"></path><path d=\"M107.58928571428572,40h8.035714285714286v0h-8.035714285714286Z\" style=\"fill: #4c78a8; opacity: 0.7;\"></path><path d=\"M116.51785714285715,40h8.035714285714286v0h-8.035714285714286Z\" style=\"fill: #4c78a8; opacity: 0.7;\"></path><path d=\"M125.44642857142858,0h8.035714285714286v40h-8.035714285714286Z\" style=\"fill: #4c78a8; opacity: 0.7;\"></path><path d=\"M134.37500000000003,40h8.035714285714286v0h-8.035714285714286Z\" style=\"fill: #4c78a8; opacity: 0.7;\"></path><path d=\"M143.30357142857144,40h8.035714285714286v0h-8.035714285714286Z\" style=\"fill: #4c78a8; opacity: 0.7;\"></path><path d=\"M152.23214285714286,40h8.035714285714286v0h-8.035714285714286Z\" style=\"fill: #4c78a8; opacity: 0.7;\"></path><path d=\"M161.1607142857143,40h8.035714285714286v0h-8.035714285714286Z\" style=\"fill: #4c78a8; opacity: 0.7;\"></path><path d=\"M170.08928571428572,40h8.035714285714286v0h-8.035714285714286Z\" style=\"fill: #4c78a8; opacity: 0.7;\"></path><path d=\"M179.01785714285717,40h8.035714285714286v0h-8.035714285714286Z\" style=\"fill: #4c78a8; opacity: 0.7;\"></path></g></g></g><g transform=\"translate(0,186)\"><path class=\"background\" d=\"M0.5,0.5h500v40h-500Z\" style=\"fill: none; stroke: #ddd;\"></path><g><g class=\"mark-group role-axis\"><g transform=\"translate(0.5,0.5)\"><path class=\"background\" d=\"M0,0h0v0h0Z\" style=\"pointer-events: none; fill: none;\"></path><g><g class=\"mark-rule role-axis-grid\" style=\"pointer-events: none;\"><line transform=\"translate(0,40)\" x2=\"500\" y2=\"0\" style=\"fill: none; stroke: #ddd; stroke-width: 1; opacity: 1;\"></line><line transform=\"translate(0,0)\" x2=\"500\" y2=\"0\" style=\"fill: none; stroke: #ddd; stroke-width: 1; opacity: 1;\"></line></g></g></g></g><g class=\"mark-rect role-mark child_marks\"><path d=\"M0.4464285714285836,0h8.035714285714286v40h-8.035714285714286Z\" style=\"fill: #f58518; opacity: 0.7;\"></path><path d=\"M9.375000000000012,1.481481481481481h8.035714285714286v38.51851851851852h-8.035714285714286Z\" style=\"fill: #f58518; opacity: 0.7;\"></path><path d=\"M18.30357142857144,2.962962962962962h8.035714285714286v37.03703703703704h-8.035714285714286Z\" style=\"fill: #f58518; opacity: 0.7;\"></path><path d=\"M27.23214285714287,4.444444444444443h8.035714285714286v35.55555555555556h-8.035714285714286Z\" style=\"fill: #f58518; opacity: 0.7;\"></path><path d=\"M36.1607142857143,5.925925925925924h8.035714285714286v34.074074074074076h-8.035714285714286Z\" style=\"fill: #f58518; opacity: 0.7;\"></path><path d=\"M45.08928571428573,7.407407407407412h8.035714285714286v32.59259259259259h-8.035714285714286Z\" style=\"fill: #f58518; opacity: 0.7;\"></path><path d=\"M54.01785714285715,8.88888888888889h8.035714285714286v31.11111111111111h-8.035714285714286Z\" style=\"fill: #f58518; opacity: 0.7;\"></path><path d=\"M62.946428571428584,10.370370370370374h8.035714285714286v29.629629629629626h-8.035714285714286Z\" style=\"fill: #f58518; opacity: 0.7;\"></path><path d=\"M71.87500000000001,11.851851851851851h8.035714285714286v28.14814814814815h-8.035714285714286Z\" style=\"fill: #f58518; opacity: 0.7;\"></path><path d=\"M80.80357142857144,13.333333333333336h8.035714285714286v26.666666666666664h-8.035714285714286Z\" style=\"fill: #f58518; opacity: 0.7;\"></path><path d=\"M89.73214285714288,14.814814814814813h8.035714285714286v25.185185185185187h-8.035714285714286Z\" style=\"fill: #f58518; opacity: 0.7;\"></path><path d=\"M98.6607142857143,16.296296296296298h8.035714285714286v23.703703703703702h-8.035714285714286Z\" style=\"fill: #f58518; opacity: 0.7;\"></path><path d=\"M107.58928571428572,17.77777777777778h8.035714285714286v22.22222222222222h-8.035714285714286Z\" style=\"fill: #f58518; opacity: 0.7;\"></path><path d=\"M116.51785714285715,19.25925925925926h8.035714285714286v20.74074074074074h-8.035714285714286Z\" style=\"fill: #f58518; opacity: 0.7;\"></path><path d=\"M125.44642857142858,20.74074074074074h8.035714285714286v19.25925925925926h-8.035714285714286Z\" style=\"fill: #f58518; opacity: 0.7;\"></path><path d=\"M134.37500000000003,22.22222222222222h8.035714285714286v17.77777777777778h-8.035714285714286Z\" style=\"fill: #f58518; opacity: 0.7;\"></path><path d=\"M143.30357142857144,23.703703703703706h8.035714285714286v16.296296296296294h-8.035714285714286Z\" style=\"fill: #f58518; opacity: 0.7;\"></path><path d=\"M152.23214285714286,25.185185185185187h8.035714285714286v14.814814814814813h-8.035714285714286Z\" style=\"fill: #f58518; opacity: 0.7;\"></path><path d=\"M161.1607142857143,26.666666666666668h8.035714285714286v13.333333333333332h-8.035714285714286Z\" style=\"fill: #f58518; opacity: 0.7;\"></path><path d=\"M170.08928571428572,28.14814814814815h8.035714285714286v11.851851851851851h-8.035714285714286Z\" style=\"fill: #f58518; opacity: 0.7;\"></path><path d=\"M179.01785714285717,29.62962962962963h8.035714285714286v10.37037037037037h-8.035714285714286Z\" style=\"fill: #f58518; opacity: 0.7;\"></path><path d=\"M187.94642857142858,31.11111111111111h8.035714285714286v8.88888888888889h-8.035714285714286Z\" style=\"fill: #f58518; opacity: 0.7;\"></path><path d=\"M196.87500000000003,32.592592592592595h8.035714285714286v7.407407407407405h-8.035714285714286Z\" style=\"fill: #f58518; opacity: 0.7;\"></path><path d=\"M205.80357142857144,34.074074074074076h8.035714285714286v5.925925925925924h-8.035714285714286Z\" style=\"fill: #f58518; opacity: 0.7;\"></path><path d=\"M214.73214285714286,35.55555555555556h8.035714285714286v4.444444444444443h-8.035714285714286Z\" style=\"fill: #f58518; opacity: 0.7;\"></path><path d=\"M223.6607142857143,37.03703703703704h8.035714285714286v2.962962962962962h-8.035714285714286Z\" style=\"fill: #f58518; opacity: 0.7;\"></path><path d=\"M232.58928571428572,38.51851851851852h8.035714285714286v1.481481481481481h-8.035714285714286Z\" style=\"fill: #f58518; opacity: 0.7;\"></path><path d=\"M241.51785714285717,40h8.035714285714286v0h-8.035714285714286Z\" style=\"fill: #f58518; opacity: 0.7;\"></path><path d=\"M0.4464285714285836,0h8.035714285714286v40h-8.035714285714286Z\" style=\"fill: #4c78a8; opacity: 0.7;\"></path><path d=\"M9.375000000000012,0h8.035714285714286v40h-8.035714285714286Z\" style=\"fill: #4c78a8; opacity: 0.7;\"></path><path d=\"M18.30357142857144,0h8.035714285714286v40h-8.035714285714286Z\" style=\"fill: #4c78a8; opacity: 0.7;\"></path><path d=\"M27.23214285714287,0h8.035714285714286v40h-8.035714285714286Z\" style=\"fill: #4c78a8; opacity: 0.7;\"></path><path d=\"M36.1607142857143,0h8.035714285714286v40h-8.035714285714286Z\" style=\"fill: #4c78a8; opacity: 0.7;\"></path><path d=\"M45.08928571428573,40h8.035714285714286v0h-8.035714285714286Z\" style=\"fill: #4c78a8; opacity: 0.7;\"></path><path d=\"M54.01785714285715,0h8.035714285714286v40h-8.035714285714286Z\" style=\"fill: #4c78a8; opacity: 0.7;\"></path><path d=\"M62.946428571428584,0h8.035714285714286v40h-8.035714285714286Z\" style=\"fill: #4c78a8; opacity: 0.7;\"></path><path d=\"M71.87500000000001,0h8.035714285714286v40h-8.035714285714286Z\" style=\"fill: #4c78a8; opacity: 0.7;\"></path><path d=\"M80.80357142857144,40h8.035714285714286v0h-8.035714285714286Z\" style=\"fill: #4c78a8; opacity: 0.7;\"></path><path d=\"M89.73214285714288,0h8.035714285714286v40h-8.035714285714286Z\" style=\"fill: #4c78a8; opacity: 0.7;\"></path><path d=\"M98.6607142857143,0h8.035714285714286v40h-8.035714285714286Z\" style=\"fill: #4c78a8; opacity: 0.7;\"></path><path d=\"M107.58928571428572,40h8.035714285714286v0h-8.035714285714286Z\" style=\"fill: #4c78a8; opacity: 0.7;\"></path><path d=\"M116.51785714285715,0h8.035714285714286v40h-8.035714285714286Z\" style=\"fill: #4c78a8; opacity: 0.7;\"></path><path d=\"M125.44642857142858,40h8.035714285714286v0h-8.035714285714286Z\" style=\"fill: #4c78a8; opacity: 0.7;\"></path><path d=\"M134.37500000000003,0h8.035714285714286v40h-8.035714285714286Z\" style=\"fill: #4c78a8; opacity: 0.7;\"></path><path d=\"M143.30357142857144,40h8.035714285714286v0h-8.035714285714286Z\" style=\"fill: #4c78a8; opacity: 0.7;\"></path><path d=\"M152.23214285714286,40h8.035714285714286v0h-8.035714285714286Z\" style=\"fill: #4c78a8; opacity: 0.7;\"></path><path d=\"M161.1607142857143,0h8.035714285714286v40h-8.035714285714286Z\" style=\"fill: #4c78a8; opacity: 0.7;\"></path><path d=\"M170.08928571428572,40h8.035714285714286v0h-8.035714285714286Z\" style=\"fill: #4c78a8; opacity: 0.7;\"></path><path d=\"M179.01785714285717,40h8.035714285714286v0h-8.035714285714286Z\" style=\"fill: #4c78a8; opacity: 0.7;\"></path><path d=\"M187.94642857142858,40h8.035714285714286v0h-8.035714285714286Z\" style=\"fill: #4c78a8; opacity: 0.7;\"></path><path d=\"M196.87500000000003,0h8.035714285714286v40h-8.035714285714286Z\" style=\"fill: #4c78a8; opacity: 0.7;\"></path><path d=\"M205.80357142857144,40h8.035714285714286v0h-8.035714285714286Z\" style=\"fill: #4c78a8; opacity: 0.7;\"></path><path d=\"M214.73214285714286,40h8.035714285714286v0h-8.035714285714286Z\" style=\"fill: #4c78a8; opacity: 0.7;\"></path><path d=\"M223.6607142857143,40h8.035714285714286v0h-8.035714285714286Z\" style=\"fill: #4c78a8; opacity: 0.7;\"></path><path d=\"M232.58928571428572,40h8.035714285714286v0h-8.035714285714286Z\" style=\"fill: #4c78a8; opacity: 0.7;\"></path><path d=\"M241.51785714285717,40h8.035714285714286v0h-8.035714285714286Z\" style=\"fill: #4c78a8; opacity: 0.7;\"></path></g></g></g><g transform=\"translate(0,248)\"><path class=\"background\" d=\"M0.5,0.5h500v40h-500Z\" style=\"fill: none; stroke: #ddd;\"></path><g><g class=\"mark-group role-axis\"><g transform=\"translate(0.5,0.5)\"><path class=\"background\" d=\"M0,0h0v0h0Z\" style=\"pointer-events: none; fill: none;\"></path><g><g class=\"mark-rule role-axis-grid\" style=\"pointer-events: none;\"><line transform=\"translate(0,40)\" x2=\"500\" y2=\"0\" style=\"fill: none; stroke: #ddd; stroke-width: 1; opacity: 1;\"></line><line transform=\"translate(0,0)\" x2=\"500\" y2=\"0\" style=\"fill: none; stroke: #ddd; stroke-width: 1; opacity: 1;\"></line></g></g></g></g><g class=\"mark-rect role-mark child_marks\"><path d=\"M0.4464285714285836,0h8.035714285714286v40h-8.035714285714286Z\" style=\"fill: #f58518; opacity: 0.7;\"></path><path d=\"M9.375000000000012,1.176470588235297h8.035714285714286v38.8235294117647h-8.035714285714286Z\" style=\"fill: #f58518; opacity: 0.7;\"></path><path d=\"M18.30357142857144,2.352941176470587h8.035714285714286v37.64705882352941h-8.035714285714286Z\" style=\"fill: #f58518; opacity: 0.7;\"></path><path d=\"M27.23214285714287,3.529411764705884h8.035714285714286v36.470588235294116h-8.035714285714286Z\" style=\"fill: #f58518; opacity: 0.7;\"></path><path d=\"M36.1607142857143,4.705882352941174h8.035714285714286v35.294117647058826h-8.035714285714286Z\" style=\"fill: #f58518; opacity: 0.7;\"></path><path d=\"M45.08928571428573,5.882352941176471h8.035714285714286v34.11764705882353h-8.035714285714286Z\" style=\"fill: #f58518; opacity: 0.7;\"></path><path d=\"M54.01785714285715,7.058823529411768h8.035714285714286v32.94117647058823h-8.035714285714286Z\" style=\"fill: #f58518; opacity: 0.7;\"></path><path d=\"M62.946428571428584,8.235294117647062h8.035714285714286v31.76470588235294h-8.035714285714286Z\" style=\"fill: #f58518; opacity: 0.7;\"></path><path d=\"M71.87500000000001,9.411764705882355h8.035714285714286v30.588235294117645h-8.035714285714286Z\" style=\"fill: #f58518; opacity: 0.7;\"></path><path d=\"M80.80357142857144,10.588235294117645h8.035714285714286v29.411764705882355h-8.035714285714286Z\" style=\"fill: #f58518; opacity: 0.7;\"></path><path d=\"M89.73214285714288,11.764705882352938h8.035714285714286v28.23529411764706h-8.035714285714286Z\" style=\"fill: #f58518; opacity: 0.7;\"></path><path d=\"M98.6607142857143,12.941176470588232h8.035714285714286v27.058823529411768h-8.035714285714286Z\" style=\"fill: #f58518; opacity: 0.7;\"></path><path d=\"M107.58928571428572,14.117647058823529h8.035714285714286v25.88235294117647h-8.035714285714286Z\" style=\"fill: #f58518; opacity: 0.7;\"></path><path d=\"M116.51785714285715,15.294117647058822h8.035714285714286v24.705882352941178h-8.035714285714286Z\" style=\"fill: #f58518; opacity: 0.7;\"></path><path d=\"M125.44642857142858,16.470588235294116h8.035714285714286v23.529411764705884h-8.035714285714286Z\" style=\"fill: #f58518; opacity: 0.7;\"></path><path d=\"M134.37500000000003,17.647058823529413h8.035714285714286v22.352941176470587h-8.035714285714286Z\" style=\"fill: #f58518; opacity: 0.7;\"></path><path d=\"M143.30357142857144,18.823529411764707h8.035714285714286v21.176470588235293h-8.035714285714286Z\" style=\"fill: #f58518; opacity: 0.7;\"></path><path d=\"M152.23214285714286,20h8.035714285714286v20h-8.035714285714286Z\" style=\"fill: #f58518; opacity: 0.7;\"></path><path d=\"M161.1607142857143,21.176470588235293h8.035714285714286v18.823529411764707h-8.035714285714286Z\" style=\"fill: #f58518; opacity: 0.7;\"></path><path d=\"M170.08928571428572,22.352941176470587h8.035714285714286v17.647058823529413h-8.035714285714286Z\" style=\"fill: #f58518; opacity: 0.7;\"></path><path d=\"M179.01785714285717,23.529411764705884h8.035714285714286v16.470588235294116h-8.035714285714286Z\" style=\"fill: #f58518; opacity: 0.7;\"></path><path d=\"M187.94642857142858,24.705882352941178h8.035714285714286v15.294117647058822h-8.035714285714286Z\" style=\"fill: #f58518; opacity: 0.7;\"></path><path d=\"M196.87500000000003,25.88235294117647h8.035714285714286v14.117647058823529h-8.035714285714286Z\" style=\"fill: #f58518; opacity: 0.7;\"></path><path d=\"M205.80357142857144,27.058823529411764h8.035714285714286v12.941176470588236h-8.035714285714286Z\" style=\"fill: #f58518; opacity: 0.7;\"></path><path d=\"M214.73214285714286,28.235294117647058h8.035714285714286v11.764705882352942h-8.035714285714286Z\" style=\"fill: #f58518; opacity: 0.7;\"></path><path d=\"M223.6607142857143,29.411764705882355h8.035714285714286v10.588235294117645h-8.035714285714286Z\" style=\"fill: #f58518; opacity: 0.7;\"></path><path d=\"M232.58928571428572,30.588235294117645h8.035714285714286v9.411764705882355h-8.035714285714286Z\" style=\"fill: #f58518; opacity: 0.7;\"></path><path d=\"M241.51785714285717,31.764705882352942h8.035714285714286v8.235294117647058h-8.035714285714286Z\" style=\"fill: #f58518; opacity: 0.7;\"></path><path d=\"M250.44642857142858,32.94117647058823h8.035714285714286v7.058823529411768h-8.035714285714286Z\" style=\"fill: #f58518; opacity: 0.7;\"></path><path d=\"M259.375,34.11764705882353h8.035714285714286v5.882352941176471h-8.035714285714286Z\" style=\"fill: #f58518; opacity: 0.7;\"></path><path d=\"M268.30357142857144,35.294117647058826h8.035714285714286v4.705882352941174h-8.035714285714286Z\" style=\"fill: #f58518; opacity: 0.7;\"></path><path d=\"M277.2321428571429,36.470588235294116h8.035714285714286v3.529411764705884h-8.035714285714286Z\" style=\"fill: #f58518; opacity: 0.7;\"></path><path d=\"M286.16071428571433,37.64705882352941h8.035714285714286v2.352941176470587h-8.035714285714286Z\" style=\"fill: #f58518; opacity: 0.7;\"></path><path d=\"M295.0892857142858,38.8235294117647h8.035714285714286v1.176470588235297h-8.035714285714286Z\" style=\"fill: #f58518; opacity: 0.7;\"></path><path d=\"M304.0178571428571,40h8.035714285714286v0h-8.035714285714286Z\" style=\"fill: #f58518; opacity: 0.7;\"></path><path d=\"M0.4464285714285836,0h8.035714285714286v40h-8.035714285714286Z\" style=\"fill: #4c78a8; opacity: 0.7;\"></path><path d=\"M9.375000000000012,0h8.035714285714286v40h-8.035714285714286Z\" style=\"fill: #4c78a8; opacity: 0.7;\"></path><path d=\"M18.30357142857144,0h8.035714285714286v40h-8.035714285714286Z\" style=\"fill: #4c78a8; opacity: 0.7;\"></path><path d=\"M27.23214285714287,0h8.035714285714286v40h-8.035714285714286Z\" style=\"fill: #4c78a8; opacity: 0.7;\"></path><path d=\"M36.1607142857143,0h8.035714285714286v40h-8.035714285714286Z\" style=\"fill: #4c78a8; opacity: 0.7;\"></path><path d=\"M45.08928571428573,0h8.035714285714286v40h-8.035714285714286Z\" style=\"fill: #4c78a8; opacity: 0.7;\"></path><path d=\"M54.01785714285715,40h8.035714285714286v0h-8.035714285714286Z\" style=\"fill: #4c78a8; opacity: 0.7;\"></path><path d=\"M62.946428571428584,0h8.035714285714286v40h-8.035714285714286Z\" style=\"fill: #4c78a8; opacity: 0.7;\"></path><path d=\"M71.87500000000001,0h8.035714285714286v40h-8.035714285714286Z\" style=\"fill: #4c78a8; opacity: 0.7;\"></path><path d=\"M80.80357142857144,0h8.035714285714286v40h-8.035714285714286Z\" style=\"fill: #4c78a8; opacity: 0.7;\"></path><path d=\"M89.73214285714288,40h8.035714285714286v0h-8.035714285714286Z\" style=\"fill: #4c78a8; opacity: 0.7;\"></path><path d=\"M98.6607142857143,0h8.035714285714286v40h-8.035714285714286Z\" style=\"fill: #4c78a8; opacity: 0.7;\"></path><path d=\"M107.58928571428572,0h8.035714285714286v40h-8.035714285714286Z\" style=\"fill: #4c78a8; opacity: 0.7;\"></path><path d=\"M116.51785714285715,40h8.035714285714286v0h-8.035714285714286Z\" style=\"fill: #4c78a8; opacity: 0.7;\"></path><path d=\"M125.44642857142858,0h8.035714285714286v40h-8.035714285714286Z\" style=\"fill: #4c78a8; opacity: 0.7;\"></path><path d=\"M134.37500000000003,40h8.035714285714286v0h-8.035714285714286Z\" style=\"fill: #4c78a8; opacity: 0.7;\"></path><path d=\"M143.30357142857144,0h8.035714285714286v40h-8.035714285714286Z\" style=\"fill: #4c78a8; opacity: 0.7;\"></path><path d=\"M152.23214285714286,40h8.035714285714286v0h-8.035714285714286Z\" style=\"fill: #4c78a8; opacity: 0.7;\"></path><path d=\"M161.1607142857143,0h8.035714285714286v40h-8.035714285714286Z\" style=\"fill: #4c78a8; opacity: 0.7;\"></path><path d=\"M170.08928571428572,40h8.035714285714286v0h-8.035714285714286Z\" style=\"fill: #4c78a8; opacity: 0.7;\"></path><path d=\"M179.01785714285717,0h8.035714285714286v40h-8.035714285714286Z\" style=\"fill: #4c78a8; opacity: 0.7;\"></path><path d=\"M187.94642857142858,40h8.035714285714286v0h-8.035714285714286Z\" style=\"fill: #4c78a8; opacity: 0.7;\"></path><path d=\"M196.87500000000003,0h8.035714285714286v40h-8.035714285714286Z\" style=\"fill: #4c78a8; opacity: 0.7;\"></path><path d=\"M205.80357142857144,40h8.035714285714286v0h-8.035714285714286Z\" style=\"fill: #4c78a8; opacity: 0.7;\"></path><path d=\"M214.73214285714286,40h8.035714285714286v0h-8.035714285714286Z\" style=\"fill: #4c78a8; opacity: 0.7;\"></path><path d=\"M223.6607142857143,40h8.035714285714286v0h-8.035714285714286Z\" style=\"fill: #4c78a8; opacity: 0.7;\"></path><path d=\"M232.58928571428572,0h8.035714285714286v40h-8.035714285714286Z\" style=\"fill: #4c78a8; opacity: 0.7;\"></path><path d=\"M241.51785714285717,40h8.035714285714286v0h-8.035714285714286Z\" style=\"fill: #4c78a8; opacity: 0.7;\"></path><path d=\"M250.44642857142858,40h8.035714285714286v0h-8.035714285714286Z\" style=\"fill: #4c78a8; opacity: 0.7;\"></path><path d=\"M259.375,40h8.035714285714286v0h-8.035714285714286Z\" style=\"fill: #4c78a8; opacity: 0.7;\"></path><path d=\"M268.30357142857144,40h8.035714285714286v0h-8.035714285714286Z\" style=\"fill: #4c78a8; opacity: 0.7;\"></path><path d=\"M277.2321428571429,40h8.035714285714286v0h-8.035714285714286Z\" style=\"fill: #4c78a8; opacity: 0.7;\"></path><path d=\"M286.16071428571433,40h8.035714285714286v0h-8.035714285714286Z\" style=\"fill: #4c78a8; opacity: 0.7;\"></path><path d=\"M295.0892857142858,40h8.035714285714286v0h-8.035714285714286Z\" style=\"fill: #4c78a8; opacity: 0.7;\"></path><path d=\"M304.0178571428571,40h8.035714285714286v0h-8.035714285714286Z\" style=\"fill: #4c78a8; opacity: 0.7;\"></path></g></g></g><g transform=\"translate(0,310)\"><path class=\"background\" d=\"M0.5,0.5h500v40h-500Z\" style=\"fill: none; stroke: #ddd;\"></path><g><g class=\"mark-group role-axis\"><g transform=\"translate(0.5,0.5)\"><path class=\"background\" d=\"M0,0h0v0h0Z\" style=\"pointer-events: none; fill: none;\"></path><g><g class=\"mark-rule role-axis-grid\" style=\"pointer-events: none;\"><line transform=\"translate(0,40)\" x2=\"500\" y2=\"0\" style=\"fill: none; stroke: #ddd; stroke-width: 1; opacity: 1;\"></line><line transform=\"translate(0,0)\" x2=\"500\" y2=\"0\" style=\"fill: none; stroke: #ddd; stroke-width: 1; opacity: 1;\"></line></g></g></g></g><g class=\"mark-rect role-mark child_marks\"><path d=\"M0.4464285714285836,0h8.035714285714286v40h-8.035714285714286Z\" style=\"fill: #f58518; opacity: 0.7;\"></path><path d=\"M9.375000000000012,0.9756097560975618h8.035714285714286v39.02439024390244h-8.035714285714286Z\" style=\"fill: #f58518; opacity: 0.7;\"></path><path d=\"M18.30357142857144,1.9512195121951237h8.035714285714286v38.048780487804876h-8.035714285714286Z\" style=\"fill: #f58518; opacity: 0.7;\"></path><path d=\"M27.23214285714287,2.9268292682926784h8.035714285714286v37.07317073170732h-8.035714285714286Z\" style=\"fill: #f58518; opacity: 0.7;\"></path><path d=\"M36.1607142857143,3.9024390243902403h8.035714285714286v36.09756097560976h-8.035714285714286Z\" style=\"fill: #f58518; opacity: 0.7;\"></path><path d=\"M45.08928571428573,4.878048780487802h8.035714285714286v35.1219512195122h-8.035714285714286Z\" style=\"fill: #f58518; opacity: 0.7;\"></path><path d=\"M54.01785714285715,5.853658536585364h8.035714285714286v34.146341463414636h-8.035714285714286Z\" style=\"fill: #f58518; opacity: 0.7;\"></path><path d=\"M62.946428571428584,6.829268292682926h8.035714285714286v33.170731707317074h-8.035714285714286Z\" style=\"fill: #f58518; opacity: 0.7;\"></path><path d=\"M71.87500000000001,7.804878048780488h8.035714285714286v32.19512195121951h-8.035714285714286Z\" style=\"fill: #f58518; opacity: 0.7;\"></path><path d=\"M80.80357142857144,8.78048780487805h8.035714285714286v31.21951219512195h-8.035714285714286Z\" style=\"fill: #f58518; opacity: 0.7;\"></path><path d=\"M89.73214285714288,9.756097560975611h8.035714285714286v30.24390243902439h-8.035714285714286Z\" style=\"fill: #f58518; opacity: 0.7;\"></path><path d=\"M98.6607142857143,10.731707317073173h8.035714285714286v29.268292682926827h-8.035714285714286Z\" style=\"fill: #f58518; opacity: 0.7;\"></path><path d=\"M107.58928571428572,11.707317073170735h8.035714285714286v28.292682926829265h-8.035714285714286Z\" style=\"fill: #f58518; opacity: 0.7;\"></path><path d=\"M116.51785714285715,12.68292682926829h8.035714285714286v27.31707317073171h-8.035714285714286Z\" style=\"fill: #f58518; opacity: 0.7;\"></path><path d=\"M125.44642857142858,13.658536585365852h8.035714285714286v26.34146341463415h-8.035714285714286Z\" style=\"fill: #f58518; opacity: 0.7;\"></path><path d=\"M134.37500000000003,14.634146341463413h8.035714285714286v25.365853658536587h-8.035714285714286Z\" style=\"fill: #f58518; opacity: 0.7;\"></path><path d=\"M143.30357142857144,15.609756097560975h8.035714285714286v24.390243902439025h-8.035714285714286Z\" style=\"fill: #f58518; opacity: 0.7;\"></path><path d=\"M152.23214285714286,16.585365853658537h8.035714285714286v23.414634146341463h-8.035714285714286Z\" style=\"fill: #f58518; opacity: 0.7;\"></path><path d=\"M161.1607142857143,17.560975609756095h8.035714285714286v22.439024390243905h-8.035714285714286Z\" style=\"fill: #f58518; opacity: 0.7;\"></path><path d=\"M170.08928571428572,18.536585365853657h8.035714285714286v21.463414634146343h-8.035714285714286Z\" style=\"fill: #f58518; opacity: 0.7;\"></path><path d=\"M179.01785714285717,19.51219512195122h8.035714285714286v20.48780487804878h-8.035714285714286Z\" style=\"fill: #f58518; opacity: 0.7;\"></path><path d=\"M187.94642857142858,20.48780487804878h8.035714285714286v19.51219512195122h-8.035714285714286Z\" style=\"fill: #f58518; opacity: 0.7;\"></path><path d=\"M196.87500000000003,21.46341463414634h8.035714285714286v18.53658536585366h-8.035714285714286Z\" style=\"fill: #f58518; opacity: 0.7;\"></path><path d=\"M205.80357142857144,22.4390243902439h8.035714285714286v17.5609756097561h-8.035714285714286Z\" style=\"fill: #f58518; opacity: 0.7;\"></path><path d=\"M214.73214285714286,23.414634146341463h8.035714285714286v16.585365853658537h-8.035714285714286Z\" style=\"fill: #f58518; opacity: 0.7;\"></path><path d=\"M223.6607142857143,24.390243902439025h8.035714285714286v15.609756097560975h-8.035714285714286Z\" style=\"fill: #f58518; opacity: 0.7;\"></path><path d=\"M232.58928571428572,25.365853658536587h8.035714285714286v14.634146341463413h-8.035714285714286Z\" style=\"fill: #f58518; opacity: 0.7;\"></path><path d=\"M241.51785714285717,26.341463414634145h8.035714285714286v13.658536585365855h-8.035714285714286Z\" style=\"fill: #f58518; opacity: 0.7;\"></path><path d=\"M250.44642857142858,27.317073170731707h8.035714285714286v12.682926829268293h-8.035714285714286Z\" style=\"fill: #f58518; opacity: 0.7;\"></path><path d=\"M259.375,28.29268292682927h8.035714285714286v11.707317073170731h-8.035714285714286Z\" style=\"fill: #f58518; opacity: 0.7;\"></path><path d=\"M268.30357142857144,29.268292682926827h8.035714285714286v10.731707317073173h-8.035714285714286Z\" style=\"fill: #f58518; opacity: 0.7;\"></path><path d=\"M277.2321428571429,30.24390243902439h8.035714285714286v9.756097560975611h-8.035714285714286Z\" style=\"fill: #f58518; opacity: 0.7;\"></path><path d=\"M286.16071428571433,31.21951219512195h8.035714285714286v8.78048780487805h-8.035714285714286Z\" style=\"fill: #f58518; opacity: 0.7;\"></path><path d=\"M295.0892857142858,32.19512195121951h8.035714285714286v7.804878048780488h-8.035714285714286Z\" style=\"fill: #f58518; opacity: 0.7;\"></path><path d=\"M304.0178571428571,33.170731707317074h8.035714285714286v6.829268292682926h-8.035714285714286Z\" style=\"fill: #f58518; opacity: 0.7;\"></path><path d=\"M312.94642857142856,34.146341463414636h8.035714285714286v5.853658536585364h-8.035714285714286Z\" style=\"fill: #f58518; opacity: 0.7;\"></path><path d=\"M321.875,35.1219512195122h8.035714285714286v4.878048780487802h-8.035714285714286Z\" style=\"fill: #f58518; opacity: 0.7;\"></path><path d=\"M330.80357142857144,36.09756097560975h8.035714285714286v3.9024390243902474h-8.035714285714286Z\" style=\"fill: #f58518; opacity: 0.7;\"></path><path d=\"M339.7321428571429,37.073170731707314h8.035714285714286v2.9268292682926855h-8.035714285714286Z\" style=\"fill: #f58518; opacity: 0.7;\"></path><path d=\"M348.66071428571433,38.048780487804876h8.035714285714286v1.9512195121951237h-8.035714285714286Z\" style=\"fill: #f58518; opacity: 0.7;\"></path><path d=\"M357.5892857142858,39.02439024390244h8.035714285714286v0.9756097560975618h-8.035714285714286Z\" style=\"fill: #f58518; opacity: 0.7;\"></path><path d=\"M366.5178571428571,40h8.035714285714286v0h-8.035714285714286Z\" style=\"fill: #f58518; opacity: 0.7;\"></path><path d=\"M0.4464285714285836,0h8.035714285714286v40h-8.035714285714286Z\" style=\"fill: #4c78a8; opacity: 0.7;\"></path><path d=\"M9.375000000000012,0h8.035714285714286v40h-8.035714285714286Z\" style=\"fill: #4c78a8; opacity: 0.7;\"></path><path d=\"M18.30357142857144,0h8.035714285714286v40h-8.035714285714286Z\" style=\"fill: #4c78a8; opacity: 0.7;\"></path><path d=\"M27.23214285714287,0h8.035714285714286v40h-8.035714285714286Z\" style=\"fill: #4c78a8; opacity: 0.7;\"></path><path d=\"M36.1607142857143,0h8.035714285714286v40h-8.035714285714286Z\" style=\"fill: #4c78a8; opacity: 0.7;\"></path><path d=\"M45.08928571428573,0h8.035714285714286v40h-8.035714285714286Z\" style=\"fill: #4c78a8; opacity: 0.7;\"></path><path d=\"M54.01785714285715,40h8.035714285714286v0h-8.035714285714286Z\" style=\"fill: #4c78a8; opacity: 0.7;\"></path><path d=\"M62.946428571428584,0h8.035714285714286v40h-8.035714285714286Z\" style=\"fill: #4c78a8; opacity: 0.7;\"></path><path d=\"M71.87500000000001,0h8.035714285714286v40h-8.035714285714286Z\" style=\"fill: #4c78a8; opacity: 0.7;\"></path><path d=\"M80.80357142857144,0h8.035714285714286v40h-8.035714285714286Z\" style=\"fill: #4c78a8; opacity: 0.7;\"></path><path d=\"M89.73214285714288,0h8.035714285714286v40h-8.035714285714286Z\" style=\"fill: #4c78a8; opacity: 0.7;\"></path><path d=\"M98.6607142857143,40h8.035714285714286v0h-8.035714285714286Z\" style=\"fill: #4c78a8; opacity: 0.7;\"></path><path d=\"M107.58928571428572,0h8.035714285714286v40h-8.035714285714286Z\" style=\"fill: #4c78a8; opacity: 0.7;\"></path><path d=\"M116.51785714285715,0h8.035714285714286v40h-8.035714285714286Z\" style=\"fill: #4c78a8; opacity: 0.7;\"></path><path d=\"M125.44642857142858,40h8.035714285714286v0h-8.035714285714286Z\" style=\"fill: #4c78a8; opacity: 0.7;\"></path><path d=\"M134.37500000000003,0h8.035714285714286v40h-8.035714285714286Z\" style=\"fill: #4c78a8; opacity: 0.7;\"></path><path d=\"M143.30357142857144,0h8.035714285714286v40h-8.035714285714286Z\" style=\"fill: #4c78a8; opacity: 0.7;\"></path><path d=\"M152.23214285714286,40h8.035714285714286v0h-8.035714285714286Z\" style=\"fill: #4c78a8; opacity: 0.7;\"></path><path d=\"M161.1607142857143,0h8.035714285714286v40h-8.035714285714286Z\" style=\"fill: #4c78a8; opacity: 0.7;\"></path><path d=\"M170.08928571428572,40h8.035714285714286v0h-8.035714285714286Z\" style=\"fill: #4c78a8; opacity: 0.7;\"></path><path d=\"M179.01785714285717,0h8.035714285714286v40h-8.035714285714286Z\" style=\"fill: #4c78a8; opacity: 0.7;\"></path><path d=\"M187.94642857142858,40h8.035714285714286v0h-8.035714285714286Z\" style=\"fill: #4c78a8; opacity: 0.7;\"></path><path d=\"M196.87500000000003,0h8.035714285714286v40h-8.035714285714286Z\" style=\"fill: #4c78a8; opacity: 0.7;\"></path><path d=\"M205.80357142857144,40h8.035714285714286v0h-8.035714285714286Z\" style=\"fill: #4c78a8; opacity: 0.7;\"></path><path d=\"M214.73214285714286,0h8.035714285714286v40h-8.035714285714286Z\" style=\"fill: #4c78a8; opacity: 0.7;\"></path><path d=\"M223.6607142857143,40h8.035714285714286v0h-8.035714285714286Z\" style=\"fill: #4c78a8; opacity: 0.7;\"></path><path d=\"M232.58928571428572,40h8.035714285714286v0h-8.035714285714286Z\" style=\"fill: #4c78a8; opacity: 0.7;\"></path><path d=\"M241.51785714285717,0h8.035714285714286v40h-8.035714285714286Z\" style=\"fill: #4c78a8; opacity: 0.7;\"></path><path d=\"M250.44642857142858,40h8.035714285714286v0h-8.035714285714286Z\" style=\"fill: #4c78a8; opacity: 0.7;\"></path><path d=\"M259.375,40h8.035714285714286v0h-8.035714285714286Z\" style=\"fill: #4c78a8; opacity: 0.7;\"></path><path d=\"M268.30357142857144,0h8.035714285714286v40h-8.035714285714286Z\" style=\"fill: #4c78a8; opacity: 0.7;\"></path><path d=\"M277.2321428571429,40h8.035714285714286v0h-8.035714285714286Z\" style=\"fill: #4c78a8; opacity: 0.7;\"></path><path d=\"M286.16071428571433,40h8.035714285714286v0h-8.035714285714286Z\" style=\"fill: #4c78a8; opacity: 0.7;\"></path><path d=\"M295.0892857142858,40h8.035714285714286v0h-8.035714285714286Z\" style=\"fill: #4c78a8; opacity: 0.7;\"></path><path d=\"M304.0178571428571,40h8.035714285714286v0h-8.035714285714286Z\" style=\"fill: #4c78a8; opacity: 0.7;\"></path><path d=\"M312.94642857142856,0h8.035714285714286v40h-8.035714285714286Z\" style=\"fill: #4c78a8; opacity: 0.7;\"></path><path d=\"M321.875,40h8.035714285714286v0h-8.035714285714286Z\" style=\"fill: #4c78a8; opacity: 0.7;\"></path><path d=\"M330.80357142857144,40h8.035714285714286v0h-8.035714285714286Z\" style=\"fill: #4c78a8; opacity: 0.7;\"></path><path d=\"M339.7321428571429,40h8.035714285714286v0h-8.035714285714286Z\" style=\"fill: #4c78a8; opacity: 0.7;\"></path><path d=\"M348.66071428571433,40h8.035714285714286v0h-8.035714285714286Z\" style=\"fill: #4c78a8; opacity: 0.7;\"></path><path d=\"M357.5892857142858,40h8.035714285714286v0h-8.035714285714286Z\" style=\"fill: #4c78a8; opacity: 0.7;\"></path><path d=\"M366.5178571428571,40h8.035714285714286v0h-8.035714285714286Z\" style=\"fill: #4c78a8; opacity: 0.7;\"></path></g></g></g><g transform=\"translate(0,372)\"><path class=\"background\" d=\"M0.5,0.5h500v40h-500Z\" style=\"fill: none; stroke: #ddd;\"></path><g><g class=\"mark-group role-axis\"><g transform=\"translate(0.5,0.5)\"><path class=\"background\" d=\"M0,0h0v0h0Z\" style=\"pointer-events: none; fill: none;\"></path><g><g class=\"mark-rule role-axis-grid\" style=\"pointer-events: none;\"><line transform=\"translate(0,40)\" x2=\"500\" y2=\"0\" style=\"fill: none; stroke: #ddd; stroke-width: 1; opacity: 1;\"></line><line transform=\"translate(0,0)\" x2=\"500\" y2=\"0\" style=\"fill: none; stroke: #ddd; stroke-width: 1; opacity: 1;\"></line></g></g></g></g><g class=\"mark-rect role-mark child_marks\"><path d=\"M0.4464285714285836,0h8.035714285714286v40h-8.035714285714286Z\" style=\"fill: #f58518; opacity: 0.7;\"></path><path d=\"M9.375000000000012,0.8333333333333357h8.035714285714286v39.166666666666664h-8.035714285714286Z\" style=\"fill: #f58518; opacity: 0.7;\"></path><path d=\"M18.30357142857144,1.6666666666666643h8.035714285714286v38.333333333333336h-8.035714285714286Z\" style=\"fill: #f58518; opacity: 0.7;\"></path><path d=\"M27.23214285714287,2.5h8.035714285714286v37.5h-8.035714285714286Z\" style=\"fill: #f58518; opacity: 0.7;\"></path><path d=\"M36.1607142857143,3.3333333333333357h8.035714285714286v36.666666666666664h-8.035714285714286Z\" style=\"fill: #f58518; opacity: 0.7;\"></path><path d=\"M45.08928571428573,4.166666666666664h8.035714285714286v35.833333333333336h-8.035714285714286Z\" style=\"fill: #f58518; opacity: 0.7;\"></path><path d=\"M54.01785714285715,5h8.035714285714286v35h-8.035714285714286Z\" style=\"fill: #f58518; opacity: 0.7;\"></path><path d=\"M62.946428571428584,5.833333333333336h8.035714285714286v34.166666666666664h-8.035714285714286Z\" style=\"fill: #f58518; opacity: 0.7;\"></path><path d=\"M71.87500000000001,6.666666666666664h8.035714285714286v33.333333333333336h-8.035714285714286Z\" style=\"fill: #f58518; opacity: 0.7;\"></path><path d=\"M80.80357142857144,7.5h8.035714285714286v32.5h-8.035714285714286Z\" style=\"fill: #f58518; opacity: 0.7;\"></path><path d=\"M89.73214285714288,8.333333333333336h8.035714285714286v31.666666666666664h-8.035714285714286Z\" style=\"fill: #f58518; opacity: 0.7;\"></path><path d=\"M98.6607142857143,9.166666666666664h8.035714285714286v30.833333333333336h-8.035714285714286Z\" style=\"fill: #f58518; opacity: 0.7;\"></path><path d=\"M107.58928571428572,10h8.035714285714286v30h-8.035714285714286Z\" style=\"fill: #f58518; opacity: 0.7;\"></path><path d=\"M116.51785714285715,10.833333333333336h8.035714285714286v29.166666666666664h-8.035714285714286Z\" style=\"fill: #f58518; opacity: 0.7;\"></path><path d=\"M125.44642857142858,11.666666666666664h8.035714285714286v28.333333333333336h-8.035714285714286Z\" style=\"fill: #f58518; opacity: 0.7;\"></path><path d=\"M134.37500000000003,12.5h8.035714285714286v27.5h-8.035714285714286Z\" style=\"fill: #f58518; opacity: 0.7;\"></path><path d=\"M143.30357142857144,13.333333333333336h8.035714285714286v26.666666666666664h-8.035714285714286Z\" style=\"fill: #f58518; opacity: 0.7;\"></path><path d=\"M152.23214285714286,14.166666666666664h8.035714285714286v25.833333333333336h-8.035714285714286Z\" style=\"fill: #f58518; opacity: 0.7;\"></path><path d=\"M161.1607142857143,15h8.035714285714286v25h-8.035714285714286Z\" style=\"fill: #f58518; opacity: 0.7;\"></path><path d=\"M170.08928571428572,15.833333333333336h8.035714285714286v24.166666666666664h-8.035714285714286Z\" style=\"fill: #f58518; opacity: 0.7;\"></path><path d=\"M179.01785714285717,16.666666666666664h8.035714285714286v23.333333333333336h-8.035714285714286Z\" style=\"fill: #f58518; opacity: 0.7;\"></path><path d=\"M187.94642857142858,17.5h8.035714285714286v22.5h-8.035714285714286Z\" style=\"fill: #f58518; opacity: 0.7;\"></path><path d=\"M196.87500000000003,18.333333333333336h8.035714285714286v21.666666666666664h-8.035714285714286Z\" style=\"fill: #f58518; opacity: 0.7;\"></path><path d=\"M205.80357142857144,19.166666666666664h8.035714285714286v20.833333333333336h-8.035714285714286Z\" style=\"fill: #f58518; opacity: 0.7;\"></path><path d=\"M214.73214285714286,20h8.035714285714286v20h-8.035714285714286Z\" style=\"fill: #f58518; opacity: 0.7;\"></path><path d=\"M223.6607142857143,20.833333333333332h8.035714285714286v19.166666666666668h-8.035714285714286Z\" style=\"fill: #f58518; opacity: 0.7;\"></path><path d=\"M232.58928571428572,21.666666666666668h8.035714285714286v18.333333333333332h-8.035714285714286Z\" style=\"fill: #f58518; opacity: 0.7;\"></path><path d=\"M241.51785714285717,22.5h8.035714285714286v17.5h-8.035714285714286Z\" style=\"fill: #f58518; opacity: 0.7;\"></path><path d=\"M250.44642857142858,23.333333333333332h8.035714285714286v16.666666666666668h-8.035714285714286Z\" style=\"fill: #f58518; opacity: 0.7;\"></path><path d=\"M259.375,24.166666666666668h8.035714285714286v15.833333333333332h-8.035714285714286Z\" style=\"fill: #f58518; opacity: 0.7;\"></path><path d=\"M268.30357142857144,25h8.035714285714286v15h-8.035714285714286Z\" style=\"fill: #f58518; opacity: 0.7;\"></path><path d=\"M277.2321428571429,25.833333333333332h8.035714285714286v14.166666666666668h-8.035714285714286Z\" style=\"fill: #f58518; opacity: 0.7;\"></path><path d=\"M286.16071428571433,26.666666666666668h8.035714285714286v13.333333333333332h-8.035714285714286Z\" style=\"fill: #f58518; opacity: 0.7;\"></path><path d=\"M295.0892857142858,27.5h8.035714285714286v12.5h-8.035714285714286Z\" style=\"fill: #f58518; opacity: 0.7;\"></path><path d=\"M304.0178571428571,28.333333333333332h8.035714285714286v11.666666666666668h-8.035714285714286Z\" style=\"fill: #f58518; opacity: 0.7;\"></path><path d=\"M312.94642857142856,29.166666666666668h8.035714285714286v10.833333333333332h-8.035714285714286Z\" style=\"fill: #f58518; opacity: 0.7;\"></path><path d=\"M321.875,30h8.035714285714286v10h-8.035714285714286Z\" style=\"fill: #f58518; opacity: 0.7;\"></path><path d=\"M330.80357142857144,30.833333333333336h8.035714285714286v9.166666666666664h-8.035714285714286Z\" style=\"fill: #f58518; opacity: 0.7;\"></path><path d=\"M339.7321428571429,31.666666666666664h8.035714285714286v8.333333333333336h-8.035714285714286Z\" style=\"fill: #f58518; opacity: 0.7;\"></path><path d=\"M348.66071428571433,32.5h8.035714285714286v7.5h-8.035714285714286Z\" style=\"fill: #f58518; opacity: 0.7;\"></path><path d=\"M357.5892857142858,33.333333333333336h8.035714285714286v6.666666666666664h-8.035714285714286Z\" style=\"fill: #f58518; opacity: 0.7;\"></path><path d=\"M366.5178571428571,34.166666666666664h8.035714285714286v5.833333333333336h-8.035714285714286Z\" style=\"fill: #f58518; opacity: 0.7;\"></path><path d=\"M375.44642857142856,35h8.035714285714286v5h-8.035714285714286Z\" style=\"fill: #f58518; opacity: 0.7;\"></path><path d=\"M384.375,35.833333333333336h8.035714285714286v4.166666666666664h-8.035714285714286Z\" style=\"fill: #f58518; opacity: 0.7;\"></path><path d=\"M393.30357142857144,36.666666666666664h8.035714285714286v3.3333333333333357h-8.035714285714286Z\" style=\"fill: #f58518; opacity: 0.7;\"></path><path d=\"M402.2321428571429,37.5h8.035714285714286v2.5h-8.035714285714286Z\" style=\"fill: #f58518; opacity: 0.7;\"></path><path d=\"M411.16071428571433,38.333333333333336h8.035714285714286v1.6666666666666643h-8.035714285714286Z\" style=\"fill: #f58518; opacity: 0.7;\"></path><path d=\"M420.0892857142858,39.166666666666664h8.035714285714286v0.8333333333333357h-8.035714285714286Z\" style=\"fill: #f58518; opacity: 0.7;\"></path><path d=\"M429.0178571428571,40h8.035714285714286v0h-8.035714285714286Z\" style=\"fill: #f58518; opacity: 0.7;\"></path><path d=\"M0.4464285714285836,0h8.035714285714286v40h-8.035714285714286Z\" style=\"fill: #4c78a8; opacity: 0.7;\"></path><path d=\"M9.375000000000012,0h8.035714285714286v40h-8.035714285714286Z\" style=\"fill: #4c78a8; opacity: 0.7;\"></path><path d=\"M18.30357142857144,0h8.035714285714286v40h-8.035714285714286Z\" style=\"fill: #4c78a8; opacity: 0.7;\"></path><path d=\"M27.23214285714287,0h8.035714285714286v40h-8.035714285714286Z\" style=\"fill: #4c78a8; opacity: 0.7;\"></path><path d=\"M36.1607142857143,0h8.035714285714286v40h-8.035714285714286Z\" style=\"fill: #4c78a8; opacity: 0.7;\"></path><path d=\"M45.08928571428573,0h8.035714285714286v40h-8.035714285714286Z\" style=\"fill: #4c78a8; opacity: 0.7;\"></path><path d=\"M54.01785714285715,0h8.035714285714286v40h-8.035714285714286Z\" style=\"fill: #4c78a8; opacity: 0.7;\"></path><path d=\"M62.946428571428584,40h8.035714285714286v0h-8.035714285714286Z\" style=\"fill: #4c78a8; opacity: 0.7;\"></path><path d=\"M71.87500000000001,0h8.035714285714286v40h-8.035714285714286Z\" style=\"fill: #4c78a8; opacity: 0.7;\"></path><path d=\"M80.80357142857144,0h8.035714285714286v40h-8.035714285714286Z\" style=\"fill: #4c78a8; opacity: 0.7;\"></path><path d=\"M89.73214285714288,0h8.035714285714286v40h-8.035714285714286Z\" style=\"fill: #4c78a8; opacity: 0.7;\"></path><path d=\"M98.6607142857143,0h8.035714285714286v40h-8.035714285714286Z\" style=\"fill: #4c78a8; opacity: 0.7;\"></path><path d=\"M107.58928571428572,40h8.035714285714286v0h-8.035714285714286Z\" style=\"fill: #4c78a8; opacity: 0.7;\"></path><path d=\"M116.51785714285715,0h8.035714285714286v40h-8.035714285714286Z\" style=\"fill: #4c78a8; opacity: 0.7;\"></path><path d=\"M125.44642857142858,0h8.035714285714286v40h-8.035714285714286Z\" style=\"fill: #4c78a8; opacity: 0.7;\"></path><path d=\"M134.37500000000003,40h8.035714285714286v0h-8.035714285714286Z\" style=\"fill: #4c78a8; opacity: 0.7;\"></path><path d=\"M143.30357142857144,0h8.035714285714286v40h-8.035714285714286Z\" style=\"fill: #4c78a8; opacity: 0.7;\"></path><path d=\"M152.23214285714286,0h8.035714285714286v40h-8.035714285714286Z\" style=\"fill: #4c78a8; opacity: 0.7;\"></path><path d=\"M161.1607142857143,40h8.035714285714286v0h-8.035714285714286Z\" style=\"fill: #4c78a8; opacity: 0.7;\"></path><path d=\"M170.08928571428572,0h8.035714285714286v40h-8.035714285714286Z\" style=\"fill: #4c78a8; opacity: 0.7;\"></path><path d=\"M179.01785714285717,0h8.035714285714286v40h-8.035714285714286Z\" style=\"fill: #4c78a8; opacity: 0.7;\"></path><path d=\"M187.94642857142858,40h8.035714285714286v0h-8.035714285714286Z\" style=\"fill: #4c78a8; opacity: 0.7;\"></path><path d=\"M196.87500000000003,0h8.035714285714286v40h-8.035714285714286Z\" style=\"fill: #4c78a8; opacity: 0.7;\"></path><path d=\"M205.80357142857144,40h8.035714285714286v0h-8.035714285714286Z\" style=\"fill: #4c78a8; opacity: 0.7;\"></path><path d=\"M214.73214285714286,0h8.035714285714286v40h-8.035714285714286Z\" style=\"fill: #4c78a8; opacity: 0.7;\"></path><path d=\"M223.6607142857143,40h8.035714285714286v0h-8.035714285714286Z\" style=\"fill: #4c78a8; opacity: 0.7;\"></path><path d=\"M232.58928571428572,0h8.035714285714286v40h-8.035714285714286Z\" style=\"fill: #4c78a8; opacity: 0.7;\"></path><path d=\"M241.51785714285717,40h8.035714285714286v0h-8.035714285714286Z\" style=\"fill: #4c78a8; opacity: 0.7;\"></path><path d=\"M250.44642857142858,0h8.035714285714286v40h-8.035714285714286Z\" style=\"fill: #4c78a8; opacity: 0.7;\"></path><path d=\"M259.375,40h8.035714285714286v0h-8.035714285714286Z\" style=\"fill: #4c78a8; opacity: 0.7;\"></path><path d=\"M268.30357142857144,40h8.035714285714286v0h-8.035714285714286Z\" style=\"fill: #4c78a8; opacity: 0.7;\"></path><path d=\"M277.2321428571429,0h8.035714285714286v40h-8.035714285714286Z\" style=\"fill: #4c78a8; opacity: 0.7;\"></path><path d=\"M286.16071428571433,40h8.035714285714286v0h-8.035714285714286Z\" style=\"fill: #4c78a8; opacity: 0.7;\"></path><path d=\"M295.0892857142858,40h8.035714285714286v0h-8.035714285714286Z\" style=\"fill: #4c78a8; opacity: 0.7;\"></path><path d=\"M304.0178571428571,0h8.035714285714286v40h-8.035714285714286Z\" style=\"fill: #4c78a8; opacity: 0.7;\"></path><path d=\"M312.94642857142856,40h8.035714285714286v0h-8.035714285714286Z\" style=\"fill: #4c78a8; opacity: 0.7;\"></path><path d=\"M321.875,40h8.035714285714286v0h-8.035714285714286Z\" style=\"fill: #4c78a8; opacity: 0.7;\"></path><path d=\"M330.80357142857144,40h8.035714285714286v0h-8.035714285714286Z\" style=\"fill: #4c78a8; opacity: 0.7;\"></path><path d=\"M339.7321428571429,0h8.035714285714286v40h-8.035714285714286Z\" style=\"fill: #4c78a8; opacity: 0.7;\"></path><path d=\"M348.66071428571433,40h8.035714285714286v0h-8.035714285714286Z\" style=\"fill: #4c78a8; opacity: 0.7;\"></path><path d=\"M357.5892857142858,40h8.035714285714286v0h-8.035714285714286Z\" style=\"fill: #4c78a8; opacity: 0.7;\"></path><path d=\"M366.5178571428571,40h8.035714285714286v0h-8.035714285714286Z\" style=\"fill: #4c78a8; opacity: 0.7;\"></path><path d=\"M375.44642857142856,40h8.035714285714286v0h-8.035714285714286Z\" style=\"fill: #4c78a8; opacity: 0.7;\"></path><path d=\"M384.375,40h8.035714285714286v0h-8.035714285714286Z\" style=\"fill: #4c78a8; opacity: 0.7;\"></path><path d=\"M393.30357142857144,40h8.035714285714286v0h-8.035714285714286Z\" style=\"fill: #4c78a8; opacity: 0.7;\"></path><path d=\"M402.2321428571429,40h8.035714285714286v0h-8.035714285714286Z\" style=\"fill: #4c78a8; opacity: 0.7;\"></path><path d=\"M411.16071428571433,40h8.035714285714286v0h-8.035714285714286Z\" style=\"fill: #4c78a8; opacity: 0.7;\"></path><path d=\"M420.0892857142858,40h8.035714285714286v0h-8.035714285714286Z\" style=\"fill: #4c78a8; opacity: 0.7;\"></path><path d=\"M429.0178571428571,40h8.035714285714286v0h-8.035714285714286Z\" style=\"fill: #4c78a8; opacity: 0.7;\"></path></g></g></g><g transform=\"translate(0,434)\"><path class=\"background\" d=\"M0.5,0.5h500v40h-500Z\" style=\"fill: none; stroke: #ddd;\"></path><g><g class=\"mark-group role-axis\"><g transform=\"translate(0.5,0.5)\"><path class=\"background\" d=\"M0,0h0v0h0Z\" style=\"pointer-events: none; fill: none;\"></path><g><g class=\"mark-rule role-axis-grid\" style=\"pointer-events: none;\"><line transform=\"translate(0,40)\" x2=\"500\" y2=\"0\" style=\"fill: none; stroke: #ddd; stroke-width: 1; opacity: 1;\"></line><line transform=\"translate(0,0)\" x2=\"500\" y2=\"0\" style=\"fill: none; stroke: #ddd; stroke-width: 1; opacity: 1;\"></line></g></g></g></g><g class=\"mark-rect role-mark child_marks\"><path d=\"M0.4464285714285836,0h8.035714285714286v40h-8.035714285714286Z\" style=\"fill: #f58518; opacity: 0.7;\"></path><path d=\"M9.375000000000012,0.7272727272727266h8.035714285714286v39.27272727272727h-8.035714285714286Z\" style=\"fill: #f58518; opacity: 0.7;\"></path><path d=\"M18.30357142857144,1.4545454545454533h8.035714285714286v38.54545454545455h-8.035714285714286Z\" style=\"fill: #f58518; opacity: 0.7;\"></path><path d=\"M27.23214285714287,2.18181818181818h8.035714285714286v37.81818181818182h-8.035714285714286Z\" style=\"fill: #f58518; opacity: 0.7;\"></path><path d=\"M36.1607142857143,2.9090909090909065h8.035714285714286v37.09090909090909h-8.035714285714286Z\" style=\"fill: #f58518; opacity: 0.7;\"></path><path d=\"M45.08928571428573,3.6363636363636402h8.035714285714286v36.36363636363636h-8.035714285714286Z\" style=\"fill: #f58518; opacity: 0.7;\"></path><path d=\"M54.01785714285715,4.363636363636367h8.035714285714286v35.63636363636363h-8.035714285714286Z\" style=\"fill: #f58518; opacity: 0.7;\"></path><path d=\"M62.946428571428584,5.0909090909090935h8.035714285714286v34.90909090909091h-8.035714285714286Z\" style=\"fill: #f58518; opacity: 0.7;\"></path><path d=\"M71.87500000000001,5.81818181818182h8.035714285714286v34.18181818181818h-8.035714285714286Z\" style=\"fill: #f58518; opacity: 0.7;\"></path><path d=\"M80.80357142857144,6.545454545454547h8.035714285714286v33.45454545454545h-8.035714285714286Z\" style=\"fill: #f58518; opacity: 0.7;\"></path><path d=\"M89.73214285714288,7.272727272727273h8.035714285714286v32.72727272727273h-8.035714285714286Z\" style=\"fill: #f58518; opacity: 0.7;\"></path><path d=\"M98.6607142857143,8h8.035714285714286v32h-8.035714285714286Z\" style=\"fill: #f58518; opacity: 0.7;\"></path><path d=\"M107.58928571428572,8.727272727272727h8.035714285714286v31.272727272727273h-8.035714285714286Z\" style=\"fill: #f58518; opacity: 0.7;\"></path><path d=\"M116.51785714285715,9.454545454545453h8.035714285714286v30.545454545454547h-8.035714285714286Z\" style=\"fill: #f58518; opacity: 0.7;\"></path><path d=\"M125.44642857142858,10.18181818181818h8.035714285714286v29.81818181818182h-8.035714285714286Z\" style=\"fill: #f58518; opacity: 0.7;\"></path><path d=\"M134.37500000000003,10.909090909090907h8.035714285714286v29.090909090909093h-8.035714285714286Z\" style=\"fill: #f58518; opacity: 0.7;\"></path><path d=\"M143.30357142857144,11.636363636363637h8.035714285714286v28.363636363636363h-8.035714285714286Z\" style=\"fill: #f58518; opacity: 0.7;\"></path><path d=\"M152.23214285714286,12.363636363636363h8.035714285714286v27.636363636363637h-8.035714285714286Z\" style=\"fill: #f58518; opacity: 0.7;\"></path><path d=\"M161.1607142857143,13.09090909090909h8.035714285714286v26.90909090909091h-8.035714285714286Z\" style=\"fill: #f58518; opacity: 0.7;\"></path><path d=\"M170.08928571428572,13.81818181818182h8.035714285714286v26.18181818181818h-8.035714285714286Z\" style=\"fill: #f58518; opacity: 0.7;\"></path><path d=\"M179.01785714285717,14.545454545454547h8.035714285714286v25.454545454545453h-8.035714285714286Z\" style=\"fill: #f58518; opacity: 0.7;\"></path><path d=\"M187.94642857142858,15.272727272727273h8.035714285714286v24.727272727272727h-8.035714285714286Z\" style=\"fill: #f58518; opacity: 0.7;\"></path><path d=\"M196.87500000000003,16h8.035714285714286v24h-8.035714285714286Z\" style=\"fill: #f58518; opacity: 0.7;\"></path><path d=\"M205.80357142857144,16.727272727272727h8.035714285714286v23.272727272727273h-8.035714285714286Z\" style=\"fill: #f58518; opacity: 0.7;\"></path><path d=\"M214.73214285714286,17.454545454545457h8.035714285714286v22.545454545454543h-8.035714285714286Z\" style=\"fill: #f58518; opacity: 0.7;\"></path><path d=\"M223.6607142857143,18.181818181818183h8.035714285714286v21.818181818181817h-8.035714285714286Z\" style=\"fill: #f58518; opacity: 0.7;\"></path><path d=\"M232.58928571428572,18.90909090909091h8.035714285714286v21.09090909090909h-8.035714285714286Z\" style=\"fill: #f58518; opacity: 0.7;\"></path><path d=\"M241.51785714285717,19.63636363636364h8.035714285714286v20.36363636363636h-8.035714285714286Z\" style=\"fill: #f58518; opacity: 0.7;\"></path><path d=\"M250.44642857142858,20.363636363636363h8.035714285714286v19.636363636363637h-8.035714285714286Z\" style=\"fill: #f58518; opacity: 0.7;\"></path><path d=\"M259.375,21.09090909090909h8.035714285714286v18.90909090909091h-8.035714285714286Z\" style=\"fill: #f58518; opacity: 0.7;\"></path><path d=\"M268.30357142857144,21.81818181818182h8.035714285714286v18.18181818181818h-8.035714285714286Z\" style=\"fill: #f58518; opacity: 0.7;\"></path><path d=\"M277.2321428571429,22.545454545454547h8.035714285714286v17.454545454545453h-8.035714285714286Z\" style=\"fill: #f58518; opacity: 0.7;\"></path><path d=\"M286.16071428571433,23.272727272727273h8.035714285714286v16.727272727272727h-8.035714285714286Z\" style=\"fill: #f58518; opacity: 0.7;\"></path><path d=\"M295.0892857142858,24h8.035714285714286v16h-8.035714285714286Z\" style=\"fill: #f58518; opacity: 0.7;\"></path><path d=\"M304.0178571428571,24.727272727272727h8.035714285714286v15.272727272727273h-8.035714285714286Z\" style=\"fill: #f58518; opacity: 0.7;\"></path><path d=\"M312.94642857142856,25.454545454545453h8.035714285714286v14.545454545454547h-8.035714285714286Z\" style=\"fill: #f58518; opacity: 0.7;\"></path><path d=\"M321.875,26.18181818181818h8.035714285714286v13.81818181818182h-8.035714285714286Z\" style=\"fill: #f58518; opacity: 0.7;\"></path><path d=\"M330.80357142857144,26.90909090909091h8.035714285714286v13.09090909090909h-8.035714285714286Z\" style=\"fill: #f58518; opacity: 0.7;\"></path><path d=\"M339.7321428571429,27.636363636363637h8.035714285714286v12.363636363636363h-8.035714285714286Z\" style=\"fill: #f58518; opacity: 0.7;\"></path><path d=\"M348.66071428571433,28.363636363636363h8.035714285714286v11.636363636363637h-8.035714285714286Z\" style=\"fill: #f58518; opacity: 0.7;\"></path><path d=\"M357.5892857142858,29.090909090909093h8.035714285714286v10.909090909090907h-8.035714285714286Z\" style=\"fill: #f58518; opacity: 0.7;\"></path><path d=\"M366.5178571428571,29.81818181818182h8.035714285714286v10.18181818181818h-8.035714285714286Z\" style=\"fill: #f58518; opacity: 0.7;\"></path><path d=\"M375.44642857142856,30.545454545454547h8.035714285714286v9.454545454545453h-8.035714285714286Z\" style=\"fill: #f58518; opacity: 0.7;\"></path><path d=\"M384.375,31.272727272727273h8.035714285714286v8.727272727272727h-8.035714285714286Z\" style=\"fill: #f58518; opacity: 0.7;\"></path><path d=\"M393.30357142857144,32h8.035714285714286v8h-8.035714285714286Z\" style=\"fill: #f58518; opacity: 0.7;\"></path><path d=\"M402.2321428571429,32.72727272727273h8.035714285714286v7.272727272727273h-8.035714285714286Z\" style=\"fill: #f58518; opacity: 0.7;\"></path><path d=\"M411.16071428571433,33.45454545454545h8.035714285714286v6.545454545454547h-8.035714285714286Z\" style=\"fill: #f58518; opacity: 0.7;\"></path><path d=\"M420.0892857142858,34.18181818181818h8.035714285714286v5.81818181818182h-8.035714285714286Z\" style=\"fill: #f58518; opacity: 0.7;\"></path><path d=\"M429.0178571428571,34.90909090909091h8.035714285714286v5.0909090909090935h-8.035714285714286Z\" style=\"fill: #f58518; opacity: 0.7;\"></path><path d=\"M437.94642857142856,35.63636363636364h8.035714285714286v4.36363636363636h-8.035714285714286Z\" style=\"fill: #f58518; opacity: 0.7;\"></path><path d=\"M446.875,36.36363636363636h8.035714285714286v3.6363636363636402h-8.035714285714286Z\" style=\"fill: #f58518; opacity: 0.7;\"></path><path d=\"M455.80357142857144,37.09090909090909h8.035714285714286v2.9090909090909065h-8.035714285714286Z\" style=\"fill: #f58518; opacity: 0.7;\"></path><path d=\"M464.7321428571429,37.81818181818182h8.035714285714286v2.18181818181818h-8.035714285714286Z\" style=\"fill: #f58518; opacity: 0.7;\"></path><path d=\"M473.66071428571433,38.54545454545455h8.035714285714286v1.4545454545454533h-8.035714285714286Z\" style=\"fill: #f58518; opacity: 0.7;\"></path><path d=\"M482.5892857142858,39.27272727272727h8.035714285714286v0.7272727272727266h-8.035714285714286Z\" style=\"fill: #f58518; opacity: 0.7;\"></path><path d=\"M491.5178571428572,40h8.035714285714286v0h-8.035714285714286Z\" style=\"fill: #f58518; opacity: 0.7;\"></path><path d=\"M0.4464285714285836,0h8.035714285714286v40h-8.035714285714286Z\" style=\"fill: #4c78a8; opacity: 0.7;\"></path><path d=\"M9.375000000000012,0h8.035714285714286v40h-8.035714285714286Z\" style=\"fill: #4c78a8; opacity: 0.7;\"></path><path d=\"M18.30357142857144,0h8.035714285714286v40h-8.035714285714286Z\" style=\"fill: #4c78a8; opacity: 0.7;\"></path><path d=\"M27.23214285714287,0h8.035714285714286v40h-8.035714285714286Z\" style=\"fill: #4c78a8; opacity: 0.7;\"></path><path d=\"M36.1607142857143,0h8.035714285714286v40h-8.035714285714286Z\" style=\"fill: #4c78a8; opacity: 0.7;\"></path><path d=\"M45.08928571428573,0h8.035714285714286v40h-8.035714285714286Z\" style=\"fill: #4c78a8; opacity: 0.7;\"></path><path d=\"M54.01785714285715,0h8.035714285714286v40h-8.035714285714286Z\" style=\"fill: #4c78a8; opacity: 0.7;\"></path><path d=\"M62.946428571428584,40h8.035714285714286v0h-8.035714285714286Z\" style=\"fill: #4c78a8; opacity: 0.7;\"></path><path d=\"M71.87500000000001,0h8.035714285714286v40h-8.035714285714286Z\" style=\"fill: #4c78a8; opacity: 0.7;\"></path><path d=\"M80.80357142857144,0h8.035714285714286v40h-8.035714285714286Z\" style=\"fill: #4c78a8; opacity: 0.7;\"></path><path d=\"M89.73214285714288,0h8.035714285714286v40h-8.035714285714286Z\" style=\"fill: #4c78a8; opacity: 0.7;\"></path><path d=\"M98.6607142857143,0h8.035714285714286v40h-8.035714285714286Z\" style=\"fill: #4c78a8; opacity: 0.7;\"></path><path d=\"M107.58928571428572,0h8.035714285714286v40h-8.035714285714286Z\" style=\"fill: #4c78a8; opacity: 0.7;\"></path><path d=\"M116.51785714285715,40h8.035714285714286v0h-8.035714285714286Z\" style=\"fill: #4c78a8; opacity: 0.7;\"></path><path d=\"M125.44642857142858,0h8.035714285714286v40h-8.035714285714286Z\" style=\"fill: #4c78a8; opacity: 0.7;\"></path><path d=\"M134.37500000000003,0h8.035714285714286v40h-8.035714285714286Z\" style=\"fill: #4c78a8; opacity: 0.7;\"></path><path d=\"M143.30357142857144,0h8.035714285714286v40h-8.035714285714286Z\" style=\"fill: #4c78a8; opacity: 0.7;\"></path><path d=\"M152.23214285714286,40h8.035714285714286v0h-8.035714285714286Z\" style=\"fill: #4c78a8; opacity: 0.7;\"></path><path d=\"M161.1607142857143,0h8.035714285714286v40h-8.035714285714286Z\" style=\"fill: #4c78a8; opacity: 0.7;\"></path><path d=\"M170.08928571428572,0h8.035714285714286v40h-8.035714285714286Z\" style=\"fill: #4c78a8; opacity: 0.7;\"></path><path d=\"M179.01785714285717,40h8.035714285714286v0h-8.035714285714286Z\" style=\"fill: #4c78a8; opacity: 0.7;\"></path><path d=\"M187.94642857142858,0h8.035714285714286v40h-8.035714285714286Z\" style=\"fill: #4c78a8; opacity: 0.7;\"></path><path d=\"M196.87500000000003,40h8.035714285714286v0h-8.035714285714286Z\" style=\"fill: #4c78a8; opacity: 0.7;\"></path><path d=\"M205.80357142857144,0h8.035714285714286v40h-8.035714285714286Z\" style=\"fill: #4c78a8; opacity: 0.7;\"></path><path d=\"M214.73214285714286,0h8.035714285714286v40h-8.035714285714286Z\" style=\"fill: #4c78a8; opacity: 0.7;\"></path><path d=\"M223.6607142857143,40h8.035714285714286v0h-8.035714285714286Z\" style=\"fill: #4c78a8; opacity: 0.7;\"></path><path d=\"M232.58928571428572,0h8.035714285714286v40h-8.035714285714286Z\" style=\"fill: #4c78a8; opacity: 0.7;\"></path><path d=\"M241.51785714285717,40h8.035714285714286v0h-8.035714285714286Z\" style=\"fill: #4c78a8; opacity: 0.7;\"></path><path d=\"M250.44642857142858,0h8.035714285714286v40h-8.035714285714286Z\" style=\"fill: #4c78a8; opacity: 0.7;\"></path><path d=\"M259.375,40h8.035714285714286v0h-8.035714285714286Z\" style=\"fill: #4c78a8; opacity: 0.7;\"></path><path d=\"M268.30357142857144,0h8.035714285714286v40h-8.035714285714286Z\" style=\"fill: #4c78a8; opacity: 0.7;\"></path><path d=\"M277.2321428571429,40h8.035714285714286v0h-8.035714285714286Z\" style=\"fill: #4c78a8; opacity: 0.7;\"></path><path d=\"M286.16071428571433,40h8.035714285714286v0h-8.035714285714286Z\" style=\"fill: #4c78a8; opacity: 0.7;\"></path><path d=\"M295.0892857142858,0h8.035714285714286v40h-8.035714285714286Z\" style=\"fill: #4c78a8; opacity: 0.7;\"></path><path d=\"M304.0178571428571,40h8.035714285714286v0h-8.035714285714286Z\" style=\"fill: #4c78a8; opacity: 0.7;\"></path><path d=\"M312.94642857142856,0h8.035714285714286v40h-8.035714285714286Z\" style=\"fill: #4c78a8; opacity: 0.7;\"></path><path d=\"M321.875,40h8.035714285714286v0h-8.035714285714286Z\" style=\"fill: #4c78a8; opacity: 0.7;\"></path><path d=\"M330.80357142857144,40h8.035714285714286v0h-8.035714285714286Z\" style=\"fill: #4c78a8; opacity: 0.7;\"></path><path d=\"M339.7321428571429,0h8.035714285714286v40h-8.035714285714286Z\" style=\"fill: #4c78a8; opacity: 0.7;\"></path><path d=\"M348.66071428571433,40h8.035714285714286v0h-8.035714285714286Z\" style=\"fill: #4c78a8; opacity: 0.7;\"></path><path d=\"M357.5892857142858,40h8.035714285714286v0h-8.035714285714286Z\" style=\"fill: #4c78a8; opacity: 0.7;\"></path><path d=\"M366.5178571428571,40h8.035714285714286v0h-8.035714285714286Z\" style=\"fill: #4c78a8; opacity: 0.7;\"></path><path d=\"M375.44642857142856,0h8.035714285714286v40h-8.035714285714286Z\" style=\"fill: #4c78a8; opacity: 0.7;\"></path><path d=\"M384.375,40h8.035714285714286v0h-8.035714285714286Z\" style=\"fill: #4c78a8; opacity: 0.7;\"></path><path d=\"M393.30357142857144,40h8.035714285714286v0h-8.035714285714286Z\" style=\"fill: #4c78a8; opacity: 0.7;\"></path><path d=\"M402.2321428571429,40h8.035714285714286v0h-8.035714285714286Z\" style=\"fill: #4c78a8; opacity: 0.7;\"></path><path d=\"M411.16071428571433,40h8.035714285714286v0h-8.035714285714286Z\" style=\"fill: #4c78a8; opacity: 0.7;\"></path><path d=\"M420.0892857142858,40h8.035714285714286v0h-8.035714285714286Z\" style=\"fill: #4c78a8; opacity: 0.7;\"></path><path d=\"M429.0178571428571,0h8.035714285714286v40h-8.035714285714286Z\" style=\"fill: #4c78a8; opacity: 0.7;\"></path><path d=\"M437.94642857142856,40h8.035714285714286v0h-8.035714285714286Z\" style=\"fill: #4c78a8; opacity: 0.7;\"></path><path d=\"M446.875,40h8.035714285714286v0h-8.035714285714286Z\" style=\"fill: #4c78a8; opacity: 0.7;\"></path><path d=\"M455.80357142857144,40h8.035714285714286v0h-8.035714285714286Z\" style=\"fill: #4c78a8; opacity: 0.7;\"></path><path d=\"M464.7321428571429,40h8.035714285714286v0h-8.035714285714286Z\" style=\"fill: #4c78a8; opacity: 0.7;\"></path><path d=\"M473.66071428571433,40h8.035714285714286v0h-8.035714285714286Z\" style=\"fill: #4c78a8; opacity: 0.7;\"></path><path d=\"M482.5892857142858,40h8.035714285714286v0h-8.035714285714286Z\" style=\"fill: #4c78a8; opacity: 0.7;\"></path><path d=\"M491.5178571428572,40h8.035714285714286v0h-8.035714285714286Z\" style=\"fill: #4c78a8; opacity: 0.7;\"></path></g></g></g></g><g class=\"mark-group role-legend\"><g transform=\"translate(519,0)\"><path class=\"background\" d=\"M0,0h70v40h-70Z\" style=\"pointer-events: none; fill: none;\"></path><g><g class=\"mark-group role-legend-entry\"><g transform=\"translate(0,16)\"><path class=\"background\" d=\"M0,0h0v0h0Z\" style=\"pointer-events: none; fill: none;\"></path><g><g class=\"mark-group role-scope\"><g transform=\"translate(0,0)\"><path class=\"background\" d=\"M0,0h70v11h-70Z\" style=\"pointer-events: none; fill: none; opacity: 1;\"></path><g><g class=\"mark-symbol role-legend-symbol\" style=\"pointer-events: none;\"><path transform=\"translate(6,6)\" d=\"M-5,-5h10v10h-10Z\" style=\"fill: #4c78a8; stroke-width: 1.5; opacity: 0.7;\"></path></g><g class=\"mark-text role-legend-label\" style=\"pointer-events: none;\"><text text-anchor=\"start\" transform=\"translate(16,9)\" style=\"font-family: sans-serif; font-size: 10px; fill: #000; opacity: 1;\">binary</text></g></g></g><g transform=\"translate(0,13)\"><path class=\"background\" d=\"M0,0h70v11h-70Z\" style=\"pointer-events: none; fill: none; opacity: 1;\"></path><g><g class=\"mark-symbol role-legend-symbol\" style=\"pointer-events: none;\"><path transform=\"translate(6,6)\" d=\"M-5,-5h10v10h-10Z\" style=\"fill: #f58518; stroke-width: 1.5; opacity: 0.7;\"></path></g><g class=\"mark-text role-legend-label\" style=\"pointer-events: none;\"><text text-anchor=\"start\" transform=\"translate(16,9)\" style=\"font-family: sans-serif; font-size: 10px; fill: #000; opacity: 1;\">continuous</text></g></g></g></g></g></g></g><g class=\"mark-text role-legend-title\" style=\"pointer-events: none;\"><text text-anchor=\"start\" transform=\"translate(0,9)\" style=\"font-family: sans-serif; font-size: 11px; font-weight: bold; fill: #000; opacity: 1;\">mode</text></g></g></g></g></g></g></g></g></svg>"
      ],
      "text/plain": [
       "VegaLite.VLSpec{:plot}"
      ]
     },
     "execution_count": 7,
     "metadata": {},
     "output_type": "execute_result"
    }
   ],
   "source": [
    "parts = DataFrame[]\n",
    "for w in 1:8\n",
    "    n = 7*w\n",
    "    ramp = collect(ramp_down(n))\n",
    "    push!(parts, DataFrame(weeks=w, day=1:n, mode=\"continuous\", dose=ramp))\n",
    "    rounded = sum_up_round(ramp)\n",
    "    push!(parts, DataFrame(weeks=w, day=1:n, mode=\"binary\", dose=rounded))\n",
    "end\n",
    "data = vcat(parts...)\n",
    "\n",
    "@vlplot(\n",
    "    mark={:bar, opacity=0.7},\n",
    "    height=40, width=500, data=data,\n",
    "    x=\"day:o\", y={:dose, stack=nothing}, row=\"weeks:n\", color=:mode\n",
    ")"
   ]
  },
  {
   "cell_type": "markdown",
   "metadata": {},
   "source": [
    "Finally, let's look at the case where we want to ramp down to a lower dose, say 1/3, instead of 0, and then stay there for another week."
   ]
  },
  {
   "cell_type": "code",
   "execution_count": 8,
   "metadata": {},
   "outputs": [
    {
     "data": {
      "application/vnd.vegalite.v3+json": {
       "data": {
        "values": [
         {
          "day": 1,
          "dose": 1,
          "mode": "continuous",
          "weeks": 3
         },
         {
          "day": 2,
          "dose": 0.9487179487179487,
          "mode": "continuous",
          "weeks": 3
         },
         {
          "day": 3,
          "dose": 0.8974358974358975,
          "mode": "continuous",
          "weeks": 3
         },
         {
          "day": 4,
          "dose": 0.8461538461538461,
          "mode": "continuous",
          "weeks": 3
         },
         {
          "day": 5,
          "dose": 0.7948717948717948,
          "mode": "continuous",
          "weeks": 3
         },
         {
          "day": 6,
          "dose": 0.7435897435897436,
          "mode": "continuous",
          "weeks": 3
         },
         {
          "day": 7,
          "dose": 0.6923076923076923,
          "mode": "continuous",
          "weeks": 3
         },
         {
          "day": 8,
          "dose": 0.6410256410256411,
          "mode": "continuous",
          "weeks": 3
         },
         {
          "day": 9,
          "dose": 0.5897435897435898,
          "mode": "continuous",
          "weeks": 3
         },
         {
          "day": 10,
          "dose": 0.5384615384615384,
          "mode": "continuous",
          "weeks": 3
         },
         {
          "day": 11,
          "dose": 0.48717948717948717,
          "mode": "continuous",
          "weeks": 3
         },
         {
          "day": 12,
          "dose": 0.4358974358974359,
          "mode": "continuous",
          "weeks": 3
         },
         {
          "day": 13,
          "dose": 0.38461538461538464,
          "mode": "continuous",
          "weeks": 3
         },
         {
          "day": 14,
          "dose": 0.3333333333333333,
          "mode": "continuous",
          "weeks": 3
         },
         {
          "day": 15,
          "dose": 0.3333333333333333,
          "mode": "continuous",
          "weeks": 3
         },
         {
          "day": 16,
          "dose": 0.3333333333333333,
          "mode": "continuous",
          "weeks": 3
         },
         {
          "day": 17,
          "dose": 0.3333333333333333,
          "mode": "continuous",
          "weeks": 3
         },
         {
          "day": 18,
          "dose": 0.3333333333333333,
          "mode": "continuous",
          "weeks": 3
         },
         {
          "day": 19,
          "dose": 0.3333333333333333,
          "mode": "continuous",
          "weeks": 3
         },
         {
          "day": 20,
          "dose": 0.3333333333333333,
          "mode": "continuous",
          "weeks": 3
         },
         {
          "day": 21,
          "dose": 0.3333333333333333,
          "mode": "continuous",
          "weeks": 3
         },
         {
          "day": 1,
          "dose": 1,
          "mode": "binary",
          "weeks": 3
         },
         {
          "day": 2,
          "dose": 1,
          "mode": "binary",
          "weeks": 3
         },
         {
          "day": 3,
          "dose": 1,
          "mode": "binary",
          "weeks": 3
         },
         {
          "day": 4,
          "dose": 1,
          "mode": "binary",
          "weeks": 3
         },
         {
          "day": 5,
          "dose": 0,
          "mode": "binary",
          "weeks": 3
         },
         {
          "day": 6,
          "dose": 1,
          "mode": "binary",
          "weeks": 3
         },
         {
          "day": 7,
          "dose": 1,
          "mode": "binary",
          "weeks": 3
         },
         {
          "day": 8,
          "dose": 1,
          "mode": "binary",
          "weeks": 3
         },
         {
          "day": 9,
          "dose": 0,
          "mode": "binary",
          "weeks": 3
         },
         {
          "day": 10,
          "dose": 1,
          "mode": "binary",
          "weeks": 3
         },
         {
          "day": 11,
          "dose": 0,
          "mode": "binary",
          "weeks": 3
         },
         {
          "day": 12,
          "dose": 1,
          "mode": "binary",
          "weeks": 3
         },
         {
          "day": 13,
          "dose": 0,
          "mode": "binary",
          "weeks": 3
         },
         {
          "day": 14,
          "dose": 0,
          "mode": "binary",
          "weeks": 3
         },
         {
          "day": 15,
          "dose": 1,
          "mode": "binary",
          "weeks": 3
         },
         {
          "day": 16,
          "dose": 0,
          "mode": "binary",
          "weeks": 3
         },
         {
          "day": 17,
          "dose": 0,
          "mode": "binary",
          "weeks": 3
         },
         {
          "day": 18,
          "dose": 1,
          "mode": "binary",
          "weeks": 3
         },
         {
          "day": 19,
          "dose": 0,
          "mode": "binary",
          "weeks": 3
         },
         {
          "day": 20,
          "dose": 0,
          "mode": "binary",
          "weeks": 3
         },
         {
          "day": 21,
          "dose": 1,
          "mode": "binary",
          "weeks": 3
         },
         {
          "day": 1,
          "dose": 1,
          "mode": "continuous",
          "weeks": 4
         },
         {
          "day": 2,
          "dose": 0.9666666666666667,
          "mode": "continuous",
          "weeks": 4
         },
         {
          "day": 3,
          "dose": 0.9333333333333333,
          "mode": "continuous",
          "weeks": 4
         },
         {
          "day": 4,
          "dose": 0.9,
          "mode": "continuous",
          "weeks": 4
         },
         {
          "day": 5,
          "dose": 0.8666666666666667,
          "mode": "continuous",
          "weeks": 4
         },
         {
          "day": 6,
          "dose": 0.8333333333333334,
          "mode": "continuous",
          "weeks": 4
         },
         {
          "day": 7,
          "dose": 0.8,
          "mode": "continuous",
          "weeks": 4
         },
         {
          "day": 8,
          "dose": 0.7666666666666667,
          "mode": "continuous",
          "weeks": 4
         },
         {
          "day": 9,
          "dose": 0.7333333333333333,
          "mode": "continuous",
          "weeks": 4
         },
         {
          "day": 10,
          "dose": 0.7,
          "mode": "continuous",
          "weeks": 4
         },
         {
          "day": 11,
          "dose": 0.6666666666666666,
          "mode": "continuous",
          "weeks": 4
         },
         {
          "day": 12,
          "dose": 0.6333333333333333,
          "mode": "continuous",
          "weeks": 4
         },
         {
          "day": 13,
          "dose": 0.6,
          "mode": "continuous",
          "weeks": 4
         },
         {
          "day": 14,
          "dose": 0.5666666666666667,
          "mode": "continuous",
          "weeks": 4
         },
         {
          "day": 15,
          "dose": 0.5333333333333333,
          "mode": "continuous",
          "weeks": 4
         },
         {
          "day": 16,
          "dose": 0.5,
          "mode": "continuous",
          "weeks": 4
         },
         {
          "day": 17,
          "dose": 0.4666666666666667,
          "mode": "continuous",
          "weeks": 4
         },
         {
          "day": 18,
          "dose": 0.43333333333333335,
          "mode": "continuous",
          "weeks": 4
         },
         {
          "day": 19,
          "dose": 0.4,
          "mode": "continuous",
          "weeks": 4
         },
         {
          "day": 20,
          "dose": 0.36666666666666664,
          "mode": "continuous",
          "weeks": 4
         },
         {
          "day": 21,
          "dose": 0.3333333333333333,
          "mode": "continuous",
          "weeks": 4
         },
         {
          "day": 22,
          "dose": 0.3333333333333333,
          "mode": "continuous",
          "weeks": 4
         },
         {
          "day": 23,
          "dose": 0.3333333333333333,
          "mode": "continuous",
          "weeks": 4
         },
         {
          "day": 24,
          "dose": 0.3333333333333333,
          "mode": "continuous",
          "weeks": 4
         },
         {
          "day": 25,
          "dose": 0.3333333333333333,
          "mode": "continuous",
          "weeks": 4
         },
         {
          "day": 26,
          "dose": 0.3333333333333333,
          "mode": "continuous",
          "weeks": 4
         },
         {
          "day": 27,
          "dose": 0.3333333333333333,
          "mode": "continuous",
          "weeks": 4
         },
         {
          "day": 28,
          "dose": 0.3333333333333333,
          "mode": "continuous",
          "weeks": 4
         },
         {
          "day": 1,
          "dose": 1,
          "mode": "binary",
          "weeks": 4
         },
         {
          "day": 2,
          "dose": 1,
          "mode": "binary",
          "weeks": 4
         },
         {
          "day": 3,
          "dose": 1,
          "mode": "binary",
          "weeks": 4
         },
         {
          "day": 4,
          "dose": 1,
          "mode": "binary",
          "weeks": 4
         },
         {
          "day": 5,
          "dose": 1,
          "mode": "binary",
          "weeks": 4
         },
         {
          "day": 6,
          "dose": 1,
          "mode": "binary",
          "weeks": 4
         },
         {
          "day": 7,
          "dose": 0,
          "mode": "binary",
          "weeks": 4
         },
         {
          "day": 8,
          "dose": 1,
          "mode": "binary",
          "weeks": 4
         },
         {
          "day": 9,
          "dose": 1,
          "mode": "binary",
          "weeks": 4
         },
         {
          "day": 10,
          "dose": 1,
          "mode": "binary",
          "weeks": 4
         },
         {
          "day": 11,
          "dose": 0,
          "mode": "binary",
          "weeks": 4
         },
         {
          "day": 12,
          "dose": 1,
          "mode": "binary",
          "weeks": 4
         },
         {
          "day": 13,
          "dose": 0,
          "mode": "binary",
          "weeks": 4
         },
         {
          "day": 14,
          "dose": 1,
          "mode": "binary",
          "weeks": 4
         },
         {
          "day": 15,
          "dose": 0,
          "mode": "binary",
          "weeks": 4
         },
         {
          "day": 16,
          "dose": 1,
          "mode": "binary",
          "weeks": 4
         },
         {
          "day": 17,
          "dose": 0,
          "mode": "binary",
          "weeks": 4
         },
         {
          "day": 18,
          "dose": 1,
          "mode": "binary",
          "weeks": 4
         },
         {
          "day": 19,
          "dose": 0,
          "mode": "binary",
          "weeks": 4
         },
         {
          "day": 20,
          "dose": 1,
          "mode": "binary",
          "weeks": 4
         },
         {
          "day": 21,
          "dose": 0,
          "mode": "binary",
          "weeks": 4
         },
         {
          "day": 22,
          "dose": 0,
          "mode": "binary",
          "weeks": 4
         },
         {
          "day": 23,
          "dose": 1,
          "mode": "binary",
          "weeks": 4
         },
         {
          "day": 24,
          "dose": 0,
          "mode": "binary",
          "weeks": 4
         },
         {
          "day": 25,
          "dose": 0,
          "mode": "binary",
          "weeks": 4
         },
         {
          "day": 26,
          "dose": 1,
          "mode": "binary",
          "weeks": 4
         },
         {
          "day": 27,
          "dose": 0,
          "mode": "binary",
          "weeks": 4
         },
         {
          "day": 28,
          "dose": 0,
          "mode": "binary",
          "weeks": 4
         },
         {
          "day": 1,
          "dose": 1,
          "mode": "continuous",
          "weeks": 5
         },
         {
          "day": 2,
          "dose": 0.9753086419753086,
          "mode": "continuous",
          "weeks": 5
         },
         {
          "day": 3,
          "dose": 0.9506172839506173,
          "mode": "continuous",
          "weeks": 5
         },
         {
          "day": 4,
          "dose": 0.9259259259259259,
          "mode": "continuous",
          "weeks": 5
         },
         {
          "day": 5,
          "dose": 0.9012345679012346,
          "mode": "continuous",
          "weeks": 5
         },
         {
          "day": 6,
          "dose": 0.8765432098765432,
          "mode": "continuous",
          "weeks": 5
         },
         {
          "day": 7,
          "dose": 0.8518518518518519,
          "mode": "continuous",
          "weeks": 5
         },
         {
          "day": 8,
          "dose": 0.8271604938271605,
          "mode": "continuous",
          "weeks": 5
         },
         {
          "day": 9,
          "dose": 0.8024691358024691,
          "mode": "continuous",
          "weeks": 5
         },
         {
          "day": 10,
          "dose": 0.7777777777777778,
          "mode": "continuous",
          "weeks": 5
         },
         {
          "day": 11,
          "dose": 0.7530864197530864,
          "mode": "continuous",
          "weeks": 5
         },
         {
          "day": 12,
          "dose": 0.7283950617283951,
          "mode": "continuous",
          "weeks": 5
         },
         {
          "day": 13,
          "dose": 0.7037037037037037,
          "mode": "continuous",
          "weeks": 5
         },
         {
          "day": 14,
          "dose": 0.6790123456790124,
          "mode": "continuous",
          "weeks": 5
         },
         {
          "day": 15,
          "dose": 0.654320987654321,
          "mode": "continuous",
          "weeks": 5
         },
         {
          "day": 16,
          "dose": 0.6296296296296297,
          "mode": "continuous",
          "weeks": 5
         },
         {
          "day": 17,
          "dose": 0.6049382716049383,
          "mode": "continuous",
          "weeks": 5
         },
         {
          "day": 18,
          "dose": 0.5802469135802469,
          "mode": "continuous",
          "weeks": 5
         },
         {
          "day": 19,
          "dose": 0.5555555555555556,
          "mode": "continuous",
          "weeks": 5
         },
         {
          "day": 20,
          "dose": 0.5308641975308642,
          "mode": "continuous",
          "weeks": 5
         },
         {
          "day": 21,
          "dose": 0.5061728395061729,
          "mode": "continuous",
          "weeks": 5
         },
         {
          "day": 22,
          "dose": 0.48148148148148145,
          "mode": "continuous",
          "weeks": 5
         },
         {
          "day": 23,
          "dose": 0.4567901234567901,
          "mode": "continuous",
          "weeks": 5
         },
         {
          "day": 24,
          "dose": 0.43209876543209874,
          "mode": "continuous",
          "weeks": 5
         },
         {
          "day": 25,
          "dose": 0.4074074074074074,
          "mode": "continuous",
          "weeks": 5
         },
         {
          "day": 26,
          "dose": 0.38271604938271603,
          "mode": "continuous",
          "weeks": 5
         },
         {
          "day": 27,
          "dose": 0.35802469135802467,
          "mode": "continuous",
          "weeks": 5
         },
         {
          "day": 28,
          "dose": 0.3333333333333333,
          "mode": "continuous",
          "weeks": 5
         },
         {
          "day": 29,
          "dose": 0.3333333333333333,
          "mode": "continuous",
          "weeks": 5
         },
         {
          "day": 30,
          "dose": 0.3333333333333333,
          "mode": "continuous",
          "weeks": 5
         },
         {
          "day": 31,
          "dose": 0.3333333333333333,
          "mode": "continuous",
          "weeks": 5
         },
         {
          "day": 32,
          "dose": 0.3333333333333333,
          "mode": "continuous",
          "weeks": 5
         },
         {
          "day": 33,
          "dose": 0.3333333333333333,
          "mode": "continuous",
          "weeks": 5
         },
         {
          "day": 34,
          "dose": 0.3333333333333333,
          "mode": "continuous",
          "weeks": 5
         },
         {
          "day": 35,
          "dose": 0.3333333333333333,
          "mode": "continuous",
          "weeks": 5
         },
         {
          "day": 1,
          "dose": 1,
          "mode": "binary",
          "weeks": 5
         },
         {
          "day": 2,
          "dose": 1,
          "mode": "binary",
          "weeks": 5
         },
         {
          "day": 3,
          "dose": 1,
          "mode": "binary",
          "weeks": 5
         },
         {
          "day": 4,
          "dose": 1,
          "mode": "binary",
          "weeks": 5
         },
         {
          "day": 5,
          "dose": 1,
          "mode": "binary",
          "weeks": 5
         },
         {
          "day": 6,
          "dose": 1,
          "mode": "binary",
          "weeks": 5
         },
         {
          "day": 7,
          "dose": 0,
          "mode": "binary",
          "weeks": 5
         },
         {
          "day": 8,
          "dose": 1,
          "mode": "binary",
          "weeks": 5
         },
         {
          "day": 9,
          "dose": 1,
          "mode": "binary",
          "weeks": 5
         },
         {
          "day": 10,
          "dose": 1,
          "mode": "binary",
          "weeks": 5
         },
         {
          "day": 11,
          "dose": 1,
          "mode": "binary",
          "weeks": 5
         },
         {
          "day": 12,
          "dose": 0,
          "mode": "binary",
          "weeks": 5
         },
         {
          "day": 13,
          "dose": 1,
          "mode": "binary",
          "weeks": 5
         },
         {
          "day": 14,
          "dose": 1,
          "mode": "binary",
          "weeks": 5
         },
         {
          "day": 15,
          "dose": 0,
          "mode": "binary",
          "weeks": 5
         },
         {
          "day": 16,
          "dose": 1,
          "mode": "binary",
          "weeks": 5
         },
         {
          "day": 17,
          "dose": 1,
          "mode": "binary",
          "weeks": 5
         },
         {
          "day": 18,
          "dose": 0,
          "mode": "binary",
          "weeks": 5
         },
         {
          "day": 19,
          "dose": 1,
          "mode": "binary",
          "weeks": 5
         },
         {
          "day": 20,
          "dose": 0,
          "mode": "binary",
          "weeks": 5
         },
         {
          "day": 21,
          "dose": 1,
          "mode": "binary",
          "weeks": 5
         },
         {
          "day": 22,
          "dose": 0,
          "mode": "binary",
          "weeks": 5
         },
         {
          "day": 23,
          "dose": 1,
          "mode": "binary",
          "weeks": 5
         },
         {
          "day": 24,
          "dose": 0,
          "mode": "binary",
          "weeks": 5
         },
         {
          "day": 25,
          "dose": 1,
          "mode": "binary",
          "weeks": 5
         },
         {
          "day": 26,
          "dose": 0,
          "mode": "binary",
          "weeks": 5
         },
         {
          "day": 27,
          "dose": 0,
          "mode": "binary",
          "weeks": 5
         },
         {
          "day": 28,
          "dose": 1,
          "mode": "binary",
          "weeks": 5
         },
         {
          "day": 29,
          "dose": 0,
          "mode": "binary",
          "weeks": 5
         },
         {
          "day": 30,
          "dose": 0,
          "mode": "binary",
          "weeks": 5
         },
         {
          "day": 31,
          "dose": 1,
          "mode": "binary",
          "weeks": 5
         },
         {
          "day": 32,
          "dose": 0,
          "mode": "binary",
          "weeks": 5
         },
         {
          "day": 33,
          "dose": 0,
          "mode": "binary",
          "weeks": 5
         },
         {
          "day": 34,
          "dose": 1,
          "mode": "binary",
          "weeks": 5
         },
         {
          "day": 35,
          "dose": 0,
          "mode": "binary",
          "weeks": 5
         },
         {
          "day": 1,
          "dose": 1,
          "mode": "continuous",
          "weeks": 6
         },
         {
          "day": 2,
          "dose": 0.9803921568627451,
          "mode": "continuous",
          "weeks": 6
         },
         {
          "day": 3,
          "dose": 0.9607843137254902,
          "mode": "continuous",
          "weeks": 6
         },
         {
          "day": 4,
          "dose": 0.9411764705882353,
          "mode": "continuous",
          "weeks": 6
         },
         {
          "day": 5,
          "dose": 0.9215686274509803,
          "mode": "continuous",
          "weeks": 6
         },
         {
          "day": 6,
          "dose": 0.9019607843137255,
          "mode": "continuous",
          "weeks": 6
         },
         {
          "day": 7,
          "dose": 0.8823529411764706,
          "mode": "continuous",
          "weeks": 6
         },
         {
          "day": 8,
          "dose": 0.8627450980392157,
          "mode": "continuous",
          "weeks": 6
         },
         {
          "day": 9,
          "dose": 0.8431372549019608,
          "mode": "continuous",
          "weeks": 6
         },
         {
          "day": 10,
          "dose": 0.8235294117647058,
          "mode": "continuous",
          "weeks": 6
         },
         {
          "day": 11,
          "dose": 0.803921568627451,
          "mode": "continuous",
          "weeks": 6
         },
         {
          "day": 12,
          "dose": 0.7843137254901961,
          "mode": "continuous",
          "weeks": 6
         },
         {
          "day": 13,
          "dose": 0.7647058823529411,
          "mode": "continuous",
          "weeks": 6
         },
         {
          "day": 14,
          "dose": 0.7450980392156863,
          "mode": "continuous",
          "weeks": 6
         },
         {
          "day": 15,
          "dose": 0.7254901960784313,
          "mode": "continuous",
          "weeks": 6
         },
         {
          "day": 16,
          "dose": 0.7058823529411765,
          "mode": "continuous",
          "weeks": 6
         },
         {
          "day": 17,
          "dose": 0.6862745098039216,
          "mode": "continuous",
          "weeks": 6
         },
         {
          "day": 18,
          "dose": 0.6666666666666666,
          "mode": "continuous",
          "weeks": 6
         },
         {
          "day": 19,
          "dose": 0.6470588235294118,
          "mode": "continuous",
          "weeks": 6
         },
         {
          "day": 20,
          "dose": 0.6274509803921569,
          "mode": "continuous",
          "weeks": 6
         },
         {
          "day": 21,
          "dose": 0.6078431372549019,
          "mode": "continuous",
          "weeks": 6
         },
         {
          "day": 22,
          "dose": 0.5882352941176471,
          "mode": "continuous",
          "weeks": 6
         },
         {
          "day": 23,
          "dose": 0.5686274509803921,
          "mode": "continuous",
          "weeks": 6
         },
         {
          "day": 24,
          "dose": 0.5490196078431373,
          "mode": "continuous",
          "weeks": 6
         },
         {
          "day": 25,
          "dose": 0.5294117647058824,
          "mode": "continuous",
          "weeks": 6
         },
         {
          "day": 26,
          "dose": 0.5098039215686274,
          "mode": "continuous",
          "weeks": 6
         },
         {
          "day": 27,
          "dose": 0.49019607843137253,
          "mode": "continuous",
          "weeks": 6
         },
         {
          "day": 28,
          "dose": 0.47058823529411764,
          "mode": "continuous",
          "weeks": 6
         },
         {
          "day": 29,
          "dose": 0.45098039215686275,
          "mode": "continuous",
          "weeks": 6
         },
         {
          "day": 30,
          "dose": 0.43137254901960786,
          "mode": "continuous",
          "weeks": 6
         },
         {
          "day": 31,
          "dose": 0.4117647058823529,
          "mode": "continuous",
          "weeks": 6
         },
         {
          "day": 32,
          "dose": 0.39215686274509803,
          "mode": "continuous",
          "weeks": 6
         },
         {
          "day": 33,
          "dose": 0.37254901960784315,
          "mode": "continuous",
          "weeks": 6
         },
         {
          "day": 34,
          "dose": 0.35294117647058826,
          "mode": "continuous",
          "weeks": 6
         },
         {
          "day": 35,
          "dose": 0.3333333333333333,
          "mode": "continuous",
          "weeks": 6
         },
         {
          "day": 36,
          "dose": 0.3333333333333333,
          "mode": "continuous",
          "weeks": 6
         },
         {
          "day": 37,
          "dose": 0.3333333333333333,
          "mode": "continuous",
          "weeks": 6
         },
         {
          "day": 38,
          "dose": 0.3333333333333333,
          "mode": "continuous",
          "weeks": 6
         },
         {
          "day": 39,
          "dose": 0.3333333333333333,
          "mode": "continuous",
          "weeks": 6
         },
         {
          "day": 40,
          "dose": 0.3333333333333333,
          "mode": "continuous",
          "weeks": 6
         },
         {
          "day": 41,
          "dose": 0.3333333333333333,
          "mode": "continuous",
          "weeks": 6
         },
         {
          "day": 42,
          "dose": 0.3333333333333333,
          "mode": "continuous",
          "weeks": 6
         },
         {
          "day": 1,
          "dose": 1,
          "mode": "binary",
          "weeks": 6
         },
         {
          "day": 2,
          "dose": 1,
          "mode": "binary",
          "weeks": 6
         },
         {
          "day": 3,
          "dose": 1,
          "mode": "binary",
          "weeks": 6
         },
         {
          "day": 4,
          "dose": 1,
          "mode": "binary",
          "weeks": 6
         },
         {
          "day": 5,
          "dose": 1,
          "mode": "binary",
          "weeks": 6
         },
         {
          "day": 6,
          "dose": 1,
          "mode": "binary",
          "weeks": 6
         },
         {
          "day": 7,
          "dose": 1,
          "mode": "binary",
          "weeks": 6
         },
         {
          "day": 8,
          "dose": 0,
          "mode": "binary",
          "weeks": 6
         },
         {
          "day": 9,
          "dose": 1,
          "mode": "binary",
          "weeks": 6
         },
         {
          "day": 10,
          "dose": 1,
          "mode": "binary",
          "weeks": 6
         },
         {
          "day": 11,
          "dose": 1,
          "mode": "binary",
          "weeks": 6
         },
         {
          "day": 12,
          "dose": 1,
          "mode": "binary",
          "weeks": 6
         },
         {
          "day": 13,
          "dose": 0,
          "mode": "binary",
          "weeks": 6
         },
         {
          "day": 14,
          "dose": 1,
          "mode": "binary",
          "weeks": 6
         },
         {
          "day": 15,
          "dose": 1,
          "mode": "binary",
          "weeks": 6
         },
         {
          "day": 16,
          "dose": 1,
          "mode": "binary",
          "weeks": 6
         },
         {
          "day": 17,
          "dose": 0,
          "mode": "binary",
          "weeks": 6
         },
         {
          "day": 18,
          "dose": 1,
          "mode": "binary",
          "weeks": 6
         },
         {
          "day": 19,
          "dose": 1,
          "mode": "binary",
          "weeks": 6
         },
         {
          "day": 20,
          "dose": 0,
          "mode": "binary",
          "weeks": 6
         },
         {
          "day": 21,
          "dose": 1,
          "mode": "binary",
          "weeks": 6
         },
         {
          "day": 22,
          "dose": 0,
          "mode": "binary",
          "weeks": 6
         },
         {
          "day": 23,
          "dose": 1,
          "mode": "binary",
          "weeks": 6
         },
         {
          "day": 24,
          "dose": 1,
          "mode": "binary",
          "weeks": 6
         },
         {
          "day": 25,
          "dose": 0,
          "mode": "binary",
          "weeks": 6
         },
         {
          "day": 26,
          "dose": 1,
          "mode": "binary",
          "weeks": 6
         },
         {
          "day": 27,
          "dose": 0,
          "mode": "binary",
          "weeks": 6
         },
         {
          "day": 28,
          "dose": 1,
          "mode": "binary",
          "weeks": 6
         },
         {
          "day": 29,
          "dose": 0,
          "mode": "binary",
          "weeks": 6
         },
         {
          "day": 30,
          "dose": 0,
          "mode": "binary",
          "weeks": 6
         },
         {
          "day": 31,
          "dose": 1,
          "mode": "binary",
          "weeks": 6
         },
         {
          "day": 32,
          "dose": 0,
          "mode": "binary",
          "weeks": 6
         },
         {
          "day": 33,
          "dose": 1,
          "mode": "binary",
          "weeks": 6
         },
         {
          "day": 34,
          "dose": 0,
          "mode": "binary",
          "weeks": 6
         },
         {
          "day": 35,
          "dose": 0,
          "mode": "binary",
          "weeks": 6
         },
         {
          "day": 36,
          "dose": 1,
          "mode": "binary",
          "weeks": 6
         },
         {
          "day": 37,
          "dose": 0,
          "mode": "binary",
          "weeks": 6
         },
         {
          "day": 38,
          "dose": 0,
          "mode": "binary",
          "weeks": 6
         },
         {
          "day": 39,
          "dose": 1,
          "mode": "binary",
          "weeks": 6
         },
         {
          "day": 40,
          "dose": 0,
          "mode": "binary",
          "weeks": 6
         },
         {
          "day": 41,
          "dose": 0,
          "mode": "binary",
          "weeks": 6
         },
         {
          "day": 42,
          "dose": 1,
          "mode": "binary",
          "weeks": 6
         },
         {
          "day": 1,
          "dose": 1,
          "mode": "continuous",
          "weeks": 7
         },
         {
          "day": 2,
          "dose": 0.983739837398374,
          "mode": "continuous",
          "weeks": 7
         },
         {
          "day": 3,
          "dose": 0.967479674796748,
          "mode": "continuous",
          "weeks": 7
         },
         {
          "day": 4,
          "dose": 0.9512195121951219,
          "mode": "continuous",
          "weeks": 7
         },
         {
          "day": 5,
          "dose": 0.9349593495934959,
          "mode": "continuous",
          "weeks": 7
         },
         {
          "day": 6,
          "dose": 0.9186991869918699,
          "mode": "continuous",
          "weeks": 7
         },
         {
          "day": 7,
          "dose": 0.9024390243902439,
          "mode": "continuous",
          "weeks": 7
         },
         {
          "day": 8,
          "dose": 0.8861788617886179,
          "mode": "continuous",
          "weeks": 7
         },
         {
          "day": 9,
          "dose": 0.8699186991869918,
          "mode": "continuous",
          "weeks": 7
         },
         {
          "day": 10,
          "dose": 0.8536585365853658,
          "mode": "continuous",
          "weeks": 7
         },
         {
          "day": 11,
          "dose": 0.8373983739837398,
          "mode": "continuous",
          "weeks": 7
         },
         {
          "day": 12,
          "dose": 0.8211382113821138,
          "mode": "continuous",
          "weeks": 7
         },
         {
          "day": 13,
          "dose": 0.8048780487804879,
          "mode": "continuous",
          "weeks": 7
         },
         {
          "day": 14,
          "dose": 0.7886178861788617,
          "mode": "continuous",
          "weeks": 7
         },
         {
          "day": 15,
          "dose": 0.7723577235772358,
          "mode": "continuous",
          "weeks": 7
         },
         {
          "day": 16,
          "dose": 0.7560975609756098,
          "mode": "continuous",
          "weeks": 7
         },
         {
          "day": 17,
          "dose": 0.7398373983739838,
          "mode": "continuous",
          "weeks": 7
         },
         {
          "day": 18,
          "dose": 0.7235772357723578,
          "mode": "continuous",
          "weeks": 7
         },
         {
          "day": 19,
          "dose": 0.7073170731707317,
          "mode": "continuous",
          "weeks": 7
         },
         {
          "day": 20,
          "dose": 0.6910569105691057,
          "mode": "continuous",
          "weeks": 7
         },
         {
          "day": 21,
          "dose": 0.6747967479674797,
          "mode": "continuous",
          "weeks": 7
         },
         {
          "day": 22,
          "dose": 0.6585365853658537,
          "mode": "continuous",
          "weeks": 7
         },
         {
          "day": 23,
          "dose": 0.6422764227642277,
          "mode": "continuous",
          "weeks": 7
         },
         {
          "day": 24,
          "dose": 0.6260162601626016,
          "mode": "continuous",
          "weeks": 7
         },
         {
          "day": 25,
          "dose": 0.6097560975609756,
          "mode": "continuous",
          "weeks": 7
         },
         {
          "day": 26,
          "dose": 0.5934959349593496,
          "mode": "continuous",
          "weeks": 7
         },
         {
          "day": 27,
          "dose": 0.5772357723577236,
          "mode": "continuous",
          "weeks": 7
         },
         {
          "day": 28,
          "dose": 0.5609756097560976,
          "mode": "continuous",
          "weeks": 7
         },
         {
          "day": 29,
          "dose": 0.5447154471544715,
          "mode": "continuous",
          "weeks": 7
         },
         {
          "day": 30,
          "dose": 0.5284552845528455,
          "mode": "continuous",
          "weeks": 7
         },
         {
          "day": 31,
          "dose": 0.5121951219512195,
          "mode": "continuous",
          "weeks": 7
         },
         {
          "day": 32,
          "dose": 0.4959349593495935,
          "mode": "continuous",
          "weeks": 7
         },
         {
          "day": 33,
          "dose": 0.4796747967479675,
          "mode": "continuous",
          "weeks": 7
         },
         {
          "day": 34,
          "dose": 0.4634146341463415,
          "mode": "continuous",
          "weeks": 7
         },
         {
          "day": 35,
          "dose": 0.44715447154471544,
          "mode": "continuous",
          "weeks": 7
         },
         {
          "day": 36,
          "dose": 0.43089430894308944,
          "mode": "continuous",
          "weeks": 7
         },
         {
          "day": 37,
          "dose": 0.4146341463414634,
          "mode": "continuous",
          "weeks": 7
         },
         {
          "day": 38,
          "dose": 0.3983739837398374,
          "mode": "continuous",
          "weeks": 7
         },
         {
          "day": 39,
          "dose": 0.3821138211382114,
          "mode": "continuous",
          "weeks": 7
         },
         {
          "day": 40,
          "dose": 0.36585365853658536,
          "mode": "continuous",
          "weeks": 7
         },
         {
          "day": 41,
          "dose": 0.34959349593495936,
          "mode": "continuous",
          "weeks": 7
         },
         {
          "day": 42,
          "dose": 0.3333333333333333,
          "mode": "continuous",
          "weeks": 7
         },
         {
          "day": 43,
          "dose": 0.3333333333333333,
          "mode": "continuous",
          "weeks": 7
         },
         {
          "day": 44,
          "dose": 0.3333333333333333,
          "mode": "continuous",
          "weeks": 7
         },
         {
          "day": 45,
          "dose": 0.3333333333333333,
          "mode": "continuous",
          "weeks": 7
         },
         {
          "day": 46,
          "dose": 0.3333333333333333,
          "mode": "continuous",
          "weeks": 7
         },
         {
          "day": 47,
          "dose": 0.3333333333333333,
          "mode": "continuous",
          "weeks": 7
         },
         {
          "day": 48,
          "dose": 0.3333333333333333,
          "mode": "continuous",
          "weeks": 7
         },
         {
          "day": 49,
          "dose": 0.3333333333333333,
          "mode": "continuous",
          "weeks": 7
         },
         {
          "day": 1,
          "dose": 1,
          "mode": "binary",
          "weeks": 7
         },
         {
          "day": 2,
          "dose": 1,
          "mode": "binary",
          "weeks": 7
         },
         {
          "day": 3,
          "dose": 1,
          "mode": "binary",
          "weeks": 7
         },
         {
          "day": 4,
          "dose": 1,
          "mode": "binary",
          "weeks": 7
         },
         {
          "day": 5,
          "dose": 1,
          "mode": "binary",
          "weeks": 7
         },
         {
          "day": 6,
          "dose": 1,
          "mode": "binary",
          "weeks": 7
         },
         {
          "day": 7,
          "dose": 1,
          "mode": "binary",
          "weeks": 7
         },
         {
          "day": 8,
          "dose": 1,
          "mode": "binary",
          "weeks": 7
         },
         {
          "day": 9,
          "dose": 0,
          "mode": "binary",
          "weeks": 7
         },
         {
          "day": 10,
          "dose": 1,
          "mode": "binary",
          "weeks": 7
         },
         {
          "day": 11,
          "dose": 1,
          "mode": "binary",
          "weeks": 7
         },
         {
          "day": 12,
          "dose": 1,
          "mode": "binary",
          "weeks": 7
         },
         {
          "day": 13,
          "dose": 1,
          "mode": "binary",
          "weeks": 7
         },
         {
          "day": 14,
          "dose": 1,
          "mode": "binary",
          "weeks": 7
         },
         {
          "day": 15,
          "dose": 0,
          "mode": "binary",
          "weeks": 7
         },
         {
          "day": 16,
          "dose": 1,
          "mode": "binary",
          "weeks": 7
         },
         {
          "day": 17,
          "dose": 1,
          "mode": "binary",
          "weeks": 7
         },
         {
          "day": 18,
          "dose": 1,
          "mode": "binary",
          "weeks": 7
         },
         {
          "day": 19,
          "dose": 0,
          "mode": "binary",
          "weeks": 7
         },
         {
          "day": 20,
          "dose": 1,
          "mode": "binary",
          "weeks": 7
         },
         {
          "day": 21,
          "dose": 1,
          "mode": "binary",
          "weeks": 7
         },
         {
          "day": 22,
          "dose": 0,
          "mode": "binary",
          "weeks": 7
         },
         {
          "day": 23,
          "dose": 1,
          "mode": "binary",
          "weeks": 7
         },
         {
          "day": 24,
          "dose": 1,
          "mode": "binary",
          "weeks": 7
         },
         {
          "day": 25,
          "dose": 0,
          "mode": "binary",
          "weeks": 7
         },
         {
          "day": 26,
          "dose": 1,
          "mode": "binary",
          "weeks": 7
         },
         {
          "day": 27,
          "dose": 0,
          "mode": "binary",
          "weeks": 7
         },
         {
          "day": 28,
          "dose": 1,
          "mode": "binary",
          "weeks": 7
         },
         {
          "day": 29,
          "dose": 0,
          "mode": "binary",
          "weeks": 7
         },
         {
          "day": 30,
          "dose": 1,
          "mode": "binary",
          "weeks": 7
         },
         {
          "day": 31,
          "dose": 0,
          "mode": "binary",
          "weeks": 7
         },
         {
          "day": 32,
          "dose": 1,
          "mode": "binary",
          "weeks": 7
         },
         {
          "day": 33,
          "dose": 0,
          "mode": "binary",
          "weeks": 7
         },
         {
          "day": 34,
          "dose": 1,
          "mode": "binary",
          "weeks": 7
         },
         {
          "day": 35,
          "dose": 0,
          "mode": "binary",
          "weeks": 7
         },
         {
          "day": 36,
          "dose": 1,
          "mode": "binary",
          "weeks": 7
         },
         {
          "day": 37,
          "dose": 0,
          "mode": "binary",
          "weeks": 7
         },
         {
          "day": 38,
          "dose": 1,
          "mode": "binary",
          "weeks": 7
         },
         {
          "day": 39,
          "dose": 0,
          "mode": "binary",
          "weeks": 7
         },
         {
          "day": 40,
          "dose": 0,
          "mode": "binary",
          "weeks": 7
         },
         {
          "day": 41,
          "dose": 1,
          "mode": "binary",
          "weeks": 7
         },
         {
          "day": 42,
          "dose": 0,
          "mode": "binary",
          "weeks": 7
         },
         {
          "day": 43,
          "dose": 0,
          "mode": "binary",
          "weeks": 7
         },
         {
          "day": 44,
          "dose": 1,
          "mode": "binary",
          "weeks": 7
         },
         {
          "day": 45,
          "dose": 0,
          "mode": "binary",
          "weeks": 7
         },
         {
          "day": 46,
          "dose": 0,
          "mode": "binary",
          "weeks": 7
         },
         {
          "day": 47,
          "dose": 1,
          "mode": "binary",
          "weeks": 7
         },
         {
          "day": 48,
          "dose": 0,
          "mode": "binary",
          "weeks": 7
         },
         {
          "day": 49,
          "dose": 0,
          "mode": "binary",
          "weeks": 7
         },
         {
          "day": 1,
          "dose": 1,
          "mode": "continuous",
          "weeks": 8
         },
         {
          "day": 2,
          "dose": 0.9861111111111112,
          "mode": "continuous",
          "weeks": 8
         },
         {
          "day": 3,
          "dose": 0.9722222222222222,
          "mode": "continuous",
          "weeks": 8
         },
         {
          "day": 4,
          "dose": 0.9583333333333334,
          "mode": "continuous",
          "weeks": 8
         },
         {
          "day": 5,
          "dose": 0.9444444444444444,
          "mode": "continuous",
          "weeks": 8
         },
         {
          "day": 6,
          "dose": 0.9305555555555556,
          "mode": "continuous",
          "weeks": 8
         },
         {
          "day": 7,
          "dose": 0.9166666666666666,
          "mode": "continuous",
          "weeks": 8
         },
         {
          "day": 8,
          "dose": 0.9027777777777778,
          "mode": "continuous",
          "weeks": 8
         },
         {
          "day": 9,
          "dose": 0.8888888888888888,
          "mode": "continuous",
          "weeks": 8
         },
         {
          "day": 10,
          "dose": 0.875,
          "mode": "continuous",
          "weeks": 8
         },
         {
          "day": 11,
          "dose": 0.8611111111111112,
          "mode": "continuous",
          "weeks": 8
         },
         {
          "day": 12,
          "dose": 0.8472222222222222,
          "mode": "continuous",
          "weeks": 8
         },
         {
          "day": 13,
          "dose": 0.8333333333333334,
          "mode": "continuous",
          "weeks": 8
         },
         {
          "day": 14,
          "dose": 0.8194444444444444,
          "mode": "continuous",
          "weeks": 8
         },
         {
          "day": 15,
          "dose": 0.8055555555555556,
          "mode": "continuous",
          "weeks": 8
         },
         {
          "day": 16,
          "dose": 0.7916666666666666,
          "mode": "continuous",
          "weeks": 8
         },
         {
          "day": 17,
          "dose": 0.7777777777777778,
          "mode": "continuous",
          "weeks": 8
         },
         {
          "day": 18,
          "dose": 0.7638888888888888,
          "mode": "continuous",
          "weeks": 8
         },
         {
          "day": 19,
          "dose": 0.75,
          "mode": "continuous",
          "weeks": 8
         },
         {
          "day": 20,
          "dose": 0.7361111111111112,
          "mode": "continuous",
          "weeks": 8
         },
         {
          "day": 21,
          "dose": 0.7222222222222222,
          "mode": "continuous",
          "weeks": 8
         },
         {
          "day": 22,
          "dose": 0.7083333333333334,
          "mode": "continuous",
          "weeks": 8
         },
         {
          "day": 23,
          "dose": 0.6944444444444444,
          "mode": "continuous",
          "weeks": 8
         },
         {
          "day": 24,
          "dose": 0.6805555555555556,
          "mode": "continuous",
          "weeks": 8
         },
         {
          "day": 25,
          "dose": 0.6666666666666666,
          "mode": "continuous",
          "weeks": 8
         },
         {
          "day": 26,
          "dose": 0.6527777777777778,
          "mode": "continuous",
          "weeks": 8
         },
         {
          "day": 27,
          "dose": 0.6388888888888888,
          "mode": "continuous",
          "weeks": 8
         },
         {
          "day": 28,
          "dose": 0.625,
          "mode": "continuous",
          "weeks": 8
         },
         {
          "day": 29,
          "dose": 0.6111111111111112,
          "mode": "continuous",
          "weeks": 8
         },
         {
          "day": 30,
          "dose": 0.5972222222222222,
          "mode": "continuous",
          "weeks": 8
         },
         {
          "day": 31,
          "dose": 0.5833333333333334,
          "mode": "continuous",
          "weeks": 8
         },
         {
          "day": 32,
          "dose": 0.5694444444444444,
          "mode": "continuous",
          "weeks": 8
         },
         {
          "day": 33,
          "dose": 0.5555555555555556,
          "mode": "continuous",
          "weeks": 8
         },
         {
          "day": 34,
          "dose": 0.5416666666666666,
          "mode": "continuous",
          "weeks": 8
         },
         {
          "day": 35,
          "dose": 0.5277777777777778,
          "mode": "continuous",
          "weeks": 8
         },
         {
          "day": 36,
          "dose": 0.5138888888888888,
          "mode": "continuous",
          "weeks": 8
         },
         {
          "day": 37,
          "dose": 0.5,
          "mode": "continuous",
          "weeks": 8
         },
         {
          "day": 38,
          "dose": 0.4861111111111111,
          "mode": "continuous",
          "weeks": 8
         },
         {
          "day": 39,
          "dose": 0.4722222222222222,
          "mode": "continuous",
          "weeks": 8
         },
         {
          "day": 40,
          "dose": 0.4583333333333333,
          "mode": "continuous",
          "weeks": 8
         },
         {
          "day": 41,
          "dose": 0.4444444444444444,
          "mode": "continuous",
          "weeks": 8
         },
         {
          "day": 42,
          "dose": 0.4305555555555556,
          "mode": "continuous",
          "weeks": 8
         },
         {
          "day": 43,
          "dose": 0.4166666666666667,
          "mode": "continuous",
          "weeks": 8
         },
         {
          "day": 44,
          "dose": 0.4027777777777778,
          "mode": "continuous",
          "weeks": 8
         },
         {
          "day": 45,
          "dose": 0.3888888888888889,
          "mode": "continuous",
          "weeks": 8
         },
         {
          "day": 46,
          "dose": 0.375,
          "mode": "continuous",
          "weeks": 8
         },
         {
          "day": 47,
          "dose": 0.3611111111111111,
          "mode": "continuous",
          "weeks": 8
         },
         {
          "day": 48,
          "dose": 0.3472222222222222,
          "mode": "continuous",
          "weeks": 8
         },
         {
          "day": 49,
          "dose": 0.3333333333333333,
          "mode": "continuous",
          "weeks": 8
         },
         {
          "day": 50,
          "dose": 0.3333333333333333,
          "mode": "continuous",
          "weeks": 8
         },
         {
          "day": 51,
          "dose": 0.3333333333333333,
          "mode": "continuous",
          "weeks": 8
         },
         {
          "day": 52,
          "dose": 0.3333333333333333,
          "mode": "continuous",
          "weeks": 8
         },
         {
          "day": 53,
          "dose": 0.3333333333333333,
          "mode": "continuous",
          "weeks": 8
         },
         {
          "day": 54,
          "dose": 0.3333333333333333,
          "mode": "continuous",
          "weeks": 8
         },
         {
          "day": 55,
          "dose": 0.3333333333333333,
          "mode": "continuous",
          "weeks": 8
         },
         {
          "day": 56,
          "dose": 0.3333333333333333,
          "mode": "continuous",
          "weeks": 8
         },
         {
          "day": 1,
          "dose": 1,
          "mode": "binary",
          "weeks": 8
         },
         {
          "day": 2,
          "dose": 1,
          "mode": "binary",
          "weeks": 8
         },
         {
          "day": 3,
          "dose": 1,
          "mode": "binary",
          "weeks": 8
         },
         {
          "day": 4,
          "dose": 1,
          "mode": "binary",
          "weeks": 8
         },
         {
          "day": 5,
          "dose": 1,
          "mode": "binary",
          "weeks": 8
         },
         {
          "day": 6,
          "dose": 1,
          "mode": "binary",
          "weeks": 8
         },
         {
          "day": 7,
          "dose": 1,
          "mode": "binary",
          "weeks": 8
         },
         {
          "day": 8,
          "dose": 1,
          "mode": "binary",
          "weeks": 8
         },
         {
          "day": 9,
          "dose": 0,
          "mode": "binary",
          "weeks": 8
         },
         {
          "day": 10,
          "dose": 1,
          "mode": "binary",
          "weeks": 8
         },
         {
          "day": 11,
          "dose": 1,
          "mode": "binary",
          "weeks": 8
         },
         {
          "day": 12,
          "dose": 1,
          "mode": "binary",
          "weeks": 8
         },
         {
          "day": 13,
          "dose": 1,
          "mode": "binary",
          "weeks": 8
         },
         {
          "day": 14,
          "dose": 1,
          "mode": "binary",
          "weeks": 8
         },
         {
          "day": 15,
          "dose": 1,
          "mode": "binary",
          "weeks": 8
         },
         {
          "day": 16,
          "dose": 0,
          "mode": "binary",
          "weeks": 8
         },
         {
          "day": 17,
          "dose": 1,
          "mode": "binary",
          "weeks": 8
         },
         {
          "day": 18,
          "dose": 1,
          "mode": "binary",
          "weeks": 8
         },
         {
          "day": 19,
          "dose": 1,
          "mode": "binary",
          "weeks": 8
         },
         {
          "day": 20,
          "dose": 0,
          "mode": "binary",
          "weeks": 8
         },
         {
          "day": 21,
          "dose": 1,
          "mode": "binary",
          "weeks": 8
         },
         {
          "day": 22,
          "dose": 1,
          "mode": "binary",
          "weeks": 8
         },
         {
          "day": 23,
          "dose": 0,
          "mode": "binary",
          "weeks": 8
         },
         {
          "day": 24,
          "dose": 1,
          "mode": "binary",
          "weeks": 8
         },
         {
          "day": 25,
          "dose": 1,
          "mode": "binary",
          "weeks": 8
         },
         {
          "day": 26,
          "dose": 0,
          "mode": "binary",
          "weeks": 8
         },
         {
          "day": 27,
          "dose": 1,
          "mode": "binary",
          "weeks": 8
         },
         {
          "day": 28,
          "dose": 1,
          "mode": "binary",
          "weeks": 8
         },
         {
          "day": 29,
          "dose": 0,
          "mode": "binary",
          "weeks": 8
         },
         {
          "day": 30,
          "dose": 1,
          "mode": "binary",
          "weeks": 8
         },
         {
          "day": 31,
          "dose": 1,
          "mode": "binary",
          "weeks": 8
         },
         {
          "day": 32,
          "dose": 0,
          "mode": "binary",
          "weeks": 8
         },
         {
          "day": 33,
          "dose": 1,
          "mode": "binary",
          "weeks": 8
         },
         {
          "day": 34,
          "dose": 0,
          "mode": "binary",
          "weeks": 8
         },
         {
          "day": 35,
          "dose": 1,
          "mode": "binary",
          "weeks": 8
         },
         {
          "day": 36,
          "dose": 0,
          "mode": "binary",
          "weeks": 8
         },
         {
          "day": 37,
          "dose": 1,
          "mode": "binary",
          "weeks": 8
         },
         {
          "day": 38,
          "dose": 0,
          "mode": "binary",
          "weeks": 8
         },
         {
          "day": 39,
          "dose": 1,
          "mode": "binary",
          "weeks": 8
         },
         {
          "day": 40,
          "dose": 0,
          "mode": "binary",
          "weeks": 8
         },
         {
          "day": 41,
          "dose": 1,
          "mode": "binary",
          "weeks": 8
         },
         {
          "day": 42,
          "dose": 0,
          "mode": "binary",
          "weeks": 8
         },
         {
          "day": 43,
          "dose": 0,
          "mode": "binary",
          "weeks": 8
         },
         {
          "day": 44,
          "dose": 1,
          "mode": "binary",
          "weeks": 8
         },
         {
          "day": 45,
          "dose": 0,
          "mode": "binary",
          "weeks": 8
         },
         {
          "day": 46,
          "dose": 1,
          "mode": "binary",
          "weeks": 8
         },
         {
          "day": 47,
          "dose": 0,
          "mode": "binary",
          "weeks": 8
         },
         {
          "day": 48,
          "dose": 0,
          "mode": "binary",
          "weeks": 8
         },
         {
          "day": 49,
          "dose": 1,
          "mode": "binary",
          "weeks": 8
         },
         {
          "day": 50,
          "dose": 0,
          "mode": "binary",
          "weeks": 8
         },
         {
          "day": 51,
          "dose": 0,
          "mode": "binary",
          "weeks": 8
         },
         {
          "day": 52,
          "dose": 1,
          "mode": "binary",
          "weeks": 8
         },
         {
          "day": 53,
          "dose": 0,
          "mode": "binary",
          "weeks": 8
         },
         {
          "day": 54,
          "dose": 0,
          "mode": "binary",
          "weeks": 8
         },
         {
          "day": 55,
          "dose": 1,
          "mode": "binary",
          "weeks": 8
         },
         {
          "day": 56,
          "dose": 0,
          "mode": "binary",
          "weeks": 8
         }
        ]
       },
       "encoding": {
        "color": {
         "field": "mode",
         "type": "nominal"
        },
        "row": {
         "field": "weeks",
         "type": "nominal"
        },
        "x": {
         "field": "day",
         "type": "ordinal"
        },
        "y": {
         "field": "dose",
         "stack": null,
         "type": "quantitative"
        }
       },
       "height": 40,
       "mark": {
        "opacity": 0.7,
        "type": "bar"
       },
       "width": 500
      },
      "image/png": "[encoded data removed]",
      "image/svg+xml": [
       "<svg class=\"marks\" width=\"679\" height=\"400\" viewBox=\"0 0 679 400\" version=\"1.1\" xmlns=\"http://www.w3.org/2000/svg\" xmlns:xlink=\"http://www.w3.org/1999/xlink\"><g transform=\"translate(85,10)\"><g class=\"mark-group role-frame root\"><g transform=\"translate(0,0)\"><path class=\"background\" d=\"M0,0h0v0h0Z\" style=\"fill: none;\"></path><g><g class=\"mark-group role-row-title row-title\"><g transform=\"translate(-59,175)\"><path class=\"background\" d=\"M0,0h0v0h0Z\" style=\"fill: none;\"></path><g><g class=\"mark-text role-title\" style=\"pointer-events: none;\"><text text-anchor=\"middle\" transform=\"translate(-10,0) rotate(-90) translate(0,-2)\" style=\"font-family: sans-serif; font-size: 11px; font-weight: bold; fill: #000; opacity: 1;\">weeks</text></g></g></g></g><g class=\"mark-group role-row-header row_header\"><g transform=\"translate(-1,0)\"><path class=\"background\" d=\"M0,0h0v40h0Z\" style=\"fill: none;\"></path><g><g class=\"mark-text role-title\" style=\"pointer-events: none;\"><text text-anchor=\"middle\" transform=\"translate(-38,20) rotate(-90) translate(0,-2)\" style=\"font-family: sans-serif; font-size: 10px; fill: #000; opacity: 1;\">3</text></g><g class=\"mark-group role-axis\"><g transform=\"translate(0.5,0.5)\"><path class=\"background\" d=\"M0,0h0v0h0Z\" style=\"pointer-events: none; fill: none;\"></path><g><g class=\"mark-rule role-axis-tick\" style=\"pointer-events: none;\"><line transform=\"translate(0,40)\" x2=\"-5\" y2=\"0\" style=\"fill: none; stroke: #888; stroke-width: 1; opacity: 1;\"></line><line transform=\"translate(0,0)\" x2=\"-5\" y2=\"0\" style=\"fill: none; stroke: #888; stroke-width: 1; opacity: 1;\"></line></g><g class=\"mark-text role-axis-label\" style=\"pointer-events: none;\"><text text-anchor=\"end\" transform=\"translate(-7,43)\" style=\"font-family: sans-serif; font-size: 10px; fill: #000; opacity: 1;\">0</text><text text-anchor=\"end\" transform=\"translate(-7,3)\" style=\"font-family: sans-serif; font-size: 10px; fill: #000; opacity: 1;\">1</text></g><g class=\"mark-rule role-axis-domain\" style=\"pointer-events: none;\"><line transform=\"translate(0,40)\" x2=\"0\" y2=\"-40\" style=\"fill: none; stroke: #888; stroke-width: 1; opacity: 1;\"></line></g><g class=\"mark-text role-axis-title\" style=\"pointer-events: none;\"><text text-anchor=\"middle\" transform=\"translate(-17,20) rotate(-90) translate(0,-2)\" style=\"font-family: sans-serif; font-size: 11px; font-weight: bold; fill: #000; opacity: 1;\">dose</text></g></g></g></g></g></g><g transform=\"translate(-1,62)\"><path class=\"background\" d=\"M0,0h0v40h0Z\" style=\"fill: none;\"></path><g><g class=\"mark-text role-title\" style=\"pointer-events: none;\"><text text-anchor=\"middle\" transform=\"translate(-38,20) rotate(-90) translate(0,-2)\" style=\"font-family: sans-serif; font-size: 10px; fill: #000; opacity: 1;\">4</text></g><g class=\"mark-group role-axis\"><g transform=\"translate(0.5,0.5)\"><path class=\"background\" d=\"M0,0h0v0h0Z\" style=\"pointer-events: none; fill: none;\"></path><g><g class=\"mark-rule role-axis-tick\" style=\"pointer-events: none;\"><line transform=\"translate(0,40)\" x2=\"-5\" y2=\"0\" style=\"fill: none; stroke: #888; stroke-width: 1; opacity: 1;\"></line><line transform=\"translate(0,0)\" x2=\"-5\" y2=\"0\" style=\"fill: none; stroke: #888; stroke-width: 1; opacity: 1;\"></line></g><g class=\"mark-text role-axis-label\" style=\"pointer-events: none;\"><text text-anchor=\"end\" transform=\"translate(-7,43)\" style=\"font-family: sans-serif; font-size: 10px; fill: #000; opacity: 1;\">0</text><text text-anchor=\"end\" transform=\"translate(-7,3)\" style=\"font-family: sans-serif; font-size: 10px; fill: #000; opacity: 1;\">1</text></g><g class=\"mark-rule role-axis-domain\" style=\"pointer-events: none;\"><line transform=\"translate(0,40)\" x2=\"0\" y2=\"-40\" style=\"fill: none; stroke: #888; stroke-width: 1; opacity: 1;\"></line></g><g class=\"mark-text role-axis-title\" style=\"pointer-events: none;\"><text text-anchor=\"middle\" transform=\"translate(-17,20) rotate(-90) translate(0,-2)\" style=\"font-family: sans-serif; font-size: 11px; font-weight: bold; fill: #000; opacity: 1;\">dose</text></g></g></g></g></g></g><g transform=\"translate(-1,124)\"><path class=\"background\" d=\"M0,0h0v40h0Z\" style=\"fill: none;\"></path><g><g class=\"mark-text role-title\" style=\"pointer-events: none;\"><text text-anchor=\"middle\" transform=\"translate(-38,20) rotate(-90) translate(0,-2)\" style=\"font-family: sans-serif; font-size: 10px; fill: #000; opacity: 1;\">5</text></g><g class=\"mark-group role-axis\"><g transform=\"translate(0.5,0.5)\"><path class=\"background\" d=\"M0,0h0v0h0Z\" style=\"pointer-events: none; fill: none;\"></path><g><g class=\"mark-rule role-axis-tick\" style=\"pointer-events: none;\"><line transform=\"translate(0,40)\" x2=\"-5\" y2=\"0\" style=\"fill: none; stroke: #888; stroke-width: 1; opacity: 1;\"></line><line transform=\"translate(0,0)\" x2=\"-5\" y2=\"0\" style=\"fill: none; stroke: #888; stroke-width: 1; opacity: 1;\"></line></g><g class=\"mark-text role-axis-label\" style=\"pointer-events: none;\"><text text-anchor=\"end\" transform=\"translate(-7,43)\" style=\"font-family: sans-serif; font-size: 10px; fill: #000; opacity: 1;\">0</text><text text-anchor=\"end\" transform=\"translate(-7,3)\" style=\"font-family: sans-serif; font-size: 10px; fill: #000; opacity: 1;\">1</text></g><g class=\"mark-rule role-axis-domain\" style=\"pointer-events: none;\"><line transform=\"translate(0,40)\" x2=\"0\" y2=\"-40\" style=\"fill: none; stroke: #888; stroke-width: 1; opacity: 1;\"></line></g><g class=\"mark-text role-axis-title\" style=\"pointer-events: none;\"><text text-anchor=\"middle\" transform=\"translate(-17,20) rotate(-90) translate(0,-2)\" style=\"font-family: sans-serif; font-size: 11px; font-weight: bold; fill: #000; opacity: 1;\">dose</text></g></g></g></g></g></g><g transform=\"translate(-1,186)\"><path class=\"background\" d=\"M0,0h0v40h0Z\" style=\"fill: none;\"></path><g><g class=\"mark-text role-title\" style=\"pointer-events: none;\"><text text-anchor=\"middle\" transform=\"translate(-38,20) rotate(-90) translate(0,-2)\" style=\"font-family: sans-serif; font-size: 10px; fill: #000; opacity: 1;\">6</text></g><g class=\"mark-group role-axis\"><g transform=\"translate(0.5,0.5)\"><path class=\"background\" d=\"M0,0h0v0h0Z\" style=\"pointer-events: none; fill: none;\"></path><g><g class=\"mark-rule role-axis-tick\" style=\"pointer-events: none;\"><line transform=\"translate(0,40)\" x2=\"-5\" y2=\"0\" style=\"fill: none; stroke: #888; stroke-width: 1; opacity: 1;\"></line><line transform=\"translate(0,0)\" x2=\"-5\" y2=\"0\" style=\"fill: none; stroke: #888; stroke-width: 1; opacity: 1;\"></line></g><g class=\"mark-text role-axis-label\" style=\"pointer-events: none;\"><text text-anchor=\"end\" transform=\"translate(-7,43)\" style=\"font-family: sans-serif; font-size: 10px; fill: #000; opacity: 1;\">0</text><text text-anchor=\"end\" transform=\"translate(-7,3)\" style=\"font-family: sans-serif; font-size: 10px; fill: #000; opacity: 1;\">1</text></g><g class=\"mark-rule role-axis-domain\" style=\"pointer-events: none;\"><line transform=\"translate(0,40)\" x2=\"0\" y2=\"-40\" style=\"fill: none; stroke: #888; stroke-width: 1; opacity: 1;\"></line></g><g class=\"mark-text role-axis-title\" style=\"pointer-events: none;\"><text text-anchor=\"middle\" transform=\"translate(-17,20) rotate(-90) translate(0,-2)\" style=\"font-family: sans-serif; font-size: 11px; font-weight: bold; fill: #000; opacity: 1;\">dose</text></g></g></g></g></g></g><g transform=\"translate(-1,248)\"><path class=\"background\" d=\"M0,0h0v40h0Z\" style=\"fill: none;\"></path><g><g class=\"mark-text role-title\" style=\"pointer-events: none;\"><text text-anchor=\"middle\" transform=\"translate(-38,20) rotate(-90) translate(0,-2)\" style=\"font-family: sans-serif; font-size: 10px; fill: #000; opacity: 1;\">7</text></g><g class=\"mark-group role-axis\"><g transform=\"translate(0.5,0.5)\"><path class=\"background\" d=\"M0,0h0v0h0Z\" style=\"pointer-events: none; fill: none;\"></path><g><g class=\"mark-rule role-axis-tick\" style=\"pointer-events: none;\"><line transform=\"translate(0,40)\" x2=\"-5\" y2=\"0\" style=\"fill: none; stroke: #888; stroke-width: 1; opacity: 1;\"></line><line transform=\"translate(0,0)\" x2=\"-5\" y2=\"0\" style=\"fill: none; stroke: #888; stroke-width: 1; opacity: 1;\"></line></g><g class=\"mark-text role-axis-label\" style=\"pointer-events: none;\"><text text-anchor=\"end\" transform=\"translate(-7,43)\" style=\"font-family: sans-serif; font-size: 10px; fill: #000; opacity: 1;\">0</text><text text-anchor=\"end\" transform=\"translate(-7,3)\" style=\"font-family: sans-serif; font-size: 10px; fill: #000; opacity: 1;\">1</text></g><g class=\"mark-rule role-axis-domain\" style=\"pointer-events: none;\"><line transform=\"translate(0,40)\" x2=\"0\" y2=\"-40\" style=\"fill: none; stroke: #888; stroke-width: 1; opacity: 1;\"></line></g><g class=\"mark-text role-axis-title\" style=\"pointer-events: none;\"><text text-anchor=\"middle\" transform=\"translate(-17,20) rotate(-90) translate(0,-2)\" style=\"font-family: sans-serif; font-size: 11px; font-weight: bold; fill: #000; opacity: 1;\">dose</text></g></g></g></g></g></g><g transform=\"translate(-1,310)\"><path class=\"background\" d=\"M0,0h0v40h0Z\" style=\"fill: none;\"></path><g><g class=\"mark-text role-title\" style=\"pointer-events: none;\"><text text-anchor=\"middle\" transform=\"translate(-38,20) rotate(-90) translate(0,-2)\" style=\"font-family: sans-serif; font-size: 10px; fill: #000; opacity: 1;\">8</text></g><g class=\"mark-group role-axis\"><g transform=\"translate(0.5,0.5)\"><path class=\"background\" d=\"M0,0h0v0h0Z\" style=\"pointer-events: none; fill: none;\"></path><g><g class=\"mark-rule role-axis-tick\" style=\"pointer-events: none;\"><line transform=\"translate(0,40)\" x2=\"-5\" y2=\"0\" style=\"fill: none; stroke: #888; stroke-width: 1; opacity: 1;\"></line><line transform=\"translate(0,0)\" x2=\"-5\" y2=\"0\" style=\"fill: none; stroke: #888; stroke-width: 1; opacity: 1;\"></line></g><g class=\"mark-text role-axis-label\" style=\"pointer-events: none;\"><text text-anchor=\"end\" transform=\"translate(-7,43)\" style=\"font-family: sans-serif; font-size: 10px; fill: #000; opacity: 1;\">0</text><text text-anchor=\"end\" transform=\"translate(-7,3)\" style=\"font-family: sans-serif; font-size: 10px; fill: #000; opacity: 1;\">1</text></g><g class=\"mark-rule role-axis-domain\" style=\"pointer-events: none;\"><line transform=\"translate(0,40)\" x2=\"0\" y2=\"-40\" style=\"fill: none; stroke: #888; stroke-width: 1; opacity: 1;\"></line></g><g class=\"mark-text role-axis-title\" style=\"pointer-events: none;\"><text text-anchor=\"middle\" transform=\"translate(-17,20) rotate(-90) translate(0,-2)\" style=\"font-family: sans-serif; font-size: 11px; font-weight: bold; fill: #000; opacity: 1;\">dose</text></g></g></g></g></g></g></g><g class=\"mark-group role-column-footer column_footer\"><g transform=\"translate(0,351)\"><path class=\"background\" d=\"M0,0h500v0h-500Z\" style=\"fill: none;\"></path><g><g class=\"mark-group role-axis\"><g transform=\"translate(0.5,0.5)\"><path class=\"background\" d=\"M0,0h0v0h0Z\" style=\"pointer-events: none; fill: none;\"></path><g><g class=\"mark-rule role-axis-tick\" style=\"pointer-events: none;\"><line transform=\"translate(3,0)\" x2=\"0\" y2=\"5\" style=\"fill: none; stroke: #888; stroke-width: 1; opacity: 1;\"></line><line transform=\"translate(12,0)\" x2=\"0\" y2=\"5\" style=\"fill: none; stroke: #888; stroke-width: 1; opacity: 1;\"></line><line transform=\"translate(21,0)\" x2=\"0\" y2=\"5\" style=\"fill: none; stroke: #888; stroke-width: 1; opacity: 1;\"></line><line transform=\"translate(30,0)\" x2=\"0\" y2=\"5\" style=\"fill: none; stroke: #888; stroke-width: 1; opacity: 1;\"></line><line transform=\"translate(39,0)\" x2=\"0\" y2=\"5\" style=\"fill: none; stroke: #888; stroke-width: 1; opacity: 1;\"></line><line transform=\"translate(48,0)\" x2=\"0\" y2=\"5\" style=\"fill: none; stroke: #888; stroke-width: 1; opacity: 1;\"></line><line transform=\"translate(57,0)\" x2=\"0\" y2=\"5\" style=\"fill: none; stroke: #888; stroke-width: 1; opacity: 1;\"></line><line transform=\"translate(66,0)\" x2=\"0\" y2=\"5\" style=\"fill: none; stroke: #888; stroke-width: 1; opacity: 1;\"></line><line transform=\"translate(75,0)\" x2=\"0\" y2=\"5\" style=\"fill: none; stroke: #888; stroke-width: 1; opacity: 1;\"></line><line transform=\"translate(84,0)\" x2=\"0\" y2=\"5\" style=\"fill: none; stroke: #888; stroke-width: 1; opacity: 1;\"></line><line transform=\"translate(93,0)\" x2=\"0\" y2=\"5\" style=\"fill: none; stroke: #888; stroke-width: 1; opacity: 1;\"></line><line transform=\"translate(102,0)\" x2=\"0\" y2=\"5\" style=\"fill: none; stroke: #888; stroke-width: 1; opacity: 1;\"></line><line transform=\"translate(111,0)\" x2=\"0\" y2=\"5\" style=\"fill: none; stroke: #888; stroke-width: 1; opacity: 1;\"></line><line transform=\"translate(120,0)\" x2=\"0\" y2=\"5\" style=\"fill: none; stroke: #888; stroke-width: 1; opacity: 1;\"></line><line transform=\"translate(128,0)\" x2=\"0\" y2=\"5\" style=\"fill: none; stroke: #888; stroke-width: 1; opacity: 1;\"></line><line transform=\"translate(137,0)\" x2=\"0\" y2=\"5\" style=\"fill: none; stroke: #888; stroke-width: 1; opacity: 1;\"></line><line transform=\"translate(146,0)\" x2=\"0\" y2=\"5\" style=\"fill: none; stroke: #888; stroke-width: 1; opacity: 1;\"></line><line transform=\"translate(155,0)\" x2=\"0\" y2=\"5\" style=\"fill: none; stroke: #888; stroke-width: 1; opacity: 1;\"></line><line transform=\"translate(164,0)\" x2=\"0\" y2=\"5\" style=\"fill: none; stroke: #888; stroke-width: 1; opacity: 1;\"></line><line transform=\"translate(173,0)\" x2=\"0\" y2=\"5\" style=\"fill: none; stroke: #888; stroke-width: 1; opacity: 1;\"></line><line transform=\"translate(182,0)\" x2=\"0\" y2=\"5\" style=\"fill: none; stroke: #888; stroke-width: 1; opacity: 1;\"></line><line transform=\"translate(191,0)\" x2=\"0\" y2=\"5\" style=\"fill: none; stroke: #888; stroke-width: 1; opacity: 1;\"></line><line transform=\"translate(200,0)\" x2=\"0\" y2=\"5\" style=\"fill: none; stroke: #888; stroke-width: 1; opacity: 1;\"></line><line transform=\"translate(209,0)\" x2=\"0\" y2=\"5\" style=\"fill: none; stroke: #888; stroke-width: 1; opacity: 1;\"></line><line transform=\"translate(218,0)\" x2=\"0\" y2=\"5\" style=\"fill: none; stroke: #888; stroke-width: 1; opacity: 1;\"></line><line transform=\"translate(227,0)\" x2=\"0\" y2=\"5\" style=\"fill: none; stroke: #888; stroke-width: 1; opacity: 1;\"></line><line transform=\"translate(236,0)\" x2=\"0\" y2=\"5\" style=\"fill: none; stroke: #888; stroke-width: 1; opacity: 1;\"></line><line transform=\"translate(245,0)\" x2=\"0\" y2=\"5\" style=\"fill: none; stroke: #888; stroke-width: 1; opacity: 1;\"></line><line transform=\"translate(253,0)\" x2=\"0\" y2=\"5\" style=\"fill: none; stroke: #888; stroke-width: 1; opacity: 1;\"></line><line transform=\"translate(262,0)\" x2=\"0\" y2=\"5\" style=\"fill: none; stroke: #888; stroke-width: 1; opacity: 1;\"></line><line transform=\"translate(271,0)\" x2=\"0\" y2=\"5\" style=\"fill: none; stroke: #888; stroke-width: 1; opacity: 1;\"></line><line transform=\"translate(280,0)\" x2=\"0\" y2=\"5\" style=\"fill: none; stroke: #888; stroke-width: 1; opacity: 1;\"></line><line transform=\"translate(289,0)\" x2=\"0\" y2=\"5\" style=\"fill: none; stroke: #888; stroke-width: 1; opacity: 1;\"></line><line transform=\"translate(298,0)\" x2=\"0\" y2=\"5\" style=\"fill: none; stroke: #888; stroke-width: 1; opacity: 1;\"></line><line transform=\"translate(307,0)\" x2=\"0\" y2=\"5\" style=\"fill: none; stroke: #888; stroke-width: 1; opacity: 1;\"></line><line transform=\"translate(316,0)\" x2=\"0\" y2=\"5\" style=\"fill: none; stroke: #888; stroke-width: 1; opacity: 1;\"></line><line transform=\"translate(325,0)\" x2=\"0\" y2=\"5\" style=\"fill: none; stroke: #888; stroke-width: 1; opacity: 1;\"></line><line transform=\"translate(334,0)\" x2=\"0\" y2=\"5\" style=\"fill: none; stroke: #888; stroke-width: 1; opacity: 1;\"></line><line transform=\"translate(343,0)\" x2=\"0\" y2=\"5\" style=\"fill: none; stroke: #888; stroke-width: 1; opacity: 1;\"></line><line transform=\"translate(352,0)\" x2=\"0\" y2=\"5\" style=\"fill: none; stroke: #888; stroke-width: 1; opacity: 1;\"></line><line transform=\"translate(361,0)\" x2=\"0\" y2=\"5\" style=\"fill: none; stroke: #888; stroke-width: 1; opacity: 1;\"></line><line transform=\"translate(370,0)\" x2=\"0\" y2=\"5\" style=\"fill: none; stroke: #888; stroke-width: 1; opacity: 1;\"></line><line transform=\"translate(378,0)\" x2=\"0\" y2=\"5\" style=\"fill: none; stroke: #888; stroke-width: 1; opacity: 1;\"></line><line transform=\"translate(387,0)\" x2=\"0\" y2=\"5\" style=\"fill: none; stroke: #888; stroke-width: 1; opacity: 1;\"></line><line transform=\"translate(396,0)\" x2=\"0\" y2=\"5\" style=\"fill: none; stroke: #888; stroke-width: 1; opacity: 1;\"></line><line transform=\"translate(405,0)\" x2=\"0\" y2=\"5\" style=\"fill: none; stroke: #888; stroke-width: 1; opacity: 1;\"></line><line transform=\"translate(414,0)\" x2=\"0\" y2=\"5\" style=\"fill: none; stroke: #888; stroke-width: 1; opacity: 1;\"></line><line transform=\"translate(423,0)\" x2=\"0\" y2=\"5\" style=\"fill: none; stroke: #888; stroke-width: 1; opacity: 1;\"></line><line transform=\"translate(432,0)\" x2=\"0\" y2=\"5\" style=\"fill: none; stroke: #888; stroke-width: 1; opacity: 1;\"></line><line transform=\"translate(441,0)\" x2=\"0\" y2=\"5\" style=\"fill: none; stroke: #888; stroke-width: 1; opacity: 1;\"></line><line transform=\"translate(450,0)\" x2=\"0\" y2=\"5\" style=\"fill: none; stroke: #888; stroke-width: 1; opacity: 1;\"></line><line transform=\"translate(459,0)\" x2=\"0\" y2=\"5\" style=\"fill: none; stroke: #888; stroke-width: 1; opacity: 1;\"></line><line transform=\"translate(468,0)\" x2=\"0\" y2=\"5\" style=\"fill: none; stroke: #888; stroke-width: 1; opacity: 1;\"></line><line transform=\"translate(477,0)\" x2=\"0\" y2=\"5\" style=\"fill: none; stroke: #888; stroke-width: 1; opacity: 1;\"></line><line transform=\"translate(486,0)\" x2=\"0\" y2=\"5\" style=\"fill: none; stroke: #888; stroke-width: 1; opacity: 1;\"></line><line transform=\"translate(495,0)\" x2=\"0\" y2=\"5\" style=\"fill: none; stroke: #888; stroke-width: 1; opacity: 1;\"></line></g><g class=\"mark-text role-axis-label\" style=\"pointer-events: none;\"><text text-anchor=\"end\" transform=\"translate(3.464285714285727,7) rotate(270) translate(0,3)\" style=\"font-family: sans-serif; font-size: 10px; fill: #000; opacity: 1;\">1</text><text text-anchor=\"end\" transform=\"translate(12.392857142857157,7) rotate(270) translate(0,3)\" style=\"font-family: sans-serif; font-size: 10px; fill: #000; opacity: 0;\">2</text><text text-anchor=\"end\" transform=\"translate(21.321428571428584,7) rotate(270) translate(0,3)\" style=\"font-family: sans-serif; font-size: 10px; fill: #000; opacity: 1;\">3</text><text text-anchor=\"end\" transform=\"translate(30.25000000000001,7) rotate(270) translate(0,3)\" style=\"font-family: sans-serif; font-size: 10px; fill: #000; opacity: 0;\">4</text><text text-anchor=\"end\" transform=\"translate(39.178571428571445,7) rotate(270) translate(0,3)\" style=\"font-family: sans-serif; font-size: 10px; fill: #000; opacity: 1;\">5</text><text text-anchor=\"end\" transform=\"translate(48.107142857142875,7) rotate(270) translate(0,3)\" style=\"font-family: sans-serif; font-size: 10px; fill: #000; opacity: 0;\">6</text><text text-anchor=\"end\" transform=\"translate(57.0357142857143,7) rotate(270) translate(0,3)\" style=\"font-family: sans-serif; font-size: 10px; fill: #000; opacity: 1;\">7</text><text text-anchor=\"end\" transform=\"translate(65.96428571428572,7) rotate(270) translate(0,3)\" style=\"font-family: sans-serif; font-size: 10px; fill: #000; opacity: 0;\">8</text><text text-anchor=\"end\" transform=\"translate(74.89285714285715,7) rotate(270) translate(0,3)\" style=\"font-family: sans-serif; font-size: 10px; fill: #000; opacity: 1;\">9</text><text text-anchor=\"end\" transform=\"translate(83.82142857142858,7) rotate(270) translate(0,3)\" style=\"font-family: sans-serif; font-size: 10px; fill: #000; opacity: 0;\">10</text><text text-anchor=\"end\" transform=\"translate(92.75000000000001,7) rotate(270) translate(0,3)\" style=\"font-family: sans-serif; font-size: 10px; fill: #000; opacity: 1;\">11</text><text text-anchor=\"end\" transform=\"translate(101.67857142857144,7) rotate(270) translate(0,3)\" style=\"font-family: sans-serif; font-size: 10px; fill: #000; opacity: 0;\">12</text><text text-anchor=\"end\" transform=\"translate(110.60714285714286,7) rotate(270) translate(0,3)\" style=\"font-family: sans-serif; font-size: 10px; fill: #000; opacity: 1;\">13</text><text text-anchor=\"end\" transform=\"translate(119.53571428571429,7) rotate(270) translate(0,3)\" style=\"font-family: sans-serif; font-size: 10px; fill: #000; opacity: 0;\">14</text><text text-anchor=\"end\" transform=\"translate(128.46428571428572,7) rotate(270) translate(0,3)\" style=\"font-family: sans-serif; font-size: 10px; fill: #000; opacity: 1;\">15</text><text text-anchor=\"end\" transform=\"translate(137.39285714285717,7) rotate(270) translate(0,3)\" style=\"font-family: sans-serif; font-size: 10px; fill: #000; opacity: 0;\">16</text><text text-anchor=\"end\" transform=\"translate(146.32142857142858,7) rotate(270) translate(0,3)\" style=\"font-family: sans-serif; font-size: 10px; fill: #000; opacity: 1;\">17</text><text text-anchor=\"end\" transform=\"translate(155.25,7) rotate(270) translate(0,3)\" style=\"font-family: sans-serif; font-size: 10px; fill: #000; opacity: 0;\">18</text><text text-anchor=\"end\" transform=\"translate(164.17857142857144,7) rotate(270) translate(0,3)\" style=\"font-family: sans-serif; font-size: 10px; fill: #000; opacity: 1;\">19</text><text text-anchor=\"end\" transform=\"translate(173.10714285714286,7) rotate(270) translate(0,3)\" style=\"font-family: sans-serif; font-size: 10px; fill: #000; opacity: 0;\">20</text><text text-anchor=\"end\" transform=\"translate(182.0357142857143,7) rotate(270) translate(0,3)\" style=\"font-family: sans-serif; font-size: 10px; fill: #000; opacity: 1;\">21</text><text text-anchor=\"end\" transform=\"translate(190.96428571428572,7) rotate(270) translate(0,3)\" style=\"font-family: sans-serif; font-size: 10px; fill: #000; opacity: 0;\">22</text><text text-anchor=\"end\" transform=\"translate(199.89285714285717,7) rotate(270) translate(0,3)\" style=\"font-family: sans-serif; font-size: 10px; fill: #000; opacity: 1;\">23</text><text text-anchor=\"end\" transform=\"translate(208.82142857142858,7) rotate(270) translate(0,3)\" style=\"font-family: sans-serif; font-size: 10px; fill: #000; opacity: 0;\">24</text><text text-anchor=\"end\" transform=\"translate(217.75,7) rotate(270) translate(0,3)\" style=\"font-family: sans-serif; font-size: 10px; fill: #000; opacity: 1;\">25</text><text text-anchor=\"end\" transform=\"translate(226.67857142857144,7) rotate(270) translate(0,3)\" style=\"font-family: sans-serif; font-size: 10px; fill: #000; opacity: 0;\">26</text><text text-anchor=\"end\" transform=\"translate(235.60714285714286,7) rotate(270) translate(0,3)\" style=\"font-family: sans-serif; font-size: 10px; fill: #000; opacity: 1;\">27</text><text text-anchor=\"end\" transform=\"translate(244.5357142857143,7) rotate(270) translate(0,3)\" style=\"font-family: sans-serif; font-size: 10px; fill: #000; opacity: 0;\">28</text><text text-anchor=\"end\" transform=\"translate(253.46428571428572,7) rotate(270) translate(0,3)\" style=\"font-family: sans-serif; font-size: 10px; fill: #000; opacity: 1;\">29</text><text text-anchor=\"end\" transform=\"translate(262.39285714285717,7) rotate(270) translate(0,3)\" style=\"font-family: sans-serif; font-size: 10px; fill: #000; opacity: 0;\">30</text><text text-anchor=\"end\" transform=\"translate(271.3214285714286,7) rotate(270) translate(0,3)\" style=\"font-family: sans-serif; font-size: 10px; fill: #000; opacity: 1;\">31</text><text text-anchor=\"end\" transform=\"translate(280.25000000000006,7) rotate(270) translate(0,3)\" style=\"font-family: sans-serif; font-size: 10px; fill: #000; opacity: 0;\">32</text><text text-anchor=\"end\" transform=\"translate(289.1785714285715,7) rotate(270) translate(0,3)\" style=\"font-family: sans-serif; font-size: 10px; fill: #000; opacity: 1;\">33</text><text text-anchor=\"end\" transform=\"translate(298.10714285714295,7) rotate(270) translate(0,3)\" style=\"font-family: sans-serif; font-size: 10px; fill: #000; opacity: 0;\">34</text><text text-anchor=\"end\" transform=\"translate(307.0357142857143,7) rotate(270) translate(0,3)\" style=\"font-family: sans-serif; font-size: 10px; fill: #000; opacity: 1;\">35</text><text text-anchor=\"end\" transform=\"translate(315.9642857142857,7) rotate(270) translate(0,3)\" style=\"font-family: sans-serif; font-size: 10px; fill: #000; opacity: 0;\">36</text><text text-anchor=\"end\" transform=\"translate(324.89285714285717,7) rotate(270) translate(0,3)\" style=\"font-family: sans-serif; font-size: 10px; fill: #000; opacity: 1;\">37</text><text text-anchor=\"end\" transform=\"translate(333.8214285714286,7) rotate(270) translate(0,3)\" style=\"font-family: sans-serif; font-size: 10px; fill: #000; opacity: 0;\">38</text><text text-anchor=\"end\" transform=\"translate(342.75000000000006,7) rotate(270) translate(0,3)\" style=\"font-family: sans-serif; font-size: 10px; fill: #000; opacity: 1;\">39</text><text text-anchor=\"end\" transform=\"translate(351.6785714285715,7) rotate(270) translate(0,3)\" style=\"font-family: sans-serif; font-size: 10px; fill: #000; opacity: 0;\">40</text><text text-anchor=\"end\" transform=\"translate(360.60714285714295,7) rotate(270) translate(0,3)\" style=\"font-family: sans-serif; font-size: 10px; fill: #000; opacity: 1;\">41</text><text text-anchor=\"end\" transform=\"translate(369.5357142857143,7) rotate(270) translate(0,3)\" style=\"font-family: sans-serif; font-size: 10px; fill: #000; opacity: 0;\">42</text><text text-anchor=\"end\" transform=\"translate(378.4642857142857,7) rotate(270) translate(0,3)\" style=\"font-family: sans-serif; font-size: 10px; fill: #000; opacity: 1;\">43</text><text text-anchor=\"end\" transform=\"translate(387.39285714285717,7) rotate(270) translate(0,3)\" style=\"font-family: sans-serif; font-size: 10px; fill: #000; opacity: 0;\">44</text><text text-anchor=\"end\" transform=\"translate(396.3214285714286,7) rotate(270) translate(0,3)\" style=\"font-family: sans-serif; font-size: 10px; fill: #000; opacity: 1;\">45</text><text text-anchor=\"end\" transform=\"translate(405.25000000000006,7) rotate(270) translate(0,3)\" style=\"font-family: sans-serif; font-size: 10px; fill: #000; opacity: 0;\">46</text><text text-anchor=\"end\" transform=\"translate(414.1785714285715,7) rotate(270) translate(0,3)\" style=\"font-family: sans-serif; font-size: 10px; fill: #000; opacity: 1;\">47</text><text text-anchor=\"end\" transform=\"translate(423.10714285714295,7) rotate(270) translate(0,3)\" style=\"font-family: sans-serif; font-size: 10px; fill: #000; opacity: 0;\">48</text><text text-anchor=\"end\" transform=\"translate(432.0357142857143,7) rotate(270) translate(0,3)\" style=\"font-family: sans-serif; font-size: 10px; fill: #000; opacity: 1;\">49</text><text text-anchor=\"end\" transform=\"translate(440.9642857142857,7) rotate(270) translate(0,3)\" style=\"font-family: sans-serif; font-size: 10px; fill: #000; opacity: 0;\">50</text><text text-anchor=\"end\" transform=\"translate(449.89285714285717,7) rotate(270) translate(0,3)\" style=\"font-family: sans-serif; font-size: 10px; fill: #000; opacity: 1;\">51</text><text text-anchor=\"end\" transform=\"translate(458.8214285714286,7) rotate(270) translate(0,3)\" style=\"font-family: sans-serif; font-size: 10px; fill: #000; opacity: 0;\">52</text><text text-anchor=\"end\" transform=\"translate(467.75000000000006,7) rotate(270) translate(0,3)\" style=\"font-family: sans-serif; font-size: 10px; fill: #000; opacity: 1;\">53</text><text text-anchor=\"end\" transform=\"translate(476.6785714285715,7) rotate(270) translate(0,3)\" style=\"font-family: sans-serif; font-size: 10px; fill: #000; opacity: 0;\">54</text><text text-anchor=\"end\" transform=\"translate(485.60714285714295,7) rotate(270) translate(0,3)\" style=\"font-family: sans-serif; font-size: 10px; fill: #000; opacity: 1;\">55</text><text text-anchor=\"end\" transform=\"translate(494.5357142857144,7) rotate(270) translate(0,3)\" style=\"font-family: sans-serif; font-size: 10px; fill: #000; opacity: 0;\">56</text></g><g class=\"mark-rule role-axis-domain\" style=\"pointer-events: none;\"><line transform=\"translate(0,0)\" x2=\"500\" y2=\"0\" style=\"fill: none; stroke: #888; stroke-width: 1; opacity: 1;\"></line></g><g class=\"mark-text role-axis-title\" style=\"pointer-events: none;\"><text text-anchor=\"middle\" transform=\"translate(250,32)\" style=\"font-family: sans-serif; font-size: 11px; font-weight: bold; fill: #000; opacity: 1;\">day</text></g></g></g></g></g></g></g><g class=\"mark-group role-scope cell\"><g transform=\"translate(0,0)\"><path class=\"background\" d=\"M0.5,0.5h500v40h-500Z\" style=\"fill: none; stroke: #ddd;\"></path><g><g class=\"mark-group role-axis\"><g transform=\"translate(0.5,0.5)\"><path class=\"background\" d=\"M0,0h0v0h0Z\" style=\"pointer-events: none; fill: none;\"></path><g><g class=\"mark-rule role-axis-grid\" style=\"pointer-events: none;\"><line transform=\"translate(0,40)\" x2=\"500\" y2=\"0\" style=\"fill: none; stroke: #ddd; stroke-width: 1; opacity: 1;\"></line><line transform=\"translate(0,0)\" x2=\"500\" y2=\"0\" style=\"fill: none; stroke: #ddd; stroke-width: 1; opacity: 1;\"></line></g></g></g></g><g class=\"mark-rect role-mark child_marks\"><path d=\"M0.4464285714285836,0h8.035714285714286v40h-8.035714285714286Z\" style=\"fill: #f58518; opacity: 0.7;\"></path><path d=\"M9.375000000000012,2.051282051282051h8.035714285714286v37.94871794871795h-8.035714285714286Z\" style=\"fill: #f58518; opacity: 0.7;\"></path><path d=\"M18.30357142857144,4.102564102564102h8.035714285714286v35.8974358974359h-8.035714285714286Z\" style=\"fill: #f58518; opacity: 0.7;\"></path><path d=\"M27.23214285714287,6.153846153846153h8.035714285714286v33.84615384615385h-8.035714285714286Z\" style=\"fill: #f58518; opacity: 0.7;\"></path><path d=\"M36.1607142857143,8.205128205128208h8.035714285714286v31.794871794871792h-8.035714285714286Z\" style=\"fill: #f58518; opacity: 0.7;\"></path><path d=\"M45.08928571428573,10.256410256410255h8.035714285714286v29.743589743589745h-8.035714285714286Z\" style=\"fill: #f58518; opacity: 0.7;\"></path><path d=\"M54.01785714285715,12.307692307692307h8.035714285714286v27.692307692307693h-8.035714285714286Z\" style=\"fill: #f58518; opacity: 0.7;\"></path><path d=\"M62.946428571428584,14.358974358974358h8.035714285714286v25.641025641025642h-8.035714285714286Z\" style=\"fill: #f58518; opacity: 0.7;\"></path><path d=\"M71.87500000000001,16.41025641025641h8.035714285714286v23.58974358974359h-8.035714285714286Z\" style=\"fill: #f58518; opacity: 0.7;\"></path><path d=\"M80.80357142857144,18.461538461538463h8.035714285714286v21.538461538461537h-8.035714285714286Z\" style=\"fill: #f58518; opacity: 0.7;\"></path><path d=\"M89.73214285714288,20.512820512820515h8.035714285714286v19.487179487179485h-8.035714285714286Z\" style=\"fill: #f58518; opacity: 0.7;\"></path><path d=\"M98.6607142857143,22.564102564102562h8.035714285714286v17.435897435897438h-8.035714285714286Z\" style=\"fill: #f58518; opacity: 0.7;\"></path><path d=\"M107.58928571428572,24.615384615384613h8.035714285714286v15.384615384615387h-8.035714285714286Z\" style=\"fill: #f58518; opacity: 0.7;\"></path><path d=\"M116.51785714285715,26.666666666666668h8.035714285714286v13.333333333333332h-8.035714285714286Z\" style=\"fill: #f58518; opacity: 0.7;\"></path><path d=\"M125.44642857142858,26.666666666666668h8.035714285714286v13.333333333333332h-8.035714285714286Z\" style=\"fill: #f58518; opacity: 0.7;\"></path><path d=\"M134.37500000000003,26.666666666666668h8.035714285714286v13.333333333333332h-8.035714285714286Z\" style=\"fill: #f58518; opacity: 0.7;\"></path><path d=\"M143.30357142857144,26.666666666666668h8.035714285714286v13.333333333333332h-8.035714285714286Z\" style=\"fill: #f58518; opacity: 0.7;\"></path><path d=\"M152.23214285714286,26.666666666666668h8.035714285714286v13.333333333333332h-8.035714285714286Z\" style=\"fill: #f58518; opacity: 0.7;\"></path><path d=\"M161.1607142857143,26.666666666666668h8.035714285714286v13.333333333333332h-8.035714285714286Z\" style=\"fill: #f58518; opacity: 0.7;\"></path><path d=\"M170.08928571428572,26.666666666666668h8.035714285714286v13.333333333333332h-8.035714285714286Z\" style=\"fill: #f58518; opacity: 0.7;\"></path><path d=\"M179.01785714285717,26.666666666666668h8.035714285714286v13.333333333333332h-8.035714285714286Z\" style=\"fill: #f58518; opacity: 0.7;\"></path><path d=\"M0.4464285714285836,0h8.035714285714286v40h-8.035714285714286Z\" style=\"fill: #4c78a8; opacity: 0.7;\"></path><path d=\"M9.375000000000012,0h8.035714285714286v40h-8.035714285714286Z\" style=\"fill: #4c78a8; opacity: 0.7;\"></path><path d=\"M18.30357142857144,0h8.035714285714286v40h-8.035714285714286Z\" style=\"fill: #4c78a8; opacity: 0.7;\"></path><path d=\"M27.23214285714287,0h8.035714285714286v40h-8.035714285714286Z\" style=\"fill: #4c78a8; opacity: 0.7;\"></path><path d=\"M36.1607142857143,40h8.035714285714286v0h-8.035714285714286Z\" style=\"fill: #4c78a8; opacity: 0.7;\"></path><path d=\"M45.08928571428573,0h8.035714285714286v40h-8.035714285714286Z\" style=\"fill: #4c78a8; opacity: 0.7;\"></path><path d=\"M54.01785714285715,0h8.035714285714286v40h-8.035714285714286Z\" style=\"fill: #4c78a8; opacity: 0.7;\"></path><path d=\"M62.946428571428584,0h8.035714285714286v40h-8.035714285714286Z\" style=\"fill: #4c78a8; opacity: 0.7;\"></path><path d=\"M71.87500000000001,40h8.035714285714286v0h-8.035714285714286Z\" style=\"fill: #4c78a8; opacity: 0.7;\"></path><path d=\"M80.80357142857144,0h8.035714285714286v40h-8.035714285714286Z\" style=\"fill: #4c78a8; opacity: 0.7;\"></path><path d=\"M89.73214285714288,40h8.035714285714286v0h-8.035714285714286Z\" style=\"fill: #4c78a8; opacity: 0.7;\"></path><path d=\"M98.6607142857143,0h8.035714285714286v40h-8.035714285714286Z\" style=\"fill: #4c78a8; opacity: 0.7;\"></path><path d=\"M107.58928571428572,40h8.035714285714286v0h-8.035714285714286Z\" style=\"fill: #4c78a8; opacity: 0.7;\"></path><path d=\"M116.51785714285715,40h8.035714285714286v0h-8.035714285714286Z\" style=\"fill: #4c78a8; opacity: 0.7;\"></path><path d=\"M125.44642857142858,0h8.035714285714286v40h-8.035714285714286Z\" style=\"fill: #4c78a8; opacity: 0.7;\"></path><path d=\"M134.37500000000003,40h8.035714285714286v0h-8.035714285714286Z\" style=\"fill: #4c78a8; opacity: 0.7;\"></path><path d=\"M143.30357142857144,40h8.035714285714286v0h-8.035714285714286Z\" style=\"fill: #4c78a8; opacity: 0.7;\"></path><path d=\"M152.23214285714286,0h8.035714285714286v40h-8.035714285714286Z\" style=\"fill: #4c78a8; opacity: 0.7;\"></path><path d=\"M161.1607142857143,40h8.035714285714286v0h-8.035714285714286Z\" style=\"fill: #4c78a8; opacity: 0.7;\"></path><path d=\"M170.08928571428572,40h8.035714285714286v0h-8.035714285714286Z\" style=\"fill: #4c78a8; opacity: 0.7;\"></path><path d=\"M179.01785714285717,0h8.035714285714286v40h-8.035714285714286Z\" style=\"fill: #4c78a8; opacity: 0.7;\"></path></g></g></g><g transform=\"translate(0,62)\"><path class=\"background\" d=\"M0.5,0.5h500v40h-500Z\" style=\"fill: none; stroke: #ddd;\"></path><g><g class=\"mark-group role-axis\"><g transform=\"translate(0.5,0.5)\"><path class=\"background\" d=\"M0,0h0v0h0Z\" style=\"pointer-events: none; fill: none;\"></path><g><g class=\"mark-rule role-axis-grid\" style=\"pointer-events: none;\"><line transform=\"translate(0,40)\" x2=\"500\" y2=\"0\" style=\"fill: none; stroke: #ddd; stroke-width: 1; opacity: 1;\"></line><line transform=\"translate(0,0)\" x2=\"500\" y2=\"0\" style=\"fill: none; stroke: #ddd; stroke-width: 1; opacity: 1;\"></line></g></g></g></g><g class=\"mark-rect role-mark child_marks\"><path d=\"M0.4464285714285836,0h8.035714285714286v40h-8.035714285714286Z\" style=\"fill: #f58518; opacity: 0.7;\"></path><path d=\"M9.375000000000012,1.3333333333333357h8.035714285714286v38.666666666666664h-8.035714285714286Z\" style=\"fill: #f58518; opacity: 0.7;\"></path><path d=\"M18.30357142857144,2.6666666666666643h8.035714285714286v37.333333333333336h-8.035714285714286Z\" style=\"fill: #f58518; opacity: 0.7;\"></path><path d=\"M27.23214285714287,4h8.035714285714286v36h-8.035714285714286Z\" style=\"fill: #f58518; opacity: 0.7;\"></path><path d=\"M36.1607142857143,5.333333333333329h8.035714285714286v34.66666666666667h-8.035714285714286Z\" style=\"fill: #f58518; opacity: 0.7;\"></path><path d=\"M45.08928571428573,6.666666666666664h8.035714285714286v33.333333333333336h-8.035714285714286Z\" style=\"fill: #f58518; opacity: 0.7;\"></path><path d=\"M54.01785714285715,8h8.035714285714286v32h-8.035714285714286Z\" style=\"fill: #f58518; opacity: 0.7;\"></path><path d=\"M62.946428571428584,9.333333333333332h8.035714285714286v30.666666666666668h-8.035714285714286Z\" style=\"fill: #f58518; opacity: 0.7;\"></path><path d=\"M71.87500000000001,10.666666666666668h8.035714285714286v29.333333333333332h-8.035714285714286Z\" style=\"fill: #f58518; opacity: 0.7;\"></path><path d=\"M80.80357142857144,12h8.035714285714286v28h-8.035714285714286Z\" style=\"fill: #f58518; opacity: 0.7;\"></path><path d=\"M89.73214285714288,13.333333333333336h8.035714285714286v26.666666666666664h-8.035714285714286Z\" style=\"fill: #f58518; opacity: 0.7;\"></path><path d=\"M98.6607142857143,14.666666666666668h8.035714285714286v25.333333333333332h-8.035714285714286Z\" style=\"fill: #f58518; opacity: 0.7;\"></path><path d=\"M107.58928571428572,16h8.035714285714286v24h-8.035714285714286Z\" style=\"fill: #f58518; opacity: 0.7;\"></path><path d=\"M116.51785714285715,17.333333333333336h8.035714285714286v22.666666666666664h-8.035714285714286Z\" style=\"fill: #f58518; opacity: 0.7;\"></path><path d=\"M125.44642857142858,18.666666666666668h8.035714285714286v21.333333333333332h-8.035714285714286Z\" style=\"fill: #f58518; opacity: 0.7;\"></path><path d=\"M134.37500000000003,20h8.035714285714286v20h-8.035714285714286Z\" style=\"fill: #f58518; opacity: 0.7;\"></path><path d=\"M143.30357142857144,21.333333333333332h8.035714285714286v18.666666666666668h-8.035714285714286Z\" style=\"fill: #f58518; opacity: 0.7;\"></path><path d=\"M152.23214285714286,22.666666666666664h8.035714285714286v17.333333333333336h-8.035714285714286Z\" style=\"fill: #f58518; opacity: 0.7;\"></path><path d=\"M161.1607142857143,24h8.035714285714286v16h-8.035714285714286Z\" style=\"fill: #f58518; opacity: 0.7;\"></path><path d=\"M170.08928571428572,25.333333333333336h8.035714285714286v14.666666666666664h-8.035714285714286Z\" style=\"fill: #f58518; opacity: 0.7;\"></path><path d=\"M179.01785714285717,26.666666666666668h8.035714285714286v13.333333333333332h-8.035714285714286Z\" style=\"fill: #f58518; opacity: 0.7;\"></path><path d=\"M187.94642857142858,26.666666666666668h8.035714285714286v13.333333333333332h-8.035714285714286Z\" style=\"fill: #f58518; opacity: 0.7;\"></path><path d=\"M196.87500000000003,26.666666666666668h8.035714285714286v13.333333333333332h-8.035714285714286Z\" style=\"fill: #f58518; opacity: 0.7;\"></path><path d=\"M205.80357142857144,26.666666666666668h8.035714285714286v13.333333333333332h-8.035714285714286Z\" style=\"fill: #f58518; opacity: 0.7;\"></path><path d=\"M214.73214285714286,26.666666666666668h8.035714285714286v13.333333333333332h-8.035714285714286Z\" style=\"fill: #f58518; opacity: 0.7;\"></path><path d=\"M223.6607142857143,26.666666666666668h8.035714285714286v13.333333333333332h-8.035714285714286Z\" style=\"fill: #f58518; opacity: 0.7;\"></path><path d=\"M232.58928571428572,26.666666666666668h8.035714285714286v13.333333333333332h-8.035714285714286Z\" style=\"fill: #f58518; opacity: 0.7;\"></path><path d=\"M241.51785714285717,26.666666666666668h8.035714285714286v13.333333333333332h-8.035714285714286Z\" style=\"fill: #f58518; opacity: 0.7;\"></path><path d=\"M0.4464285714285836,0h8.035714285714286v40h-8.035714285714286Z\" style=\"fill: #4c78a8; opacity: 0.7;\"></path><path d=\"M9.375000000000012,0h8.035714285714286v40h-8.035714285714286Z\" style=\"fill: #4c78a8; opacity: 0.7;\"></path><path d=\"M18.30357142857144,0h8.035714285714286v40h-8.035714285714286Z\" style=\"fill: #4c78a8; opacity: 0.7;\"></path><path d=\"M27.23214285714287,0h8.035714285714286v40h-8.035714285714286Z\" style=\"fill: #4c78a8; opacity: 0.7;\"></path><path d=\"M36.1607142857143,0h8.035714285714286v40h-8.035714285714286Z\" style=\"fill: #4c78a8; opacity: 0.7;\"></path><path d=\"M45.08928571428573,0h8.035714285714286v40h-8.035714285714286Z\" style=\"fill: #4c78a8; opacity: 0.7;\"></path><path d=\"M54.01785714285715,40h8.035714285714286v0h-8.035714285714286Z\" style=\"fill: #4c78a8; opacity: 0.7;\"></path><path d=\"M62.946428571428584,0h8.035714285714286v40h-8.035714285714286Z\" style=\"fill: #4c78a8; opacity: 0.7;\"></path><path d=\"M71.87500000000001,0h8.035714285714286v40h-8.035714285714286Z\" style=\"fill: #4c78a8; opacity: 0.7;\"></path><path d=\"M80.80357142857144,0h8.035714285714286v40h-8.035714285714286Z\" style=\"fill: #4c78a8; opacity: 0.7;\"></path><path d=\"M89.73214285714288,40h8.035714285714286v0h-8.035714285714286Z\" style=\"fill: #4c78a8; opacity: 0.7;\"></path><path d=\"M98.6607142857143,0h8.035714285714286v40h-8.035714285714286Z\" style=\"fill: #4c78a8; opacity: 0.7;\"></path><path d=\"M107.58928571428572,40h8.035714285714286v0h-8.035714285714286Z\" style=\"fill: #4c78a8; opacity: 0.7;\"></path><path d=\"M116.51785714285715,0h8.035714285714286v40h-8.035714285714286Z\" style=\"fill: #4c78a8; opacity: 0.7;\"></path><path d=\"M125.44642857142858,40h8.035714285714286v0h-8.035714285714286Z\" style=\"fill: #4c78a8; opacity: 0.7;\"></path><path d=\"M134.37500000000003,0h8.035714285714286v40h-8.035714285714286Z\" style=\"fill: #4c78a8; opacity: 0.7;\"></path><path d=\"M143.30357142857144,40h8.035714285714286v0h-8.035714285714286Z\" style=\"fill: #4c78a8; opacity: 0.7;\"></path><path d=\"M152.23214285714286,0h8.035714285714286v40h-8.035714285714286Z\" style=\"fill: #4c78a8; opacity: 0.7;\"></path><path d=\"M161.1607142857143,40h8.035714285714286v0h-8.035714285714286Z\" style=\"fill: #4c78a8; opacity: 0.7;\"></path><path d=\"M170.08928571428572,0h8.035714285714286v40h-8.035714285714286Z\" style=\"fill: #4c78a8; opacity: 0.7;\"></path><path d=\"M179.01785714285717,40h8.035714285714286v0h-8.035714285714286Z\" style=\"fill: #4c78a8; opacity: 0.7;\"></path><path d=\"M187.94642857142858,40h8.035714285714286v0h-8.035714285714286Z\" style=\"fill: #4c78a8; opacity: 0.7;\"></path><path d=\"M196.87500000000003,0h8.035714285714286v40h-8.035714285714286Z\" style=\"fill: #4c78a8; opacity: 0.7;\"></path><path d=\"M205.80357142857144,40h8.035714285714286v0h-8.035714285714286Z\" style=\"fill: #4c78a8; opacity: 0.7;\"></path><path d=\"M214.73214285714286,40h8.035714285714286v0h-8.035714285714286Z\" style=\"fill: #4c78a8; opacity: 0.7;\"></path><path d=\"M223.6607142857143,0h8.035714285714286v40h-8.035714285714286Z\" style=\"fill: #4c78a8; opacity: 0.7;\"></path><path d=\"M232.58928571428572,40h8.035714285714286v0h-8.035714285714286Z\" style=\"fill: #4c78a8; opacity: 0.7;\"></path><path d=\"M241.51785714285717,40h8.035714285714286v0h-8.035714285714286Z\" style=\"fill: #4c78a8; opacity: 0.7;\"></path></g></g></g><g transform=\"translate(0,124)\"><path class=\"background\" d=\"M0.5,0.5h500v40h-500Z\" style=\"fill: none; stroke: #ddd;\"></path><g><g class=\"mark-group role-axis\"><g transform=\"translate(0.5,0.5)\"><path class=\"background\" d=\"M0,0h0v0h0Z\" style=\"pointer-events: none; fill: none;\"></path><g><g class=\"mark-rule role-axis-grid\" style=\"pointer-events: none;\"><line transform=\"translate(0,40)\" x2=\"500\" y2=\"0\" style=\"fill: none; stroke: #ddd; stroke-width: 1; opacity: 1;\"></line><line transform=\"translate(0,0)\" x2=\"500\" y2=\"0\" style=\"fill: none; stroke: #ddd; stroke-width: 1; opacity: 1;\"></line></g></g></g></g><g class=\"mark-rect role-mark child_marks\"><path d=\"M0.4464285714285836,0h8.035714285714286v40h-8.035714285714286Z\" style=\"fill: #f58518; opacity: 0.7;\"></path><path d=\"M9.375000000000012,0.9876543209876516h8.035714285714286v39.01234567901235h-8.035714285714286Z\" style=\"fill: #f58518; opacity: 0.7;\"></path><path d=\"M18.30357142857144,1.9753086419753103h8.035714285714286v38.02469135802469h-8.035714285714286Z\" style=\"fill: #f58518; opacity: 0.7;\"></path><path d=\"M27.23214285714287,2.962962962962962h8.035714285714286v37.03703703703704h-8.035714285714286Z\" style=\"fill: #f58518; opacity: 0.7;\"></path><path d=\"M36.1607142857143,3.9506172839506206h8.035714285714286v36.04938271604938h-8.035714285714286Z\" style=\"fill: #f58518; opacity: 0.7;\"></path><path d=\"M45.08928571428573,4.938271604938272h8.035714285714286v35.06172839506173h-8.035714285714286Z\" style=\"fill: #f58518; opacity: 0.7;\"></path><path d=\"M54.01785714285715,5.925925925925924h8.035714285714286v34.074074074074076h-8.035714285714286Z\" style=\"fill: #f58518; opacity: 0.7;\"></path><path d=\"M62.946428571428584,6.9135802469135825h8.035714285714286v33.08641975308642h-8.035714285714286Z\" style=\"fill: #f58518; opacity: 0.7;\"></path><path d=\"M71.87500000000001,7.901234567901234h8.035714285714286v32.098765432098766h-8.035714285714286Z\" style=\"fill: #f58518; opacity: 0.7;\"></path><path d=\"M80.80357142857144,8.88888888888889h8.035714285714286v31.11111111111111h-8.035714285714286Z\" style=\"fill: #f58518; opacity: 0.7;\"></path><path d=\"M89.73214285714288,9.876543209876544h8.035714285714286v30.123456790123456h-8.035714285714286Z\" style=\"fill: #f58518; opacity: 0.7;\"></path><path d=\"M98.6607142857143,10.864197530864196h8.035714285714286v29.135802469135804h-8.035714285714286Z\" style=\"fill: #f58518; opacity: 0.7;\"></path><path d=\"M107.58928571428572,11.851851851851851h8.035714285714286v28.14814814814815h-8.035714285714286Z\" style=\"fill: #f58518; opacity: 0.7;\"></path><path d=\"M116.51785714285715,12.839506172839506h8.035714285714286v27.160493827160494h-8.035714285714286Z\" style=\"fill: #f58518; opacity: 0.7;\"></path><path d=\"M125.44642857142858,13.827160493827158h8.035714285714286v26.172839506172842h-8.035714285714286Z\" style=\"fill: #f58518; opacity: 0.7;\"></path><path d=\"M134.37500000000003,14.814814814814813h8.035714285714286v25.185185185185187h-8.035714285714286Z\" style=\"fill: #f58518; opacity: 0.7;\"></path><path d=\"M143.30357142857144,15.802469135802468h8.035714285714286v24.19753086419753h-8.035714285714286Z\" style=\"fill: #f58518; opacity: 0.7;\"></path><path d=\"M152.23214285714286,16.790123456790123h8.035714285714286v23.209876543209877h-8.035714285714286Z\" style=\"fill: #f58518; opacity: 0.7;\"></path><path d=\"M161.1607142857143,17.77777777777778h8.035714285714286v22.22222222222222h-8.035714285714286Z\" style=\"fill: #f58518; opacity: 0.7;\"></path><path d=\"M170.08928571428572,18.76543209876543h8.035714285714286v21.23456790123457h-8.035714285714286Z\" style=\"fill: #f58518; opacity: 0.7;\"></path><path d=\"M179.01785714285717,19.753086419753085h8.035714285714286v20.246913580246915h-8.035714285714286Z\" style=\"fill: #f58518; opacity: 0.7;\"></path><path d=\"M187.94642857142858,20.74074074074074h8.035714285714286v19.25925925925926h-8.035714285714286Z\" style=\"fill: #f58518; opacity: 0.7;\"></path><path d=\"M196.87500000000003,21.728395061728396h8.035714285714286v18.271604938271604h-8.035714285714286Z\" style=\"fill: #f58518; opacity: 0.7;\"></path><path d=\"M205.80357142857144,22.71604938271605h8.035714285714286v17.28395061728395h-8.035714285714286Z\" style=\"fill: #f58518; opacity: 0.7;\"></path><path d=\"M214.73214285714286,23.703703703703706h8.035714285714286v16.296296296296294h-8.035714285714286Z\" style=\"fill: #f58518; opacity: 0.7;\"></path><path d=\"M223.6607142857143,24.69135802469136h8.035714285714286v15.308641975308639h-8.035714285714286Z\" style=\"fill: #f58518; opacity: 0.7;\"></path><path d=\"M232.58928571428572,25.679012345679013h8.035714285714286v14.320987654320987h-8.035714285714286Z\" style=\"fill: #f58518; opacity: 0.7;\"></path><path d=\"M241.51785714285717,26.666666666666668h8.035714285714286v13.333333333333332h-8.035714285714286Z\" style=\"fill: #f58518; opacity: 0.7;\"></path><path d=\"M250.44642857142858,26.666666666666668h8.035714285714286v13.333333333333332h-8.035714285714286Z\" style=\"fill: #f58518; opacity: 0.7;\"></path><path d=\"M259.375,26.666666666666668h8.035714285714286v13.333333333333332h-8.035714285714286Z\" style=\"fill: #f58518; opacity: 0.7;\"></path><path d=\"M268.30357142857144,26.666666666666668h8.035714285714286v13.333333333333332h-8.035714285714286Z\" style=\"fill: #f58518; opacity: 0.7;\"></path><path d=\"M277.2321428571429,26.666666666666668h8.035714285714286v13.333333333333332h-8.035714285714286Z\" style=\"fill: #f58518; opacity: 0.7;\"></path><path d=\"M286.16071428571433,26.666666666666668h8.035714285714286v13.333333333333332h-8.035714285714286Z\" style=\"fill: #f58518; opacity: 0.7;\"></path><path d=\"M295.0892857142858,26.666666666666668h8.035714285714286v13.333333333333332h-8.035714285714286Z\" style=\"fill: #f58518; opacity: 0.7;\"></path><path d=\"M304.0178571428571,26.666666666666668h8.035714285714286v13.333333333333332h-8.035714285714286Z\" style=\"fill: #f58518; opacity: 0.7;\"></path><path d=\"M0.4464285714285836,0h8.035714285714286v40h-8.035714285714286Z\" style=\"fill: #4c78a8; opacity: 0.7;\"></path><path d=\"M9.375000000000012,0h8.035714285714286v40h-8.035714285714286Z\" style=\"fill: #4c78a8; opacity: 0.7;\"></path><path d=\"M18.30357142857144,0h8.035714285714286v40h-8.035714285714286Z\" style=\"fill: #4c78a8; opacity: 0.7;\"></path><path d=\"M27.23214285714287,0h8.035714285714286v40h-8.035714285714286Z\" style=\"fill: #4c78a8; opacity: 0.7;\"></path><path d=\"M36.1607142857143,0h8.035714285714286v40h-8.035714285714286Z\" style=\"fill: #4c78a8; opacity: 0.7;\"></path><path d=\"M45.08928571428573,0h8.035714285714286v40h-8.035714285714286Z\" style=\"fill: #4c78a8; opacity: 0.7;\"></path><path d=\"M54.01785714285715,40h8.035714285714286v0h-8.035714285714286Z\" style=\"fill: #4c78a8; opacity: 0.7;\"></path><path d=\"M62.946428571428584,0h8.035714285714286v40h-8.035714285714286Z\" style=\"fill: #4c78a8; opacity: 0.7;\"></path><path d=\"M71.87500000000001,0h8.035714285714286v40h-8.035714285714286Z\" style=\"fill: #4c78a8; opacity: 0.7;\"></path><path d=\"M80.80357142857144,0h8.035714285714286v40h-8.035714285714286Z\" style=\"fill: #4c78a8; opacity: 0.7;\"></path><path d=\"M89.73214285714288,0h8.035714285714286v40h-8.035714285714286Z\" style=\"fill: #4c78a8; opacity: 0.7;\"></path><path d=\"M98.6607142857143,40h8.035714285714286v0h-8.035714285714286Z\" style=\"fill: #4c78a8; opacity: 0.7;\"></path><path d=\"M107.58928571428572,0h8.035714285714286v40h-8.035714285714286Z\" style=\"fill: #4c78a8; opacity: 0.7;\"></path><path d=\"M116.51785714285715,0h8.035714285714286v40h-8.035714285714286Z\" style=\"fill: #4c78a8; opacity: 0.7;\"></path><path d=\"M125.44642857142858,40h8.035714285714286v0h-8.035714285714286Z\" style=\"fill: #4c78a8; opacity: 0.7;\"></path><path d=\"M134.37500000000003,0h8.035714285714286v40h-8.035714285714286Z\" style=\"fill: #4c78a8; opacity: 0.7;\"></path><path d=\"M143.30357142857144,0h8.035714285714286v40h-8.035714285714286Z\" style=\"fill: #4c78a8; opacity: 0.7;\"></path><path d=\"M152.23214285714286,40h8.035714285714286v0h-8.035714285714286Z\" style=\"fill: #4c78a8; opacity: 0.7;\"></path><path d=\"M161.1607142857143,0h8.035714285714286v40h-8.035714285714286Z\" style=\"fill: #4c78a8; opacity: 0.7;\"></path><path d=\"M170.08928571428572,40h8.035714285714286v0h-8.035714285714286Z\" style=\"fill: #4c78a8; opacity: 0.7;\"></path><path d=\"M179.01785714285717,0h8.035714285714286v40h-8.035714285714286Z\" style=\"fill: #4c78a8; opacity: 0.7;\"></path><path d=\"M187.94642857142858,40h8.035714285714286v0h-8.035714285714286Z\" style=\"fill: #4c78a8; opacity: 0.7;\"></path><path d=\"M196.87500000000003,0h8.035714285714286v40h-8.035714285714286Z\" style=\"fill: #4c78a8; opacity: 0.7;\"></path><path d=\"M205.80357142857144,40h8.035714285714286v0h-8.035714285714286Z\" style=\"fill: #4c78a8; opacity: 0.7;\"></path><path d=\"M214.73214285714286,0h8.035714285714286v40h-8.035714285714286Z\" style=\"fill: #4c78a8; opacity: 0.7;\"></path><path d=\"M223.6607142857143,40h8.035714285714286v0h-8.035714285714286Z\" style=\"fill: #4c78a8; opacity: 0.7;\"></path><path d=\"M232.58928571428572,40h8.035714285714286v0h-8.035714285714286Z\" style=\"fill: #4c78a8; opacity: 0.7;\"></path><path d=\"M241.51785714285717,0h8.035714285714286v40h-8.035714285714286Z\" style=\"fill: #4c78a8; opacity: 0.7;\"></path><path d=\"M250.44642857142858,40h8.035714285714286v0h-8.035714285714286Z\" style=\"fill: #4c78a8; opacity: 0.7;\"></path><path d=\"M259.375,40h8.035714285714286v0h-8.035714285714286Z\" style=\"fill: #4c78a8; opacity: 0.7;\"></path><path d=\"M268.30357142857144,0h8.035714285714286v40h-8.035714285714286Z\" style=\"fill: #4c78a8; opacity: 0.7;\"></path><path d=\"M277.2321428571429,40h8.035714285714286v0h-8.035714285714286Z\" style=\"fill: #4c78a8; opacity: 0.7;\"></path><path d=\"M286.16071428571433,40h8.035714285714286v0h-8.035714285714286Z\" style=\"fill: #4c78a8; opacity: 0.7;\"></path><path d=\"M295.0892857142858,0h8.035714285714286v40h-8.035714285714286Z\" style=\"fill: #4c78a8; opacity: 0.7;\"></path><path d=\"M304.0178571428571,40h8.035714285714286v0h-8.035714285714286Z\" style=\"fill: #4c78a8; opacity: 0.7;\"></path></g></g></g><g transform=\"translate(0,186)\"><path class=\"background\" d=\"M0.5,0.5h500v40h-500Z\" style=\"fill: none; stroke: #ddd;\"></path><g><g class=\"mark-group role-axis\"><g transform=\"translate(0.5,0.5)\"><path class=\"background\" d=\"M0,0h0v0h0Z\" style=\"pointer-events: none; fill: none;\"></path><g><g class=\"mark-rule role-axis-grid\" style=\"pointer-events: none;\"><line transform=\"translate(0,40)\" x2=\"500\" y2=\"0\" style=\"fill: none; stroke: #ddd; stroke-width: 1; opacity: 1;\"></line><line transform=\"translate(0,0)\" x2=\"500\" y2=\"0\" style=\"fill: none; stroke: #ddd; stroke-width: 1; opacity: 1;\"></line></g></g></g></g><g class=\"mark-rect role-mark child_marks\"><path d=\"M0.4464285714285836,0h8.035714285714286v40h-8.035714285714286Z\" style=\"fill: #f58518; opacity: 0.7;\"></path><path d=\"M9.375000000000012,0.7843137254902004h8.035714285714286v39.2156862745098h-8.035714285714286Z\" style=\"fill: #f58518; opacity: 0.7;\"></path><path d=\"M18.30357142857144,1.5686274509803937h8.035714285714286v38.431372549019606h-8.035714285714286Z\" style=\"fill: #f58518; opacity: 0.7;\"></path><path d=\"M27.23214285714287,2.352941176470587h8.035714285714286v37.64705882352941h-8.035714285714286Z\" style=\"fill: #f58518; opacity: 0.7;\"></path><path d=\"M36.1607142857143,3.1372549019607874h8.035714285714286v36.86274509803921h-8.035714285714286Z\" style=\"fill: #f58518; opacity: 0.7;\"></path><path d=\"M45.08928571428573,3.9215686274509807h8.035714285714286v36.07843137254902h-8.035714285714286Z\" style=\"fill: #f58518; opacity: 0.7;\"></path><path d=\"M54.01785714285715,4.705882352941174h8.035714285714286v35.294117647058826h-8.035714285714286Z\" style=\"fill: #f58518; opacity: 0.7;\"></path><path d=\"M62.946428571428584,5.490196078431367h8.035714285714286v34.50980392156863h-8.035714285714286Z\" style=\"fill: #f58518; opacity: 0.7;\"></path><path d=\"M71.87500000000001,6.274509803921568h8.035714285714286v33.72549019607843h-8.035714285714286Z\" style=\"fill: #f58518; opacity: 0.7;\"></path><path d=\"M80.80357142857144,7.058823529411768h8.035714285714286v32.94117647058823h-8.035714285714286Z\" style=\"fill: #f58518; opacity: 0.7;\"></path><path d=\"M89.73214285714288,7.843137254901961h8.035714285714286v32.15686274509804h-8.035714285714286Z\" style=\"fill: #f58518; opacity: 0.7;\"></path><path d=\"M98.6607142857143,8.627450980392158h8.035714285714286v31.372549019607842h-8.035714285714286Z\" style=\"fill: #f58518; opacity: 0.7;\"></path><path d=\"M107.58928571428572,9.411764705882355h8.035714285714286v30.588235294117645h-8.035714285714286Z\" style=\"fill: #f58518; opacity: 0.7;\"></path><path d=\"M116.51785714285715,10.196078431372548h8.035714285714286v29.80392156862745h-8.035714285714286Z\" style=\"fill: #f58518; opacity: 0.7;\"></path><path d=\"M125.44642857142858,10.980392156862745h8.035714285714286v29.019607843137255h-8.035714285714286Z\" style=\"fill: #f58518; opacity: 0.7;\"></path><path d=\"M134.37500000000003,11.764705882352938h8.035714285714286v28.23529411764706h-8.035714285714286Z\" style=\"fill: #f58518; opacity: 0.7;\"></path><path d=\"M143.30357142857144,12.549019607843135h8.035714285714286v27.450980392156865h-8.035714285714286Z\" style=\"fill: #f58518; opacity: 0.7;\"></path><path d=\"M152.23214285714286,13.333333333333336h8.035714285714286v26.666666666666664h-8.035714285714286Z\" style=\"fill: #f58518; opacity: 0.7;\"></path><path d=\"M161.1607142857143,14.117647058823529h8.035714285714286v25.88235294117647h-8.035714285714286Z\" style=\"fill: #f58518; opacity: 0.7;\"></path><path d=\"M170.08928571428572,14.901960784313726h8.035714285714286v25.098039215686274h-8.035714285714286Z\" style=\"fill: #f58518; opacity: 0.7;\"></path><path d=\"M179.01785714285717,15.686274509803923h8.035714285714286v24.313725490196077h-8.035714285714286Z\" style=\"fill: #f58518; opacity: 0.7;\"></path><path d=\"M187.94642857142858,16.470588235294116h8.035714285714286v23.529411764705884h-8.035714285714286Z\" style=\"fill: #f58518; opacity: 0.7;\"></path><path d=\"M196.87500000000003,17.254901960784316h8.035714285714286v22.745098039215684h-8.035714285714286Z\" style=\"fill: #f58518; opacity: 0.7;\"></path><path d=\"M205.80357142857144,18.03921568627451h8.035714285714286v21.96078431372549h-8.035714285714286Z\" style=\"fill: #f58518; opacity: 0.7;\"></path><path d=\"M214.73214285714286,18.823529411764707h8.035714285714286v21.176470588235293h-8.035714285714286Z\" style=\"fill: #f58518; opacity: 0.7;\"></path><path d=\"M223.6607142857143,19.607843137254903h8.035714285714286v20.392156862745097h-8.035714285714286Z\" style=\"fill: #f58518; opacity: 0.7;\"></path><path d=\"M232.58928571428572,20.3921568627451h8.035714285714286v19.6078431372549h-8.035714285714286Z\" style=\"fill: #f58518; opacity: 0.7;\"></path><path d=\"M241.51785714285717,21.176470588235293h8.035714285714286v18.823529411764707h-8.035714285714286Z\" style=\"fill: #f58518; opacity: 0.7;\"></path><path d=\"M250.44642857142858,21.96078431372549h8.035714285714286v18.03921568627451h-8.035714285714286Z\" style=\"fill: #f58518; opacity: 0.7;\"></path><path d=\"M259.375,22.745098039215684h8.035714285714286v17.254901960784316h-8.035714285714286Z\" style=\"fill: #f58518; opacity: 0.7;\"></path><path d=\"M268.30357142857144,23.529411764705884h8.035714285714286v16.470588235294116h-8.035714285714286Z\" style=\"fill: #f58518; opacity: 0.7;\"></path><path d=\"M277.2321428571429,24.313725490196077h8.035714285714286v15.686274509803923h-8.035714285714286Z\" style=\"fill: #f58518; opacity: 0.7;\"></path><path d=\"M286.16071428571433,25.098039215686274h8.035714285714286v14.901960784313726h-8.035714285714286Z\" style=\"fill: #f58518; opacity: 0.7;\"></path><path d=\"M295.0892857142858,25.88235294117647h8.035714285714286v14.117647058823529h-8.035714285714286Z\" style=\"fill: #f58518; opacity: 0.7;\"></path><path d=\"M304.0178571428571,26.666666666666668h8.035714285714286v13.333333333333332h-8.035714285714286Z\" style=\"fill: #f58518; opacity: 0.7;\"></path><path d=\"M312.94642857142856,26.666666666666668h8.035714285714286v13.333333333333332h-8.035714285714286Z\" style=\"fill: #f58518; opacity: 0.7;\"></path><path d=\"M321.875,26.666666666666668h8.035714285714286v13.333333333333332h-8.035714285714286Z\" style=\"fill: #f58518; opacity: 0.7;\"></path><path d=\"M330.80357142857144,26.666666666666668h8.035714285714286v13.333333333333332h-8.035714285714286Z\" style=\"fill: #f58518; opacity: 0.7;\"></path><path d=\"M339.7321428571429,26.666666666666668h8.035714285714286v13.333333333333332h-8.035714285714286Z\" style=\"fill: #f58518; opacity: 0.7;\"></path><path d=\"M348.66071428571433,26.666666666666668h8.035714285714286v13.333333333333332h-8.035714285714286Z\" style=\"fill: #f58518; opacity: 0.7;\"></path><path d=\"M357.5892857142858,26.666666666666668h8.035714285714286v13.333333333333332h-8.035714285714286Z\" style=\"fill: #f58518; opacity: 0.7;\"></path><path d=\"M366.5178571428571,26.666666666666668h8.035714285714286v13.333333333333332h-8.035714285714286Z\" style=\"fill: #f58518; opacity: 0.7;\"></path><path d=\"M0.4464285714285836,0h8.035714285714286v40h-8.035714285714286Z\" style=\"fill: #4c78a8; opacity: 0.7;\"></path><path d=\"M9.375000000000012,0h8.035714285714286v40h-8.035714285714286Z\" style=\"fill: #4c78a8; opacity: 0.7;\"></path><path d=\"M18.30357142857144,0h8.035714285714286v40h-8.035714285714286Z\" style=\"fill: #4c78a8; opacity: 0.7;\"></path><path d=\"M27.23214285714287,0h8.035714285714286v40h-8.035714285714286Z\" style=\"fill: #4c78a8; opacity: 0.7;\"></path><path d=\"M36.1607142857143,0h8.035714285714286v40h-8.035714285714286Z\" style=\"fill: #4c78a8; opacity: 0.7;\"></path><path d=\"M45.08928571428573,0h8.035714285714286v40h-8.035714285714286Z\" style=\"fill: #4c78a8; opacity: 0.7;\"></path><path d=\"M54.01785714285715,0h8.035714285714286v40h-8.035714285714286Z\" style=\"fill: #4c78a8; opacity: 0.7;\"></path><path d=\"M62.946428571428584,40h8.035714285714286v0h-8.035714285714286Z\" style=\"fill: #4c78a8; opacity: 0.7;\"></path><path d=\"M71.87500000000001,0h8.035714285714286v40h-8.035714285714286Z\" style=\"fill: #4c78a8; opacity: 0.7;\"></path><path d=\"M80.80357142857144,0h8.035714285714286v40h-8.035714285714286Z\" style=\"fill: #4c78a8; opacity: 0.7;\"></path><path d=\"M89.73214285714288,0h8.035714285714286v40h-8.035714285714286Z\" style=\"fill: #4c78a8; opacity: 0.7;\"></path><path d=\"M98.6607142857143,0h8.035714285714286v40h-8.035714285714286Z\" style=\"fill: #4c78a8; opacity: 0.7;\"></path><path d=\"M107.58928571428572,40h8.035714285714286v0h-8.035714285714286Z\" style=\"fill: #4c78a8; opacity: 0.7;\"></path><path d=\"M116.51785714285715,0h8.035714285714286v40h-8.035714285714286Z\" style=\"fill: #4c78a8; opacity: 0.7;\"></path><path d=\"M125.44642857142858,0h8.035714285714286v40h-8.035714285714286Z\" style=\"fill: #4c78a8; opacity: 0.7;\"></path><path d=\"M134.37500000000003,0h8.035714285714286v40h-8.035714285714286Z\" style=\"fill: #4c78a8; opacity: 0.7;\"></path><path d=\"M143.30357142857144,40h8.035714285714286v0h-8.035714285714286Z\" style=\"fill: #4c78a8; opacity: 0.7;\"></path><path d=\"M152.23214285714286,0h8.035714285714286v40h-8.035714285714286Z\" style=\"fill: #4c78a8; opacity: 0.7;\"></path><path d=\"M161.1607142857143,0h8.035714285714286v40h-8.035714285714286Z\" style=\"fill: #4c78a8; opacity: 0.7;\"></path><path d=\"M170.08928571428572,40h8.035714285714286v0h-8.035714285714286Z\" style=\"fill: #4c78a8; opacity: 0.7;\"></path><path d=\"M179.01785714285717,0h8.035714285714286v40h-8.035714285714286Z\" style=\"fill: #4c78a8; opacity: 0.7;\"></path><path d=\"M187.94642857142858,40h8.035714285714286v0h-8.035714285714286Z\" style=\"fill: #4c78a8; opacity: 0.7;\"></path><path d=\"M196.87500000000003,0h8.035714285714286v40h-8.035714285714286Z\" style=\"fill: #4c78a8; opacity: 0.7;\"></path><path d=\"M205.80357142857144,0h8.035714285714286v40h-8.035714285714286Z\" style=\"fill: #4c78a8; opacity: 0.7;\"></path><path d=\"M214.73214285714286,40h8.035714285714286v0h-8.035714285714286Z\" style=\"fill: #4c78a8; opacity: 0.7;\"></path><path d=\"M223.6607142857143,0h8.035714285714286v40h-8.035714285714286Z\" style=\"fill: #4c78a8; opacity: 0.7;\"></path><path d=\"M232.58928571428572,40h8.035714285714286v0h-8.035714285714286Z\" style=\"fill: #4c78a8; opacity: 0.7;\"></path><path d=\"M241.51785714285717,0h8.035714285714286v40h-8.035714285714286Z\" style=\"fill: #4c78a8; opacity: 0.7;\"></path><path d=\"M250.44642857142858,40h8.035714285714286v0h-8.035714285714286Z\" style=\"fill: #4c78a8; opacity: 0.7;\"></path><path d=\"M259.375,40h8.035714285714286v0h-8.035714285714286Z\" style=\"fill: #4c78a8; opacity: 0.7;\"></path><path d=\"M268.30357142857144,0h8.035714285714286v40h-8.035714285714286Z\" style=\"fill: #4c78a8; opacity: 0.7;\"></path><path d=\"M277.2321428571429,40h8.035714285714286v0h-8.035714285714286Z\" style=\"fill: #4c78a8; opacity: 0.7;\"></path><path d=\"M286.16071428571433,0h8.035714285714286v40h-8.035714285714286Z\" style=\"fill: #4c78a8; opacity: 0.7;\"></path><path d=\"M295.0892857142858,40h8.035714285714286v0h-8.035714285714286Z\" style=\"fill: #4c78a8; opacity: 0.7;\"></path><path d=\"M304.0178571428571,40h8.035714285714286v0h-8.035714285714286Z\" style=\"fill: #4c78a8; opacity: 0.7;\"></path><path d=\"M312.94642857142856,0h8.035714285714286v40h-8.035714285714286Z\" style=\"fill: #4c78a8; opacity: 0.7;\"></path><path d=\"M321.875,40h8.035714285714286v0h-8.035714285714286Z\" style=\"fill: #4c78a8; opacity: 0.7;\"></path><path d=\"M330.80357142857144,40h8.035714285714286v0h-8.035714285714286Z\" style=\"fill: #4c78a8; opacity: 0.7;\"></path><path d=\"M339.7321428571429,0h8.035714285714286v40h-8.035714285714286Z\" style=\"fill: #4c78a8; opacity: 0.7;\"></path><path d=\"M348.66071428571433,40h8.035714285714286v0h-8.035714285714286Z\" style=\"fill: #4c78a8; opacity: 0.7;\"></path><path d=\"M357.5892857142858,40h8.035714285714286v0h-8.035714285714286Z\" style=\"fill: #4c78a8; opacity: 0.7;\"></path><path d=\"M366.5178571428571,0h8.035714285714286v40h-8.035714285714286Z\" style=\"fill: #4c78a8; opacity: 0.7;\"></path></g></g></g><g transform=\"translate(0,248)\"><path class=\"background\" d=\"M0.5,0.5h500v40h-500Z\" style=\"fill: none; stroke: #ddd;\"></path><g><g class=\"mark-group role-axis\"><g transform=\"translate(0.5,0.5)\"><path class=\"background\" d=\"M0,0h0v0h0Z\" style=\"pointer-events: none; fill: none;\"></path><g><g class=\"mark-rule role-axis-grid\" style=\"pointer-events: none;\"><line transform=\"translate(0,40)\" x2=\"500\" y2=\"0\" style=\"fill: none; stroke: #ddd; stroke-width: 1; opacity: 1;\"></line><line transform=\"translate(0,0)\" x2=\"500\" y2=\"0\" style=\"fill: none; stroke: #ddd; stroke-width: 1; opacity: 1;\"></line></g></g></g></g><g class=\"mark-rect role-mark child_marks\"><path d=\"M0.4464285714285836,0h8.035714285714286v40h-8.035714285714286Z\" style=\"fill: #f58518; opacity: 0.7;\"></path><path d=\"M9.375000000000012,0.6504065040650389h8.035714285714286v39.34959349593496h-8.035714285714286Z\" style=\"fill: #f58518; opacity: 0.7;\"></path><path d=\"M18.30357142857144,1.3008130081300777h8.035714285714286v38.69918699186992h-8.035714285714286Z\" style=\"fill: #f58518; opacity: 0.7;\"></path><path d=\"M27.23214285714287,1.9512195121951237h8.035714285714286v38.048780487804876h-8.035714285714286Z\" style=\"fill: #f58518; opacity: 0.7;\"></path><path d=\"M36.1607142857143,2.6016260162601625h8.035714285714286v37.39837398373984h-8.035714285714286Z\" style=\"fill: #f58518; opacity: 0.7;\"></path><path d=\"M45.08928571428573,3.2520325203252014h8.035714285714286v36.7479674796748h-8.035714285714286Z\" style=\"fill: #f58518; opacity: 0.7;\"></path><path d=\"M54.01785714285715,3.9024390243902403h8.035714285714286v36.09756097560976h-8.035714285714286Z\" style=\"fill: #f58518; opacity: 0.7;\"></path><path d=\"M62.946428571428584,4.552845528455279h8.035714285714286v35.44715447154472h-8.035714285714286Z\" style=\"fill: #f58518; opacity: 0.7;\"></path><path d=\"M71.87500000000001,5.203252032520325h8.035714285714286v34.796747967479675h-8.035714285714286Z\" style=\"fill: #f58518; opacity: 0.7;\"></path><path d=\"M80.80357142857144,5.853658536585364h8.035714285714286v34.146341463414636h-8.035714285714286Z\" style=\"fill: #f58518; opacity: 0.7;\"></path><path d=\"M89.73214285714288,6.504065040650403h8.035714285714286v33.4959349593496h-8.035714285714286Z\" style=\"fill: #f58518; opacity: 0.7;\"></path><path d=\"M98.6607142857143,7.154471544715449h8.035714285714286v32.84552845528455h-8.035714285714286Z\" style=\"fill: #f58518; opacity: 0.7;\"></path><path d=\"M107.58928571428572,7.804878048780488h8.035714285714286v32.19512195121951h-8.035714285714286Z\" style=\"fill: #f58518; opacity: 0.7;\"></path><path d=\"M116.51785714285715,8.45528455284553h8.035714285714286v31.54471544715447h-8.035714285714286Z\" style=\"fill: #f58518; opacity: 0.7;\"></path><path d=\"M125.44642857142858,9.105691056910569h8.035714285714286v30.89430894308943h-8.035714285714286Z\" style=\"fill: #f58518; opacity: 0.7;\"></path><path d=\"M134.37500000000003,9.756097560975611h8.035714285714286v30.24390243902439h-8.035714285714286Z\" style=\"fill: #f58518; opacity: 0.7;\"></path><path d=\"M143.30357142857144,10.40650406504065h8.035714285714286v29.59349593495935h-8.035714285714286Z\" style=\"fill: #f58518; opacity: 0.7;\"></path><path d=\"M152.23214285714286,11.056910569105689h8.035714285714286v28.94308943089431h-8.035714285714286Z\" style=\"fill: #f58518; opacity: 0.7;\"></path><path d=\"M161.1607142857143,11.707317073170735h8.035714285714286v28.292682926829265h-8.035714285714286Z\" style=\"fill: #f58518; opacity: 0.7;\"></path><path d=\"M170.08928571428572,12.357723577235774h8.035714285714286v27.642276422764226h-8.035714285714286Z\" style=\"fill: #f58518; opacity: 0.7;\"></path><path d=\"M179.01785714285717,13.008130081300813h8.035714285714286v26.991869918699187h-8.035714285714286Z\" style=\"fill: #f58518; opacity: 0.7;\"></path><path d=\"M187.94642857142858,13.658536585365852h8.035714285714286v26.34146341463415h-8.035714285714286Z\" style=\"fill: #f58518; opacity: 0.7;\"></path><path d=\"M196.87500000000003,14.30894308943089h8.035714285714286v25.69105691056911h-8.035714285714286Z\" style=\"fill: #f58518; opacity: 0.7;\"></path><path d=\"M205.80357142857144,14.959349593495936h8.035714285714286v25.040650406504064h-8.035714285714286Z\" style=\"fill: #f58518; opacity: 0.7;\"></path><path d=\"M214.73214285714286,15.609756097560975h8.035714285714286v24.390243902439025h-8.035714285714286Z\" style=\"fill: #f58518; opacity: 0.7;\"></path><path d=\"M223.6607142857143,16.260162601626014h8.035714285714286v23.739837398373986h-8.035714285714286Z\" style=\"fill: #f58518; opacity: 0.7;\"></path><path d=\"M232.58928571428572,16.910569105691057h8.035714285714286v23.089430894308943h-8.035714285714286Z\" style=\"fill: #f58518; opacity: 0.7;\"></path><path d=\"M241.51785714285717,17.560975609756095h8.035714285714286v22.439024390243905h-8.035714285714286Z\" style=\"fill: #f58518; opacity: 0.7;\"></path><path d=\"M250.44642857142858,18.211382113821138h8.035714285714286v21.788617886178862h-8.035714285714286Z\" style=\"fill: #f58518; opacity: 0.7;\"></path><path d=\"M259.375,18.86178861788618h8.035714285714286v21.13821138211382h-8.035714285714286Z\" style=\"fill: #f58518; opacity: 0.7;\"></path><path d=\"M268.30357142857144,19.51219512195122h8.035714285714286v20.48780487804878h-8.035714285714286Z\" style=\"fill: #f58518; opacity: 0.7;\"></path><path d=\"M277.2321428571429,20.16260162601626h8.035714285714286v19.83739837398374h-8.035714285714286Z\" style=\"fill: #f58518; opacity: 0.7;\"></path><path d=\"M286.16071428571433,20.8130081300813h8.035714285714286v19.1869918699187h-8.035714285714286Z\" style=\"fill: #f58518; opacity: 0.7;\"></path><path d=\"M295.0892857142858,21.46341463414634h8.035714285714286v18.53658536585366h-8.035714285714286Z\" style=\"fill: #f58518; opacity: 0.7;\"></path><path d=\"M304.0178571428571,22.11382113821138h8.035714285714286v17.88617886178862h-8.035714285714286Z\" style=\"fill: #f58518; opacity: 0.7;\"></path><path d=\"M312.94642857142856,22.764227642276424h8.035714285714286v17.235772357723576h-8.035714285714286Z\" style=\"fill: #f58518; opacity: 0.7;\"></path><path d=\"M321.875,23.414634146341463h8.035714285714286v16.585365853658537h-8.035714285714286Z\" style=\"fill: #f58518; opacity: 0.7;\"></path><path d=\"M330.80357142857144,24.0650406504065h8.035714285714286v15.934959349593498h-8.035714285714286Z\" style=\"fill: #f58518; opacity: 0.7;\"></path><path d=\"M339.7321428571429,24.715447154471544h8.035714285714286v15.284552845528456h-8.035714285714286Z\" style=\"fill: #f58518; opacity: 0.7;\"></path><path d=\"M348.66071428571433,25.365853658536587h8.035714285714286v14.634146341463413h-8.035714285714286Z\" style=\"fill: #f58518; opacity: 0.7;\"></path><path d=\"M357.5892857142858,26.016260162601625h8.035714285714286v13.983739837398375h-8.035714285714286Z\" style=\"fill: #f58518; opacity: 0.7;\"></path><path d=\"M366.5178571428571,26.666666666666668h8.035714285714286v13.333333333333332h-8.035714285714286Z\" style=\"fill: #f58518; opacity: 0.7;\"></path><path d=\"M375.44642857142856,26.666666666666668h8.035714285714286v13.333333333333332h-8.035714285714286Z\" style=\"fill: #f58518; opacity: 0.7;\"></path><path d=\"M384.375,26.666666666666668h8.035714285714286v13.333333333333332h-8.035714285714286Z\" style=\"fill: #f58518; opacity: 0.7;\"></path><path d=\"M393.30357142857144,26.666666666666668h8.035714285714286v13.333333333333332h-8.035714285714286Z\" style=\"fill: #f58518; opacity: 0.7;\"></path><path d=\"M402.2321428571429,26.666666666666668h8.035714285714286v13.333333333333332h-8.035714285714286Z\" style=\"fill: #f58518; opacity: 0.7;\"></path><path d=\"M411.16071428571433,26.666666666666668h8.035714285714286v13.333333333333332h-8.035714285714286Z\" style=\"fill: #f58518; opacity: 0.7;\"></path><path d=\"M420.0892857142858,26.666666666666668h8.035714285714286v13.333333333333332h-8.035714285714286Z\" style=\"fill: #f58518; opacity: 0.7;\"></path><path d=\"M429.0178571428571,26.666666666666668h8.035714285714286v13.333333333333332h-8.035714285714286Z\" style=\"fill: #f58518; opacity: 0.7;\"></path><path d=\"M0.4464285714285836,0h8.035714285714286v40h-8.035714285714286Z\" style=\"fill: #4c78a8; opacity: 0.7;\"></path><path d=\"M9.375000000000012,0h8.035714285714286v40h-8.035714285714286Z\" style=\"fill: #4c78a8; opacity: 0.7;\"></path><path d=\"M18.30357142857144,0h8.035714285714286v40h-8.035714285714286Z\" style=\"fill: #4c78a8; opacity: 0.7;\"></path><path d=\"M27.23214285714287,0h8.035714285714286v40h-8.035714285714286Z\" style=\"fill: #4c78a8; opacity: 0.7;\"></path><path d=\"M36.1607142857143,0h8.035714285714286v40h-8.035714285714286Z\" style=\"fill: #4c78a8; opacity: 0.7;\"></path><path d=\"M45.08928571428573,0h8.035714285714286v40h-8.035714285714286Z\" style=\"fill: #4c78a8; opacity: 0.7;\"></path><path d=\"M54.01785714285715,0h8.035714285714286v40h-8.035714285714286Z\" style=\"fill: #4c78a8; opacity: 0.7;\"></path><path d=\"M62.946428571428584,0h8.035714285714286v40h-8.035714285714286Z\" style=\"fill: #4c78a8; opacity: 0.7;\"></path><path d=\"M71.87500000000001,40h8.035714285714286v0h-8.035714285714286Z\" style=\"fill: #4c78a8; opacity: 0.7;\"></path><path d=\"M80.80357142857144,0h8.035714285714286v40h-8.035714285714286Z\" style=\"fill: #4c78a8; opacity: 0.7;\"></path><path d=\"M89.73214285714288,0h8.035714285714286v40h-8.035714285714286Z\" style=\"fill: #4c78a8; opacity: 0.7;\"></path><path d=\"M98.6607142857143,0h8.035714285714286v40h-8.035714285714286Z\" style=\"fill: #4c78a8; opacity: 0.7;\"></path><path d=\"M107.58928571428572,0h8.035714285714286v40h-8.035714285714286Z\" style=\"fill: #4c78a8; opacity: 0.7;\"></path><path d=\"M116.51785714285715,0h8.035714285714286v40h-8.035714285714286Z\" style=\"fill: #4c78a8; opacity: 0.7;\"></path><path d=\"M125.44642857142858,40h8.035714285714286v0h-8.035714285714286Z\" style=\"fill: #4c78a8; opacity: 0.7;\"></path><path d=\"M134.37500000000003,0h8.035714285714286v40h-8.035714285714286Z\" style=\"fill: #4c78a8; opacity: 0.7;\"></path><path d=\"M143.30357142857144,0h8.035714285714286v40h-8.035714285714286Z\" style=\"fill: #4c78a8; opacity: 0.7;\"></path><path d=\"M152.23214285714286,0h8.035714285714286v40h-8.035714285714286Z\" style=\"fill: #4c78a8; opacity: 0.7;\"></path><path d=\"M161.1607142857143,40h8.035714285714286v0h-8.035714285714286Z\" style=\"fill: #4c78a8; opacity: 0.7;\"></path><path d=\"M170.08928571428572,0h8.035714285714286v40h-8.035714285714286Z\" style=\"fill: #4c78a8; opacity: 0.7;\"></path><path d=\"M179.01785714285717,0h8.035714285714286v40h-8.035714285714286Z\" style=\"fill: #4c78a8; opacity: 0.7;\"></path><path d=\"M187.94642857142858,40h8.035714285714286v0h-8.035714285714286Z\" style=\"fill: #4c78a8; opacity: 0.7;\"></path><path d=\"M196.87500000000003,0h8.035714285714286v40h-8.035714285714286Z\" style=\"fill: #4c78a8; opacity: 0.7;\"></path><path d=\"M205.80357142857144,0h8.035714285714286v40h-8.035714285714286Z\" style=\"fill: #4c78a8; opacity: 0.7;\"></path><path d=\"M214.73214285714286,40h8.035714285714286v0h-8.035714285714286Z\" style=\"fill: #4c78a8; opacity: 0.7;\"></path><path d=\"M223.6607142857143,0h8.035714285714286v40h-8.035714285714286Z\" style=\"fill: #4c78a8; opacity: 0.7;\"></path><path d=\"M232.58928571428572,40h8.035714285714286v0h-8.035714285714286Z\" style=\"fill: #4c78a8; opacity: 0.7;\"></path><path d=\"M241.51785714285717,0h8.035714285714286v40h-8.035714285714286Z\" style=\"fill: #4c78a8; opacity: 0.7;\"></path><path d=\"M250.44642857142858,40h8.035714285714286v0h-8.035714285714286Z\" style=\"fill: #4c78a8; opacity: 0.7;\"></path><path d=\"M259.375,0h8.035714285714286v40h-8.035714285714286Z\" style=\"fill: #4c78a8; opacity: 0.7;\"></path><path d=\"M268.30357142857144,40h8.035714285714286v0h-8.035714285714286Z\" style=\"fill: #4c78a8; opacity: 0.7;\"></path><path d=\"M277.2321428571429,0h8.035714285714286v40h-8.035714285714286Z\" style=\"fill: #4c78a8; opacity: 0.7;\"></path><path d=\"M286.16071428571433,40h8.035714285714286v0h-8.035714285714286Z\" style=\"fill: #4c78a8; opacity: 0.7;\"></path><path d=\"M295.0892857142858,0h8.035714285714286v40h-8.035714285714286Z\" style=\"fill: #4c78a8; opacity: 0.7;\"></path><path d=\"M304.0178571428571,40h8.035714285714286v0h-8.035714285714286Z\" style=\"fill: #4c78a8; opacity: 0.7;\"></path><path d=\"M312.94642857142856,0h8.035714285714286v40h-8.035714285714286Z\" style=\"fill: #4c78a8; opacity: 0.7;\"></path><path d=\"M321.875,40h8.035714285714286v0h-8.035714285714286Z\" style=\"fill: #4c78a8; opacity: 0.7;\"></path><path d=\"M330.80357142857144,0h8.035714285714286v40h-8.035714285714286Z\" style=\"fill: #4c78a8; opacity: 0.7;\"></path><path d=\"M339.7321428571429,40h8.035714285714286v0h-8.035714285714286Z\" style=\"fill: #4c78a8; opacity: 0.7;\"></path><path d=\"M348.66071428571433,40h8.035714285714286v0h-8.035714285714286Z\" style=\"fill: #4c78a8; opacity: 0.7;\"></path><path d=\"M357.5892857142858,0h8.035714285714286v40h-8.035714285714286Z\" style=\"fill: #4c78a8; opacity: 0.7;\"></path><path d=\"M366.5178571428571,40h8.035714285714286v0h-8.035714285714286Z\" style=\"fill: #4c78a8; opacity: 0.7;\"></path><path d=\"M375.44642857142856,40h8.035714285714286v0h-8.035714285714286Z\" style=\"fill: #4c78a8; opacity: 0.7;\"></path><path d=\"M384.375,0h8.035714285714286v40h-8.035714285714286Z\" style=\"fill: #4c78a8; opacity: 0.7;\"></path><path d=\"M393.30357142857144,40h8.035714285714286v0h-8.035714285714286Z\" style=\"fill: #4c78a8; opacity: 0.7;\"></path><path d=\"M402.2321428571429,40h8.035714285714286v0h-8.035714285714286Z\" style=\"fill: #4c78a8; opacity: 0.7;\"></path><path d=\"M411.16071428571433,0h8.035714285714286v40h-8.035714285714286Z\" style=\"fill: #4c78a8; opacity: 0.7;\"></path><path d=\"M420.0892857142858,40h8.035714285714286v0h-8.035714285714286Z\" style=\"fill: #4c78a8; opacity: 0.7;\"></path><path d=\"M429.0178571428571,40h8.035714285714286v0h-8.035714285714286Z\" style=\"fill: #4c78a8; opacity: 0.7;\"></path></g></g></g><g transform=\"translate(0,310)\"><path class=\"background\" d=\"M0.5,0.5h500v40h-500Z\" style=\"fill: none; stroke: #ddd;\"></path><g><g class=\"mark-group role-axis\"><g transform=\"translate(0.5,0.5)\"><path class=\"background\" d=\"M0,0h0v0h0Z\" style=\"pointer-events: none; fill: none;\"></path><g><g class=\"mark-rule role-axis-grid\" style=\"pointer-events: none;\"><line transform=\"translate(0,40)\" x2=\"500\" y2=\"0\" style=\"fill: none; stroke: #ddd; stroke-width: 1; opacity: 1;\"></line><line transform=\"translate(0,0)\" x2=\"500\" y2=\"0\" style=\"fill: none; stroke: #ddd; stroke-width: 1; opacity: 1;\"></line></g></g></g></g><g class=\"mark-rect role-mark child_marks\"><path d=\"M0.4464285714285836,0h8.035714285714286v40h-8.035714285714286Z\" style=\"fill: #f58518; opacity: 0.7;\"></path><path d=\"M9.375000000000012,0.5555555555555571h8.035714285714286v39.44444444444444h-8.035714285714286Z\" style=\"fill: #f58518; opacity: 0.7;\"></path><path d=\"M18.30357142857144,1.1111111111111143h8.035714285714286v38.888888888888886h-8.035714285714286Z\" style=\"fill: #f58518; opacity: 0.7;\"></path><path d=\"M27.23214285714287,1.6666666666666643h8.035714285714286v38.333333333333336h-8.035714285714286Z\" style=\"fill: #f58518; opacity: 0.7;\"></path><path d=\"M36.1607142857143,2.2222222222222214h8.035714285714286v37.77777777777778h-8.035714285714286Z\" style=\"fill: #f58518; opacity: 0.7;\"></path><path d=\"M45.08928571428573,2.7777777777777786h8.035714285714286v37.22222222222222h-8.035714285714286Z\" style=\"fill: #f58518; opacity: 0.7;\"></path><path d=\"M54.01785714285715,3.3333333333333357h8.035714285714286v36.666666666666664h-8.035714285714286Z\" style=\"fill: #f58518; opacity: 0.7;\"></path><path d=\"M62.946428571428584,3.8888888888888857h8.035714285714286v36.111111111111114h-8.035714285714286Z\" style=\"fill: #f58518; opacity: 0.7;\"></path><path d=\"M71.87500000000001,4.444444444444443h8.035714285714286v35.55555555555556h-8.035714285714286Z\" style=\"fill: #f58518; opacity: 0.7;\"></path><path d=\"M80.80357142857144,5h8.035714285714286v35h-8.035714285714286Z\" style=\"fill: #f58518; opacity: 0.7;\"></path><path d=\"M89.73214285714288,5.555555555555557h8.035714285714286v34.44444444444444h-8.035714285714286Z\" style=\"fill: #f58518; opacity: 0.7;\"></path><path d=\"M98.6607142857143,6.111111111111114h8.035714285714286v33.888888888888886h-8.035714285714286Z\" style=\"fill: #f58518; opacity: 0.7;\"></path><path d=\"M107.58928571428572,6.666666666666664h8.035714285714286v33.333333333333336h-8.035714285714286Z\" style=\"fill: #f58518; opacity: 0.7;\"></path><path d=\"M116.51785714285715,7.222222222222221h8.035714285714286v32.77777777777778h-8.035714285714286Z\" style=\"fill: #f58518; opacity: 0.7;\"></path><path d=\"M125.44642857142858,7.777777777777779h8.035714285714286v32.22222222222222h-8.035714285714286Z\" style=\"fill: #f58518; opacity: 0.7;\"></path><path d=\"M134.37500000000003,8.333333333333336h8.035714285714286v31.666666666666664h-8.035714285714286Z\" style=\"fill: #f58518; opacity: 0.7;\"></path><path d=\"M143.30357142857144,8.88888888888889h8.035714285714286v31.11111111111111h-8.035714285714286Z\" style=\"fill: #f58518; opacity: 0.7;\"></path><path d=\"M152.23214285714286,9.444444444444446h8.035714285714286v30.555555555555554h-8.035714285714286Z\" style=\"fill: #f58518; opacity: 0.7;\"></path><path d=\"M161.1607142857143,10h8.035714285714286v30h-8.035714285714286Z\" style=\"fill: #f58518; opacity: 0.7;\"></path><path d=\"M170.08928571428572,10.555555555555554h8.035714285714286v29.444444444444446h-8.035714285714286Z\" style=\"fill: #f58518; opacity: 0.7;\"></path><path d=\"M179.01785714285717,11.11111111111111h8.035714285714286v28.88888888888889h-8.035714285714286Z\" style=\"fill: #f58518; opacity: 0.7;\"></path><path d=\"M187.94642857142858,11.666666666666664h8.035714285714286v28.333333333333336h-8.035714285714286Z\" style=\"fill: #f58518; opacity: 0.7;\"></path><path d=\"M196.87500000000003,12.222222222222221h8.035714285714286v27.77777777777778h-8.035714285714286Z\" style=\"fill: #f58518; opacity: 0.7;\"></path><path d=\"M205.80357142857144,12.777777777777779h8.035714285714286v27.22222222222222h-8.035714285714286Z\" style=\"fill: #f58518; opacity: 0.7;\"></path><path d=\"M214.73214285714286,13.333333333333336h8.035714285714286v26.666666666666664h-8.035714285714286Z\" style=\"fill: #f58518; opacity: 0.7;\"></path><path d=\"M223.6607142857143,13.88888888888889h8.035714285714286v26.11111111111111h-8.035714285714286Z\" style=\"fill: #f58518; opacity: 0.7;\"></path><path d=\"M232.58928571428572,14.444444444444446h8.035714285714286v25.555555555555554h-8.035714285714286Z\" style=\"fill: #f58518; opacity: 0.7;\"></path><path d=\"M241.51785714285717,15h8.035714285714286v25h-8.035714285714286Z\" style=\"fill: #f58518; opacity: 0.7;\"></path><path d=\"M250.44642857142858,15.555555555555554h8.035714285714286v24.444444444444446h-8.035714285714286Z\" style=\"fill: #f58518; opacity: 0.7;\"></path><path d=\"M259.375,16.11111111111111h8.035714285714286v23.88888888888889h-8.035714285714286Z\" style=\"fill: #f58518; opacity: 0.7;\"></path><path d=\"M268.30357142857144,16.666666666666664h8.035714285714286v23.333333333333336h-8.035714285714286Z\" style=\"fill: #f58518; opacity: 0.7;\"></path><path d=\"M277.2321428571429,17.22222222222222h8.035714285714286v22.77777777777778h-8.035714285714286Z\" style=\"fill: #f58518; opacity: 0.7;\"></path><path d=\"M286.16071428571433,17.77777777777778h8.035714285714286v22.22222222222222h-8.035714285714286Z\" style=\"fill: #f58518; opacity: 0.7;\"></path><path d=\"M295.0892857142858,18.333333333333336h8.035714285714286v21.666666666666664h-8.035714285714286Z\" style=\"fill: #f58518; opacity: 0.7;\"></path><path d=\"M304.0178571428571,18.88888888888889h8.035714285714286v21.11111111111111h-8.035714285714286Z\" style=\"fill: #f58518; opacity: 0.7;\"></path><path d=\"M312.94642857142856,19.444444444444446h8.035714285714286v20.555555555555554h-8.035714285714286Z\" style=\"fill: #f58518; opacity: 0.7;\"></path><path d=\"M321.875,20h8.035714285714286v20h-8.035714285714286Z\" style=\"fill: #f58518; opacity: 0.7;\"></path><path d=\"M330.80357142857144,20.555555555555557h8.035714285714286v19.444444444444443h-8.035714285714286Z\" style=\"fill: #f58518; opacity: 0.7;\"></path><path d=\"M339.7321428571429,21.11111111111111h8.035714285714286v18.88888888888889h-8.035714285714286Z\" style=\"fill: #f58518; opacity: 0.7;\"></path><path d=\"M348.66071428571433,21.666666666666668h8.035714285714286v18.333333333333332h-8.035714285714286Z\" style=\"fill: #f58518; opacity: 0.7;\"></path><path d=\"M357.5892857142858,22.22222222222222h8.035714285714286v17.77777777777778h-8.035714285714286Z\" style=\"fill: #f58518; opacity: 0.7;\"></path><path d=\"M366.5178571428571,22.77777777777778h8.035714285714286v17.22222222222222h-8.035714285714286Z\" style=\"fill: #f58518; opacity: 0.7;\"></path><path d=\"M375.44642857142856,23.333333333333332h8.035714285714286v16.666666666666668h-8.035714285714286Z\" style=\"fill: #f58518; opacity: 0.7;\"></path><path d=\"M384.375,23.88888888888889h8.035714285714286v16.11111111111111h-8.035714285714286Z\" style=\"fill: #f58518; opacity: 0.7;\"></path><path d=\"M393.30357142857144,24.444444444444443h8.035714285714286v15.555555555555557h-8.035714285714286Z\" style=\"fill: #f58518; opacity: 0.7;\"></path><path d=\"M402.2321428571429,25h8.035714285714286v15h-8.035714285714286Z\" style=\"fill: #f58518; opacity: 0.7;\"></path><path d=\"M411.16071428571433,25.555555555555557h8.035714285714286v14.444444444444443h-8.035714285714286Z\" style=\"fill: #f58518; opacity: 0.7;\"></path><path d=\"M420.0892857142858,26.11111111111111h8.035714285714286v13.88888888888889h-8.035714285714286Z\" style=\"fill: #f58518; opacity: 0.7;\"></path><path d=\"M429.0178571428571,26.666666666666668h8.035714285714286v13.333333333333332h-8.035714285714286Z\" style=\"fill: #f58518; opacity: 0.7;\"></path><path d=\"M437.94642857142856,26.666666666666668h8.035714285714286v13.333333333333332h-8.035714285714286Z\" style=\"fill: #f58518; opacity: 0.7;\"></path><path d=\"M446.875,26.666666666666668h8.035714285714286v13.333333333333332h-8.035714285714286Z\" style=\"fill: #f58518; opacity: 0.7;\"></path><path d=\"M455.80357142857144,26.666666666666668h8.035714285714286v13.333333333333332h-8.035714285714286Z\" style=\"fill: #f58518; opacity: 0.7;\"></path><path d=\"M464.7321428571429,26.666666666666668h8.035714285714286v13.333333333333332h-8.035714285714286Z\" style=\"fill: #f58518; opacity: 0.7;\"></path><path d=\"M473.66071428571433,26.666666666666668h8.035714285714286v13.333333333333332h-8.035714285714286Z\" style=\"fill: #f58518; opacity: 0.7;\"></path><path d=\"M482.5892857142858,26.666666666666668h8.035714285714286v13.333333333333332h-8.035714285714286Z\" style=\"fill: #f58518; opacity: 0.7;\"></path><path d=\"M491.5178571428572,26.666666666666668h8.035714285714286v13.333333333333332h-8.035714285714286Z\" style=\"fill: #f58518; opacity: 0.7;\"></path><path d=\"M0.4464285714285836,0h8.035714285714286v40h-8.035714285714286Z\" style=\"fill: #4c78a8; opacity: 0.7;\"></path><path d=\"M9.375000000000012,0h8.035714285714286v40h-8.035714285714286Z\" style=\"fill: #4c78a8; opacity: 0.7;\"></path><path d=\"M18.30357142857144,0h8.035714285714286v40h-8.035714285714286Z\" style=\"fill: #4c78a8; opacity: 0.7;\"></path><path d=\"M27.23214285714287,0h8.035714285714286v40h-8.035714285714286Z\" style=\"fill: #4c78a8; opacity: 0.7;\"></path><path d=\"M36.1607142857143,0h8.035714285714286v40h-8.035714285714286Z\" style=\"fill: #4c78a8; opacity: 0.7;\"></path><path d=\"M45.08928571428573,0h8.035714285714286v40h-8.035714285714286Z\" style=\"fill: #4c78a8; opacity: 0.7;\"></path><path d=\"M54.01785714285715,0h8.035714285714286v40h-8.035714285714286Z\" style=\"fill: #4c78a8; opacity: 0.7;\"></path><path d=\"M62.946428571428584,0h8.035714285714286v40h-8.035714285714286Z\" style=\"fill: #4c78a8; opacity: 0.7;\"></path><path d=\"M71.87500000000001,40h8.035714285714286v0h-8.035714285714286Z\" style=\"fill: #4c78a8; opacity: 0.7;\"></path><path d=\"M80.80357142857144,0h8.035714285714286v40h-8.035714285714286Z\" style=\"fill: #4c78a8; opacity: 0.7;\"></path><path d=\"M89.73214285714288,0h8.035714285714286v40h-8.035714285714286Z\" style=\"fill: #4c78a8; opacity: 0.7;\"></path><path d=\"M98.6607142857143,0h8.035714285714286v40h-8.035714285714286Z\" style=\"fill: #4c78a8; opacity: 0.7;\"></path><path d=\"M107.58928571428572,0h8.035714285714286v40h-8.035714285714286Z\" style=\"fill: #4c78a8; opacity: 0.7;\"></path><path d=\"M116.51785714285715,0h8.035714285714286v40h-8.035714285714286Z\" style=\"fill: #4c78a8; opacity: 0.7;\"></path><path d=\"M125.44642857142858,0h8.035714285714286v40h-8.035714285714286Z\" style=\"fill: #4c78a8; opacity: 0.7;\"></path><path d=\"M134.37500000000003,40h8.035714285714286v0h-8.035714285714286Z\" style=\"fill: #4c78a8; opacity: 0.7;\"></path><path d=\"M143.30357142857144,0h8.035714285714286v40h-8.035714285714286Z\" style=\"fill: #4c78a8; opacity: 0.7;\"></path><path d=\"M152.23214285714286,0h8.035714285714286v40h-8.035714285714286Z\" style=\"fill: #4c78a8; opacity: 0.7;\"></path><path d=\"M161.1607142857143,0h8.035714285714286v40h-8.035714285714286Z\" style=\"fill: #4c78a8; opacity: 0.7;\"></path><path d=\"M170.08928571428572,40h8.035714285714286v0h-8.035714285714286Z\" style=\"fill: #4c78a8; opacity: 0.7;\"></path><path d=\"M179.01785714285717,0h8.035714285714286v40h-8.035714285714286Z\" style=\"fill: #4c78a8; opacity: 0.7;\"></path><path d=\"M187.94642857142858,0h8.035714285714286v40h-8.035714285714286Z\" style=\"fill: #4c78a8; opacity: 0.7;\"></path><path d=\"M196.87500000000003,40h8.035714285714286v0h-8.035714285714286Z\" style=\"fill: #4c78a8; opacity: 0.7;\"></path><path d=\"M205.80357142857144,0h8.035714285714286v40h-8.035714285714286Z\" style=\"fill: #4c78a8; opacity: 0.7;\"></path><path d=\"M214.73214285714286,0h8.035714285714286v40h-8.035714285714286Z\" style=\"fill: #4c78a8; opacity: 0.7;\"></path><path d=\"M223.6607142857143,40h8.035714285714286v0h-8.035714285714286Z\" style=\"fill: #4c78a8; opacity: 0.7;\"></path><path d=\"M232.58928571428572,0h8.035714285714286v40h-8.035714285714286Z\" style=\"fill: #4c78a8; opacity: 0.7;\"></path><path d=\"M241.51785714285717,0h8.035714285714286v40h-8.035714285714286Z\" style=\"fill: #4c78a8; opacity: 0.7;\"></path><path d=\"M250.44642857142858,40h8.035714285714286v0h-8.035714285714286Z\" style=\"fill: #4c78a8; opacity: 0.7;\"></path><path d=\"M259.375,0h8.035714285714286v40h-8.035714285714286Z\" style=\"fill: #4c78a8; opacity: 0.7;\"></path><path d=\"M268.30357142857144,0h8.035714285714286v40h-8.035714285714286Z\" style=\"fill: #4c78a8; opacity: 0.7;\"></path><path d=\"M277.2321428571429,40h8.035714285714286v0h-8.035714285714286Z\" style=\"fill: #4c78a8; opacity: 0.7;\"></path><path d=\"M286.16071428571433,0h8.035714285714286v40h-8.035714285714286Z\" style=\"fill: #4c78a8; opacity: 0.7;\"></path><path d=\"M295.0892857142858,40h8.035714285714286v0h-8.035714285714286Z\" style=\"fill: #4c78a8; opacity: 0.7;\"></path><path d=\"M304.0178571428571,0h8.035714285714286v40h-8.035714285714286Z\" style=\"fill: #4c78a8; opacity: 0.7;\"></path><path d=\"M312.94642857142856,40h8.035714285714286v0h-8.035714285714286Z\" style=\"fill: #4c78a8; opacity: 0.7;\"></path><path d=\"M321.875,0h8.035714285714286v40h-8.035714285714286Z\" style=\"fill: #4c78a8; opacity: 0.7;\"></path><path d=\"M330.80357142857144,40h8.035714285714286v0h-8.035714285714286Z\" style=\"fill: #4c78a8; opacity: 0.7;\"></path><path d=\"M339.7321428571429,0h8.035714285714286v40h-8.035714285714286Z\" style=\"fill: #4c78a8; opacity: 0.7;\"></path><path d=\"M348.66071428571433,40h8.035714285714286v0h-8.035714285714286Z\" style=\"fill: #4c78a8; opacity: 0.7;\"></path><path d=\"M357.5892857142858,0h8.035714285714286v40h-8.035714285714286Z\" style=\"fill: #4c78a8; opacity: 0.7;\"></path><path d=\"M366.5178571428571,40h8.035714285714286v0h-8.035714285714286Z\" style=\"fill: #4c78a8; opacity: 0.7;\"></path><path d=\"M375.44642857142856,40h8.035714285714286v0h-8.035714285714286Z\" style=\"fill: #4c78a8; opacity: 0.7;\"></path><path d=\"M384.375,0h8.035714285714286v40h-8.035714285714286Z\" style=\"fill: #4c78a8; opacity: 0.7;\"></path><path d=\"M393.30357142857144,40h8.035714285714286v0h-8.035714285714286Z\" style=\"fill: #4c78a8; opacity: 0.7;\"></path><path d=\"M402.2321428571429,0h8.035714285714286v40h-8.035714285714286Z\" style=\"fill: #4c78a8; opacity: 0.7;\"></path><path d=\"M411.16071428571433,40h8.035714285714286v0h-8.035714285714286Z\" style=\"fill: #4c78a8; opacity: 0.7;\"></path><path d=\"M420.0892857142858,40h8.035714285714286v0h-8.035714285714286Z\" style=\"fill: #4c78a8; opacity: 0.7;\"></path><path d=\"M429.0178571428571,0h8.035714285714286v40h-8.035714285714286Z\" style=\"fill: #4c78a8; opacity: 0.7;\"></path><path d=\"M437.94642857142856,40h8.035714285714286v0h-8.035714285714286Z\" style=\"fill: #4c78a8; opacity: 0.7;\"></path><path d=\"M446.875,40h8.035714285714286v0h-8.035714285714286Z\" style=\"fill: #4c78a8; opacity: 0.7;\"></path><path d=\"M455.80357142857144,0h8.035714285714286v40h-8.035714285714286Z\" style=\"fill: #4c78a8; opacity: 0.7;\"></path><path d=\"M464.7321428571429,40h8.035714285714286v0h-8.035714285714286Z\" style=\"fill: #4c78a8; opacity: 0.7;\"></path><path d=\"M473.66071428571433,40h8.035714285714286v0h-8.035714285714286Z\" style=\"fill: #4c78a8; opacity: 0.7;\"></path><path d=\"M482.5892857142858,0h8.035714285714286v40h-8.035714285714286Z\" style=\"fill: #4c78a8; opacity: 0.7;\"></path><path d=\"M491.5178571428572,40h8.035714285714286v0h-8.035714285714286Z\" style=\"fill: #4c78a8; opacity: 0.7;\"></path></g></g></g></g><g class=\"mark-group role-legend\"><g transform=\"translate(519,0)\"><path class=\"background\" d=\"M0,0h70v40h-70Z\" style=\"pointer-events: none; fill: none;\"></path><g><g class=\"mark-group role-legend-entry\"><g transform=\"translate(0,16)\"><path class=\"background\" d=\"M0,0h0v0h0Z\" style=\"pointer-events: none; fill: none;\"></path><g><g class=\"mark-group role-scope\"><g transform=\"translate(0,0)\"><path class=\"background\" d=\"M0,0h70v11h-70Z\" style=\"pointer-events: none; fill: none; opacity: 1;\"></path><g><g class=\"mark-symbol role-legend-symbol\" style=\"pointer-events: none;\"><path transform=\"translate(6,6)\" d=\"M-5,-5h10v10h-10Z\" style=\"fill: #4c78a8; stroke-width: 1.5; opacity: 0.7;\"></path></g><g class=\"mark-text role-legend-label\" style=\"pointer-events: none;\"><text text-anchor=\"start\" transform=\"translate(16,9)\" style=\"font-family: sans-serif; font-size: 10px; fill: #000; opacity: 1;\">binary</text></g></g></g><g transform=\"translate(0,13)\"><path class=\"background\" d=\"M0,0h70v11h-70Z\" style=\"pointer-events: none; fill: none; opacity: 1;\"></path><g><g class=\"mark-symbol role-legend-symbol\" style=\"pointer-events: none;\"><path transform=\"translate(6,6)\" d=\"M-5,-5h10v10h-10Z\" style=\"fill: #f58518; stroke-width: 1.5; opacity: 0.7;\"></path></g><g class=\"mark-text role-legend-label\" style=\"pointer-events: none;\"><text text-anchor=\"start\" transform=\"translate(16,9)\" style=\"font-family: sans-serif; font-size: 10px; fill: #000; opacity: 1;\">continuous</text></g></g></g></g></g></g></g><g class=\"mark-text role-legend-title\" style=\"pointer-events: none;\"><text text-anchor=\"start\" transform=\"translate(0,9)\" style=\"font-family: sans-serif; font-size: 11px; font-weight: bold; fill: #000; opacity: 1;\">mode</text></g></g></g></g></g></g></g></g></svg>"
      ],
      "text/plain": [
       "VegaLite.VLSpec{:plot}"
      ]
     },
     "execution_count": 8,
     "metadata": {},
     "output_type": "execute_result"
    }
   ],
   "source": [
    "parts = DataFrame[]\n",
    "high, low = 1, 1/3\n",
    "for w in 3:8\n",
    "    n = 7*w\n",
    "    ramp = vcat(range(high, low, length=n - 7), repeat([low], 7)) \n",
    "    push!(parts, DataFrame(weeks=w, day=1:n, mode=\"continuous\", dose=ramp))\n",
    "    rounded = sum_up_round(ramp)\n",
    "    push!(parts, DataFrame(weeks=w, day=1:n, mode=\"binary\", dose=rounded))\n",
    "end\n",
    "data = vcat(parts...)\n",
    "\n",
    "@vlplot(\n",
    "    mark={:bar, opacity=0.7},\n",
    "    height=40, width=500, data=data,\n",
    "    x=\"day:o\", y={:dose, stack=nothing}, row=\"weeks:n\", color=:mode\n",
    ")"
   ]
  },
  {
   "cell_type": "markdown",
   "metadata": {},
   "source": [
    "Please don't mistake the above experiments for medical advice!"
   ]
  }
 ],
 "metadata": {
  "@webio": {
   "lastCommId": null,
   "lastKernelId": null
  },
  "kernelspec": {
   "display_name": "Julia 1.1.1",
   "language": "julia",
   "name": "julia-1.1"
  },
  "language_info": {
   "file_extension": ".jl",
   "mimetype": "application/julia",
   "name": "julia",
   "version": "1.1.1"
  },
  "nikola": {
   "category": "",
   "date": "2019-07-03 14:00:00 UTC+02:00",
   "description": "",
   "link": "",
   "slug": "sum-up-rounding-for-ramp-down-of-medication-intake",
   "tags": "julialang,optimization,control",
   "title": "Sum Up Rounding for Ramp Down of Medication Intake",
   "type": "text"
  }
 },
 "nbformat": 4,
 "nbformat_minor": 2
}

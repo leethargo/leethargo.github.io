{
 "cells": [
  {
   "cell_type": "code",
   "execution_count": 65,
   "metadata": {},
   "outputs": [],
   "source": [
    "using DataFrames\n",
    "using VegaLite"
   ]
  },
  {
   "cell_type": "code",
   "execution_count": 223,
   "metadata": {},
   "outputs": [
    {
     "data": {
      "text/plain": [
       "sum_up_round (generic function with 2 methods)"
      ]
     },
     "execution_count": 223,
     "metadata": {},
     "output_type": "execute_result"
    }
   ],
   "source": [
    "function sum_up_round(x)\n",
    "    all(0.0 .<= x .<= 1.0) || error(\"Input must lie in [0, 1]!\")\n",
    "    \n",
    "    result = zeros(size(x))\n",
    "    sum = 0.0\n",
    "    for (index, value) in enumerate(x)\n",
    "        sum += value\n",
    "        rounded = round(sum)\n",
    "        result[index] = rounded\n",
    "        sum -= rounded\n",
    "    end\n",
    "\n",
    "    @assert -1.0 <= sum <= 1.0\n",
    "    @assert all(0.0 .<= result .<= 1.0)\n",
    "    \n",
    "    return result\n",
    "end"
   ]
  },
  {
   "cell_type": "code",
   "execution_count": 211,
   "metadata": {},
   "outputs": [
    {
     "data": {
      "text/plain": [
       "ramp_down (generic function with 1 method)"
      ]
     },
     "execution_count": 211,
     "metadata": {},
     "output_type": "execute_result"
    }
   ],
   "source": [
    "ramp_down(length) = range(1.0, 0.0, length=length)"
   ]
  },
  {
   "cell_type": "code",
   "execution_count": 213,
   "metadata": {},
   "outputs": [
    {
     "data": {
      "text/plain": [
       "5-element Array{Float64,1}:\n",
       " 1.0\n",
       " 1.0\n",
       " 0.0\n",
       " 0.0\n",
       " 0.0"
      ]
     },
     "execution_count": 213,
     "metadata": {},
     "output_type": "execute_result"
    }
   ],
   "source": [
    "sum_up_round(ramp_down(5))"
   ]
  },
  {
   "cell_type": "code",
   "execution_count": 227,
   "metadata": {},
   "outputs": [
    {
     "data": {
      "text/html": [
       "<table class=\"data-frame\"><thead><tr><th></th><th>num_days</th><th>day</th><th>mode</th><th>v</th></tr><tr><th></th><th>Int64</th><th>Int64</th><th>String</th><th>Float64</th></tr></thead><tbody><p>3 rows × 4 columns</p><tr><th>1</th><td>7</td><td>1</td><td>continuous</td><td>1.0</td></tr><tr><th>2</th><td>7</td><td>2</td><td>continuous</td><td>0.833333</td></tr><tr><th>3</th><td>7</td><td>3</td><td>continuous</td><td>0.666667</td></tr></tbody></table>"
      ],
      "text/latex": [
       "\\begin{tabular}{r|cccc}\n",
       "\t& num\\_days & day & mode & v\\\\\n",
       "\t\\hline\n",
       "\t& Int64 & Int64 & String & Float64\\\\\n",
       "\t\\hline\n",
       "\t1 & 7 & 1 & continuous & 1.0 \\\\\n",
       "\t2 & 7 & 2 & continuous & 0.833333 \\\\\n",
       "\t3 & 7 & 3 & continuous & 0.666667 \\\\\n",
       "\\end{tabular}\n"
      ],
      "text/plain": [
       "3×4 DataFrame\n",
       "│ Row │ num_days │ day   │ mode       │ v        │\n",
       "│     │ \u001b[90mInt64\u001b[39m    │ \u001b[90mInt64\u001b[39m │ \u001b[90mString\u001b[39m     │ \u001b[90mFloat64\u001b[39m  │\n",
       "├─────┼──────────┼───────┼────────────┼──────────┤\n",
       "│ 1   │ 7        │ 1     │ continuous │ 1.0      │\n",
       "│ 2   │ 7        │ 2     │ continuous │ 0.833333 │\n",
       "│ 3   │ 7        │ 3     │ continuous │ 0.666667 │"
      ]
     },
     "execution_count": 227,
     "metadata": {},
     "output_type": "execute_result"
    }
   ],
   "source": [
    "parts = DataFrame[]\n",
    "for n in 7:7:56\n",
    "    ramp = collect(ramp_down(n))\n",
    "    push!(parts, DataFrame(num_days=n, day=1:n, mode=\"continuous\", v=ramp))\n",
    "    rounded = sum_up_round(ramp)\n",
    "    push!(parts, DataFrame(num_days=n, day=1:n, mode=\"binary\", v=rounded))\n",
    "end\n",
    "data = vcat(parts...)\n",
    "first(data, 3)"
   ]
  },
  {
   "cell_type": "code",
   "execution_count": 228,
   "metadata": {},
   "outputs": [
    {
     "data": {
      "application/vnd.vegalite.v2+json": {
       "data": {
        "values": [
         {
          "day": 1,
          "mode": "continuous",
          "num_days": 7,
          "v": 1
         },
         {
          "day": 2,
          "mode": "continuous",
          "num_days": 7,
          "v": 0.8333333333333334
         },
         {
          "day": 3,
          "mode": "continuous",
          "num_days": 7,
          "v": 0.6666666666666666
         },
         {
          "day": 4,
          "mode": "continuous",
          "num_days": 7,
          "v": 0.5
         },
         {
          "day": 5,
          "mode": "continuous",
          "num_days": 7,
          "v": 0.3333333333333333
         },
         {
          "day": 6,
          "mode": "continuous",
          "num_days": 7,
          "v": 0.16666666666666666
         },
         {
          "day": 7,
          "mode": "continuous",
          "num_days": 7,
          "v": 0
         },
         {
          "day": 1,
          "mode": "binary",
          "num_days": 7,
          "v": 1
         },
         {
          "day": 2,
          "mode": "binary",
          "num_days": 7,
          "v": 1
         },
         {
          "day": 3,
          "mode": "binary",
          "num_days": 7,
          "v": 0
         },
         {
          "day": 4,
          "mode": "binary",
          "num_days": 7,
          "v": 1
         },
         {
          "day": 5,
          "mode": "binary",
          "num_days": 7,
          "v": 0
         },
         {
          "day": 6,
          "mode": "binary",
          "num_days": 7,
          "v": 0
         },
         {
          "day": 7,
          "mode": "binary",
          "num_days": 7,
          "v": 0
         },
         {
          "day": 1,
          "mode": "continuous",
          "num_days": 14,
          "v": 1
         },
         {
          "day": 2,
          "mode": "continuous",
          "num_days": 14,
          "v": 0.9230769230769231
         },
         {
          "day": 3,
          "mode": "continuous",
          "num_days": 14,
          "v": 0.8461538461538461
         },
         {
          "day": 4,
          "mode": "continuous",
          "num_days": 14,
          "v": 0.7692307692307693
         },
         {
          "day": 5,
          "mode": "continuous",
          "num_days": 14,
          "v": 0.6923076923076923
         },
         {
          "day": 6,
          "mode": "continuous",
          "num_days": 14,
          "v": 0.6153846153846154
         },
         {
          "day": 7,
          "mode": "continuous",
          "num_days": 14,
          "v": 0.5384615384615384
         },
         {
          "day": 8,
          "mode": "continuous",
          "num_days": 14,
          "v": 0.46153846153846156
         },
         {
          "day": 9,
          "mode": "continuous",
          "num_days": 14,
          "v": 0.38461538461538464
         },
         {
          "day": 10,
          "mode": "continuous",
          "num_days": 14,
          "v": 0.3076923076923077
         },
         {
          "day": 11,
          "mode": "continuous",
          "num_days": 14,
          "v": 0.23076923076923078
         },
         {
          "day": 12,
          "mode": "continuous",
          "num_days": 14,
          "v": 0.15384615384615385
         },
         {
          "day": 13,
          "mode": "continuous",
          "num_days": 14,
          "v": 0.07692307692307693
         },
         {
          "day": 14,
          "mode": "continuous",
          "num_days": 14,
          "v": 0
         },
         {
          "day": 1,
          "mode": "binary",
          "num_days": 14,
          "v": 1
         },
         {
          "day": 2,
          "mode": "binary",
          "num_days": 14,
          "v": 1
         },
         {
          "day": 3,
          "mode": "binary",
          "num_days": 14,
          "v": 1
         },
         {
          "day": 4,
          "mode": "binary",
          "num_days": 14,
          "v": 1
         },
         {
          "day": 5,
          "mode": "binary",
          "num_days": 14,
          "v": 0
         },
         {
          "day": 6,
          "mode": "binary",
          "num_days": 14,
          "v": 1
         },
         {
          "day": 7,
          "mode": "binary",
          "num_days": 14,
          "v": 0
         },
         {
          "day": 8,
          "mode": "binary",
          "num_days": 14,
          "v": 1
         },
         {
          "day": 9,
          "mode": "binary",
          "num_days": 14,
          "v": 0
         },
         {
          "day": 10,
          "mode": "binary",
          "num_days": 14,
          "v": 1
         },
         {
          "day": 11,
          "mode": "binary",
          "num_days": 14,
          "v": 0
         },
         {
          "day": 12,
          "mode": "binary",
          "num_days": 14,
          "v": 0
         },
         {
          "day": 13,
          "mode": "binary",
          "num_days": 14,
          "v": 0
         },
         {
          "day": 14,
          "mode": "binary",
          "num_days": 14,
          "v": 0
         },
         {
          "day": 1,
          "mode": "continuous",
          "num_days": 21,
          "v": 1
         },
         {
          "day": 2,
          "mode": "continuous",
          "num_days": 21,
          "v": 0.95
         },
         {
          "day": 3,
          "mode": "continuous",
          "num_days": 21,
          "v": 0.9
         },
         {
          "day": 4,
          "mode": "continuous",
          "num_days": 21,
          "v": 0.85
         },
         {
          "day": 5,
          "mode": "continuous",
          "num_days": 21,
          "v": 0.8
         },
         {
          "day": 6,
          "mode": "continuous",
          "num_days": 21,
          "v": 0.75
         },
         {
          "day": 7,
          "mode": "continuous",
          "num_days": 21,
          "v": 0.7
         },
         {
          "day": 8,
          "mode": "continuous",
          "num_days": 21,
          "v": 0.65
         },
         {
          "day": 9,
          "mode": "continuous",
          "num_days": 21,
          "v": 0.6
         },
         {
          "day": 10,
          "mode": "continuous",
          "num_days": 21,
          "v": 0.55
         },
         {
          "day": 11,
          "mode": "continuous",
          "num_days": 21,
          "v": 0.5
         },
         {
          "day": 12,
          "mode": "continuous",
          "num_days": 21,
          "v": 0.45
         },
         {
          "day": 13,
          "mode": "continuous",
          "num_days": 21,
          "v": 0.4
         },
         {
          "day": 14,
          "mode": "continuous",
          "num_days": 21,
          "v": 0.35
         },
         {
          "day": 15,
          "mode": "continuous",
          "num_days": 21,
          "v": 0.3
         },
         {
          "day": 16,
          "mode": "continuous",
          "num_days": 21,
          "v": 0.25
         },
         {
          "day": 17,
          "mode": "continuous",
          "num_days": 21,
          "v": 0.2
         },
         {
          "day": 18,
          "mode": "continuous",
          "num_days": 21,
          "v": 0.15
         },
         {
          "day": 19,
          "mode": "continuous",
          "num_days": 21,
          "v": 0.1
         },
         {
          "day": 20,
          "mode": "continuous",
          "num_days": 21,
          "v": 0.05
         },
         {
          "day": 21,
          "mode": "continuous",
          "num_days": 21,
          "v": 0
         },
         {
          "day": 1,
          "mode": "binary",
          "num_days": 21,
          "v": 1
         },
         {
          "day": 2,
          "mode": "binary",
          "num_days": 21,
          "v": 1
         },
         {
          "day": 3,
          "mode": "binary",
          "num_days": 21,
          "v": 1
         },
         {
          "day": 4,
          "mode": "binary",
          "num_days": 21,
          "v": 1
         },
         {
          "day": 5,
          "mode": "binary",
          "num_days": 21,
          "v": 0
         },
         {
          "day": 6,
          "mode": "binary",
          "num_days": 21,
          "v": 1
         },
         {
          "day": 7,
          "mode": "binary",
          "num_days": 21,
          "v": 1
         },
         {
          "day": 8,
          "mode": "binary",
          "num_days": 21,
          "v": 1
         },
         {
          "day": 9,
          "mode": "binary",
          "num_days": 21,
          "v": 0
         },
         {
          "day": 10,
          "mode": "binary",
          "num_days": 21,
          "v": 1
         },
         {
          "day": 11,
          "mode": "binary",
          "num_days": 21,
          "v": 0
         },
         {
          "day": 12,
          "mode": "binary",
          "num_days": 21,
          "v": 1
         },
         {
          "day": 13,
          "mode": "binary",
          "num_days": 21,
          "v": 0
         },
         {
          "day": 14,
          "mode": "binary",
          "num_days": 21,
          "v": 0
         },
         {
          "day": 15,
          "mode": "binary",
          "num_days": 21,
          "v": 1
         },
         {
          "day": 16,
          "mode": "binary",
          "num_days": 21,
          "v": 0
         },
         {
          "day": 17,
          "mode": "binary",
          "num_days": 21,
          "v": 0
         },
         {
          "day": 18,
          "mode": "binary",
          "num_days": 21,
          "v": 0
         },
         {
          "day": 19,
          "mode": "binary",
          "num_days": 21,
          "v": 0
         },
         {
          "day": 20,
          "mode": "binary",
          "num_days": 21,
          "v": 0
         },
         {
          "day": 21,
          "mode": "binary",
          "num_days": 21,
          "v": 0
         },
         {
          "day": 1,
          "mode": "continuous",
          "num_days": 28,
          "v": 1
         },
         {
          "day": 2,
          "mode": "continuous",
          "num_days": 28,
          "v": 0.9629629629629629
         },
         {
          "day": 3,
          "mode": "continuous",
          "num_days": 28,
          "v": 0.9259259259259259
         },
         {
          "day": 4,
          "mode": "continuous",
          "num_days": 28,
          "v": 0.8888888888888888
         },
         {
          "day": 5,
          "mode": "continuous",
          "num_days": 28,
          "v": 0.8518518518518519
         },
         {
          "day": 6,
          "mode": "continuous",
          "num_days": 28,
          "v": 0.8148148148148148
         },
         {
          "day": 7,
          "mode": "continuous",
          "num_days": 28,
          "v": 0.7777777777777778
         },
         {
          "day": 8,
          "mode": "continuous",
          "num_days": 28,
          "v": 0.7407407407407407
         },
         {
          "day": 9,
          "mode": "continuous",
          "num_days": 28,
          "v": 0.7037037037037037
         },
         {
          "day": 10,
          "mode": "continuous",
          "num_days": 28,
          "v": 0.6666666666666666
         },
         {
          "day": 11,
          "mode": "continuous",
          "num_days": 28,
          "v": 0.6296296296296297
         },
         {
          "day": 12,
          "mode": "continuous",
          "num_days": 28,
          "v": 0.5925925925925926
         },
         {
          "day": 13,
          "mode": "continuous",
          "num_days": 28,
          "v": 0.5555555555555556
         },
         {
          "day": 14,
          "mode": "continuous",
          "num_days": 28,
          "v": 0.5185185185185185
         },
         {
          "day": 15,
          "mode": "continuous",
          "num_days": 28,
          "v": 0.48148148148148145
         },
         {
          "day": 16,
          "mode": "continuous",
          "num_days": 28,
          "v": 0.4444444444444444
         },
         {
          "day": 17,
          "mode": "continuous",
          "num_days": 28,
          "v": 0.4074074074074074
         },
         {
          "day": 18,
          "mode": "continuous",
          "num_days": 28,
          "v": 0.37037037037037035
         },
         {
          "day": 19,
          "mode": "continuous",
          "num_days": 28,
          "v": 0.3333333333333333
         },
         {
          "day": 20,
          "mode": "continuous",
          "num_days": 28,
          "v": 0.2962962962962963
         },
         {
          "day": 21,
          "mode": "continuous",
          "num_days": 28,
          "v": 0.25925925925925924
         },
         {
          "day": 22,
          "mode": "continuous",
          "num_days": 28,
          "v": 0.2222222222222222
         },
         {
          "day": 23,
          "mode": "continuous",
          "num_days": 28,
          "v": 0.18518518518518517
         },
         {
          "day": 24,
          "mode": "continuous",
          "num_days": 28,
          "v": 0.14814814814814814
         },
         {
          "day": 25,
          "mode": "continuous",
          "num_days": 28,
          "v": 0.1111111111111111
         },
         {
          "day": 26,
          "mode": "continuous",
          "num_days": 28,
          "v": 0.07407407407407407
         },
         {
          "day": 27,
          "mode": "continuous",
          "num_days": 28,
          "v": 0.037037037037037035
         },
         {
          "day": 28,
          "mode": "continuous",
          "num_days": 28,
          "v": 0
         },
         {
          "day": 1,
          "mode": "binary",
          "num_days": 28,
          "v": 1
         },
         {
          "day": 2,
          "mode": "binary",
          "num_days": 28,
          "v": 1
         },
         {
          "day": 3,
          "mode": "binary",
          "num_days": 28,
          "v": 1
         },
         {
          "day": 4,
          "mode": "binary",
          "num_days": 28,
          "v": 1
         },
         {
          "day": 5,
          "mode": "binary",
          "num_days": 28,
          "v": 1
         },
         {
          "day": 6,
          "mode": "binary",
          "num_days": 28,
          "v": 0
         },
         {
          "day": 7,
          "mode": "binary",
          "num_days": 28,
          "v": 1
         },
         {
          "day": 8,
          "mode": "binary",
          "num_days": 28,
          "v": 1
         },
         {
          "day": 9,
          "mode": "binary",
          "num_days": 28,
          "v": 1
         },
         {
          "day": 10,
          "mode": "binary",
          "num_days": 28,
          "v": 0
         },
         {
          "day": 11,
          "mode": "binary",
          "num_days": 28,
          "v": 1
         },
         {
          "day": 12,
          "mode": "binary",
          "num_days": 28,
          "v": 1
         },
         {
          "day": 13,
          "mode": "binary",
          "num_days": 28,
          "v": 0
         },
         {
          "day": 14,
          "mode": "binary",
          "num_days": 28,
          "v": 1
         },
         {
          "day": 15,
          "mode": "binary",
          "num_days": 28,
          "v": 0
         },
         {
          "day": 16,
          "mode": "binary",
          "num_days": 28,
          "v": 1
         },
         {
          "day": 17,
          "mode": "binary",
          "num_days": 28,
          "v": 0
         },
         {
          "day": 18,
          "mode": "binary",
          "num_days": 28,
          "v": 0
         },
         {
          "day": 19,
          "mode": "binary",
          "num_days": 28,
          "v": 1
         },
         {
          "day": 20,
          "mode": "binary",
          "num_days": 28,
          "v": 0
         },
         {
          "day": 21,
          "mode": "binary",
          "num_days": 28,
          "v": 0
         },
         {
          "day": 22,
          "mode": "binary",
          "num_days": 28,
          "v": 0
         },
         {
          "day": 23,
          "mode": "binary",
          "num_days": 28,
          "v": 1
         },
         {
          "day": 24,
          "mode": "binary",
          "num_days": 28,
          "v": 0
         },
         {
          "day": 25,
          "mode": "binary",
          "num_days": 28,
          "v": 0
         },
         {
          "day": 26,
          "mode": "binary",
          "num_days": 28,
          "v": 0
         },
         {
          "day": 27,
          "mode": "binary",
          "num_days": 28,
          "v": 0
         },
         {
          "day": 28,
          "mode": "binary",
          "num_days": 28,
          "v": 0
         },
         {
          "day": 1,
          "mode": "continuous",
          "num_days": 35,
          "v": 1
         },
         {
          "day": 2,
          "mode": "continuous",
          "num_days": 35,
          "v": 0.9705882352941176
         },
         {
          "day": 3,
          "mode": "continuous",
          "num_days": 35,
          "v": 0.9411764705882353
         },
         {
          "day": 4,
          "mode": "continuous",
          "num_days": 35,
          "v": 0.9117647058823529
         },
         {
          "day": 5,
          "mode": "continuous",
          "num_days": 35,
          "v": 0.8823529411764706
         },
         {
          "day": 6,
          "mode": "continuous",
          "num_days": 35,
          "v": 0.8529411764705882
         },
         {
          "day": 7,
          "mode": "continuous",
          "num_days": 35,
          "v": 0.8235294117647058
         },
         {
          "day": 8,
          "mode": "continuous",
          "num_days": 35,
          "v": 0.7941176470588235
         },
         {
          "day": 9,
          "mode": "continuous",
          "num_days": 35,
          "v": 0.7647058823529411
         },
         {
          "day": 10,
          "mode": "continuous",
          "num_days": 35,
          "v": 0.7352941176470589
         },
         {
          "day": 11,
          "mode": "continuous",
          "num_days": 35,
          "v": 0.7058823529411765
         },
         {
          "day": 12,
          "mode": "continuous",
          "num_days": 35,
          "v": 0.6764705882352942
         },
         {
          "day": 13,
          "mode": "continuous",
          "num_days": 35,
          "v": 0.6470588235294118
         },
         {
          "day": 14,
          "mode": "continuous",
          "num_days": 35,
          "v": 0.6176470588235294
         },
         {
          "day": 15,
          "mode": "continuous",
          "num_days": 35,
          "v": 0.5882352941176471
         },
         {
          "day": 16,
          "mode": "continuous",
          "num_days": 35,
          "v": 0.5588235294117647
         },
         {
          "day": 17,
          "mode": "continuous",
          "num_days": 35,
          "v": 0.5294117647058824
         },
         {
          "day": 18,
          "mode": "continuous",
          "num_days": 35,
          "v": 0.5
         },
         {
          "day": 19,
          "mode": "continuous",
          "num_days": 35,
          "v": 0.47058823529411764
         },
         {
          "day": 20,
          "mode": "continuous",
          "num_days": 35,
          "v": 0.4411764705882353
         },
         {
          "day": 21,
          "mode": "continuous",
          "num_days": 35,
          "v": 0.4117647058823529
         },
         {
          "day": 22,
          "mode": "continuous",
          "num_days": 35,
          "v": 0.38235294117647056
         },
         {
          "day": 23,
          "mode": "continuous",
          "num_days": 35,
          "v": 0.35294117647058826
         },
         {
          "day": 24,
          "mode": "continuous",
          "num_days": 35,
          "v": 0.3235294117647059
         },
         {
          "day": 25,
          "mode": "continuous",
          "num_days": 35,
          "v": 0.29411764705882354
         },
         {
          "day": 26,
          "mode": "continuous",
          "num_days": 35,
          "v": 0.2647058823529412
         },
         {
          "day": 27,
          "mode": "continuous",
          "num_days": 35,
          "v": 0.23529411764705882
         },
         {
          "day": 28,
          "mode": "continuous",
          "num_days": 35,
          "v": 0.20588235294117646
         },
         {
          "day": 29,
          "mode": "continuous",
          "num_days": 35,
          "v": 0.17647058823529413
         },
         {
          "day": 30,
          "mode": "continuous",
          "num_days": 35,
          "v": 0.14705882352941177
         },
         {
          "day": 31,
          "mode": "continuous",
          "num_days": 35,
          "v": 0.11764705882352941
         },
         {
          "day": 32,
          "mode": "continuous",
          "num_days": 35,
          "v": 0.08823529411764706
         },
         {
          "day": 33,
          "mode": "continuous",
          "num_days": 35,
          "v": 0.058823529411764705
         },
         {
          "day": 34,
          "mode": "continuous",
          "num_days": 35,
          "v": 0.029411764705882353
         },
         {
          "day": 35,
          "mode": "continuous",
          "num_days": 35,
          "v": 0
         },
         {
          "day": 1,
          "mode": "binary",
          "num_days": 35,
          "v": 1
         },
         {
          "day": 2,
          "mode": "binary",
          "num_days": 35,
          "v": 1
         },
         {
          "day": 3,
          "mode": "binary",
          "num_days": 35,
          "v": 1
         },
         {
          "day": 4,
          "mode": "binary",
          "num_days": 35,
          "v": 1
         },
         {
          "day": 5,
          "mode": "binary",
          "num_days": 35,
          "v": 1
         },
         {
          "day": 6,
          "mode": "binary",
          "num_days": 35,
          "v": 1
         },
         {
          "day": 7,
          "mode": "binary",
          "num_days": 35,
          "v": 0
         },
         {
          "day": 8,
          "mode": "binary",
          "num_days": 35,
          "v": 1
         },
         {
          "day": 9,
          "mode": "binary",
          "num_days": 35,
          "v": 1
         },
         {
          "day": 10,
          "mode": "binary",
          "num_days": 35,
          "v": 1
         },
         {
          "day": 11,
          "mode": "binary",
          "num_days": 35,
          "v": 0
         },
         {
          "day": 12,
          "mode": "binary",
          "num_days": 35,
          "v": 1
         },
         {
          "day": 13,
          "mode": "binary",
          "num_days": 35,
          "v": 1
         },
         {
          "day": 14,
          "mode": "binary",
          "num_days": 35,
          "v": 0
         },
         {
          "day": 15,
          "mode": "binary",
          "num_days": 35,
          "v": 1
         },
         {
          "day": 16,
          "mode": "binary",
          "num_days": 35,
          "v": 0
         },
         {
          "day": 17,
          "mode": "binary",
          "num_days": 35,
          "v": 1
         },
         {
          "day": 18,
          "mode": "binary",
          "num_days": 35,
          "v": 0
         },
         {
          "day": 19,
          "mode": "binary",
          "num_days": 35,
          "v": 1
         },
         {
          "day": 20,
          "mode": "binary",
          "num_days": 35,
          "v": 0
         },
         {
          "day": 21,
          "mode": "binary",
          "num_days": 35,
          "v": 1
         },
         {
          "day": 22,
          "mode": "binary",
          "num_days": 35,
          "v": 0
         },
         {
          "day": 23,
          "mode": "binary",
          "num_days": 35,
          "v": 1
         },
         {
          "day": 24,
          "mode": "binary",
          "num_days": 35,
          "v": 0
         },
         {
          "day": 25,
          "mode": "binary",
          "num_days": 35,
          "v": 0
         },
         {
          "day": 26,
          "mode": "binary",
          "num_days": 35,
          "v": 0
         },
         {
          "day": 27,
          "mode": "binary",
          "num_days": 35,
          "v": 1
         },
         {
          "day": 28,
          "mode": "binary",
          "num_days": 35,
          "v": 0
         },
         {
          "day": 29,
          "mode": "binary",
          "num_days": 35,
          "v": 0
         },
         {
          "day": 30,
          "mode": "binary",
          "num_days": 35,
          "v": 0
         },
         {
          "day": 31,
          "mode": "binary",
          "num_days": 35,
          "v": 0
         },
         {
          "day": 32,
          "mode": "binary",
          "num_days": 35,
          "v": 0
         },
         {
          "day": 33,
          "mode": "binary",
          "num_days": 35,
          "v": 0
         },
         {
          "day": 34,
          "mode": "binary",
          "num_days": 35,
          "v": 0
         },
         {
          "day": 35,
          "mode": "binary",
          "num_days": 35,
          "v": 0
         },
         {
          "day": 1,
          "mode": "continuous",
          "num_days": 42,
          "v": 1
         },
         {
          "day": 2,
          "mode": "continuous",
          "num_days": 42,
          "v": 0.975609756097561
         },
         {
          "day": 3,
          "mode": "continuous",
          "num_days": 42,
          "v": 0.9512195121951219
         },
         {
          "day": 4,
          "mode": "continuous",
          "num_days": 42,
          "v": 0.926829268292683
         },
         {
          "day": 5,
          "mode": "continuous",
          "num_days": 42,
          "v": 0.9024390243902439
         },
         {
          "day": 6,
          "mode": "continuous",
          "num_days": 42,
          "v": 0.8780487804878049
         },
         {
          "day": 7,
          "mode": "continuous",
          "num_days": 42,
          "v": 0.8536585365853658
         },
         {
          "day": 8,
          "mode": "continuous",
          "num_days": 42,
          "v": 0.8292682926829268
         },
         {
          "day": 9,
          "mode": "continuous",
          "num_days": 42,
          "v": 0.8048780487804879
         },
         {
          "day": 10,
          "mode": "continuous",
          "num_days": 42,
          "v": 0.7804878048780488
         },
         {
          "day": 11,
          "mode": "continuous",
          "num_days": 42,
          "v": 0.7560975609756098
         },
         {
          "day": 12,
          "mode": "continuous",
          "num_days": 42,
          "v": 0.7317073170731707
         },
         {
          "day": 13,
          "mode": "continuous",
          "num_days": 42,
          "v": 0.7073170731707317
         },
         {
          "day": 14,
          "mode": "continuous",
          "num_days": 42,
          "v": 0.6829268292682927
         },
         {
          "day": 15,
          "mode": "continuous",
          "num_days": 42,
          "v": 0.6585365853658537
         },
         {
          "day": 16,
          "mode": "continuous",
          "num_days": 42,
          "v": 0.6341463414634146
         },
         {
          "day": 17,
          "mode": "continuous",
          "num_days": 42,
          "v": 0.6097560975609756
         },
         {
          "day": 18,
          "mode": "continuous",
          "num_days": 42,
          "v": 0.5853658536585366
         },
         {
          "day": 19,
          "mode": "continuous",
          "num_days": 42,
          "v": 0.5609756097560976
         },
         {
          "day": 20,
          "mode": "continuous",
          "num_days": 42,
          "v": 0.5365853658536586
         },
         {
          "day": 21,
          "mode": "continuous",
          "num_days": 42,
          "v": 0.5121951219512195
         },
         {
          "day": 22,
          "mode": "continuous",
          "num_days": 42,
          "v": 0.4878048780487805
         },
         {
          "day": 23,
          "mode": "continuous",
          "num_days": 42,
          "v": 0.4634146341463415
         },
         {
          "day": 24,
          "mode": "continuous",
          "num_days": 42,
          "v": 0.43902439024390244
         },
         {
          "day": 25,
          "mode": "continuous",
          "num_days": 42,
          "v": 0.4146341463414634
         },
         {
          "day": 26,
          "mode": "continuous",
          "num_days": 42,
          "v": 0.3902439024390244
         },
         {
          "day": 27,
          "mode": "continuous",
          "num_days": 42,
          "v": 0.36585365853658536
         },
         {
          "day": 28,
          "mode": "continuous",
          "num_days": 42,
          "v": 0.34146341463414637
         },
         {
          "day": 29,
          "mode": "continuous",
          "num_days": 42,
          "v": 0.3170731707317073
         },
         {
          "day": 30,
          "mode": "continuous",
          "num_days": 42,
          "v": 0.2926829268292683
         },
         {
          "day": 31,
          "mode": "continuous",
          "num_days": 42,
          "v": 0.2682926829268293
         },
         {
          "day": 32,
          "mode": "continuous",
          "num_days": 42,
          "v": 0.24390243902439024
         },
         {
          "day": 33,
          "mode": "continuous",
          "num_days": 42,
          "v": 0.21951219512195122
         },
         {
          "day": 34,
          "mode": "continuous",
          "num_days": 42,
          "v": 0.1951219512195122
         },
         {
          "day": 35,
          "mode": "continuous",
          "num_days": 42,
          "v": 0.17073170731707318
         },
         {
          "day": 36,
          "mode": "continuous",
          "num_days": 42,
          "v": 0.14634146341463414
         },
         {
          "day": 37,
          "mode": "continuous",
          "num_days": 42,
          "v": 0.12195121951219512
         },
         {
          "day": 38,
          "mode": "continuous",
          "num_days": 42,
          "v": 0.0975609756097561
         },
         {
          "day": 39,
          "mode": "continuous",
          "num_days": 42,
          "v": 0.07317073170731707
         },
         {
          "day": 40,
          "mode": "continuous",
          "num_days": 42,
          "v": 0.04878048780487805
         },
         {
          "day": 41,
          "mode": "continuous",
          "num_days": 42,
          "v": 0.024390243902439025
         },
         {
          "day": 42,
          "mode": "continuous",
          "num_days": 42,
          "v": 0
         },
         {
          "day": 1,
          "mode": "binary",
          "num_days": 42,
          "v": 1
         },
         {
          "day": 2,
          "mode": "binary",
          "num_days": 42,
          "v": 1
         },
         {
          "day": 3,
          "mode": "binary",
          "num_days": 42,
          "v": 1
         },
         {
          "day": 4,
          "mode": "binary",
          "num_days": 42,
          "v": 1
         },
         {
          "day": 5,
          "mode": "binary",
          "num_days": 42,
          "v": 1
         },
         {
          "day": 6,
          "mode": "binary",
          "num_days": 42,
          "v": 1
         },
         {
          "day": 7,
          "mode": "binary",
          "num_days": 42,
          "v": 0
         },
         {
          "day": 8,
          "mode": "binary",
          "num_days": 42,
          "v": 1
         },
         {
          "day": 9,
          "mode": "binary",
          "num_days": 42,
          "v": 1
         },
         {
          "day": 10,
          "mode": "binary",
          "num_days": 42,
          "v": 1
         },
         {
          "day": 11,
          "mode": "binary",
          "num_days": 42,
          "v": 1
         },
         {
          "day": 12,
          "mode": "binary",
          "num_days": 42,
          "v": 0
         },
         {
          "day": 13,
          "mode": "binary",
          "num_days": 42,
          "v": 1
         },
         {
          "day": 14,
          "mode": "binary",
          "num_days": 42,
          "v": 1
         },
         {
          "day": 15,
          "mode": "binary",
          "num_days": 42,
          "v": 0
         },
         {
          "day": 16,
          "mode": "binary",
          "num_days": 42,
          "v": 1
         },
         {
          "day": 17,
          "mode": "binary",
          "num_days": 42,
          "v": 1
         },
         {
          "day": 18,
          "mode": "binary",
          "num_days": 42,
          "v": 0
         },
         {
          "day": 19,
          "mode": "binary",
          "num_days": 42,
          "v": 1
         },
         {
          "day": 20,
          "mode": "binary",
          "num_days": 42,
          "v": 0
         },
         {
          "day": 21,
          "mode": "binary",
          "num_days": 42,
          "v": 1
         },
         {
          "day": 22,
          "mode": "binary",
          "num_days": 42,
          "v": 0
         },
         {
          "day": 23,
          "mode": "binary",
          "num_days": 42,
          "v": 1
         },
         {
          "day": 24,
          "mode": "binary",
          "num_days": 42,
          "v": 0
         },
         {
          "day": 25,
          "mode": "binary",
          "num_days": 42,
          "v": 1
         },
         {
          "day": 26,
          "mode": "binary",
          "num_days": 42,
          "v": 0
         },
         {
          "day": 27,
          "mode": "binary",
          "num_days": 42,
          "v": 0
         },
         {
          "day": 28,
          "mode": "binary",
          "num_days": 42,
          "v": 1
         },
         {
          "day": 29,
          "mode": "binary",
          "num_days": 42,
          "v": 0
         },
         {
          "day": 30,
          "mode": "binary",
          "num_days": 42,
          "v": 0
         },
         {
          "day": 31,
          "mode": "binary",
          "num_days": 42,
          "v": 1
         },
         {
          "day": 32,
          "mode": "binary",
          "num_days": 42,
          "v": 0
         },
         {
          "day": 33,
          "mode": "binary",
          "num_days": 42,
          "v": 0
         },
         {
          "day": 34,
          "mode": "binary",
          "num_days": 42,
          "v": 0
         },
         {
          "day": 35,
          "mode": "binary",
          "num_days": 42,
          "v": 0
         },
         {
          "day": 36,
          "mode": "binary",
          "num_days": 42,
          "v": 1
         },
         {
          "day": 37,
          "mode": "binary",
          "num_days": 42,
          "v": 0
         },
         {
          "day": 38,
          "mode": "binary",
          "num_days": 42,
          "v": 0
         },
         {
          "day": 39,
          "mode": "binary",
          "num_days": 42,
          "v": 0
         },
         {
          "day": 40,
          "mode": "binary",
          "num_days": 42,
          "v": 0
         },
         {
          "day": 41,
          "mode": "binary",
          "num_days": 42,
          "v": 0
         },
         {
          "day": 42,
          "mode": "binary",
          "num_days": 42,
          "v": 0
         },
         {
          "day": 1,
          "mode": "continuous",
          "num_days": 49,
          "v": 1
         },
         {
          "day": 2,
          "mode": "continuous",
          "num_days": 49,
          "v": 0.9791666666666666
         },
         {
          "day": 3,
          "mode": "continuous",
          "num_days": 49,
          "v": 0.9583333333333334
         },
         {
          "day": 4,
          "mode": "continuous",
          "num_days": 49,
          "v": 0.9375
         },
         {
          "day": 5,
          "mode": "continuous",
          "num_days": 49,
          "v": 0.9166666666666666
         },
         {
          "day": 6,
          "mode": "continuous",
          "num_days": 49,
          "v": 0.8958333333333334
         },
         {
          "day": 7,
          "mode": "continuous",
          "num_days": 49,
          "v": 0.875
         },
         {
          "day": 8,
          "mode": "continuous",
          "num_days": 49,
          "v": 0.8541666666666666
         },
         {
          "day": 9,
          "mode": "continuous",
          "num_days": 49,
          "v": 0.8333333333333334
         },
         {
          "day": 10,
          "mode": "continuous",
          "num_days": 49,
          "v": 0.8125
         },
         {
          "day": 11,
          "mode": "continuous",
          "num_days": 49,
          "v": 0.7916666666666666
         },
         {
          "day": 12,
          "mode": "continuous",
          "num_days": 49,
          "v": 0.7708333333333334
         },
         {
          "day": 13,
          "mode": "continuous",
          "num_days": 49,
          "v": 0.75
         },
         {
          "day": 14,
          "mode": "continuous",
          "num_days": 49,
          "v": 0.7291666666666666
         },
         {
          "day": 15,
          "mode": "continuous",
          "num_days": 49,
          "v": 0.7083333333333334
         },
         {
          "day": 16,
          "mode": "continuous",
          "num_days": 49,
          "v": 0.6875
         },
         {
          "day": 17,
          "mode": "continuous",
          "num_days": 49,
          "v": 0.6666666666666666
         },
         {
          "day": 18,
          "mode": "continuous",
          "num_days": 49,
          "v": 0.6458333333333334
         },
         {
          "day": 19,
          "mode": "continuous",
          "num_days": 49,
          "v": 0.625
         },
         {
          "day": 20,
          "mode": "continuous",
          "num_days": 49,
          "v": 0.6041666666666666
         },
         {
          "day": 21,
          "mode": "continuous",
          "num_days": 49,
          "v": 0.5833333333333334
         },
         {
          "day": 22,
          "mode": "continuous",
          "num_days": 49,
          "v": 0.5625
         },
         {
          "day": 23,
          "mode": "continuous",
          "num_days": 49,
          "v": 0.5416666666666666
         },
         {
          "day": 24,
          "mode": "continuous",
          "num_days": 49,
          "v": 0.5208333333333334
         },
         {
          "day": 25,
          "mode": "continuous",
          "num_days": 49,
          "v": 0.5
         },
         {
          "day": 26,
          "mode": "continuous",
          "num_days": 49,
          "v": 0.4791666666666667
         },
         {
          "day": 27,
          "mode": "continuous",
          "num_days": 49,
          "v": 0.4583333333333333
         },
         {
          "day": 28,
          "mode": "continuous",
          "num_days": 49,
          "v": 0.4375
         },
         {
          "day": 29,
          "mode": "continuous",
          "num_days": 49,
          "v": 0.4166666666666667
         },
         {
          "day": 30,
          "mode": "continuous",
          "num_days": 49,
          "v": 0.3958333333333333
         },
         {
          "day": 31,
          "mode": "continuous",
          "num_days": 49,
          "v": 0.375
         },
         {
          "day": 32,
          "mode": "continuous",
          "num_days": 49,
          "v": 0.3541666666666667
         },
         {
          "day": 33,
          "mode": "continuous",
          "num_days": 49,
          "v": 0.3333333333333333
         },
         {
          "day": 34,
          "mode": "continuous",
          "num_days": 49,
          "v": 0.3125
         },
         {
          "day": 35,
          "mode": "continuous",
          "num_days": 49,
          "v": 0.2916666666666667
         },
         {
          "day": 36,
          "mode": "continuous",
          "num_days": 49,
          "v": 0.2708333333333333
         },
         {
          "day": 37,
          "mode": "continuous",
          "num_days": 49,
          "v": 0.25
         },
         {
          "day": 38,
          "mode": "continuous",
          "num_days": 49,
          "v": 0.22916666666666666
         },
         {
          "day": 39,
          "mode": "continuous",
          "num_days": 49,
          "v": 0.20833333333333334
         },
         {
          "day": 40,
          "mode": "continuous",
          "num_days": 49,
          "v": 0.1875
         },
         {
          "day": 41,
          "mode": "continuous",
          "num_days": 49,
          "v": 0.16666666666666666
         },
         {
          "day": 42,
          "mode": "continuous",
          "num_days": 49,
          "v": 0.14583333333333334
         },
         {
          "day": 43,
          "mode": "continuous",
          "num_days": 49,
          "v": 0.125
         },
         {
          "day": 44,
          "mode": "continuous",
          "num_days": 49,
          "v": 0.10416666666666667
         },
         {
          "day": 45,
          "mode": "continuous",
          "num_days": 49,
          "v": 0.08333333333333333
         },
         {
          "day": 46,
          "mode": "continuous",
          "num_days": 49,
          "v": 0.0625
         },
         {
          "day": 47,
          "mode": "continuous",
          "num_days": 49,
          "v": 0.041666666666666664
         },
         {
          "day": 48,
          "mode": "continuous",
          "num_days": 49,
          "v": 0.020833333333333332
         },
         {
          "day": 49,
          "mode": "continuous",
          "num_days": 49,
          "v": 0
         },
         {
          "day": 1,
          "mode": "binary",
          "num_days": 49,
          "v": 1
         },
         {
          "day": 2,
          "mode": "binary",
          "num_days": 49,
          "v": 1
         },
         {
          "day": 3,
          "mode": "binary",
          "num_days": 49,
          "v": 1
         },
         {
          "day": 4,
          "mode": "binary",
          "num_days": 49,
          "v": 1
         },
         {
          "day": 5,
          "mode": "binary",
          "num_days": 49,
          "v": 1
         },
         {
          "day": 6,
          "mode": "binary",
          "num_days": 49,
          "v": 1
         },
         {
          "day": 7,
          "mode": "binary",
          "num_days": 49,
          "v": 1
         },
         {
          "day": 8,
          "mode": "binary",
          "num_days": 49,
          "v": 0
         },
         {
          "day": 9,
          "mode": "binary",
          "num_days": 49,
          "v": 1
         },
         {
          "day": 10,
          "mode": "binary",
          "num_days": 49,
          "v": 1
         },
         {
          "day": 11,
          "mode": "binary",
          "num_days": 49,
          "v": 1
         },
         {
          "day": 12,
          "mode": "binary",
          "num_days": 49,
          "v": 1
         },
         {
          "day": 13,
          "mode": "binary",
          "num_days": 49,
          "v": 0
         },
         {
          "day": 14,
          "mode": "binary",
          "num_days": 49,
          "v": 1
         },
         {
          "day": 15,
          "mode": "binary",
          "num_days": 49,
          "v": 1
         },
         {
          "day": 16,
          "mode": "binary",
          "num_days": 49,
          "v": 0
         },
         {
          "day": 17,
          "mode": "binary",
          "num_days": 49,
          "v": 1
         },
         {
          "day": 18,
          "mode": "binary",
          "num_days": 49,
          "v": 1
         },
         {
          "day": 19,
          "mode": "binary",
          "num_days": 49,
          "v": 0
         },
         {
          "day": 20,
          "mode": "binary",
          "num_days": 49,
          "v": 1
         },
         {
          "day": 21,
          "mode": "binary",
          "num_days": 49,
          "v": 1
         },
         {
          "day": 22,
          "mode": "binary",
          "num_days": 49,
          "v": 0
         },
         {
          "day": 23,
          "mode": "binary",
          "num_days": 49,
          "v": 1
         },
         {
          "day": 24,
          "mode": "binary",
          "num_days": 49,
          "v": 0
         },
         {
          "day": 25,
          "mode": "binary",
          "num_days": 49,
          "v": 1
         },
         {
          "day": 26,
          "mode": "binary",
          "num_days": 49,
          "v": 0
         },
         {
          "day": 27,
          "mode": "binary",
          "num_days": 49,
          "v": 1
         },
         {
          "day": 28,
          "mode": "binary",
          "num_days": 49,
          "v": 0
         },
         {
          "day": 29,
          "mode": "binary",
          "num_days": 49,
          "v": 1
         },
         {
          "day": 30,
          "mode": "binary",
          "num_days": 49,
          "v": 0
         },
         {
          "day": 31,
          "mode": "binary",
          "num_days": 49,
          "v": 0
         },
         {
          "day": 32,
          "mode": "binary",
          "num_days": 49,
          "v": 1
         },
         {
          "day": 33,
          "mode": "binary",
          "num_days": 49,
          "v": 0
         },
         {
          "day": 34,
          "mode": "binary",
          "num_days": 49,
          "v": 0
         },
         {
          "day": 35,
          "mode": "binary",
          "num_days": 49,
          "v": 1
         },
         {
          "day": 36,
          "mode": "binary",
          "num_days": 49,
          "v": 0
         },
         {
          "day": 37,
          "mode": "binary",
          "num_days": 49,
          "v": 0
         },
         {
          "day": 38,
          "mode": "binary",
          "num_days": 49,
          "v": 0
         },
         {
          "day": 39,
          "mode": "binary",
          "num_days": 49,
          "v": 1
         },
         {
          "day": 40,
          "mode": "binary",
          "num_days": 49,
          "v": 0
         },
         {
          "day": 41,
          "mode": "binary",
          "num_days": 49,
          "v": 0
         },
         {
          "day": 42,
          "mode": "binary",
          "num_days": 49,
          "v": 0
         },
         {
          "day": 43,
          "mode": "binary",
          "num_days": 49,
          "v": 0
         },
         {
          "day": 44,
          "mode": "binary",
          "num_days": 49,
          "v": 0
         },
         {
          "day": 45,
          "mode": "binary",
          "num_days": 49,
          "v": 0
         },
         {
          "day": 46,
          "mode": "binary",
          "num_days": 49,
          "v": 0
         },
         {
          "day": 47,
          "mode": "binary",
          "num_days": 49,
          "v": 0
         },
         {
          "day": 48,
          "mode": "binary",
          "num_days": 49,
          "v": 0
         },
         {
          "day": 49,
          "mode": "binary",
          "num_days": 49,
          "v": 0
         },
         {
          "day": 1,
          "mode": "continuous",
          "num_days": 56,
          "v": 1
         },
         {
          "day": 2,
          "mode": "continuous",
          "num_days": 56,
          "v": 0.9818181818181818
         },
         {
          "day": 3,
          "mode": "continuous",
          "num_days": 56,
          "v": 0.9636363636363636
         },
         {
          "day": 4,
          "mode": "continuous",
          "num_days": 56,
          "v": 0.9454545454545454
         },
         {
          "day": 5,
          "mode": "continuous",
          "num_days": 56,
          "v": 0.9272727272727272
         },
         {
          "day": 6,
          "mode": "continuous",
          "num_days": 56,
          "v": 0.9090909090909091
         },
         {
          "day": 7,
          "mode": "continuous",
          "num_days": 56,
          "v": 0.8909090909090909
         },
         {
          "day": 8,
          "mode": "continuous",
          "num_days": 56,
          "v": 0.8727272727272727
         },
         {
          "day": 9,
          "mode": "continuous",
          "num_days": 56,
          "v": 0.8545454545454545
         },
         {
          "day": 10,
          "mode": "continuous",
          "num_days": 56,
          "v": 0.8363636363636363
         },
         {
          "day": 11,
          "mode": "continuous",
          "num_days": 56,
          "v": 0.8181818181818182
         },
         {
          "day": 12,
          "mode": "continuous",
          "num_days": 56,
          "v": 0.8
         },
         {
          "day": 13,
          "mode": "continuous",
          "num_days": 56,
          "v": 0.7818181818181819
         },
         {
          "day": 14,
          "mode": "continuous",
          "num_days": 56,
          "v": 0.7636363636363637
         },
         {
          "day": 15,
          "mode": "continuous",
          "num_days": 56,
          "v": 0.7454545454545455
         },
         {
          "day": 16,
          "mode": "continuous",
          "num_days": 56,
          "v": 0.7272727272727273
         },
         {
          "day": 17,
          "mode": "continuous",
          "num_days": 56,
          "v": 0.7090909090909091
         },
         {
          "day": 18,
          "mode": "continuous",
          "num_days": 56,
          "v": 0.6909090909090909
         },
         {
          "day": 19,
          "mode": "continuous",
          "num_days": 56,
          "v": 0.6727272727272727
         },
         {
          "day": 20,
          "mode": "continuous",
          "num_days": 56,
          "v": 0.6545454545454545
         },
         {
          "day": 21,
          "mode": "continuous",
          "num_days": 56,
          "v": 0.6363636363636364
         },
         {
          "day": 22,
          "mode": "continuous",
          "num_days": 56,
          "v": 0.6181818181818182
         },
         {
          "day": 23,
          "mode": "continuous",
          "num_days": 56,
          "v": 0.6
         },
         {
          "day": 24,
          "mode": "continuous",
          "num_days": 56,
          "v": 0.5818181818181818
         },
         {
          "day": 25,
          "mode": "continuous",
          "num_days": 56,
          "v": 0.5636363636363636
         },
         {
          "day": 26,
          "mode": "continuous",
          "num_days": 56,
          "v": 0.5454545454545454
         },
         {
          "day": 27,
          "mode": "continuous",
          "num_days": 56,
          "v": 0.5272727272727272
         },
         {
          "day": 28,
          "mode": "continuous",
          "num_days": 56,
          "v": 0.509090909090909
         },
         {
          "day": 29,
          "mode": "continuous",
          "num_days": 56,
          "v": 0.4909090909090909
         },
         {
          "day": 30,
          "mode": "continuous",
          "num_days": 56,
          "v": 0.4727272727272727
         },
         {
          "day": 31,
          "mode": "continuous",
          "num_days": 56,
          "v": 0.45454545454545453
         },
         {
          "day": 32,
          "mode": "continuous",
          "num_days": 56,
          "v": 0.43636363636363634
         },
         {
          "day": 33,
          "mode": "continuous",
          "num_days": 56,
          "v": 0.41818181818181815
         },
         {
          "day": 34,
          "mode": "continuous",
          "num_days": 56,
          "v": 0.4
         },
         {
          "day": 35,
          "mode": "continuous",
          "num_days": 56,
          "v": 0.38181818181818183
         },
         {
          "day": 36,
          "mode": "continuous",
          "num_days": 56,
          "v": 0.36363636363636365
         },
         {
          "day": 37,
          "mode": "continuous",
          "num_days": 56,
          "v": 0.34545454545454546
         },
         {
          "day": 38,
          "mode": "continuous",
          "num_days": 56,
          "v": 0.32727272727272727
         },
         {
          "day": 39,
          "mode": "continuous",
          "num_days": 56,
          "v": 0.3090909090909091
         },
         {
          "day": 40,
          "mode": "continuous",
          "num_days": 56,
          "v": 0.2909090909090909
         },
         {
          "day": 41,
          "mode": "continuous",
          "num_days": 56,
          "v": 0.2727272727272727
         },
         {
          "day": 42,
          "mode": "continuous",
          "num_days": 56,
          "v": 0.2545454545454545
         },
         {
          "day": 43,
          "mode": "continuous",
          "num_days": 56,
          "v": 0.23636363636363636
         },
         {
          "day": 44,
          "mode": "continuous",
          "num_days": 56,
          "v": 0.21818181818181817
         },
         {
          "day": 45,
          "mode": "continuous",
          "num_days": 56,
          "v": 0.2
         },
         {
          "day": 46,
          "mode": "continuous",
          "num_days": 56,
          "v": 0.18181818181818182
         },
         {
          "day": 47,
          "mode": "continuous",
          "num_days": 56,
          "v": 0.16363636363636364
         },
         {
          "day": 48,
          "mode": "continuous",
          "num_days": 56,
          "v": 0.14545454545454545
         },
         {
          "day": 49,
          "mode": "continuous",
          "num_days": 56,
          "v": 0.12727272727272726
         },
         {
          "day": 50,
          "mode": "continuous",
          "num_days": 56,
          "v": 0.10909090909090909
         },
         {
          "day": 51,
          "mode": "continuous",
          "num_days": 56,
          "v": 0.09090909090909091
         },
         {
          "day": 52,
          "mode": "continuous",
          "num_days": 56,
          "v": 0.07272727272727272
         },
         {
          "day": 53,
          "mode": "continuous",
          "num_days": 56,
          "v": 0.05454545454545454
         },
         {
          "day": 54,
          "mode": "continuous",
          "num_days": 56,
          "v": 0.03636363636363636
         },
         {
          "day": 55,
          "mode": "continuous",
          "num_days": 56,
          "v": 0.01818181818181818
         },
         {
          "day": 56,
          "mode": "continuous",
          "num_days": 56,
          "v": 0
         },
         {
          "day": 1,
          "mode": "binary",
          "num_days": 56,
          "v": 1
         },
         {
          "day": 2,
          "mode": "binary",
          "num_days": 56,
          "v": 1
         },
         {
          "day": 3,
          "mode": "binary",
          "num_days": 56,
          "v": 1
         },
         {
          "day": 4,
          "mode": "binary",
          "num_days": 56,
          "v": 1
         },
         {
          "day": 5,
          "mode": "binary",
          "num_days": 56,
          "v": 1
         },
         {
          "day": 6,
          "mode": "binary",
          "num_days": 56,
          "v": 1
         },
         {
          "day": 7,
          "mode": "binary",
          "num_days": 56,
          "v": 1
         },
         {
          "day": 8,
          "mode": "binary",
          "num_days": 56,
          "v": 0
         },
         {
          "day": 9,
          "mode": "binary",
          "num_days": 56,
          "v": 1
         },
         {
          "day": 10,
          "mode": "binary",
          "num_days": 56,
          "v": 1
         },
         {
          "day": 11,
          "mode": "binary",
          "num_days": 56,
          "v": 1
         },
         {
          "day": 12,
          "mode": "binary",
          "num_days": 56,
          "v": 1
         },
         {
          "day": 13,
          "mode": "binary",
          "num_days": 56,
          "v": 1
         },
         {
          "day": 14,
          "mode": "binary",
          "num_days": 56,
          "v": 0
         },
         {
          "day": 15,
          "mode": "binary",
          "num_days": 56,
          "v": 1
         },
         {
          "day": 16,
          "mode": "binary",
          "num_days": 56,
          "v": 1
         },
         {
          "day": 17,
          "mode": "binary",
          "num_days": 56,
          "v": 1
         },
         {
          "day": 18,
          "mode": "binary",
          "num_days": 56,
          "v": 0
         },
         {
          "day": 19,
          "mode": "binary",
          "num_days": 56,
          "v": 1
         },
         {
          "day": 20,
          "mode": "binary",
          "num_days": 56,
          "v": 1
         },
         {
          "day": 21,
          "mode": "binary",
          "num_days": 56,
          "v": 0
         },
         {
          "day": 22,
          "mode": "binary",
          "num_days": 56,
          "v": 1
         },
         {
          "day": 23,
          "mode": "binary",
          "num_days": 56,
          "v": 0
         },
         {
          "day": 24,
          "mode": "binary",
          "num_days": 56,
          "v": 1
         },
         {
          "day": 25,
          "mode": "binary",
          "num_days": 56,
          "v": 1
         },
         {
          "day": 26,
          "mode": "binary",
          "num_days": 56,
          "v": 0
         },
         {
          "day": 27,
          "mode": "binary",
          "num_days": 56,
          "v": 1
         },
         {
          "day": 28,
          "mode": "binary",
          "num_days": 56,
          "v": 0
         },
         {
          "day": 29,
          "mode": "binary",
          "num_days": 56,
          "v": 1
         },
         {
          "day": 30,
          "mode": "binary",
          "num_days": 56,
          "v": 0
         },
         {
          "day": 31,
          "mode": "binary",
          "num_days": 56,
          "v": 1
         },
         {
          "day": 32,
          "mode": "binary",
          "num_days": 56,
          "v": 0
         },
         {
          "day": 33,
          "mode": "binary",
          "num_days": 56,
          "v": 0
         },
         {
          "day": 34,
          "mode": "binary",
          "num_days": 56,
          "v": 1
         },
         {
          "day": 35,
          "mode": "binary",
          "num_days": 56,
          "v": 0
         },
         {
          "day": 36,
          "mode": "binary",
          "num_days": 56,
          "v": 1
         },
         {
          "day": 37,
          "mode": "binary",
          "num_days": 56,
          "v": 0
         },
         {
          "day": 38,
          "mode": "binary",
          "num_days": 56,
          "v": 0
         },
         {
          "day": 39,
          "mode": "binary",
          "num_days": 56,
          "v": 1
         },
         {
          "day": 40,
          "mode": "binary",
          "num_days": 56,
          "v": 0
         },
         {
          "day": 41,
          "mode": "binary",
          "num_days": 56,
          "v": 0
         },
         {
          "day": 42,
          "mode": "binary",
          "num_days": 56,
          "v": 0
         },
         {
          "day": 43,
          "mode": "binary",
          "num_days": 56,
          "v": 1
         },
         {
          "day": 44,
          "mode": "binary",
          "num_days": 56,
          "v": 0
         },
         {
          "day": 45,
          "mode": "binary",
          "num_days": 56,
          "v": 0
         },
         {
          "day": 46,
          "mode": "binary",
          "num_days": 56,
          "v": 0
         },
         {
          "day": 47,
          "mode": "binary",
          "num_days": 56,
          "v": 0
         },
         {
          "day": 48,
          "mode": "binary",
          "num_days": 56,
          "v": 0
         },
         {
          "day": 49,
          "mode": "binary",
          "num_days": 56,
          "v": 1
         },
         {
          "day": 50,
          "mode": "binary",
          "num_days": 56,
          "v": 0
         },
         {
          "day": 51,
          "mode": "binary",
          "num_days": 56,
          "v": 0
         },
         {
          "day": 52,
          "mode": "binary",
          "num_days": 56,
          "v": 0
         },
         {
          "day": 53,
          "mode": "binary",
          "num_days": 56,
          "v": 0
         },
         {
          "day": 54,
          "mode": "binary",
          "num_days": 56,
          "v": 0
         },
         {
          "day": 55,
          "mode": "binary",
          "num_days": 56,
          "v": 0
         },
         {
          "day": 56,
          "mode": "binary",
          "num_days": 56,
          "v": 0
         }
        ]
       },
       "encoding": {
        "color": {
         "field": "mode",
         "type": "nominal"
        },
        "row": {
         "field": "num_days",
         "type": "nominal"
        },
        "x": {
         "field": "day",
         "type": "ordinal"
        },
        "y": {
         "field": "v",
         "stack": null,
         "type": "quantitative"
        }
       },
       "height": 40,
       "mark": {
        "opacity": 0.7,
        "type": "bar"
       },
       "width": 500
      },
      "image/png": "[encoded data removed]",
      "image/svg+xml": [
       "<?xml version=\"1.0\" encoding=\"utf-8\"?>\n",
       "<!DOCTYPE svg PUBLIC \"-//W3C//DTD SVG 1.1//EN\" \"http://www.w3.org/Graphics/SVG/1.1/DTD/svg11.dtd\">\n",
       "<svg class=\"marks\" width=\"727\" height=\"462\" viewBox=\"0 0 727 462\" version=\"1.1\" xmlns=\"http://www.w3.org/2000/svg\" xmlns:xlink=\"http://www.w3.org/1999/xlink\"><g transform=\"translate(106,11)\"><g class=\"mark-group role-frame root\"><g transform=\"translate(0,0)\"><path class=\"background\" d=\"M0,0h0v0h0Z\" style=\"fill: none;\"></path><g><g class=\"mark-group role-row-title row-title\"><g transform=\"translate(-79,202)\"><path class=\"background\" d=\"M0,0h0v0h0Z\" style=\"fill: none;\"></path><g><g class=\"mark-text role-title\" style=\"pointer-events: none;\"><text text-anchor=\"middle\" transform=\"translate(-10,0) rotate(-90) translate(0,-2)\" style=\"font-family: sans-serif; font-size: 11px; font-weight: bold; fill: #000; opacity: 1;\">num_days</text></g></g></g></g><g class=\"mark-group role-row-header row_header\"><g transform=\"translate(-1,0)\"><path class=\"background\" d=\"M0,0h0v40h0Z\" style=\"fill: none;\"></path><g><g class=\"mark-text role-title\" style=\"pointer-events: none;\"><text text-anchor=\"middle\" transform=\"translate(-57,20) rotate(-90) translate(0,-2)\" style=\"font-family: sans-serif; font-size: 10px; fill: #000; opacity: 1;\">7</text></g><g class=\"mark-group role-axis\"><g transform=\"translate(0.5,0.5)\"><path class=\"background\" d=\"M0,0h0v0h0Z\" style=\"pointer-events: none; fill: none;\"></path><g><g class=\"mark-rule role-axis-tick\" style=\"pointer-events: none;\"><line transform=\"translate(0,40)\" x2=\"-5\" y2=\"0\" style=\"fill: none; stroke: #888; stroke-width: 1; opacity: 1;\"></line><line transform=\"translate(0,0)\" x2=\"-5\" y2=\"0\" style=\"fill: none; stroke: #888; stroke-width: 1; opacity: 1;\"></line></g><g class=\"mark-text role-axis-label\" style=\"pointer-events: none;\"><text text-anchor=\"end\" transform=\"translate(-7,43)\" style=\"font-family: sans-serif; font-size: 10px; fill: #000; opacity: 1;\">0</text><text text-anchor=\"end\" transform=\"translate(-7,3)\" style=\"font-family: sans-serif; font-size: 10px; fill: #000; opacity: 1;\">1</text></g><g class=\"mark-rule role-axis-domain\" style=\"pointer-events: none;\"><line transform=\"translate(0,40)\" x2=\"0\" y2=\"-40\" style=\"fill: none; stroke: #888; stroke-width: 1; opacity: 1;\"></line></g><g class=\"mark-text role-axis-title\" style=\"pointer-events: none;\"><text text-anchor=\"middle\" transform=\"translate(-34,20) rotate(-90) translate(0,-2)\" style=\"font-family: sans-serif; font-size: 11px; font-weight: bold; fill: #000; opacity: 1;\">v</text></g></g></g></g></g></g><g transform=\"translate(-1,52)\"><path class=\"background\" d=\"M0,0h0v40h0Z\" style=\"fill: none;\"></path><g><g class=\"mark-text role-title\" style=\"pointer-events: none;\"><text text-anchor=\"middle\" transform=\"translate(-57,20) rotate(-90) translate(0,-2)\" style=\"font-family: sans-serif; font-size: 10px; fill: #000; opacity: 1;\">14</text></g><g class=\"mark-group role-axis\"><g transform=\"translate(0.5,0.5)\"><path class=\"background\" d=\"M0,0h0v0h0Z\" style=\"pointer-events: none; fill: none;\"></path><g><g class=\"mark-rule role-axis-tick\" style=\"pointer-events: none;\"><line transform=\"translate(0,40)\" x2=\"-5\" y2=\"0\" style=\"fill: none; stroke: #888; stroke-width: 1; opacity: 1;\"></line><line transform=\"translate(0,0)\" x2=\"-5\" y2=\"0\" style=\"fill: none; stroke: #888; stroke-width: 1; opacity: 1;\"></line></g><g class=\"mark-text role-axis-label\" style=\"pointer-events: none;\"><text text-anchor=\"end\" transform=\"translate(-7,43)\" style=\"font-family: sans-serif; font-size: 10px; fill: #000; opacity: 1;\">0</text><text text-anchor=\"end\" transform=\"translate(-7,3)\" style=\"font-family: sans-serif; font-size: 10px; fill: #000; opacity: 1;\">1</text></g><g class=\"mark-rule role-axis-domain\" style=\"pointer-events: none;\"><line transform=\"translate(0,40)\" x2=\"0\" y2=\"-40\" style=\"fill: none; stroke: #888; stroke-width: 1; opacity: 1;\"></line></g><g class=\"mark-text role-axis-title\" style=\"pointer-events: none;\"><text text-anchor=\"middle\" transform=\"translate(-34,20) rotate(-90) translate(0,-2)\" style=\"font-family: sans-serif; font-size: 11px; font-weight: bold; fill: #000; opacity: 1;\">v</text></g></g></g></g></g></g><g transform=\"translate(-1,104)\"><path class=\"background\" d=\"M0,0h0v40h0Z\" style=\"fill: none;\"></path><g><g class=\"mark-text role-title\" style=\"pointer-events: none;\"><text text-anchor=\"middle\" transform=\"translate(-57,20) rotate(-90) translate(0,-2)\" style=\"font-family: sans-serif; font-size: 10px; fill: #000; opacity: 1;\">21</text></g><g class=\"mark-group role-axis\"><g transform=\"translate(0.5,0.5)\"><path class=\"background\" d=\"M0,0h0v0h0Z\" style=\"pointer-events: none; fill: none;\"></path><g><g class=\"mark-rule role-axis-tick\" style=\"pointer-events: none;\"><line transform=\"translate(0,40)\" x2=\"-5\" y2=\"0\" style=\"fill: none; stroke: #888; stroke-width: 1; opacity: 1;\"></line><line transform=\"translate(0,0)\" x2=\"-5\" y2=\"0\" style=\"fill: none; stroke: #888; stroke-width: 1; opacity: 1;\"></line></g><g class=\"mark-text role-axis-label\" style=\"pointer-events: none;\"><text text-anchor=\"end\" transform=\"translate(-7,43)\" style=\"font-family: sans-serif; font-size: 10px; fill: #000; opacity: 1;\">0</text><text text-anchor=\"end\" transform=\"translate(-7,3)\" style=\"font-family: sans-serif; font-size: 10px; fill: #000; opacity: 1;\">1</text></g><g class=\"mark-rule role-axis-domain\" style=\"pointer-events: none;\"><line transform=\"translate(0,40)\" x2=\"0\" y2=\"-40\" style=\"fill: none; stroke: #888; stroke-width: 1; opacity: 1;\"></line></g><g class=\"mark-text role-axis-title\" style=\"pointer-events: none;\"><text text-anchor=\"middle\" transform=\"translate(-34,20) rotate(-90) translate(0,-2)\" style=\"font-family: sans-serif; font-size: 11px; font-weight: bold; fill: #000; opacity: 1;\">v</text></g></g></g></g></g></g><g transform=\"translate(-1,156)\"><path class=\"background\" d=\"M0,0h0v40h0Z\" style=\"fill: none;\"></path><g><g class=\"mark-text role-title\" style=\"pointer-events: none;\"><text text-anchor=\"middle\" transform=\"translate(-57,20) rotate(-90) translate(0,-2)\" style=\"font-family: sans-serif; font-size: 10px; fill: #000; opacity: 1;\">28</text></g><g class=\"mark-group role-axis\"><g transform=\"translate(0.5,0.5)\"><path class=\"background\" d=\"M0,0h0v0h0Z\" style=\"pointer-events: none; fill: none;\"></path><g><g class=\"mark-rule role-axis-tick\" style=\"pointer-events: none;\"><line transform=\"translate(0,40)\" x2=\"-5\" y2=\"0\" style=\"fill: none; stroke: #888; stroke-width: 1; opacity: 1;\"></line><line transform=\"translate(0,0)\" x2=\"-5\" y2=\"0\" style=\"fill: none; stroke: #888; stroke-width: 1; opacity: 1;\"></line></g><g class=\"mark-text role-axis-label\" style=\"pointer-events: none;\"><text text-anchor=\"end\" transform=\"translate(-7,43)\" style=\"font-family: sans-serif; font-size: 10px; fill: #000; opacity: 1;\">0</text><text text-anchor=\"end\" transform=\"translate(-7,3)\" style=\"font-family: sans-serif; font-size: 10px; fill: #000; opacity: 1;\">1</text></g><g class=\"mark-rule role-axis-domain\" style=\"pointer-events: none;\"><line transform=\"translate(0,40)\" x2=\"0\" y2=\"-40\" style=\"fill: none; stroke: #888; stroke-width: 1; opacity: 1;\"></line></g><g class=\"mark-text role-axis-title\" style=\"pointer-events: none;\"><text text-anchor=\"middle\" transform=\"translate(-34,20) rotate(-90) translate(0,-2)\" style=\"font-family: sans-serif; font-size: 11px; font-weight: bold; fill: #000; opacity: 1;\">v</text></g></g></g></g></g></g><g transform=\"translate(-1,208)\"><path class=\"background\" d=\"M0,0h0v40h0Z\" style=\"fill: none;\"></path><g><g class=\"mark-text role-title\" style=\"pointer-events: none;\"><text text-anchor=\"middle\" transform=\"translate(-57,20) rotate(-90) translate(0,-2)\" style=\"font-family: sans-serif; font-size: 10px; fill: #000; opacity: 1;\">35</text></g><g class=\"mark-group role-axis\"><g transform=\"translate(0.5,0.5)\"><path class=\"background\" d=\"M0,0h0v0h0Z\" style=\"pointer-events: none; fill: none;\"></path><g><g class=\"mark-rule role-axis-tick\" style=\"pointer-events: none;\"><line transform=\"translate(0,40)\" x2=\"-5\" y2=\"0\" style=\"fill: none; stroke: #888; stroke-width: 1; opacity: 1;\"></line><line transform=\"translate(0,0)\" x2=\"-5\" y2=\"0\" style=\"fill: none; stroke: #888; stroke-width: 1; opacity: 1;\"></line></g><g class=\"mark-text role-axis-label\" style=\"pointer-events: none;\"><text text-anchor=\"end\" transform=\"translate(-7,43)\" style=\"font-family: sans-serif; font-size: 10px; fill: #000; opacity: 1;\">0</text><text text-anchor=\"end\" transform=\"translate(-7,3)\" style=\"font-family: sans-serif; font-size: 10px; fill: #000; opacity: 1;\">1</text></g><g class=\"mark-rule role-axis-domain\" style=\"pointer-events: none;\"><line transform=\"translate(0,40)\" x2=\"0\" y2=\"-40\" style=\"fill: none; stroke: #888; stroke-width: 1; opacity: 1;\"></line></g><g class=\"mark-text role-axis-title\" style=\"pointer-events: none;\"><text text-anchor=\"middle\" transform=\"translate(-34,20) rotate(-90) translate(0,-2)\" style=\"font-family: sans-serif; font-size: 11px; font-weight: bold; fill: #000; opacity: 1;\">v</text></g></g></g></g></g></g><g transform=\"translate(-1,260)\"><path class=\"background\" d=\"M0,0h0v40h0Z\" style=\"fill: none;\"></path><g><g class=\"mark-text role-title\" style=\"pointer-events: none;\"><text text-anchor=\"middle\" transform=\"translate(-57,20) rotate(-90) translate(0,-2)\" style=\"font-family: sans-serif; font-size: 10px; fill: #000; opacity: 1;\">42</text></g><g class=\"mark-group role-axis\"><g transform=\"translate(0.5,0.5)\"><path class=\"background\" d=\"M0,0h0v0h0Z\" style=\"pointer-events: none; fill: none;\"></path><g><g class=\"mark-rule role-axis-tick\" style=\"pointer-events: none;\"><line transform=\"translate(0,40)\" x2=\"-5\" y2=\"0\" style=\"fill: none; stroke: #888; stroke-width: 1; opacity: 1;\"></line><line transform=\"translate(0,0)\" x2=\"-5\" y2=\"0\" style=\"fill: none; stroke: #888; stroke-width: 1; opacity: 1;\"></line></g><g class=\"mark-text role-axis-label\" style=\"pointer-events: none;\"><text text-anchor=\"end\" transform=\"translate(-7,43)\" style=\"font-family: sans-serif; font-size: 10px; fill: #000; opacity: 1;\">0</text><text text-anchor=\"end\" transform=\"translate(-7,3)\" style=\"font-family: sans-serif; font-size: 10px; fill: #000; opacity: 1;\">1</text></g><g class=\"mark-rule role-axis-domain\" style=\"pointer-events: none;\"><line transform=\"translate(0,40)\" x2=\"0\" y2=\"-40\" style=\"fill: none; stroke: #888; stroke-width: 1; opacity: 1;\"></line></g><g class=\"mark-text role-axis-title\" style=\"pointer-events: none;\"><text text-anchor=\"middle\" transform=\"translate(-34,20) rotate(-90) translate(0,-2)\" style=\"font-family: sans-serif; font-size: 11px; font-weight: bold; fill: #000; opacity: 1;\">v</text></g></g></g></g></g></g><g transform=\"translate(-1,312)\"><path class=\"background\" d=\"M0,0h0v40h0Z\" style=\"fill: none;\"></path><g><g class=\"mark-text role-title\" style=\"pointer-events: none;\"><text text-anchor=\"middle\" transform=\"translate(-57,20) rotate(-90) translate(0,-2)\" style=\"font-family: sans-serif; font-size: 10px; fill: #000; opacity: 1;\">49</text></g><g class=\"mark-group role-axis\"><g transform=\"translate(0.5,0.5)\"><path class=\"background\" d=\"M0,0h0v0h0Z\" style=\"pointer-events: none; fill: none;\"></path><g><g class=\"mark-rule role-axis-tick\" style=\"pointer-events: none;\"><line transform=\"translate(0,40)\" x2=\"-5\" y2=\"0\" style=\"fill: none; stroke: #888; stroke-width: 1; opacity: 1;\"></line><line transform=\"translate(0,0)\" x2=\"-5\" y2=\"0\" style=\"fill: none; stroke: #888; stroke-width: 1; opacity: 1;\"></line></g><g class=\"mark-text role-axis-label\" style=\"pointer-events: none;\"><text text-anchor=\"end\" transform=\"translate(-7,43)\" style=\"font-family: sans-serif; font-size: 10px; fill: #000; opacity: 1;\">0</text><text text-anchor=\"end\" transform=\"translate(-7,3)\" style=\"font-family: sans-serif; font-size: 10px; fill: #000; opacity: 1;\">1</text></g><g class=\"mark-rule role-axis-domain\" style=\"pointer-events: none;\"><line transform=\"translate(0,40)\" x2=\"0\" y2=\"-40\" style=\"fill: none; stroke: #888; stroke-width: 1; opacity: 1;\"></line></g><g class=\"mark-text role-axis-title\" style=\"pointer-events: none;\"><text text-anchor=\"middle\" transform=\"translate(-34,20) rotate(-90) translate(0,-2)\" style=\"font-family: sans-serif; font-size: 11px; font-weight: bold; fill: #000; opacity: 1;\">v</text></g></g></g></g></g></g><g transform=\"translate(-1,364)\"><path class=\"background\" d=\"M0,0h0v40h0Z\" style=\"fill: none;\"></path><g><g class=\"mark-text role-title\" style=\"pointer-events: none;\"><text text-anchor=\"middle\" transform=\"translate(-57,20) rotate(-90) translate(0,-2)\" style=\"font-family: sans-serif; font-size: 10px; fill: #000; opacity: 1;\">56</text></g><g class=\"mark-group role-axis\"><g transform=\"translate(0.5,0.5)\"><path class=\"background\" d=\"M0,0h0v0h0Z\" style=\"pointer-events: none; fill: none;\"></path><g><g class=\"mark-rule role-axis-tick\" style=\"pointer-events: none;\"><line transform=\"translate(0,40)\" x2=\"-5\" y2=\"0\" style=\"fill: none; stroke: #888; stroke-width: 1; opacity: 1;\"></line><line transform=\"translate(0,0)\" x2=\"-5\" y2=\"0\" style=\"fill: none; stroke: #888; stroke-width: 1; opacity: 1;\"></line></g><g class=\"mark-text role-axis-label\" style=\"pointer-events: none;\"><text text-anchor=\"end\" transform=\"translate(-7,43)\" style=\"font-family: sans-serif; font-size: 10px; fill: #000; opacity: 1;\">0</text><text text-anchor=\"end\" transform=\"translate(-7,3)\" style=\"font-family: sans-serif; font-size: 10px; fill: #000; opacity: 1;\">1</text></g><g class=\"mark-rule role-axis-domain\" style=\"pointer-events: none;\"><line transform=\"translate(0,40)\" x2=\"0\" y2=\"-40\" style=\"fill: none; stroke: #888; stroke-width: 1; opacity: 1;\"></line></g><g class=\"mark-text role-axis-title\" style=\"pointer-events: none;\"><text text-anchor=\"middle\" transform=\"translate(-34,20) rotate(-90) translate(0,-2)\" style=\"font-family: sans-serif; font-size: 11px; font-weight: bold; fill: #000; opacity: 1;\">v</text></g></g></g></g></g></g></g><g class=\"mark-group role-column-footer column_footer\"><g transform=\"translate(0,405)\"><path class=\"background\" d=\"M0,0h500v0h-500Z\" style=\"fill: none;\"></path><g><g class=\"mark-group role-axis\"><g transform=\"translate(0.5,0.5)\"><path class=\"background\" d=\"M0,0h0v0h0Z\" style=\"pointer-events: none; fill: none;\"></path><g><g class=\"mark-rule role-axis-tick\" style=\"pointer-events: none;\"><line transform=\"translate(3,0)\" x2=\"0\" y2=\"5\" style=\"fill: none; stroke: #888; stroke-width: 1; opacity: 1;\"></line><line transform=\"translate(12,0)\" x2=\"0\" y2=\"5\" style=\"fill: none; stroke: #888; stroke-width: 1; opacity: 1;\"></line><line transform=\"translate(21,0)\" x2=\"0\" y2=\"5\" style=\"fill: none; stroke: #888; stroke-width: 1; opacity: 1;\"></line><line transform=\"translate(30,0)\" x2=\"0\" y2=\"5\" style=\"fill: none; stroke: #888; stroke-width: 1; opacity: 1;\"></line><line transform=\"translate(39,0)\" x2=\"0\" y2=\"5\" style=\"fill: none; stroke: #888; stroke-width: 1; opacity: 1;\"></line><line transform=\"translate(48,0)\" x2=\"0\" y2=\"5\" style=\"fill: none; stroke: #888; stroke-width: 1; opacity: 1;\"></line><line transform=\"translate(57,0)\" x2=\"0\" y2=\"5\" style=\"fill: none; stroke: #888; stroke-width: 1; opacity: 1;\"></line><line transform=\"translate(66,0)\" x2=\"0\" y2=\"5\" style=\"fill: none; stroke: #888; stroke-width: 1; opacity: 1;\"></line><line transform=\"translate(75,0)\" x2=\"0\" y2=\"5\" style=\"fill: none; stroke: #888; stroke-width: 1; opacity: 1;\"></line><line transform=\"translate(84,0)\" x2=\"0\" y2=\"5\" style=\"fill: none; stroke: #888; stroke-width: 1; opacity: 1;\"></line><line transform=\"translate(93,0)\" x2=\"0\" y2=\"5\" style=\"fill: none; stroke: #888; stroke-width: 1; opacity: 1;\"></line><line transform=\"translate(102,0)\" x2=\"0\" y2=\"5\" style=\"fill: none; stroke: #888; stroke-width: 1; opacity: 1;\"></line><line transform=\"translate(111,0)\" x2=\"0\" y2=\"5\" style=\"fill: none; stroke: #888; stroke-width: 1; opacity: 1;\"></line><line transform=\"translate(120,0)\" x2=\"0\" y2=\"5\" style=\"fill: none; stroke: #888; stroke-width: 1; opacity: 1;\"></line><line transform=\"translate(128,0)\" x2=\"0\" y2=\"5\" style=\"fill: none; stroke: #888; stroke-width: 1; opacity: 1;\"></line><line transform=\"translate(137,0)\" x2=\"0\" y2=\"5\" style=\"fill: none; stroke: #888; stroke-width: 1; opacity: 1;\"></line><line transform=\"translate(146,0)\" x2=\"0\" y2=\"5\" style=\"fill: none; stroke: #888; stroke-width: 1; opacity: 1;\"></line><line transform=\"translate(155,0)\" x2=\"0\" y2=\"5\" style=\"fill: none; stroke: #888; stroke-width: 1; opacity: 1;\"></line><line transform=\"translate(164,0)\" x2=\"0\" y2=\"5\" style=\"fill: none; stroke: #888; stroke-width: 1; opacity: 1;\"></line><line transform=\"translate(173,0)\" x2=\"0\" y2=\"5\" style=\"fill: none; stroke: #888; stroke-width: 1; opacity: 1;\"></line><line transform=\"translate(182,0)\" x2=\"0\" y2=\"5\" style=\"fill: none; stroke: #888; stroke-width: 1; opacity: 1;\"></line><line transform=\"translate(191,0)\" x2=\"0\" y2=\"5\" style=\"fill: none; stroke: #888; stroke-width: 1; opacity: 1;\"></line><line transform=\"translate(200,0)\" x2=\"0\" y2=\"5\" style=\"fill: none; stroke: #888; stroke-width: 1; opacity: 1;\"></line><line transform=\"translate(209,0)\" x2=\"0\" y2=\"5\" style=\"fill: none; stroke: #888; stroke-width: 1; opacity: 1;\"></line><line transform=\"translate(218,0)\" x2=\"0\" y2=\"5\" style=\"fill: none; stroke: #888; stroke-width: 1; opacity: 1;\"></line><line transform=\"translate(227,0)\" x2=\"0\" y2=\"5\" style=\"fill: none; stroke: #888; stroke-width: 1; opacity: 1;\"></line><line transform=\"translate(236,0)\" x2=\"0\" y2=\"5\" style=\"fill: none; stroke: #888; stroke-width: 1; opacity: 1;\"></line><line transform=\"translate(245,0)\" x2=\"0\" y2=\"5\" style=\"fill: none; stroke: #888; stroke-width: 1; opacity: 1;\"></line><line transform=\"translate(253,0)\" x2=\"0\" y2=\"5\" style=\"fill: none; stroke: #888; stroke-width: 1; opacity: 1;\"></line><line transform=\"translate(262,0)\" x2=\"0\" y2=\"5\" style=\"fill: none; stroke: #888; stroke-width: 1; opacity: 1;\"></line><line transform=\"translate(271,0)\" x2=\"0\" y2=\"5\" style=\"fill: none; stroke: #888; stroke-width: 1; opacity: 1;\"></line><line transform=\"translate(280,0)\" x2=\"0\" y2=\"5\" style=\"fill: none; stroke: #888; stroke-width: 1; opacity: 1;\"></line><line transform=\"translate(289,0)\" x2=\"0\" y2=\"5\" style=\"fill: none; stroke: #888; stroke-width: 1; opacity: 1;\"></line><line transform=\"translate(298,0)\" x2=\"0\" y2=\"5\" style=\"fill: none; stroke: #888; stroke-width: 1; opacity: 1;\"></line><line transform=\"translate(307,0)\" x2=\"0\" y2=\"5\" style=\"fill: none; stroke: #888; stroke-width: 1; opacity: 1;\"></line><line transform=\"translate(316,0)\" x2=\"0\" y2=\"5\" style=\"fill: none; stroke: #888; stroke-width: 1; opacity: 1;\"></line><line transform=\"translate(325,0)\" x2=\"0\" y2=\"5\" style=\"fill: none; stroke: #888; stroke-width: 1; opacity: 1;\"></line><line transform=\"translate(334,0)\" x2=\"0\" y2=\"5\" style=\"fill: none; stroke: #888; stroke-width: 1; opacity: 1;\"></line><line transform=\"translate(343,0)\" x2=\"0\" y2=\"5\" style=\"fill: none; stroke: #888; stroke-width: 1; opacity: 1;\"></line><line transform=\"translate(352,0)\" x2=\"0\" y2=\"5\" style=\"fill: none; stroke: #888; stroke-width: 1; opacity: 1;\"></line><line transform=\"translate(361,0)\" x2=\"0\" y2=\"5\" style=\"fill: none; stroke: #888; stroke-width: 1; opacity: 1;\"></line><line transform=\"translate(370,0)\" x2=\"0\" y2=\"5\" style=\"fill: none; stroke: #888; stroke-width: 1; opacity: 1;\"></line><line transform=\"translate(378,0)\" x2=\"0\" y2=\"5\" style=\"fill: none; stroke: #888; stroke-width: 1; opacity: 1;\"></line><line transform=\"translate(387,0)\" x2=\"0\" y2=\"5\" style=\"fill: none; stroke: #888; stroke-width: 1; opacity: 1;\"></line><line transform=\"translate(396,0)\" x2=\"0\" y2=\"5\" style=\"fill: none; stroke: #888; stroke-width: 1; opacity: 1;\"></line><line transform=\"translate(405,0)\" x2=\"0\" y2=\"5\" style=\"fill: none; stroke: #888; stroke-width: 1; opacity: 1;\"></line><line transform=\"translate(414,0)\" x2=\"0\" y2=\"5\" style=\"fill: none; stroke: #888; stroke-width: 1; opacity: 1;\"></line><line transform=\"translate(423,0)\" x2=\"0\" y2=\"5\" style=\"fill: none; stroke: #888; stroke-width: 1; opacity: 1;\"></line><line transform=\"translate(432,0)\" x2=\"0\" y2=\"5\" style=\"fill: none; stroke: #888; stroke-width: 1; opacity: 1;\"></line><line transform=\"translate(441,0)\" x2=\"0\" y2=\"5\" style=\"fill: none; stroke: #888; stroke-width: 1; opacity: 1;\"></line><line transform=\"translate(450,0)\" x2=\"0\" y2=\"5\" style=\"fill: none; stroke: #888; stroke-width: 1; opacity: 1;\"></line><line transform=\"translate(459,0)\" x2=\"0\" y2=\"5\" style=\"fill: none; stroke: #888; stroke-width: 1; opacity: 1;\"></line><line transform=\"translate(468,0)\" x2=\"0\" y2=\"5\" style=\"fill: none; stroke: #888; stroke-width: 1; opacity: 1;\"></line><line transform=\"translate(477,0)\" x2=\"0\" y2=\"5\" style=\"fill: none; stroke: #888; stroke-width: 1; opacity: 1;\"></line><line transform=\"translate(486,0)\" x2=\"0\" y2=\"5\" style=\"fill: none; stroke: #888; stroke-width: 1; opacity: 1;\"></line><line transform=\"translate(495,0)\" x2=\"0\" y2=\"5\" style=\"fill: none; stroke: #888; stroke-width: 1; opacity: 1;\"></line></g><g class=\"mark-text role-axis-label\" style=\"pointer-events: none;\"><text text-anchor=\"end\" transform=\"translate(3.464285714285727,7) rotate(270) translate(0,3)\" style=\"font-family: sans-serif; font-size: 10px; fill: #000; opacity: 1;\">1</text><text text-anchor=\"end\" transform=\"translate(12.392857142857157,7) rotate(270) translate(0,3)\" style=\"font-family: sans-serif; font-size: 10px; fill: #000; opacity: 0;\">2</text><text text-anchor=\"end\" transform=\"translate(21.321428571428584,7) rotate(270) translate(0,3)\" style=\"font-family: sans-serif; font-size: 10px; fill: #000; opacity: 1;\">3</text><text text-anchor=\"end\" transform=\"translate(30.25000000000001,7) rotate(270) translate(0,3)\" style=\"font-family: sans-serif; font-size: 10px; fill: #000; opacity: 0;\">4</text><text text-anchor=\"end\" transform=\"translate(39.178571428571445,7) rotate(270) translate(0,3)\" style=\"font-family: sans-serif; font-size: 10px; fill: #000; opacity: 1;\">5</text><text text-anchor=\"end\" transform=\"translate(48.107142857142875,7) rotate(270) translate(0,3)\" style=\"font-family: sans-serif; font-size: 10px; fill: #000; opacity: 0;\">6</text><text text-anchor=\"end\" transform=\"translate(57.0357142857143,7) rotate(270) translate(0,3)\" style=\"font-family: sans-serif; font-size: 10px; fill: #000; opacity: 1;\">7</text><text text-anchor=\"end\" transform=\"translate(65.96428571428572,7) rotate(270) translate(0,3)\" style=\"font-family: sans-serif; font-size: 10px; fill: #000; opacity: 0;\">8</text><text text-anchor=\"end\" transform=\"translate(74.89285714285715,7) rotate(270) translate(0,3)\" style=\"font-family: sans-serif; font-size: 10px; fill: #000; opacity: 1;\">9</text><text text-anchor=\"end\" transform=\"translate(83.82142857142858,7) rotate(270) translate(0,3)\" style=\"font-family: sans-serif; font-size: 10px; fill: #000; opacity: 0;\">10</text><text text-anchor=\"end\" transform=\"translate(92.75000000000001,7) rotate(270) translate(0,3)\" style=\"font-family: sans-serif; font-size: 10px; fill: #000; opacity: 1;\">11</text><text text-anchor=\"end\" transform=\"translate(101.67857142857144,7) rotate(270) translate(0,3)\" style=\"font-family: sans-serif; font-size: 10px; fill: #000; opacity: 0;\">12</text><text text-anchor=\"end\" transform=\"translate(110.60714285714286,7) rotate(270) translate(0,3)\" style=\"font-family: sans-serif; font-size: 10px; fill: #000; opacity: 1;\">13</text><text text-anchor=\"end\" transform=\"translate(119.53571428571429,7) rotate(270) translate(0,3)\" style=\"font-family: sans-serif; font-size: 10px; fill: #000; opacity: 0;\">14</text><text text-anchor=\"end\" transform=\"translate(128.46428571428572,7) rotate(270) translate(0,3)\" style=\"font-family: sans-serif; font-size: 10px; fill: #000; opacity: 1;\">15</text><text text-anchor=\"end\" transform=\"translate(137.39285714285717,7) rotate(270) translate(0,3)\" style=\"font-family: sans-serif; font-size: 10px; fill: #000; opacity: 0;\">16</text><text text-anchor=\"end\" transform=\"translate(146.32142857142858,7) rotate(270) translate(0,3)\" style=\"font-family: sans-serif; font-size: 10px; fill: #000; opacity: 1;\">17</text><text text-anchor=\"end\" transform=\"translate(155.25,7) rotate(270) translate(0,3)\" style=\"font-family: sans-serif; font-size: 10px; fill: #000; opacity: 0;\">18</text><text text-anchor=\"end\" transform=\"translate(164.17857142857144,7) rotate(270) translate(0,3)\" style=\"font-family: sans-serif; font-size: 10px; fill: #000; opacity: 1;\">19</text><text text-anchor=\"end\" transform=\"translate(173.10714285714286,7) rotate(270) translate(0,3)\" style=\"font-family: sans-serif; font-size: 10px; fill: #000; opacity: 0;\">20</text><text text-anchor=\"end\" transform=\"translate(182.0357142857143,7) rotate(270) translate(0,3)\" style=\"font-family: sans-serif; font-size: 10px; fill: #000; opacity: 1;\">21</text><text text-anchor=\"end\" transform=\"translate(190.96428571428572,7) rotate(270) translate(0,3)\" style=\"font-family: sans-serif; font-size: 10px; fill: #000; opacity: 0;\">22</text><text text-anchor=\"end\" transform=\"translate(199.89285714285717,7) rotate(270) translate(0,3)\" style=\"font-family: sans-serif; font-size: 10px; fill: #000; opacity: 1;\">23</text><text text-anchor=\"end\" transform=\"translate(208.82142857142858,7) rotate(270) translate(0,3)\" style=\"font-family: sans-serif; font-size: 10px; fill: #000; opacity: 0;\">24</text><text text-anchor=\"end\" transform=\"translate(217.75,7) rotate(270) translate(0,3)\" style=\"font-family: sans-serif; font-size: 10px; fill: #000; opacity: 1;\">25</text><text text-anchor=\"end\" transform=\"translate(226.67857142857144,7) rotate(270) translate(0,3)\" style=\"font-family: sans-serif; font-size: 10px; fill: #000; opacity: 0;\">26</text><text text-anchor=\"end\" transform=\"translate(235.60714285714286,7) rotate(270) translate(0,3)\" style=\"font-family: sans-serif; font-size: 10px; fill: #000; opacity: 1;\">27</text><text text-anchor=\"end\" transform=\"translate(244.5357142857143,7) rotate(270) translate(0,3)\" style=\"font-family: sans-serif; font-size: 10px; fill: #000; opacity: 0;\">28</text><text text-anchor=\"end\" transform=\"translate(253.46428571428572,7) rotate(270) translate(0,3)\" style=\"font-family: sans-serif; font-size: 10px; fill: #000; opacity: 1;\">29</text><text text-anchor=\"end\" transform=\"translate(262.39285714285717,7) rotate(270) translate(0,3)\" style=\"font-family: sans-serif; font-size: 10px; fill: #000; opacity: 0;\">30</text><text text-anchor=\"end\" transform=\"translate(271.3214285714286,7) rotate(270) translate(0,3)\" style=\"font-family: sans-serif; font-size: 10px; fill: #000; opacity: 1;\">31</text><text text-anchor=\"end\" transform=\"translate(280.25000000000006,7) rotate(270) translate(0,3)\" style=\"font-family: sans-serif; font-size: 10px; fill: #000; opacity: 0;\">32</text><text text-anchor=\"end\" transform=\"translate(289.1785714285715,7) rotate(270) translate(0,3)\" style=\"font-family: sans-serif; font-size: 10px; fill: #000; opacity: 1;\">33</text><text text-anchor=\"end\" transform=\"translate(298.10714285714295,7) rotate(270) translate(0,3)\" style=\"font-family: sans-serif; font-size: 10px; fill: #000; opacity: 0;\">34</text><text text-anchor=\"end\" transform=\"translate(307.0357142857143,7) rotate(270) translate(0,3)\" style=\"font-family: sans-serif; font-size: 10px; fill: #000; opacity: 1;\">35</text><text text-anchor=\"end\" transform=\"translate(315.9642857142857,7) rotate(270) translate(0,3)\" style=\"font-family: sans-serif; font-size: 10px; fill: #000; opacity: 0;\">36</text><text text-anchor=\"end\" transform=\"translate(324.89285714285717,7) rotate(270) translate(0,3)\" style=\"font-family: sans-serif; font-size: 10px; fill: #000; opacity: 1;\">37</text><text text-anchor=\"end\" transform=\"translate(333.8214285714286,7) rotate(270) translate(0,3)\" style=\"font-family: sans-serif; font-size: 10px; fill: #000; opacity: 0;\">38</text><text text-anchor=\"end\" transform=\"translate(342.75000000000006,7) rotate(270) translate(0,3)\" style=\"font-family: sans-serif; font-size: 10px; fill: #000; opacity: 1;\">39</text><text text-anchor=\"end\" transform=\"translate(351.6785714285715,7) rotate(270) translate(0,3)\" style=\"font-family: sans-serif; font-size: 10px; fill: #000; opacity: 0;\">40</text><text text-anchor=\"end\" transform=\"translate(360.60714285714295,7) rotate(270) translate(0,3)\" style=\"font-family: sans-serif; font-size: 10px; fill: #000; opacity: 1;\">41</text><text text-anchor=\"end\" transform=\"translate(369.5357142857143,7) rotate(270) translate(0,3)\" style=\"font-family: sans-serif; font-size: 10px; fill: #000; opacity: 0;\">42</text><text text-anchor=\"end\" transform=\"translate(378.4642857142857,7) rotate(270) translate(0,3)\" style=\"font-family: sans-serif; font-size: 10px; fill: #000; opacity: 1;\">43</text><text text-anchor=\"end\" transform=\"translate(387.39285714285717,7) rotate(270) translate(0,3)\" style=\"font-family: sans-serif; font-size: 10px; fill: #000; opacity: 0;\">44</text><text text-anchor=\"end\" transform=\"translate(396.3214285714286,7) rotate(270) translate(0,3)\" style=\"font-family: sans-serif; font-size: 10px; fill: #000; opacity: 1;\">45</text><text text-anchor=\"end\" transform=\"translate(405.25000000000006,7) rotate(270) translate(0,3)\" style=\"font-family: sans-serif; font-size: 10px; fill: #000; opacity: 0;\">46</text><text text-anchor=\"end\" transform=\"translate(414.1785714285715,7) rotate(270) translate(0,3)\" style=\"font-family: sans-serif; font-size: 10px; fill: #000; opacity: 1;\">47</text><text text-anchor=\"end\" transform=\"translate(423.10714285714295,7) rotate(270) translate(0,3)\" style=\"font-family: sans-serif; font-size: 10px; fill: #000; opacity: 0;\">48</text><text text-anchor=\"end\" transform=\"translate(432.0357142857143,7) rotate(270) translate(0,3)\" style=\"font-family: sans-serif; font-size: 10px; fill: #000; opacity: 1;\">49</text><text text-anchor=\"end\" transform=\"translate(440.9642857142857,7) rotate(270) translate(0,3)\" style=\"font-family: sans-serif; font-size: 10px; fill: #000; opacity: 0;\">50</text><text text-anchor=\"end\" transform=\"translate(449.89285714285717,7) rotate(270) translate(0,3)\" style=\"font-family: sans-serif; font-size: 10px; fill: #000; opacity: 1;\">51</text><text text-anchor=\"end\" transform=\"translate(458.8214285714286,7) rotate(270) translate(0,3)\" style=\"font-family: sans-serif; font-size: 10px; fill: #000; opacity: 0;\">52</text><text text-anchor=\"end\" transform=\"translate(467.75000000000006,7) rotate(270) translate(0,3)\" style=\"font-family: sans-serif; font-size: 10px; fill: #000; opacity: 1;\">53</text><text text-anchor=\"end\" transform=\"translate(476.6785714285715,7) rotate(270) translate(0,3)\" style=\"font-family: sans-serif; font-size: 10px; fill: #000; opacity: 0;\">54</text><text text-anchor=\"end\" transform=\"translate(485.60714285714295,7) rotate(270) translate(0,3)\" style=\"font-family: sans-serif; font-size: 10px; fill: #000; opacity: 1;\">55</text><text text-anchor=\"end\" transform=\"translate(494.5357142857144,7) rotate(270) translate(0,3)\" style=\"font-family: sans-serif; font-size: 10px; fill: #000; opacity: 0;\">56</text></g><g class=\"mark-rule role-axis-domain\" style=\"pointer-events: none;\"><line transform=\"translate(0,0)\" x2=\"500\" y2=\"0\" style=\"fill: none; stroke: #888; stroke-width: 1; opacity: 1;\"></line></g><g class=\"mark-text role-axis-title\" style=\"pointer-events: none;\"><text text-anchor=\"middle\" transform=\"translate(250,37)\" style=\"font-family: sans-serif; font-size: 11px; font-weight: bold; fill: #000; opacity: 1;\">day</text></g></g></g></g></g></g></g><g class=\"mark-group role-scope cell\"><g transform=\"translate(0,0)\"><path class=\"background\" d=\"M0.5,0.5h500v40h-500Z\" style=\"fill: none; stroke: #ddd;\"></path><g><g class=\"mark-group role-axis\"><g transform=\"translate(0.5,0.5)\"><path class=\"background\" d=\"M0,0h0v0h0Z\" style=\"pointer-events: none; fill: none;\"></path><g><g class=\"mark-rule role-axis-grid\" style=\"pointer-events: none;\"><line transform=\"translate(0,40)\" x2=\"500\" y2=\"0\" style=\"fill: none; stroke: #ddd; stroke-width: 1; opacity: 1;\"></line><line transform=\"translate(0,0)\" x2=\"500\" y2=\"0\" style=\"fill: none; stroke: #ddd; stroke-width: 1; opacity: 1;\"></line></g></g></g></g><g class=\"mark-rect role-mark child_marks\"><path d=\"M0.4464285714285836,0h8.035714285714286v40h-8.035714285714286Z\" style=\"fill: #f58518; opacity: 0.7;\"></path><path d=\"M9.375000000000012,6.666666666666664h8.035714285714286v33.333333333333336h-8.035714285714286Z\" style=\"fill: #f58518; opacity: 0.7;\"></path><path d=\"M18.30357142857144,13.333333333333336h8.035714285714286v26.666666666666664h-8.035714285714286Z\" style=\"fill: #f58518; opacity: 0.7;\"></path><path d=\"M27.23214285714287,20h8.035714285714286v20h-8.035714285714286Z\" style=\"fill: #f58518; opacity: 0.7;\"></path><path d=\"M36.1607142857143,26.666666666666668h8.035714285714286v13.333333333333332h-8.035714285714286Z\" style=\"fill: #f58518; opacity: 0.7;\"></path><path d=\"M45.08928571428573,33.333333333333336h8.035714285714286v6.666666666666664h-8.035714285714286Z\" style=\"fill: #f58518; opacity: 0.7;\"></path><path d=\"M54.01785714285715,40h8.035714285714286v0h-8.035714285714286Z\" style=\"fill: #f58518; opacity: 0.7;\"></path><path d=\"M0.4464285714285836,0h8.035714285714286v40h-8.035714285714286Z\" style=\"fill: #4c78a8; opacity: 0.7;\"></path><path d=\"M9.375000000000012,0h8.035714285714286v40h-8.035714285714286Z\" style=\"fill: #4c78a8; opacity: 0.7;\"></path><path d=\"M18.30357142857144,40h8.035714285714286v0h-8.035714285714286Z\" style=\"fill: #4c78a8; opacity: 0.7;\"></path><path d=\"M27.23214285714287,0h8.035714285714286v40h-8.035714285714286Z\" style=\"fill: #4c78a8; opacity: 0.7;\"></path><path d=\"M36.1607142857143,40h8.035714285714286v0h-8.035714285714286Z\" style=\"fill: #4c78a8; opacity: 0.7;\"></path><path d=\"M45.08928571428573,40h8.035714285714286v0h-8.035714285714286Z\" style=\"fill: #4c78a8; opacity: 0.7;\"></path><path d=\"M54.01785714285715,40h8.035714285714286v0h-8.035714285714286Z\" style=\"fill: #4c78a8; opacity: 0.7;\"></path></g></g></g><g transform=\"translate(0,52)\"><path class=\"background\" d=\"M0.5,0.5h500v40h-500Z\" style=\"fill: none; stroke: #ddd;\"></path><g><g class=\"mark-group role-axis\"><g transform=\"translate(0.5,0.5)\"><path class=\"background\" d=\"M0,0h0v0h0Z\" style=\"pointer-events: none; fill: none;\"></path><g><g class=\"mark-rule role-axis-grid\" style=\"pointer-events: none;\"><line transform=\"translate(0,40)\" x2=\"500\" y2=\"0\" style=\"fill: none; stroke: #ddd; stroke-width: 1; opacity: 1;\"></line><line transform=\"translate(0,0)\" x2=\"500\" y2=\"0\" style=\"fill: none; stroke: #ddd; stroke-width: 1; opacity: 1;\"></line></g></g></g></g><g class=\"mark-rect role-mark child_marks\"><path d=\"M0.4464285714285836,0h8.035714285714286v40h-8.035714285714286Z\" style=\"fill: #f58518; opacity: 0.7;\"></path><path d=\"M9.375000000000012,3.076923076923073h8.035714285714286v36.92307692307693h-8.035714285714286Z\" style=\"fill: #f58518; opacity: 0.7;\"></path><path d=\"M18.30357142857144,6.153846153846153h8.035714285714286v33.84615384615385h-8.035714285714286Z\" style=\"fill: #f58518; opacity: 0.7;\"></path><path d=\"M27.23214285714287,9.23076923076923h8.035714285714286v30.76923076923077h-8.035714285714286Z\" style=\"fill: #f58518; opacity: 0.7;\"></path><path d=\"M36.1607142857143,12.307692307692307h8.035714285714286v27.692307692307693h-8.035714285714286Z\" style=\"fill: #f58518; opacity: 0.7;\"></path><path d=\"M45.08928571428573,15.384615384615383h8.035714285714286v24.615384615384617h-8.035714285714286Z\" style=\"fill: #f58518; opacity: 0.7;\"></path><path d=\"M54.01785714285715,18.461538461538463h8.035714285714286v21.538461538461537h-8.035714285714286Z\" style=\"fill: #f58518; opacity: 0.7;\"></path><path d=\"M62.946428571428584,21.538461538461537h8.035714285714286v18.461538461538463h-8.035714285714286Z\" style=\"fill: #f58518; opacity: 0.7;\"></path><path d=\"M71.87500000000001,24.615384615384613h8.035714285714286v15.384615384615387h-8.035714285714286Z\" style=\"fill: #f58518; opacity: 0.7;\"></path><path d=\"M80.80357142857144,27.692307692307693h8.035714285714286v12.307692307692307h-8.035714285714286Z\" style=\"fill: #f58518; opacity: 0.7;\"></path><path d=\"M89.73214285714288,30.769230769230766h8.035714285714286v9.230769230769234h-8.035714285714286Z\" style=\"fill: #f58518; opacity: 0.7;\"></path><path d=\"M98.6607142857143,33.84615384615385h8.035714285714286v6.153846153846153h-8.035714285714286Z\" style=\"fill: #f58518; opacity: 0.7;\"></path><path d=\"M107.58928571428572,36.92307692307692h8.035714285714286v3.07692307692308h-8.035714285714286Z\" style=\"fill: #f58518; opacity: 0.7;\"></path><path d=\"M116.51785714285715,40h8.035714285714286v0h-8.035714285714286Z\" style=\"fill: #f58518; opacity: 0.7;\"></path><path d=\"M0.4464285714285836,0h8.035714285714286v40h-8.035714285714286Z\" style=\"fill: #4c78a8; opacity: 0.7;\"></path><path d=\"M9.375000000000012,0h8.035714285714286v40h-8.035714285714286Z\" style=\"fill: #4c78a8; opacity: 0.7;\"></path><path d=\"M18.30357142857144,0h8.035714285714286v40h-8.035714285714286Z\" style=\"fill: #4c78a8; opacity: 0.7;\"></path><path d=\"M27.23214285714287,0h8.035714285714286v40h-8.035714285714286Z\" style=\"fill: #4c78a8; opacity: 0.7;\"></path><path d=\"M36.1607142857143,40h8.035714285714286v0h-8.035714285714286Z\" style=\"fill: #4c78a8; opacity: 0.7;\"></path><path d=\"M45.08928571428573,0h8.035714285714286v40h-8.035714285714286Z\" style=\"fill: #4c78a8; opacity: 0.7;\"></path><path d=\"M54.01785714285715,40h8.035714285714286v0h-8.035714285714286Z\" style=\"fill: #4c78a8; opacity: 0.7;\"></path><path d=\"M62.946428571428584,0h8.035714285714286v40h-8.035714285714286Z\" style=\"fill: #4c78a8; opacity: 0.7;\"></path><path d=\"M71.87500000000001,40h8.035714285714286v0h-8.035714285714286Z\" style=\"fill: #4c78a8; opacity: 0.7;\"></path><path d=\"M80.80357142857144,0h8.035714285714286v40h-8.035714285714286Z\" style=\"fill: #4c78a8; opacity: 0.7;\"></path><path d=\"M89.73214285714288,40h8.035714285714286v0h-8.035714285714286Z\" style=\"fill: #4c78a8; opacity: 0.7;\"></path><path d=\"M98.6607142857143,40h8.035714285714286v0h-8.035714285714286Z\" style=\"fill: #4c78a8; opacity: 0.7;\"></path><path d=\"M107.58928571428572,40h8.035714285714286v0h-8.035714285714286Z\" style=\"fill: #4c78a8; opacity: 0.7;\"></path><path d=\"M116.51785714285715,40h8.035714285714286v0h-8.035714285714286Z\" style=\"fill: #4c78a8; opacity: 0.7;\"></path></g></g></g><g transform=\"translate(0,104)\"><path class=\"background\" d=\"M0.5,0.5h500v40h-500Z\" style=\"fill: none; stroke: #ddd;\"></path><g><g class=\"mark-group role-axis\"><g transform=\"translate(0.5,0.5)\"><path class=\"background\" d=\"M0,0h0v0h0Z\" style=\"pointer-events: none; fill: none;\"></path><g><g class=\"mark-rule role-axis-grid\" style=\"pointer-events: none;\"><line transform=\"translate(0,40)\" x2=\"500\" y2=\"0\" style=\"fill: none; stroke: #ddd; stroke-width: 1; opacity: 1;\"></line><line transform=\"translate(0,0)\" x2=\"500\" y2=\"0\" style=\"fill: none; stroke: #ddd; stroke-width: 1; opacity: 1;\"></line></g></g></g></g><g class=\"mark-rect role-mark child_marks\"><path d=\"M0.4464285714285836,0h8.035714285714286v40h-8.035714285714286Z\" style=\"fill: #f58518; opacity: 0.7;\"></path><path d=\"M9.375000000000012,2h8.035714285714286v38h-8.035714285714286Z\" style=\"fill: #f58518; opacity: 0.7;\"></path><path d=\"M18.30357142857144,4h8.035714285714286v36h-8.035714285714286Z\" style=\"fill: #f58518; opacity: 0.7;\"></path><path d=\"M27.23214285714287,6h8.035714285714286v34h-8.035714285714286Z\" style=\"fill: #f58518; opacity: 0.7;\"></path><path d=\"M36.1607142857143,8h8.035714285714286v32h-8.035714285714286Z\" style=\"fill: #f58518; opacity: 0.7;\"></path><path d=\"M45.08928571428573,10h8.035714285714286v30h-8.035714285714286Z\" style=\"fill: #f58518; opacity: 0.7;\"></path><path d=\"M54.01785714285715,12h8.035714285714286v28h-8.035714285714286Z\" style=\"fill: #f58518; opacity: 0.7;\"></path><path d=\"M62.946428571428584,14h8.035714285714286v26h-8.035714285714286Z\" style=\"fill: #f58518; opacity: 0.7;\"></path><path d=\"M71.87500000000001,16h8.035714285714286v24h-8.035714285714286Z\" style=\"fill: #f58518; opacity: 0.7;\"></path><path d=\"M80.80357142857144,18h8.035714285714286v22h-8.035714285714286Z\" style=\"fill: #f58518; opacity: 0.7;\"></path><path d=\"M89.73214285714288,20h8.035714285714286v20h-8.035714285714286Z\" style=\"fill: #f58518; opacity: 0.7;\"></path><path d=\"M98.6607142857143,22h8.035714285714286v18h-8.035714285714286Z\" style=\"fill: #f58518; opacity: 0.7;\"></path><path d=\"M107.58928571428572,24h8.035714285714286v16h-8.035714285714286Z\" style=\"fill: #f58518; opacity: 0.7;\"></path><path d=\"M116.51785714285715,26h8.035714285714286v14h-8.035714285714286Z\" style=\"fill: #f58518; opacity: 0.7;\"></path><path d=\"M125.44642857142858,28h8.035714285714286v12h-8.035714285714286Z\" style=\"fill: #f58518; opacity: 0.7;\"></path><path d=\"M134.37500000000003,30h8.035714285714286v10h-8.035714285714286Z\" style=\"fill: #f58518; opacity: 0.7;\"></path><path d=\"M143.30357142857144,32h8.035714285714286v8h-8.035714285714286Z\" style=\"fill: #f58518; opacity: 0.7;\"></path><path d=\"M152.23214285714286,34h8.035714285714286v6h-8.035714285714286Z\" style=\"fill: #f58518; opacity: 0.7;\"></path><path d=\"M161.1607142857143,36h8.035714285714286v4h-8.035714285714286Z\" style=\"fill: #f58518; opacity: 0.7;\"></path><path d=\"M170.08928571428572,38h8.035714285714286v2h-8.035714285714286Z\" style=\"fill: #f58518; opacity: 0.7;\"></path><path d=\"M179.01785714285717,40h8.035714285714286v0h-8.035714285714286Z\" style=\"fill: #f58518; opacity: 0.7;\"></path><path d=\"M0.4464285714285836,0h8.035714285714286v40h-8.035714285714286Z\" style=\"fill: #4c78a8; opacity: 0.7;\"></path><path d=\"M9.375000000000012,0h8.035714285714286v40h-8.035714285714286Z\" style=\"fill: #4c78a8; opacity: 0.7;\"></path><path d=\"M18.30357142857144,0h8.035714285714286v40h-8.035714285714286Z\" style=\"fill: #4c78a8; opacity: 0.7;\"></path><path d=\"M27.23214285714287,0h8.035714285714286v40h-8.035714285714286Z\" style=\"fill: #4c78a8; opacity: 0.7;\"></path><path d=\"M36.1607142857143,40h8.035714285714286v0h-8.035714285714286Z\" style=\"fill: #4c78a8; opacity: 0.7;\"></path><path d=\"M45.08928571428573,0h8.035714285714286v40h-8.035714285714286Z\" style=\"fill: #4c78a8; opacity: 0.7;\"></path><path d=\"M54.01785714285715,0h8.035714285714286v40h-8.035714285714286Z\" style=\"fill: #4c78a8; opacity: 0.7;\"></path><path d=\"M62.946428571428584,0h8.035714285714286v40h-8.035714285714286Z\" style=\"fill: #4c78a8; opacity: 0.7;\"></path><path d=\"M71.87500000000001,40h8.035714285714286v0h-8.035714285714286Z\" style=\"fill: #4c78a8; opacity: 0.7;\"></path><path d=\"M80.80357142857144,0h8.035714285714286v40h-8.035714285714286Z\" style=\"fill: #4c78a8; opacity: 0.7;\"></path><path d=\"M89.73214285714288,40h8.035714285714286v0h-8.035714285714286Z\" style=\"fill: #4c78a8; opacity: 0.7;\"></path><path d=\"M98.6607142857143,0h8.035714285714286v40h-8.035714285714286Z\" style=\"fill: #4c78a8; opacity: 0.7;\"></path><path d=\"M107.58928571428572,40h8.035714285714286v0h-8.035714285714286Z\" style=\"fill: #4c78a8; opacity: 0.7;\"></path><path d=\"M116.51785714285715,40h8.035714285714286v0h-8.035714285714286Z\" style=\"fill: #4c78a8; opacity: 0.7;\"></path><path d=\"M125.44642857142858,0h8.035714285714286v40h-8.035714285714286Z\" style=\"fill: #4c78a8; opacity: 0.7;\"></path><path d=\"M134.37500000000003,40h8.035714285714286v0h-8.035714285714286Z\" style=\"fill: #4c78a8; opacity: 0.7;\"></path><path d=\"M143.30357142857144,40h8.035714285714286v0h-8.035714285714286Z\" style=\"fill: #4c78a8; opacity: 0.7;\"></path><path d=\"M152.23214285714286,40h8.035714285714286v0h-8.035714285714286Z\" style=\"fill: #4c78a8; opacity: 0.7;\"></path><path d=\"M161.1607142857143,40h8.035714285714286v0h-8.035714285714286Z\" style=\"fill: #4c78a8; opacity: 0.7;\"></path><path d=\"M170.08928571428572,40h8.035714285714286v0h-8.035714285714286Z\" style=\"fill: #4c78a8; opacity: 0.7;\"></path><path d=\"M179.01785714285717,40h8.035714285714286v0h-8.035714285714286Z\" style=\"fill: #4c78a8; opacity: 0.7;\"></path></g></g></g><g transform=\"translate(0,156)\"><path class=\"background\" d=\"M0.5,0.5h500v40h-500Z\" style=\"fill: none; stroke: #ddd;\"></path><g><g class=\"mark-group role-axis\"><g transform=\"translate(0.5,0.5)\"><path class=\"background\" d=\"M0,0h0v0h0Z\" style=\"pointer-events: none; fill: none;\"></path><g><g class=\"mark-rule role-axis-grid\" style=\"pointer-events: none;\"><line transform=\"translate(0,40)\" x2=\"500\" y2=\"0\" style=\"fill: none; stroke: #ddd; stroke-width: 1; opacity: 1;\"></line><line transform=\"translate(0,0)\" x2=\"500\" y2=\"0\" style=\"fill: none; stroke: #ddd; stroke-width: 1; opacity: 1;\"></line></g></g></g></g><g class=\"mark-rect role-mark child_marks\"><path d=\"M0.4464285714285836,0h8.035714285714286v40h-8.035714285714286Z\" style=\"fill: #f58518; opacity: 0.7;\"></path><path d=\"M9.375000000000012,1.481481481481481h8.035714285714286v38.51851851851852h-8.035714285714286Z\" style=\"fill: #f58518; opacity: 0.7;\"></path><path d=\"M18.30357142857144,2.962962962962962h8.035714285714286v37.03703703703704h-8.035714285714286Z\" style=\"fill: #f58518; opacity: 0.7;\"></path><path d=\"M27.23214285714287,4.444444444444443h8.035714285714286v35.55555555555556h-8.035714285714286Z\" style=\"fill: #f58518; opacity: 0.7;\"></path><path d=\"M36.1607142857143,5.925925925925924h8.035714285714286v34.074074074074076h-8.035714285714286Z\" style=\"fill: #f58518; opacity: 0.7;\"></path><path d=\"M45.08928571428573,7.407407407407412h8.035714285714286v32.59259259259259h-8.035714285714286Z\" style=\"fill: #f58518; opacity: 0.7;\"></path><path d=\"M54.01785714285715,8.88888888888889h8.035714285714286v31.11111111111111h-8.035714285714286Z\" style=\"fill: #f58518; opacity: 0.7;\"></path><path d=\"M62.946428571428584,10.370370370370374h8.035714285714286v29.629629629629626h-8.035714285714286Z\" style=\"fill: #f58518; opacity: 0.7;\"></path><path d=\"M71.87500000000001,11.851851851851851h8.035714285714286v28.14814814814815h-8.035714285714286Z\" style=\"fill: #f58518; opacity: 0.7;\"></path><path d=\"M80.80357142857144,13.333333333333336h8.035714285714286v26.666666666666664h-8.035714285714286Z\" style=\"fill: #f58518; opacity: 0.7;\"></path><path d=\"M89.73214285714288,14.814814814814813h8.035714285714286v25.185185185185187h-8.035714285714286Z\" style=\"fill: #f58518; opacity: 0.7;\"></path><path d=\"M98.6607142857143,16.296296296296298h8.035714285714286v23.703703703703702h-8.035714285714286Z\" style=\"fill: #f58518; opacity: 0.7;\"></path><path d=\"M107.58928571428572,17.77777777777778h8.035714285714286v22.22222222222222h-8.035714285714286Z\" style=\"fill: #f58518; opacity: 0.7;\"></path><path d=\"M116.51785714285715,19.25925925925926h8.035714285714286v20.74074074074074h-8.035714285714286Z\" style=\"fill: #f58518; opacity: 0.7;\"></path><path d=\"M125.44642857142858,20.74074074074074h8.035714285714286v19.25925925925926h-8.035714285714286Z\" style=\"fill: #f58518; opacity: 0.7;\"></path><path d=\"M134.37500000000003,22.22222222222222h8.035714285714286v17.77777777777778h-8.035714285714286Z\" style=\"fill: #f58518; opacity: 0.7;\"></path><path d=\"M143.30357142857144,23.703703703703706h8.035714285714286v16.296296296296294h-8.035714285714286Z\" style=\"fill: #f58518; opacity: 0.7;\"></path><path d=\"M152.23214285714286,25.185185185185187h8.035714285714286v14.814814814814813h-8.035714285714286Z\" style=\"fill: #f58518; opacity: 0.7;\"></path><path d=\"M161.1607142857143,26.666666666666668h8.035714285714286v13.333333333333332h-8.035714285714286Z\" style=\"fill: #f58518; opacity: 0.7;\"></path><path d=\"M170.08928571428572,28.14814814814815h8.035714285714286v11.851851851851851h-8.035714285714286Z\" style=\"fill: #f58518; opacity: 0.7;\"></path><path d=\"M179.01785714285717,29.62962962962963h8.035714285714286v10.37037037037037h-8.035714285714286Z\" style=\"fill: #f58518; opacity: 0.7;\"></path><path d=\"M187.94642857142858,31.11111111111111h8.035714285714286v8.88888888888889h-8.035714285714286Z\" style=\"fill: #f58518; opacity: 0.7;\"></path><path d=\"M196.87500000000003,32.592592592592595h8.035714285714286v7.407407407407405h-8.035714285714286Z\" style=\"fill: #f58518; opacity: 0.7;\"></path><path d=\"M205.80357142857144,34.074074074074076h8.035714285714286v5.925925925925924h-8.035714285714286Z\" style=\"fill: #f58518; opacity: 0.7;\"></path><path d=\"M214.73214285714286,35.55555555555556h8.035714285714286v4.444444444444443h-8.035714285714286Z\" style=\"fill: #f58518; opacity: 0.7;\"></path><path d=\"M223.6607142857143,37.03703703703704h8.035714285714286v2.962962962962962h-8.035714285714286Z\" style=\"fill: #f58518; opacity: 0.7;\"></path><path d=\"M232.58928571428572,38.51851851851852h8.035714285714286v1.481481481481481h-8.035714285714286Z\" style=\"fill: #f58518; opacity: 0.7;\"></path><path d=\"M241.51785714285717,40h8.035714285714286v0h-8.035714285714286Z\" style=\"fill: #f58518; opacity: 0.7;\"></path><path d=\"M0.4464285714285836,0h8.035714285714286v40h-8.035714285714286Z\" style=\"fill: #4c78a8; opacity: 0.7;\"></path><path d=\"M9.375000000000012,0h8.035714285714286v40h-8.035714285714286Z\" style=\"fill: #4c78a8; opacity: 0.7;\"></path><path d=\"M18.30357142857144,0h8.035714285714286v40h-8.035714285714286Z\" style=\"fill: #4c78a8; opacity: 0.7;\"></path><path d=\"M27.23214285714287,0h8.035714285714286v40h-8.035714285714286Z\" style=\"fill: #4c78a8; opacity: 0.7;\"></path><path d=\"M36.1607142857143,0h8.035714285714286v40h-8.035714285714286Z\" style=\"fill: #4c78a8; opacity: 0.7;\"></path><path d=\"M45.08928571428573,40h8.035714285714286v0h-8.035714285714286Z\" style=\"fill: #4c78a8; opacity: 0.7;\"></path><path d=\"M54.01785714285715,0h8.035714285714286v40h-8.035714285714286Z\" style=\"fill: #4c78a8; opacity: 0.7;\"></path><path d=\"M62.946428571428584,0h8.035714285714286v40h-8.035714285714286Z\" style=\"fill: #4c78a8; opacity: 0.7;\"></path><path d=\"M71.87500000000001,0h8.035714285714286v40h-8.035714285714286Z\" style=\"fill: #4c78a8; opacity: 0.7;\"></path><path d=\"M80.80357142857144,40h8.035714285714286v0h-8.035714285714286Z\" style=\"fill: #4c78a8; opacity: 0.7;\"></path><path d=\"M89.73214285714288,0h8.035714285714286v40h-8.035714285714286Z\" style=\"fill: #4c78a8; opacity: 0.7;\"></path><path d=\"M98.6607142857143,0h8.035714285714286v40h-8.035714285714286Z\" style=\"fill: #4c78a8; opacity: 0.7;\"></path><path d=\"M107.58928571428572,40h8.035714285714286v0h-8.035714285714286Z\" style=\"fill: #4c78a8; opacity: 0.7;\"></path><path d=\"M116.51785714285715,0h8.035714285714286v40h-8.035714285714286Z\" style=\"fill: #4c78a8; opacity: 0.7;\"></path><path d=\"M125.44642857142858,40h8.035714285714286v0h-8.035714285714286Z\" style=\"fill: #4c78a8; opacity: 0.7;\"></path><path d=\"M134.37500000000003,0h8.035714285714286v40h-8.035714285714286Z\" style=\"fill: #4c78a8; opacity: 0.7;\"></path><path d=\"M143.30357142857144,40h8.035714285714286v0h-8.035714285714286Z\" style=\"fill: #4c78a8; opacity: 0.7;\"></path><path d=\"M152.23214285714286,40h8.035714285714286v0h-8.035714285714286Z\" style=\"fill: #4c78a8; opacity: 0.7;\"></path><path d=\"M161.1607142857143,0h8.035714285714286v40h-8.035714285714286Z\" style=\"fill: #4c78a8; opacity: 0.7;\"></path><path d=\"M170.08928571428572,40h8.035714285714286v0h-8.035714285714286Z\" style=\"fill: #4c78a8; opacity: 0.7;\"></path><path d=\"M179.01785714285717,40h8.035714285714286v0h-8.035714285714286Z\" style=\"fill: #4c78a8; opacity: 0.7;\"></path><path d=\"M187.94642857142858,40h8.035714285714286v0h-8.035714285714286Z\" style=\"fill: #4c78a8; opacity: 0.7;\"></path><path d=\"M196.87500000000003,0h8.035714285714286v40h-8.035714285714286Z\" style=\"fill: #4c78a8; opacity: 0.7;\"></path><path d=\"M205.80357142857144,40h8.035714285714286v0h-8.035714285714286Z\" style=\"fill: #4c78a8; opacity: 0.7;\"></path><path d=\"M214.73214285714286,40h8.035714285714286v0h-8.035714285714286Z\" style=\"fill: #4c78a8; opacity: 0.7;\"></path><path d=\"M223.6607142857143,40h8.035714285714286v0h-8.035714285714286Z\" style=\"fill: #4c78a8; opacity: 0.7;\"></path><path d=\"M232.58928571428572,40h8.035714285714286v0h-8.035714285714286Z\" style=\"fill: #4c78a8; opacity: 0.7;\"></path><path d=\"M241.51785714285717,40h8.035714285714286v0h-8.035714285714286Z\" style=\"fill: #4c78a8; opacity: 0.7;\"></path></g></g></g><g transform=\"translate(0,208)\"><path class=\"background\" d=\"M0.5,0.5h500v40h-500Z\" style=\"fill: none; stroke: #ddd;\"></path><g><g class=\"mark-group role-axis\"><g transform=\"translate(0.5,0.5)\"><path class=\"background\" d=\"M0,0h0v0h0Z\" style=\"pointer-events: none; fill: none;\"></path><g><g class=\"mark-rule role-axis-grid\" style=\"pointer-events: none;\"><line transform=\"translate(0,40)\" x2=\"500\" y2=\"0\" style=\"fill: none; stroke: #ddd; stroke-width: 1; opacity: 1;\"></line><line transform=\"translate(0,0)\" x2=\"500\" y2=\"0\" style=\"fill: none; stroke: #ddd; stroke-width: 1; opacity: 1;\"></line></g></g></g></g><g class=\"mark-rect role-mark child_marks\"><path d=\"M0.4464285714285836,0h8.035714285714286v40h-8.035714285714286Z\" style=\"fill: #f58518; opacity: 0.7;\"></path><path d=\"M9.375000000000012,1.176470588235297h8.035714285714286v38.8235294117647h-8.035714285714286Z\" style=\"fill: #f58518; opacity: 0.7;\"></path><path d=\"M18.30357142857144,2.352941176470587h8.035714285714286v37.64705882352941h-8.035714285714286Z\" style=\"fill: #f58518; opacity: 0.7;\"></path><path d=\"M27.23214285714287,3.529411764705884h8.035714285714286v36.470588235294116h-8.035714285714286Z\" style=\"fill: #f58518; opacity: 0.7;\"></path><path d=\"M36.1607142857143,4.705882352941174h8.035714285714286v35.294117647058826h-8.035714285714286Z\" style=\"fill: #f58518; opacity: 0.7;\"></path><path d=\"M45.08928571428573,5.882352941176471h8.035714285714286v34.11764705882353h-8.035714285714286Z\" style=\"fill: #f58518; opacity: 0.7;\"></path><path d=\"M54.01785714285715,7.058823529411768h8.035714285714286v32.94117647058823h-8.035714285714286Z\" style=\"fill: #f58518; opacity: 0.7;\"></path><path d=\"M62.946428571428584,8.235294117647062h8.035714285714286v31.76470588235294h-8.035714285714286Z\" style=\"fill: #f58518; opacity: 0.7;\"></path><path d=\"M71.87500000000001,9.411764705882355h8.035714285714286v30.588235294117645h-8.035714285714286Z\" style=\"fill: #f58518; opacity: 0.7;\"></path><path d=\"M80.80357142857144,10.588235294117645h8.035714285714286v29.411764705882355h-8.035714285714286Z\" style=\"fill: #f58518; opacity: 0.7;\"></path><path d=\"M89.73214285714288,11.764705882352938h8.035714285714286v28.23529411764706h-8.035714285714286Z\" style=\"fill: #f58518; opacity: 0.7;\"></path><path d=\"M98.6607142857143,12.941176470588232h8.035714285714286v27.058823529411768h-8.035714285714286Z\" style=\"fill: #f58518; opacity: 0.7;\"></path><path d=\"M107.58928571428572,14.117647058823529h8.035714285714286v25.88235294117647h-8.035714285714286Z\" style=\"fill: #f58518; opacity: 0.7;\"></path><path d=\"M116.51785714285715,15.294117647058822h8.035714285714286v24.705882352941178h-8.035714285714286Z\" style=\"fill: #f58518; opacity: 0.7;\"></path><path d=\"M125.44642857142858,16.470588235294116h8.035714285714286v23.529411764705884h-8.035714285714286Z\" style=\"fill: #f58518; opacity: 0.7;\"></path><path d=\"M134.37500000000003,17.647058823529413h8.035714285714286v22.352941176470587h-8.035714285714286Z\" style=\"fill: #f58518; opacity: 0.7;\"></path><path d=\"M143.30357142857144,18.823529411764707h8.035714285714286v21.176470588235293h-8.035714285714286Z\" style=\"fill: #f58518; opacity: 0.7;\"></path><path d=\"M152.23214285714286,20h8.035714285714286v20h-8.035714285714286Z\" style=\"fill: #f58518; opacity: 0.7;\"></path><path d=\"M161.1607142857143,21.176470588235293h8.035714285714286v18.823529411764707h-8.035714285714286Z\" style=\"fill: #f58518; opacity: 0.7;\"></path><path d=\"M170.08928571428572,22.352941176470587h8.035714285714286v17.647058823529413h-8.035714285714286Z\" style=\"fill: #f58518; opacity: 0.7;\"></path><path d=\"M179.01785714285717,23.529411764705884h8.035714285714286v16.470588235294116h-8.035714285714286Z\" style=\"fill: #f58518; opacity: 0.7;\"></path><path d=\"M187.94642857142858,24.705882352941178h8.035714285714286v15.294117647058822h-8.035714285714286Z\" style=\"fill: #f58518; opacity: 0.7;\"></path><path d=\"M196.87500000000003,25.88235294117647h8.035714285714286v14.117647058823529h-8.035714285714286Z\" style=\"fill: #f58518; opacity: 0.7;\"></path><path d=\"M205.80357142857144,27.058823529411764h8.035714285714286v12.941176470588236h-8.035714285714286Z\" style=\"fill: #f58518; opacity: 0.7;\"></path><path d=\"M214.73214285714286,28.235294117647058h8.035714285714286v11.764705882352942h-8.035714285714286Z\" style=\"fill: #f58518; opacity: 0.7;\"></path><path d=\"M223.6607142857143,29.411764705882355h8.035714285714286v10.588235294117645h-8.035714285714286Z\" style=\"fill: #f58518; opacity: 0.7;\"></path><path d=\"M232.58928571428572,30.588235294117645h8.035714285714286v9.411764705882355h-8.035714285714286Z\" style=\"fill: #f58518; opacity: 0.7;\"></path><path d=\"M241.51785714285717,31.764705882352942h8.035714285714286v8.235294117647058h-8.035714285714286Z\" style=\"fill: #f58518; opacity: 0.7;\"></path><path d=\"M250.44642857142858,32.94117647058823h8.035714285714286v7.058823529411768h-8.035714285714286Z\" style=\"fill: #f58518; opacity: 0.7;\"></path><path d=\"M259.375,34.11764705882353h8.035714285714286v5.882352941176471h-8.035714285714286Z\" style=\"fill: #f58518; opacity: 0.7;\"></path><path d=\"M268.30357142857144,35.294117647058826h8.035714285714286v4.705882352941174h-8.035714285714286Z\" style=\"fill: #f58518; opacity: 0.7;\"></path><path d=\"M277.2321428571429,36.470588235294116h8.035714285714286v3.529411764705884h-8.035714285714286Z\" style=\"fill: #f58518; opacity: 0.7;\"></path><path d=\"M286.16071428571433,37.64705882352941h8.035714285714286v2.352941176470587h-8.035714285714286Z\" style=\"fill: #f58518; opacity: 0.7;\"></path><path d=\"M295.0892857142858,38.8235294117647h8.035714285714286v1.176470588235297h-8.035714285714286Z\" style=\"fill: #f58518; opacity: 0.7;\"></path><path d=\"M304.0178571428571,40h8.035714285714286v0h-8.035714285714286Z\" style=\"fill: #f58518; opacity: 0.7;\"></path><path d=\"M0.4464285714285836,0h8.035714285714286v40h-8.035714285714286Z\" style=\"fill: #4c78a8; opacity: 0.7;\"></path><path d=\"M9.375000000000012,0h8.035714285714286v40h-8.035714285714286Z\" style=\"fill: #4c78a8; opacity: 0.7;\"></path><path d=\"M18.30357142857144,0h8.035714285714286v40h-8.035714285714286Z\" style=\"fill: #4c78a8; opacity: 0.7;\"></path><path d=\"M27.23214285714287,0h8.035714285714286v40h-8.035714285714286Z\" style=\"fill: #4c78a8; opacity: 0.7;\"></path><path d=\"M36.1607142857143,0h8.035714285714286v40h-8.035714285714286Z\" style=\"fill: #4c78a8; opacity: 0.7;\"></path><path d=\"M45.08928571428573,0h8.035714285714286v40h-8.035714285714286Z\" style=\"fill: #4c78a8; opacity: 0.7;\"></path><path d=\"M54.01785714285715,40h8.035714285714286v0h-8.035714285714286Z\" style=\"fill: #4c78a8; opacity: 0.7;\"></path><path d=\"M62.946428571428584,0h8.035714285714286v40h-8.035714285714286Z\" style=\"fill: #4c78a8; opacity: 0.7;\"></path><path d=\"M71.87500000000001,0h8.035714285714286v40h-8.035714285714286Z\" style=\"fill: #4c78a8; opacity: 0.7;\"></path><path d=\"M80.80357142857144,0h8.035714285714286v40h-8.035714285714286Z\" style=\"fill: #4c78a8; opacity: 0.7;\"></path><path d=\"M89.73214285714288,40h8.035714285714286v0h-8.035714285714286Z\" style=\"fill: #4c78a8; opacity: 0.7;\"></path><path d=\"M98.6607142857143,0h8.035714285714286v40h-8.035714285714286Z\" style=\"fill: #4c78a8; opacity: 0.7;\"></path><path d=\"M107.58928571428572,0h8.035714285714286v40h-8.035714285714286Z\" style=\"fill: #4c78a8; opacity: 0.7;\"></path><path d=\"M116.51785714285715,40h8.035714285714286v0h-8.035714285714286Z\" style=\"fill: #4c78a8; opacity: 0.7;\"></path><path d=\"M125.44642857142858,0h8.035714285714286v40h-8.035714285714286Z\" style=\"fill: #4c78a8; opacity: 0.7;\"></path><path d=\"M134.37500000000003,40h8.035714285714286v0h-8.035714285714286Z\" style=\"fill: #4c78a8; opacity: 0.7;\"></path><path d=\"M143.30357142857144,0h8.035714285714286v40h-8.035714285714286Z\" style=\"fill: #4c78a8; opacity: 0.7;\"></path><path d=\"M152.23214285714286,40h8.035714285714286v0h-8.035714285714286Z\" style=\"fill: #4c78a8; opacity: 0.7;\"></path><path d=\"M161.1607142857143,0h8.035714285714286v40h-8.035714285714286Z\" style=\"fill: #4c78a8; opacity: 0.7;\"></path><path d=\"M170.08928571428572,40h8.035714285714286v0h-8.035714285714286Z\" style=\"fill: #4c78a8; opacity: 0.7;\"></path><path d=\"M179.01785714285717,0h8.035714285714286v40h-8.035714285714286Z\" style=\"fill: #4c78a8; opacity: 0.7;\"></path><path d=\"M187.94642857142858,40h8.035714285714286v0h-8.035714285714286Z\" style=\"fill: #4c78a8; opacity: 0.7;\"></path><path d=\"M196.87500000000003,0h8.035714285714286v40h-8.035714285714286Z\" style=\"fill: #4c78a8; opacity: 0.7;\"></path><path d=\"M205.80357142857144,40h8.035714285714286v0h-8.035714285714286Z\" style=\"fill: #4c78a8; opacity: 0.7;\"></path><path d=\"M214.73214285714286,40h8.035714285714286v0h-8.035714285714286Z\" style=\"fill: #4c78a8; opacity: 0.7;\"></path><path d=\"M223.6607142857143,40h8.035714285714286v0h-8.035714285714286Z\" style=\"fill: #4c78a8; opacity: 0.7;\"></path><path d=\"M232.58928571428572,0h8.035714285714286v40h-8.035714285714286Z\" style=\"fill: #4c78a8; opacity: 0.7;\"></path><path d=\"M241.51785714285717,40h8.035714285714286v0h-8.035714285714286Z\" style=\"fill: #4c78a8; opacity: 0.7;\"></path><path d=\"M250.44642857142858,40h8.035714285714286v0h-8.035714285714286Z\" style=\"fill: #4c78a8; opacity: 0.7;\"></path><path d=\"M259.375,40h8.035714285714286v0h-8.035714285714286Z\" style=\"fill: #4c78a8; opacity: 0.7;\"></path><path d=\"M268.30357142857144,40h8.035714285714286v0h-8.035714285714286Z\" style=\"fill: #4c78a8; opacity: 0.7;\"></path><path d=\"M277.2321428571429,40h8.035714285714286v0h-8.035714285714286Z\" style=\"fill: #4c78a8; opacity: 0.7;\"></path><path d=\"M286.16071428571433,40h8.035714285714286v0h-8.035714285714286Z\" style=\"fill: #4c78a8; opacity: 0.7;\"></path><path d=\"M295.0892857142858,40h8.035714285714286v0h-8.035714285714286Z\" style=\"fill: #4c78a8; opacity: 0.7;\"></path><path d=\"M304.0178571428571,40h8.035714285714286v0h-8.035714285714286Z\" style=\"fill: #4c78a8; opacity: 0.7;\"></path></g></g></g><g transform=\"translate(0,260)\"><path class=\"background\" d=\"M0.5,0.5h500v40h-500Z\" style=\"fill: none; stroke: #ddd;\"></path><g><g class=\"mark-group role-axis\"><g transform=\"translate(0.5,0.5)\"><path class=\"background\" d=\"M0,0h0v0h0Z\" style=\"pointer-events: none; fill: none;\"></path><g><g class=\"mark-rule role-axis-grid\" style=\"pointer-events: none;\"><line transform=\"translate(0,40)\" x2=\"500\" y2=\"0\" style=\"fill: none; stroke: #ddd; stroke-width: 1; opacity: 1;\"></line><line transform=\"translate(0,0)\" x2=\"500\" y2=\"0\" style=\"fill: none; stroke: #ddd; stroke-width: 1; opacity: 1;\"></line></g></g></g></g><g class=\"mark-rect role-mark child_marks\"><path d=\"M0.4464285714285836,0h8.035714285714286v40h-8.035714285714286Z\" style=\"fill: #f58518; opacity: 0.7;\"></path><path d=\"M9.375000000000012,0.9756097560975618h8.035714285714286v39.02439024390244h-8.035714285714286Z\" style=\"fill: #f58518; opacity: 0.7;\"></path><path d=\"M18.30357142857144,1.9512195121951237h8.035714285714286v38.048780487804876h-8.035714285714286Z\" style=\"fill: #f58518; opacity: 0.7;\"></path><path d=\"M27.23214285714287,2.9268292682926784h8.035714285714286v37.07317073170732h-8.035714285714286Z\" style=\"fill: #f58518; opacity: 0.7;\"></path><path d=\"M36.1607142857143,3.9024390243902403h8.035714285714286v36.09756097560976h-8.035714285714286Z\" style=\"fill: #f58518; opacity: 0.7;\"></path><path d=\"M45.08928571428573,4.878048780487802h8.035714285714286v35.1219512195122h-8.035714285714286Z\" style=\"fill: #f58518; opacity: 0.7;\"></path><path d=\"M54.01785714285715,5.853658536585364h8.035714285714286v34.146341463414636h-8.035714285714286Z\" style=\"fill: #f58518; opacity: 0.7;\"></path><path d=\"M62.946428571428584,6.829268292682926h8.035714285714286v33.170731707317074h-8.035714285714286Z\" style=\"fill: #f58518; opacity: 0.7;\"></path><path d=\"M71.87500000000001,7.804878048780488h8.035714285714286v32.19512195121951h-8.035714285714286Z\" style=\"fill: #f58518; opacity: 0.7;\"></path><path d=\"M80.80357142857144,8.78048780487805h8.035714285714286v31.21951219512195h-8.035714285714286Z\" style=\"fill: #f58518; opacity: 0.7;\"></path><path d=\"M89.73214285714288,9.756097560975611h8.035714285714286v30.24390243902439h-8.035714285714286Z\" style=\"fill: #f58518; opacity: 0.7;\"></path><path d=\"M98.6607142857143,10.731707317073173h8.035714285714286v29.268292682926827h-8.035714285714286Z\" style=\"fill: #f58518; opacity: 0.7;\"></path><path d=\"M107.58928571428572,11.707317073170735h8.035714285714286v28.292682926829265h-8.035714285714286Z\" style=\"fill: #f58518; opacity: 0.7;\"></path><path d=\"M116.51785714285715,12.68292682926829h8.035714285714286v27.31707317073171h-8.035714285714286Z\" style=\"fill: #f58518; opacity: 0.7;\"></path><path d=\"M125.44642857142858,13.658536585365852h8.035714285714286v26.34146341463415h-8.035714285714286Z\" style=\"fill: #f58518; opacity: 0.7;\"></path><path d=\"M134.37500000000003,14.634146341463413h8.035714285714286v25.365853658536587h-8.035714285714286Z\" style=\"fill: #f58518; opacity: 0.7;\"></path><path d=\"M143.30357142857144,15.609756097560975h8.035714285714286v24.390243902439025h-8.035714285714286Z\" style=\"fill: #f58518; opacity: 0.7;\"></path><path d=\"M152.23214285714286,16.585365853658537h8.035714285714286v23.414634146341463h-8.035714285714286Z\" style=\"fill: #f58518; opacity: 0.7;\"></path><path d=\"M161.1607142857143,17.560975609756095h8.035714285714286v22.439024390243905h-8.035714285714286Z\" style=\"fill: #f58518; opacity: 0.7;\"></path><path d=\"M170.08928571428572,18.536585365853657h8.035714285714286v21.463414634146343h-8.035714285714286Z\" style=\"fill: #f58518; opacity: 0.7;\"></path><path d=\"M179.01785714285717,19.51219512195122h8.035714285714286v20.48780487804878h-8.035714285714286Z\" style=\"fill: #f58518; opacity: 0.7;\"></path><path d=\"M187.94642857142858,20.48780487804878h8.035714285714286v19.51219512195122h-8.035714285714286Z\" style=\"fill: #f58518; opacity: 0.7;\"></path><path d=\"M196.87500000000003,21.46341463414634h8.035714285714286v18.53658536585366h-8.035714285714286Z\" style=\"fill: #f58518; opacity: 0.7;\"></path><path d=\"M205.80357142857144,22.4390243902439h8.035714285714286v17.5609756097561h-8.035714285714286Z\" style=\"fill: #f58518; opacity: 0.7;\"></path><path d=\"M214.73214285714286,23.414634146341463h8.035714285714286v16.585365853658537h-8.035714285714286Z\" style=\"fill: #f58518; opacity: 0.7;\"></path><path d=\"M223.6607142857143,24.390243902439025h8.035714285714286v15.609756097560975h-8.035714285714286Z\" style=\"fill: #f58518; opacity: 0.7;\"></path><path d=\"M232.58928571428572,25.365853658536587h8.035714285714286v14.634146341463413h-8.035714285714286Z\" style=\"fill: #f58518; opacity: 0.7;\"></path><path d=\"M241.51785714285717,26.341463414634145h8.035714285714286v13.658536585365855h-8.035714285714286Z\" style=\"fill: #f58518; opacity: 0.7;\"></path><path d=\"M250.44642857142858,27.317073170731707h8.035714285714286v12.682926829268293h-8.035714285714286Z\" style=\"fill: #f58518; opacity: 0.7;\"></path><path d=\"M259.375,28.29268292682927h8.035714285714286v11.707317073170731h-8.035714285714286Z\" style=\"fill: #f58518; opacity: 0.7;\"></path><path d=\"M268.30357142857144,29.268292682926827h8.035714285714286v10.731707317073173h-8.035714285714286Z\" style=\"fill: #f58518; opacity: 0.7;\"></path><path d=\"M277.2321428571429,30.24390243902439h8.035714285714286v9.756097560975611h-8.035714285714286Z\" style=\"fill: #f58518; opacity: 0.7;\"></path><path d=\"M286.16071428571433,31.21951219512195h8.035714285714286v8.78048780487805h-8.035714285714286Z\" style=\"fill: #f58518; opacity: 0.7;\"></path><path d=\"M295.0892857142858,32.19512195121951h8.035714285714286v7.804878048780488h-8.035714285714286Z\" style=\"fill: #f58518; opacity: 0.7;\"></path><path d=\"M304.0178571428571,33.170731707317074h8.035714285714286v6.829268292682926h-8.035714285714286Z\" style=\"fill: #f58518; opacity: 0.7;\"></path><path d=\"M312.94642857142856,34.146341463414636h8.035714285714286v5.853658536585364h-8.035714285714286Z\" style=\"fill: #f58518; opacity: 0.7;\"></path><path d=\"M321.875,35.1219512195122h8.035714285714286v4.878048780487802h-8.035714285714286Z\" style=\"fill: #f58518; opacity: 0.7;\"></path><path d=\"M330.80357142857144,36.09756097560975h8.035714285714286v3.9024390243902474h-8.035714285714286Z\" style=\"fill: #f58518; opacity: 0.7;\"></path><path d=\"M339.7321428571429,37.073170731707314h8.035714285714286v2.9268292682926855h-8.035714285714286Z\" style=\"fill: #f58518; opacity: 0.7;\"></path><path d=\"M348.66071428571433,38.048780487804876h8.035714285714286v1.9512195121951237h-8.035714285714286Z\" style=\"fill: #f58518; opacity: 0.7;\"></path><path d=\"M357.5892857142858,39.02439024390244h8.035714285714286v0.9756097560975618h-8.035714285714286Z\" style=\"fill: #f58518; opacity: 0.7;\"></path><path d=\"M366.5178571428571,40h8.035714285714286v0h-8.035714285714286Z\" style=\"fill: #f58518; opacity: 0.7;\"></path><path d=\"M0.4464285714285836,0h8.035714285714286v40h-8.035714285714286Z\" style=\"fill: #4c78a8; opacity: 0.7;\"></path><path d=\"M9.375000000000012,0h8.035714285714286v40h-8.035714285714286Z\" style=\"fill: #4c78a8; opacity: 0.7;\"></path><path d=\"M18.30357142857144,0h8.035714285714286v40h-8.035714285714286Z\" style=\"fill: #4c78a8; opacity: 0.7;\"></path><path d=\"M27.23214285714287,0h8.035714285714286v40h-8.035714285714286Z\" style=\"fill: #4c78a8; opacity: 0.7;\"></path><path d=\"M36.1607142857143,0h8.035714285714286v40h-8.035714285714286Z\" style=\"fill: #4c78a8; opacity: 0.7;\"></path><path d=\"M45.08928571428573,0h8.035714285714286v40h-8.035714285714286Z\" style=\"fill: #4c78a8; opacity: 0.7;\"></path><path d=\"M54.01785714285715,40h8.035714285714286v0h-8.035714285714286Z\" style=\"fill: #4c78a8; opacity: 0.7;\"></path><path d=\"M62.946428571428584,0h8.035714285714286v40h-8.035714285714286Z\" style=\"fill: #4c78a8; opacity: 0.7;\"></path><path d=\"M71.87500000000001,0h8.035714285714286v40h-8.035714285714286Z\" style=\"fill: #4c78a8; opacity: 0.7;\"></path><path d=\"M80.80357142857144,0h8.035714285714286v40h-8.035714285714286Z\" style=\"fill: #4c78a8; opacity: 0.7;\"></path><path d=\"M89.73214285714288,0h8.035714285714286v40h-8.035714285714286Z\" style=\"fill: #4c78a8; opacity: 0.7;\"></path><path d=\"M98.6607142857143,40h8.035714285714286v0h-8.035714285714286Z\" style=\"fill: #4c78a8; opacity: 0.7;\"></path><path d=\"M107.58928571428572,0h8.035714285714286v40h-8.035714285714286Z\" style=\"fill: #4c78a8; opacity: 0.7;\"></path><path d=\"M116.51785714285715,0h8.035714285714286v40h-8.035714285714286Z\" style=\"fill: #4c78a8; opacity: 0.7;\"></path><path d=\"M125.44642857142858,40h8.035714285714286v0h-8.035714285714286Z\" style=\"fill: #4c78a8; opacity: 0.7;\"></path><path d=\"M134.37500000000003,0h8.035714285714286v40h-8.035714285714286Z\" style=\"fill: #4c78a8; opacity: 0.7;\"></path><path d=\"M143.30357142857144,0h8.035714285714286v40h-8.035714285714286Z\" style=\"fill: #4c78a8; opacity: 0.7;\"></path><path d=\"M152.23214285714286,40h8.035714285714286v0h-8.035714285714286Z\" style=\"fill: #4c78a8; opacity: 0.7;\"></path><path d=\"M161.1607142857143,0h8.035714285714286v40h-8.035714285714286Z\" style=\"fill: #4c78a8; opacity: 0.7;\"></path><path d=\"M170.08928571428572,40h8.035714285714286v0h-8.035714285714286Z\" style=\"fill: #4c78a8; opacity: 0.7;\"></path><path d=\"M179.01785714285717,0h8.035714285714286v40h-8.035714285714286Z\" style=\"fill: #4c78a8; opacity: 0.7;\"></path><path d=\"M187.94642857142858,40h8.035714285714286v0h-8.035714285714286Z\" style=\"fill: #4c78a8; opacity: 0.7;\"></path><path d=\"M196.87500000000003,0h8.035714285714286v40h-8.035714285714286Z\" style=\"fill: #4c78a8; opacity: 0.7;\"></path><path d=\"M205.80357142857144,40h8.035714285714286v0h-8.035714285714286Z\" style=\"fill: #4c78a8; opacity: 0.7;\"></path><path d=\"M214.73214285714286,0h8.035714285714286v40h-8.035714285714286Z\" style=\"fill: #4c78a8; opacity: 0.7;\"></path><path d=\"M223.6607142857143,40h8.035714285714286v0h-8.035714285714286Z\" style=\"fill: #4c78a8; opacity: 0.7;\"></path><path d=\"M232.58928571428572,40h8.035714285714286v0h-8.035714285714286Z\" style=\"fill: #4c78a8; opacity: 0.7;\"></path><path d=\"M241.51785714285717,0h8.035714285714286v40h-8.035714285714286Z\" style=\"fill: #4c78a8; opacity: 0.7;\"></path><path d=\"M250.44642857142858,40h8.035714285714286v0h-8.035714285714286Z\" style=\"fill: #4c78a8; opacity: 0.7;\"></path><path d=\"M259.375,40h8.035714285714286v0h-8.035714285714286Z\" style=\"fill: #4c78a8; opacity: 0.7;\"></path><path d=\"M268.30357142857144,0h8.035714285714286v40h-8.035714285714286Z\" style=\"fill: #4c78a8; opacity: 0.7;\"></path><path d=\"M277.2321428571429,40h8.035714285714286v0h-8.035714285714286Z\" style=\"fill: #4c78a8; opacity: 0.7;\"></path><path d=\"M286.16071428571433,40h8.035714285714286v0h-8.035714285714286Z\" style=\"fill: #4c78a8; opacity: 0.7;\"></path><path d=\"M295.0892857142858,40h8.035714285714286v0h-8.035714285714286Z\" style=\"fill: #4c78a8; opacity: 0.7;\"></path><path d=\"M304.0178571428571,40h8.035714285714286v0h-8.035714285714286Z\" style=\"fill: #4c78a8; opacity: 0.7;\"></path><path d=\"M312.94642857142856,0h8.035714285714286v40h-8.035714285714286Z\" style=\"fill: #4c78a8; opacity: 0.7;\"></path><path d=\"M321.875,40h8.035714285714286v0h-8.035714285714286Z\" style=\"fill: #4c78a8; opacity: 0.7;\"></path><path d=\"M330.80357142857144,40h8.035714285714286v0h-8.035714285714286Z\" style=\"fill: #4c78a8; opacity: 0.7;\"></path><path d=\"M339.7321428571429,40h8.035714285714286v0h-8.035714285714286Z\" style=\"fill: #4c78a8; opacity: 0.7;\"></path><path d=\"M348.66071428571433,40h8.035714285714286v0h-8.035714285714286Z\" style=\"fill: #4c78a8; opacity: 0.7;\"></path><path d=\"M357.5892857142858,40h8.035714285714286v0h-8.035714285714286Z\" style=\"fill: #4c78a8; opacity: 0.7;\"></path><path d=\"M366.5178571428571,40h8.035714285714286v0h-8.035714285714286Z\" style=\"fill: #4c78a8; opacity: 0.7;\"></path></g></g></g><g transform=\"translate(0,312)\"><path class=\"background\" d=\"M0.5,0.5h500v40h-500Z\" style=\"fill: none; stroke: #ddd;\"></path><g><g class=\"mark-group role-axis\"><g transform=\"translate(0.5,0.5)\"><path class=\"background\" d=\"M0,0h0v0h0Z\" style=\"pointer-events: none; fill: none;\"></path><g><g class=\"mark-rule role-axis-grid\" style=\"pointer-events: none;\"><line transform=\"translate(0,40)\" x2=\"500\" y2=\"0\" style=\"fill: none; stroke: #ddd; stroke-width: 1; opacity: 1;\"></line><line transform=\"translate(0,0)\" x2=\"500\" y2=\"0\" style=\"fill: none; stroke: #ddd; stroke-width: 1; opacity: 1;\"></line></g></g></g></g><g class=\"mark-rect role-mark child_marks\"><path d=\"M0.4464285714285836,0h8.035714285714286v40h-8.035714285714286Z\" style=\"fill: #f58518; opacity: 0.7;\"></path><path d=\"M9.375000000000012,0.8333333333333357h8.035714285714286v39.166666666666664h-8.035714285714286Z\" style=\"fill: #f58518; opacity: 0.7;\"></path><path d=\"M18.30357142857144,1.6666666666666643h8.035714285714286v38.333333333333336h-8.035714285714286Z\" style=\"fill: #f58518; opacity: 0.7;\"></path><path d=\"M27.23214285714287,2.5h8.035714285714286v37.5h-8.035714285714286Z\" style=\"fill: #f58518; opacity: 0.7;\"></path><path d=\"M36.1607142857143,3.3333333333333357h8.035714285714286v36.666666666666664h-8.035714285714286Z\" style=\"fill: #f58518; opacity: 0.7;\"></path><path d=\"M45.08928571428573,4.166666666666664h8.035714285714286v35.833333333333336h-8.035714285714286Z\" style=\"fill: #f58518; opacity: 0.7;\"></path><path d=\"M54.01785714285715,5h8.035714285714286v35h-8.035714285714286Z\" style=\"fill: #f58518; opacity: 0.7;\"></path><path d=\"M62.946428571428584,5.833333333333336h8.035714285714286v34.166666666666664h-8.035714285714286Z\" style=\"fill: #f58518; opacity: 0.7;\"></path><path d=\"M71.87500000000001,6.666666666666664h8.035714285714286v33.333333333333336h-8.035714285714286Z\" style=\"fill: #f58518; opacity: 0.7;\"></path><path d=\"M80.80357142857144,7.5h8.035714285714286v32.5h-8.035714285714286Z\" style=\"fill: #f58518; opacity: 0.7;\"></path><path d=\"M89.73214285714288,8.333333333333336h8.035714285714286v31.666666666666664h-8.035714285714286Z\" style=\"fill: #f58518; opacity: 0.7;\"></path><path d=\"M98.6607142857143,9.166666666666664h8.035714285714286v30.833333333333336h-8.035714285714286Z\" style=\"fill: #f58518; opacity: 0.7;\"></path><path d=\"M107.58928571428572,10h8.035714285714286v30h-8.035714285714286Z\" style=\"fill: #f58518; opacity: 0.7;\"></path><path d=\"M116.51785714285715,10.833333333333336h8.035714285714286v29.166666666666664h-8.035714285714286Z\" style=\"fill: #f58518; opacity: 0.7;\"></path><path d=\"M125.44642857142858,11.666666666666664h8.035714285714286v28.333333333333336h-8.035714285714286Z\" style=\"fill: #f58518; opacity: 0.7;\"></path><path d=\"M134.37500000000003,12.5h8.035714285714286v27.5h-8.035714285714286Z\" style=\"fill: #f58518; opacity: 0.7;\"></path><path d=\"M143.30357142857144,13.333333333333336h8.035714285714286v26.666666666666664h-8.035714285714286Z\" style=\"fill: #f58518; opacity: 0.7;\"></path><path d=\"M152.23214285714286,14.166666666666664h8.035714285714286v25.833333333333336h-8.035714285714286Z\" style=\"fill: #f58518; opacity: 0.7;\"></path><path d=\"M161.1607142857143,15h8.035714285714286v25h-8.035714285714286Z\" style=\"fill: #f58518; opacity: 0.7;\"></path><path d=\"M170.08928571428572,15.833333333333336h8.035714285714286v24.166666666666664h-8.035714285714286Z\" style=\"fill: #f58518; opacity: 0.7;\"></path><path d=\"M179.01785714285717,16.666666666666664h8.035714285714286v23.333333333333336h-8.035714285714286Z\" style=\"fill: #f58518; opacity: 0.7;\"></path><path d=\"M187.94642857142858,17.5h8.035714285714286v22.5h-8.035714285714286Z\" style=\"fill: #f58518; opacity: 0.7;\"></path><path d=\"M196.87500000000003,18.333333333333336h8.035714285714286v21.666666666666664h-8.035714285714286Z\" style=\"fill: #f58518; opacity: 0.7;\"></path><path d=\"M205.80357142857144,19.166666666666664h8.035714285714286v20.833333333333336h-8.035714285714286Z\" style=\"fill: #f58518; opacity: 0.7;\"></path><path d=\"M214.73214285714286,20h8.035714285714286v20h-8.035714285714286Z\" style=\"fill: #f58518; opacity: 0.7;\"></path><path d=\"M223.6607142857143,20.833333333333332h8.035714285714286v19.166666666666668h-8.035714285714286Z\" style=\"fill: #f58518; opacity: 0.7;\"></path><path d=\"M232.58928571428572,21.666666666666668h8.035714285714286v18.333333333333332h-8.035714285714286Z\" style=\"fill: #f58518; opacity: 0.7;\"></path><path d=\"M241.51785714285717,22.5h8.035714285714286v17.5h-8.035714285714286Z\" style=\"fill: #f58518; opacity: 0.7;\"></path><path d=\"M250.44642857142858,23.333333333333332h8.035714285714286v16.666666666666668h-8.035714285714286Z\" style=\"fill: #f58518; opacity: 0.7;\"></path><path d=\"M259.375,24.166666666666668h8.035714285714286v15.833333333333332h-8.035714285714286Z\" style=\"fill: #f58518; opacity: 0.7;\"></path><path d=\"M268.30357142857144,25h8.035714285714286v15h-8.035714285714286Z\" style=\"fill: #f58518; opacity: 0.7;\"></path><path d=\"M277.2321428571429,25.833333333333332h8.035714285714286v14.166666666666668h-8.035714285714286Z\" style=\"fill: #f58518; opacity: 0.7;\"></path><path d=\"M286.16071428571433,26.666666666666668h8.035714285714286v13.333333333333332h-8.035714285714286Z\" style=\"fill: #f58518; opacity: 0.7;\"></path><path d=\"M295.0892857142858,27.5h8.035714285714286v12.5h-8.035714285714286Z\" style=\"fill: #f58518; opacity: 0.7;\"></path><path d=\"M304.0178571428571,28.333333333333332h8.035714285714286v11.666666666666668h-8.035714285714286Z\" style=\"fill: #f58518; opacity: 0.7;\"></path><path d=\"M312.94642857142856,29.166666666666668h8.035714285714286v10.833333333333332h-8.035714285714286Z\" style=\"fill: #f58518; opacity: 0.7;\"></path><path d=\"M321.875,30h8.035714285714286v10h-8.035714285714286Z\" style=\"fill: #f58518; opacity: 0.7;\"></path><path d=\"M330.80357142857144,30.833333333333336h8.035714285714286v9.166666666666664h-8.035714285714286Z\" style=\"fill: #f58518; opacity: 0.7;\"></path><path d=\"M339.7321428571429,31.666666666666664h8.035714285714286v8.333333333333336h-8.035714285714286Z\" style=\"fill: #f58518; opacity: 0.7;\"></path><path d=\"M348.66071428571433,32.5h8.035714285714286v7.5h-8.035714285714286Z\" style=\"fill: #f58518; opacity: 0.7;\"></path><path d=\"M357.5892857142858,33.333333333333336h8.035714285714286v6.666666666666664h-8.035714285714286Z\" style=\"fill: #f58518; opacity: 0.7;\"></path><path d=\"M366.5178571428571,34.166666666666664h8.035714285714286v5.833333333333336h-8.035714285714286Z\" style=\"fill: #f58518; opacity: 0.7;\"></path><path d=\"M375.44642857142856,35h8.035714285714286v5h-8.035714285714286Z\" style=\"fill: #f58518; opacity: 0.7;\"></path><path d=\"M384.375,35.833333333333336h8.035714285714286v4.166666666666664h-8.035714285714286Z\" style=\"fill: #f58518; opacity: 0.7;\"></path><path d=\"M393.30357142857144,36.666666666666664h8.035714285714286v3.3333333333333357h-8.035714285714286Z\" style=\"fill: #f58518; opacity: 0.7;\"></path><path d=\"M402.2321428571429,37.5h8.035714285714286v2.5h-8.035714285714286Z\" style=\"fill: #f58518; opacity: 0.7;\"></path><path d=\"M411.16071428571433,38.333333333333336h8.035714285714286v1.6666666666666643h-8.035714285714286Z\" style=\"fill: #f58518; opacity: 0.7;\"></path><path d=\"M420.0892857142858,39.166666666666664h8.035714285714286v0.8333333333333357h-8.035714285714286Z\" style=\"fill: #f58518; opacity: 0.7;\"></path><path d=\"M429.0178571428571,40h8.035714285714286v0h-8.035714285714286Z\" style=\"fill: #f58518; opacity: 0.7;\"></path><path d=\"M0.4464285714285836,0h8.035714285714286v40h-8.035714285714286Z\" style=\"fill: #4c78a8; opacity: 0.7;\"></path><path d=\"M9.375000000000012,0h8.035714285714286v40h-8.035714285714286Z\" style=\"fill: #4c78a8; opacity: 0.7;\"></path><path d=\"M18.30357142857144,0h8.035714285714286v40h-8.035714285714286Z\" style=\"fill: #4c78a8; opacity: 0.7;\"></path><path d=\"M27.23214285714287,0h8.035714285714286v40h-8.035714285714286Z\" style=\"fill: #4c78a8; opacity: 0.7;\"></path><path d=\"M36.1607142857143,0h8.035714285714286v40h-8.035714285714286Z\" style=\"fill: #4c78a8; opacity: 0.7;\"></path><path d=\"M45.08928571428573,0h8.035714285714286v40h-8.035714285714286Z\" style=\"fill: #4c78a8; opacity: 0.7;\"></path><path d=\"M54.01785714285715,0h8.035714285714286v40h-8.035714285714286Z\" style=\"fill: #4c78a8; opacity: 0.7;\"></path><path d=\"M62.946428571428584,40h8.035714285714286v0h-8.035714285714286Z\" style=\"fill: #4c78a8; opacity: 0.7;\"></path><path d=\"M71.87500000000001,0h8.035714285714286v40h-8.035714285714286Z\" style=\"fill: #4c78a8; opacity: 0.7;\"></path><path d=\"M80.80357142857144,0h8.035714285714286v40h-8.035714285714286Z\" style=\"fill: #4c78a8; opacity: 0.7;\"></path><path d=\"M89.73214285714288,0h8.035714285714286v40h-8.035714285714286Z\" style=\"fill: #4c78a8; opacity: 0.7;\"></path><path d=\"M98.6607142857143,0h8.035714285714286v40h-8.035714285714286Z\" style=\"fill: #4c78a8; opacity: 0.7;\"></path><path d=\"M107.58928571428572,40h8.035714285714286v0h-8.035714285714286Z\" style=\"fill: #4c78a8; opacity: 0.7;\"></path><path d=\"M116.51785714285715,0h8.035714285714286v40h-8.035714285714286Z\" style=\"fill: #4c78a8; opacity: 0.7;\"></path><path d=\"M125.44642857142858,0h8.035714285714286v40h-8.035714285714286Z\" style=\"fill: #4c78a8; opacity: 0.7;\"></path><path d=\"M134.37500000000003,40h8.035714285714286v0h-8.035714285714286Z\" style=\"fill: #4c78a8; opacity: 0.7;\"></path><path d=\"M143.30357142857144,0h8.035714285714286v40h-8.035714285714286Z\" style=\"fill: #4c78a8; opacity: 0.7;\"></path><path d=\"M152.23214285714286,0h8.035714285714286v40h-8.035714285714286Z\" style=\"fill: #4c78a8; opacity: 0.7;\"></path><path d=\"M161.1607142857143,40h8.035714285714286v0h-8.035714285714286Z\" style=\"fill: #4c78a8; opacity: 0.7;\"></path><path d=\"M170.08928571428572,0h8.035714285714286v40h-8.035714285714286Z\" style=\"fill: #4c78a8; opacity: 0.7;\"></path><path d=\"M179.01785714285717,0h8.035714285714286v40h-8.035714285714286Z\" style=\"fill: #4c78a8; opacity: 0.7;\"></path><path d=\"M187.94642857142858,40h8.035714285714286v0h-8.035714285714286Z\" style=\"fill: #4c78a8; opacity: 0.7;\"></path><path d=\"M196.87500000000003,0h8.035714285714286v40h-8.035714285714286Z\" style=\"fill: #4c78a8; opacity: 0.7;\"></path><path d=\"M205.80357142857144,40h8.035714285714286v0h-8.035714285714286Z\" style=\"fill: #4c78a8; opacity: 0.7;\"></path><path d=\"M214.73214285714286,0h8.035714285714286v40h-8.035714285714286Z\" style=\"fill: #4c78a8; opacity: 0.7;\"></path><path d=\"M223.6607142857143,40h8.035714285714286v0h-8.035714285714286Z\" style=\"fill: #4c78a8; opacity: 0.7;\"></path><path d=\"M232.58928571428572,0h8.035714285714286v40h-8.035714285714286Z\" style=\"fill: #4c78a8; opacity: 0.7;\"></path><path d=\"M241.51785714285717,40h8.035714285714286v0h-8.035714285714286Z\" style=\"fill: #4c78a8; opacity: 0.7;\"></path><path d=\"M250.44642857142858,0h8.035714285714286v40h-8.035714285714286Z\" style=\"fill: #4c78a8; opacity: 0.7;\"></path><path d=\"M259.375,40h8.035714285714286v0h-8.035714285714286Z\" style=\"fill: #4c78a8; opacity: 0.7;\"></path><path d=\"M268.30357142857144,40h8.035714285714286v0h-8.035714285714286Z\" style=\"fill: #4c78a8; opacity: 0.7;\"></path><path d=\"M277.2321428571429,0h8.035714285714286v40h-8.035714285714286Z\" style=\"fill: #4c78a8; opacity: 0.7;\"></path><path d=\"M286.16071428571433,40h8.035714285714286v0h-8.035714285714286Z\" style=\"fill: #4c78a8; opacity: 0.7;\"></path><path d=\"M295.0892857142858,40h8.035714285714286v0h-8.035714285714286Z\" style=\"fill: #4c78a8; opacity: 0.7;\"></path><path d=\"M304.0178571428571,0h8.035714285714286v40h-8.035714285714286Z\" style=\"fill: #4c78a8; opacity: 0.7;\"></path><path d=\"M312.94642857142856,40h8.035714285714286v0h-8.035714285714286Z\" style=\"fill: #4c78a8; opacity: 0.7;\"></path><path d=\"M321.875,40h8.035714285714286v0h-8.035714285714286Z\" style=\"fill: #4c78a8; opacity: 0.7;\"></path><path d=\"M330.80357142857144,40h8.035714285714286v0h-8.035714285714286Z\" style=\"fill: #4c78a8; opacity: 0.7;\"></path><path d=\"M339.7321428571429,0h8.035714285714286v40h-8.035714285714286Z\" style=\"fill: #4c78a8; opacity: 0.7;\"></path><path d=\"M348.66071428571433,40h8.035714285714286v0h-8.035714285714286Z\" style=\"fill: #4c78a8; opacity: 0.7;\"></path><path d=\"M357.5892857142858,40h8.035714285714286v0h-8.035714285714286Z\" style=\"fill: #4c78a8; opacity: 0.7;\"></path><path d=\"M366.5178571428571,40h8.035714285714286v0h-8.035714285714286Z\" style=\"fill: #4c78a8; opacity: 0.7;\"></path><path d=\"M375.44642857142856,40h8.035714285714286v0h-8.035714285714286Z\" style=\"fill: #4c78a8; opacity: 0.7;\"></path><path d=\"M384.375,40h8.035714285714286v0h-8.035714285714286Z\" style=\"fill: #4c78a8; opacity: 0.7;\"></path><path d=\"M393.30357142857144,40h8.035714285714286v0h-8.035714285714286Z\" style=\"fill: #4c78a8; opacity: 0.7;\"></path><path d=\"M402.2321428571429,40h8.035714285714286v0h-8.035714285714286Z\" style=\"fill: #4c78a8; opacity: 0.7;\"></path><path d=\"M411.16071428571433,40h8.035714285714286v0h-8.035714285714286Z\" style=\"fill: #4c78a8; opacity: 0.7;\"></path><path d=\"M420.0892857142858,40h8.035714285714286v0h-8.035714285714286Z\" style=\"fill: #4c78a8; opacity: 0.7;\"></path><path d=\"M429.0178571428571,40h8.035714285714286v0h-8.035714285714286Z\" style=\"fill: #4c78a8; opacity: 0.7;\"></path></g></g></g><g transform=\"translate(0,364)\"><path class=\"background\" d=\"M0.5,0.5h500v40h-500Z\" style=\"fill: none; stroke: #ddd;\"></path><g><g class=\"mark-group role-axis\"><g transform=\"translate(0.5,0.5)\"><path class=\"background\" d=\"M0,0h0v0h0Z\" style=\"pointer-events: none; fill: none;\"></path><g><g class=\"mark-rule role-axis-grid\" style=\"pointer-events: none;\"><line transform=\"translate(0,40)\" x2=\"500\" y2=\"0\" style=\"fill: none; stroke: #ddd; stroke-width: 1; opacity: 1;\"></line><line transform=\"translate(0,0)\" x2=\"500\" y2=\"0\" style=\"fill: none; stroke: #ddd; stroke-width: 1; opacity: 1;\"></line></g></g></g></g><g class=\"mark-rect role-mark child_marks\"><path d=\"M0.4464285714285836,0h8.035714285714286v40h-8.035714285714286Z\" style=\"fill: #f58518; opacity: 0.7;\"></path><path d=\"M9.375000000000012,0.7272727272727266h8.035714285714286v39.27272727272727h-8.035714285714286Z\" style=\"fill: #f58518; opacity: 0.7;\"></path><path d=\"M18.30357142857144,1.4545454545454533h8.035714285714286v38.54545454545455h-8.035714285714286Z\" style=\"fill: #f58518; opacity: 0.7;\"></path><path d=\"M27.23214285714287,2.18181818181818h8.035714285714286v37.81818181818182h-8.035714285714286Z\" style=\"fill: #f58518; opacity: 0.7;\"></path><path d=\"M36.1607142857143,2.9090909090909065h8.035714285714286v37.09090909090909h-8.035714285714286Z\" style=\"fill: #f58518; opacity: 0.7;\"></path><path d=\"M45.08928571428573,3.6363636363636402h8.035714285714286v36.36363636363636h-8.035714285714286Z\" style=\"fill: #f58518; opacity: 0.7;\"></path><path d=\"M54.01785714285715,4.363636363636367h8.035714285714286v35.63636363636363h-8.035714285714286Z\" style=\"fill: #f58518; opacity: 0.7;\"></path><path d=\"M62.946428571428584,5.0909090909090935h8.035714285714286v34.90909090909091h-8.035714285714286Z\" style=\"fill: #f58518; opacity: 0.7;\"></path><path d=\"M71.87500000000001,5.81818181818182h8.035714285714286v34.18181818181818h-8.035714285714286Z\" style=\"fill: #f58518; opacity: 0.7;\"></path><path d=\"M80.80357142857144,6.545454545454547h8.035714285714286v33.45454545454545h-8.035714285714286Z\" style=\"fill: #f58518; opacity: 0.7;\"></path><path d=\"M89.73214285714288,7.272727272727273h8.035714285714286v32.72727272727273h-8.035714285714286Z\" style=\"fill: #f58518; opacity: 0.7;\"></path><path d=\"M98.6607142857143,8h8.035714285714286v32h-8.035714285714286Z\" style=\"fill: #f58518; opacity: 0.7;\"></path><path d=\"M107.58928571428572,8.727272727272727h8.035714285714286v31.272727272727273h-8.035714285714286Z\" style=\"fill: #f58518; opacity: 0.7;\"></path><path d=\"M116.51785714285715,9.454545454545453h8.035714285714286v30.545454545454547h-8.035714285714286Z\" style=\"fill: #f58518; opacity: 0.7;\"></path><path d=\"M125.44642857142858,10.18181818181818h8.035714285714286v29.81818181818182h-8.035714285714286Z\" style=\"fill: #f58518; opacity: 0.7;\"></path><path d=\"M134.37500000000003,10.909090909090907h8.035714285714286v29.090909090909093h-8.035714285714286Z\" style=\"fill: #f58518; opacity: 0.7;\"></path><path d=\"M143.30357142857144,11.636363636363637h8.035714285714286v28.363636363636363h-8.035714285714286Z\" style=\"fill: #f58518; opacity: 0.7;\"></path><path d=\"M152.23214285714286,12.363636363636363h8.035714285714286v27.636363636363637h-8.035714285714286Z\" style=\"fill: #f58518; opacity: 0.7;\"></path><path d=\"M161.1607142857143,13.09090909090909h8.035714285714286v26.90909090909091h-8.035714285714286Z\" style=\"fill: #f58518; opacity: 0.7;\"></path><path d=\"M170.08928571428572,13.81818181818182h8.035714285714286v26.18181818181818h-8.035714285714286Z\" style=\"fill: #f58518; opacity: 0.7;\"></path><path d=\"M179.01785714285717,14.545454545454547h8.035714285714286v25.454545454545453h-8.035714285714286Z\" style=\"fill: #f58518; opacity: 0.7;\"></path><path d=\"M187.94642857142858,15.272727272727273h8.035714285714286v24.727272727272727h-8.035714285714286Z\" style=\"fill: #f58518; opacity: 0.7;\"></path><path d=\"M196.87500000000003,16h8.035714285714286v24h-8.035714285714286Z\" style=\"fill: #f58518; opacity: 0.7;\"></path><path d=\"M205.80357142857144,16.727272727272727h8.035714285714286v23.272727272727273h-8.035714285714286Z\" style=\"fill: #f58518; opacity: 0.7;\"></path><path d=\"M214.73214285714286,17.454545454545457h8.035714285714286v22.545454545454543h-8.035714285714286Z\" style=\"fill: #f58518; opacity: 0.7;\"></path><path d=\"M223.6607142857143,18.181818181818183h8.035714285714286v21.818181818181817h-8.035714285714286Z\" style=\"fill: #f58518; opacity: 0.7;\"></path><path d=\"M232.58928571428572,18.90909090909091h8.035714285714286v21.09090909090909h-8.035714285714286Z\" style=\"fill: #f58518; opacity: 0.7;\"></path><path d=\"M241.51785714285717,19.63636363636364h8.035714285714286v20.36363636363636h-8.035714285714286Z\" style=\"fill: #f58518; opacity: 0.7;\"></path><path d=\"M250.44642857142858,20.363636363636363h8.035714285714286v19.636363636363637h-8.035714285714286Z\" style=\"fill: #f58518; opacity: 0.7;\"></path><path d=\"M259.375,21.09090909090909h8.035714285714286v18.90909090909091h-8.035714285714286Z\" style=\"fill: #f58518; opacity: 0.7;\"></path><path d=\"M268.30357142857144,21.81818181818182h8.035714285714286v18.18181818181818h-8.035714285714286Z\" style=\"fill: #f58518; opacity: 0.7;\"></path><path d=\"M277.2321428571429,22.545454545454547h8.035714285714286v17.454545454545453h-8.035714285714286Z\" style=\"fill: #f58518; opacity: 0.7;\"></path><path d=\"M286.16071428571433,23.272727272727273h8.035714285714286v16.727272727272727h-8.035714285714286Z\" style=\"fill: #f58518; opacity: 0.7;\"></path><path d=\"M295.0892857142858,24h8.035714285714286v16h-8.035714285714286Z\" style=\"fill: #f58518; opacity: 0.7;\"></path><path d=\"M304.0178571428571,24.727272727272727h8.035714285714286v15.272727272727273h-8.035714285714286Z\" style=\"fill: #f58518; opacity: 0.7;\"></path><path d=\"M312.94642857142856,25.454545454545453h8.035714285714286v14.545454545454547h-8.035714285714286Z\" style=\"fill: #f58518; opacity: 0.7;\"></path><path d=\"M321.875,26.18181818181818h8.035714285714286v13.81818181818182h-8.035714285714286Z\" style=\"fill: #f58518; opacity: 0.7;\"></path><path d=\"M330.80357142857144,26.90909090909091h8.035714285714286v13.09090909090909h-8.035714285714286Z\" style=\"fill: #f58518; opacity: 0.7;\"></path><path d=\"M339.7321428571429,27.636363636363637h8.035714285714286v12.363636363636363h-8.035714285714286Z\" style=\"fill: #f58518; opacity: 0.7;\"></path><path d=\"M348.66071428571433,28.363636363636363h8.035714285714286v11.636363636363637h-8.035714285714286Z\" style=\"fill: #f58518; opacity: 0.7;\"></path><path d=\"M357.5892857142858,29.090909090909093h8.035714285714286v10.909090909090907h-8.035714285714286Z\" style=\"fill: #f58518; opacity: 0.7;\"></path><path d=\"M366.5178571428571,29.81818181818182h8.035714285714286v10.18181818181818h-8.035714285714286Z\" style=\"fill: #f58518; opacity: 0.7;\"></path><path d=\"M375.44642857142856,30.545454545454547h8.035714285714286v9.454545454545453h-8.035714285714286Z\" style=\"fill: #f58518; opacity: 0.7;\"></path><path d=\"M384.375,31.272727272727273h8.035714285714286v8.727272727272727h-8.035714285714286Z\" style=\"fill: #f58518; opacity: 0.7;\"></path><path d=\"M393.30357142857144,32h8.035714285714286v8h-8.035714285714286Z\" style=\"fill: #f58518; opacity: 0.7;\"></path><path d=\"M402.2321428571429,32.72727272727273h8.035714285714286v7.272727272727273h-8.035714285714286Z\" style=\"fill: #f58518; opacity: 0.7;\"></path><path d=\"M411.16071428571433,33.45454545454545h8.035714285714286v6.545454545454547h-8.035714285714286Z\" style=\"fill: #f58518; opacity: 0.7;\"></path><path d=\"M420.0892857142858,34.18181818181818h8.035714285714286v5.81818181818182h-8.035714285714286Z\" style=\"fill: #f58518; opacity: 0.7;\"></path><path d=\"M429.0178571428571,34.90909090909091h8.035714285714286v5.0909090909090935h-8.035714285714286Z\" style=\"fill: #f58518; opacity: 0.7;\"></path><path d=\"M437.94642857142856,35.63636363636364h8.035714285714286v4.36363636363636h-8.035714285714286Z\" style=\"fill: #f58518; opacity: 0.7;\"></path><path d=\"M446.875,36.36363636363636h8.035714285714286v3.6363636363636402h-8.035714285714286Z\" style=\"fill: #f58518; opacity: 0.7;\"></path><path d=\"M455.80357142857144,37.09090909090909h8.035714285714286v2.9090909090909065h-8.035714285714286Z\" style=\"fill: #f58518; opacity: 0.7;\"></path><path d=\"M464.7321428571429,37.81818181818182h8.035714285714286v2.18181818181818h-8.035714285714286Z\" style=\"fill: #f58518; opacity: 0.7;\"></path><path d=\"M473.66071428571433,38.54545454545455h8.035714285714286v1.4545454545454533h-8.035714285714286Z\" style=\"fill: #f58518; opacity: 0.7;\"></path><path d=\"M482.5892857142858,39.27272727272727h8.035714285714286v0.7272727272727266h-8.035714285714286Z\" style=\"fill: #f58518; opacity: 0.7;\"></path><path d=\"M491.5178571428572,40h8.035714285714286v0h-8.035714285714286Z\" style=\"fill: #f58518; opacity: 0.7;\"></path><path d=\"M0.4464285714285836,0h8.035714285714286v40h-8.035714285714286Z\" style=\"fill: #4c78a8; opacity: 0.7;\"></path><path d=\"M9.375000000000012,0h8.035714285714286v40h-8.035714285714286Z\" style=\"fill: #4c78a8; opacity: 0.7;\"></path><path d=\"M18.30357142857144,0h8.035714285714286v40h-8.035714285714286Z\" style=\"fill: #4c78a8; opacity: 0.7;\"></path><path d=\"M27.23214285714287,0h8.035714285714286v40h-8.035714285714286Z\" style=\"fill: #4c78a8; opacity: 0.7;\"></path><path d=\"M36.1607142857143,0h8.035714285714286v40h-8.035714285714286Z\" style=\"fill: #4c78a8; opacity: 0.7;\"></path><path d=\"M45.08928571428573,0h8.035714285714286v40h-8.035714285714286Z\" style=\"fill: #4c78a8; opacity: 0.7;\"></path><path d=\"M54.01785714285715,0h8.035714285714286v40h-8.035714285714286Z\" style=\"fill: #4c78a8; opacity: 0.7;\"></path><path d=\"M62.946428571428584,40h8.035714285714286v0h-8.035714285714286Z\" style=\"fill: #4c78a8; opacity: 0.7;\"></path><path d=\"M71.87500000000001,0h8.035714285714286v40h-8.035714285714286Z\" style=\"fill: #4c78a8; opacity: 0.7;\"></path><path d=\"M80.80357142857144,0h8.035714285714286v40h-8.035714285714286Z\" style=\"fill: #4c78a8; opacity: 0.7;\"></path><path d=\"M89.73214285714288,0h8.035714285714286v40h-8.035714285714286Z\" style=\"fill: #4c78a8; opacity: 0.7;\"></path><path d=\"M98.6607142857143,0h8.035714285714286v40h-8.035714285714286Z\" style=\"fill: #4c78a8; opacity: 0.7;\"></path><path d=\"M107.58928571428572,0h8.035714285714286v40h-8.035714285714286Z\" style=\"fill: #4c78a8; opacity: 0.7;\"></path><path d=\"M116.51785714285715,40h8.035714285714286v0h-8.035714285714286Z\" style=\"fill: #4c78a8; opacity: 0.7;\"></path><path d=\"M125.44642857142858,0h8.035714285714286v40h-8.035714285714286Z\" style=\"fill: #4c78a8; opacity: 0.7;\"></path><path d=\"M134.37500000000003,0h8.035714285714286v40h-8.035714285714286Z\" style=\"fill: #4c78a8; opacity: 0.7;\"></path><path d=\"M143.30357142857144,0h8.035714285714286v40h-8.035714285714286Z\" style=\"fill: #4c78a8; opacity: 0.7;\"></path><path d=\"M152.23214285714286,40h8.035714285714286v0h-8.035714285714286Z\" style=\"fill: #4c78a8; opacity: 0.7;\"></path><path d=\"M161.1607142857143,0h8.035714285714286v40h-8.035714285714286Z\" style=\"fill: #4c78a8; opacity: 0.7;\"></path><path d=\"M170.08928571428572,0h8.035714285714286v40h-8.035714285714286Z\" style=\"fill: #4c78a8; opacity: 0.7;\"></path><path d=\"M179.01785714285717,40h8.035714285714286v0h-8.035714285714286Z\" style=\"fill: #4c78a8; opacity: 0.7;\"></path><path d=\"M187.94642857142858,0h8.035714285714286v40h-8.035714285714286Z\" style=\"fill: #4c78a8; opacity: 0.7;\"></path><path d=\"M196.87500000000003,40h8.035714285714286v0h-8.035714285714286Z\" style=\"fill: #4c78a8; opacity: 0.7;\"></path><path d=\"M205.80357142857144,0h8.035714285714286v40h-8.035714285714286Z\" style=\"fill: #4c78a8; opacity: 0.7;\"></path><path d=\"M214.73214285714286,0h8.035714285714286v40h-8.035714285714286Z\" style=\"fill: #4c78a8; opacity: 0.7;\"></path><path d=\"M223.6607142857143,40h8.035714285714286v0h-8.035714285714286Z\" style=\"fill: #4c78a8; opacity: 0.7;\"></path><path d=\"M232.58928571428572,0h8.035714285714286v40h-8.035714285714286Z\" style=\"fill: #4c78a8; opacity: 0.7;\"></path><path d=\"M241.51785714285717,40h8.035714285714286v0h-8.035714285714286Z\" style=\"fill: #4c78a8; opacity: 0.7;\"></path><path d=\"M250.44642857142858,0h8.035714285714286v40h-8.035714285714286Z\" style=\"fill: #4c78a8; opacity: 0.7;\"></path><path d=\"M259.375,40h8.035714285714286v0h-8.035714285714286Z\" style=\"fill: #4c78a8; opacity: 0.7;\"></path><path d=\"M268.30357142857144,0h8.035714285714286v40h-8.035714285714286Z\" style=\"fill: #4c78a8; opacity: 0.7;\"></path><path d=\"M277.2321428571429,40h8.035714285714286v0h-8.035714285714286Z\" style=\"fill: #4c78a8; opacity: 0.7;\"></path><path d=\"M286.16071428571433,40h8.035714285714286v0h-8.035714285714286Z\" style=\"fill: #4c78a8; opacity: 0.7;\"></path><path d=\"M295.0892857142858,0h8.035714285714286v40h-8.035714285714286Z\" style=\"fill: #4c78a8; opacity: 0.7;\"></path><path d=\"M304.0178571428571,40h8.035714285714286v0h-8.035714285714286Z\" style=\"fill: #4c78a8; opacity: 0.7;\"></path><path d=\"M312.94642857142856,0h8.035714285714286v40h-8.035714285714286Z\" style=\"fill: #4c78a8; opacity: 0.7;\"></path><path d=\"M321.875,40h8.035714285714286v0h-8.035714285714286Z\" style=\"fill: #4c78a8; opacity: 0.7;\"></path><path d=\"M330.80357142857144,40h8.035714285714286v0h-8.035714285714286Z\" style=\"fill: #4c78a8; opacity: 0.7;\"></path><path d=\"M339.7321428571429,0h8.035714285714286v40h-8.035714285714286Z\" style=\"fill: #4c78a8; opacity: 0.7;\"></path><path d=\"M348.66071428571433,40h8.035714285714286v0h-8.035714285714286Z\" style=\"fill: #4c78a8; opacity: 0.7;\"></path><path d=\"M357.5892857142858,40h8.035714285714286v0h-8.035714285714286Z\" style=\"fill: #4c78a8; opacity: 0.7;\"></path><path d=\"M366.5178571428571,40h8.035714285714286v0h-8.035714285714286Z\" style=\"fill: #4c78a8; opacity: 0.7;\"></path><path d=\"M375.44642857142856,0h8.035714285714286v40h-8.035714285714286Z\" style=\"fill: #4c78a8; opacity: 0.7;\"></path><path d=\"M384.375,40h8.035714285714286v0h-8.035714285714286Z\" style=\"fill: #4c78a8; opacity: 0.7;\"></path><path d=\"M393.30357142857144,40h8.035714285714286v0h-8.035714285714286Z\" style=\"fill: #4c78a8; opacity: 0.7;\"></path><path d=\"M402.2321428571429,40h8.035714285714286v0h-8.035714285714286Z\" style=\"fill: #4c78a8; opacity: 0.7;\"></path><path d=\"M411.16071428571433,40h8.035714285714286v0h-8.035714285714286Z\" style=\"fill: #4c78a8; opacity: 0.7;\"></path><path d=\"M420.0892857142858,40h8.035714285714286v0h-8.035714285714286Z\" style=\"fill: #4c78a8; opacity: 0.7;\"></path><path d=\"M429.0178571428571,0h8.035714285714286v40h-8.035714285714286Z\" style=\"fill: #4c78a8; opacity: 0.7;\"></path><path d=\"M437.94642857142856,40h8.035714285714286v0h-8.035714285714286Z\" style=\"fill: #4c78a8; opacity: 0.7;\"></path><path d=\"M446.875,40h8.035714285714286v0h-8.035714285714286Z\" style=\"fill: #4c78a8; opacity: 0.7;\"></path><path d=\"M455.80357142857144,40h8.035714285714286v0h-8.035714285714286Z\" style=\"fill: #4c78a8; opacity: 0.7;\"></path><path d=\"M464.7321428571429,40h8.035714285714286v0h-8.035714285714286Z\" style=\"fill: #4c78a8; opacity: 0.7;\"></path><path d=\"M473.66071428571433,40h8.035714285714286v0h-8.035714285714286Z\" style=\"fill: #4c78a8; opacity: 0.7;\"></path><path d=\"M482.5892857142858,40h8.035714285714286v0h-8.035714285714286Z\" style=\"fill: #4c78a8; opacity: 0.7;\"></path><path d=\"M491.5178571428572,40h8.035714285714286v0h-8.035714285714286Z\" style=\"fill: #4c78a8; opacity: 0.7;\"></path></g></g></g></g><g class=\"mark-group role-legend\"><g transform=\"translate(519,0)\"><path class=\"background\" d=\"M0,0h97v42h-97Z\" style=\"pointer-events: none; fill: none;\"></path><g><g class=\"mark-group role-legend-entry\"><g transform=\"translate(0,16)\"><path class=\"background\" d=\"M0,0h0v0h0Z\" style=\"pointer-events: none; fill: none;\"></path><g><g class=\"mark-group role-scope\"><g transform=\"translate(0,0)\"><path class=\"background\" d=\"M0,0h97v12h-97Z\" style=\"pointer-events: none; fill: none; opacity: 1;\"></path><g><g class=\"mark-symbol role-legend-symbol\" style=\"pointer-events: none;\"><path transform=\"translate(6,6)\" d=\"M-5,-5h10v10h-10Z\" style=\"fill: #4c78a8; stroke-width: 1.5; opacity: 0.7;\"></path></g><g class=\"mark-text role-legend-label\" style=\"pointer-events: none;\"><text text-anchor=\"start\" transform=\"translate(16,9)\" style=\"font-family: sans-serif; font-size: 10px; fill: #000; opacity: 1;\">binary</text></g></g></g><g transform=\"translate(0,14)\"><path class=\"background\" d=\"M0,0h97v12h-97Z\" style=\"pointer-events: none; fill: none; opacity: 1;\"></path><g><g class=\"mark-symbol role-legend-symbol\" style=\"pointer-events: none;\"><path transform=\"translate(6,6)\" d=\"M-5,-5h10v10h-10Z\" style=\"fill: #f58518; stroke-width: 1.5; opacity: 0.7;\"></path></g><g class=\"mark-text role-legend-label\" style=\"pointer-events: none;\"><text text-anchor=\"start\" transform=\"translate(16,9)\" style=\"font-family: sans-serif; font-size: 10px; fill: #000; opacity: 1;\">continuous</text></g></g></g></g></g></g></g><g class=\"mark-text role-legend-title\" style=\"pointer-events: none;\"><text text-anchor=\"start\" transform=\"translate(0,9)\" style=\"font-family: sans-serif; font-size: 11px; font-weight: bold; fill: #000; opacity: 1;\">mode</text></g></g></g></g></g></g></g></g></svg>"
      ],
      "text/plain": [
       "VegaLite.VLSpec{:plot}"
      ]
     },
     "execution_count": 228,
     "metadata": {},
     "output_type": "execute_result"
    }
   ],
   "source": [
    "@vlplot(\n",
    "    mark={:bar, opacity=0.7},\n",
    "    height=40, width=500, data=data,\n",
    "    x=\"day:o\", y={:v, stack=nothing}, row=\"num_days:n\", color=:mode\n",
    ")"
   ]
  },
  {
   "cell_type": "code",
   "execution_count": null,
   "metadata": {},
   "outputs": [],
   "source": []
  }
 ],
 "metadata": {
  "@webio": {
   "lastCommId": null,
   "lastKernelId": null
  },
  "kernelspec": {
   "display_name": "Julia 1.1.0",
   "language": "julia",
   "name": "julia-1.1"
  },
  "language_info": {
   "file_extension": ".jl",
   "mimetype": "application/julia",
   "name": "julia",
   "version": "1.1.0"
  },
  "nikola": {
   "category": "",
   "date": "2019-06-29 14:11:31 UTC+02:00",
   "description": "",
   "link": "",
   "slug": "sum-up-rounding-for-ramping-down-of-medication-intake",
   "tags": "",
   "title": "Sum-up Rounding for Ramping Down of Medication Intake",
   "type": "text"
  }
 },
 "nbformat": 4,
 "nbformat_minor": 2
}
